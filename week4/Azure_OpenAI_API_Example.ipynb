{
 "cells": [
  {
   "cell_type": "markdown",
   "metadata": {},
   "source": [
    "![Banner](img/AI_Special_Program_Banner.jpg)\n",
    "\n",
    "## Using the Azure OpenAI API with Langchain\n",
    "---"
   ]
  },
  {
   "cell_type": "code",
   "execution_count": 1,
   "metadata": {
    "ExecuteTime": {
     "end_time": "2024-02-02T14:26:12.008688Z",
     "start_time": "2024-02-02T14:26:10.888616Z"
    }
   },
   "outputs": [],
   "source": [
    "import torch\n",
    "from langchain.chat_models import AzureChatOpenAI\n",
    "from langchain.schema import HumanMessage\n",
    "\n",
    "import warnings\n",
    "warnings.filterwarnings('ignore')"
   ]
  },
  {
   "cell_type": "code",
   "execution_count": 2,
   "metadata": {
    "ExecuteTime": {
     "end_time": "2024-02-02T14:26:12.012792Z",
     "start_time": "2024-02-02T14:26:12.010394Z"
    }
   },
   "outputs": [],
   "source": [
    "azure_token = None\n",
    "azure_endpoint = None\n",
    "api_version = None\n",
    "\n",
    "with open(\"azure_settings\", \"r\") as settings_file:\n",
    "    for line in settings_file:\n",
    "        key, value = line.strip().split('=')\n",
    "        if key == \"azure_token\":\n",
    "            azure_token = value\n",
    "        elif key == \"azure_endpoint\":\n",
    "            azure_endpoint = value\n",
    "        elif key == \"api_version\":\n",
    "            api_version = value\n"
   ]
  },
  {
   "cell_type": "code",
   "execution_count": 3,
   "metadata": {
    "ExecuteTime": {
     "end_time": "2024-02-02T14:26:12.302135Z",
     "start_time": "2024-02-02T14:26:12.013125Z"
    },
    "collapsed": false,
    "jupyter": {
     "outputs_hidden": false
    }
   },
   "outputs": [],
   "source": [
    "# model option 1: GPT-4\n",
    "gpt4 = AzureChatOpenAI(\n",
    "    deployment_name=\"gpt-4\",\n",
    "    api_key=azure_token,\n",
    "    azure_endpoint=azure_endpoint,\n",
    "    openai_api_version=api_version\n",
    ")"
   ]
  },
  {
   "cell_type": "code",
   "execution_count": 4,
   "metadata": {
    "ExecuteTime": {
     "end_time": "2024-02-02T14:26:12.311857Z",
     "start_time": "2024-02-02T14:26:12.302988Z"
    },
    "collapsed": false,
    "jupyter": {
     "outputs_hidden": false
    }
   },
   "outputs": [],
   "source": [
    "# model option 2: GPT-3.5\n",
    "gpt35 = AzureChatOpenAI(\n",
    "    deployment_name=\"gpt-35-turbo\",\n",
    "    api_key=azure_token,\n",
    "    azure_endpoint=azure_endpoint,\n",
    "    openai_api_version=api_version\n",
    ")"
   ]
  },
  {
   "cell_type": "code",
   "execution_count": 5,
   "metadata": {
    "ExecuteTime": {
     "end_time": "2024-02-02T14:26:16.110258Z",
     "start_time": "2024-02-02T14:26:12.314929Z"
    },
    "collapsed": false,
    "jupyter": {
     "outputs_hidden": false
    }
   },
   "outputs": [
    {
     "data": {
      "text/plain": [
       "AIMessage(content=\"Travis Kelce is a professional American football player who plays as a tight end for the Kansas City Chiefs of the National Football League (NFL). He was drafted by the Chiefs in the third round of the 2013 NFL Draft and has since become one of the most productive tight ends in the league. Kelce is known for his athleticism, route running, and ability to make difficult catches. He was a key player in the Chiefs' Super Bowl LIV victory over the San Francisco 49ers.\")"
      ]
     },
     "execution_count": 5,
     "metadata": {},
     "output_type": "execute_result"
    }
   ],
   "source": [
    "message = HumanMessage(\n",
    "    content=\"Who is Travis Kelce?\"\n",
    ")\n",
    "gpt4([message])"
   ]
  },
  {
   "cell_type": "code",
   "execution_count": 6,
   "metadata": {
    "ExecuteTime": {
     "end_time": "2024-02-02T14:26:16.555521Z",
     "start_time": "2024-02-02T14:26:16.108525Z"
    },
    "collapsed": false,
    "jupyter": {
     "outputs_hidden": false
    }
   },
   "outputs": [
    {
     "data": {
      "text/plain": [
       "AIMessage(content='As of my last knowledge update, Travis Kelce is in a relationship with Kayla Nicole. However, relationships can change, so I recommend checking the latest news for the most current information.')"
      ]
     },
     "execution_count": 6,
     "metadata": {},
     "output_type": "execute_result"
    }
   ],
   "source": [
    "message = HumanMessage(\n",
    "    content=\"Who is Travis Kelce's girlfriend?\"\n",
    ")\n",
    "gpt35([message])"
   ]
  }
 ],
 "metadata": {
  "kernelspec": {
   "display_name": "Python 3 (ipykernel)",
   "language": "python",
   "name": "python3"
  },
  "language_info": {
   "codemirror_mode": {
    "name": "ipython",
    "version": 3
   },
   "file_extension": ".py",
   "mimetype": "text/x-python",
   "name": "python",
   "nbconvert_exporter": "python",
   "pygments_lexer": "ipython3",
   "version": "3.9.6"
  }
 },
 "nbformat": 4,
 "nbformat_minor": 4
}
