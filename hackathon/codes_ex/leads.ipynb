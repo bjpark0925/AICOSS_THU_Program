{
 "cells": [
  {
   "cell_type": "code",
   "execution_count": 2,
   "metadata": {},
   "outputs": [],
   "source": [
    "import numpy as np\n",
    "import pandas as pd\n",
    "import sklearn.model_selection as ms\n",
    "import sklearn.feature_extraction.text as text\n",
    "import sklearn.naive_bayes as nb\n",
    "import matplotlib.pyplot as plt"
   ]
  },
  {
   "cell_type": "code",
   "execution_count": 3,
   "metadata": {},
   "outputs": [
    {
     "name": "stderr",
     "output_type": "stream",
     "text": [
      "/tmp/ipykernel_1752/1140848873.py:1: DtypeWarning: Columns (2,9,11,22,23,46,47,48,49,56,59,66,105,109,114,117,120,126,127,128,140,141,143,144,145,158,167,168,174,175,176,178,180) have mixed types. Specify dtype option on import or set low_memory=False.\n",
      "  df = pd.read_csv('./leads.csv')\n"
     ]
    }
   ],
   "source": [
    "df = pd.read_csv('./leads.csv')"
   ]
  },
  {
   "cell_type": "code",
   "execution_count": 4,
   "metadata": {},
   "outputs": [
    {
     "data": {
      "text/html": [
       "<div>\n",
       "<style scoped>\n",
       "    .dataframe tbody tr th:only-of-type {\n",
       "        vertical-align: middle;\n",
       "    }\n",
       "\n",
       "    .dataframe tbody tr th {\n",
       "        vertical-align: top;\n",
       "    }\n",
       "\n",
       "    .dataframe thead th {\n",
       "        text-align: right;\n",
       "    }\n",
       "</style>\n",
       "<table border=\"1\" class=\"dataframe\">\n",
       "  <thead>\n",
       "    <tr style=\"text-align: right;\">\n",
       "      <th></th>\n",
       "      <th>Unnamed: 0</th>\n",
       "      <th>ObjectID</th>\n",
       "      <th>External_Key</th>\n",
       "      <th>Lead_ID</th>\n",
       "      <th>Name</th>\n",
       "      <th>Name_Language_Code</th>\n",
       "      <th>Name_Language_Code_Text</th>\n",
       "      <th>Account_Party_ID</th>\n",
       "      <th>Account_Party_UUID</th>\n",
       "      <th>Account_Party_External_Key</th>\n",
       "      <th>...</th>\n",
       "      <th>Priority_KUT</th>\n",
       "      <th>Priority_KUT_Text</th>\n",
       "      <th>Sealing_Demand_Amount__Currency</th>\n",
       "      <th>SEALS_TOTALcurrencyCode_KUT</th>\n",
       "      <th>SEALS_TOTALcurrencyCode_KUTText</th>\n",
       "      <th>Strategic_Indicator</th>\n",
       "      <th>VAT_Number</th>\n",
       "      <th>Dummy_Save</th>\n",
       "      <th>Yearly_budget</th>\n",
       "      <th>Yearly_budget_Text</th>\n",
       "    </tr>\n",
       "  </thead>\n",
       "  <tbody>\n",
       "    <tr>\n",
       "      <th>0</th>\n",
       "      <td>0</td>\n",
       "      <td>7916A100F2EC1EDE82EEECEAAF9DE336</td>\n",
       "      <td>NaN</td>\n",
       "      <td>99866.0</td>\n",
       "      <td>Member Registration Fluid Power Target Account</td>\n",
       "      <td>EN</td>\n",
       "      <td>English</td>\n",
       "      <td>78901</td>\n",
       "      <td>00163E1C-A7F7-1ED7-98F9-0A6990D3C559</td>\n",
       "      <td>NaN</td>\n",
       "      <td>...</td>\n",
       "      <td>121.0</td>\n",
       "      <td>Medium</td>\n",
       "      <td>0.0</td>\n",
       "      <td>NaN</td>\n",
       "      <td>NaN</td>\n",
       "      <td>NaN</td>\n",
       "      <td>True</td>\n",
       "      <td>False</td>\n",
       "      <td>NaN</td>\n",
       "      <td>NaN</td>\n",
       "    </tr>\n",
       "    <tr>\n",
       "      <th>1</th>\n",
       "      <td>1</td>\n",
       "      <td>7916A100F2EC1EDE82EEFF7365B0A7F5</td>\n",
       "      <td>NaN</td>\n",
       "      <td>99868.0</td>\n",
       "      <td>Web Request</td>\n",
       "      <td>EN</td>\n",
       "      <td>English</td>\n",
       "      <td>1465843</td>\n",
       "      <td>7916A100-F2EC-1EDE-82EE-FF7365B207F5</td>\n",
       "      <td>NaN</td>\n",
       "      <td>...</td>\n",
       "      <td>131.0</td>\n",
       "      <td>High</td>\n",
       "      <td>0.0</td>\n",
       "      <td>NaN</td>\n",
       "      <td>NaN</td>\n",
       "      <td>NaN</td>\n",
       "      <td>False</td>\n",
       "      <td>False</td>\n",
       "      <td>NaN</td>\n",
       "      <td>NaN</td>\n",
       "    </tr>\n",
       "    <tr>\n",
       "      <th>2</th>\n",
       "      <td>2</td>\n",
       "      <td>7916A100F2EC1EDE82EFCB3F06BEE459</td>\n",
       "      <td>NaN</td>\n",
       "      <td>99870.0</td>\n",
       "      <td>Electronic Catalog RfQ</td>\n",
       "      <td>EN</td>\n",
       "      <td>English</td>\n",
       "      <td>1465847</td>\n",
       "      <td>7916A100-F2EC-1EDE-82EF-CB3F06C04459</td>\n",
       "      <td>NaN</td>\n",
       "      <td>...</td>\n",
       "      <td>121.0</td>\n",
       "      <td>Medium</td>\n",
       "      <td>0.0</td>\n",
       "      <td>NaN</td>\n",
       "      <td>NaN</td>\n",
       "      <td>NaN</td>\n",
       "      <td>False</td>\n",
       "      <td>False</td>\n",
       "      <td>NaN</td>\n",
       "      <td>NaN</td>\n",
       "    </tr>\n",
       "    <tr>\n",
       "      <th>3</th>\n",
       "      <td>3</td>\n",
       "      <td>7916A100F2EC1EDE82F0BAB696DC7207</td>\n",
       "      <td>NaN</td>\n",
       "      <td>99911.0</td>\n",
       "      <td>Member Registration</td>\n",
       "      <td>EN</td>\n",
       "      <td>English</td>\n",
       "      <td>73156</td>\n",
       "      <td>00163E1C-A7F7-1ED7-98F9-634D2686B44B</td>\n",
       "      <td>NaN</td>\n",
       "      <td>...</td>\n",
       "      <td>121.0</td>\n",
       "      <td>Medium</td>\n",
       "      <td>0.0</td>\n",
       "      <td>NaN</td>\n",
       "      <td>NaN</td>\n",
       "      <td>NaN</td>\n",
       "      <td>False</td>\n",
       "      <td>False</td>\n",
       "      <td>NaN</td>\n",
       "      <td>NaN</td>\n",
       "    </tr>\n",
       "    <tr>\n",
       "      <th>4</th>\n",
       "      <td>4</td>\n",
       "      <td>7916A100F2EC1EDE82F0D6D9EAA5BDA7</td>\n",
       "      <td>NaN</td>\n",
       "      <td>99912.0</td>\n",
       "      <td>Sealing Solutions Configurator RFQ</td>\n",
       "      <td>EN</td>\n",
       "      <td>English</td>\n",
       "      <td>1465880</td>\n",
       "      <td>7916A100-F2EC-1EDE-82F0-D6D9EAA71DA7</td>\n",
       "      <td>NaN</td>\n",
       "      <td>...</td>\n",
       "      <td>121.0</td>\n",
       "      <td>Medium</td>\n",
       "      <td>0.0</td>\n",
       "      <td>NaN</td>\n",
       "      <td>NaN</td>\n",
       "      <td>NaN</td>\n",
       "      <td>False</td>\n",
       "      <td>False</td>\n",
       "      <td>NaN</td>\n",
       "      <td>NaN</td>\n",
       "    </tr>\n",
       "  </tbody>\n",
       "</table>\n",
       "<p>5 rows × 181 columns</p>\n",
       "</div>"
      ],
      "text/plain": [
       "   Unnamed: 0                          ObjectID External_Key  Lead_ID  \\\n",
       "0           0  7916A100F2EC1EDE82EEECEAAF9DE336          NaN  99866.0   \n",
       "1           1  7916A100F2EC1EDE82EEFF7365B0A7F5          NaN  99868.0   \n",
       "2           2  7916A100F2EC1EDE82EFCB3F06BEE459          NaN  99870.0   \n",
       "3           3  7916A100F2EC1EDE82F0BAB696DC7207          NaN  99911.0   \n",
       "4           4  7916A100F2EC1EDE82F0D6D9EAA5BDA7          NaN  99912.0   \n",
       "\n",
       "                                             Name Name_Language_Code  \\\n",
       "0  Member Registration Fluid Power Target Account                 EN   \n",
       "1                                     Web Request                 EN   \n",
       "2                          Electronic Catalog RfQ                 EN   \n",
       "3                             Member Registration                 EN   \n",
       "4              Sealing Solutions Configurator RFQ                 EN   \n",
       "\n",
       "  Name_Language_Code_Text Account_Party_ID  \\\n",
       "0                 English            78901   \n",
       "1                 English          1465843   \n",
       "2                 English          1465847   \n",
       "3                 English            73156   \n",
       "4                 English          1465880   \n",
       "\n",
       "                     Account_Party_UUID Account_Party_External_Key  ...  \\\n",
       "0  00163E1C-A7F7-1ED7-98F9-0A6990D3C559                        NaN  ...   \n",
       "1  7916A100-F2EC-1EDE-82EE-FF7365B207F5                        NaN  ...   \n",
       "2  7916A100-F2EC-1EDE-82EF-CB3F06C04459                        NaN  ...   \n",
       "3  00163E1C-A7F7-1ED7-98F9-634D2686B44B                        NaN  ...   \n",
       "4  7916A100-F2EC-1EDE-82F0-D6D9EAA71DA7                        NaN  ...   \n",
       "\n",
       "  Priority_KUT Priority_KUT_Text Sealing_Demand_Amount__Currency  \\\n",
       "0        121.0            Medium                             0.0   \n",
       "1        131.0              High                             0.0   \n",
       "2        121.0            Medium                             0.0   \n",
       "3        121.0            Medium                             0.0   \n",
       "4        121.0            Medium                             0.0   \n",
       "\n",
       "  SEALS_TOTALcurrencyCode_KUT SEALS_TOTALcurrencyCode_KUTText  \\\n",
       "0                         NaN                             NaN   \n",
       "1                         NaN                             NaN   \n",
       "2                         NaN                             NaN   \n",
       "3                         NaN                             NaN   \n",
       "4                         NaN                             NaN   \n",
       "\n",
       "   Strategic_Indicator  VAT_Number  Dummy_Save  Yearly_budget  \\\n",
       "0                  NaN        True       False            NaN   \n",
       "1                  NaN       False       False            NaN   \n",
       "2                  NaN       False       False            NaN   \n",
       "3                  NaN       False       False            NaN   \n",
       "4                  NaN       False       False            NaN   \n",
       "\n",
       "   Yearly_budget_Text  \n",
       "0                 NaN  \n",
       "1                 NaN  \n",
       "2                 NaN  \n",
       "3                 NaN  \n",
       "4                 NaN  \n",
       "\n",
       "[5 rows x 181 columns]"
      ]
     },
     "execution_count": 4,
     "metadata": {},
     "output_type": "execute_result"
    }
   ],
   "source": [
    "df.head()"
   ]
  },
  {
   "cell_type": "code",
   "execution_count": 5,
   "metadata": {},
   "outputs": [
    {
     "data": {
      "text/plain": [
       "0        IT\n",
       "1        US\n",
       "2        GB\n",
       "3        DE\n",
       "4        CN\n",
       "         ..\n",
       "86239    IN\n",
       "86240    IN\n",
       "86241    IN\n",
       "86242    IN\n",
       "86243    CN\n",
       "Name: Customer_Information_Country, Length: 86244, dtype: object"
      ]
     },
     "execution_count": 5,
     "metadata": {},
     "output_type": "execute_result"
    }
   ],
   "source": [
    "df['Customer_Information_Country']"
   ]
  },
  {
   "cell_type": "code",
   "execution_count": 6,
   "metadata": {},
   "outputs": [
    {
     "data": {
      "text/plain": [
       "0                 Italy\n",
       "1         United States\n",
       "2        United Kingdom\n",
       "3               Germany\n",
       "4                 China\n",
       "              ...      \n",
       "86239             India\n",
       "86240             India\n",
       "86241             India\n",
       "86242             India\n",
       "86243             China\n",
       "Name: Customer_Information_Country_Text, Length: 86244, dtype: object"
      ]
     },
     "execution_count": 6,
     "metadata": {},
     "output_type": "execute_result"
    }
   ],
   "source": [
    "df['Customer_Information_Country_Text']"
   ]
  },
  {
   "cell_type": "code",
   "execution_count": 7,
   "metadata": {},
   "outputs": [
    {
     "name": "stderr",
     "output_type": "stream",
     "text": [
      "/tmp/ipykernel_1752/1492482010.py:1: DtypeWarning: Columns (4) have mixed types. Specify dtype option on import or set low_memory=False.\n",
      "  df1 = pd.read_csv('./lead_notes.csv')\n"
     ]
    }
   ],
   "source": [
    "df1 = pd.read_csv('./lead_notes.csv')"
   ]
  },
  {
   "cell_type": "code",
   "execution_count": 8,
   "metadata": {},
   "outputs": [
    {
     "data": {
      "text/html": [
       "<div>\n",
       "<style scoped>\n",
       "    .dataframe tbody tr th:only-of-type {\n",
       "        vertical-align: middle;\n",
       "    }\n",
       "\n",
       "    .dataframe tbody tr th {\n",
       "        vertical-align: top;\n",
       "    }\n",
       "\n",
       "    .dataframe thead th {\n",
       "        text-align: right;\n",
       "    }\n",
       "</style>\n",
       "<table border=\"1\" class=\"dataframe\">\n",
       "  <thead>\n",
       "    <tr style=\"text-align: right;\">\n",
       "      <th></th>\n",
       "      <th>Unnamed: 0</th>\n",
       "      <th>ObjectID</th>\n",
       "      <th>ParentObjectID</th>\n",
       "      <th>HeaderObjectID</th>\n",
       "      <th>External_Key</th>\n",
       "      <th>LeadExternalKey</th>\n",
       "      <th>ID</th>\n",
       "      <th>Text</th>\n",
       "      <th>Language_Code</th>\n",
       "      <th>Language_Code_Text</th>\n",
       "      <th>Type_Code</th>\n",
       "      <th>Type_Code_Text</th>\n",
       "      <th>Author_UUID</th>\n",
       "      <th>Author_Name</th>\n",
       "      <th>Created_On</th>\n",
       "      <th>Updated_On</th>\n",
       "    </tr>\n",
       "  </thead>\n",
       "  <tbody>\n",
       "    <tr>\n",
       "      <th>0</th>\n",
       "      <td>0</td>\n",
       "      <td>00163E092ED91ED79BC7DE7E5035E3A4</td>\n",
       "      <td>00163E092ED91EE79BC68E614A7D7360</td>\n",
       "      <td>00163E092ED91EE79BC68E614A7D7360</td>\n",
       "      <td>NaN</td>\n",
       "      <td>NaN</td>\n",
       "      <td>3</td>\n",
       "      <td>\\n\\nFirst name: Contact_First_Name\\nLast name...</td>\n",
       "      <td>NaN</td>\n",
       "      <td>NaN</td>\n",
       "      <td>10001</td>\n",
       "      <td>Additional External Comment</td>\n",
       "      <td>NaN</td>\n",
       "      <td>NaN</td>\n",
       "      <td>2017-07-21T18:03:52.399Z</td>\n",
       "      <td>2017-08-18T20:29:58.887Z</td>\n",
       "    </tr>\n",
       "    <tr>\n",
       "      <th>1</th>\n",
       "      <td>1</td>\n",
       "      <td>00163E092ED91ED79BDD832BF8C574AC</td>\n",
       "      <td>00163E092ED91ED79BDD7C0FDE76743F</td>\n",
       "      <td>00163E092ED91ED79BDD7C0FDE76743F</td>\n",
       "      <td>NaN</td>\n",
       "      <td>NaN</td>\n",
       "      <td>4</td>\n",
       "      <td>Customer Emailed Matt Cole regarding a new hig...</td>\n",
       "      <td>NaN</td>\n",
       "      <td>NaN</td>\n",
       "      <td>10001</td>\n",
       "      <td>Additional External Comment</td>\n",
       "      <td>NaN</td>\n",
       "      <td>NaN</td>\n",
       "      <td>2017-07-22T14:43:30.887Z</td>\n",
       "      <td>2017-07-22T14:43:30.887Z</td>\n",
       "    </tr>\n",
       "    <tr>\n",
       "      <th>2</th>\n",
       "      <td>2</td>\n",
       "      <td>00163E092ED91ED79CA7A3C9C79E553F</td>\n",
       "      <td>00163E092ED91ED79CA798C00B9074B9</td>\n",
       "      <td>00163E092ED91ED79CA798C00B9074B9</td>\n",
       "      <td>NaN</td>\n",
       "      <td>NaN</td>\n",
       "      <td>6</td>\n",
       "      <td>Name: Contact_First_Name Contact_Last_Name\\nEm...</td>\n",
       "      <td>NaN</td>\n",
       "      <td>NaN</td>\n",
       "      <td>10001</td>\n",
       "      <td>Additional External Comment</td>\n",
       "      <td>NaN</td>\n",
       "      <td>NaN</td>\n",
       "      <td>2017-07-25T13:28:51.040Z</td>\n",
       "      <td>2017-07-25T13:28:51.040Z</td>\n",
       "    </tr>\n",
       "    <tr>\n",
       "      <th>3</th>\n",
       "      <td>3</td>\n",
       "      <td>00163E092ED91ED79CAD69538C560B17</td>\n",
       "      <td>00163E092ED91ED79CAD62F1CEB62AFC</td>\n",
       "      <td>00163E092ED91ED79CAD62F1CEB62AFC</td>\n",
       "      <td>NaN</td>\n",
       "      <td>NaN</td>\n",
       "      <td>11</td>\n",
       "      <td>First name: Contact_First_Name\\nLast name: Con...</td>\n",
       "      <td>NaN</td>\n",
       "      <td>NaN</td>\n",
       "      <td>10001</td>\n",
       "      <td>Additional External Comment</td>\n",
       "      <td>NaN</td>\n",
       "      <td>NaN</td>\n",
       "      <td>2017-07-25T18:59:15.192Z</td>\n",
       "      <td>2017-07-25T18:59:15.192Z</td>\n",
       "    </tr>\n",
       "    <tr>\n",
       "      <th>4</th>\n",
       "      <td>4</td>\n",
       "      <td>00163E092ED91ED79CAD85F06B374C20</td>\n",
       "      <td>00163E092ED91ED79CAD80EB7D72EBFB</td>\n",
       "      <td>00163E092ED91ED79CAD80EB7D72EBFB</td>\n",
       "      <td>NaN</td>\n",
       "      <td>NaN</td>\n",
       "      <td>12</td>\n",
       "      <td>8/1/2017: sent customer to a distributor\\n\\nMe...</td>\n",
       "      <td>NaN</td>\n",
       "      <td>NaN</td>\n",
       "      <td>10001</td>\n",
       "      <td>Additional External Comment</td>\n",
       "      <td>NaN</td>\n",
       "      <td>NaN</td>\n",
       "      <td>2017-07-25T19:05:41.913Z</td>\n",
       "      <td>2017-08-01T16:46:57.137Z</td>\n",
       "    </tr>\n",
       "    <tr>\n",
       "      <th>...</th>\n",
       "      <td>...</td>\n",
       "      <td>...</td>\n",
       "      <td>...</td>\n",
       "      <td>...</td>\n",
       "      <td>...</td>\n",
       "      <td>...</td>\n",
       "      <td>...</td>\n",
       "      <td>...</td>\n",
       "      <td>...</td>\n",
       "      <td>...</td>\n",
       "      <td>...</td>\n",
       "      <td>...</td>\n",
       "      <td>...</td>\n",
       "      <td>...</td>\n",
       "      <td>...</td>\n",
       "      <td>...</td>\n",
       "    </tr>\n",
       "    <tr>\n",
       "      <th>134788</th>\n",
       "      <td>134788</td>\n",
       "      <td>00163EAB60CB1EDB95B7C08073DE7B09</td>\n",
       "      <td>00163EAB60CB1EDB95B7C00FB8FF7B07</td>\n",
       "      <td>00163EAB60CB1EDB95B7C00FB8FF7B07</td>\n",
       "      <td>NaN</td>\n",
       "      <td>NaN</td>\n",
       "      <td>40495</td>\n",
       "      <td>Bonjour Madame, Monsieur,\\n\\nVous êtes un four...</td>\n",
       "      <td>NaN</td>\n",
       "      <td>NaN</td>\n",
       "      <td>10001</td>\n",
       "      <td>Additional External Comment</td>\n",
       "      <td>NaN</td>\n",
       "      <td>NaN</td>\n",
       "      <td>2021-01-13T16:40:17.268Z</td>\n",
       "      <td>2021-01-13T16:40:17.268Z</td>\n",
       "    </tr>\n",
       "    <tr>\n",
       "      <th>134789</th>\n",
       "      <td>134789</td>\n",
       "      <td>00163EAB60CB1EDB95BE533563542062</td>\n",
       "      <td>00163EAB60CB1EDB95BE52A23EF0E061</td>\n",
       "      <td>00163EAB60CB1EDB95BE52A23EF0E061</td>\n",
       "      <td>NaN</td>\n",
       "      <td>NaN</td>\n",
       "      <td>40500</td>\n",
       "      <td>お世話になります。\\n現在、圧力容器の撹拌機に使用している回転軸シールの変更を検討しておりま...</td>\n",
       "      <td>NaN</td>\n",
       "      <td>NaN</td>\n",
       "      <td>10001</td>\n",
       "      <td>Additional External Comment</td>\n",
       "      <td>NaN</td>\n",
       "      <td>NaN</td>\n",
       "      <td>2021-01-13T22:56:42.284Z</td>\n",
       "      <td>2021-01-13T22:56:42.284Z</td>\n",
       "    </tr>\n",
       "    <tr>\n",
       "      <th>134790</th>\n",
       "      <td>134790</td>\n",
       "      <td>00163EAB60CB1EDB95CB9164ED7D6541</td>\n",
       "      <td>00163EAB60CB1EDB95CB90C70662A541</td>\n",
       "      <td>00163EAB60CB1EDB95CB90C70662A541</td>\n",
       "      <td>NaN</td>\n",
       "      <td>NaN</td>\n",
       "      <td>40521</td>\n",
       "      <td>Hi i want to buy seal with code \\nPsk301800-T4...</td>\n",
       "      <td>NaN</td>\n",
       "      <td>NaN</td>\n",
       "      <td>10001</td>\n",
       "      <td>Additional External Comment</td>\n",
       "      <td>NaN</td>\n",
       "      <td>NaN</td>\n",
       "      <td>2021-01-14T11:35:04.519Z</td>\n",
       "      <td>2021-01-14T11:35:04.519Z</td>\n",
       "    </tr>\n",
       "    <tr>\n",
       "      <th>134791</th>\n",
       "      <td>134791</td>\n",
       "      <td>00163EAB60CB1EDB95CC0DB9F2F6E7F4</td>\n",
       "      <td>00163EAB60CB1EDB95CC0D08E80EE7F4</td>\n",
       "      <td>00163EAB60CB1EDB95CC0D08E80EE7F4</td>\n",
       "      <td>NaN</td>\n",
       "      <td>NaN</td>\n",
       "      <td>40522</td>\n",
       "      <td>Me pongo en contacto con vosotros para solicit...</td>\n",
       "      <td>NaN</td>\n",
       "      <td>NaN</td>\n",
       "      <td>10001</td>\n",
       "      <td>Additional External Comment</td>\n",
       "      <td>NaN</td>\n",
       "      <td>NaN</td>\n",
       "      <td>2021-01-14T12:02:53.183Z</td>\n",
       "      <td>2021-01-14T12:02:53.183Z</td>\n",
       "    </tr>\n",
       "    <tr>\n",
       "      <th>134792</th>\n",
       "      <td>134792</td>\n",
       "      <td>00163EAB60CB1EDB95CC26E1C037C874</td>\n",
       "      <td>00163EAB60CB1EDB95CC266216A8A874</td>\n",
       "      <td>00163EAB60CB1EDB95CC266216A8A874</td>\n",
       "      <td>NaN</td>\n",
       "      <td>NaN</td>\n",
       "      <td>40523</td>\n",
       "      <td>test\\n This request comes from Account type: C...</td>\n",
       "      <td>NaN</td>\n",
       "      <td>NaN</td>\n",
       "      <td>10001</td>\n",
       "      <td>Additional External Comment</td>\n",
       "      <td>NaN</td>\n",
       "      <td>NaN</td>\n",
       "      <td>2021-01-14T12:08:31.334Z</td>\n",
       "      <td>2021-01-14T12:08:31.334Z</td>\n",
       "    </tr>\n",
       "  </tbody>\n",
       "</table>\n",
       "<p>134793 rows × 16 columns</p>\n",
       "</div>"
      ],
      "text/plain": [
       "        Unnamed: 0                          ObjectID  \\\n",
       "0                0  00163E092ED91ED79BC7DE7E5035E3A4   \n",
       "1                1  00163E092ED91ED79BDD832BF8C574AC   \n",
       "2                2  00163E092ED91ED79CA7A3C9C79E553F   \n",
       "3                3  00163E092ED91ED79CAD69538C560B17   \n",
       "4                4  00163E092ED91ED79CAD85F06B374C20   \n",
       "...            ...                               ...   \n",
       "134788      134788  00163EAB60CB1EDB95B7C08073DE7B09   \n",
       "134789      134789  00163EAB60CB1EDB95BE533563542062   \n",
       "134790      134790  00163EAB60CB1EDB95CB9164ED7D6541   \n",
       "134791      134791  00163EAB60CB1EDB95CC0DB9F2F6E7F4   \n",
       "134792      134792  00163EAB60CB1EDB95CC26E1C037C874   \n",
       "\n",
       "                          ParentObjectID                    HeaderObjectID  \\\n",
       "0       00163E092ED91EE79BC68E614A7D7360  00163E092ED91EE79BC68E614A7D7360   \n",
       "1       00163E092ED91ED79BDD7C0FDE76743F  00163E092ED91ED79BDD7C0FDE76743F   \n",
       "2       00163E092ED91ED79CA798C00B9074B9  00163E092ED91ED79CA798C00B9074B9   \n",
       "3       00163E092ED91ED79CAD62F1CEB62AFC  00163E092ED91ED79CAD62F1CEB62AFC   \n",
       "4       00163E092ED91ED79CAD80EB7D72EBFB  00163E092ED91ED79CAD80EB7D72EBFB   \n",
       "...                                  ...                               ...   \n",
       "134788  00163EAB60CB1EDB95B7C00FB8FF7B07  00163EAB60CB1EDB95B7C00FB8FF7B07   \n",
       "134789  00163EAB60CB1EDB95BE52A23EF0E061  00163EAB60CB1EDB95BE52A23EF0E061   \n",
       "134790  00163EAB60CB1EDB95CB90C70662A541  00163EAB60CB1EDB95CB90C70662A541   \n",
       "134791  00163EAB60CB1EDB95CC0D08E80EE7F4  00163EAB60CB1EDB95CC0D08E80EE7F4   \n",
       "134792  00163EAB60CB1EDB95CC266216A8A874  00163EAB60CB1EDB95CC266216A8A874   \n",
       "\n",
       "       External_Key LeadExternalKey     ID  \\\n",
       "0               NaN             NaN      3   \n",
       "1               NaN             NaN      4   \n",
       "2               NaN             NaN      6   \n",
       "3               NaN             NaN     11   \n",
       "4               NaN             NaN     12   \n",
       "...             ...             ...    ...   \n",
       "134788          NaN             NaN  40495   \n",
       "134789          NaN             NaN  40500   \n",
       "134790          NaN             NaN  40521   \n",
       "134791          NaN             NaN  40522   \n",
       "134792          NaN             NaN  40523   \n",
       "\n",
       "                                                     Text  Language_Code  \\\n",
       "0        \\n\\nFirst name: Contact_First_Name\\nLast name...            NaN   \n",
       "1       Customer Emailed Matt Cole regarding a new hig...            NaN   \n",
       "2       Name: Contact_First_Name Contact_Last_Name\\nEm...            NaN   \n",
       "3       First name: Contact_First_Name\\nLast name: Con...            NaN   \n",
       "4       8/1/2017: sent customer to a distributor\\n\\nMe...            NaN   \n",
       "...                                                   ...            ...   \n",
       "134788  Bonjour Madame, Monsieur,\\n\\nVous êtes un four...            NaN   \n",
       "134789  お世話になります。\\n現在、圧力容器の撹拌機に使用している回転軸シールの変更を検討しておりま...            NaN   \n",
       "134790  Hi i want to buy seal with code \\nPsk301800-T4...            NaN   \n",
       "134791  Me pongo en contacto con vosotros para solicit...            NaN   \n",
       "134792  test\\n This request comes from Account type: C...            NaN   \n",
       "\n",
       "        Language_Code_Text  Type_Code               Type_Code_Text  \\\n",
       "0                      NaN      10001  Additional External Comment   \n",
       "1                      NaN      10001  Additional External Comment   \n",
       "2                      NaN      10001  Additional External Comment   \n",
       "3                      NaN      10001  Additional External Comment   \n",
       "4                      NaN      10001  Additional External Comment   \n",
       "...                    ...        ...                          ...   \n",
       "134788                 NaN      10001  Additional External Comment   \n",
       "134789                 NaN      10001  Additional External Comment   \n",
       "134790                 NaN      10001  Additional External Comment   \n",
       "134791                 NaN      10001  Additional External Comment   \n",
       "134792                 NaN      10001  Additional External Comment   \n",
       "\n",
       "        Author_UUID  Author_Name                Created_On  \\\n",
       "0               NaN          NaN  2017-07-21T18:03:52.399Z   \n",
       "1               NaN          NaN  2017-07-22T14:43:30.887Z   \n",
       "2               NaN          NaN  2017-07-25T13:28:51.040Z   \n",
       "3               NaN          NaN  2017-07-25T18:59:15.192Z   \n",
       "4               NaN          NaN  2017-07-25T19:05:41.913Z   \n",
       "...             ...          ...                       ...   \n",
       "134788          NaN          NaN  2021-01-13T16:40:17.268Z   \n",
       "134789          NaN          NaN  2021-01-13T22:56:42.284Z   \n",
       "134790          NaN          NaN  2021-01-14T11:35:04.519Z   \n",
       "134791          NaN          NaN  2021-01-14T12:02:53.183Z   \n",
       "134792          NaN          NaN  2021-01-14T12:08:31.334Z   \n",
       "\n",
       "                      Updated_On  \n",
       "0       2017-08-18T20:29:58.887Z  \n",
       "1       2017-07-22T14:43:30.887Z  \n",
       "2       2017-07-25T13:28:51.040Z  \n",
       "3       2017-07-25T18:59:15.192Z  \n",
       "4       2017-08-01T16:46:57.137Z  \n",
       "...                          ...  \n",
       "134788  2021-01-13T16:40:17.268Z  \n",
       "134789  2021-01-13T22:56:42.284Z  \n",
       "134790  2021-01-14T11:35:04.519Z  \n",
       "134791  2021-01-14T12:02:53.183Z  \n",
       "134792  2021-01-14T12:08:31.334Z  \n",
       "\n",
       "[134793 rows x 16 columns]"
      ]
     },
     "execution_count": 8,
     "metadata": {},
     "output_type": "execute_result"
    }
   ],
   "source": [
    "df1"
   ]
  },
  {
   "cell_type": "code",
   "execution_count": 9,
   "metadata": {},
   "outputs": [
    {
     "data": {
      "text/plain": [
       "ParentObjectID\n",
       "00163EAB607F1EDB9789F3410906BFCE    17\n",
       "00163EA0BE2E1EDAB4CBD9FAEAB87188    17\n",
       "00163E7A68331ED994AB58D74F377370    16\n",
       "00163EAB61D31EDC8FCFC6F75A35AE15    16\n",
       "00163EAB61A41EEB89BEC7CBCB490234    16\n",
       "                                    ..\n",
       "00163EAB62291EEBAFED836B9E2CA285     1\n",
       "00163EAB62291EEBAFF00AD94F092B53     1\n",
       "00163EAB62291EDBAFF4826149333E70     1\n",
       "00163EAB61BB1EDBAFF52165C305874E     1\n",
       "00163EAB60CB1EDB95CC266216A8A874     1\n",
       "Name: count, Length: 78759, dtype: int64"
      ]
     },
     "execution_count": 9,
     "metadata": {},
     "output_type": "execute_result"
    }
   ],
   "source": [
    "df1['ParentObjectID'].value_counts()"
   ]
  },
  {
   "cell_type": "code",
   "execution_count": 10,
   "metadata": {},
   "outputs": [
    {
     "data": {
      "text/plain": [
       "32819     手術支援ロボットの関節部用シールの引合い獲得し、フェイスタイプの回転シール（ベアリングのグリ...\n",
       "33197     ・顧客要求：小型化、低フリクション、耐久性\\n・TSSの製品、提案内容：バリシール\\n・競合...\n",
       "33792     ・引き合い内容：手術支援ロボットの関節部用シール\\n・顧客要求：小型化、低フリクション、耐久...\n",
       "34148     ・顧客要求：小型化、低フリクション、耐久性\\n・TSSの製品、提案内容：バリシール\\n・競合...\n",
       "34929          6月に顧客訪問する予定、\\nその際に顧客の需要を確認するうえ、製品の提案をする予定です。\n",
       "51696     ・顧客要求：小型化、低フリクション、耐久性\\n・TSSの製品、提案内容：バリシール\\n・競合...\n",
       "51902     ・顧客要求：小型化、低フリクション、耐久性\\n・TSSの製品、提案内容：バリシール\\n・競合...\n",
       "62936     ・顧客要求：小型化、低フリクション、耐久性\\n・TSSの製品、提案内容：バリシール\\n・競合...\n",
       "65507     ・顧客要求：小型化、低フリクション、耐久性\\n・TSSの製品、提案内容：バリシール\\n・競合...\n",
       "65574     ・顧客要求：小型化、低フリクション、耐久性\\n・TSSの製品、提案内容：バリシール\\n・競合...\n",
       "100276    ・引き合い内容：手術支援ロボットの関節部用シール\\n・顧客要求：小型化、低フリクション、耐久...\n",
       "110745    ・引き合い内容：手術支援ロボットの関節部用シール\\n・顧客要求：小型化、低フリクション、耐久...\n",
       "112520    ・引き合い内容：手術支援ロボットの関節部用シール\\n・顧客要求：小型化、低フリクション、耐久...\n",
       "112682    ・引き合い内容：手術支援ロボットの関節部用シール\\n・顧客要求：小型化、低フリクション、耐久...\n",
       "115537    ・引き合い内容：手術支援ロボットの関節部用シール\\n・顧客要求：小型化、低フリクション、耐久...\n",
       "119341    ・引き合い内容：手術支援ロボットの関節部用シール\\n・顧客要求：小型化、低フリクション、耐久...\n",
       "120033    ・引き合い内容：手術支援ロボットの関節部用シール\\n・顧客要求：小型化、低フリクション、耐久...\n",
       "Name: Text, dtype: object"
      ]
     },
     "execution_count": 10,
     "metadata": {},
     "output_type": "execute_result"
    }
   ],
   "source": [
    "mask = df1['ParentObjectID'] == '00163EAB607F1EDB9789F3410906BFCE'\n",
    "df1[mask].Text"
   ]
  },
  {
   "cell_type": "code",
   "execution_count": 11,
   "metadata": {},
   "outputs": [
    {
     "data": {
      "text/plain": [
       "'・引き合い内容：手術支援ロボットの関節部用シール\\n・顧客要求：小型化、低フリクション、耐久性\\n・TSSの製品、提案内容：バリシール\\n・競合、競合製品、提案内容：国内メーカー\\n・TSS提案内容：バリシール\\n・提案理由：フェイスタイプの回転シール（ベアリングのグリス用）\\n・進捗：コスト重視のため、スポンジ系の材料を使用したシールを評価中。問題が出たら、バリシールを検討いただける。現状、進展なし'"
      ]
     },
     "execution_count": 11,
     "metadata": {},
     "output_type": "execute_result"
    }
   ],
   "source": [
    "df1.Text.iloc[120033]"
   ]
  },
  {
   "cell_type": "code",
   "execution_count": 12,
   "metadata": {},
   "outputs": [
    {
     "data": {
      "text/plain": [
       "'・引き合い内容：手術支援ロボットの関節部用シール\\n・顧客要求：小型化、低フリクション、耐久性\\n・TSSの製品、提案内容：バリシール\\n・競合、競合製品、提案内容：国内メーカー\\n・TSS提案内容：バリシール\\n・提案理由：フェイスタイプの回転シール（ベアリングのグリス用）\\n・進捗：コスト重視のため、スポンジ系の材料を使用したシールを評価中。問題が出たら、バリシールを検討いただける。現状、進展なし'"
      ]
     },
     "execution_count": 12,
     "metadata": {},
     "output_type": "execute_result"
    }
   ],
   "source": [
    "df1.Text.iloc[119341]"
   ]
  },
  {
   "cell_type": "code",
   "execution_count": 13,
   "metadata": {},
   "outputs": [],
   "source": [
    "df2 = pd.read_csv('./Short_leads.csv')"
   ]
  },
  {
   "cell_type": "code",
   "execution_count": 14,
   "metadata": {},
   "outputs": [
    {
     "data": {
      "text/html": [
       "<div>\n",
       "<style scoped>\n",
       "    .dataframe tbody tr th:only-of-type {\n",
       "        vertical-align: middle;\n",
       "    }\n",
       "\n",
       "    .dataframe tbody tr th {\n",
       "        vertical-align: top;\n",
       "    }\n",
       "\n",
       "    .dataframe thead th {\n",
       "        text-align: right;\n",
       "    }\n",
       "</style>\n",
       "<table border=\"1\" class=\"dataframe\">\n",
       "  <thead>\n",
       "    <tr style=\"text-align: right;\">\n",
       "      <th></th>\n",
       "      <th>Unnamed: 0</th>\n",
       "      <th>Name</th>\n",
       "      <th>Account_Party_Name</th>\n",
       "      <th>Main_Contact_Person_Name</th>\n",
       "      <th>Company</th>\n",
       "      <th>Status_Text</th>\n",
       "      <th>Reason_Code_Text</th>\n",
       "      <th>Source_Text</th>\n",
       "      <th>Priority_Text</th>\n",
       "      <th>Start_Date</th>\n",
       "      <th>End_Date</th>\n",
       "      <th>Owner_Party_Name</th>\n",
       "      <th>Marketing_Unit_Name</th>\n",
       "      <th>Sales_Unit_Name</th>\n",
       "      <th>Sales_Territory_Name</th>\n",
       "      <th>Note</th>\n",
       "    </tr>\n",
       "  </thead>\n",
       "  <tbody>\n",
       "    <tr>\n",
       "      <th>0</th>\n",
       "      <td>0</td>\n",
       "      <td>Member Registration Fluid Power Target Account</td>\n",
       "      <td>Natalie Skinner</td>\n",
       "      <td>Michael Lee</td>\n",
       "      <td>True</td>\n",
       "      <td>Closed</td>\n",
       "      <td>No further action required</td>\n",
       "      <td>Web Member Registration</td>\n",
       "      <td>Normal</td>\n",
       "      <td>2021-05-20</td>\n",
       "      <td>9999-12-31</td>\n",
       "      <td>Lawrence Mullins</td>\n",
       "      <td>NaN</td>\n",
       "      <td>TSS Italy</td>\n",
       "      <td>ICO - Construction / Agricult. Equip</td>\n",
       "      <td>This new contact from a Fluid Power target acc...</td>\n",
       "    </tr>\n",
       "    <tr>\n",
       "      <th>1</th>\n",
       "      <td>1</td>\n",
       "      <td>Web Request</td>\n",
       "      <td>Laura Garcia</td>\n",
       "      <td>Lisa Spencer</td>\n",
       "      <td>True</td>\n",
       "      <td>Converted</td>\n",
       "      <td>NaN</td>\n",
       "      <td>Website Contact Form</td>\n",
       "      <td>Normal</td>\n",
       "      <td>2023-06-15</td>\n",
       "      <td>2023-07-15</td>\n",
       "      <td>Angela Smith</td>\n",
       "      <td>NaN</td>\n",
       "      <td>NaN</td>\n",
       "      <td>NaN</td>\n",
       "      <td>Dario,\\n\\nI am reaching out to you this mornin...</td>\n",
       "    </tr>\n",
       "    <tr>\n",
       "      <th>2</th>\n",
       "      <td>2</td>\n",
       "      <td>Electronic Catalog RfQ</td>\n",
       "      <td>Ashley Mitchell</td>\n",
       "      <td>John Joseph</td>\n",
       "      <td>True</td>\n",
       "      <td>Closed</td>\n",
       "      <td>No Response</td>\n",
       "      <td>e-Catalog</td>\n",
       "      <td>Normal</td>\n",
       "      <td>2023-06-15</td>\n",
       "      <td>2023-07-15</td>\n",
       "      <td>Laura Miles</td>\n",
       "      <td>NaN</td>\n",
       "      <td>NaN</td>\n",
       "      <td>NaN</td>\n",
       "      <td>No response so will close</td>\n",
       "    </tr>\n",
       "    <tr>\n",
       "      <th>3</th>\n",
       "      <td>3</td>\n",
       "      <td>Member Registration</td>\n",
       "      <td>Patrick Hill</td>\n",
       "      <td>Jessica Graham</td>\n",
       "      <td>True</td>\n",
       "      <td>Closed</td>\n",
       "      <td>No Potential</td>\n",
       "      <td>Web Member Registration</td>\n",
       "      <td>Normal</td>\n",
       "      <td>2023-06-15</td>\n",
       "      <td>2023-07-15</td>\n",
       "      <td>Alicia Craig</td>\n",
       "      <td>NaN</td>\n",
       "      <td>TSS Automotive Hub Europe</td>\n",
       "      <td>G11 - Bosch Automotive HUB</td>\n",
       "      <td>\\n This new contact from an existing priority ...</td>\n",
       "    </tr>\n",
       "    <tr>\n",
       "      <th>4</th>\n",
       "      <td>4</td>\n",
       "      <td>Sealing Solutions Configurator RFQ</td>\n",
       "      <td>Benjamin Chang</td>\n",
       "      <td>Robert Heath</td>\n",
       "      <td>True</td>\n",
       "      <td>Unqualified</td>\n",
       "      <td>NaN</td>\n",
       "      <td>Sealing Solutions Configurator</td>\n",
       "      <td>Normal</td>\n",
       "      <td>2023-06-15</td>\n",
       "      <td>2023-07-15</td>\n",
       "      <td>Jeremy Pearson</td>\n",
       "      <td>NaN</td>\n",
       "      <td>NaN</td>\n",
       "      <td>NaN</td>\n",
       "      <td>.</td>\n",
       "    </tr>\n",
       "    <tr>\n",
       "      <th>...</th>\n",
       "      <td>...</td>\n",
       "      <td>...</td>\n",
       "      <td>...</td>\n",
       "      <td>...</td>\n",
       "      <td>...</td>\n",
       "      <td>...</td>\n",
       "      <td>...</td>\n",
       "      <td>...</td>\n",
       "      <td>...</td>\n",
       "      <td>...</td>\n",
       "      <td>...</td>\n",
       "      <td>...</td>\n",
       "      <td>...</td>\n",
       "      <td>...</td>\n",
       "      <td>...</td>\n",
       "      <td>...</td>\n",
       "    </tr>\n",
       "    <tr>\n",
       "      <th>86239</th>\n",
       "      <td>86239</td>\n",
       "      <td>Requirement of Slydrings</td>\n",
       "      <td>Cindy Perez</td>\n",
       "      <td>Gregory Cervantes</td>\n",
       "      <td>True</td>\n",
       "      <td>Closed</td>\n",
       "      <td>Automatically closed</td>\n",
       "      <td>Sales</td>\n",
       "      <td>Normal</td>\n",
       "      <td>7/22/2021</td>\n",
       "      <td>8/21/2021</td>\n",
       "      <td>Stephanie Osborn</td>\n",
       "      <td>NaN</td>\n",
       "      <td>NaN</td>\n",
       "      <td>NaN</td>\n",
       "      <td>RFQ raised</td>\n",
       "    </tr>\n",
       "    <tr>\n",
       "      <th>86240</th>\n",
       "      <td>86240</td>\n",
       "      <td>RFQ</td>\n",
       "      <td>Carolyn Berry</td>\n",
       "      <td>Michelle Estes</td>\n",
       "      <td>True</td>\n",
       "      <td>Closed</td>\n",
       "      <td>Automatically closed</td>\n",
       "      <td>Sales</td>\n",
       "      <td>Normal</td>\n",
       "      <td>7/26/2021</td>\n",
       "      <td>8/25/2021</td>\n",
       "      <td>Stephanie Osborn</td>\n",
       "      <td>NaN</td>\n",
       "      <td>NaN</td>\n",
       "      <td>NaN</td>\n",
       "      <td>RFQ raised</td>\n",
       "    </tr>\n",
       "    <tr>\n",
       "      <th>86241</th>\n",
       "      <td>86241</td>\n",
       "      <td>RFQ</td>\n",
       "      <td>Edward Gregory</td>\n",
       "      <td>Melissa Patton</td>\n",
       "      <td>True</td>\n",
       "      <td>Closed</td>\n",
       "      <td>Automatically closed</td>\n",
       "      <td>Sales</td>\n",
       "      <td>Normal</td>\n",
       "      <td>7/26/2021</td>\n",
       "      <td>8/25/2021</td>\n",
       "      <td>Stephanie Osborn</td>\n",
       "      <td>NaN</td>\n",
       "      <td>NaN</td>\n",
       "      <td>NaN</td>\n",
       "      <td>RFQ raised</td>\n",
       "    </tr>\n",
       "    <tr>\n",
       "      <th>86242</th>\n",
       "      <td>86242</td>\n",
       "      <td>RFQ</td>\n",
       "      <td>Jill Adams</td>\n",
       "      <td>Melissa Patton</td>\n",
       "      <td>True</td>\n",
       "      <td>Sales Rejected</td>\n",
       "      <td>NaN</td>\n",
       "      <td>Sales</td>\n",
       "      <td>Normal</td>\n",
       "      <td>7/26/2021</td>\n",
       "      <td>8/25/2021</td>\n",
       "      <td>Stephanie Osborn</td>\n",
       "      <td>NaN</td>\n",
       "      <td>NaN</td>\n",
       "      <td>NaN</td>\n",
       "      <td>Duplicate entry.  Lead ID:50673 already raised</td>\n",
       "    </tr>\n",
       "    <tr>\n",
       "      <th>86243</th>\n",
       "      <td>86243</td>\n",
       "      <td>武汉华液传动制造有限公司_20210728_01</td>\n",
       "      <td>Edward Hobbs</td>\n",
       "      <td>Patricia Tyler</td>\n",
       "      <td>True</td>\n",
       "      <td>Qualified</td>\n",
       "      <td>NaN</td>\n",
       "      <td>Sales</td>\n",
       "      <td>Normal</td>\n",
       "      <td>7/28/2021</td>\n",
       "      <td>8/27/2021</td>\n",
       "      <td>Courtney Pennington</td>\n",
       "      <td>NaN</td>\n",
       "      <td>NaN</td>\n",
       "      <td>NaN</td>\n",
       "      <td>Edward Hobbs（原武汉华液传动自控有限公司）创立于1989年，公司专业从事液压气动...</td>\n",
       "    </tr>\n",
       "  </tbody>\n",
       "</table>\n",
       "<p>86244 rows × 16 columns</p>\n",
       "</div>"
      ],
      "text/plain": [
       "       Unnamed: 0                                            Name  \\\n",
       "0               0  Member Registration Fluid Power Target Account   \n",
       "1               1                                     Web Request   \n",
       "2               2                          Electronic Catalog RfQ   \n",
       "3               3                             Member Registration   \n",
       "4               4              Sealing Solutions Configurator RFQ   \n",
       "...           ...                                             ...   \n",
       "86239       86239                        Requirement of Slydrings   \n",
       "86240       86240                                             RFQ   \n",
       "86241       86241                                             RFQ   \n",
       "86242       86242                                             RFQ   \n",
       "86243       86243                        武汉华液传动制造有限公司_20210728_01   \n",
       "\n",
       "      Account_Party_Name Main_Contact_Person_Name  Company     Status_Text  \\\n",
       "0        Natalie Skinner              Michael Lee     True          Closed   \n",
       "1           Laura Garcia             Lisa Spencer     True       Converted   \n",
       "2        Ashley Mitchell              John Joseph     True          Closed   \n",
       "3           Patrick Hill           Jessica Graham     True          Closed   \n",
       "4         Benjamin Chang             Robert Heath     True     Unqualified   \n",
       "...                  ...                      ...      ...             ...   \n",
       "86239        Cindy Perez        Gregory Cervantes     True          Closed   \n",
       "86240      Carolyn Berry           Michelle Estes     True          Closed   \n",
       "86241     Edward Gregory           Melissa Patton     True          Closed   \n",
       "86242         Jill Adams           Melissa Patton     True  Sales Rejected   \n",
       "86243       Edward Hobbs           Patricia Tyler     True       Qualified   \n",
       "\n",
       "                 Reason_Code_Text                     Source_Text  \\\n",
       "0      No further action required         Web Member Registration   \n",
       "1                             NaN            Website Contact Form   \n",
       "2                     No Response                       e-Catalog   \n",
       "3                    No Potential         Web Member Registration   \n",
       "4                             NaN  Sealing Solutions Configurator   \n",
       "...                           ...                             ...   \n",
       "86239        Automatically closed                           Sales   \n",
       "86240        Automatically closed                           Sales   \n",
       "86241        Automatically closed                           Sales   \n",
       "86242                         NaN                           Sales   \n",
       "86243                         NaN                           Sales   \n",
       "\n",
       "      Priority_Text  Start_Date    End_Date     Owner_Party_Name  \\\n",
       "0            Normal  2021-05-20  9999-12-31     Lawrence Mullins   \n",
       "1            Normal  2023-06-15  2023-07-15         Angela Smith   \n",
       "2            Normal  2023-06-15  2023-07-15          Laura Miles   \n",
       "3            Normal  2023-06-15  2023-07-15         Alicia Craig   \n",
       "4            Normal  2023-06-15  2023-07-15       Jeremy Pearson   \n",
       "...             ...         ...         ...                  ...   \n",
       "86239        Normal   7/22/2021   8/21/2021     Stephanie Osborn   \n",
       "86240        Normal   7/26/2021   8/25/2021     Stephanie Osborn   \n",
       "86241        Normal   7/26/2021   8/25/2021     Stephanie Osborn   \n",
       "86242        Normal   7/26/2021   8/25/2021     Stephanie Osborn   \n",
       "86243        Normal   7/28/2021   8/27/2021  Courtney Pennington   \n",
       "\n",
       "      Marketing_Unit_Name            Sales_Unit_Name  \\\n",
       "0                     NaN                  TSS Italy   \n",
       "1                     NaN                        NaN   \n",
       "2                     NaN                        NaN   \n",
       "3                     NaN  TSS Automotive Hub Europe   \n",
       "4                     NaN                        NaN   \n",
       "...                   ...                        ...   \n",
       "86239                 NaN                        NaN   \n",
       "86240                 NaN                        NaN   \n",
       "86241                 NaN                        NaN   \n",
       "86242                 NaN                        NaN   \n",
       "86243                 NaN                        NaN   \n",
       "\n",
       "                       Sales_Territory_Name  \\\n",
       "0      ICO - Construction / Agricult. Equip   \n",
       "1                                       NaN   \n",
       "2                                       NaN   \n",
       "3                G11 - Bosch Automotive HUB   \n",
       "4                                       NaN   \n",
       "...                                     ...   \n",
       "86239                                   NaN   \n",
       "86240                                   NaN   \n",
       "86241                                   NaN   \n",
       "86242                                   NaN   \n",
       "86243                                   NaN   \n",
       "\n",
       "                                                    Note  \n",
       "0      This new contact from a Fluid Power target acc...  \n",
       "1      Dario,\\n\\nI am reaching out to you this mornin...  \n",
       "2                              No response so will close  \n",
       "3      \\n This new contact from an existing priority ...  \n",
       "4                                                      .  \n",
       "...                                                  ...  \n",
       "86239                                         RFQ raised  \n",
       "86240                                         RFQ raised  \n",
       "86241                                         RFQ raised  \n",
       "86242     Duplicate entry.  Lead ID:50673 already raised  \n",
       "86243  Edward Hobbs（原武汉华液传动自控有限公司）创立于1989年，公司专业从事液压气动...  \n",
       "\n",
       "[86244 rows x 16 columns]"
      ]
     },
     "execution_count": 14,
     "metadata": {},
     "output_type": "execute_result"
    }
   ],
   "source": [
    "df2"
   ]
  },
  {
   "cell_type": "code",
   "execution_count": 15,
   "metadata": {},
   "outputs": [
    {
     "data": {
      "text/plain": [
       "0        This new contact from a Fluid Power target acc...\n",
       "1        Dario,\\n\\nI am reaching out to you this mornin...\n",
       "2                                No response so will close\n",
       "3        \\n This new contact from an existing priority ...\n",
       "4                                                        .\n",
       "                               ...                        \n",
       "86239                                           RFQ raised\n",
       "86240                                           RFQ raised\n",
       "86241                                           RFQ raised\n",
       "86242       Duplicate entry.  Lead ID:50673 already raised\n",
       "86243    Edward Hobbs（原武汉华液传动自控有限公司）创立于1989年，公司专业从事液压气动...\n",
       "Name: Note, Length: 86244, dtype: object"
      ]
     },
     "execution_count": 15,
     "metadata": {},
     "output_type": "execute_result"
    }
   ],
   "source": [
    "#pd.set_option('display.max_rows', None)\n",
    "df['Note']"
   ]
  },
  {
   "cell_type": "code",
   "execution_count": 16,
   "metadata": {},
   "outputs": [
    {
     "data": {
      "text/plain": [
       "8885"
      ]
     },
     "execution_count": 16,
     "metadata": {},
     "output_type": "execute_result"
    }
   ],
   "source": [
    "df['Note'].isnull().sum()"
   ]
  },
  {
   "cell_type": "code",
   "execution_count": 17,
   "metadata": {},
   "outputs": [],
   "source": [
    "df2.drop(df2[df2['Note'] == '.'].index, inplace=True)"
   ]
  },
  {
   "cell_type": "code",
   "execution_count": 18,
   "metadata": {},
   "outputs": [
    {
     "data": {
      "text/plain": [
       "0        This new contact from a Fluid Power target acc...\n",
       "1        Dario,\\n\\nI am reaching out to you this mornin...\n",
       "2                                No response so will close\n",
       "3        \\n This new contact from an existing priority ...\n",
       "5        Beste\\n\\nOns bedrijf gaat van rechtsvorm veran...\n",
       "                               ...                        \n",
       "86239                                           RFQ raised\n",
       "86240                                           RFQ raised\n",
       "86241                                           RFQ raised\n",
       "86242       Duplicate entry.  Lead ID:50673 already raised\n",
       "86243    Edward Hobbs（原武汉华液传动自控有限公司）创立于1989年，公司专业从事液压气动...\n",
       "Name: Note, Length: 84851, dtype: object"
      ]
     },
     "execution_count": 18,
     "metadata": {},
     "output_type": "execute_result"
    }
   ],
   "source": [
    "df2['Note']"
   ]
  },
  {
   "cell_type": "code",
   "execution_count": 19,
   "metadata": {},
   "outputs": [
    {
     "data": {
      "text/plain": [
       "'Russian Federation'"
      ]
     },
     "execution_count": 19,
     "metadata": {},
     "output_type": "execute_result"
    }
   ],
   "source": [
    "df['Customer_Information_Country_Text'].iloc[86146]"
   ]
  },
  {
   "cell_type": "code",
   "execution_count": 20,
   "metadata": {},
   "outputs": [
    {
     "data": {
      "text/plain": [
       "'RU'"
      ]
     },
     "execution_count": 20,
     "metadata": {},
     "output_type": "execute_result"
    }
   ],
   "source": [
    "df['Customer_Information_Country'].iloc[86146]"
   ]
  },
  {
   "cell_type": "code",
   "execution_count": 21,
   "metadata": {},
   "outputs": [
    {
     "data": {
      "text/plain": [
       "'Добрый день, Contact_First_Name!\\n\\nВодород сам по себе не агрессивный газ и все материалы на основе фторопласта совместимы с ним. Эластомерные материалы также стандартные виды применяются для его уплотнения.\\n\\nНо это взрывоопасный газ и по тому для применяемого оборудования и материалов разработаны специальные требования.\\n\\nДля условий:\\nСреда – водород 94%\\nДавление 25 МПа\\nТемпература от -62С до +80С\\n\\n1.\\tУплотнения Turcon Variseal.\\nМатериал уплотнения очень хорошо подойдет Turcon T05\\nМатериал пружины для нефтегазового применения мы всегда рекомендуем Elgiloy\\nМои рекомендации\\nRV………-T05E\\nВодород 94% - остальное могут быть различные добавки.\\n\\nСтандартно, как я вижу, вы применяете материал пружины – нержавеющая сталь.\\nЦена на уплотнения с пружиной из материала Elgiloy значительно отличается (выше)\\nПрименение нержавеющей стали – на ваше усмотрение.\\n\\nТакже прошу обратить внимание на подготовку поверхностей для уплотнения газов (на стр. 20 в каталоге) шероховатость ответной поверхности Ra – 0,2 мкм и поверхности канавки Ra – 0,3 мкм\\n\\n(Если будут изменяться рабочие температура и давление – необходимо будет рассмотреть другие материалы уплотнения)\\n\\n2.\\tКомбинированные уплотнения.\\nТакже материал уплотнения - Turcon T05\\nМатериал эластомерного кольца круглого сечения – низкотемпературный NBR – N7T40\\n\\nОбозначение материала\\nPT……-T05T\\n\\nТакже необходимо обратить внимание на подготовку поверхностей для уплотнения газов шероховатость ответной поверхности Ra – 0,2 мкм и поверхности канавки Ra – 1,2-1,6 мкм (не хуже)\\n\\nОбратить внимание на требование к эластомерному материалу(если есть)\\n- работа в среде сероводорода (какие добавки входят в оставщиеся 6%), метанол, этанол\\n- устойчивость к взрывной декомпрессии.\\n\\n\\nС уважением,\\n \\nШахин Сергей\\nРегиональный инженер\\n'"
      ]
     },
     "execution_count": 21,
     "metadata": {},
     "output_type": "execute_result"
    }
   ],
   "source": [
    "df['Note'].iloc[86146]"
   ]
  },
  {
   "cell_type": "code",
   "execution_count": 22,
   "metadata": {},
   "outputs": [
    {
     "data": {
      "text/plain": [
       "'Denmark'"
      ]
     },
     "execution_count": 22,
     "metadata": {},
     "output_type": "execute_result"
    }
   ],
   "source": [
    "df['Customer_Information_Country_Text'].iloc[21]"
   ]
  },
  {
   "cell_type": "code",
   "execution_count": 23,
   "metadata": {},
   "outputs": [
    {
     "data": {
      "text/plain": [
       "'DK'"
      ]
     },
     "execution_count": 23,
     "metadata": {},
     "output_type": "execute_result"
    }
   ],
   "source": [
    "df['Customer_Information_Country'].iloc[21]"
   ]
  },
  {
   "cell_type": "code",
   "execution_count": 24,
   "metadata": {},
   "outputs": [
    {
     "data": {
      "text/plain": [
       "'English'"
      ]
     },
     "execution_count": 24,
     "metadata": {},
     "output_type": "execute_result"
    }
   ],
   "source": [
    "df['Name_Language_Code_Text'].iloc[21]"
   ]
  },
  {
   "cell_type": "code",
   "execution_count": 25,
   "metadata": {},
   "outputs": [
    {
     "data": {
      "text/plain": [
       "'EN'"
      ]
     },
     "execution_count": 25,
     "metadata": {},
     "output_type": "execute_result"
    }
   ],
   "source": [
    "df['Name_Language_Code'].iloc[21]"
   ]
  },
  {
   "cell_type": "code",
   "execution_count": 26,
   "metadata": {},
   "outputs": [
    {
     "data": {
      "text/plain": [
       "Name_Language_Code\n",
       "EN    80635\n",
       "ZH     2987\n",
       "DE     1107\n",
       "JA      467\n",
       "ZF      109\n",
       "ES       62\n",
       "KO       40\n",
       "SV       28\n",
       "PL       18\n",
       "PT       16\n",
       "TR        4\n",
       "FR        4\n",
       "IT        3\n",
       "DA        1\n",
       "CS        1\n",
       "HU        1\n",
       "Name: count, dtype: int64"
      ]
     },
     "execution_count": 26,
     "metadata": {},
     "output_type": "execute_result"
    }
   ],
   "source": [
    "df['Name_Language_Code'].value_counts()"
   ]
  },
  {
   "cell_type": "code",
   "execution_count": 27,
   "metadata": {},
   "outputs": [
    {
     "data": {
      "text/plain": [
       "'EN'"
      ]
     },
     "execution_count": 27,
     "metadata": {},
     "output_type": "execute_result"
    }
   ],
   "source": [
    "df['Name_Language_Code'].iloc[86146]"
   ]
  },
  {
   "cell_type": "code",
   "execution_count": 28,
   "metadata": {},
   "outputs": [
    {
     "data": {
      "text/plain": [
       "nan"
      ]
     },
     "execution_count": 28,
     "metadata": {},
     "output_type": "execute_result"
    }
   ],
   "source": [
    "df['Individual_Customer_Information_Language_Text'].iloc[86146]"
   ]
  },
  {
   "cell_type": "code",
   "execution_count": 29,
   "metadata": {},
   "outputs": [
    {
     "data": {
      "text/plain": [
       "Individual_Customer_Information_Language\n",
       "DE    2\n",
       "EN    1\n",
       "ZH    1\n",
       "Name: count, dtype: int64"
      ]
     },
     "execution_count": 29,
     "metadata": {},
     "output_type": "execute_result"
    }
   ],
   "source": [
    "df['Individual_Customer_Information_Language'].value_counts()"
   ]
  },
  {
   "cell_type": "code",
   "execution_count": 30,
   "metadata": {},
   "outputs": [
    {
     "data": {
      "text/plain": [
       "Account_Information_Language\n",
       "EN    18259\n",
       "DE     6484\n",
       "ZH     4495\n",
       "JA     1640\n",
       "FR      896\n",
       "IT      639\n",
       "ES      611\n",
       "SV      306\n",
       "PL      270\n",
       "CS      246\n",
       "BG      244\n",
       "NL      230\n",
       "RU      212\n",
       "HU      165\n",
       "DA      145\n",
       "PT      140\n",
       "ZF      138\n",
       "TR      126\n",
       "NO       78\n",
       "KO       59\n",
       "FI       53\n",
       "SK        1\n",
       "1         1\n",
       "AR        1\n",
       "HE        1\n",
       "Name: count, dtype: int64"
      ]
     },
     "execution_count": 30,
     "metadata": {},
     "output_type": "execute_result"
    }
   ],
   "source": [
    "df['Account_Information_Language'].value_counts()"
   ]
  },
  {
   "cell_type": "code",
   "execution_count": 31,
   "metadata": {},
   "outputs": [
    {
     "data": {
      "text/plain": [
       "'EN'"
      ]
     },
     "execution_count": 31,
     "metadata": {},
     "output_type": "execute_result"
    }
   ],
   "source": [
    "df['Account_Information_Language'].iloc[86146]"
   ]
  },
  {
   "cell_type": "code",
   "execution_count": 32,
   "metadata": {},
   "outputs": [
    {
     "data": {
      "text/plain": [
       "nan"
      ]
     },
     "execution_count": 32,
     "metadata": {},
     "output_type": "execute_result"
    }
   ],
   "source": [
    "df['Contact_Information_Language_Text'].iloc[86146]"
   ]
  },
  {
   "cell_type": "code",
   "execution_count": 33,
   "metadata": {},
   "outputs": [
    {
     "data": {
      "text/plain": [
       "Contact_Information_Language_Text\n",
       "English          10590\n",
       "German            4469\n",
       "Japanese          2749\n",
       "Swedish           1643\n",
       "Chinese           1298\n",
       "French            1078\n",
       "Spanish            711\n",
       "Italian            542\n",
       "Danish             501\n",
       "Dutch              441\n",
       "Norwegian          404\n",
       "Russian            396\n",
       "Chinese trad.      344\n",
       "Portuguese         327\n",
       "Turkish            310\n",
       "Polish             281\n",
       "Finnish            276\n",
       "Czech              204\n",
       "Hungarian          151\n",
       "Korean              58\n",
       "Bulgarian           49\n",
       "Slovak              15\n",
       "Croatian             5\n",
       "Hebrew               5\n",
       "Greek                1\n",
       "Name: count, dtype: int64"
      ]
     },
     "execution_count": 33,
     "metadata": {},
     "output_type": "execute_result"
    }
   ],
   "source": [
    "df['Contact_Information_Language_Text'].value_counts()"
   ]
  },
  {
   "cell_type": "code",
   "execution_count": 34,
   "metadata": {},
   "outputs": [
    {
     "data": {
      "text/plain": [
       "Contact_Information_Language\n",
       "EN    10590\n",
       "DE     4469\n",
       "JA     2749\n",
       "SV     1643\n",
       "ZH     1298\n",
       "FR     1078\n",
       "ES      711\n",
       "IT      542\n",
       "DA      501\n",
       "NL      441\n",
       "NO      404\n",
       "RU      396\n",
       "ZF      344\n",
       "PT      327\n",
       "TR      310\n",
       "PL      281\n",
       "FI      276\n",
       "CS      204\n",
       "HU      151\n",
       "KO       58\n",
       "BG       49\n",
       "SK       15\n",
       "HR        5\n",
       "HE        5\n",
       "EL        1\n",
       "Name: count, dtype: int64"
      ]
     },
     "execution_count": 34,
     "metadata": {},
     "output_type": "execute_result"
    }
   ],
   "source": [
    "df['Contact_Information_Language'].value_counts()"
   ]
  },
  {
   "cell_type": "code",
   "execution_count": 35,
   "metadata": {},
   "outputs": [
    {
     "data": {
      "text/plain": [
       "'Danish'"
      ]
     },
     "execution_count": 35,
     "metadata": {},
     "output_type": "execute_result"
    }
   ],
   "source": [
    "df['Contact_Information_Language_Text'].iloc[21]"
   ]
  },
  {
   "cell_type": "markdown",
   "metadata": {},
   "source": [
    "번역 시도"
   ]
  },
  {
   "cell_type": "code",
   "execution_count": 49,
   "metadata": {},
   "outputs": [
    {
     "name": "stderr",
     "output_type": "stream",
     "text": [
      "ERROR: Could not find a version that satisfies the requirement azure-cognitiveservices-translate (from versions: none)\n",
      "ERROR: No matching distribution found for azure-cognitiveservices-translate\n"
     ]
    }
   ],
   "source": [
    "!pip install azure-cognitiveservices-translate"
   ]
  },
  {
   "cell_type": "code",
   "execution_count": 50,
   "metadata": {},
   "outputs": [
    {
     "ename": "ModuleNotFoundError",
     "evalue": "No module named 'azure'",
     "output_type": "error",
     "traceback": [
      "\u001b[1;31m---------------------------------------------------------------------------\u001b[0m",
      "\u001b[1;31mModuleNotFoundError\u001b[0m                       Traceback (most recent call last)",
      "Cell \u001b[1;32mIn[50], line 1\u001b[0m\n\u001b[1;32m----> 1\u001b[0m \u001b[38;5;28;01mfrom\u001b[39;00m \u001b[38;5;21;01mazure\u001b[39;00m\u001b[38;5;21;01m.\u001b[39;00m\u001b[38;5;21;01mcognitiveservices\u001b[39;00m\u001b[38;5;21;01m.\u001b[39;00m\u001b[38;5;21;01mtranslator\u001b[39;00m\u001b[38;5;21;01m.\u001b[39;00m\u001b[38;5;21;01mtext\u001b[39;00m \u001b[38;5;28;01mimport\u001b[39;00m TranslatorTextClient\n\u001b[0;32m      2\u001b[0m \u001b[38;5;28;01mfrom\u001b[39;00m \u001b[38;5;21;01mmsrest\u001b[39;00m\u001b[38;5;21;01m.\u001b[39;00m\u001b[38;5;21;01mauthentication\u001b[39;00m \u001b[38;5;28;01mimport\u001b[39;00m CognitiveServicesCredentials\n\u001b[0;32m      4\u001b[0m \u001b[38;5;66;03m# Azure Translator API 키와 엔드포인트 설정\u001b[39;00m\n",
      "\u001b[1;31mModuleNotFoundError\u001b[0m: No module named 'azure'"
     ]
    }
   ],
   "source": [
    "from azure.cognitiveservices.translator.text import TranslatorTextClient\n",
    "from msrest.authentication import CognitiveServicesCredentials\n",
    "\n",
    "# Azure Translator API 키와 엔드포인트 설정\n",
    "subscription_key = '675b8d82779d448f8665d0954f20e200'\n",
    "endpoint = 'https://trelleborg-thu-hackathon.openai.azure.com/'\n",
    "\n",
    "# 'Note' 열의 각 행에 대해 번역 수행하는 함수 정의\n",
    "def translate_to_english(text):\n",
    "    credentials = CognitiveServicesCredentials(subscription_key)\n",
    "    translator = TranslatorTextClient(endpoint, credentials)\n",
    "\n",
    "    try:\n",
    "        result = translator.translations.translate(text, to_language='en')\n",
    "        return result.value[0].text\n",
    "    except Exception as e:\n",
    "        print(f\"Translation error: {e}\")\n",
    "        return text\n",
    "\n",
    "# 'Note' 열의 각 행에 대해 번역 수행\n",
    "df2['Note'] = df2['Note'].apply(translate_to_english)\n",
    "\n",
    "# 결과 출력\n",
    "print(df2)"
   ]
  },
  {
   "cell_type": "code",
   "execution_count": 40,
   "metadata": {},
   "outputs": [
    {
     "name": "stdout",
     "output_type": "stream",
     "text": [
      "Collecting langchain\n",
      "  Downloading langchain-0.1.5-py3-none-any.whl (806 kB)\n",
      "\u001b[K     |████████████████████████████████| 806 kB 8.1 MB/s eta 0:00:01\n",
      "\u001b[?25hCollecting async-timeout<5.0.0,>=4.0.0; python_version < \"3.11\"\n",
      "  Downloading async_timeout-4.0.3-py3-none-any.whl (5.7 kB)\n",
      "Collecting langsmith<0.1,>=0.0.83\n",
      "  Downloading langsmith-0.0.86-py3-none-any.whl (54 kB)\n",
      "\u001b[K     |████████████████████████████████| 54 kB 10.6 MB/s  eta 0:00:01\n",
      "\u001b[?25hCollecting langchain-community<0.1,>=0.0.17\n",
      "  Downloading langchain_community-0.0.17-py3-none-any.whl (1.6 MB)\n",
      "\u001b[K     |████████████████████████████████| 1.6 MB 147.7 MB/s eta 0:00:01\n",
      "\u001b[?25hCollecting aiohttp<4.0.0,>=3.8.3\n",
      "  Downloading aiohttp-3.9.3-cp38-cp38-manylinux_2_17_x86_64.manylinux2014_x86_64.whl (1.3 MB)\n",
      "\u001b[K     |████████████████████████████████| 1.3 MB 151.6 MB/s eta 0:00:01\n",
      "\u001b[?25hRequirement already satisfied: SQLAlchemy<3,>=1.4 in /usr/local/lib/python3.8/dist-packages (from langchain) (2.0.25)\n",
      "Collecting langchain-core<0.2,>=0.1.16\n",
      "  Downloading langchain_core-0.1.18-py3-none-any.whl (237 kB)\n",
      "\u001b[K     |████████████████████████████████| 237 kB 128.5 MB/s eta 0:00:01\n",
      "\u001b[?25hRequirement already satisfied: numpy<2,>=1 in /usr/local/lib/python3.8/dist-packages (from langchain) (1.24.4)\n",
      "Requirement already satisfied: requests<3,>=2 in /usr/local/lib/python3.8/dist-packages (from langchain) (2.31.0)\n",
      "Collecting tenacity<9.0.0,>=8.1.0\n",
      "  Downloading tenacity-8.2.3-py3-none-any.whl (24 kB)\n",
      "Collecting dataclasses-json<0.7,>=0.5.7\n",
      "  Downloading dataclasses_json-0.6.4-py3-none-any.whl (28 kB)\n",
      "Requirement already satisfied: pydantic<3,>=1 in /usr/local/lib/python3.8/dist-packages (from langchain) (2.6.0)\n",
      "Requirement already satisfied: PyYAML>=5.3 in /usr/local/lib/python3.8/dist-packages (from langchain) (6.0.1)\n",
      "Collecting jsonpatch<2.0,>=1.33\n",
      "  Downloading jsonpatch-1.33-py2.py3-none-any.whl (12 kB)\n",
      "Collecting yarl<2.0,>=1.0\n",
      "  Downloading yarl-1.9.4-cp38-cp38-manylinux_2_17_x86_64.manylinux2014_x86_64.whl (308 kB)\n",
      "\u001b[K     |████████████████████████████████| 308 kB 152.2 MB/s eta 0:00:01\n",
      "\u001b[?25hCollecting frozenlist>=1.1.1\n",
      "  Downloading frozenlist-1.4.1-cp38-cp38-manylinux_2_5_x86_64.manylinux1_x86_64.manylinux_2_17_x86_64.manylinux2014_x86_64.whl (240 kB)\n",
      "\u001b[K     |████████████████████████████████| 240 kB 149.0 MB/s eta 0:00:01\n",
      "\u001b[?25hCollecting aiosignal>=1.1.2\n",
      "  Downloading aiosignal-1.3.1-py3-none-any.whl (7.6 kB)\n",
      "Collecting multidict<7.0,>=4.5\n",
      "  Downloading multidict-6.0.5-cp38-cp38-manylinux_2_17_x86_64.manylinux2014_x86_64.whl (129 kB)\n",
      "\u001b[K     |████████████████████████████████| 129 kB 139.1 MB/s eta 0:00:01\n",
      "\u001b[?25hRequirement already satisfied: attrs>=17.3.0 in /usr/local/lib/python3.8/dist-packages (from aiohttp<4.0.0,>=3.8.3->langchain) (23.2.0)\n",
      "Requirement already satisfied: typing-extensions>=4.6.0 in /usr/local/lib/python3.8/dist-packages (from SQLAlchemy<3,>=1.4->langchain) (4.9.0)\n",
      "Requirement already satisfied: greenlet!=0.4.17; platform_machine == \"aarch64\" or (platform_machine == \"ppc64le\" or (platform_machine == \"x86_64\" or (platform_machine == \"amd64\" or (platform_machine == \"AMD64\" or (platform_machine == \"win32\" or platform_machine == \"WIN32\"))))) in /usr/local/lib/python3.8/dist-packages (from SQLAlchemy<3,>=1.4->langchain) (3.0.3)\n",
      "Requirement already satisfied: anyio<5,>=3 in /usr/local/lib/python3.8/dist-packages (from langchain-core<0.2,>=0.1.16->langchain) (4.2.0)\n",
      "Requirement already satisfied: packaging<24.0,>=23.2 in /usr/local/lib/python3.8/dist-packages (from langchain-core<0.2,>=0.1.16->langchain) (23.2)\n",
      "Requirement already satisfied: idna<4,>=2.5 in /usr/local/lib/python3.8/dist-packages (from requests<3,>=2->langchain) (3.6)\n",
      "Requirement already satisfied: certifi>=2017.4.17 in /usr/local/lib/python3.8/dist-packages (from requests<3,>=2->langchain) (2023.11.17)\n",
      "Requirement already satisfied: charset-normalizer<4,>=2 in /usr/local/lib/python3.8/dist-packages (from requests<3,>=2->langchain) (3.3.2)\n",
      "Requirement already satisfied: urllib3<3,>=1.21.1 in /usr/local/lib/python3.8/dist-packages (from requests<3,>=2->langchain) (2.1.0)\n",
      "Collecting typing-inspect<1,>=0.4.0\n",
      "  Downloading typing_inspect-0.9.0-py3-none-any.whl (8.8 kB)\n",
      "Collecting marshmallow<4.0.0,>=3.18.0\n",
      "  Downloading marshmallow-3.20.2-py3-none-any.whl (49 kB)\n",
      "\u001b[K     |████████████████████████████████| 49 kB 23.0 MB/s  eta 0:00:01\n",
      "\u001b[?25hRequirement already satisfied: annotated-types>=0.4.0 in /usr/local/lib/python3.8/dist-packages (from pydantic<3,>=1->langchain) (0.6.0)\n",
      "Requirement already satisfied: pydantic-core==2.16.1 in /usr/local/lib/python3.8/dist-packages (from pydantic<3,>=1->langchain) (2.16.1)\n",
      "Collecting jsonpointer>=1.9\n",
      "  Downloading jsonpointer-2.4-py2.py3-none-any.whl (7.8 kB)\n",
      "Requirement already satisfied: sniffio>=1.1 in /usr/local/lib/python3.8/dist-packages (from anyio<5,>=3->langchain-core<0.2,>=0.1.16->langchain) (1.3.0)\n",
      "Requirement already satisfied: exceptiongroup>=1.0.2; python_version < \"3.11\" in /usr/local/lib/python3.8/dist-packages (from anyio<5,>=3->langchain-core<0.2,>=0.1.16->langchain) (1.2.0)\n",
      "Collecting mypy-extensions>=0.3.0\n",
      "  Downloading mypy_extensions-1.0.0-py3-none-any.whl (4.7 kB)\n",
      "Installing collected packages: async-timeout, langsmith, multidict, yarl, frozenlist, aiosignal, aiohttp, tenacity, mypy-extensions, typing-inspect, marshmallow, dataclasses-json, jsonpointer, jsonpatch, langchain-core, langchain-community, langchain\n",
      "Successfully installed aiohttp-3.9.3 aiosignal-1.3.1 async-timeout-4.0.3 dataclasses-json-0.6.4 frozenlist-1.4.1 jsonpatch-1.33 jsonpointer-2.4 langchain-0.1.5 langchain-community-0.0.17 langchain-core-0.1.18 langsmith-0.0.86 marshmallow-3.20.2 multidict-6.0.5 mypy-extensions-1.0.0 tenacity-8.2.3 typing-inspect-0.9.0 yarl-1.9.4\n",
      "Note: you may need to restart the kernel to use updated packages.\n"
     ]
    }
   ],
   "source": [
    "pip install langchain"
   ]
  },
  {
   "cell_type": "code",
   "execution_count": 36,
   "metadata": {},
   "outputs": [],
   "source": [
    "import torch\n",
    "from langchain.chat_models import AzureChatOpenAI\n",
    "from langchain.schema import HumanMessage\n",
    "\n",
    "import warnings\n",
    "warnings.filterwarnings('ignore')"
   ]
  },
  {
   "cell_type": "code",
   "execution_count": 37,
   "metadata": {},
   "outputs": [],
   "source": [
    "azure_token = '675b8d82779d448f8665d0954f20e200'\n",
    "azure_endpoint = 'https://trelleborg-thu-hackathon.openai.azure.com/'\n",
    "api_version = '2023-05-15'\n",
    "\n",
    "with open(\"azure_settings\", \"r\") as settings_file:\n",
    "    for line in settings_file:\n",
    "        key, value = line.strip().split('=')\n",
    "        if key == \"azure_token\":\n",
    "            azure_token = value\n",
    "        elif key == \"azure_endpoint\":\n",
    "            azure_endpoint = value\n",
    "        elif key == \"api_version\":\n",
    "            api_version = value\n"
   ]
  },
  {
   "cell_type": "code",
   "execution_count": 40,
   "metadata": {},
   "outputs": [
    {
     "name": "stdout",
     "output_type": "stream",
     "text": [
      "Collecting openai\n",
      "  Downloading openai-1.11.1-py3-none-any.whl (226 kB)\n",
      "\u001b[K     |████████████████████████████████| 226 kB 8.1 MB/s eta 0:00:01\n",
      "\u001b[?25hRequirement already satisfied: pydantic<3,>=1.9.0 in /usr/local/lib/python3.8/dist-packages (from openai) (2.6.0)\n",
      "Collecting distro<2,>=1.7.0\n",
      "  Downloading distro-1.9.0-py3-none-any.whl (20 kB)\n",
      "Requirement already satisfied: typing-extensions<5,>=4.7 in /usr/local/lib/python3.8/dist-packages (from openai) (4.9.0)\n",
      "Collecting httpx<1,>=0.23.0\n",
      "  Downloading httpx-0.26.0-py3-none-any.whl (75 kB)\n",
      "\u001b[K     |████████████████████████████████| 75 kB 19.9 MB/s  eta 0:00:01\n",
      "\u001b[?25hRequirement already satisfied: tqdm>4 in /usr/local/lib/python3.8/dist-packages (from openai) (4.66.1)\n",
      "Requirement already satisfied: anyio<5,>=3.5.0 in /usr/local/lib/python3.8/dist-packages (from openai) (4.2.0)\n",
      "Requirement already satisfied: sniffio in /usr/local/lib/python3.8/dist-packages (from openai) (1.3.0)\n",
      "Requirement already satisfied: pydantic-core==2.16.1 in /usr/local/lib/python3.8/dist-packages (from pydantic<3,>=1.9.0->openai) (2.16.1)\n",
      "Requirement already satisfied: annotated-types>=0.4.0 in /usr/local/lib/python3.8/dist-packages (from pydantic<3,>=1.9.0->openai) (0.6.0)\n",
      "Requirement already satisfied: certifi in /usr/local/lib/python3.8/dist-packages (from httpx<1,>=0.23.0->openai) (2023.11.17)\n",
      "Requirement already satisfied: idna in /usr/local/lib/python3.8/dist-packages (from httpx<1,>=0.23.0->openai) (3.6)\n",
      "Collecting httpcore==1.*\n",
      "  Downloading httpcore-1.0.2-py3-none-any.whl (76 kB)\n",
      "\u001b[K     |████████████████████████████████| 76 kB 22.1 MB/s  eta 0:00:01\n",
      "\u001b[?25hRequirement already satisfied: exceptiongroup>=1.0.2; python_version < \"3.11\" in /usr/local/lib/python3.8/dist-packages (from anyio<5,>=3.5.0->openai) (1.2.0)\n",
      "Collecting h11<0.15,>=0.13\n",
      "  Downloading h11-0.14.0-py3-none-any.whl (58 kB)\n",
      "\u001b[K     |████████████████████████████████| 58 kB 23.9 MB/s  eta 0:00:01\n",
      "\u001b[?25hInstalling collected packages: distro, h11, httpcore, httpx, openai\n",
      "Successfully installed distro-1.9.0 h11-0.14.0 httpcore-1.0.2 httpx-0.26.0 openai-1.11.1\n",
      "Note: you may need to restart the kernel to use updated packages.\n"
     ]
    }
   ],
   "source": [
    "pip install openai"
   ]
  },
  {
   "cell_type": "code",
   "execution_count": 38,
   "metadata": {},
   "outputs": [],
   "source": [
    "# model option 1: GPT-4\n",
    "gpt4 = AzureChatOpenAI(\n",
    "    deployment_name=\"gpt-4\",\n",
    "    api_key=azure_token,\n",
    "    azure_endpoint=azure_endpoint,\n",
    "    openai_api_version=api_version\n",
    ")"
   ]
  },
  {
   "cell_type": "code",
   "execution_count": 43,
   "metadata": {},
   "outputs": [
    {
     "data": {
      "text/plain": [
       "AIMessage(content='Travis Kelce is an American professional football player who is a tight end for the Kansas City Chiefs of the National Football League (NFL). He was drafted by the Chiefs in the third round of the 2013 NFL Draft and has since become one of the most dynamic and productive players at his position. In 2020, he set the single-season receiving yards record for a tight end. Kelce has been selected to multiple Pro Bowl teams and helped lead the Chiefs to a victory in Super Bowl LIV.')"
      ]
     },
     "execution_count": 43,
     "metadata": {},
     "output_type": "execute_result"
    }
   ],
   "source": [
    "message = HumanMessage(\n",
    "    content=\"Who is Travis Kelce?\"\n",
    ")\n",
    "gpt4([message])"
   ]
  },
  {
   "cell_type": "code",
   "execution_count": 49,
   "metadata": {},
   "outputs": [],
   "source": [
    "from langchain import PromptTemplate\n",
    "template = \"\"\"You are a language translater, an English speaker wants to translate/\n",
    "{original_sentence} to {desired_language}. Tell him the corrent answer.\"\"\"\n",
    "\n",
    "prompt = PromptTemplate(\n",
    "        template=template,\n",
    "    input_variables=[\"original_sentence\", \"desired_language\"]\n",
    ")"
   ]
  },
  {
   "cell_type": "code",
   "execution_count": 50,
   "metadata": {},
   "outputs": [],
   "source": [
    "from langchain import LLMChain\n",
    "llm_chain = LLMChain(\n",
    "    prompt=prompt,\n",
    "    llm=gpt4\n",
    ")"
   ]
  },
  {
   "cell_type": "code",
   "execution_count": 51,
   "metadata": {},
   "outputs": [
    {
     "data": {
      "text/plain": [
       "PromptTemplate(input_variables=['desired_language', 'original_sentence'], template='You are a language translater, an English speaker wants to translate/\\n{original_sentence} to {desired_language}. Tell him the corrent answer.')"
      ]
     },
     "execution_count": 51,
     "metadata": {},
     "output_type": "execute_result"
    }
   ],
   "source": [
    "prompt"
   ]
  },
  {
   "cell_type": "code",
   "execution_count": 52,
   "metadata": {},
   "outputs": [
    {
     "ename": "ValueError",
     "evalue": "A single string input was passed in, but this chain expects multiple inputs ({'desired_language', 'original_sentence'}). When a chain expects multiple inputs, please call it by passing in a dictionary, eg `chain({'foo': 1, 'bar': 2})`",
     "output_type": "error",
     "traceback": [
      "\u001b[0;31m---------------------------------------------------------------------------\u001b[0m",
      "\u001b[0;31mValueError\u001b[0m                                Traceback (most recent call last)",
      "Cell \u001b[0;32mIn[52], line 2\u001b[0m\n\u001b[1;32m      1\u001b[0m opinion \u001b[38;5;241m=\u001b[39m \u001b[38;5;124m\"\u001b[39m\u001b[38;5;124m나는 바보입니다.\u001b[39m\u001b[38;5;124m\"\u001b[39m\n\u001b[0;32m----> 2\u001b[0m \u001b[43mllm_chain\u001b[49m\u001b[38;5;241;43m.\u001b[39;49m\u001b[43minvoke\u001b[49m\u001b[43m(\u001b[49m\u001b[43mopinion\u001b[49m\u001b[43m)\u001b[49m\n",
      "File \u001b[0;32m/usr/local/lib/python3.8/dist-packages/langchain/chains/base.py:138\u001b[0m, in \u001b[0;36mChain.invoke\u001b[0;34m(self, input, config, **kwargs)\u001b[0m\n\u001b[1;32m    135\u001b[0m include_run_info \u001b[38;5;241m=\u001b[39m kwargs\u001b[38;5;241m.\u001b[39mget(\u001b[38;5;124m\"\u001b[39m\u001b[38;5;124minclude_run_info\u001b[39m\u001b[38;5;124m\"\u001b[39m, \u001b[38;5;28;01mFalse\u001b[39;00m)\n\u001b[1;32m    136\u001b[0m return_only_outputs \u001b[38;5;241m=\u001b[39m kwargs\u001b[38;5;241m.\u001b[39mget(\u001b[38;5;124m\"\u001b[39m\u001b[38;5;124mreturn_only_outputs\u001b[39m\u001b[38;5;124m\"\u001b[39m, \u001b[38;5;28;01mFalse\u001b[39;00m)\n\u001b[0;32m--> 138\u001b[0m inputs \u001b[38;5;241m=\u001b[39m \u001b[38;5;28;43mself\u001b[39;49m\u001b[38;5;241;43m.\u001b[39;49m\u001b[43mprep_inputs\u001b[49m\u001b[43m(\u001b[49m\u001b[38;5;28;43minput\u001b[39;49m\u001b[43m)\u001b[49m\n\u001b[1;32m    139\u001b[0m callback_manager \u001b[38;5;241m=\u001b[39m CallbackManager\u001b[38;5;241m.\u001b[39mconfigure(\n\u001b[1;32m    140\u001b[0m     callbacks,\n\u001b[1;32m    141\u001b[0m     \u001b[38;5;28mself\u001b[39m\u001b[38;5;241m.\u001b[39mcallbacks,\n\u001b[0;32m   (...)\u001b[0m\n\u001b[1;32m    146\u001b[0m     \u001b[38;5;28mself\u001b[39m\u001b[38;5;241m.\u001b[39mmetadata,\n\u001b[1;32m    147\u001b[0m )\n\u001b[1;32m    148\u001b[0m new_arg_supported \u001b[38;5;241m=\u001b[39m inspect\u001b[38;5;241m.\u001b[39msignature(\u001b[38;5;28mself\u001b[39m\u001b[38;5;241m.\u001b[39m_call)\u001b[38;5;241m.\u001b[39mparameters\u001b[38;5;241m.\u001b[39mget(\u001b[38;5;124m\"\u001b[39m\u001b[38;5;124mrun_manager\u001b[39m\u001b[38;5;124m\"\u001b[39m)\n",
      "File \u001b[0;32m/usr/local/lib/python3.8/dist-packages/langchain/chains/base.py:465\u001b[0m, in \u001b[0;36mChain.prep_inputs\u001b[0;34m(self, inputs)\u001b[0m\n\u001b[1;32m    463\u001b[0m         _input_keys \u001b[38;5;241m=\u001b[39m _input_keys\u001b[38;5;241m.\u001b[39mdifference(\u001b[38;5;28mself\u001b[39m\u001b[38;5;241m.\u001b[39mmemory\u001b[38;5;241m.\u001b[39mmemory_variables)\n\u001b[1;32m    464\u001b[0m     \u001b[38;5;28;01mif\u001b[39;00m \u001b[38;5;28mlen\u001b[39m(_input_keys) \u001b[38;5;241m!=\u001b[39m \u001b[38;5;241m1\u001b[39m:\n\u001b[0;32m--> 465\u001b[0m         \u001b[38;5;28;01mraise\u001b[39;00m \u001b[38;5;167;01mValueError\u001b[39;00m(\n\u001b[1;32m    466\u001b[0m             \u001b[38;5;124mf\u001b[39m\u001b[38;5;124m\"\u001b[39m\u001b[38;5;124mA single string input was passed in, but this chain expects \u001b[39m\u001b[38;5;124m\"\u001b[39m\n\u001b[1;32m    467\u001b[0m             \u001b[38;5;124mf\u001b[39m\u001b[38;5;124m\"\u001b[39m\u001b[38;5;124mmultiple inputs (\u001b[39m\u001b[38;5;132;01m{\u001b[39;00m_input_keys\u001b[38;5;132;01m}\u001b[39;00m\u001b[38;5;124m). When a chain expects \u001b[39m\u001b[38;5;124m\"\u001b[39m\n\u001b[1;32m    468\u001b[0m             \u001b[38;5;124mf\u001b[39m\u001b[38;5;124m\"\u001b[39m\u001b[38;5;124mmultiple inputs, please call it by passing in a dictionary, \u001b[39m\u001b[38;5;124m\"\u001b[39m\n\u001b[1;32m    469\u001b[0m             \u001b[38;5;124m\"\u001b[39m\u001b[38;5;124meg `chain(\u001b[39m\u001b[38;5;124m{\u001b[39m\u001b[38;5;124m'\u001b[39m\u001b[38;5;124mfoo\u001b[39m\u001b[38;5;124m'\u001b[39m\u001b[38;5;124m: 1, \u001b[39m\u001b[38;5;124m'\u001b[39m\u001b[38;5;124mbar\u001b[39m\u001b[38;5;124m'\u001b[39m\u001b[38;5;124m: 2})`\u001b[39m\u001b[38;5;124m\"\u001b[39m\n\u001b[1;32m    470\u001b[0m         )\n\u001b[1;32m    471\u001b[0m     inputs \u001b[38;5;241m=\u001b[39m {\u001b[38;5;28mlist\u001b[39m(_input_keys)[\u001b[38;5;241m0\u001b[39m]: inputs}\n\u001b[1;32m    472\u001b[0m \u001b[38;5;28;01mif\u001b[39;00m \u001b[38;5;28mself\u001b[39m\u001b[38;5;241m.\u001b[39mmemory \u001b[38;5;129;01mis\u001b[39;00m \u001b[38;5;129;01mnot\u001b[39;00m \u001b[38;5;28;01mNone\u001b[39;00m:\n",
      "\u001b[0;31mValueError\u001b[0m: A single string input was passed in, but this chain expects multiple inputs ({'desired_language', 'original_sentence'}). When a chain expects multiple inputs, please call it by passing in a dictionary, eg `chain({'foo': 1, 'bar': 2})`"
     ]
    }
   ],
   "source": [
    "opinion = \"나는 바보입니다.\"\n",
    "llm_chain.invoke(opinion)"
   ]
  },
  {
   "cell_type": "code",
   "execution_count": 39,
   "metadata": {},
   "outputs": [
    {
     "ename": "AttributeError",
     "evalue": "'AzureChatOpenAI' object has no attribute 'ask'",
     "output_type": "error",
     "traceback": [
      "\u001b[0;31m---------------------------------------------------------------------------\u001b[0m",
      "\u001b[0;31mAttributeError\u001b[0m                            Traceback (most recent call last)",
      "Cell \u001b[0;32mIn[39], line 7\u001b[0m\n\u001b[1;32m      4\u001b[0m     \u001b[38;5;28;01mreturn\u001b[39;00m result[\u001b[38;5;124m'\u001b[39m\u001b[38;5;124mresponse\u001b[39m\u001b[38;5;124m'\u001b[39m][\u001b[38;5;124m'\u001b[39m\u001b[38;5;124mchoices\u001b[39m\u001b[38;5;124m'\u001b[39m][\u001b[38;5;241m0\u001b[39m][\u001b[38;5;124m'\u001b[39m\u001b[38;5;124mmessage\u001b[39m\u001b[38;5;124m'\u001b[39m][\u001b[38;5;124m'\u001b[39m\u001b[38;5;124mcontent\u001b[39m\u001b[38;5;124m'\u001b[39m]\n\u001b[1;32m      6\u001b[0m \u001b[38;5;66;03m# 'Note' 열의 각 행에 대해 번역 수행\u001b[39;00m\n\u001b[0;32m----> 7\u001b[0m df2[\u001b[38;5;124m'\u001b[39m\u001b[38;5;124mNote_Translated\u001b[39m\u001b[38;5;124m'\u001b[39m] \u001b[38;5;241m=\u001b[39m \u001b[43mdf2\u001b[49m\u001b[43m[\u001b[49m\u001b[38;5;124;43m'\u001b[39;49m\u001b[38;5;124;43mNote\u001b[39;49m\u001b[38;5;124;43m'\u001b[39;49m\u001b[43m]\u001b[49m\u001b[38;5;241;43m.\u001b[39;49m\u001b[43mapply\u001b[49m\u001b[43m(\u001b[49m\u001b[43mtranslate_text\u001b[49m\u001b[43m)\u001b[49m\n\u001b[1;32m      8\u001b[0m df2\n",
      "File \u001b[0;32m/usr/local/lib/python3.8/dist-packages/pandas/core/series.py:4630\u001b[0m, in \u001b[0;36mSeries.apply\u001b[0;34m(self, func, convert_dtype, args, **kwargs)\u001b[0m\n\u001b[1;32m   4520\u001b[0m \u001b[38;5;28;01mdef\u001b[39;00m \u001b[38;5;21mapply\u001b[39m(\n\u001b[1;32m   4521\u001b[0m     \u001b[38;5;28mself\u001b[39m,\n\u001b[1;32m   4522\u001b[0m     func: AggFuncType,\n\u001b[0;32m   (...)\u001b[0m\n\u001b[1;32m   4525\u001b[0m     \u001b[38;5;241m*\u001b[39m\u001b[38;5;241m*\u001b[39mkwargs,\n\u001b[1;32m   4526\u001b[0m ) \u001b[38;5;241m-\u001b[39m\u001b[38;5;241m>\u001b[39m DataFrame \u001b[38;5;241m|\u001b[39m Series:\n\u001b[1;32m   4527\u001b[0m \u001b[38;5;250m    \u001b[39m\u001b[38;5;124;03m\"\"\"\u001b[39;00m\n\u001b[1;32m   4528\u001b[0m \u001b[38;5;124;03m    Invoke function on values of Series.\u001b[39;00m\n\u001b[1;32m   4529\u001b[0m \n\u001b[0;32m   (...)\u001b[0m\n\u001b[1;32m   4628\u001b[0m \u001b[38;5;124;03m    dtype: float64\u001b[39;00m\n\u001b[1;32m   4629\u001b[0m \u001b[38;5;124;03m    \"\"\"\u001b[39;00m\n\u001b[0;32m-> 4630\u001b[0m     \u001b[38;5;28;01mreturn\u001b[39;00m \u001b[43mSeriesApply\u001b[49m\u001b[43m(\u001b[49m\u001b[38;5;28;43mself\u001b[39;49m\u001b[43m,\u001b[49m\u001b[43m \u001b[49m\u001b[43mfunc\u001b[49m\u001b[43m,\u001b[49m\u001b[43m \u001b[49m\u001b[43mconvert_dtype\u001b[49m\u001b[43m,\u001b[49m\u001b[43m \u001b[49m\u001b[43margs\u001b[49m\u001b[43m,\u001b[49m\u001b[43m \u001b[49m\u001b[43mkwargs\u001b[49m\u001b[43m)\u001b[49m\u001b[38;5;241;43m.\u001b[39;49m\u001b[43mapply\u001b[49m\u001b[43m(\u001b[49m\u001b[43m)\u001b[49m\n",
      "File \u001b[0;32m/usr/local/lib/python3.8/dist-packages/pandas/core/apply.py:1025\u001b[0m, in \u001b[0;36mSeriesApply.apply\u001b[0;34m(self)\u001b[0m\n\u001b[1;32m   1022\u001b[0m     \u001b[38;5;28;01mreturn\u001b[39;00m \u001b[38;5;28mself\u001b[39m\u001b[38;5;241m.\u001b[39mapply_str()\n\u001b[1;32m   1024\u001b[0m \u001b[38;5;66;03m# self.f is Callable\u001b[39;00m\n\u001b[0;32m-> 1025\u001b[0m \u001b[38;5;28;01mreturn\u001b[39;00m \u001b[38;5;28;43mself\u001b[39;49m\u001b[38;5;241;43m.\u001b[39;49m\u001b[43mapply_standard\u001b[49m\u001b[43m(\u001b[49m\u001b[43m)\u001b[49m\n",
      "File \u001b[0;32m/usr/local/lib/python3.8/dist-packages/pandas/core/apply.py:1076\u001b[0m, in \u001b[0;36mSeriesApply.apply_standard\u001b[0;34m(self)\u001b[0m\n\u001b[1;32m   1074\u001b[0m     \u001b[38;5;28;01melse\u001b[39;00m:\n\u001b[1;32m   1075\u001b[0m         values \u001b[38;5;241m=\u001b[39m obj\u001b[38;5;241m.\u001b[39mastype(\u001b[38;5;28mobject\u001b[39m)\u001b[38;5;241m.\u001b[39m_values\n\u001b[0;32m-> 1076\u001b[0m         mapped \u001b[38;5;241m=\u001b[39m \u001b[43mlib\u001b[49m\u001b[38;5;241;43m.\u001b[39;49m\u001b[43mmap_infer\u001b[49m\u001b[43m(\u001b[49m\n\u001b[1;32m   1077\u001b[0m \u001b[43m            \u001b[49m\u001b[43mvalues\u001b[49m\u001b[43m,\u001b[49m\n\u001b[1;32m   1078\u001b[0m \u001b[43m            \u001b[49m\u001b[43mf\u001b[49m\u001b[43m,\u001b[49m\n\u001b[1;32m   1079\u001b[0m \u001b[43m            \u001b[49m\u001b[43mconvert\u001b[49m\u001b[38;5;241;43m=\u001b[39;49m\u001b[38;5;28;43mself\u001b[39;49m\u001b[38;5;241;43m.\u001b[39;49m\u001b[43mconvert_dtype\u001b[49m\u001b[43m,\u001b[49m\n\u001b[1;32m   1080\u001b[0m \u001b[43m        \u001b[49m\u001b[43m)\u001b[49m\n\u001b[1;32m   1082\u001b[0m \u001b[38;5;28;01mif\u001b[39;00m \u001b[38;5;28mlen\u001b[39m(mapped) \u001b[38;5;129;01mand\u001b[39;00m \u001b[38;5;28misinstance\u001b[39m(mapped[\u001b[38;5;241m0\u001b[39m], ABCSeries):\n\u001b[1;32m   1083\u001b[0m     \u001b[38;5;66;03m# GH#43986 Need to do list(mapped) in order to get treated as nested\u001b[39;00m\n\u001b[1;32m   1084\u001b[0m     \u001b[38;5;66;03m#  See also GH#25959 regarding EA support\u001b[39;00m\n\u001b[1;32m   1085\u001b[0m     \u001b[38;5;28;01mreturn\u001b[39;00m obj\u001b[38;5;241m.\u001b[39m_constructor_expanddim(\u001b[38;5;28mlist\u001b[39m(mapped), index\u001b[38;5;241m=\u001b[39mobj\u001b[38;5;241m.\u001b[39mindex)\n",
      "File \u001b[0;32m/usr/local/lib/python3.8/dist-packages/pandas/_libs/lib.pyx:2834\u001b[0m, in \u001b[0;36mpandas._libs.lib.map_infer\u001b[0;34m()\u001b[0m\n",
      "Cell \u001b[0;32mIn[39], line 3\u001b[0m, in \u001b[0;36mtranslate_text\u001b[0;34m(text)\u001b[0m\n\u001b[1;32m      2\u001b[0m \u001b[38;5;28;01mdef\u001b[39;00m \u001b[38;5;21mtranslate_text\u001b[39m(text):\n\u001b[0;32m----> 3\u001b[0m     result \u001b[38;5;241m=\u001b[39m \u001b[43mgpt4\u001b[49m\u001b[38;5;241;43m.\u001b[39;49m\u001b[43mask\u001b[49m(HumanMessage(text))\n\u001b[1;32m      4\u001b[0m     \u001b[38;5;28;01mreturn\u001b[39;00m result[\u001b[38;5;124m'\u001b[39m\u001b[38;5;124mresponse\u001b[39m\u001b[38;5;124m'\u001b[39m][\u001b[38;5;124m'\u001b[39m\u001b[38;5;124mchoices\u001b[39m\u001b[38;5;124m'\u001b[39m][\u001b[38;5;241m0\u001b[39m][\u001b[38;5;124m'\u001b[39m\u001b[38;5;124mmessage\u001b[39m\u001b[38;5;124m'\u001b[39m][\u001b[38;5;124m'\u001b[39m\u001b[38;5;124mcontent\u001b[39m\u001b[38;5;124m'\u001b[39m]\n",
      "\u001b[0;31mAttributeError\u001b[0m: 'AzureChatOpenAI' object has no attribute 'ask'"
     ]
    }
   ],
   "source": [
    "# 번역을 수행할 함수 정의\n",
    "def translate_text(text):\n",
    "    result = gpt4.ask(HumanMessage(text))\n",
    "    return result['response']['choices'][0]['message']['content']\n",
    "\n",
    "# 'Note' 열의 각 행에 대해 번역 수행\n",
    "df2['Note_Translated'] = df2['Note'].apply(translate_text)\n",
    "df2"
   ]
  },
  {
   "cell_type": "code",
   "execution_count": 41,
   "metadata": {},
   "outputs": [
    {
     "name": "stdout",
     "output_type": "stream",
     "text": [
      "Collecting googletrans==4.0.0-rc1\n",
      "  Downloading googletrans-4.0.0rc1.tar.gz (20 kB)\n",
      "Collecting httpx==0.13.3\n",
      "  Downloading httpx-0.13.3-py3-none-any.whl (55 kB)\n",
      "\u001b[K     |████████████████████████████████| 55 kB 6.0 MB/s eta 0:00:011\n",
      "\u001b[?25hCollecting hstspreload\n",
      "  Downloading hstspreload-2024.2.1-py3-none-any.whl (1.1 MB)\n",
      "\u001b[K     |████████████████████████████████| 1.1 MB 17.2 MB/s eta 0:00:01\n",
      "\u001b[?25hRequirement already satisfied: certifi in /usr/local/lib/python3.8/dist-packages (from httpx==0.13.3->googletrans==4.0.0-rc1) (2023.11.17)\n",
      "Collecting idna==2.*\n",
      "  Downloading idna-2.10-py2.py3-none-any.whl (58 kB)\n",
      "\u001b[K     |████████████████████████████████| 58 kB 23.7 MB/s  eta 0:00:01\n",
      "\u001b[?25hRequirement already satisfied: sniffio in /usr/local/lib/python3.8/dist-packages (from httpx==0.13.3->googletrans==4.0.0-rc1) (1.3.0)\n",
      "Collecting chardet==3.*\n",
      "  Downloading chardet-3.0.4-py2.py3-none-any.whl (133 kB)\n",
      "\u001b[K     |████████████████████████████████| 133 kB 178.2 MB/s eta 0:00:01\n",
      "\u001b[?25hCollecting httpcore==0.9.*\n",
      "  Downloading httpcore-0.9.1-py3-none-any.whl (42 kB)\n",
      "\u001b[K     |████████████████████████████████| 42 kB 4.8 MB/s s eta 0:00:01\n",
      "\u001b[?25hCollecting rfc3986<2,>=1.3\n",
      "  Downloading rfc3986-1.5.0-py2.py3-none-any.whl (31 kB)\n",
      "Collecting h2==3.*\n",
      "  Downloading h2-3.2.0-py2.py3-none-any.whl (65 kB)\n",
      "\u001b[K     |████████████████████████████████| 65 kB 13.9 MB/s  eta 0:00:01\n",
      "\u001b[?25hCollecting h11<0.10,>=0.8\n",
      "  Downloading h11-0.9.0-py2.py3-none-any.whl (53 kB)\n",
      "\u001b[K     |████████████████████████████████| 53 kB 2.5 MB/s s eta 0:00:01\n",
      "\u001b[?25hCollecting hpack<4,>=3.0\n",
      "  Downloading hpack-3.0.0-py2.py3-none-any.whl (38 kB)\n",
      "Collecting hyperframe<6,>=5.2.0\n",
      "  Downloading hyperframe-5.2.0-py2.py3-none-any.whl (12 kB)\n",
      "Building wheels for collected packages: googletrans\n",
      "  Building wheel for googletrans (setup.py) ... \u001b[?25ldone\n",
      "\u001b[?25h  Created wheel for googletrans: filename=googletrans-4.0.0rc1-py3-none-any.whl size=17414 sha256=4108bbcabbc78ae277f49c2dfa1c191f71691418f8b5b94cb8c1ff6f5096a909\n",
      "  Stored in directory: /root/.cache/pip/wheels/a9/25/af/715361fa79594524c89c75d293def652045f3fdce6ca398712\n",
      "Successfully built googletrans\n",
      "\u001b[31mERROR: openai 1.11.1 has requirement httpx<1,>=0.23.0, but you'll have httpx 0.13.3 which is incompatible.\u001b[0m\n",
      "Installing collected packages: hstspreload, idna, chardet, hpack, hyperframe, h2, h11, httpcore, rfc3986, httpx, googletrans\n",
      "  Attempting uninstall: idna\n",
      "    Found existing installation: idna 3.6\n",
      "    Uninstalling idna-3.6:\n",
      "      Successfully uninstalled idna-3.6\n",
      "  Attempting uninstall: h11\n",
      "    Found existing installation: h11 0.14.0\n",
      "    Uninstalling h11-0.14.0:\n",
      "      Successfully uninstalled h11-0.14.0\n",
      "  Attempting uninstall: httpcore\n",
      "    Found existing installation: httpcore 1.0.2\n",
      "    Uninstalling httpcore-1.0.2:\n",
      "      Successfully uninstalled httpcore-1.0.2\n",
      "  Attempting uninstall: httpx\n",
      "    Found existing installation: httpx 0.26.0\n",
      "    Uninstalling httpx-0.26.0:\n",
      "      Successfully uninstalled httpx-0.26.0\n",
      "Successfully installed chardet-3.0.4 googletrans-4.0.0rc1 h11-0.9.0 h2-3.2.0 hpack-3.0.0 hstspreload-2024.2.1 httpcore-0.9.1 httpx-0.13.3 hyperframe-5.2.0 idna-2.10 rfc3986-1.5.0\n",
      "Note: you may need to restart the kernel to use updated packages.\n"
     ]
    }
   ],
   "source": [
    "pip install googletrans==4.0.0-rc1"
   ]
  },
  {
   "cell_type": "code",
   "execution_count": 43,
   "metadata": {},
   "outputs": [
    {
     "name": "stdout",
     "output_type": "stream",
     "text": [
      "Collecting httpcore\n",
      "  Using cached httpcore-1.0.2-py3-none-any.whl (76 kB)\n",
      "Collecting httpx\n",
      "  Using cached httpx-0.26.0-py3-none-any.whl (75 kB)\n",
      "Requirement already satisfied, skipping upgrade: certifi in /usr/local/lib/python3.8/dist-packages (from httpcore) (2023.11.17)\n",
      "Collecting h11<0.15,>=0.13\n",
      "  Using cached h11-0.14.0-py3-none-any.whl (58 kB)\n",
      "Requirement already satisfied, skipping upgrade: anyio in /usr/local/lib/python3.8/dist-packages (from httpx) (4.2.0)\n",
      "Requirement already satisfied, skipping upgrade: sniffio in /usr/local/lib/python3.8/dist-packages (from httpx) (1.3.0)\n",
      "Requirement already satisfied, skipping upgrade: idna in /usr/local/lib/python3.8/dist-packages (from httpx) (2.10)\n",
      "Requirement already satisfied, skipping upgrade: exceptiongroup>=1.0.2; python_version < \"3.11\" in /usr/local/lib/python3.8/dist-packages (from anyio->httpx) (1.2.0)\n",
      "Requirement already satisfied, skipping upgrade: typing-extensions>=4.1; python_version < \"3.11\" in /usr/local/lib/python3.8/dist-packages (from anyio->httpx) (4.9.0)\n",
      "\u001b[31mERROR: googletrans 4.0.0rc1 has requirement httpx==0.13.3, but you'll have httpx 0.26.0 which is incompatible.\u001b[0m\n",
      "Installing collected packages: h11, httpcore, httpx\n",
      "  Attempting uninstall: h11\n",
      "    Found existing installation: h11 0.9.0\n",
      "    Uninstalling h11-0.9.0:\n",
      "      Successfully uninstalled h11-0.9.0\n",
      "  Attempting uninstall: httpcore\n",
      "    Found existing installation: httpcore 0.9.1\n",
      "    Uninstalling httpcore-0.9.1:\n",
      "      Successfully uninstalled httpcore-0.9.1\n",
      "  Attempting uninstall: httpx\n",
      "    Found existing installation: httpx 0.13.3\n",
      "    Uninstalling httpx-0.13.3:\n",
      "      Successfully uninstalled httpx-0.13.3\n",
      "Successfully installed h11-0.14.0 httpcore-1.0.2 httpx-0.26.0\n",
      "Note: you may need to restart the kernel to use updated packages.\n"
     ]
    }
   ],
   "source": [
    "pip install --upgrade httpcore httpx"
   ]
  },
  {
   "cell_type": "code",
   "execution_count": 44,
   "metadata": {},
   "outputs": [
    {
     "ename": "AttributeError",
     "evalue": "module 'httpcore' has no attribute 'SyncHTTPTransport'",
     "output_type": "error",
     "traceback": [
      "\u001b[0;31m---------------------------------------------------------------------------\u001b[0m",
      "\u001b[0;31mAttributeError\u001b[0m                            Traceback (most recent call last)",
      "Cell \u001b[0;32mIn[44], line 1\u001b[0m\n\u001b[0;32m----> 1\u001b[0m \u001b[38;5;28;01mfrom\u001b[39;00m \u001b[38;5;21;01mgoogletrans\u001b[39;00m \u001b[38;5;28;01mimport\u001b[39;00m Translator\n\u001b[1;32m      3\u001b[0m \u001b[38;5;66;03m# Google Translate API 사용을 위한 함수 정의\u001b[39;00m\n\u001b[1;32m      4\u001b[0m \u001b[38;5;28;01mdef\u001b[39;00m \u001b[38;5;21mtranslate_to_english\u001b[39m(text):\n",
      "File \u001b[0;32m/usr/local/lib/python3.8/dist-packages/googletrans/__init__.py:6\u001b[0m\n\u001b[1;32m      2\u001b[0m __all__ \u001b[38;5;241m=\u001b[39m \u001b[38;5;124m'\u001b[39m\u001b[38;5;124mTranslator\u001b[39m\u001b[38;5;124m'\u001b[39m,\n\u001b[1;32m      3\u001b[0m __version__ \u001b[38;5;241m=\u001b[39m \u001b[38;5;124m'\u001b[39m\u001b[38;5;124m4.0.0-rc.1\u001b[39m\u001b[38;5;124m'\u001b[39m\n\u001b[0;32m----> 6\u001b[0m \u001b[38;5;28;01mfrom\u001b[39;00m \u001b[38;5;21;01mgoogletrans\u001b[39;00m\u001b[38;5;21;01m.\u001b[39;00m\u001b[38;5;21;01mclient\u001b[39;00m \u001b[38;5;28;01mimport\u001b[39;00m Translator\n\u001b[1;32m      7\u001b[0m \u001b[38;5;28;01mfrom\u001b[39;00m \u001b[38;5;21;01mgoogletrans\u001b[39;00m\u001b[38;5;21;01m.\u001b[39;00m\u001b[38;5;21;01mconstants\u001b[39;00m \u001b[38;5;28;01mimport\u001b[39;00m LANGCODES, LANGUAGES  \u001b[38;5;66;03m# noqa\u001b[39;00m\n",
      "File \u001b[0;32m/usr/local/lib/python3.8/dist-packages/googletrans/client.py:30\u001b[0m\n\u001b[1;32m     26\u001b[0m EXCLUDES \u001b[38;5;241m=\u001b[39m (\u001b[38;5;124m'\u001b[39m\u001b[38;5;124men\u001b[39m\u001b[38;5;124m'\u001b[39m, \u001b[38;5;124m'\u001b[39m\u001b[38;5;124mca\u001b[39m\u001b[38;5;124m'\u001b[39m, \u001b[38;5;124m'\u001b[39m\u001b[38;5;124mfr\u001b[39m\u001b[38;5;124m'\u001b[39m)\n\u001b[1;32m     28\u001b[0m RPC_ID \u001b[38;5;241m=\u001b[39m \u001b[38;5;124m'\u001b[39m\u001b[38;5;124mMkEWBc\u001b[39m\u001b[38;5;124m'\u001b[39m\n\u001b[0;32m---> 30\u001b[0m \u001b[38;5;28;01mclass\u001b[39;00m \u001b[38;5;21;01mTranslator\u001b[39;00m:\n\u001b[1;32m     31\u001b[0m \u001b[38;5;250m    \u001b[39m\u001b[38;5;124;03m\"\"\"Google Translate ajax API implementation class\u001b[39;00m\n\u001b[1;32m     32\u001b[0m \n\u001b[1;32m     33\u001b[0m \u001b[38;5;124;03m    You have to create an instance of Translator to use this API\u001b[39;00m\n\u001b[0;32m   (...)\u001b[0m\n\u001b[1;32m     57\u001b[0m \u001b[38;5;124;03m    :type raise_exception: boolean\u001b[39;00m\n\u001b[1;32m     58\u001b[0m \u001b[38;5;124;03m    \"\"\"\u001b[39;00m\n\u001b[1;32m     60\u001b[0m     \u001b[38;5;28;01mdef\u001b[39;00m \u001b[38;5;21m__init__\u001b[39m(\u001b[38;5;28mself\u001b[39m, service_urls\u001b[38;5;241m=\u001b[39mDEFAULT_CLIENT_SERVICE_URLS, user_agent\u001b[38;5;241m=\u001b[39mDEFAULT_USER_AGENT,\n\u001b[1;32m     61\u001b[0m                  raise_exception\u001b[38;5;241m=\u001b[39mDEFAULT_RAISE_EXCEPTION,\n\u001b[1;32m     62\u001b[0m                  proxies: typing\u001b[38;5;241m.\u001b[39mDict[\u001b[38;5;28mstr\u001b[39m, httpcore\u001b[38;5;241m.\u001b[39mSyncHTTPTransport] \u001b[38;5;241m=\u001b[39m \u001b[38;5;28;01mNone\u001b[39;00m,\n\u001b[1;32m     63\u001b[0m                  timeout: Timeout \u001b[38;5;241m=\u001b[39m \u001b[38;5;28;01mNone\u001b[39;00m,\n\u001b[1;32m     64\u001b[0m                  http2\u001b[38;5;241m=\u001b[39m\u001b[38;5;28;01mTrue\u001b[39;00m,\n\u001b[1;32m     65\u001b[0m                  use_fallback\u001b[38;5;241m=\u001b[39m\u001b[38;5;28;01mFalse\u001b[39;00m):\n",
      "File \u001b[0;32m/usr/local/lib/python3.8/dist-packages/googletrans/client.py:62\u001b[0m, in \u001b[0;36mTranslator\u001b[0;34m()\u001b[0m\n\u001b[1;32m     30\u001b[0m \u001b[38;5;28;01mclass\u001b[39;00m \u001b[38;5;21;01mTranslator\u001b[39;00m:\n\u001b[1;32m     31\u001b[0m \u001b[38;5;250m    \u001b[39m\u001b[38;5;124;03m\"\"\"Google Translate ajax API implementation class\u001b[39;00m\n\u001b[1;32m     32\u001b[0m \n\u001b[1;32m     33\u001b[0m \u001b[38;5;124;03m    You have to create an instance of Translator to use this API\u001b[39;00m\n\u001b[0;32m   (...)\u001b[0m\n\u001b[1;32m     57\u001b[0m \u001b[38;5;124;03m    :type raise_exception: boolean\u001b[39;00m\n\u001b[1;32m     58\u001b[0m \u001b[38;5;124;03m    \"\"\"\u001b[39;00m\n\u001b[1;32m     60\u001b[0m     \u001b[38;5;28;01mdef\u001b[39;00m \u001b[38;5;21m__init__\u001b[39m(\u001b[38;5;28mself\u001b[39m, service_urls\u001b[38;5;241m=\u001b[39mDEFAULT_CLIENT_SERVICE_URLS, user_agent\u001b[38;5;241m=\u001b[39mDEFAULT_USER_AGENT,\n\u001b[1;32m     61\u001b[0m                  raise_exception\u001b[38;5;241m=\u001b[39mDEFAULT_RAISE_EXCEPTION,\n\u001b[0;32m---> 62\u001b[0m                  proxies: typing\u001b[38;5;241m.\u001b[39mDict[\u001b[38;5;28mstr\u001b[39m, \u001b[43mhttpcore\u001b[49m\u001b[38;5;241;43m.\u001b[39;49m\u001b[43mSyncHTTPTransport\u001b[49m] \u001b[38;5;241m=\u001b[39m \u001b[38;5;28;01mNone\u001b[39;00m,\n\u001b[1;32m     63\u001b[0m                  timeout: Timeout \u001b[38;5;241m=\u001b[39m \u001b[38;5;28;01mNone\u001b[39;00m,\n\u001b[1;32m     64\u001b[0m                  http2\u001b[38;5;241m=\u001b[39m\u001b[38;5;28;01mTrue\u001b[39;00m,\n\u001b[1;32m     65\u001b[0m                  use_fallback\u001b[38;5;241m=\u001b[39m\u001b[38;5;28;01mFalse\u001b[39;00m):\n\u001b[1;32m     67\u001b[0m         \u001b[38;5;28mself\u001b[39m\u001b[38;5;241m.\u001b[39mclient \u001b[38;5;241m=\u001b[39m httpx\u001b[38;5;241m.\u001b[39mClient(http2\u001b[38;5;241m=\u001b[39mhttp2)\n\u001b[1;32m     68\u001b[0m         \u001b[38;5;28;01mif\u001b[39;00m proxies \u001b[38;5;129;01mis\u001b[39;00m \u001b[38;5;129;01mnot\u001b[39;00m \u001b[38;5;28;01mNone\u001b[39;00m:  \u001b[38;5;66;03m# pragma: nocover\u001b[39;00m\n",
      "\u001b[0;31mAttributeError\u001b[0m: module 'httpcore' has no attribute 'SyncHTTPTransport'"
     ]
    }
   ],
   "source": [
    "from googletrans import Translator\n",
    "\n",
    "# Google Translate API 사용을 위한 함수 정의\n",
    "def translate_to_english(text):\n",
    "    translator = Translator()\n",
    "    try:\n",
    "        translation = translator.translate(text, src='auto', dest='en')\n",
    "        return translation.text\n",
    "    except Exception as e:\n",
    "        print(f\"Translation error: {e}\")\n",
    "        return text\n",
    "\n",
    "# 'Note' 열의 각 행에 대해 번역 수행\n",
    "df2['Note'] = df2['Note'].apply(translate_to_english)\n",
    "\n",
    "# 결과 출력\n",
    "print(df2)"
   ]
  },
  {
   "cell_type": "code",
   "execution_count": 45,
   "metadata": {},
   "outputs": [
    {
     "ename": "HTTPError",
     "evalue": "HTTP Error 401: Unauthorized",
     "output_type": "error",
     "traceback": [
      "\u001b[0;31m---------------------------------------------------------------------------\u001b[0m",
      "\u001b[0;31mHTTPError\u001b[0m                                 Traceback (most recent call last)",
      "Cell \u001b[0;32mIn[45], line 12\u001b[0m\n\u001b[1;32m     10\u001b[0m request\u001b[38;5;241m.\u001b[39madd_header(\u001b[38;5;124m\"\u001b[39m\u001b[38;5;124mX-Naver-Client-Id\u001b[39m\u001b[38;5;124m\"\u001b[39m,client_id)\n\u001b[1;32m     11\u001b[0m request\u001b[38;5;241m.\u001b[39madd_header(\u001b[38;5;124m\"\u001b[39m\u001b[38;5;124mX-Naver-Client-Secret\u001b[39m\u001b[38;5;124m\"\u001b[39m,client_secret)\n\u001b[0;32m---> 12\u001b[0m response \u001b[38;5;241m=\u001b[39m \u001b[43murllib\u001b[49m\u001b[38;5;241;43m.\u001b[39;49m\u001b[43mrequest\u001b[49m\u001b[38;5;241;43m.\u001b[39;49m\u001b[43murlopen\u001b[49m\u001b[43m(\u001b[49m\u001b[43mrequest\u001b[49m\u001b[43m,\u001b[49m\u001b[43m \u001b[49m\u001b[43mdata\u001b[49m\u001b[38;5;241;43m=\u001b[39;49m\u001b[43mdata\u001b[49m\u001b[38;5;241;43m.\u001b[39;49m\u001b[43mencode\u001b[49m\u001b[43m(\u001b[49m\u001b[38;5;124;43m\"\u001b[39;49m\u001b[38;5;124;43mutf-8\u001b[39;49m\u001b[38;5;124;43m\"\u001b[39;49m\u001b[43m)\u001b[49m\u001b[43m)\u001b[49m\n\u001b[1;32m     13\u001b[0m rescode \u001b[38;5;241m=\u001b[39m response\u001b[38;5;241m.\u001b[39mgetcode()\n\u001b[1;32m     14\u001b[0m \u001b[38;5;28;01mif\u001b[39;00m(rescode\u001b[38;5;241m==\u001b[39m\u001b[38;5;241m200\u001b[39m):\n",
      "File \u001b[0;32m/usr/lib/python3.8/urllib/request.py:222\u001b[0m, in \u001b[0;36murlopen\u001b[0;34m(url, data, timeout, cafile, capath, cadefault, context)\u001b[0m\n\u001b[1;32m    220\u001b[0m \u001b[38;5;28;01melse\u001b[39;00m:\n\u001b[1;32m    221\u001b[0m     opener \u001b[38;5;241m=\u001b[39m _opener\n\u001b[0;32m--> 222\u001b[0m \u001b[38;5;28;01mreturn\u001b[39;00m \u001b[43mopener\u001b[49m\u001b[38;5;241;43m.\u001b[39;49m\u001b[43mopen\u001b[49m\u001b[43m(\u001b[49m\u001b[43murl\u001b[49m\u001b[43m,\u001b[49m\u001b[43m \u001b[49m\u001b[43mdata\u001b[49m\u001b[43m,\u001b[49m\u001b[43m \u001b[49m\u001b[43mtimeout\u001b[49m\u001b[43m)\u001b[49m\n",
      "File \u001b[0;32m/usr/lib/python3.8/urllib/request.py:531\u001b[0m, in \u001b[0;36mOpenerDirector.open\u001b[0;34m(self, fullurl, data, timeout)\u001b[0m\n\u001b[1;32m    529\u001b[0m \u001b[38;5;28;01mfor\u001b[39;00m processor \u001b[38;5;129;01min\u001b[39;00m \u001b[38;5;28mself\u001b[39m\u001b[38;5;241m.\u001b[39mprocess_response\u001b[38;5;241m.\u001b[39mget(protocol, []):\n\u001b[1;32m    530\u001b[0m     meth \u001b[38;5;241m=\u001b[39m \u001b[38;5;28mgetattr\u001b[39m(processor, meth_name)\n\u001b[0;32m--> 531\u001b[0m     response \u001b[38;5;241m=\u001b[39m \u001b[43mmeth\u001b[49m\u001b[43m(\u001b[49m\u001b[43mreq\u001b[49m\u001b[43m,\u001b[49m\u001b[43m \u001b[49m\u001b[43mresponse\u001b[49m\u001b[43m)\u001b[49m\n\u001b[1;32m    533\u001b[0m \u001b[38;5;28;01mreturn\u001b[39;00m response\n",
      "File \u001b[0;32m/usr/lib/python3.8/urllib/request.py:640\u001b[0m, in \u001b[0;36mHTTPErrorProcessor.http_response\u001b[0;34m(self, request, response)\u001b[0m\n\u001b[1;32m    637\u001b[0m \u001b[38;5;66;03m# According to RFC 2616, \"2xx\" code indicates that the client's\u001b[39;00m\n\u001b[1;32m    638\u001b[0m \u001b[38;5;66;03m# request was successfully received, understood, and accepted.\u001b[39;00m\n\u001b[1;32m    639\u001b[0m \u001b[38;5;28;01mif\u001b[39;00m \u001b[38;5;129;01mnot\u001b[39;00m (\u001b[38;5;241m200\u001b[39m \u001b[38;5;241m<\u001b[39m\u001b[38;5;241m=\u001b[39m code \u001b[38;5;241m<\u001b[39m \u001b[38;5;241m300\u001b[39m):\n\u001b[0;32m--> 640\u001b[0m     response \u001b[38;5;241m=\u001b[39m \u001b[38;5;28;43mself\u001b[39;49m\u001b[38;5;241;43m.\u001b[39;49m\u001b[43mparent\u001b[49m\u001b[38;5;241;43m.\u001b[39;49m\u001b[43merror\u001b[49m\u001b[43m(\u001b[49m\n\u001b[1;32m    641\u001b[0m \u001b[43m        \u001b[49m\u001b[38;5;124;43m'\u001b[39;49m\u001b[38;5;124;43mhttp\u001b[39;49m\u001b[38;5;124;43m'\u001b[39;49m\u001b[43m,\u001b[49m\u001b[43m \u001b[49m\u001b[43mrequest\u001b[49m\u001b[43m,\u001b[49m\u001b[43m \u001b[49m\u001b[43mresponse\u001b[49m\u001b[43m,\u001b[49m\u001b[43m \u001b[49m\u001b[43mcode\u001b[49m\u001b[43m,\u001b[49m\u001b[43m \u001b[49m\u001b[43mmsg\u001b[49m\u001b[43m,\u001b[49m\u001b[43m \u001b[49m\u001b[43mhdrs\u001b[49m\u001b[43m)\u001b[49m\n\u001b[1;32m    643\u001b[0m \u001b[38;5;28;01mreturn\u001b[39;00m response\n",
      "File \u001b[0;32m/usr/lib/python3.8/urllib/request.py:569\u001b[0m, in \u001b[0;36mOpenerDirector.error\u001b[0;34m(self, proto, *args)\u001b[0m\n\u001b[1;32m    567\u001b[0m \u001b[38;5;28;01mif\u001b[39;00m http_err:\n\u001b[1;32m    568\u001b[0m     args \u001b[38;5;241m=\u001b[39m (\u001b[38;5;28mdict\u001b[39m, \u001b[38;5;124m'\u001b[39m\u001b[38;5;124mdefault\u001b[39m\u001b[38;5;124m'\u001b[39m, \u001b[38;5;124m'\u001b[39m\u001b[38;5;124mhttp_error_default\u001b[39m\u001b[38;5;124m'\u001b[39m) \u001b[38;5;241m+\u001b[39m orig_args\n\u001b[0;32m--> 569\u001b[0m     \u001b[38;5;28;01mreturn\u001b[39;00m \u001b[38;5;28;43mself\u001b[39;49m\u001b[38;5;241;43m.\u001b[39;49m\u001b[43m_call_chain\u001b[49m\u001b[43m(\u001b[49m\u001b[38;5;241;43m*\u001b[39;49m\u001b[43margs\u001b[49m\u001b[43m)\u001b[49m\n",
      "File \u001b[0;32m/usr/lib/python3.8/urllib/request.py:502\u001b[0m, in \u001b[0;36mOpenerDirector._call_chain\u001b[0;34m(self, chain, kind, meth_name, *args)\u001b[0m\n\u001b[1;32m    500\u001b[0m \u001b[38;5;28;01mfor\u001b[39;00m handler \u001b[38;5;129;01min\u001b[39;00m handlers:\n\u001b[1;32m    501\u001b[0m     func \u001b[38;5;241m=\u001b[39m \u001b[38;5;28mgetattr\u001b[39m(handler, meth_name)\n\u001b[0;32m--> 502\u001b[0m     result \u001b[38;5;241m=\u001b[39m \u001b[43mfunc\u001b[49m\u001b[43m(\u001b[49m\u001b[38;5;241;43m*\u001b[39;49m\u001b[43margs\u001b[49m\u001b[43m)\u001b[49m\n\u001b[1;32m    503\u001b[0m     \u001b[38;5;28;01mif\u001b[39;00m result \u001b[38;5;129;01mis\u001b[39;00m \u001b[38;5;129;01mnot\u001b[39;00m \u001b[38;5;28;01mNone\u001b[39;00m:\n\u001b[1;32m    504\u001b[0m         \u001b[38;5;28;01mreturn\u001b[39;00m result\n",
      "File \u001b[0;32m/usr/lib/python3.8/urllib/request.py:649\u001b[0m, in \u001b[0;36mHTTPDefaultErrorHandler.http_error_default\u001b[0;34m(self, req, fp, code, msg, hdrs)\u001b[0m\n\u001b[1;32m    648\u001b[0m \u001b[38;5;28;01mdef\u001b[39;00m \u001b[38;5;21mhttp_error_default\u001b[39m(\u001b[38;5;28mself\u001b[39m, req, fp, code, msg, hdrs):\n\u001b[0;32m--> 649\u001b[0m     \u001b[38;5;28;01mraise\u001b[39;00m HTTPError(req\u001b[38;5;241m.\u001b[39mfull_url, code, msg, hdrs, fp)\n",
      "\u001b[0;31mHTTPError\u001b[0m: HTTP Error 401: Unauthorized"
     ]
    }
   ],
   "source": [
    "import os\n",
    "import sys\n",
    "import urllib.request\n",
    "client_id = \"wXMtTe2MGiUGOGOBHgYY\"\n",
    "client_secret = \"L6O1HSa0KrT\"\n",
    "encQuery = urllib.parse.quote(\"언어를 감지할 문장을 입력하세요\")\n",
    "data = \"query=\" + encQuery\n",
    "url = \"https://openapi.naver.com/v1/papago/detectLangs\"\n",
    "request = urllib.request.Request(url)\n",
    "request.add_header(\"X-Naver-Client-Id\",client_id)\n",
    "request.add_header(\"X-Naver-Client-Secret\",client_secret)\n",
    "response = urllib.request.urlopen(request, data=data.encode(\"utf-8\"))\n",
    "rescode = response.getcode()\n",
    "if(rescode==200):\n",
    "    response_body = response.read()\n",
    "    print(response_body.decode('utf-8'))\n",
    "else:\n",
    "    print(\"Error Code:\" + rescode)"
   ]
  },
  {
   "cell_type": "code",
   "execution_count": null,
   "metadata": {},
   "outputs": [],
   "source": []
  }
 ],
 "metadata": {
  "kernelspec": {
   "display_name": "Python 3 (ipykernel)",
   "language": "python",
   "name": "python3"
  },
  "language_info": {
   "codemirror_mode": {
    "name": "ipython",
    "version": 3
   },
   "file_extension": ".py",
   "mimetype": "text/x-python",
   "name": "python",
   "nbconvert_exporter": "python",
   "pygments_lexer": "ipython3",
   "version": "3.8.10"
  }
 },
 "nbformat": 4,
 "nbformat_minor": 4
}
