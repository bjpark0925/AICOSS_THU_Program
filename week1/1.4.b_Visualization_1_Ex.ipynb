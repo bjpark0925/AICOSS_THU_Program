{
 "cells": [
  {
   "cell_type": "markdown",
   "metadata": {},
   "source": [
    "![Banner](./img/AI_Special_Program_Banner.jpg)  \n"
   ]
  },
  {
   "cell_type": "markdown",
   "metadata": {},
   "source": [
    "# Exercises for Visualization I\n",
    "---"
   ]
  },
  {
   "cell_type": "markdown",
   "metadata": {},
   "source": [
    "Create a [Stacked Bar Chart](https://matplotlib.org/stable/gallery/lines_bars_and_markers/bar_stacked.html) based on the IMDB data. You should visualize the *average sales per year*, grouped by the transformed ratings `Rating_cat` from cell 5. Create the chart according to the **IBCS standard**.\n",
    "\n",
    "*Notes:*\n",
    "\n",
    "* Since you will probably have to make some adjustments to the display, it is advisable to use Matplotlib\n",
    "* You can generate the required data using `pivot_table()`. The use of the parameter `fill_value` could be helpful here\n",
    "* The representation you are looking for is a logical extension of the bar chart from cell 13"
   ]
  }
 ],
 "metadata": {
  "kernelspec": {
   "display_name": "Python 3 (ipykernel)",
   "language": "python",
   "name": "python3"
  },
  "language_info": {
   "codemirror_mode": {
    "name": "ipython",
    "version": 3
   },
   "file_extension": ".py",
   "mimetype": "text/x-python",
   "name": "python",
   "nbconvert_exporter": "python",
   "pygments_lexer": "ipython3",
   "version": "3.10.12"
  }
 },
 "nbformat": 4,
 "nbformat_minor": 4
}
