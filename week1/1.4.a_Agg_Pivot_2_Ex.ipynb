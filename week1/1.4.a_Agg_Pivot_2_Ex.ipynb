{
 "cells": [
  {
   "cell_type": "markdown",
   "metadata": {},
   "source": [
    "![Banner](./img/AI_Special_Program_Banner.jpg)  "
   ]
  },
  {
   "cell_type": "markdown",
   "metadata": {},
   "source": [
    "# Exercises for Aggregation of data and pivot tables II\n",
    "---"
   ]
  },
  {
   "cell_type": "markdown",
   "metadata": {},
   "source": [
    "In this exercise, you are to reconstruct an analysis by [David Robinson](http://varianceexplained.org/r/tidy-genomics/) in **Python/Pandas**. In this analysis, David Robinson analyzed the dataset `./data/Brauer2008_DataSet1.tds` from [Brauer 2008](https://www.molbiolcell.org/doi/full/10.1091/mbc.e07-08-0779) on gene expression in yeast cultures using R. Your task is to convert the dataset into a **tidy data format**. This should allow the data to be easily filtered and visualized."
   ]
  },
  {
   "cell_type": "markdown",
   "metadata": {},
   "source": [
    "Specifically, the following **problems** need to be solved:\n",
    "\n",
    "* **Column names are values and not variables** The column names contain values for two variables: *Nutrient* (G,N,P, etc.) and *Growth Rate* (0.05-0.3). This means that we do not get one observation per row, but 36! This is a common problem in biological data; due to the high dimensionality, you often see one row per gene and one row per sample, instead of one row per gene per sample.\n",
    "* **Multiple variables are stored in one column** The column `NAME` contains a lot of information, separated by `||`. More precisely, it contains information for:\n",
    "    * Name of the gene e.g. SFB2. However, not all genes have a name\n",
    "    * Biological process e.g. \"proteolysis and peptidolysis\"\n",
    "    * Molecular function e.g. \"metalloendopeptidase activity\"\n",
    "    * Systematic ID e.g. YNL049C. Each gene in this dataset has such an ID\n",
    "    * Another ID e.g. 1082129. Unfortunately it is not known what this ID represents."
   ]
  },
  {
   "cell_type": "markdown",
   "metadata": {},
   "source": [
    "### Bonus task"
   ]
  },
  {
   "cell_type": "markdown",
   "metadata": {},
   "source": [
    "Also implement the **visualizations** for `name=='LEU1'` and `BP=='leucine biosynthesis'` by [David Robinson](http://varianceexplained.org/r/tidy-genomics/) in Python! Since the plotting capabilities of Pandas are probably not sufficient here, you should take a look at [seaborn](https://seaborn.pydata.org/). The first plot should be quite easy to solve with `sns.lineplot`. For the second plot you need to use a [FacetGrid](https://seaborn.pydata.org/generated/seaborn.FacetGrid.html)."
   ]
  }
 ],
 "metadata": {
  "kernelspec": {
   "display_name": "Python 3 (ipykernel)",
   "language": "python",
   "name": "python3"
  },
  "language_info": {
   "codemirror_mode": {
    "name": "ipython",
    "version": 3
   },
   "file_extension": ".py",
   "mimetype": "text/x-python",
   "name": "python",
   "nbconvert_exporter": "python",
   "pygments_lexer": "ipython3",
   "version": "3.10.12"
  }
 },
 "nbformat": 4,
 "nbformat_minor": 4
}
