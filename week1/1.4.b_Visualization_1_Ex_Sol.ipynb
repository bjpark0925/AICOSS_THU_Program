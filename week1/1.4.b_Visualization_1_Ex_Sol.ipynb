{
 "cells": [
  {
   "cell_type": "markdown",
   "metadata": {},
   "source": [
    "![Banner](./img/AI_Special_Program_Banner.jpg)  \n"
   ]
  },
  {
   "cell_type": "markdown",
   "metadata": {},
   "source": [
    "# Solutions to exercise Visualization I\n",
    "---"
   ]
  },
  {
   "cell_type": "markdown",
   "metadata": {},
   "source": [
    "Create a [Stacked Bar Chart](https://matplotlib.org/gallery/lines_bars_and_markers/bar_stacked.html) based on the IMDB data. You should visualize the *average sales per year*, grouped by the transformed ratings `Rating_cat` from cell 5. Create the chart according to the **IBCS standard**.\n",
    "\n",
    "*Notes:*\n",
    "\n",
    "* Since you will probably have to make some adjustments to the display, it is advisable to use Matplotlib\n",
    "* You can generate the required data using `pivot_table()`. The use of the parameter `fill_value` could be helpful here\n",
    "* The representation you are looking for is a logical extension of the bar chart from cell 13"
   ]
  },
  {
   "cell_type": "code",
   "execution_count": 1,
   "metadata": {},
   "outputs": [],
   "source": [
    "import numpy as np\n",
    "import pandas as pd\n",
    "import matplotlib.pyplot as plt\n",
    "import seaborn as sns"
   ]
  },
  {
   "cell_type": "code",
   "execution_count": 2,
   "metadata": {},
   "outputs": [],
   "source": [
    "df = pd.read_csv('./data/imdb_ratings.csv')"
   ]
  },
  {
   "cell_type": "code",
   "execution_count": 3,
   "metadata": {},
   "outputs": [],
   "source": [
    "df['Rating_cat'] = pd.cut(df['Rating'], bins=3, labels=['Low', 'Medium', 'High'])"
   ]
  },
  {
   "cell_type": "code",
   "execution_count": 4,
   "metadata": {},
   "outputs": [],
   "source": [
    "df_pivot_rating = df.pivot_table(index=['Year'], columns='Rating_cat',values=['Revenue (Millions)'], aggfunc=np.mean, fill_value=0.0)"
   ]
  },
  {
   "cell_type": "markdown",
   "metadata": {},
   "source": [
    "Resolve the MultiIndex in the columns:"
   ]
  },
  {
   "cell_type": "code",
   "execution_count": 5,
   "metadata": {},
   "outputs": [],
   "source": [
    "df_pivot_rating.columns = df_pivot_rating.columns.droplevel().tolist()"
   ]
  },
  {
   "cell_type": "code",
   "execution_count": 6,
   "metadata": {},
   "outputs": [
    {
     "data": {
      "text/html": [
       "<div>\n",
       "<style scoped>\n",
       "    .dataframe tbody tr th:only-of-type {\n",
       "        vertical-align: middle;\n",
       "    }\n",
       "\n",
       "    .dataframe tbody tr th {\n",
       "        vertical-align: top;\n",
       "    }\n",
       "\n",
       "    .dataframe thead th {\n",
       "        text-align: right;\n",
       "    }\n",
       "</style>\n",
       "<table border=\"1\" class=\"dataframe\">\n",
       "  <thead>\n",
       "    <tr style=\"text-align: right;\">\n",
       "      <th></th>\n",
       "      <th>Low</th>\n",
       "      <th>Medium</th>\n",
       "      <th>High</th>\n",
       "    </tr>\n",
       "    <tr>\n",
       "      <th>Year</th>\n",
       "      <th></th>\n",
       "      <th></th>\n",
       "      <th></th>\n",
       "    </tr>\n",
       "  </thead>\n",
       "  <tbody>\n",
       "    <tr>\n",
       "      <th>2006</th>\n",
       "      <td>0.00</td>\n",
       "      <td>80.120000</td>\n",
       "      <td>89.728148</td>\n",
       "    </tr>\n",
       "    <tr>\n",
       "      <th>2007</th>\n",
       "      <td>0.00</td>\n",
       "      <td>78.001111</td>\n",
       "      <td>90.105500</td>\n",
       "    </tr>\n",
       "    <tr>\n",
       "      <th>2008</th>\n",
       "      <td>14.17</td>\n",
       "      <td>101.004500</td>\n",
       "      <td>100.632000</td>\n",
       "    </tr>\n",
       "    <tr>\n",
       "      <th>2009</th>\n",
       "      <td>9.35</td>\n",
       "      <td>103.375000</td>\n",
       "      <td>119.864375</td>\n",
       "    </tr>\n",
       "    <tr>\n",
       "      <th>2010</th>\n",
       "      <td>0.00</td>\n",
       "      <td>90.132273</td>\n",
       "      <td>114.478286</td>\n",
       "    </tr>\n",
       "    <tr>\n",
       "      <th>2011</th>\n",
       "      <td>0.00</td>\n",
       "      <td>76.875909</td>\n",
       "      <td>93.517250</td>\n",
       "    </tr>\n",
       "    <tr>\n",
       "      <th>2012</th>\n",
       "      <td>0.00</td>\n",
       "      <td>68.188750</td>\n",
       "      <td>131.844000</td>\n",
       "    </tr>\n",
       "    <tr>\n",
       "      <th>2013</th>\n",
       "      <td>0.00</td>\n",
       "      <td>53.813030</td>\n",
       "      <td>107.107091</td>\n",
       "    </tr>\n",
       "    <tr>\n",
       "      <th>2014</th>\n",
       "      <td>0.00</td>\n",
       "      <td>63.782791</td>\n",
       "      <td>103.034118</td>\n",
       "    </tr>\n",
       "    <tr>\n",
       "      <th>2015</th>\n",
       "      <td>166.15</td>\n",
       "      <td>53.818200</td>\n",
       "      <td>96.726774</td>\n",
       "    </tr>\n",
       "    <tr>\n",
       "      <th>2016</th>\n",
       "      <td>38.74</td>\n",
       "      <td>41.808557</td>\n",
       "      <td>67.047619</td>\n",
       "    </tr>\n",
       "  </tbody>\n",
       "</table>\n",
       "</div>"
      ],
      "text/plain": [
       "         Low      Medium        High\n",
       "Year                                \n",
       "2006    0.00   80.120000   89.728148\n",
       "2007    0.00   78.001111   90.105500\n",
       "2008   14.17  101.004500  100.632000\n",
       "2009    9.35  103.375000  119.864375\n",
       "2010    0.00   90.132273  114.478286\n",
       "2011    0.00   76.875909   93.517250\n",
       "2012    0.00   68.188750  131.844000\n",
       "2013    0.00   53.813030  107.107091\n",
       "2014    0.00   63.782791  103.034118\n",
       "2015  166.15   53.818200   96.726774\n",
       "2016   38.74   41.808557   67.047619"
      ]
     },
     "execution_count": 6,
     "metadata": {},
     "output_type": "execute_result"
    }
   ],
   "source": [
    "df_pivot_rating"
   ]
  },
  {
   "cell_type": "markdown",
   "metadata": {},
   "source": [
    "Extract values as an array:"
   ]
  },
  {
   "cell_type": "code",
   "execution_count": 7,
   "metadata": {},
   "outputs": [],
   "source": [
    "years = df_pivot_rating.index.values\n",
    "low_values = df_pivot_rating['Low'].values\n",
    "medium_values = df_pivot_rating['Medium'].values\n",
    "high_values = df_pivot_rating['High'].values"
   ]
  },
  {
   "cell_type": "markdown",
   "metadata": {},
   "source": [
    "Plot:"
   ]
  },
  {
   "cell_type": "code",
   "execution_count": 8,
   "metadata": {},
   "outputs": [
    {
     "data": {
      "image/png": "[encoded data removed]",
      "text/plain": [
       "<Figure size 800x500 with 1 Axes>"
      ]
     },
     "metadata": {},
     "output_type": "display_data"
    }
   ],
   "source": [
    "fig, ax = plt.subplots(figsize=(8,5), dpi=100, tight_layout=False)\n",
    "\n",
    "ax.bar(years, low_values, color='darkgrey')\n",
    "ax.bar(years, medium_values, bottom=low_values, color='grey')\n",
    "ax.bar(years, high_values, bottom=low_values+medium_values, color='lightgrey')\n",
    "\n",
    "ax.set_title('Movies Revenue in Millions\\n by Rating and Year')\n",
    "ax.set_frame_on(False) # delete axes\n",
    "ax.set_xticks(years) # show all labels\n",
    "ax.tick_params(bottom=False,labelbottom=True, labelleft=False, left=False) # delete ticks and ticklabels\n",
    "\n",
    "# annotate categories\n",
    "ax.text(years[-1]+0.6, low_values[-1]/2, 'Low Rating', verticalalignment='center')\n",
    "ax.text(years[-1]+0.6, low_values[-1]+medium_values[-1]/2, 'Medium Rating', verticalalignment='center')\n",
    "ax.text(years[-1]+0.6, low_values[-1]+medium_values[-1]+high_values[-1]/2, 'High Rating', verticalalignment='center')\n",
    "\n",
    "# annotate values\n",
    "for year, low, medium, high in zip(years,low_values, medium_values, high_values):\n",
    "    if low > 20: # show only bigger /visible values\n",
    "        ax.text(year, 4, str(int(low)), color='k', horizontalalignment=\"center\")\n",
    "    ax.text(year, low+5, str(int(medium)), color='w', horizontalalignment=\"center\")\n",
    "    ax.text(year, low+medium+5, str(int(high)), color='k', horizontalalignment=\"center\")\n",
    "    ax.text(year, low+medium+high+7, str(int(low+medium+high)), color='k',horizontalalignment=\"center\", weight='bold')\n",
    "\n",
    "plt.show()"
   ]
  }
 ],
 "metadata": {
  "kernelspec": {
   "display_name": "Python 3 (ipykernel)",
   "language": "python",
   "name": "python3"
  },
  "language_info": {
   "codemirror_mode": {
    "name": "ipython",
    "version": 3
   },
   "file_extension": ".py",
   "mimetype": "text/x-python",
   "name": "python",
   "nbconvert_exporter": "python",
   "pygments_lexer": "ipython3",
   "version": "3.10.12"
  }
 },
 "nbformat": 4,
 "nbformat_minor": 4
}
