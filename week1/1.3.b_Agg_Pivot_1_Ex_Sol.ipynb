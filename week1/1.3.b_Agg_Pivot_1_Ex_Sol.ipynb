{
 "cells": [
  {
   "cell_type": "markdown",
   "metadata": {},
   "source": [
    "![Banner](./img/AI_Special_Program_Banner.jpg)  \n",
    "\n",
    "# Aggregation of data and pivot tables - Exercise - Solution\n",
    "---"
   ]
  },
  {
   "cell_type": "markdown",
   "metadata": {},
   "source": [
    "## Task 1\n",
    "Work through the tutorial in the file [1.3.b_Pandas-Pivot-Table-Explained-NYCHouses.ipynb](1.3.b_Pandas-Pivot-Table-Explained-NYCHouses.ipynb) and then answer the following questions:\n",
    "\n",
    "### 1.1 Defining an order\n",
    "Suppose you had a column in a data frame in which the days of the week are entered with the abbreviations `MO, TU, WE, ..., SA, SO` instead of the numbers 1-7. What could you do to ensure that these values are output in the desired order when using this column in pivot tables?\n",
    "\n",
    "**Answer:** You could solve this as follows (the column name is `Weekday`):\n",
    "```python\n",
    "df[\"Weekday\"] = df[\"Weekday\"].astype(\"category\")\n",
    "df[\"Weekday\"].cat.set_categories([\"MO\", \"TU\", \"WE\", \"TH\", \"FR\", \"SA\", \"SO\"],inplace=True)\n",
    "```"
   ]
  },
  {
   "cell_type": "markdown",
   "metadata": {},
   "source": [
    "### 1.2 Columns and aggregate functions\n",
    "What do you think of the pivot tables in cells 6-8? In your answer, please explain in particular the use of the 'Zip Code' column and the aggregate function used.\n",
    "\n",
    "**Answer:** In the pivot tables, the standard aggregate function `mean` is used for all columns that have a numeric data type. Presumably `sum` would be more suitable as an aggregate function here. Above all, however, aggregating the column `Zip Code` makes no sense at all, as this is certainly not a measure that can be used for calculations."
   ]
  },
  {
   "cell_type": "markdown",
   "metadata": {},
   "source": [
    "### 1.3 `margins`\n",
    "What is the purpose of the `margins` and `margins_name` parameters of the `pivot_table()` function?\n",
    "\n",
    "**Answer:** This parameter is used to add a totals row or column. The name is given by `margins_name`."
   ]
  },
  {
   "cell_type": "markdown",
   "metadata": {},
   "source": [
    "### 1.4 `fill_value`\n",
    "What is the purpose of the `fill_value` parameter of the `pivot_table` function (e.g. in cell 17)?\n",
    "\n",
    "**Answer:** This parameter can be used to replace *missing values* (recognizable by the `NaN`) with something more meaningful, such as the value 0."
   ]
  },
  {
   "cell_type": "markdown",
   "metadata": {},
   "source": [
    "### 1.5 Aggregation by date\n",
    "How would you proceed if you wanted to obtain an aggregation by (sales) year in cell 17 instead of the aggregation by tax class?\n",
    "\n",
    "**Answer:** Unfortunately, `pivot_table()` does not automatically drill up the datetime values in `Sale Date`. A `year` column must therefore be generated from the `Sale Date` column. For example, using\n",
    "```python\n",
    "df['Year']=df['Sale Date'].dt.year\n",
    "```"
   ]
  },
  {
   "cell_type": "markdown",
   "metadata": {},
   "source": [
    "### 1.6 Aggregation of residential units\n",
    "Does it make sense to use the aggregate function `len` for the attribute `Residential Units` (e.g. in cell 22)? What could possibly go wrong here?\n",
    "\n",
    "**Answer:** The use of `len` would correspond to the use of `COUNT` in SQL and is therefore *not* sensible, because you have to add up, as there are numbers greater than 1. For clarification, repeat cell 22 with `np.sum` instead of `len`."
   ]
  },
  {
   "cell_type": "markdown",
   "metadata": {},
   "source": [
    "### 1.7 Multi-dimensional operations\n",
    "The data used in the tutorial could be based on the following (not very high quality) *star schema*.\n",
    "\n",
    "![ER model star schema](img/PropertySalesStar.png)\n",
    "\n",
    "Looking at the cells\n",
    "\n",
    "1. 9 $\\rightarrow$ *Drill-down* in the dimension `DimPlace`\n",
    "2. 16 $\\rightarrow$ Combination *Drill-down* (Borough) and *Split* (TaxClass)\n",
    "3. 20 $\\rightarrow$ *Split* of the values for the boroughs by TaxClass\n",
    "4. 24 $\\rightarrow$ *Slicing*, as the value is set for Borough\n",
    "\n",
    "respectively in the [notebook providing the material](1.3.b_Agg_Pivot_1_Mat.ipynb), which multi-dimensional operations were performed there?"
   ]
  }
 ],
 "metadata": {
  "kernelspec": {
   "display_name": "Python 3 (ipykernel)",
   "language": "python",
   "name": "python3"
  },
  "language_info": {
   "codemirror_mode": {
    "name": "ipython",
    "version": 3
   },
   "file_extension": ".py",
   "mimetype": "text/x-python",
   "name": "python",
   "nbconvert_exporter": "python",
   "pygments_lexer": "ipython3",
   "version": "3.10.12"
  }
 },
 "nbformat": 4,
 "nbformat_minor": 4
}
