{
 "cells": [
  {
   "cell_type": "markdown",
   "metadata": {},
   "source": [
    "![Banner](./img/AI_Special_Program_Banner.jpg)  \n"
   ]
  },
  {
   "cell_type": "markdown",
   "metadata": {},
   "source": [
    "# Sample solution for exercises LE10\n",
    "---"
   ]
  },
  {
   "cell_type": "markdown",
   "metadata": {},
   "source": [
    "In this exercise, you are to reconstruct an analysis by [David Robinson](http://varianceexplained.org/r/tidy-genomics/) in Python/Pandas. In this analysis, David Robinson used R to analyze a dataset on gene expression in yeast cultures. The main task is to convert the dataset into a tidy data format. This should allow the data to be easily filtered and visualized."
   ]
  },
  {
   "cell_type": "code",
   "execution_count": 1,
   "metadata": {},
   "outputs": [],
   "source": [
    "import pandas as pd\n",
    "import seaborn as sns\n",
    "import matplotlib.pyplot as plt"
   ]
  },
  {
   "cell_type": "markdown",
   "metadata": {},
   "source": [
    "Reading in the data"
   ]
  },
  {
   "cell_type": "code",
   "execution_count": 2,
   "metadata": {},
   "outputs": [],
   "source": [
    "df_gene = pd.read_csv('./data/Brauer2008_DataSet1.tds', delimiter='\\t')"
   ]
  },
  {
   "cell_type": "code",
   "execution_count": 3,
   "metadata": {},
   "outputs": [
    {
     "data": {
      "text/html": [
       "<div>\n",
       "<style scoped>\n",
       "    .dataframe tbody tr th:only-of-type {\n",
       "        vertical-align: middle;\n",
       "    }\n",
       "\n",
       "    .dataframe tbody tr th {\n",
       "        vertical-align: top;\n",
       "    }\n",
       "\n",
       "    .dataframe thead th {\n",
       "        text-align: right;\n",
       "    }\n",
       "</style>\n",
       "<table border=\"1\" class=\"dataframe\">\n",
       "  <thead>\n",
       "    <tr style=\"text-align: right;\">\n",
       "      <th></th>\n",
       "      <th>GID</th>\n",
       "      <th>YORF</th>\n",
       "      <th>NAME</th>\n",
       "      <th>GWEIGHT</th>\n",
       "      <th>G0.05</th>\n",
       "      <th>G0.1</th>\n",
       "      <th>G0.15</th>\n",
       "      <th>G0.2</th>\n",
       "      <th>G0.25</th>\n",
       "      <th>G0.3</th>\n",
       "      <th>...</th>\n",
       "      <th>L0.15</th>\n",
       "      <th>L0.2</th>\n",
       "      <th>L0.25</th>\n",
       "      <th>L0.3</th>\n",
       "      <th>U0.05</th>\n",
       "      <th>U0.1</th>\n",
       "      <th>U0.15</th>\n",
       "      <th>U0.2</th>\n",
       "      <th>U0.25</th>\n",
       "      <th>U0.3</th>\n",
       "    </tr>\n",
       "  </thead>\n",
       "  <tbody>\n",
       "    <tr>\n",
       "      <th>0</th>\n",
       "      <td>GENE1331X</td>\n",
       "      <td>A_06_P5820</td>\n",
       "      <td>SFB2       || ER to Golgi transport || molecul...</td>\n",
       "      <td>1</td>\n",
       "      <td>-0.24</td>\n",
       "      <td>-0.13</td>\n",
       "      <td>-0.21</td>\n",
       "      <td>-0.15</td>\n",
       "      <td>-0.05</td>\n",
       "      <td>-0.05</td>\n",
       "      <td>...</td>\n",
       "      <td>0.13</td>\n",
       "      <td>0.20</td>\n",
       "      <td>0.17</td>\n",
       "      <td>0.11</td>\n",
       "      <td>-0.06</td>\n",
       "      <td>-0.26</td>\n",
       "      <td>-0.05</td>\n",
       "      <td>-0.28</td>\n",
       "      <td>-0.19</td>\n",
       "      <td>0.09</td>\n",
       "    </tr>\n",
       "    <tr>\n",
       "      <th>1</th>\n",
       "      <td>GENE4924X</td>\n",
       "      <td>A_06_P5866</td>\n",
       "      <td>|| biological process unknown || mol...</td>\n",
       "      <td>1</td>\n",
       "      <td>0.28</td>\n",
       "      <td>0.13</td>\n",
       "      <td>-0.40</td>\n",
       "      <td>-0.48</td>\n",
       "      <td>-0.11</td>\n",
       "      <td>0.17</td>\n",
       "      <td>...</td>\n",
       "      <td>0.02</td>\n",
       "      <td>0.04</td>\n",
       "      <td>0.03</td>\n",
       "      <td>0.01</td>\n",
       "      <td>-1.02</td>\n",
       "      <td>-0.91</td>\n",
       "      <td>-0.59</td>\n",
       "      <td>-0.61</td>\n",
       "      <td>-0.17</td>\n",
       "      <td>0.18</td>\n",
       "    </tr>\n",
       "    <tr>\n",
       "      <th>2</th>\n",
       "      <td>GENE4690X</td>\n",
       "      <td>A_06_P1834</td>\n",
       "      <td>QRI7       || proteolysis and peptidolysis || ...</td>\n",
       "      <td>1</td>\n",
       "      <td>-0.02</td>\n",
       "      <td>-0.27</td>\n",
       "      <td>-0.27</td>\n",
       "      <td>-0.02</td>\n",
       "      <td>0.24</td>\n",
       "      <td>0.25</td>\n",
       "      <td>...</td>\n",
       "      <td>-0.07</td>\n",
       "      <td>-0.05</td>\n",
       "      <td>-0.13</td>\n",
       "      <td>-0.04</td>\n",
       "      <td>-0.91</td>\n",
       "      <td>-0.94</td>\n",
       "      <td>-0.42</td>\n",
       "      <td>-0.36</td>\n",
       "      <td>-0.49</td>\n",
       "      <td>-0.47</td>\n",
       "    </tr>\n",
       "    <tr>\n",
       "      <th>3</th>\n",
       "      <td>GENE1177X</td>\n",
       "      <td>A_06_P4928</td>\n",
       "      <td>CFT2       || mRNA polyadenylylation* || RNA b...</td>\n",
       "      <td>1</td>\n",
       "      <td>-0.33</td>\n",
       "      <td>-0.41</td>\n",
       "      <td>-0.24</td>\n",
       "      <td>-0.03</td>\n",
       "      <td>-0.03</td>\n",
       "      <td>0.00</td>\n",
       "      <td>...</td>\n",
       "      <td>-0.05</td>\n",
       "      <td>0.02</td>\n",
       "      <td>0.00</td>\n",
       "      <td>0.08</td>\n",
       "      <td>-0.53</td>\n",
       "      <td>-0.51</td>\n",
       "      <td>-0.26</td>\n",
       "      <td>0.05</td>\n",
       "      <td>-0.14</td>\n",
       "      <td>-0.01</td>\n",
       "    </tr>\n",
       "    <tr>\n",
       "      <th>4</th>\n",
       "      <td>GENE511X</td>\n",
       "      <td>A_06_P5620</td>\n",
       "      <td>SSO2       || vesicle fusion* || t-SNARE activ...</td>\n",
       "      <td>1</td>\n",
       "      <td>0.05</td>\n",
       "      <td>0.02</td>\n",
       "      <td>0.40</td>\n",
       "      <td>0.34</td>\n",
       "      <td>-0.13</td>\n",
       "      <td>-0.14</td>\n",
       "      <td>...</td>\n",
       "      <td>0.00</td>\n",
       "      <td>-0.11</td>\n",
       "      <td>0.04</td>\n",
       "      <td>0.01</td>\n",
       "      <td>-0.45</td>\n",
       "      <td>-0.09</td>\n",
       "      <td>-0.13</td>\n",
       "      <td>0.02</td>\n",
       "      <td>-0.09</td>\n",
       "      <td>-0.03</td>\n",
       "    </tr>\n",
       "  </tbody>\n",
       "</table>\n",
       "<p>5 rows × 40 columns</p>\n",
       "</div>"
      ],
      "text/plain": [
       "         GID        YORF                                               NAME  \\\n",
       "0  GENE1331X  A_06_P5820  SFB2       || ER to Golgi transport || molecul...   \n",
       "1  GENE4924X  A_06_P5866            || biological process unknown || mol...   \n",
       "2  GENE4690X  A_06_P1834  QRI7       || proteolysis and peptidolysis || ...   \n",
       "3  GENE1177X  A_06_P4928  CFT2       || mRNA polyadenylylation* || RNA b...   \n",
       "4   GENE511X  A_06_P5620  SSO2       || vesicle fusion* || t-SNARE activ...   \n",
       "\n",
       "   GWEIGHT  G0.05  G0.1  G0.15  G0.2  G0.25  G0.3  ...  L0.15  L0.2  L0.25  \\\n",
       "0        1  -0.24 -0.13  -0.21 -0.15  -0.05 -0.05  ...   0.13  0.20   0.17   \n",
       "1        1   0.28  0.13  -0.40 -0.48  -0.11  0.17  ...   0.02  0.04   0.03   \n",
       "2        1  -0.02 -0.27  -0.27 -0.02   0.24  0.25  ...  -0.07 -0.05  -0.13   \n",
       "3        1  -0.33 -0.41  -0.24 -0.03  -0.03  0.00  ...  -0.05  0.02   0.00   \n",
       "4        1   0.05  0.02   0.40  0.34  -0.13 -0.14  ...   0.00 -0.11   0.04   \n",
       "\n",
       "   L0.3  U0.05  U0.1  U0.15  U0.2  U0.25  U0.3  \n",
       "0  0.11  -0.06 -0.26  -0.05 -0.28  -0.19  0.09  \n",
       "1  0.01  -1.02 -0.91  -0.59 -0.61  -0.17  0.18  \n",
       "2 -0.04  -0.91 -0.94  -0.42 -0.36  -0.49 -0.47  \n",
       "3  0.08  -0.53 -0.51  -0.26  0.05  -0.14 -0.01  \n",
       "4  0.01  -0.45 -0.09  -0.13  0.02  -0.09 -0.03  \n",
       "\n",
       "[5 rows x 40 columns]"
      ]
     },
     "execution_count": 3,
     "metadata": {},
     "output_type": "execute_result"
    }
   ],
   "source": [
    "df_gene.head()"
   ]
  },
  {
   "cell_type": "markdown",
   "metadata": {},
   "source": [
    "What is \"untidy\" here?"
   ]
  },
  {
   "cell_type": "markdown",
   "metadata": {},
   "source": [
    "* **Column names are values and not variables** Our column names contain values for two variables: Nutrient (G,N,P, etc.) and Growth Rate (0.05-0.3). This gives us not one observation per row, but 36! This is a common problem in biological data; due to the high dimensionality, you often see one row per gene and one row per sample, instead of one row per gene per sample.\n",
    "* **Multiple variables are stored in one column** The column `NAME` contains a lot of information, separated by `||`. More precisely, it contains information for:\n",
    "    * Name of the gene e.g. SFB2. However, not all genes have a name\n",
    "    * Biological process e.g. \"proteolysis and peptidolysis\"\n",
    "    * Molecular function e.g. \"metalloendopeptidase activity\"\n",
    "    * Systematic ID e.g. YNL049C. Each gene in this dataset has such an ID\n",
    "    * Another ID e.g. 1082129. Unfortunately, it is not known what this ID represents."
   ]
  },
  {
   "cell_type": "code",
   "execution_count": 4,
   "metadata": {},
   "outputs": [
    {
     "data": {
      "text/plain": [
       "'QRI7       || proteolysis and peptidolysis || metalloendopeptidase activity || YDL104C || 1085955'"
      ]
     },
     "execution_count": 4,
     "metadata": {},
     "output_type": "execute_result"
    }
   ],
   "source": [
    "df_gene.loc[2,'NAME']"
   ]
  },
  {
   "cell_type": "markdown",
   "metadata": {},
   "source": [
    "We now want to solve both problems and convert our data into a Tidy Data format:"
   ]
  },
  {
   "cell_type": "markdown",
   "metadata": {},
   "source": [
    "## Several variables are stored in one column"
   ]
  },
  {
   "cell_type": "markdown",
   "metadata": {},
   "source": [
    "First we resolve the 'NAME' column:"
   ]
  },
  {
   "cell_type": "code",
   "execution_count": 5,
   "metadata": {},
   "outputs": [],
   "source": [
    "col_names = [\"name\", \"BP\", \"MF\", \"systematic_name\", \"number\"]"
   ]
  },
  {
   "cell_type": "markdown",
   "metadata": {},
   "source": [
    "The easiest way to extract the values is to create a new DataFrame:"
   ]
  },
  {
   "cell_type": "code",
   "execution_count": 6,
   "metadata": {},
   "outputs": [
    {
     "data": {
      "text/html": [
       "<div>\n",
       "<style scoped>\n",
       "    .dataframe tbody tr th:only-of-type {\n",
       "        vertical-align: middle;\n",
       "    }\n",
       "\n",
       "    .dataframe tbody tr th {\n",
       "        vertical-align: top;\n",
       "    }\n",
       "\n",
       "    .dataframe thead th {\n",
       "        text-align: right;\n",
       "    }\n",
       "</style>\n",
       "<table border=\"1\" class=\"dataframe\">\n",
       "  <thead>\n",
       "    <tr style=\"text-align: right;\">\n",
       "      <th></th>\n",
       "      <th>name</th>\n",
       "      <th>BP</th>\n",
       "      <th>MF</th>\n",
       "      <th>systematic_name</th>\n",
       "      <th>number</th>\n",
       "    </tr>\n",
       "  </thead>\n",
       "  <tbody>\n",
       "    <tr>\n",
       "      <th>0</th>\n",
       "      <td>SFB2</td>\n",
       "      <td>ER to Golgi transport</td>\n",
       "      <td>molecular function unknown</td>\n",
       "      <td>YNL049C</td>\n",
       "      <td>1082129</td>\n",
       "    </tr>\n",
       "    <tr>\n",
       "      <th>1</th>\n",
       "      <td></td>\n",
       "      <td>biological process unknown</td>\n",
       "      <td>molecular function unknown</td>\n",
       "      <td>YNL095C</td>\n",
       "      <td>1086222</td>\n",
       "    </tr>\n",
       "    <tr>\n",
       "      <th>2</th>\n",
       "      <td>QRI7</td>\n",
       "      <td>proteolysis and peptidolysis</td>\n",
       "      <td>metalloendopeptidase activity</td>\n",
       "      <td>YDL104C</td>\n",
       "      <td>1085955</td>\n",
       "    </tr>\n",
       "    <tr>\n",
       "      <th>3</th>\n",
       "      <td>CFT2</td>\n",
       "      <td>mRNA polyadenylylation*</td>\n",
       "      <td>RNA binding</td>\n",
       "      <td>YLR115W</td>\n",
       "      <td>1081958</td>\n",
       "    </tr>\n",
       "    <tr>\n",
       "      <th>4</th>\n",
       "      <td>SSO2</td>\n",
       "      <td>vesicle fusion*</td>\n",
       "      <td>t-SNARE activity</td>\n",
       "      <td>YMR183C</td>\n",
       "      <td>1081214</td>\n",
       "    </tr>\n",
       "  </tbody>\n",
       "</table>\n",
       "</div>"
      ],
      "text/plain": [
       "          name                              BP  \\\n",
       "0  SFB2                 ER to Golgi transport    \n",
       "1                  biological process unknown    \n",
       "2  QRI7          proteolysis and peptidolysis    \n",
       "3  CFT2               mRNA polyadenylylation*    \n",
       "4  SSO2                       vesicle fusion*    \n",
       "\n",
       "                                MF systematic_name    number  \n",
       "0      molecular function unknown         YNL049C    1082129  \n",
       "1      molecular function unknown         YNL095C    1086222  \n",
       "2   metalloendopeptidase activity         YDL104C    1085955  \n",
       "3                     RNA binding         YLR115W    1081958  \n",
       "4                t-SNARE activity         YMR183C    1081214  "
      ]
     },
     "execution_count": 6,
     "metadata": {},
     "output_type": "execute_result"
    }
   ],
   "source": [
    "df_name = pd.DataFrame(df_gene['NAME'].str.split('\\|\\|').values.tolist(), columns=col_names)\n",
    "df_name.head()"
   ]
  },
  {
   "cell_type": "markdown",
   "metadata": {},
   "source": [
    "We then have to merge this with the first DataFrame:"
   ]
  },
  {
   "cell_type": "code",
   "execution_count": 7,
   "metadata": {},
   "outputs": [],
   "source": [
    "df_gene_name = pd.concat([df_gene, df_name], axis=1)"
   ]
  },
  {
   "cell_type": "markdown",
   "metadata": {},
   "source": [
    "The 'NAME' column is then no longer needed:"
   ]
  },
  {
   "cell_type": "code",
   "execution_count": 8,
   "metadata": {},
   "outputs": [],
   "source": [
    "df_gene_name.drop('NAME', axis='columns', inplace=True)"
   ]
  },
  {
   "cell_type": "markdown",
   "metadata": {},
   "source": [
    "Finally, we remove the whitespace in the values that occurs after the split:"
   ]
  },
  {
   "cell_type": "code",
   "execution_count": 9,
   "metadata": {},
   "outputs": [],
   "source": [
    "for col in col_names:\n",
    "    df_gene_name[col] = df_gene_name[col].str.strip()"
   ]
  },
  {
   "cell_type": "markdown",
   "metadata": {},
   "source": [
    "## Column names are values and not variables"
   ]
  },
  {
   "cell_type": "markdown",
   "metadata": {},
   "source": [
    "We then want to extract the values from the column names. As a reminder: The columns `G0.05` to `U0.3` contain information on the variables Nutrient and Growth Rate."
   ]
  },
  {
   "cell_type": "code",
   "execution_count": 10,
   "metadata": {},
   "outputs": [
    {
     "data": {
      "text/plain": [
       "Index(['GID', 'YORF', 'GWEIGHT', 'G0.05', 'G0.1', 'G0.15', 'G0.2', 'G0.25',\n",
       "       'G0.3', 'N0.05', 'N0.1', 'N0.15', 'N0.2', 'N0.25', 'N0.3', 'P0.05',\n",
       "       'P0.1', 'P0.15', 'P0.2', 'P0.25', 'P0.3', 'S0.05', 'S0.1', 'S0.15',\n",
       "       'S0.2', 'S0.25', 'S0.3', 'L0.05', 'L0.1', 'L0.15', 'L0.2', 'L0.25',\n",
       "       'L0.3', 'U0.05', 'U0.1', 'U0.15', 'U0.2', 'U0.25', 'U0.3', 'name', 'BP',\n",
       "       'MF', 'systematic_name', 'number'],\n",
       "      dtype='object')"
      ]
     },
     "execution_count": 10,
     "metadata": {},
     "output_type": "execute_result"
    }
   ],
   "source": [
    "df_gene_name.columns"
   ]
  },
  {
   "cell_type": "markdown",
   "metadata": {},
   "source": [
    "\"Melting\" the DataFrame with `pd.melt()`:"
   ]
  },
  {
   "cell_type": "code",
   "execution_count": 11,
   "metadata": {},
   "outputs": [
    {
     "data": {
      "text/html": [
       "<div>\n",
       "<style scoped>\n",
       "    .dataframe tbody tr th:only-of-type {\n",
       "        vertical-align: middle;\n",
       "    }\n",
       "\n",
       "    .dataframe tbody tr th {\n",
       "        vertical-align: top;\n",
       "    }\n",
       "\n",
       "    .dataframe thead th {\n",
       "        text-align: right;\n",
       "    }\n",
       "</style>\n",
       "<table border=\"1\" class=\"dataframe\">\n",
       "  <thead>\n",
       "    <tr style=\"text-align: right;\">\n",
       "      <th></th>\n",
       "      <th>GID</th>\n",
       "      <th>YORF</th>\n",
       "      <th>GWEIGHT</th>\n",
       "      <th>name</th>\n",
       "      <th>BP</th>\n",
       "      <th>MF</th>\n",
       "      <th>systematic_name</th>\n",
       "      <th>number</th>\n",
       "      <th>sample</th>\n",
       "      <th>expression</th>\n",
       "    </tr>\n",
       "  </thead>\n",
       "  <tbody>\n",
       "    <tr>\n",
       "      <th>0</th>\n",
       "      <td>GENE1331X</td>\n",
       "      <td>A_06_P5820</td>\n",
       "      <td>1</td>\n",
       "      <td>SFB2</td>\n",
       "      <td>ER to Golgi transport</td>\n",
       "      <td>molecular function unknown</td>\n",
       "      <td>YNL049C</td>\n",
       "      <td>1082129</td>\n",
       "      <td>G0.05</td>\n",
       "      <td>-0.24</td>\n",
       "    </tr>\n",
       "    <tr>\n",
       "      <th>1</th>\n",
       "      <td>GENE4924X</td>\n",
       "      <td>A_06_P5866</td>\n",
       "      <td>1</td>\n",
       "      <td></td>\n",
       "      <td>biological process unknown</td>\n",
       "      <td>molecular function unknown</td>\n",
       "      <td>YNL095C</td>\n",
       "      <td>1086222</td>\n",
       "      <td>G0.05</td>\n",
       "      <td>0.28</td>\n",
       "    </tr>\n",
       "    <tr>\n",
       "      <th>2</th>\n",
       "      <td>GENE4690X</td>\n",
       "      <td>A_06_P1834</td>\n",
       "      <td>1</td>\n",
       "      <td>QRI7</td>\n",
       "      <td>proteolysis and peptidolysis</td>\n",
       "      <td>metalloendopeptidase activity</td>\n",
       "      <td>YDL104C</td>\n",
       "      <td>1085955</td>\n",
       "      <td>G0.05</td>\n",
       "      <td>-0.02</td>\n",
       "    </tr>\n",
       "    <tr>\n",
       "      <th>3</th>\n",
       "      <td>GENE1177X</td>\n",
       "      <td>A_06_P4928</td>\n",
       "      <td>1</td>\n",
       "      <td>CFT2</td>\n",
       "      <td>mRNA polyadenylylation*</td>\n",
       "      <td>RNA binding</td>\n",
       "      <td>YLR115W</td>\n",
       "      <td>1081958</td>\n",
       "      <td>G0.05</td>\n",
       "      <td>-0.33</td>\n",
       "    </tr>\n",
       "    <tr>\n",
       "      <th>4</th>\n",
       "      <td>GENE511X</td>\n",
       "      <td>A_06_P5620</td>\n",
       "      <td>1</td>\n",
       "      <td>SSO2</td>\n",
       "      <td>vesicle fusion*</td>\n",
       "      <td>t-SNARE activity</td>\n",
       "      <td>YMR183C</td>\n",
       "      <td>1081214</td>\n",
       "      <td>G0.05</td>\n",
       "      <td>0.05</td>\n",
       "    </tr>\n",
       "  </tbody>\n",
       "</table>\n",
       "</div>"
      ],
      "text/plain": [
       "         GID        YORF  GWEIGHT  name                            BP  \\\n",
       "0  GENE1331X  A_06_P5820        1  SFB2         ER to Golgi transport   \n",
       "1  GENE4924X  A_06_P5866        1          biological process unknown   \n",
       "2  GENE4690X  A_06_P1834        1  QRI7  proteolysis and peptidolysis   \n",
       "3  GENE1177X  A_06_P4928        1  CFT2       mRNA polyadenylylation*   \n",
       "4   GENE511X  A_06_P5620        1  SSO2               vesicle fusion*   \n",
       "\n",
       "                              MF systematic_name   number sample  expression  \n",
       "0     molecular function unknown         YNL049C  1082129  G0.05       -0.24  \n",
       "1     molecular function unknown         YNL095C  1086222  G0.05        0.28  \n",
       "2  metalloendopeptidase activity         YDL104C  1085955  G0.05       -0.02  \n",
       "3                    RNA binding         YLR115W  1081958  G0.05       -0.33  \n",
       "4               t-SNARE activity         YMR183C  1081214  G0.05        0.05  "
      ]
     },
     "execution_count": 11,
     "metadata": {},
     "output_type": "execute_result"
    }
   ],
   "source": [
    "df_gene_name_melt = pd.melt(df_gene_name, id_vars=['GID', 'YORF', 'GWEIGHT', 'name', 'BP', 'MF', 'systematic_name', 'number'], var_name='sample', value_name='expression')\n",
    "df_gene_name_melt.head()"
   ]
  },
  {
   "cell_type": "markdown",
   "metadata": {},
   "source": [
    "This makes our DataFrame considerably longer:"
   ]
  },
  {
   "cell_type": "code",
   "execution_count": 12,
   "metadata": {},
   "outputs": [
    {
     "data": {
      "text/plain": [
       "(5537, 44)"
      ]
     },
     "execution_count": 12,
     "metadata": {},
     "output_type": "execute_result"
    }
   ],
   "source": [
    "df_gene_name.shape"
   ]
  },
  {
   "cell_type": "code",
   "execution_count": 13,
   "metadata": {},
   "outputs": [
    {
     "data": {
      "text/plain": [
       "(199332, 10)"
      ]
     },
     "execution_count": 13,
     "metadata": {},
     "output_type": "execute_result"
    }
   ],
   "source": [
    "df_gene_name_melt.shape"
   ]
  },
  {
   "cell_type": "markdown",
   "metadata": {},
   "source": [
    "But now we have several variables in one column again: `nutrient` and `rate` in the `sample` column. We have to split these again. As this is a string with a fixed structure (`nutrient` is always the first character), we can simply slice the string:"
   ]
  },
  {
   "cell_type": "code",
   "execution_count": 14,
   "metadata": {},
   "outputs": [],
   "source": [
    "df_gene_name_melt['nutrient'] = df_gene_name_melt['sample'].str[0]\n",
    "df_gene_name_melt['rate'] = df_gene_name_melt['sample'].str[1:].astype('float64')"
   ]
  },
  {
   "cell_type": "code",
   "execution_count": 15,
   "metadata": {},
   "outputs": [],
   "source": [
    "df_gene_name_melt.drop('sample', axis='columns', inplace=True)"
   ]
  },
  {
   "cell_type": "code",
   "execution_count": 16,
   "metadata": {},
   "outputs": [
    {
     "data": {
      "text/html": [
       "<div>\n",
       "<style scoped>\n",
       "    .dataframe tbody tr th:only-of-type {\n",
       "        vertical-align: middle;\n",
       "    }\n",
       "\n",
       "    .dataframe tbody tr th {\n",
       "        vertical-align: top;\n",
       "    }\n",
       "\n",
       "    .dataframe thead th {\n",
       "        text-align: right;\n",
       "    }\n",
       "</style>\n",
       "<table border=\"1\" class=\"dataframe\">\n",
       "  <thead>\n",
       "    <tr style=\"text-align: right;\">\n",
       "      <th></th>\n",
       "      <th>GID</th>\n",
       "      <th>YORF</th>\n",
       "      <th>GWEIGHT</th>\n",
       "      <th>name</th>\n",
       "      <th>BP</th>\n",
       "      <th>MF</th>\n",
       "      <th>systematic_name</th>\n",
       "      <th>number</th>\n",
       "      <th>expression</th>\n",
       "      <th>nutrient</th>\n",
       "      <th>rate</th>\n",
       "    </tr>\n",
       "  </thead>\n",
       "  <tbody>\n",
       "    <tr>\n",
       "      <th>0</th>\n",
       "      <td>GENE1331X</td>\n",
       "      <td>A_06_P5820</td>\n",
       "      <td>1</td>\n",
       "      <td>SFB2</td>\n",
       "      <td>ER to Golgi transport</td>\n",
       "      <td>molecular function unknown</td>\n",
       "      <td>YNL049C</td>\n",
       "      <td>1082129</td>\n",
       "      <td>-0.24</td>\n",
       "      <td>G</td>\n",
       "      <td>0.05</td>\n",
       "    </tr>\n",
       "    <tr>\n",
       "      <th>1</th>\n",
       "      <td>GENE4924X</td>\n",
       "      <td>A_06_P5866</td>\n",
       "      <td>1</td>\n",
       "      <td></td>\n",
       "      <td>biological process unknown</td>\n",
       "      <td>molecular function unknown</td>\n",
       "      <td>YNL095C</td>\n",
       "      <td>1086222</td>\n",
       "      <td>0.28</td>\n",
       "      <td>G</td>\n",
       "      <td>0.05</td>\n",
       "    </tr>\n",
       "    <tr>\n",
       "      <th>2</th>\n",
       "      <td>GENE4690X</td>\n",
       "      <td>A_06_P1834</td>\n",
       "      <td>1</td>\n",
       "      <td>QRI7</td>\n",
       "      <td>proteolysis and peptidolysis</td>\n",
       "      <td>metalloendopeptidase activity</td>\n",
       "      <td>YDL104C</td>\n",
       "      <td>1085955</td>\n",
       "      <td>-0.02</td>\n",
       "      <td>G</td>\n",
       "      <td>0.05</td>\n",
       "    </tr>\n",
       "    <tr>\n",
       "      <th>3</th>\n",
       "      <td>GENE1177X</td>\n",
       "      <td>A_06_P4928</td>\n",
       "      <td>1</td>\n",
       "      <td>CFT2</td>\n",
       "      <td>mRNA polyadenylylation*</td>\n",
       "      <td>RNA binding</td>\n",
       "      <td>YLR115W</td>\n",
       "      <td>1081958</td>\n",
       "      <td>-0.33</td>\n",
       "      <td>G</td>\n",
       "      <td>0.05</td>\n",
       "    </tr>\n",
       "    <tr>\n",
       "      <th>4</th>\n",
       "      <td>GENE511X</td>\n",
       "      <td>A_06_P5620</td>\n",
       "      <td>1</td>\n",
       "      <td>SSO2</td>\n",
       "      <td>vesicle fusion*</td>\n",
       "      <td>t-SNARE activity</td>\n",
       "      <td>YMR183C</td>\n",
       "      <td>1081214</td>\n",
       "      <td>0.05</td>\n",
       "      <td>G</td>\n",
       "      <td>0.05</td>\n",
       "    </tr>\n",
       "  </tbody>\n",
       "</table>\n",
       "</div>"
      ],
      "text/plain": [
       "         GID        YORF  GWEIGHT  name                            BP  \\\n",
       "0  GENE1331X  A_06_P5820        1  SFB2         ER to Golgi transport   \n",
       "1  GENE4924X  A_06_P5866        1          biological process unknown   \n",
       "2  GENE4690X  A_06_P1834        1  QRI7  proteolysis and peptidolysis   \n",
       "3  GENE1177X  A_06_P4928        1  CFT2       mRNA polyadenylylation*   \n",
       "4   GENE511X  A_06_P5620        1  SSO2               vesicle fusion*   \n",
       "\n",
       "                              MF systematic_name   number  expression  \\\n",
       "0     molecular function unknown         YNL049C  1082129       -0.24   \n",
       "1     molecular function unknown         YNL095C  1086222        0.28   \n",
       "2  metalloendopeptidase activity         YDL104C  1085955       -0.02   \n",
       "3                    RNA binding         YLR115W  1081958       -0.33   \n",
       "4               t-SNARE activity         YMR183C  1081214        0.05   \n",
       "\n",
       "  nutrient  rate  \n",
       "0        G  0.05  \n",
       "1        G  0.05  \n",
       "2        G  0.05  \n",
       "3        G  0.05  \n",
       "4        G  0.05  "
      ]
     },
     "execution_count": 16,
     "metadata": {},
     "output_type": "execute_result"
    }
   ],
   "source": [
    "df_gene_name_melt.head()"
   ]
  },
  {
   "cell_type": "markdown",
   "metadata": {},
   "source": [
    "Our data is now available in Tidy Data format!"
   ]
  },
  {
   "cell_type": "markdown",
   "metadata": {},
   "source": [
    "## Bonus: Visualization"
   ]
  },
  {
   "cell_type": "code",
   "execution_count": 17,
   "metadata": {},
   "outputs": [],
   "source": [
    "mask = df_gene_name_melt['name'] == 'LEU1'"
   ]
  },
  {
   "cell_type": "code",
   "execution_count": 18,
   "metadata": {},
   "outputs": [
    {
     "data": {
      "image/png": "[encoded data removed]",
      "text/plain": [
       "<Figure size 1080x576 with 1 Axes>"
      ]
     },
     "metadata": {
      "needs_background": "light"
     },
     "output_type": "display_data"
    }
   ],
   "source": [
    "plt.figure(figsize=(15,8))\n",
    "sns.lineplot(data=df_gene_name_melt[mask], x='rate', y='expression', hue='nutrient');"
   ]
  },
  {
   "cell_type": "code",
   "execution_count": 19,
   "metadata": {},
   "outputs": [],
   "source": [
    "mask = df_gene_name_melt['BP'] == 'leucine biosynthesis'"
   ]
  },
  {
   "cell_type": "code",
   "execution_count": 21,
   "metadata": {},
   "outputs": [
    {
     "data": {
      "image/png": "[encoded data removed]",
      "text/plain": [
       "<Figure size 1200x288 with 4 Axes>"
      ]
     },
     "metadata": {
      "needs_background": "light"
     },
     "output_type": "display_data"
    }
   ],
   "source": [
    "g = sns.FacetGrid(df_gene_name_melt[mask], col=\"name\", hue='nutrient', height = 4)\n",
    "g.map(sns.lineplot, \"rate\", \"expression\")\n",
    "g.add_legend();"
   ]
  }
 ],
 "metadata": {
  "kernelspec": {
   "display_name": "Python 3 (ipykernel)",
   "language": "python",
   "name": "python3"
  },
  "language_info": {
   "codemirror_mode": {
    "name": "ipython",
    "version": 3
   },
   "file_extension": ".py",
   "mimetype": "text/x-python",
   "name": "python",
   "nbconvert_exporter": "python",
   "pygments_lexer": "ipython3",
   "version": "3.10.12"
  }
 },
 "nbformat": 4,
 "nbformat_minor": 4
}
