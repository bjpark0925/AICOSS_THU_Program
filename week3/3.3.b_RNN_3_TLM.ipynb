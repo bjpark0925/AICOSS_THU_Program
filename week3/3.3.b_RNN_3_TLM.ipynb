{
 "cells": [
  {
   "cell_type": "markdown",
   "metadata": {},
   "source": [
    "![Banner](img/AI_Special_Program_Banner.jpg)\n",
    "\n",
    "## Recurrent Neural Networks (RNN) - Material 3: Tiny Language Model (Character Level Training)\n",
    "---"
   ]
  },
  {
   "cell_type": "markdown",
   "metadata": {},
   "source": [
    "The material presented is adapted from *Python Machine Learning 3rd Edition* by [Sebastian Raschka](https://sebastianraschka.com) & [Vahid Mirjalili](http://vahidmirjalili.com), Packt Publishing Ltd. 2019 (code available on [GitHub](https://github.com/rasbt/python-machine-learning-book-3rd-edition))."
   ]
  },
  {
   "cell_type": "markdown",
   "metadata": {},
   "source": [
    "* Here: TLM (*Tiny* Language Model) instead of LLMs (Large Language Models) popularized by ChatGPT\n",
    "* Many principles are the same, especially *randomness* (possibly leading to *hallucinations* with LLMs)\n",
    "* Goal: generate text by \"teaching\" the computer a language by feeding it texts to learn from\n",
    "* Approach: do this character-by-character (see [Sutskever et al.](https://icml.cc/2011/papers/524_icmlpaper.pdf))!\n",
    "* Great read: [Karpathy's blog](http://karpathy.github.io/2015/05/21/rnn-effectiveness/)\n",
    "\n",
    "---"
   ]
  },
  {
   "cell_type": "markdown",
   "metadata": {},
   "source": [
    "## Overview\n",
    "\n",
    "- [Visualizing the idea](#Idea-visualized)\n",
    "- [Preprocessing](#Preprocessing-the-dataset)\n",
    "- [Classification Problem](#Problem-formulation-as-classification-task)\n",
    "- [Building a character-level RNN model](#Building-a-character-level-RNN-model)\n",
    "- [Evaluation phase: generating new text passages](#Preparing-the-evaluation-phase:-generating-new-text-passages)\n",
    "- [Text generation](#Text-Generation)\n",
    "- [Model Training](#Iterative-model-training)\n",
    "- [Learning Outcomes](#Learning-Outcomes)\n",
    "\n",
    "---"
   ]
  },
  {
   "cell_type": "code",
   "execution_count": 1,
   "metadata": {},
   "outputs": [],
   "source": [
    "# ensure torchtext installed\n",
    "try:\n",
    "    import torchtext\n",
    "except:\n",
    "    print(\"Installing torchtext\")\n",
    "    !pip install torchtext   "
   ]
  },
  {
   "cell_type": "code",
   "execution_count": 2,
   "metadata": {},
   "outputs": [],
   "source": [
    "import numpy as np\n",
    "\n",
    "import matplotlib.pyplot as plt\n",
    "%matplotlib inline\n",
    "\n",
    "import torch\n",
    "from torch.utils.data import Dataset, DataLoader, TensorDataset\n",
    "import torchtext\n",
    "from torchtext.data import get_tokenizer\n",
    "from torch import nn\n",
    "from tqdm.notebook import trange, tqdm\n",
    "# force gpu computing, when gpu library is available\n",
    "USE_GPU = True\n",
    "\n",
    "import datetime as dt"
   ]
  },
  {
   "cell_type": "markdown",
   "metadata": {},
   "source": [
    "As we will see below, there is no ground truth here in the same sense as it occurs in other examples. Therefore, we need a special form of the training loop, since it does not make sense to calculate *validation accuracy* here."
   ]
  },
  {
   "cell_type": "code",
   "execution_count": 3,
   "metadata": {},
   "outputs": [],
   "source": [
    "# importing module for training loop\n",
    "from train_loop import train_for_epochs_no_gt"
   ]
  },
  {
   "cell_type": "code",
   "execution_count": 4,
   "metadata": {},
   "outputs": [],
   "source": [
    "#ignore warnings (use 'default' instead of 'ignore' if you want to see the warnings)\n",
    "import warnings\n",
    "warnings.filterwarnings('ignore')"
   ]
  },
  {
   "cell_type": "code",
   "execution_count": 5,
   "metadata": {},
   "outputs": [
    {
     "name": "stdout",
     "output_type": "stream",
     "text": [
      "CUDA_AVAILABLE = True\n"
     ]
    }
   ],
   "source": [
    "CUDA_AVAILABLE = torch.cuda.is_available()\n",
    "print(f'CUDA_AVAILABLE = {CUDA_AVAILABLE}')"
   ]
  },
  {
   "cell_type": "markdown",
   "metadata": {},
   "source": [
    "### Idea visualized\n",
    "* break text down into sequence of characters\n",
    "* then three step approach:\n",
    "  - data preparation\n",
    "  - build RNN model\n",
    "  - sampling for generating new text"
   ]
  },
  {
   "cell_type": "markdown",
   "metadata": {},
   "source": [
    "<img src=\"./img/16_11.png\" width=700/>"
   ]
  },
  {
   "cell_type": "markdown",
   "metadata": {},
   "source": [
    "### Preprocessing the dataset\n",
    "* step 0: data (works by Mark Twain) obtained from [Project Gutenberg](https://www.gutenberg.org/)\n",
    "* step 1: find list of *unique* characters"
   ]
  },
  {
   "cell_type": "code",
   "execution_count": 6,
   "metadata": {},
   "outputs": [
    {
     "name": "stdout",
     "output_type": "stream",
     "text": [
      "91 5197033\n",
      "Total Length: 5196942\n",
      "Unique Characters: 106\n"
     ]
    }
   ],
   "source": [
    "## Reading and processing text\n",
    "with open('data/Twain.txt', 'r', encoding='utf8') as fp:\n",
    "    text=fp.read()\n",
    "    \n",
    "start_idx = text.find('A CONNECTICUT YANKEE')\n",
    "end_idx = text.find('END OF THIS PROJECT GUTENBERG EBOOK')\n",
    "print(start_idx, end_idx)\n",
    "\n",
    "text = text[start_idx:end_idx]\n",
    "char_set = set(text)\n",
    "print('Total Length:', len(text))\n",
    "print('Unique Characters:', len(char_set))"
   ]
  },
  {
   "cell_type": "markdown",
   "metadata": {},
   "source": [
    "* step 2: create mappings to encode and decode the text\n",
    "\n",
    "<img src=\"./img/16_12.png\" width=700/>"
   ]
  },
  {
   "cell_type": "code",
   "execution_count": 7,
   "metadata": {},
   "outputs": [
    {
     "name": "stdout",
     "output_type": "stream",
     "text": [
      "Text encoded shape:  (5196942,)\n",
      "A CONNECTICUT Y      == Encoding ==>  [28  1 30 42 41 41 32 30 47 36 30 48 47  1 52]\n",
      "[28 41 38 32 32  1]  == Reverse  ==>  ANKEE \n"
     ]
    }
   ],
   "source": [
    "chars_sorted = sorted(char_set)\n",
    "char2int = {ch:i for i,ch in enumerate(chars_sorted)}\n",
    "char_array = np.array(chars_sorted)\n",
    "\n",
    "text_encoded = np.array(\n",
    "    [char2int[ch] for ch in text],\n",
    "    dtype=np.int32)\n",
    "\n",
    "print('Text encoded shape: ', text_encoded.shape)\n",
    "\n",
    "print(text[:15], '     == Encoding ==> ', text_encoded[:15])\n",
    "print(text_encoded[15:21], ' == Reverse  ==> ', ''.join(char_array[text_encoded[15:21]]))"
   ]
  },
  {
   "cell_type": "code",
   "execution_count": 8,
   "metadata": {},
   "outputs": [
    {
     "name": "stdout",
     "output_type": "stream",
     "text": [
      "28 -> A\n",
      "1 ->  \n",
      "30 -> C\n",
      "42 -> O\n",
      "41 -> N\n"
     ]
    }
   ],
   "source": [
    "#transform to tensor\n",
    "ds_text_encoded = torch.from_numpy(text_encoded)\n",
    "\n",
    "for i in range(5):\n",
    "    ex = ds_text_encoded[i]\n",
    "    print(f'{ex.numpy()} -> {char_array[ex.numpy()]}')"
   ]
  },
  {
   "cell_type": "markdown",
   "metadata": {},
   "source": [
    "### Problem formulation as classification task\n",
    "---\n",
    "* Given a sequence of text, we want to predict the next character\n",
    "* $\\rightarrow$ multiclass with number of classes $=$ number of unique characters\n",
    "<img src=\"./img/16_13.png\" width=700/>"
   ]
  },
  {
   "cell_type": "markdown",
   "metadata": {},
   "source": [
    "+ $\\rightarrow$ iterative generation of text\n",
    "+ inputs and targets offset by one\n",
    "\n",
    "<img src=\"./img/16_14.png\" width=700/>"
   ]
  },
  {
   "cell_type": "markdown",
   "metadata": {},
   "source": [
    "### Implementation in PyTorch\n",
    "---\n",
    "* decide on *length of sequence* to use for training\n",
    "  + longer sequences $\\rightarrow$ more meaningful sentences, but possibly harder to capture long-term dependencies\n",
    "  + shorter sequences $\\rightarrow$ correct on individual words, but ignoring context\n",
    "* $\\rightarrow$ hyperparameter to be optimized"
   ]
  },
  {
   "cell_type": "code",
   "execution_count": 9,
   "metadata": {},
   "outputs": [
    {
     "name": "stdout",
     "output_type": "stream",
     "text": [
      "[28  1 30 42 41 41 32 30 47 36 30 48 47  1 52 28 41 38 32 32  1 36 41  1\n",
      " 38 36 41 34  1 28 45 47 35 48 45  5 46  1 30 42]  ->  48\n",
      "\"A CONNECTICUT YANKEE IN KING ARTHUR'S CO\"  ->  'U'\n"
     ]
    }
   ],
   "source": [
    "class CharSequenceDataset(Dataset):\n",
    "\n",
    "    def __init__(self, text_encoded, seq_length, offset):\n",
    "        sequences = []\n",
    "        target = []\n",
    "        for i in range(0, len(text_encoded) - seq_length - 1, offset):\n",
    "            seq = text_encoded[i: i + seq_length]\n",
    "            sequences.append(seq)\n",
    "            target.append(text_encoded[i + seq_length])\n",
    "        self.sequences = torch.tensor(sequences)\n",
    "        self.target = torch.tensor(target)\n",
    "        \n",
    "    \n",
    "    def __len__(self):\n",
    "        return len(self.sequences)\n",
    "    \n",
    "    def __getitem__(self, idx):\n",
    "        return self.sequences[idx], self.target[idx]\n",
    "    \n",
    "\n",
    "seq_length = 40\n",
    "offset = seq_length \n",
    "\n",
    "ds = CharSequenceDataset(text_encoded, seq_length, offset)\n",
    "\n",
    "## inspection:\n",
    "for seq, target in ds:\n",
    "    print(seq.numpy(), ' -> ', target.numpy())\n",
    "    print(repr(''.join(char_array[seq])), \n",
    "          ' -> ', repr(''.join(char_array[target])))\n",
    "    break"
   ]
  },
  {
   "cell_type": "code",
   "execution_count": 10,
   "metadata": {},
   "outputs": [
    {
     "data": {
      "text/plain": [
       "129923"
      ]
     },
     "execution_count": 10,
     "metadata": {},
     "output_type": "execute_result"
    }
   ],
   "source": [
    "# final preparation step: create a data loader\n",
    "BATCH_SIZE = 128\n",
    "\n",
    "trainloader = DataLoader(ds, shuffle=True, batch_size=BATCH_SIZE)\n",
    "len(ds)"
   ]
  },
  {
   "cell_type": "code",
   "execution_count": 11,
   "metadata": {},
   "outputs": [
    {
     "name": "stdout",
     "output_type": "stream",
     "text": [
      "Using cuda for training the network\n"
     ]
    }
   ],
   "source": [
    "# Set the device for training\n",
    "device = torch.device(\"cuda\" if torch.cuda.is_available() and USE_GPU else \"cpu\")\n",
    "print(f'Using {device} for training the network')"
   ]
  },
  {
   "cell_type": "markdown",
   "metadata": {},
   "source": [
    "### Building a character-level RNN model\n",
    "---\n",
    "* no activation in the final FC layer $\\rightarrow$ logits available for sampling later\n",
    "* we will try out the GRU architecture this time\n",
    "* bi-directionality is obviously not needed for this specific task"
   ]
  },
  {
   "cell_type": "code",
   "execution_count": 12,
   "metadata": {},
   "outputs": [
    {
     "data": {
      "text/plain": [
       "Network(\n",
       "  (embedding): Embedding(106, 26)\n",
       "  (rnn): GRU(26, 512, batch_first=True)\n",
       "  (linear): Linear(in_features=512, out_features=106, bias=True)\n",
       ")"
      ]
     },
     "execution_count": 12,
     "metadata": {},
     "output_type": "execute_result"
    }
   ],
   "source": [
    "class Network(nn.Module):\n",
    "    def __init__(self, vocab_size, embedding_dim, rnn_units, recurrent_type='LSTM'):\n",
    "        super(Network, self).__init__()\n",
    "        self.recurrent_type = recurrent_type\n",
    "        self.embedding = nn.Embedding(vocab_size, embedding_dim)\n",
    "        if recurrent_type == 'RNN':\n",
    "            self.rnn = nn.RNN(embedding_dim, rnn_units, batch_first=True)\n",
    "        elif recurrent_type == 'LSTM':\n",
    "            self.rnn = nn.LSTM(embedding_dim, rnn_units, batch_first=True)\n",
    "        elif recurrent_type == 'GRU':\n",
    "            self.rnn = nn.GRU(embedding_dim, rnn_units, batch_first=True)\n",
    "        self.linear = nn.Linear(rnn_units, vocab_size)\n",
    "    \n",
    "    def forward(self, x):\n",
    "        embedded = self.embedding(x)\n",
    "        #lstm also returns the cell hidden state\n",
    "        if self.recurrent_type == \"LSTM\":\n",
    "            output, (hidden, cell_hidden) = self.rnn(embedded)\n",
    "        else:\n",
    "            output, hidden = self.rnn(embedded)\n",
    "        # take the last time step and predict the next character\n",
    "        output = self.linear(hidden[-1])\n",
    "        return output\n",
    "\n",
    "vocab_size = len(char_array)\n",
    "# Define hyperparameters\n",
    "embedding_dim = vocab_size // 4\n",
    "rnn_units = 512\n",
    "\n",
    "# Instantiate the PyTorch model\n",
    "model = Network(vocab_size, embedding_dim, rnn_units, recurrent_type='GRU')\n",
    "# Move the model weights to the desired device\n",
    "model.to(device)\n",
    "model"
   ]
  },
  {
   "cell_type": "code",
   "execution_count": 13,
   "metadata": {},
   "outputs": [],
   "source": [
    "# for accumulating the loss values over the epochs\n",
    "hist_cum = []\n",
    "# counting the numbe rof epochs trained so far\n",
    "total_epochs = 0\n",
    "\n",
    "# Define the loss function\n",
    "criterion = nn.CrossEntropyLoss()\n",
    "\n",
    "# Define the optimizer\n",
    "optimizer = torch.optim.Adam(model.parameters())"
   ]
  },
  {
   "cell_type": "markdown",
   "metadata": {},
   "source": [
    "### Preparing the evaluation phase: generating new text passages\n",
    "* can convert logits to probabilities via [softmax function](https://en.wikipedia.org/wiki/Softmax_function)\n",
    "* conversion just *scaling by a constant* $\\rightarrow$ logits can be used directly for choosing most probable character\n",
    "* for generating new text: need *(random) sampling*: [torch.multinomial](https://pytorch.org/docs/stable/generated/torch.multinomial.html)"
   ]
  },
  {
   "cell_type": "code",
   "execution_count": 14,
   "metadata": {},
   "outputs": [
    {
     "name": "stdout",
     "output_type": "stream",
     "text": [
      "Probabilities: tensor([[0.3333, 0.3333, 0.3333]])\n",
      "tensor([[1, 2, 1, 1, 1, 0, 1, 0, 1, 1]])\n"
     ]
    }
   ],
   "source": [
    "# example 1: equal probabilities\n",
    "logits = torch.tensor([[1.0, 1.0, 1.0]])\n",
    "print('Probabilities:', torch.softmax(logits, 1))\n",
    "\n",
    "# Define the number of samples to draw\n",
    "num_samples = 10\n",
    "\n",
    "# Use torch.multinomial to sample from the distribution\n",
    "samples = torch.multinomial(torch.exp(logits), num_samples, replacement=True)\n",
    "print(samples)"
   ]
  },
  {
   "cell_type": "code",
   "execution_count": 15,
   "metadata": {},
   "outputs": [
    {
     "name": "stdout",
     "output_type": "stream",
     "text": [
      "Probabilities: tensor([[0.1065, 0.1065, 0.7870]])\n",
      "tensor([[1, 2, 2, 2, 2, 2, 0, 2, 2, 0]])\n"
     ]
    }
   ],
   "source": [
    "# example 2: higher probability for sample 2\n",
    "logits = torch.tensor([[1.0, 1.0, 3.0]])\n",
    "print('Probabilities:', torch.softmax(logits, 1))\n",
    "\n",
    "# Define the number of samples to draw\n",
    "num_samples = 10\n",
    "\n",
    "# Use torch.multinomial to sample from the distribution\n",
    "samples = torch.multinomial(torch.exp(logits), num_samples, replacement=True)\n",
    "print(samples)"
   ]
  },
  {
   "cell_type": "code",
   "execution_count": 16,
   "metadata": {},
   "outputs": [],
   "source": [
    "import torch\n",
    "\n",
    "def sample(model, starting_str, \n",
    "           len_generated_text=500, \n",
    "           max_input_length=40,\n",
    "           scale_factor=1.0):\n",
    "    model.eval()\n",
    "    \n",
    "    encoded_input = [char2int[s] for s in starting_str]\n",
    "    encoded_input = torch.tensor(encoded_input).view(1, -1).to(device)\n",
    "\n",
    "    generated_str = starting_str\n",
    "    \n",
    "    with torch.no_grad():\n",
    "        for i in range(len_generated_text):\n",
    "            logits = model(encoded_input)\n",
    "            logits = logits.squeeze(0)\n",
    "\n",
    "            scaled_logits = logits * scale_factor\n",
    "            new_char_idx = torch.multinomial(torch.exp(scaled_logits), num_samples=1)\n",
    "\n",
    "            new_char_idx = new_char_idx[-1].item()\n",
    "\n",
    "            generated_str += str(char_array[new_char_idx])\n",
    "\n",
    "            new_char_idx = torch.tensor([new_char_idx]).view(1, 1).to(device)\n",
    "            encoded_input = torch.cat(\n",
    "                [encoded_input, new_char_idx],\n",
    "                dim=1)\n",
    "            encoded_input = encoded_input[:, -max_input_length:]\n",
    "\n",
    "    return generated_str\n",
    "# print(sample(model, starting_str=\"Huck didn't think\"))"
   ]
  },
  {
   "cell_type": "markdown",
   "metadata": {},
   "source": [
    "#### Temperature: Predictability vs. randomness\n",
    "* scaling of logits before computing softmax possible\n",
    "* scaling factor $\\alpha$ can be interpreted as *inverse temperature* in physics\n",
    "  + $\\alpha > 1$: getting cooler $\\rightarrow$ more predictable (distribution becomes more distinct)\n",
    "  + $\\alpha > 1$: getting warmer $\\rightarrow$ more random (distribution becomes more uniform)\n",
    "* tradeoff between sensibility and uniqueness of generated sample"
   ]
  },
  {
   "cell_type": "code",
   "execution_count": 17,
   "metadata": {},
   "outputs": [
    {
     "name": "stdout",
     "output_type": "stream",
     "text": [
      "Probabilities before scaling:         tensor([[0.1065, 0.1065, 0.7870]])\n",
      "Probabilities after scaling with 1.5: tensor([[0.0453, 0.0453, 0.9094]])\n",
      "Probabilities after scaling with 0.1: tensor([[0.3104, 0.3104, 0.3792]])\n"
     ]
    }
   ],
   "source": [
    "# example\n",
    "logits = torch.tensor([[1.0, 1.0, 3.0]])\n",
    "\n",
    "print('Probabilities before scaling:        ', torch.softmax(logits, 1))\n",
    "print('Probabilities after scaling with 1.5:', torch.softmax(1.5 * logits, 1))\n",
    "print('Probabilities after scaling with 0.1:', torch.softmax(0.1 * logits, 1))"
   ]
  },
  {
   "cell_type": "markdown",
   "metadata": {},
   "source": [
    "**Generating samples of different characteristics**\n",
    "\n",
    "Choose the (inverse) temperature value (`scale_factor`) as follows:\n",
    "* $\\approx 2.0$ for predictable results\n",
    "* $\\approx 0.5$ for highly random results\n",
    "* $\\approx 1.5$ for reasonable results\n",
    "\n",
    "Obviously, this only holds once the model has reached a certain maturity, i.e., it has been trained for a reasonable amount of epochs. However, we can use the `sample` function to get a better idea as to how the model learns. We can even check what happens, if we apply the the model right after initialization."
   ]
  },
  {
   "cell_type": "markdown",
   "metadata": {},
   "source": [
    "### Text generation\n",
    "This can be performed after various stages of training (just re-run the cell below after performing training). It is particularly interesting to do so right after initialization of the model and compare that to the output after just one epoch. What do you notice? Also, try continuing the training for some more epochs and see what happens then. Finally, play around with the (inverse) temperature a bit (values to try out could be $2.0, 1.5$ and $0.5$, e.g."
   ]
  },
  {
   "cell_type": "code",
   "execution_count": 21,
   "metadata": {
    "scrolled": true
   },
   "outputs": [
    {
     "name": "stdout",
     "output_type": "stream",
     "text": [
      "Performing sampling after 1 epochs of training with (inverse) temperature set to 2.0\n",
      "\n",
      "Low temperature:\n",
      "========================\n",
      "Huck didn't think the manted their not we the had cansers, and here were not got of heid with the rearsing\n",
      "the stood the stand the proses proce menty the was good of the with dever lafsed the masterss, and here were was the some of\n",
      "coneresteres and mand the crooded of the was be pernessing the shother the hald not the king\n",
      "court king the was the prowed then as they was no the there and lith\n",
      "the precter he the geat in the keve worked hive never of the wanthers the seet of the is got like a forsterts and here from\n"
     ]
    }
   ],
   "source": [
    "inverse_temperature = 2.\n",
    "temp_cat = \"Low temperature\"\n",
    "if inverse_temperature <= 1.5001:\n",
    "    if inverse_temperature <= 0.8001:\n",
    "        temp_cat = \"High temperature\"\n",
    "    else:\n",
    "        temp_cat = \"Normal temperature\"\n",
    "\n",
    "print(f'Performing sampling after {total_epochs} epochs of training with (inverse) temperature set to {inverse_temperature:.1f}')\n",
    "print(f\"\\n{temp_cat}:\\n========================\")\n",
    "print(sample(model, starting_str=\"Huck didn't think\", \n",
    "             scale_factor=inverse_temperature))"
   ]
  },
  {
   "cell_type": "markdown",
   "metadata": {},
   "source": [
    "### Iterative model training"
   ]
  },
  {
   "cell_type": "markdown",
   "metadata": {},
   "source": [
    "Now perform the training loop once and go back to check what output the model produces then. Afterwards, continue training and go back and forth between sampling and training to get a feeling for the progress the model makes towards a TML."
   ]
  },
  {
   "cell_type": "code",
   "execution_count": 19,
   "metadata": {},
   "outputs": [
    {
     "name": "stdout",
     "output_type": "stream",
     "text": [
      "Charlevel training started: 2024-01-28 23:24:44.114913\n"
     ]
    },
    {
     "data": {
      "application/vnd.jupyter.widget-view+json": {
       "model_id": "5e2839ff52b3457f985535d3083a1bf3",
       "version_major": 2,
       "version_minor": 0
      },
      "text/plain": [
       "  0%|          | 0/1 [00:00<?, ?it/s]"
      ]
     },
     "metadata": {},
     "output_type": "display_data"
    },
    {
     "name": "stdout",
     "output_type": "stream",
     "text": [
      "Charlevel training finished 2024-01-28 23:24:53.853363 (duration: 0:00:09.738450)\n"
     ]
    }
   ],
   "source": [
    "NUM_EPOCHS = 1 \n",
    "# run training\n",
    "start_train = dt.datetime.now()\n",
    "print(f'Charlevel training started: {start_train}')\n",
    "history = train_for_epochs_no_gt(device, NUM_EPOCHS, model, trainloader, optimizer, criterion)\n",
    "finish_train = dt.datetime.now()\n",
    "print(f'Charlevel training finished {finish_train} (duration: {finish_train - start_train})')\n",
    "#accumulate loss values\n",
    "hist_cum += history['loss']\n",
    "total_epochs += NUM_EPOCHS"
   ]
  },
  {
   "cell_type": "markdown",
   "metadata": {},
   "source": [
    "### Checking the loss curve\n",
    "Finally, we can plot the loss curve to get a feeling as to whether the model is still improving"
   ]
  },
  {
   "cell_type": "code",
   "execution_count": 20,
   "metadata": {},
   "outputs": [
    {
     "name": "stdout",
     "output_type": "stream",
     "text": [
      "The model has been trained for 1 epochs so far\n",
      "\n"
     ]
    },
    {
     "data": {
      "image/png": "[encoded data removed]",
      "text/plain": [
       "<Figure size 1200x400 with 1 Axes>"
      ]
     },
     "metadata": {},
     "output_type": "display_data"
    }
   ],
   "source": [
    "print(f'The model has been trained for {total_epochs} epochs so far\\n')\n",
    "# plot the loss curve\n",
    "x_arr = np.arange(len(hist_cum)) + 1\n",
    "\n",
    "fig = plt.figure(figsize=(12, 4))\n",
    "plt.plot(x_arr, hist_cum, '-o', label='Train loss')\n",
    "plt.legend(fontsize=15)\n",
    "\n",
    "plt.show()"
   ]
  },
  {
   "cell_type": "markdown",
   "metadata": {},
   "source": [
    "## Learning Outcomes\n",
    "---\n",
    "With the conclusion of the chapter on RNNs, you should now\n",
    "\n",
    "* know the differences between sequential and non-sequential data;\n",
    "* have an idea in which areas of application RNNs are a suitable machine learning technique;\n",
    "* have a solid understanding of the key concepts that differentiate RNNs from other network architectures;\n",
    "* have the ability to describe an LSTM cell and what issues it overcomes;\n",
    "* be comfortable with a variety of NLP-related data preprocessing techniques, such as tokenization, encoding, and embeddings;\n",
    "* be able to perform sentiment analysis utilizing RNNs;\n",
    "* train a model to generate text in the style of works presented a learning material;\n",
    "* have the ability to implement RNNs on your own, with the help of `PyTorch`."
   ]
  },
  {
   "cell_type": "code",
   "execution_count": null,
   "metadata": {},
   "outputs": [],
   "source": []
  }
 ],
 "metadata": {
  "kernelspec": {
   "display_name": "Python 3 (ipykernel)",
   "language": "python",
   "name": "python3"
  },
  "language_info": {
   "codemirror_mode": {
    "name": "ipython",
    "version": 3
   },
   "file_extension": ".py",
   "mimetype": "text/x-python",
   "name": "python",
   "nbconvert_exporter": "python",
   "pygments_lexer": "ipython3",
   "version": "3.11.7"
  }
 },
 "nbformat": 4,
 "nbformat_minor": 4
}
