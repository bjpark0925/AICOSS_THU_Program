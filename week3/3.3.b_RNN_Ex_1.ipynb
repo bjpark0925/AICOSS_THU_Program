{
 "cells": [
  {
   "cell_type": "markdown",
   "metadata": {
    "id": "nAj6ncpIMJaQ",
    "jp-MarkdownHeadingCollapsed": true
   },
   "source": [
    "![Banner](img/AI_Special_Program_Banner.jpg)\n",
    "\n",
    "## Recurrent Neural Networks (RNN) - Exercise 1: Tiny Language Model for Limericks\n",
    "---\n",
    "Instructions are given in <span style=\"color:blue\">blue</span> color.\n",
    "(Unfortunately, Google Colab won't display the blue color.)"
   ]
  },
  {
   "cell_type": "markdown",
   "metadata": {
    "id": "tk1sHtZkMJaR"
   },
   "source": [
    "In this exercise, we want to deal with a common requirement when working with deep learning models: Models should be reusable.\n",
    "\n",
    "As you may have noticed, depending on the complexity of the problem and the amount of data, the models' training can take quite some time (when done on a CPU). Therefore, the ability to save and load already trained models is crucial to develop efficient problem solutions.\n",
    "\n",
    "Additionally, we want to make use of the possibility to run notebooks in [Google Colab](https://colab.research.google.com/notebooks/intro.ipynb). The inherent advantage - given over a local execution - is that Colab allows the use of GPUs and, consequently, training time should significantly speed up."
   ]
  },
  {
   "cell_type": "markdown",
   "metadata": {
    "id": "zaClysbTMJaS"
   },
   "source": [
    "**Note**: For this exercise, you will need a Google account. If you don't already have one, please create one using [this website](https://accounts.google.com/signup/v2/webcreateaccount?hl=en&flowName=GlifWebSignIn&flowEntry=SignUp). If you are not comfortable in providing your personal information, don't do so. You can delete your account and associated data after completing the exercise by following [these](https://support.google.com/accounts/answer/32046?hl=en) instructions."
   ]
  },
  {
   "cell_type": "markdown",
   "metadata": {
    "id": "72J8hAr9MJaT"
   },
   "source": [
    "As for the actual contents of this week's exercise, we will look at character-level language modeling with RNNs. In particular, we are trying to train a network capable of producing text that (hopefully) resembles the structure of so-called [Limericks](https://en.wikipedia.org/wiki/Limerick_(poetry))."
   ]
  },
  {
   "cell_type": "markdown",
   "metadata": {
    "id": "CPw9Jm2ZMJaT"
   },
   "source": [
    "> Deep Thought, after millions of years,\n",
    "<br>\n",
    "> With the ultimate answer appears,\n",
    "<br>\n",
    "> &nbsp;&nbsp;&nbsp;&nbsp;Which is just 42.\n",
    "<br>\n",
    "> &nbsp;&nbsp;&nbsp;&nbsp;This is certainly true,\n",
    "<br>\n",
    "> Though it sounds a bit strange to the ears."
   ]
  },
  {
   "cell_type": "markdown",
   "metadata": {
    "id": "ePHOZxBOMJaU"
   },
   "source": [
    "<div style=\"text-align: right\"><a href=\"http://www.oedilf.com/db/Lim.php?Word=42\">Source</a></div>\n",
    "\n",
    "---"
   ]
  },
  {
   "cell_type": "markdown",
   "metadata": {},
   "source": [
    "## Overview\n",
    "- [1. Setting up Google Colab](#1.-Setting-up-Google-Colab)\n",
    "- [2. Data Preparation](#2.-Data-Preparation)\n",
    "- [3. RNN Model Creation](#3.-RNN-Model-Creation)\n",
    "\n",
    "---"
   ]
  },
  {
   "cell_type": "markdown",
   "metadata": {
    "id": "Bd7S63xyMJaU"
   },
   "source": [
    "## 1. Setting up Google Colab\n",
    "---"
   ]
  },
  {
   "cell_type": "markdown",
   "metadata": {
    "id": "qua1qc4wMJaV"
   },
   "source": [
    "* <div style=\"color:blue\">Upload this notebook to Google Colab.</div>\n",
    "\n",
    "    1. Visit https://colab.research.google.com/notebooks/intro.ipynb.\n",
    "    2. Log in to your Google account.\n",
    "    3. Select **`File`** **`Upload notebook`** from the menu bar.\n",
    "    4. Upload this notebook."
   ]
  },
  {
   "cell_type": "markdown",
   "metadata": {
    "id": "0RQ5o0gVMJaV"
   },
   "source": [
    "* <div style=\"color:blue\">Make sure to utilize GPUs.</div>\n",
    "\n",
    "    1. Select **`Runtime`** **`Change Runtime type`** from the menu bar.\n",
    "    2. Choose *T4 GPU* for hardware acceleration (if that is not already the case; otherwise just cancel the operation)"
   ]
  },
  {
   "cell_type": "code",
   "execution_count": 1,
   "metadata": {},
   "outputs": [],
   "source": [
    "# ensure torchtext installed\n",
    "try:\n",
    "    import torchtext\n",
    "except:\n",
    "    print(\"Installing torchtext\")\n",
    "    !pip install torchtext   "
   ]
  },
  {
   "cell_type": "code",
   "execution_count": null,
   "metadata": {
    "id": "B9g91NJWMJaW"
   },
   "outputs": [],
   "source": [
    "# Importing libraries\n",
    "import numpy as np\n",
    "import pandas as pd\n",
    "import matplotlib.pyplot as plt\n",
    "\n",
    "import torch\n",
    "from torch.utils.data import Dataset, DataLoader, TensorDataset\n",
    "import torchtext\n",
    "from torchtext.data import get_tokenizer\n",
    "from torch import nn\n",
    "from tqdm.notebook import trange, tqdm\n",
    "\n",
    "import datetime as dt\n",
    "\n",
    "# force gpu computing, when gpu library is available\n",
    "USE_GPU = True\n"
   ]
  },
  {
   "cell_type": "code",
   "execution_count": null,
   "metadata": {},
   "outputs": [],
   "source": [
    "import warnings\n",
    "warnings.filterwarnings('ignore')"
   ]
  },
  {
   "cell_type": "code",
   "execution_count": null,
   "metadata": {},
   "outputs": [],
   "source": [
    "%%capture\n",
    "torch.manual_seed(42)"
   ]
  },
  {
   "cell_type": "code",
   "execution_count": null,
   "metadata": {
    "colab": {
     "base_uri": "https://localhost:8080/",
     "height": 35
    },
    "id": "CENO_ck5MJaZ",
    "outputId": "3200feca-e688-4bcc-c029-bc98b3cdb199"
   },
   "outputs": [],
   "source": [
    "torch.__version__"
   ]
  },
  {
   "cell_type": "code",
   "execution_count": null,
   "metadata": {},
   "outputs": [],
   "source": [
    "CUDA_AVAILABLE = torch.cuda.is_available()\n",
    "print(f'CUDA_AVAILABLE = {CUDA_AVAILABLE}')"
   ]
  },
  {
   "cell_type": "markdown",
   "metadata": {
    "id": "G91xAxxsMJae"
   },
   "source": [
    "The data we will work with is provided as simple continuous text. The limericks contained therein have been scraped from [this website](http://www.oedilf.com/db/Lim.php). You will find the text file `limericks.txt` in the `data` folder next to this notebook."
   ]
  },
  {
   "cell_type": "markdown",
   "metadata": {
    "id": "n7faBxMJMJae"
   },
   "source": [
    "* <div style=\"color:blue\">Upload the text file to Google Colab.</div>\n",
    "\n",
    "    1. On the left-hand side of the Google Colab screen, there is a `Files` tab - click to open.\n",
    "    2. You need to be connected to a runtime to see the session storage and run at least one code cell if not already connected.\n",
    "    3. If connected, you can select to upload files to the session storage. Note that the session storage will be purged when the session is terminated.\n",
    "    4. Upload `limericks.txt` to the session storage (this might take a while; to check whether the file has been uploaded, close and re-open the files tab).\n",
    "    5. Run the following code cells to read the data."
   ]
  },
  {
   "cell_type": "code",
   "execution_count": null,
   "metadata": {
    "id": "BZUKSUT2MJae"
   },
   "outputs": [],
   "source": [
    "# Reading data\n",
    "limericks_file = \"limericks.txt\"\n",
    "limericks = open(limericks_file, 'r').read()"
   ]
  },
  {
   "cell_type": "code",
   "execution_count": null,
   "metadata": {
    "colab": {
     "base_uri": "https://localhost:8080/",
     "height": 544
    },
    "id": "AtyTXbcXMJag",
    "outputId": "e294f3b4-147c-4b55-8c37-e9a3758e65c9"
   },
   "outputs": [],
   "source": [
    "# Looking at some limericks\n",
    "print(limericks[9990:10790])"
   ]
  },
  {
   "cell_type": "markdown",
   "metadata": {
    "id": "IaN1O2kiMJak"
   },
   "source": [
    "## 2. Data Preparation\n",
    "---"
   ]
  },
  {
   "cell_type": "code",
   "execution_count": null,
   "metadata": {
    "colab": {
     "base_uri": "https://localhost:8080/",
     "height": 71
    },
    "id": "NEbS7zOEMJak",
    "outputId": "d580235c-56c6-45b9-bf86-c1cf6e95bf46"
   },
   "outputs": [],
   "source": [
    "# Getting the unique characters used in the text\n",
    "vocab = sorted(set(limericks))\n",
    "print(vocab)\n",
    "len(vocab)"
   ]
  },
  {
   "cell_type": "code",
   "execution_count": null,
   "metadata": {
    "colab": {
     "base_uri": "https://localhost:8080/",
     "height": 1000
    },
    "id": "GOnyRfGLMJam",
    "outputId": "3b6c35c7-03e8-4737-cfc2-43c16ddca92f"
   },
   "outputs": [],
   "source": [
    "# Creating unique index for each character in the text\n",
    "char_to_index = {char:index for index, char in enumerate(vocab)}\n",
    "char_to_index"
   ]
  },
  {
   "cell_type": "code",
   "execution_count": null,
   "metadata": {
    "colab": {
     "base_uri": "https://localhost:8080/",
     "height": 34
    },
    "id": "6gSydJeiMJan",
    "outputId": "e7929cef-313a-42f8-fc90-229e3a8fbdab"
   },
   "outputs": [],
   "source": [
    "# Checking index of a specific character\n",
    "char_to_index['t']"
   ]
  },
  {
   "cell_type": "code",
   "execution_count": null,
   "metadata": {
    "colab": {
     "base_uri": "https://localhost:8080/",
     "height": 119
    },
    "id": "cpLVrAxnMJap",
    "outputId": "f65e9006-012b-40cb-eb67-99f8aff3fb7c"
   },
   "outputs": [],
   "source": [
    "# Mapping the index back to the characters\n",
    "index_to_char = np.array(vocab)\n",
    "index_to_char"
   ]
  },
  {
   "cell_type": "code",
   "execution_count": null,
   "metadata": {
    "colab": {
     "base_uri": "https://localhost:8080/",
     "height": 35
    },
    "id": "NgrRANknMJar",
    "outputId": "5c30b64f-012c-4069-dd11-b400f01b803b"
   },
   "outputs": [],
   "source": [
    "# Checking character for a given index\n",
    "index_to_char[59]"
   ]
  },
  {
   "cell_type": "code",
   "execution_count": null,
   "metadata": {
    "colab": {
     "base_uri": "https://localhost:8080/",
     "height": 34
    },
    "id": "eE0GVyD4MJas",
    "outputId": "ee271cb7-8d42-488f-91bd-e7785d08b8fe"
   },
   "outputs": [],
   "source": [
    "# Encoding the entire text\n",
    "encoded_text = np.array([char_to_index[char] for char in limericks])\n",
    "encoded_text"
   ]
  },
  {
   "cell_type": "markdown",
   "metadata": {
    "id": "4zJg87GNMJau"
   },
   "source": [
    "* <div style=\"color:blue\">How many characters are there in the entire text?</div>"
   ]
  },
  {
   "cell_type": "code",
   "execution_count": null,
   "metadata": {
    "colab": {
     "base_uri": "https://localhost:8080/",
     "height": 34
    },
    "id": "i-7PCisKMJav",
    "outputId": "8482612f-96ac-4764-efb4-a23835a64f2d"
   },
   "outputs": [],
   "source": [
    "# Your solution goes here:"
   ]
  },
  {
   "cell_type": "code",
   "execution_count": null,
   "metadata": {
    "colab": {
     "base_uri": "https://localhost:8080/",
     "height": 35
    },
    "id": "NijmEuwXMJaw",
    "outputId": "6169c0b2-0d87-478c-da56-73f94a57cbee"
   },
   "outputs": [],
   "source": [
    "# Comparing raw text ...\n",
    "limericks[:100]"
   ]
  },
  {
   "cell_type": "code",
   "execution_count": null,
   "metadata": {
    "colab": {
     "base_uri": "https://localhost:8080/",
     "height": 119
    },
    "id": "TPLNllHXMJay",
    "outputId": "2a08449f-3637-4879-d131-c5e50038502a"
   },
   "outputs": [],
   "source": [
    "# ... with encoded text\n",
    "encoded_text[:100]"
   ]
  },
  {
   "cell_type": "markdown",
   "metadata": {
    "id": "iC5zyTpjMJa0"
   },
   "source": [
    "The next thing we have to take care of is to split the data into batches. For this, it is important to determine a sequence length for each batch (number of characters) that \n",
    "\n",
    "* is long enough to capture the general structure of a limerick, but\n",
    "* is not too long, so that past information does not simply become noise."
   ]
  },
  {
   "cell_type": "markdown",
   "metadata": {
    "id": "ugquS8jyMJa0"
   },
   "source": [
    "* <div style=\"color:blue\">Take a look at the limericks in <code>limericks.txt</code> and decide on a suitable <b>sequence length</b>.</div>"
   ]
  },
  {
   "cell_type": "code",
   "execution_count": null,
   "metadata": {
    "id": "Vgg9mwtKMJa5"
   },
   "outputs": [],
   "source": [
    "sequence_length = 0 # <- your solution goes here"
   ]
  },
  {
   "cell_type": "code",
   "execution_count": null,
   "metadata": {},
   "outputs": [],
   "source": [
    "class CharSequenceDataset(Dataset):\n",
    "\n",
    "    def __init__(self, text_encoded, seq_length, offset):\n",
    "        sequences = []\n",
    "        target = []\n",
    "        for i in range(0, len(text_encoded) - seq_length - 1, offset):\n",
    "            seq = text_encoded[i: i + seq_length]\n",
    "            sequences.append(seq)\n",
    "            target.append(text_encoded[i + seq_length])\n",
    "        self.sequences = torch.tensor(sequences)\n",
    "        self.target = torch.tensor(target)\n",
    "        \n",
    "    \n",
    "    def __len__(self):\n",
    "        return len(self.sequences)\n",
    "    \n",
    "    def __getitem__(self, idx):\n",
    "        return self.sequences[idx], self.target[idx]\n",
    "    \n",
    "\n",
    "offset = sequence_length \n",
    "\n",
    "ds = CharSequenceDataset(encoded_text, sequence_length, offset)\n",
    "\n",
    "## inspection:\n",
    "for seq, target in ds:\n",
    "    print(seq.numpy(), ' -> ', target.numpy())\n",
    "    print(repr(''.join(index_to_char[seq])), \n",
    "          ' -> ', repr(''.join(index_to_char[target])))\n",
    "    break"
   ]
  },
  {
   "cell_type": "code",
   "execution_count": null,
   "metadata": {
    "id": "DTr-0om2MJbF"
   },
   "outputs": [],
   "source": [
    "# final preparation step: create a data loader\n",
    "BATCH_SIZE = 128\n",
    "\n",
    "trainloader = DataLoader(ds, shuffle=True, batch_size=BATCH_SIZE)\n",
    "len(ds)"
   ]
  },
  {
   "cell_type": "markdown",
   "metadata": {
    "id": "g8jcSqcIMJbG"
   },
   "source": [
    "## 3. RNN Model Creation\n",
    "---"
   ]
  },
  {
   "cell_type": "code",
   "execution_count": null,
   "metadata": {
    "id": "gTeMUfqnMJbH"
   },
   "outputs": [],
   "source": [
    "# Vocabulary length\n",
    "vocab_size = len(vocab)\n",
    "# Embedding dimensions\n",
    "embed_dim = 64\n",
    "# Number of RNN units (neurons)\n",
    "rnn_units = 512"
   ]
  },
  {
   "cell_type": "code",
   "execution_count": null,
   "metadata": {
    "id": "lFMJR-OUMJbI"
   },
   "outputs": [],
   "source": [
    "class Network(nn.Module):\n",
    "    def __init__(self, vocab_size, embedding_dim, rnn_units, recurrent_type='LSTM'):\n",
    "        super(Network, self).__init__()\n",
    "        self.recurrent_type = recurrent_type\n",
    "        self.embedding = nn.Embedding(vocab_size, embedding_dim)\n",
    "        if recurrent_type == 'RNN':\n",
    "            self.rnn = nn.RNN(embedding_dim, rnn_units, batch_first=True)\n",
    "        elif recurrent_type == 'LSTM':\n",
    "            self.rnn = nn.LSTM(embedding_dim, rnn_units, batch_first=True)\n",
    "        elif recurrent_type == 'GRU':\n",
    "            self.rnn = nn.GRU(embedding_dim, rnn_units, batch_first=True)\n",
    "        self.linear = nn.Linear(rnn_units, vocab_size)\n",
    "    \n",
    "    def forward(self, x):\n",
    "        embedded = self.embedding(x)\n",
    "        #lstm also returns the cell hidden state\n",
    "        if self.recurrent_type == \"LSTM\":\n",
    "            output, (hidden, cell_hidden) = self.rnn(embedded)\n",
    "        else:\n",
    "            output, hidden = self.rnn(embedded)\n",
    "        output = self.linear(hidden[-1])\n",
    "        return output\n",
    "    \n",
    "# Instantiate the PyTorch model (and remember the type for saving the model ...)\n",
    "rnn_type = 'LSTM'\n",
    "model = Network(vocab_size, embed_dim, rnn_units, recurrent_type=rnn_type)\n",
    "model"
   ]
  },
  {
   "cell_type": "code",
   "execution_count": null,
   "metadata": {
    "id": "pmi5OdnmMJbM"
   },
   "outputs": [],
   "source": [
    "# Define the loss function\n",
    "criterion = nn.CrossEntropyLoss()\n",
    "\n",
    "# Define the optimizer\n",
    "optimizer = torch.optim.Adam(model.parameters())"
   ]
  },
  {
   "cell_type": "markdown",
   "metadata": {},
   "source": [
    "Setup the training loop"
   ]
  },
  {
   "cell_type": "code",
   "execution_count": null,
   "metadata": {},
   "outputs": [],
   "source": [
    "def train(model, dataloader, optimizer, criterion):\n",
    "    model.train() \n",
    "    \n",
    "    running_loss = 0.0\n",
    "    \n",
    "    # Iterate over the training dataset\n",
    "    for inputs, labels in dataloader:\n",
    "        inputs = inputs.to(device)\n",
    "        labels = labels.to(device).long()\n",
    "        # Zero the gradients\n",
    "        optimizer.zero_grad()\n",
    "        # Forward pass\n",
    "        outputs = model(inputs)\n",
    "        # Compute the loss\n",
    "        loss = criterion(outputs, labels)\n",
    "        # Backward pass\n",
    "        loss.backward()\n",
    "        # Update the weights\n",
    "        optimizer.step()\n",
    "        \n",
    "        running_loss += loss.item()\n",
    "\n",
    "    # Calculate the average loss for the epoch\n",
    "    epoch_loss = running_loss / len(dataloader)\n",
    "    return epoch_loss\n",
    "\n",
    "def train_for_epochs(epchs, model, trainloader, optimizer, criterion):\n",
    "    history = {\n",
    "        \"loss\": []\n",
    "    }\n",
    "    loop = trange(epchs)\n",
    "    # Training loop\n",
    "    for epoch in loop:\n",
    "\n",
    "        epoch_loss_train = train(model, trainloader, optimizer, criterion)   \n",
    "\n",
    "        history[\"loss\"].append(epoch_loss_train)\n",
    "\n",
    "        loop.set_description(f\"Train Loss: {epoch_loss_train:.4f}\")\n",
    "    return history\n",
    "\n",
    "# record the total number of epochs for training so far (may be used for naming models ...)\n",
    "tot_epochs = 0"
   ]
  },
  {
   "cell_type": "markdown",
   "metadata": {
    "id": "Ec5EpLDzMJbO"
   },
   "source": [
    "* <div style=\"color:blue\">Train the model for <b>2</b> epochs. Double-check that you enabled a GPU runtime (unless you don't mind waiting). However, even if you are using GPUs, it may take a while to complete the training.</div>"
   ]
  },
  {
   "cell_type": "code",
   "execution_count": null,
   "metadata": {
    "colab": {
     "base_uri": "https://localhost:8080/",
     "height": 204
    },
    "id": "t0X1nhNqMJbO",
    "outputId": "87b4325a-2132-4d08-c4d7-86ea2d5ab0fc"
   },
   "outputs": [],
   "source": [
    "# Your solution goes here:"
   ]
  },
  {
   "cell_type": "markdown",
   "metadata": {
    "id": "nVq5ItpdMJbP"
   },
   "source": [
    "* <div style=\"color:blue\">Save the state dict of your model to your session storage.</div>\n",
    "\n",
    "**Hint**: Have a look at the [documentation](https://pytorch.org/tutorials/beginner/saving_loading_models.html) to save and load models."
   ]
  },
  {
   "cell_type": "code",
   "execution_count": null,
   "metadata": {
    "id": "E5y5jf8hMJbP"
   },
   "outputs": [],
   "source": [
    "# Your solution goes here:"
   ]
  },
  {
   "cell_type": "markdown",
   "metadata": {
    "id": "46aSFOJeMJbR"
   },
   "source": [
    "* <div style=\"color:blue\">Continue training for another <b>18</b> epochs. In total you should have trained the model for <b>20</b> epochs.</div>"
   ]
  },
  {
   "cell_type": "code",
   "execution_count": null,
   "metadata": {
    "colab": {
     "base_uri": "https://localhost:8080/",
     "height": 544
    },
    "id": "Nkg9Ugw7MJbR",
    "outputId": "c24619c1-57f3-42bf-818c-e03e6d82c0c7"
   },
   "outputs": [],
   "source": [
    "# Your solution goes here:"
   ]
  },
  {
   "cell_type": "markdown",
   "metadata": {
    "id": "--LExjVsMJbS"
   },
   "source": [
    "* <div style=\"color:blue\">Save the state of of your model to your session storage, but use a different file name this time.</div>"
   ]
  },
  {
   "cell_type": "code",
   "execution_count": null,
   "metadata": {
    "id": "arWyWow0MJbT"
   },
   "outputs": [],
   "source": [
    "# Your solution goes here:"
   ]
  },
  {
   "cell_type": "markdown",
   "metadata": {
    "id": "JUfsjS8bMJbU"
   },
   "source": [
    "* <div style=\"color:blue\">Download both saved models from your session storage to your local hard drive (place them in the <code>models</code> folder).</div>\n",
    "\n",
    "**CAUTION**: If you accidentally close the current session without downloading the models first, those will be purged and your training progress is lost."
   ]
  },
  {
   "cell_type": "markdown",
   "metadata": {},
   "source": [
    "* <div style=\"color:blue\">Continue with <a href=\"3.3.b_RNN_Ex_2.ipynb\">exercise 2</a>. (Either locally or in Colab is fine.)</div>"
   ]
  },
  {
   "cell_type": "code",
   "execution_count": null,
   "metadata": {},
   "outputs": [],
   "source": []
  }
 ],
 "metadata": {
  "accelerator": "GPU",
  "colab": {
   "collapsed_sections": [],
   "name": "EX_05a_RNNs_Sol.ipynb",
   "provenance": [],
   "toc_visible": true
  },
  "kernelspec": {
   "display_name": "Python 3 (ipykernel)",
   "language": "python",
   "name": "python3"
  },
  "language_info": {
   "codemirror_mode": {
    "name": "ipython",
    "version": 3
   },
   "file_extension": ".py",
   "mimetype": "text/x-python",
   "name": "python",
   "nbconvert_exporter": "python",
   "pygments_lexer": "ipython3",
   "version": "3.11.6"
  }
 },
 "nbformat": 4,
 "nbformat_minor": 4
}
