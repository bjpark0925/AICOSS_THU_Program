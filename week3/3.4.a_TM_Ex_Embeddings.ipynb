{
 "cells": [
  {
   "cell_type": "markdown",
   "metadata": {},
   "source": [
    "![Banner](img/AI_Special_Program_Banner.jpg)\n",
    "\n",
    "## Text Mining - Exercise (Embeddings)\n",
    "---\n",
    "* Instructions are given in <span style=\"color:blue\">blue</span> color.\n",
    "* Feel free to insert more cells wherever you see fit."
   ]
  },
  {
   "cell_type": "markdown",
   "metadata": {},
   "source": [
    "In this exercise, it will be your turn to improve the Sentiment Analysis performed earlier even further. Instead of training an embedding layer in PyTorch, we want to train a **word2vec** embedding and use it as a non-trainable layer in our LSTM. This requires only a few changes in the model (the code is already there), but you need to create the word2vec model using the movie review data!\n",
    "\n",
    "The exercise builds on material from *Python Machine Learning 3rd Edition* by [Sebastian Raschka](https://sebastianraschka.com) & [Vahid Mirjalili](http://vahidmirjalili.com), Packt Publishing Ltd. 2019"
   ]
  },
  {
   "cell_type": "code",
   "execution_count": 1,
   "metadata": {},
   "outputs": [],
   "source": [
    "# Libraries and packages\n",
    "import os\n",
    "import gzip\n",
    "import shutil\n",
    "import random\n",
    "\n",
    "import numpy as np\n",
    "import pandas as pd\n",
    "import collections\n",
    "\n",
    "import matplotlib.pyplot as plt\n",
    "%matplotlib inline\n",
    "\n",
    "import torch\n",
    "from torch.utils.data import Dataset, DataLoader\n",
    "import torchtext\n",
    "from torchtext.data import get_tokenizer\n",
    "from torch import nn\n",
    "\n",
    "import datetime as dt"
   ]
  },
  {
   "cell_type": "code",
   "execution_count": 2,
   "metadata": {},
   "outputs": [],
   "source": [
    "# importing module for training loop\n",
    "from train_loop import train, train_for_epochs, validate, plot_history"
   ]
  },
  {
   "cell_type": "code",
   "execution_count": 3,
   "metadata": {},
   "outputs": [
    {
     "name": "stdout",
     "output_type": "stream",
     "text": [
      "CUDA_AVAILABLE = True\n"
     ]
    }
   ],
   "source": [
    "CUDA_AVAILABLE = torch.cuda.is_available()\n",
    "print(f'CUDA_AVAILABLE = {CUDA_AVAILABLE}')"
   ]
  },
  {
   "cell_type": "code",
   "execution_count": 4,
   "metadata": {},
   "outputs": [],
   "source": [
    "USE_ONLY_CPU = False"
   ]
  },
  {
   "cell_type": "code",
   "execution_count": 5,
   "metadata": {},
   "outputs": [],
   "source": [
    "random.seed(42)     # python random generator\n",
    "np.random.seed(42)  # numpy random generator\n",
    "\n",
    "torch.manual_seed(42)\n",
    "torch.cuda.manual_seed_all(42)"
   ]
  },
  {
   "cell_type": "markdown",
   "metadata": {
    "slideshow": {
     "slide_type": "slide"
    }
   },
   "source": [
    "### Example: Sentiment analysis of movie reviews\n",
    "---\n",
    "* reading data as *external data* and transforming dataset for PyTorch\n",
    "* also available as [PyTorch Dataset](https://pytorch.org/text/stable/datasets.html#imdb)"
   ]
  },
  {
   "cell_type": "code",
   "execution_count": 6,
   "metadata": {},
   "outputs": [
    {
     "data": {
      "text/html": [
       "<div>\n",
       "<style scoped>\n",
       "    .dataframe tbody tr th:only-of-type {\n",
       "        vertical-align: middle;\n",
       "    }\n",
       "\n",
       "    .dataframe tbody tr th {\n",
       "        vertical-align: top;\n",
       "    }\n",
       "\n",
       "    .dataframe thead th {\n",
       "        text-align: right;\n",
       "    }\n",
       "</style>\n",
       "<table border=\"1\" class=\"dataframe\">\n",
       "  <thead>\n",
       "    <tr style=\"text-align: right;\">\n",
       "      <th></th>\n",
       "      <th>review</th>\n",
       "      <th>sentiment</th>\n",
       "    </tr>\n",
       "  </thead>\n",
       "  <tbody>\n",
       "    <tr>\n",
       "      <th>49995</th>\n",
       "      <td>OK, lets start with the best. the building. al...</td>\n",
       "      <td>0</td>\n",
       "    </tr>\n",
       "    <tr>\n",
       "      <th>49996</th>\n",
       "      <td>The British 'heritage film' industry is out of...</td>\n",
       "      <td>0</td>\n",
       "    </tr>\n",
       "    <tr>\n",
       "      <th>49997</th>\n",
       "      <td>I don't even know where to begin on this one. ...</td>\n",
       "      <td>0</td>\n",
       "    </tr>\n",
       "    <tr>\n",
       "      <th>49998</th>\n",
       "      <td>Richard Tyler is a little boy who is scared of...</td>\n",
       "      <td>0</td>\n",
       "    </tr>\n",
       "    <tr>\n",
       "      <th>49999</th>\n",
       "      <td>I waited long to watch this movie. Also becaus...</td>\n",
       "      <td>1</td>\n",
       "    </tr>\n",
       "  </tbody>\n",
       "</table>\n",
       "</div>"
      ],
      "text/plain": [
       "                                                  review  sentiment\n",
       "49995  OK, lets start with the best. the building. al...          0\n",
       "49996  The British 'heritage film' industry is out of...          0\n",
       "49997  I don't even know where to begin on this one. ...          0\n",
       "49998  Richard Tyler is a little boy who is scared of...          0\n",
       "49999  I waited long to watch this movie. Also becaus...          1"
      ]
     },
     "execution_count": 6,
     "metadata": {},
     "output_type": "execute_result"
    }
   ],
   "source": [
    "df = pd.read_csv('data/movie_data.csv', encoding='utf-8')\n",
    "df.tail()"
   ]
  },
  {
   "cell_type": "markdown",
   "metadata": {},
   "source": [
    "#### Preprocessing (old)"
   ]
  },
  {
   "cell_type": "code",
   "execution_count": 7,
   "metadata": {},
   "outputs": [
    {
     "data": {
      "text/plain": [
       "(1,\n",
       " 'In 1974, the teenager Martha Moxley (Maggie Grace) moves to the high-class area of Belle Haven, Greenwich, Connecticut. On the Mischief Night, eve of Halloween, she was murdered in the backyard of her house and her murder remained unsolved. Twenty-two years later, the writer Mark Fuhrman (Christopher Meloni), who is a former LA detective that has fallen in disgrace for perjury in O.J. Simpson trial and moved to Idaho, decides to investigate the case with his partner Stephen Weeks (Andrew Mitchell) with the purpose of writing a book. The locals squirm and do not welcome them, but with the support of the retired detective Steve Carroll (Robert Forster) that was in charge of the investigation in the 70\\'s, they discover the criminal and a net of power and money to cover the murder.<br /><br />\"Murder in Greenwich\" is a good TV movie, with the true story of a murder of a fifteen years old girl that was committed by a wealthy teenager whose mother was a Kennedy. The powerful and rich family used their influence to cover the murder for more than twenty years. However, a snoopy detective and convicted perjurer in disgrace was able to disclose how the hideous crime was committed. The screenplay shows the investigation of Mark and the last days of Martha in parallel, but there is a lack of the emotion in the dramatization. My vote is seven.<br /><br />Title (Brazil): Not Available')"
      ]
     },
     "execution_count": 7,
     "metadata": {},
     "output_type": "execute_result"
    }
   ],
   "source": [
    "target = df['sentiment']\n",
    "\n",
    "values = df['review']\n",
    "\n",
    "target[0], values[0]"
   ]
  },
  {
   "cell_type": "markdown",
   "metadata": {},
   "source": [
    "#### Preprocessing (new)"
   ]
  },
  {
   "cell_type": "markdown",
   "metadata": {},
   "source": [
    "Removing punctuation and stop words."
   ]
  },
  {
   "cell_type": "code",
   "execution_count": 8,
   "metadata": {},
   "outputs": [
    {
     "name": "stderr",
     "output_type": "stream",
     "text": [
      "[nltk_data] Downloading package stopwords to /root/nltk_data...\n",
      "[nltk_data]   Package stopwords is already up-to-date!\n"
     ]
    },
    {
     "data": {
      "text/plain": [
       "(1,\n",
       " 'teenager martha moxley maggie grace moves high class area belle greenwich connecticut mischief night eve halloween murdered backyard house murder remained unsolved twenty two years later writer mark fuhrman christopher meloni former la detective fallen disgrace perjury j simpson trial moved idaho decides investigate case partner stephen weeks andrew mitchell purpose writing book locals squirm welcome support retired detective steve carroll robert forster charge investigation discover criminal net power money cover murder br br murder greenwich good tv movie true story murder fifteen years old girl committed wealthy teenager whose mother kennedy powerful rich family used influence cover murder twenty years however snoopy detective convicted perjurer disgrace able disclose hideous crime committed screenplay shows investigation mark last days martha parallel lack emotion dramatization vote seven br br title brazil available')"
      ]
     },
     "execution_count": 8,
     "metadata": {},
     "output_type": "execute_result"
    }
   ],
   "source": [
    "import re\n",
    "import nltk\n",
    "nltk.download('stopwords')\n",
    "\n",
    "stopwords_eng = set(nltk.corpus.stopwords.words(\"english\"))\n",
    "#print(stopwords_eng)\n",
    "\n",
    "def clean_text(text):\n",
    "    text = text.lower() # convert to lowercase\n",
    "    text = re.sub(\"[^a-z]\", \" \", text) #remove all punctation\n",
    "    words = [word for word in text.split() if word not in stopwords_eng]\n",
    "    text = \" \".join(words)\n",
    "    return text\n",
    "\n",
    "reviews = df.review\n",
    "reviews = reviews.map(clean_text)\n",
    "df.review = reviews\n",
    "\n",
    "target = df['sentiment']\n",
    "values = df['review']\n",
    "\n",
    "target[0], values[0]"
   ]
  },
  {
   "cell_type": "markdown",
   "metadata": {},
   "source": [
    "Performing `WordNet` lemmatization."
   ]
  },
  {
   "cell_type": "code",
   "execution_count": 9,
   "metadata": {
    "scrolled": true
   },
   "outputs": [
    {
     "name": "stderr",
     "output_type": "stream",
     "text": [
      "[nltk_data] Downloading package wordnet to /root/nltk_data...\n",
      "[nltk_data]   Package wordnet is already up-to-date!\n"
     ]
    },
    {
     "data": {
      "text/plain": [
       "(1,\n",
       " 'teenager martha moxley maggie grace move high class area belle greenwich connecticut mischief night eve halloween murder backyard house murder remain unsolved twenty two years later writer mark fuhrman christopher meloni former la detective fall disgrace perjury j simpson trial move idaho decide investigate case partner stephen weeks andrew mitchell purpose write book locals squirm welcome support retire detective steve carroll robert forster charge investigation discover criminal net power money cover murder br br murder greenwich good tv movie true story murder fifteen years old girl commit wealthy teenager whose mother kennedy powerful rich family use influence cover murder twenty years however snoopy detective convict perjurer disgrace able disclose hideous crime commit screenplay show investigation mark last days martha parallel lack emotion dramatization vote seven br br title brazil available')"
      ]
     },
     "execution_count": 9,
     "metadata": {},
     "output_type": "execute_result"
    }
   ],
   "source": [
    "from nltk.stem import WordNetLemmatizer\n",
    "nltk.download('wordnet')\n",
    "\n",
    "lemmatizer = WordNetLemmatizer()\n",
    "lemmas = list()\n",
    "\n",
    "def clean_text2(text):\n",
    "    words = [lemmatizer.lemmatize(word, pos='v') for word in text.split()]\n",
    "    text = \" \".join(words)\n",
    "    return text\n",
    "\n",
    "reviews = df.review\n",
    "reviews = reviews.map(clean_text2)\n",
    "df.review = reviews\n",
    "\n",
    "target = df['sentiment']\n",
    "values = df['review']\n",
    "\n",
    "target[0], values[0]"
   ]
  },
  {
   "cell_type": "markdown",
   "metadata": {},
   "source": [
    " **Setup Dataset** <br>\n",
    "Here we setup a pytorch dataset which also performs tokenization. As also done in Chapter 5.\n",
    "   * `torchtext.data.utils.get_tokenize`: https://pytorch.org/text/stable/data_utils.html"
   ]
  },
  {
   "cell_type": "code",
   "execution_count": 10,
   "metadata": {},
   "outputs": [
    {
     "data": {
      "text/plain": [
       "((50000,), (50000,))"
      ]
     },
     "execution_count": 10,
     "metadata": {},
     "output_type": "execute_result"
    }
   ],
   "source": [
    "target.shape, values.shape"
   ]
  },
  {
   "cell_type": "code",
   "execution_count": 11,
   "metadata": {},
   "outputs": [
    {
     "data": {
      "text/plain": [
       "(50000,\n",
       " (tensor([  1,   2,   3,   4,   5,   6,   7,   8,   9,  10,  11,  12,  13,  14,\n",
       "           15,  16,  17,  18,  19,  17,  20,  21,  22,  23,  24,  25,  26,  27,\n",
       "           28,  29,  30,  31,  32,  33,  34,  35,  36,  37,  38,  39,   6,  40,\n",
       "           41,  42,  43,  44,  45,  46,  47,  48,  49,  50,  51,  52,  53,  54,\n",
       "           55,  56,  33,  57,  58,  59,  60,  61,  62,  63,  64,  65,  66,  67,\n",
       "           68,  17,  69,  69,  17,  11,  70,  71,  72,  73,  74,  17,  75,  24,\n",
       "           76,  77,  78,  79,   1,  80,  81,  82,  83,  84,  85,  86,  87,  68,\n",
       "           17,  22,  24,  88,  89,  33,  90,  91,  35,  92,  93,  94,  95,  78,\n",
       "           96,  97,  62,  27,  98,  99,   2, 100, 101, 102, 103, 104, 105,  69,\n",
       "           69, 106, 107, 108]),\n",
       "  tensor(1.)))"
      ]
     },
     "execution_count": 11,
     "metadata": {},
     "output_type": "execute_result"
    }
   ],
   "source": [
    "class ReviewDataset(Dataset):\n",
    "    def __init__(self, target, values):\n",
    "        self.target = target\n",
    "        self.values = values\n",
    "        # setup tokenizer\n",
    "        tokenizer_name = 'basic_english' \n",
    "        self.tokenizer = get_tokenizer(tokenizer_name)\n",
    "        # setup vocab\n",
    "        counter_obj = collections.Counter()\n",
    "        for v in values:\n",
    "            tokens = self.tokenizer(v)\n",
    "            counter_obj.update(tokens)\n",
    "        self.vocab = torchtext.vocab.vocab(counter_obj, min_freq=1, specials=['<unk>'])\n",
    "        # set a default index for out of vocabulary tokens\n",
    "        self.vocab.set_default_index(-1)\n",
    "        \n",
    "    def __encode(self, value):\n",
    "        tokens = self.tokenizer(value)\n",
    "        return torch.tensor(self.vocab.lookup_indices(tokens))\n",
    "    \n",
    "    def __len__(self):\n",
    "        return len(self.target)\n",
    "    \n",
    "    def __getitem__(self, idx):\n",
    "        return self.__encode(self.values[idx]), torch.tensor(target[idx]).float()\n",
    "    \n",
    "dataset = ReviewDataset(target=target.values, values=values.values)\n",
    "len(dataset), dataset[0]"
   ]
  },
  {
   "cell_type": "markdown",
   "metadata": {
    "slideshow": {
     "slide_type": "skip"
    }
   },
   "source": [
    "**train/validation/test split** <br>\n",
    "Here we set up a train test split and also perform batching and padding. As also done in Chapter 5."
   ]
  },
  {
   "cell_type": "code",
   "execution_count": 12,
   "metadata": {
    "slideshow": {
     "slide_type": "skip"
    }
   },
   "outputs": [
    {
     "name": "stdout",
     "output_type": "stream",
     "text": [
      "Len train set: 30000\n",
      "Len val set: 5000\n",
      "Len test set: 15000\n"
     ]
    }
   ],
   "source": [
    "# setup train test split\n",
    "train_set, val_set, test_set = torch.utils.data.random_split(dataset, [30000, 5000, 15000])\n",
    "print(f'Len train set: {len(train_set)}')\n",
    "print(f'Len val set: {len(val_set)}')\n",
    "print(f'Len test set: {len(test_set)}')\n",
    "\n",
    "# setup data loader\n",
    "def batch_and_pad(data):\n",
    "    values = [d[0] for d in data]\n",
    "    labels = [d[1].unsqueeze(0) for d in data]\n",
    "    return torch.nn.utils.rnn.pad_sequence(values, batch_first=True), torch.stack(labels)\n",
    "    \n",
    "train_loader = DataLoader(train_set, batch_size=32, collate_fn=batch_and_pad)\n",
    "val_loader = DataLoader(val_set, batch_size=32, collate_fn=batch_and_pad)\n",
    "test_loader = DataLoader(test_set, batch_size=32, collate_fn=batch_and_pad)"
   ]
  },
  {
   "cell_type": "code",
   "execution_count": 13,
   "metadata": {},
   "outputs": [
    {
     "name": "stdout",
     "output_type": "stream",
     "text": [
      "Vocab-size: 86261\n"
     ]
    }
   ],
   "source": [
    "print('Vocab-size:', len(dataset.vocab))"
   ]
  },
  {
   "cell_type": "markdown",
   "metadata": {},
   "source": [
    "As can be observed, the vocabulary size is now much smaller than it was without using `nltk` for preprocessing."
   ]
  },
  {
   "cell_type": "markdown",
   "metadata": {},
   "source": [
    "#### Creating a word2vec model"
   ]
  },
  {
   "cell_type": "markdown",
   "metadata": {},
   "source": [
    "This is the part where you are finally asked to chime in.\n",
    "To remind you: The general plan for this exercise is to replace the built-in PyTorch embedding layer with a self-trained word2vec layer (transfer learning).\n",
    "\n",
    "* <div style=\"color:blue\">First, from the initial <code>DataFrame</code> create a list that contains all the movie reviews.</div>"
   ]
  },
  {
   "cell_type": "code",
   "execution_count": 25,
   "metadata": {},
   "outputs": [],
   "source": [
    "new_list = df[\"review\"].tolist()"
   ]
  },
  {
   "cell_type": "markdown",
   "metadata": {},
   "source": [
    "* <div style=\"color:blue\">Next, each document in your list needs to be transformed (tokenized) into a list of tokens (as this is what word2vec expects). Use <code>word_tokenize()</code> by nltk to do so.</div>"
   ]
  },
  {
   "cell_type": "code",
   "execution_count": 31,
   "metadata": {},
   "outputs": [
    {
     "name": "stderr",
     "output_type": "stream",
     "text": [
      "[nltk_data] Downloading package punkt to /root/nltk_data...\n",
      "[nltk_data]   Package punkt is already up-to-date!\n"
     ]
    }
   ],
   "source": [
    "from nltk import word_tokenize\n",
    "nltk.download('punkt')\n",
    "\n",
    "# Your solution goes here:\n",
    "list_tmp = [word_tokenize(item) for item in new_list]"
   ]
  },
  {
   "cell_type": "markdown",
   "metadata": {},
   "source": [
    "* <div style=\"color:blue\">Now create your <code>gensim</code> word2vec model (don't forget the imports). Your model should consider the following settings:</div>\n",
    "    \n",
    "    - (context) window: 5\n",
    "    - (embedding) size: 20\n",
    "    - minimum term count: 1"
   ]
  },
  {
   "cell_type": "code",
   "execution_count": 38,
   "metadata": {},
   "outputs": [],
   "source": [
    "# Your solution goes here:\n",
    "import gensim\n",
    "\n",
    "model = gensim.models.Word2Vec(list_tmp, min_count=1, window=5, vector_size=20)"
   ]
  },
  {
   "cell_type": "markdown",
   "metadata": {},
   "source": [
    "* <div style=\"color:blue\">Test your model for finding similar words to the sentiments <b>good</b> and <b>horrible</b>.</div>"
   ]
  },
  {
   "cell_type": "code",
   "execution_count": 41,
   "metadata": {},
   "outputs": [
    {
     "data": {
      "text/plain": [
       "[('terrible', 0.9776986837387085),\n",
       " ('awful', 0.9655641317367554),\n",
       " ('bad', 0.9138228297233582),\n",
       " ('pathetic', 0.8971858024597168),\n",
       " ('horrendous', 0.8853651285171509),\n",
       " ('suck', 0.8835744857788086),\n",
       " ('atrocious', 0.8643937110900879),\n",
       " ('dreadful', 0.8542830348014832),\n",
       " ('ridiculous', 0.8453726768493652),\n",
       " ('lousy', 0.8397698998451233)]"
      ]
     },
     "execution_count": 41,
     "metadata": {},
     "output_type": "execute_result"
    }
   ],
   "source": [
    "# Your solution goes here:\n",
    "model.wv.similar_by_word(\"horrible\", topn=10)"
   ]
  },
  {
   "cell_type": "markdown",
   "metadata": {},
   "source": [
    "If you want, you can also save the model to disk for later use."
   ]
  },
  {
   "cell_type": "code",
   "execution_count": null,
   "metadata": {},
   "outputs": [],
   "source": [
    "# model_w2v.wv.save_word2vec_format(\"models/w2v_movies.txt\")"
   ]
  },
  {
   "cell_type": "markdown",
   "metadata": {},
   "source": [
    "#### Creating Embedding Matrix"
   ]
  },
  {
   "cell_type": "markdown",
   "metadata": {},
   "source": [
    "We now have two separate parts required to perform our LSTM training with self-trained word embeddings:\n",
    "- the prepared training and test data\n",
    "- the trained word2vec embedding\n",
    "    \n",
    "To bring these parts together, we now need to create an embedding matrix that returns the vectorized embedding for a term in the training/test set.\n",
    "\n",
    "* <div style=\"color:blue\">Alter the following line of code so that it fits your implementation (replace the variable <code>model_w2v</code> with whatever your word2vec model is called).</div>"
   ]
  },
  {
   "cell_type": "code",
   "execution_count": 42,
   "metadata": {},
   "outputs": [],
   "source": [
    "# Extracting the embedding vectors for the trained word2vec model\n",
    "model_w2v = model\n",
    "word_vectors = model_w2v.wv"
   ]
  },
  {
   "cell_type": "code",
   "execution_count": 43,
   "metadata": {},
   "outputs": [
    {
     "name": "stdout",
     "output_type": "stream",
     "text": [
      "True\n"
     ]
    }
   ],
   "source": [
    "# Checking if a word is present in the word2vec embedding\n",
    "print('time' in word_vectors.index_to_key)"
   ]
  },
  {
   "cell_type": "code",
   "execution_count": 44,
   "metadata": {},
   "outputs": [
    {
     "data": {
      "text/plain": [
       "array([-3.2542949 ,  0.7497084 ,  2.398377  ,  0.03779702, -1.5857325 ,\n",
       "       -1.559093  ,  0.3118762 ,  0.6034888 ,  3.9802744 ,  1.1889193 ,\n",
       "        2.061123  ,  1.4334356 ,  1.4577407 , -1.926129  , -2.5262902 ,\n",
       "       -0.8284587 ,  1.2472465 ,  1.458655  , -2.744066  , -0.67216986],\n",
       "      dtype=float32)"
      ]
     },
     "execution_count": 44,
     "metadata": {},
     "output_type": "execute_result"
    }
   ],
   "source": [
    "# Having a look at the vector representation of a single word\n",
    "word_vectors.get_vector('time')"
   ]
  },
  {
   "cell_type": "code",
   "execution_count": 45,
   "metadata": {},
   "outputs": [],
   "source": [
    "# Getting all words from the training set\n",
    "word_index = dataset.vocab.get_stoi()\n",
    "\n",
    "# Initializing an empty embedding matrix\n",
    "embedding_matrix = np.zeros((len(word_index) + 1, 20))\n",
    "\n",
    "# For each word in the training set, check if it is present in the embedding\n",
    "for word, i in word_index.items():\n",
    "    # if it is present, get the embedding vector and update the embedding matrix\n",
    "    if word in word_vectors.index_to_key:\n",
    "        embedding_matrix[i] = word_vectors.get_vector(word)"
   ]
  },
  {
   "cell_type": "code",
   "execution_count": 46,
   "metadata": {},
   "outputs": [
    {
     "name": "stdout",
     "output_type": "stream",
     "text": [
      "86261\n",
      "(86262, 20)\n"
     ]
    }
   ],
   "source": [
    "# Number of words in the training set\n",
    "print(len(word_index))\n",
    "# Embedding shape\n",
    "print(embedding_matrix.shape)"
   ]
  },
  {
   "cell_type": "code",
   "execution_count": 47,
   "metadata": {},
   "outputs": [
    {
     "name": "stdout",
     "output_type": "stream",
     "text": [
      "[0. 0. 0. 0. 0. 0. 0. 0. 0. 0. 0. 0. 0. 0. 0. 0. 0. 0. 0. 0.]\n"
     ]
    }
   ],
   "source": [
    "# Words that are not present in the embedding are represented as zeroes only\n",
    "print(embedding_matrix[0])"
   ]
  },
  {
   "cell_type": "markdown",
   "metadata": {},
   "source": [
    "#### Training the bidirectional LSTM"
   ]
  },
  {
   "cell_type": "markdown",
   "metadata": {},
   "source": [
    "* <div style=\"color:blue\">Finally, it is now time to replace the PyTorch embedding layer with an embedding layer that takes your custom embedding matrix into account. Alter the following function so that it does just that. Make sure your layer won't get weight updates during training!</div>\n",
    "\n",
    "**Hint**: This is not a difficult task. [The PyTorch Embedding Documentation](https://pytorch.org/docs/stable/generated/torch.nn.Embedding.html#torch.nn.Embedding.from_pretrained) might support you pretty well."
   ]
  },
  {
   "cell_type": "code",
   "execution_count": 53,
   "metadata": {},
   "outputs": [
    {
     "data": {
      "text/plain": [
       "RNNModel(\n",
       "  (embedding): Embedding(86262, 20)\n",
       "  (rnn): LSTM(20, 64, batch_first=True, bidirectional=True)\n",
       "  (fc1): Linear(in_features=128, out_features=64, bias=True)\n",
       "  (relu): ReLU()\n",
       "  (fc2): Linear(in_features=64, out_features=1, bias=True)\n",
       "  (sigmoid): Sigmoid()\n",
       ")"
      ]
     },
     "execution_count": 53,
     "metadata": {},
     "output_type": "execute_result"
    }
   ],
   "source": [
    "class RNNModel(nn.Module):\n",
    "    def __init__(self, vocab_size, embedding_dim, hidden_units, embedding_matrix, recurrent_type='RNN', bidirectional=False, n_recurrent_layers=1):\n",
    "        super(RNNModel, self).__init__()\n",
    "        # ************\n",
    "        # PyTorch embedding layler. Replace this by using the embedding_matrix\n",
    "        self.embedding = nn.Embedding.from_pretrained(torch.FloatTensor(embedding_matrix))\n",
    "        # ************\n",
    "        if recurrent_type == 'RNN':\n",
    "            self.rnn = nn.RNN(embedding_dim, hidden_units, batch_first=True, bidirectional=bidirectional, num_layers=n_recurrent_layers)\n",
    "        elif recurrent_type == 'LSTM':\n",
    "            self.rnn = nn.LSTM(embedding_dim, hidden_units, batch_first=True, bidirectional=bidirectional, num_layers=n_recurrent_layers)\n",
    "        elif recurrent_type == 'GRU':\n",
    "            self.rnn = nn.GRU(embedding_dim, hidden_units, batch_first=True, bidirectional=bidirectional, num_layers=n_recurrent_layers)\n",
    "        self.fc1 = nn.Linear(hidden_units * 2 if bidirectional else hidden_units, 64)\n",
    "        self.relu = nn.ReLU()\n",
    "        self.fc2 = nn.Linear(64, 1)\n",
    "        self.sigmoid = nn.Sigmoid()\n",
    "        self.num_directions = 2 if bidirectional else 1\n",
    "        self.hidden_units = hidden_units\n",
    "        self.recurrent_type = recurrent_type\n",
    "\n",
    "    def forward(self, x):\n",
    "        batch_size, seq_len = x.shape\n",
    "        embedded = self.embedding(x)\n",
    "        #lstm also returns the cell hidden state\n",
    "        if self.recurrent_type == \"LSTM\":\n",
    "            output, (hidden, cell_hidden) = self.rnn(embedded)\n",
    "        else:\n",
    "            output, hidden = self.rnn(embedded)\n",
    "        # Concatenate the final hidden states from both directions if bidirectional\n",
    "        if self.rnn.bidirectional:\n",
    "            hidden = torch.cat((hidden[-2,:,:], hidden[-1,:,:]), dim=1)\n",
    "        else:\n",
    "            hidden = hidden[-1,:,:]\n",
    "        x = self.fc1(hidden)\n",
    "        x = self.relu(x)\n",
    "        x = self.fc2(x)\n",
    "        output = self.sigmoid(x)\n",
    "        return output\n",
    "\n",
    "embedding_dim = 20\n",
    "vocab_size = len(dataset.vocab)\n",
    "\n",
    "rnn_type = 'LSTM'\n",
    "\n",
    "model = RNNModel(vocab_size, embedding_dim, 64, embedding_matrix, recurrent_type=rnn_type, n_recurrent_layers=1, bidirectional=True)\n",
    "model"
   ]
  },
  {
   "cell_type": "code",
   "execution_count": 54,
   "metadata": {},
   "outputs": [
    {
     "name": "stdout",
     "output_type": "stream",
     "text": [
      "Using cuda for training\n"
     ]
    }
   ],
   "source": [
    "device = torch.device(\"cuda\" if torch.cuda.is_available() and not USE_ONLY_CPU else \"cpu\")\n",
    "print(f'Using {device} for training')"
   ]
  },
  {
   "cell_type": "markdown",
   "metadata": {},
   "source": [
    "Now it is time to train your network and evaluate on the test data..."
   ]
  },
  {
   "cell_type": "code",
   "execution_count": 55,
   "metadata": {
    "slideshow": {
     "slide_type": "subslide"
    }
   },
   "outputs": [
    {
     "name": "stdout",
     "output_type": "stream",
     "text": [
      "LSTM training started: 2024-02-01 13:36:07.549780\n"
     ]
    },
    {
     "data": {
      "application/vnd.jupyter.widget-view+json": {
       "model_id": "1b3fd35e73e94c949c6f895294fb20bf",
       "version_major": 2,
       "version_minor": 0
      },
      "text/plain": [
       "  0%|          | 0/5 [00:00<?, ?it/s]"
      ]
     },
     "metadata": {},
     "output_type": "display_data"
    },
    {
     "name": "stdout",
     "output_type": "stream",
     "text": [
      "LSTM training finished 2024-02-01 13:36:46.660990 (duration: 0:00:39.111210)\n"
     ]
    }
   ],
   "source": [
    "# Move the model weight to the desired device\n",
    "model.to(device)\n",
    "\n",
    "NUM_EPOCHS = 5\n",
    "\n",
    "# Define the loss function\n",
    "criterion = nn.BCELoss()\n",
    "\n",
    "# Define the optimizer\n",
    "optimizer = torch.optim.Adam(model.parameters())\n",
    "\n",
    "start_train = dt.datetime.now()\n",
    "print(f'{rnn_type} training started: {start_train}')\n",
    "# run training\n",
    "history = train_for_epochs(device, NUM_EPOCHS, model, train_loader, val_loader, optimizer, criterion, binary=True)\n",
    "finish_train = dt.datetime.now()\n",
    "print(f'{rnn_type} training finished {finish_train} (duration: {finish_train - start_train})')"
   ]
  },
  {
   "cell_type": "code",
   "execution_count": 56,
   "metadata": {},
   "outputs": [
    {
     "name": "stdout",
     "output_type": "stream",
     "text": [
      "\n",
      "Test Acc. 86.87%\n"
     ]
    }
   ],
   "source": [
    "## evaluate on the test data\n",
    "test_loss, test_accuracy = validate(device, model, test_loader, criterion)\n",
    "print('\\nTest Acc. {:.2f}%'.format(test_accuracy))"
   ]
  },
  {
   "cell_type": "code",
   "execution_count": 57,
   "metadata": {},
   "outputs": [
    {
     "data": {
      "image/png": "[encoded data removed]",
      "text/plain": [
       "<Figure size 1200x400 with 2 Axes>"
      ]
     },
     "metadata": {},
     "output_type": "display_data"
    }
   ],
   "source": [
    "loss_train_hist = history['train']['loss']\n",
    "acc_train_hist = history['train']['accuracy']\n",
    "loss_val_hist = history['val']['loss']\n",
    "acc_val_hist = history['val']['accuracy']\n",
    "\n",
    "plot_history(loss_train_hist, acc_train_hist, loss_val_hist, acc_val_hist)\n",
    "\n",
    "#plt.savefig('figures/15_12.png', dpi=300)\n",
    "plt.show()"
   ]
  },
  {
   "cell_type": "code",
   "execution_count": null,
   "metadata": {},
   "outputs": [],
   "source": []
  }
 ],
 "metadata": {
  "kernelspec": {
   "display_name": "Python 3 (ipykernel)",
   "language": "python",
   "name": "python3"
  },
  "language_info": {
   "codemirror_mode": {
    "name": "ipython",
    "version": 3
   },
   "file_extension": ".py",
   "mimetype": "text/x-python",
   "name": "python",
   "nbconvert_exporter": "python",
   "pygments_lexer": "ipython3",
   "version": "3.8.10"
  }
 },
 "nbformat": 4,
 "nbformat_minor": 4
}
