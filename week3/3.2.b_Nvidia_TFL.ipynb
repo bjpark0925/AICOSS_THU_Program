{
 "cells": [
  {
   "cell_type": "markdown",
   "metadata": {},
   "source": [
    "![Banner](img/AI_Special_Program_Banner.jpg)\n",
    "\n",
    "# Transfer Learning with Nvidia DLI - Hands On\n",
    "---"
   ]
  },
  {
   "cell_type": "markdown",
   "metadata": {},
   "source": [
    "## Overview\n",
    "- [Transfer Learning revisited](#Transfer-Learning-revisited)\n",
    "- [Nvidia DLI Course and Certification](#Nvidia-DLI-Course-and-Certification)\n",
    "- [Working with the Jetson Nano](#Working-with-the-Jetson-Nano)\n",
    "- [Task 1: Work through the NVIDIA Deep Learning Institute’s Getting Started with AI on Jetson Nano course](#Task-1:-Work-through-the-NVIDIA-Deep-Learning-Institute’s-Getting-Started-with-AI-on-Jetson-Nano-course)\n",
    "- [Task 2: Finish and Pass the Assessment of the NVIDIA Deep Learning Institute’s Getting Started with AI on Jetson Nano course](#Task-2:-Finish-and-Pass-the-Assessment-of-the-NVIDIA-Deep-Learning-Institute’s-Getting-Started-with-AI-on-Jetson-Nano-course)"
   ]
  },
  {
   "cell_type": "markdown",
   "metadata": {
    "id": "q-NGtyNPtKWS"
   },
   "source": [
    "---"
   ]
  },
  {
   "cell_type": "markdown",
   "metadata": {},
   "source": [
    "## Transfer Learning revisited\n",
    "Today's main topic is *transfer learning*, an approach which lets you train application specific networks by building on networks that were trained on a different or more general domain (so called pre-trained networks). This allows the utilization of sophisticated networks based on just a comparatively small amount of data, thus solving tasks which would otherwise not be possible to solve - as demonstrated in connection with the CRISP-DM methodology in [this morning's notebook](3.2.a_CRISPDM_TFL.ipynb).\n",
    "\n",
    "We will see this in action once again and you will get hands-on experience using the [Jetson Nano](https://developer.nvidia.com/embedded/jetson-nano-developer-kit), a small computer comparable to the [Raspberry Pi](https://www.raspberrypi.com/products/raspberry-pi-4-model-b/) but with a whole Developer Kit for AI applications provided by Nvidia."
   ]
  },
  {
   "cell_type": "markdown",
   "metadata": {},
   "source": [
    "## Nvidia DLI Course and Certification\n",
    "Your task is to take the free [Jetson AI Fundamentals course](https://developer.nvidia.com/embedded/learn/jetson-ai-certification-programs#course_outline) provided by the Nvidia Deep Learning Institute (DLI). Furthermore, the projects you have to work on for that course are such that they even deploy the models to be used in real time (albeit deployment happens at locally). You will, however, need a Jetson Nano and a USB camera for this - and THU will provide those for each exercise group!\n",
    "\n",
    "**Remark**: You will be provided with the original 4GB version of the Nanos and most of the setup steps have already been done for you!\n",
    "\n",
    "Once you have finished the Nvidia course and sucessfully completed the quizzes associated with it, you will be able to print a first certificate. You are expected to complete the course and upload the certificate to prove it. If you so desire, you can actually use this as a first step towards getting certified as a *Jetson AI Specialist* as detailed on the course page linked above."
   ]
  },
  {
   "cell_type": "markdown",
   "metadata": {},
   "source": [
    "## Working with the Jetson Nano\n",
    "The Jetson Nano provided for you runs a `vncserver` which lets you access the Xubuntu-based system from your own computer:\n",
    "* on a Windows computer, you could use [TightVNC](https://www.tightvnc.com/download.php) or just find a (free) VNC Viewer from the Microsoft store, e.g. [RealVNC Viewer](https://apps.microsoft.com/detail/XP99DVCPGKTXNJ).\n",
    "* if you run Linux (e.g. Ubuntu) on your computer, you can download and install [RealVNC](https://www.realvnc.com/de/connect/download/viewer/linux/) as well. On the other hand, there might already be a pre-installed VNC viewer on your system (check for yourselves). Or, if you would like a viewer whcih can deal with other *remote desktop protocols* as well, check out [Remmina](https://remmina.org/). In most distributions you can just install it from the accompanying repos."
   ]
  },
  {
   "cell_type": "markdown",
   "metadata": {},
   "source": [
    "## Task 1: Work through the NVIDIA Deep Learning Institute’s Getting Started with AI on Jetson Nano course\n",
    "<span style=\"color:blue\">\n",
    "    You can start from the <a href=\"https://developer.nvidia.com/embedded/learn/jetson-ai-certification-programs#course_outline\">course outline</a>. You will only need to follow episodes 2, 3, and 4. <br>\n",
    "</span>\n",
    "\n",
    "**Hints**: \n",
    "* The actual course page may be found [here](https://courses.nvidia.com/courses/course-v1:DLI+S-RX-02+V2/)\n",
    "* You will need to create an account with Nvidia for this and use it to enrol in the course!"
   ]
  },
  {
   "cell_type": "markdown",
   "metadata": {},
   "source": [
    "## Task 2: Finish and Pass the Assessment of the NVIDIA Deep Learning Institute’s Getting Started with AI on Jetson Nano course\n",
    "<span style=\"color:blue\">\n",
    "    Take the multiple choice exam at the end of the <a href=\"https://courses.nvidia.com/courses/course-v1:DLI+S-RX-02+V2/\">course</a>. Subsequently upload your certificate to Moodle in order to prove that you passed the test. <br>\n",
    "</span>"
   ]
  },
  {
   "cell_type": "code",
   "execution_count": null,
   "metadata": {},
   "outputs": [],
   "source": []
  }
 ],
 "metadata": {
  "colab": {
   "provenance": [
    {
     "file_id": "https://github.com/pytorch/tutorials/blob/gh-pages/_downloads/af0caf6d7af0dda755f4c9d7af9ccc2c/quickstart_tutorial.ipynb",
     "timestamp": 1704207890306
    }
   ]
  },
  "kernelspec": {
   "display_name": "Python 3 (ipykernel)",
   "language": "python",
   "name": "python3"
  },
  "language_info": {
   "codemirror_mode": {
    "name": "ipython",
    "version": 3
   },
   "file_extension": ".py",
   "mimetype": "text/x-python",
   "name": "python",
   "nbconvert_exporter": "python",
   "pygments_lexer": "ipython3",
   "version": "3.11.6"
  }
 },
 "nbformat": 4,
 "nbformat_minor": 4
}
