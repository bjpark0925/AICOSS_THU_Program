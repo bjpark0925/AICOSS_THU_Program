{
 "cells": [
  {
   "cell_type": "markdown",
   "id": "cfd7eb2f-90bb-4652-838e-54b8c0186dc6",
   "metadata": {},
   "source": [
    "![Banner](img/AI_Special_Program_Banner.jpg)\n",
    "\n",
    "## Hyperparameter Optimization (HPO) w/ Optuna - Workshop - Solution Part 1\n",
    "---"
   ]
  },
  {
   "cell_type": "markdown",
   "id": "526d0083-e1d0-41d4-9063-93eba91b1efe",
   "metadata": {
    "tags": []
   },
   "source": [
    "***Data Source**: [Kaggle](https://www.kaggle.com/datasets/andrewmvd/fetal-health-classification)*\n",
    "\n",
    "***Optuna Documentation**: [https://optuna.readthedocs.io/en/stable/](https://optuna.readthedocs.io/en/stable/)*"
   ]
  },
  {
   "cell_type": "markdown",
   "id": "919c7278-f9d2-4a0f-b91b-2e69551ca4b9",
   "metadata": {},
   "source": [
    "# Hyperparameter Optimization (HPO) w/ Optuna - Study & Objective Function\n",
    "---"
   ]
  },
  {
   "cell_type": "markdown",
   "id": "f3c0495f-43f9-44a6-b6f9-8cdcd95c3169",
   "metadata": {},
   "source": [
    "To get a Optuna pipeline running, usually the first steps should be:\n",
    "* To define a **study object** which describes the intent and used methodology for the optimization process\n",
    "* To create an **objective function** that receives updates on the model's 'fitness' during training\n",
    "* To declare valid ranges and values for selected parameters\n",
    "* To run the study for a given number of **trials** in which optimization is performed"
   ]
  },
  {
   "cell_type": "markdown",
   "id": "2daa9ec8-0e85-451a-b0e8-dcf15ea375d9",
   "metadata": {},
   "source": [
    "> **Library imports and general settings**:"
   ]
  },
  {
   "cell_type": "code",
   "execution_count": 1,
   "id": "fb0c9938-0ca2-4715-ac44-63f5af1ba393",
   "metadata": {},
   "outputs": [],
   "source": [
    "import pandas as pd\n",
    "import numpy as np\n",
    "import matplotlib.pyplot as plt\n",
    "import random\n",
    "import warnings\n",
    "warnings.filterwarnings('ignore')\n",
    "\n",
    "from sklearn.preprocessing import OrdinalEncoder\n",
    "from sklearn.model_selection import train_test_split\n",
    "from sklearn.utils.class_weight import compute_class_weight\n",
    "from torch.optim.lr_scheduler import CosineAnnealingLR\n",
    "\n",
    "import torch\n",
    "import torch.nn as nn\n",
    "\n",
    "###\n",
    "import optuna\n",
    "import torch.optim as optim\n",
    "###"
   ]
  },
  {
   "cell_type": "code",
   "execution_count": 2,
   "id": "e7e74db7-34da-4c26-80df-20a03078e958",
   "metadata": {},
   "outputs": [],
   "source": [
    "EPOCHS = 50\n",
    "CLASSES = 3\n",
    "\n",
    "torch.manual_seed(42)\n",
    "random.seed(42)\n",
    "RANDOM_SEED = 42"
   ]
  },
  {
   "cell_type": "markdown",
   "id": "0e15fea7-7cb1-4bc1-8611-e1e05cf0c30c",
   "metadata": {},
   "source": [
    "> **Definition of (selected) hyperparameters**:"
   ]
  },
  {
   "cell_type": "raw",
   "id": "bd89a2da-c321-40fb-8cc0-587c6699f8e8",
   "metadata": {},
   "source": [
    "NN_ARCHITECTURE = [15, 10]\n",
    "BATCH_SIZE = 100\n",
    "OPTIMIZER = 'Adam' # SGD vs. Adam vs. RMSprop\n",
    "LEARNING_RATE = 1\n",
    "WEIGHT_DECAY = 1\n",
    "SCHEDULER = True"
   ]
  },
  {
   "cell_type": "raw",
   "id": "132aed6a-302d-452d-b44e-977c870b2d49",
   "metadata": {},
   "source": [
    "<img src='NN_Architecture.svg'>"
   ]
  },
  {
   "cell_type": "markdown",
   "id": "09ed8c28-1cf9-4983-96d6-7ad8c4e55f7c",
   "metadata": {},
   "source": [
    "> **Data preparation**:"
   ]
  },
  {
   "cell_type": "code",
   "execution_count": 3,
   "id": "a208c069-1d47-4e8a-a31f-8ac1aaca3fe0",
   "metadata": {},
   "outputs": [
    {
     "data": {
      "text/html": [
       "<div>\n",
       "<style scoped>\n",
       "    .dataframe tbody tr th:only-of-type {\n",
       "        vertical-align: middle;\n",
       "    }\n",
       "\n",
       "    .dataframe tbody tr th {\n",
       "        vertical-align: top;\n",
       "    }\n",
       "\n",
       "    .dataframe thead th {\n",
       "        text-align: right;\n",
       "    }\n",
       "</style>\n",
       "<table border=\"1\" class=\"dataframe\">\n",
       "  <thead>\n",
       "    <tr style=\"text-align: right;\">\n",
       "      <th></th>\n",
       "      <th>baseline_value</th>\n",
       "      <th>accelerations</th>\n",
       "      <th>fetal_movement</th>\n",
       "      <th>uterine_contractions</th>\n",
       "      <th>light_decelerations</th>\n",
       "      <th>severe_decelerations</th>\n",
       "      <th>prolongued_decelerations</th>\n",
       "      <th>abnormal_short_term_variability</th>\n",
       "      <th>mean_value_of_short_term_variability</th>\n",
       "      <th>percentage_of_time_with_abnormal_long_term_variability</th>\n",
       "      <th>...</th>\n",
       "      <th>histogram_min</th>\n",
       "      <th>histogram_max</th>\n",
       "      <th>histogram_number_of_peaks</th>\n",
       "      <th>histogram_number_of_zeroes</th>\n",
       "      <th>histogram_mode</th>\n",
       "      <th>histogram_mean</th>\n",
       "      <th>histogram_median</th>\n",
       "      <th>histogram_variance</th>\n",
       "      <th>histogram_tendency</th>\n",
       "      <th>fetal_health</th>\n",
       "    </tr>\n",
       "  </thead>\n",
       "  <tbody>\n",
       "    <tr>\n",
       "      <th>0</th>\n",
       "      <td>120.0</td>\n",
       "      <td>0.000</td>\n",
       "      <td>0.0</td>\n",
       "      <td>0.000</td>\n",
       "      <td>0.000</td>\n",
       "      <td>0.0</td>\n",
       "      <td>0.0</td>\n",
       "      <td>73.0</td>\n",
       "      <td>0.5</td>\n",
       "      <td>43.0</td>\n",
       "      <td>...</td>\n",
       "      <td>62.0</td>\n",
       "      <td>126.0</td>\n",
       "      <td>2.0</td>\n",
       "      <td>0.0</td>\n",
       "      <td>120.0</td>\n",
       "      <td>137.0</td>\n",
       "      <td>121.0</td>\n",
       "      <td>73.0</td>\n",
       "      <td>1.0</td>\n",
       "      <td>2.0</td>\n",
       "    </tr>\n",
       "    <tr>\n",
       "      <th>1</th>\n",
       "      <td>132.0</td>\n",
       "      <td>0.006</td>\n",
       "      <td>0.0</td>\n",
       "      <td>0.006</td>\n",
       "      <td>0.003</td>\n",
       "      <td>0.0</td>\n",
       "      <td>0.0</td>\n",
       "      <td>17.0</td>\n",
       "      <td>2.1</td>\n",
       "      <td>0.0</td>\n",
       "      <td>...</td>\n",
       "      <td>68.0</td>\n",
       "      <td>198.0</td>\n",
       "      <td>6.0</td>\n",
       "      <td>1.0</td>\n",
       "      <td>141.0</td>\n",
       "      <td>136.0</td>\n",
       "      <td>140.0</td>\n",
       "      <td>12.0</td>\n",
       "      <td>0.0</td>\n",
       "      <td>1.0</td>\n",
       "    </tr>\n",
       "    <tr>\n",
       "      <th>2</th>\n",
       "      <td>133.0</td>\n",
       "      <td>0.003</td>\n",
       "      <td>0.0</td>\n",
       "      <td>0.008</td>\n",
       "      <td>0.003</td>\n",
       "      <td>0.0</td>\n",
       "      <td>0.0</td>\n",
       "      <td>16.0</td>\n",
       "      <td>2.1</td>\n",
       "      <td>0.0</td>\n",
       "      <td>...</td>\n",
       "      <td>68.0</td>\n",
       "      <td>198.0</td>\n",
       "      <td>5.0</td>\n",
       "      <td>1.0</td>\n",
       "      <td>141.0</td>\n",
       "      <td>135.0</td>\n",
       "      <td>138.0</td>\n",
       "      <td>13.0</td>\n",
       "      <td>0.0</td>\n",
       "      <td>1.0</td>\n",
       "    </tr>\n",
       "    <tr>\n",
       "      <th>3</th>\n",
       "      <td>134.0</td>\n",
       "      <td>0.003</td>\n",
       "      <td>0.0</td>\n",
       "      <td>0.008</td>\n",
       "      <td>0.003</td>\n",
       "      <td>0.0</td>\n",
       "      <td>0.0</td>\n",
       "      <td>16.0</td>\n",
       "      <td>2.4</td>\n",
       "      <td>0.0</td>\n",
       "      <td>...</td>\n",
       "      <td>53.0</td>\n",
       "      <td>170.0</td>\n",
       "      <td>11.0</td>\n",
       "      <td>0.0</td>\n",
       "      <td>137.0</td>\n",
       "      <td>134.0</td>\n",
       "      <td>137.0</td>\n",
       "      <td>13.0</td>\n",
       "      <td>1.0</td>\n",
       "      <td>1.0</td>\n",
       "    </tr>\n",
       "    <tr>\n",
       "      <th>4</th>\n",
       "      <td>132.0</td>\n",
       "      <td>0.007</td>\n",
       "      <td>0.0</td>\n",
       "      <td>0.008</td>\n",
       "      <td>0.000</td>\n",
       "      <td>0.0</td>\n",
       "      <td>0.0</td>\n",
       "      <td>16.0</td>\n",
       "      <td>2.4</td>\n",
       "      <td>0.0</td>\n",
       "      <td>...</td>\n",
       "      <td>53.0</td>\n",
       "      <td>170.0</td>\n",
       "      <td>9.0</td>\n",
       "      <td>0.0</td>\n",
       "      <td>137.0</td>\n",
       "      <td>136.0</td>\n",
       "      <td>138.0</td>\n",
       "      <td>11.0</td>\n",
       "      <td>1.0</td>\n",
       "      <td>1.0</td>\n",
       "    </tr>\n",
       "  </tbody>\n",
       "</table>\n",
       "<p>5 rows × 22 columns</p>\n",
       "</div>"
      ],
      "text/plain": [
       "   baseline_value  accelerations  fetal_movement  uterine_contractions  \\\n",
       "0           120.0          0.000             0.0                 0.000   \n",
       "1           132.0          0.006             0.0                 0.006   \n",
       "2           133.0          0.003             0.0                 0.008   \n",
       "3           134.0          0.003             0.0                 0.008   \n",
       "4           132.0          0.007             0.0                 0.008   \n",
       "\n",
       "   light_decelerations  severe_decelerations  prolongued_decelerations  \\\n",
       "0                0.000                   0.0                       0.0   \n",
       "1                0.003                   0.0                       0.0   \n",
       "2                0.003                   0.0                       0.0   \n",
       "3                0.003                   0.0                       0.0   \n",
       "4                0.000                   0.0                       0.0   \n",
       "\n",
       "   abnormal_short_term_variability  mean_value_of_short_term_variability  \\\n",
       "0                             73.0                                   0.5   \n",
       "1                             17.0                                   2.1   \n",
       "2                             16.0                                   2.1   \n",
       "3                             16.0                                   2.4   \n",
       "4                             16.0                                   2.4   \n",
       "\n",
       "   percentage_of_time_with_abnormal_long_term_variability  ...  histogram_min  \\\n",
       "0                                               43.0       ...           62.0   \n",
       "1                                                0.0       ...           68.0   \n",
       "2                                                0.0       ...           68.0   \n",
       "3                                                0.0       ...           53.0   \n",
       "4                                                0.0       ...           53.0   \n",
       "\n",
       "   histogram_max  histogram_number_of_peaks  histogram_number_of_zeroes  \\\n",
       "0          126.0                        2.0                         0.0   \n",
       "1          198.0                        6.0                         1.0   \n",
       "2          198.0                        5.0                         1.0   \n",
       "3          170.0                       11.0                         0.0   \n",
       "4          170.0                        9.0                         0.0   \n",
       "\n",
       "   histogram_mode  histogram_mean  histogram_median  histogram_variance  \\\n",
       "0           120.0           137.0             121.0                73.0   \n",
       "1           141.0           136.0             140.0                12.0   \n",
       "2           141.0           135.0             138.0                13.0   \n",
       "3           137.0           134.0             137.0                13.0   \n",
       "4           137.0           136.0             138.0                11.0   \n",
       "\n",
       "   histogram_tendency  fetal_health  \n",
       "0                 1.0           2.0  \n",
       "1                 0.0           1.0  \n",
       "2                 0.0           1.0  \n",
       "3                 1.0           1.0  \n",
       "4                 1.0           1.0  \n",
       "\n",
       "[5 rows x 22 columns]"
      ]
     },
     "execution_count": 3,
     "metadata": {},
     "output_type": "execute_result"
    }
   ],
   "source": [
    "data = pd.read_csv('data/HPO_Data.csv')\n",
    "data.head()"
   ]
  },
  {
   "cell_type": "code",
   "execution_count": 4,
   "id": "d441d27b-ffc8-4932-bc4a-f6b7ae956411",
   "metadata": {},
   "outputs": [
    {
     "data": {
      "text/plain": [
       "2126"
      ]
     },
     "execution_count": 4,
     "metadata": {},
     "output_type": "execute_result"
    }
   ],
   "source": [
    "len(data)"
   ]
  },
  {
   "cell_type": "code",
   "execution_count": 5,
   "id": "49f10486-ef67-42ed-917b-7a00a54b3519",
   "metadata": {},
   "outputs": [
    {
     "data": {
      "text/plain": [
       "False"
      ]
     },
     "execution_count": 5,
     "metadata": {},
     "output_type": "execute_result"
    }
   ],
   "source": [
    "data.isnull().any().any()"
   ]
  },
  {
   "cell_type": "code",
   "execution_count": 6,
   "id": "93d7662b-c01c-4949-ba4a-8bd287f1019c",
   "metadata": {},
   "outputs": [
    {
     "data": {
      "text/plain": [
       "1.0    1655\n",
       "2.0     295\n",
       "3.0     176\n",
       "Name: fetal_health, dtype: int64"
      ]
     },
     "execution_count": 6,
     "metadata": {},
     "output_type": "execute_result"
    },
    {
     "data": {
      "image/png": "[encoded data removed]",
      "text/plain": [
       "<Figure size 432x288 with 1 Axes>"
      ]
     },
     "metadata": {
      "needs_background": "light"
     },
     "output_type": "display_data"
    }
   ],
   "source": [
    "data.fetal_health.value_counts().plot(kind='bar')\n",
    "data.fetal_health.value_counts()"
   ]
  },
  {
   "cell_type": "code",
   "execution_count": 7,
   "id": "a9f3fe70-4bce-4df6-ae6f-a043afbc3c18",
   "metadata": {},
   "outputs": [
    {
     "data": {
      "text/plain": [
       "0.7784571966133584"
      ]
     },
     "execution_count": 7,
     "metadata": {},
     "output_type": "execute_result"
    }
   ],
   "source": [
    "null_accuracy = data.fetal_health.value_counts()[1.0]/len(data)\n",
    "null_accuracy"
   ]
  },
  {
   "cell_type": "code",
   "execution_count": 8,
   "id": "5066a2d2-ce45-4e31-9877-17a36a592cf3",
   "metadata": {},
   "outputs": [],
   "source": [
    "encoder = OrdinalEncoder()\n",
    "oe_columns = ['fetal_health']\n",
    "encoder.fit(data[oe_columns])\n",
    "data[oe_columns] = encoder.transform(data[oe_columns])"
   ]
  },
  {
   "cell_type": "code",
   "execution_count": 9,
   "id": "469780ed-b1b6-4299-a569-bbe1a278d034",
   "metadata": {},
   "outputs": [
    {
     "data": {
      "text/plain": [
       "0.0    1655\n",
       "1.0     295\n",
       "2.0     176\n",
       "Name: fetal_health, dtype: int64"
      ]
     },
     "execution_count": 9,
     "metadata": {},
     "output_type": "execute_result"
    }
   ],
   "source": [
    "data.fetal_health.value_counts()"
   ]
  },
  {
   "cell_type": "markdown",
   "id": "afef90c0-6041-4556-8585-a9050427fed8",
   "metadata": {},
   "source": [
    "> **Creating helper classes and methods**:"
   ]
  },
  {
   "cell_type": "code",
   "execution_count": 10,
   "id": "2d745fc7-b87e-400b-be7c-efd18690749b",
   "metadata": {},
   "outputs": [],
   "source": [
    "class FetalHealthData(torch.utils.data.Dataset):\n",
    "    def __init__(self, data):\n",
    "        self.labels = data.fetal_health.tolist()\n",
    "        self.features = data.drop(columns=['fetal_health'], axis=1).values.tolist()\n",
    "    \n",
    "    def __getitem__(self, index):\n",
    "        sample = np.array(self.features[index]), np.array(self.labels[index])\n",
    "        return sample\n",
    "        \n",
    "    def __len__(self):\n",
    "        return len(self.labels)"
   ]
  },
  {
   "cell_type": "code",
   "execution_count": 11,
   "id": "edf81872-ff3b-4a3c-b5e5-b9d06965400d",
   "metadata": {},
   "outputs": [],
   "source": [
    "# HP: Hiden Layer 0, Hidden Layer 1\n",
    "def get_model(params):\n",
    "    \n",
    "    ###\n",
    "    layer_0 = params['layer_0']\n",
    "    layer_1 = params['layer_1']\n",
    "    ###\n",
    "    \n",
    "    layers = list()\n",
    "    \n",
    "    # 21 Input Features\n",
    "    in_features = len(data.drop(columns=['fetal_health'], axis=1).columns)\n",
    "    \n",
    "    # Input Layer -> Hidden Layer 0\n",
    "    layers.append(nn.Linear(in_features, layer_0))\n",
    "    layers.append(nn.LeakyReLU())\n",
    "    \n",
    "    # Hidden Layer 0 -> Hidden Layer 1\n",
    "    layers.append(nn.Linear(layer_0, layer_1))\n",
    "    layers.append(nn.LeakyReLU())\n",
    "    \n",
    "    # Hidden Layer 1 -> Output Layer (3 Classes)\n",
    "    layers.append(nn.Dropout())\n",
    "    layers.append(nn.Linear(layer_1, CLASSES))\n",
    "\n",
    "    return nn.Sequential(*layers)"
   ]
  },
  {
   "cell_type": "code",
   "execution_count": 12,
   "id": "409dfc39-4b8d-4ab8-a624-75c154dc7588",
   "metadata": {},
   "outputs": [],
   "source": [
    "# HP: Batch Size\n",
    "def get_data(params):\n",
    "    \n",
    "    ###\n",
    "    batch_size = params['batch_size']\n",
    "    ###\n",
    "    \n",
    "    training_data, testing_data = train_test_split(data, test_size=0.2, random_state=RANDOM_SEED, stratify=data.fetal_health)\n",
    "    training_data, testing_data = FetalHealthData(training_data), FetalHealthData(testing_data)\n",
    "    return torch.utils.data.DataLoader(training_data, batch_size=batch_size, shuffle=True), torch.utils.data.DataLoader(testing_data, batch_size=batch_size, shuffle=False)"
   ]
  },
  {
   "cell_type": "code",
   "execution_count": 13,
   "id": "ebb0a9e0-7b2b-4fc1-ba58-19e6763f9a35",
   "metadata": {},
   "outputs": [],
   "source": [
    "# HP: Optimizer, Learning Rate, Weight Decay\n",
    "def get_optimizer(model, params):\n",
    "    \n",
    "    ###\n",
    "    optimizer = params['optimizer']\n",
    "    learning_rate = params['learning_rate']\n",
    "    weight_decay = params['weight_decay']\n",
    "    ###\n",
    "    \n",
    "    if optimizer == 'Adam':\n",
    "        return torch.optim.Adam(model.parameters(), lr=learning_rate, weight_decay=weight_decay)\n",
    "    elif optimizer == 'SGD':\n",
    "        return torch.optim.SGD(model.parameters(), lr=learning_rate, weight_decay=weight_decay)\n",
    "    elif optimizer == 'RMSprop':\n",
    "        return torch.optim.RMSprop(model.parameters(), lr=learning_rate, weight_decay=weight_decay)\n",
    "    \n",
    "    # return getattr(optim, optimizer)(model.parameters(), lr=learning_rate, weight_decay=weight_decay)"
   ]
  },
  {
   "cell_type": "markdown",
   "id": "58c05bf2-3aa1-4b29-8c3f-061a33dccb8d",
   "metadata": {},
   "source": [
    "> **Creating training loop**:"
   ]
  },
  {
   "cell_type": "code",
   "execution_count": 14,
   "id": "3a700c21-719b-4ff6-bb5c-44ca5696ff6f",
   "metadata": {},
   "outputs": [],
   "source": [
    "# HP: Scheduler\n",
    "def train(model, training_batches, testing_batches, params):\n",
    "    ###\n",
    "    scheduler = params['scheduler']\n",
    "    ###\n",
    "    \n",
    "    accuracy = list()\n",
    "    criterion = nn.CrossEntropyLoss()\n",
    "    \n",
    "    ###\n",
    "    optimizer = get_optimizer(model, params)\n",
    "    ###\n",
    "    \n",
    "    if scheduler:\n",
    "        scheduler = CosineAnnealingLR(optimizer, EPOCHS-1, verbose=False)\n",
    "    \n",
    "    for epoch in range(EPOCHS):\n",
    "        ### Training\n",
    "        model.train()\n",
    "        for samples, labels in training_batches:\n",
    "            optimizer.zero_grad()\n",
    "            outputs = model(samples.float())\n",
    "            loss = criterion(outputs, labels.long())\n",
    "            loss.backward()\n",
    "            optimizer.step()\n",
    "        \n",
    "        if scheduler:\n",
    "            scheduler.step()\n",
    "        \n",
    "        num_samples = 0\n",
    "        correct_predictions = 0\n",
    "        ### Testing\n",
    "        model.eval()\n",
    "        with torch.no_grad():\n",
    "            for samples, labels in testing_batches:\n",
    "                output = model(samples.float())\n",
    "                correct_predictions += (output.argmax(dim=1) == labels).sum().item()\n",
    "                num_samples += labels.size(0)\n",
    "            \n",
    "        accuracy.append(100.0 * correct_predictions / num_samples)\n",
    "    \n",
    "    return accuracy"
   ]
  },
  {
   "cell_type": "markdown",
   "id": "5ff29fa9-a7ca-40f9-82c1-108179780077",
   "metadata": {},
   "source": [
    "> **Creating a study object (in memory)**:"
   ]
  },
  {
   "cell_type": "code",
   "execution_count": 15,
   "id": "3599adc1-b010-446d-a7aa-5bd921269177",
   "metadata": {},
   "outputs": [
    {
     "name": "stderr",
     "output_type": "stream",
     "text": [
      "[I 2024-01-30 20:02:09,888] A new study created in memory with name: no-name-83b4dbbb-17a1-4627-8290-c188d20a6cc1\n"
     ]
    }
   ],
   "source": [
    "study = optuna.create_study(direction='maximize', sampler=optuna.samplers.TPESampler(seed=RANDOM_SEED))"
   ]
  },
  {
   "cell_type": "markdown",
   "id": "1286c427-f2e9-4834-8305-6787046dc538",
   "metadata": {},
   "source": [
    "> **Defining an objective function**:"
   ]
  },
  {
   "cell_type": "code",
   "execution_count": 16,
   "id": "b01bd155-4250-4866-ae2a-530bd7f6e98c",
   "metadata": {},
   "outputs": [],
   "source": [
    "def objective(trial):\n",
    "    params = {\n",
    "        'layer_0': trial.suggest_int('layer_0', 8, 256),\n",
    "        'layer_1': trial.suggest_int('layer_1', 8, 256),\n",
    "        'batch_size': trial.suggest_int('batch_size', 8, 128),\n",
    "        'optimizer': trial.suggest_categorical('optimizer', ['SGD', 'Adam', 'RMSprop']),\n",
    "        'learning_rate': trial.suggest_loguniform('learning_rate', 1e-5, 1e-1),\n",
    "        'weight_decay': trial.suggest_loguniform('weight_decay', 1e-5, 1e-1),\n",
    "        'scheduler': True if trial.suggest_int('scheduler', 0, 1) == 1 else False\n",
    "    }\n",
    "    \n",
    "    model = get_model(params)\n",
    "    training_batches, testing_batches = get_data(params)\n",
    "    history = train(model, training_batches, testing_batches, params)\n",
    "    \n",
    "    # Fitness-Value\n",
    "    return history[-1]"
   ]
  },
  {
   "cell_type": "markdown",
   "id": "b107f1c9-882c-4272-b5bc-54a4a4505a7c",
   "metadata": {},
   "source": [
    "> **Optimizing parameters**:"
   ]
  },
  {
   "cell_type": "code",
   "execution_count": 17,
   "id": "20eb1802-014c-4c79-a16a-30736f8120b7",
   "metadata": {},
   "outputs": [
    {
     "name": "stderr",
     "output_type": "stream",
     "text": [
      "[I 2024-01-30 20:02:11,696] Trial 0 finished with value: 77.93427230046949 and parameters: {'layer_0': 101, 'layer_1': 244, 'batch_size': 96, 'optimizer': 'SGD', 'learning_rate': 1.7073967431528103e-05, 'weight_decay': 0.029154431891537533, 'scheduler': 1}. Best is trial 0 with value: 77.93427230046949.\n",
      "[I 2024-01-30 20:02:12,846] Trial 1 finished with value: 77.93427230046949 and parameters: {'layer_0': 184, 'layer_1': 13, 'batch_size': 125, 'optimizer': 'SGD', 'learning_rate': 5.415244119402538e-05, 'weight_decay': 0.00016480446427978953, 'scheduler': 1}. Best is trial 0 with value: 77.93427230046949.\n",
      "[I 2024-01-30 20:02:14,381] Trial 2 finished with value: 85.91549295774648 and parameters: {'layer_0': 115, 'layer_1': 80, 'batch_size': 82, 'optimizer': 'RMSprop', 'learning_rate': 0.0006672367170464204, 'weight_decay': 0.013826232179369865, 'scheduler': 0}. Best is trial 2 with value: 85.91549295774648.\n",
      "[I 2024-01-30 20:02:19,001] Trial 3 finished with value: 77.93427230046949 and parameters: {'layer_0': 136, 'layer_1': 155, 'batch_size': 13, 'optimizer': 'SGD', 'learning_rate': 0.06245139574743072, 'weight_decay': 0.07286653737491042, 'scheduler': 1}. Best is trial 2 with value: 85.91549295774648.\n",
      "[I 2024-01-30 20:02:20,359] Trial 4 finished with value: 80.0469483568075 and parameters: {'layer_0': 83, 'layer_1': 32, 'batch_size': 90, 'optimizer': 'RMSprop', 'learning_rate': 1.3726318898045866e-05, 'weight_decay': 0.0433792069749094, 'scheduler': 0}. Best is trial 2 with value: 85.91549295774648.\n",
      "[I 2024-01-30 20:02:22,229] Trial 5 finished with value: 84.50704225352112 and parameters: {'layer_0': 172, 'layer_1': 85, 'batch_size': 70, 'optimizer': 'RMSprop', 'learning_rate': 0.012604664585649461, 'weight_decay': 0.057279044707996205, 'scheduler': 1}. Best is trial 2 with value: 85.91549295774648.\n",
      "[I 2024-01-30 20:02:27,412] Trial 6 finished with value: 87.08920187793427 and parameters: {'layer_0': 156, 'layer_1': 237, 'batch_size': 18, 'optimizer': 'RMSprop', 'learning_rate': 0.00035868164986275477, 'weight_decay': 0.00012172958098369953, 'scheduler': 1}. Best is trial 6 with value: 87.08920187793427.\n",
      "[I 2024-01-30 20:02:29,177] Trial 7 finished with value: 79.81220657276995 and parameters: {'layer_0': 96, 'layer_1': 77, 'batch_size': 73, 'optimizer': 'Adam', 'learning_rate': 0.08862326508576249, 'weight_decay': 0.012273800987852962, 'scheduler': 0}. Best is trial 6 with value: 87.08920187793427.\n",
      "[I 2024-01-30 20:02:30,955] Trial 8 finished with value: 84.27230046948357 and parameters: {'layer_0': 9, 'layer_1': 211, 'batch_size': 93, 'optimizer': 'Adam', 'learning_rate': 0.00027155819552829395, 'weight_decay': 2.9072088906598435e-05, 'scheduler': 1}. Best is trial 6 with value: 87.08920187793427.\n",
      "[I 2024-01-30 20:02:36,098] Trial 9 finished with value: 84.50704225352112 and parameters: {'layer_0': 163, 'layer_1': 90, 'batch_size': 15, 'optimizer': 'RMSprop', 'learning_rate': 0.003550012525851159, 'weight_decay': 0.03538758864779238, 'scheduler': 0}. Best is trial 6 with value: 87.08920187793427.\n"
     ]
    }
   ],
   "source": [
    "study.optimize(objective, n_trials=10)"
   ]
  },
  {
   "cell_type": "code",
   "execution_count": 18,
   "id": "49b17527-a043-4fe5-9d15-a8f8391812f9",
   "metadata": {},
   "outputs": [
    {
     "data": {
      "text/plain": [
       "{'layer_0': 156,\n",
       " 'layer_1': 237,\n",
       " 'batch_size': 18,\n",
       " 'optimizer': 'RMSprop',\n",
       " 'learning_rate': 0.00035868164986275477,\n",
       " 'weight_decay': 0.00012172958098369953,\n",
       " 'scheduler': 1}"
      ]
     },
     "execution_count": 18,
     "metadata": {},
     "output_type": "execute_result"
    }
   ],
   "source": [
    "study.best_params"
   ]
  }
 ],
 "metadata": {
  "kernelspec": {
   "display_name": "Python 3 (ipykernel)",
   "language": "python",
   "name": "python3"
  },
  "language_info": {
   "codemirror_mode": {
    "name": "ipython",
    "version": 3
   },
   "file_extension": ".py",
   "mimetype": "text/x-python",
   "name": "python",
   "nbconvert_exporter": "python",
   "pygments_lexer": "ipython3",
   "version": "3.7.13"
  }
 },
 "nbformat": 4,
 "nbformat_minor": 5
}
