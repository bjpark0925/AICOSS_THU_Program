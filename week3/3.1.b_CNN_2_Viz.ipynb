{
 "cells": [
  {
   "cell_type": "markdown",
   "metadata": {},
   "source": [
    "![Banner](img/AI_Special_Program_Banner.jpg)\n",
    "\n",
    "# Convolutional Neural Networks (CNN) - Convolution Artithmetic and Visualizations\n",
    "---"
   ]
  },
  {
   "cell_type": "markdown",
   "metadata": {
    "editable": true,
    "slideshow": {
     "slide_type": "slide"
    },
    "tags": []
   },
   "source": [
    "Sources:\n",
    "* [A guide to convolution arithmetic for deep learning](https://arxiv.org/abs/1603.07285) (and associated [GitHub page](https://github.com/vdumoulin/conv_arithmetic) + additional picture conversions via [EZGif](https://ezgif.com/))\n",
    "* [Deep Learning Book, chapter 9](http://www.deeplearningbook.org/contents/convnets.html)\n",
    "\n",
    "The material presented here has been compiled from these sources.\n",
    "\n",
    "---"
   ]
  },
  {
   "cell_type": "markdown",
   "metadata": {
    "editable": true,
    "slideshow": {
     "slide_type": "slide"
    },
    "tags": []
   },
   "source": [
    "## Overview\n",
    "  - [Motivation](#Motivation)\n",
    "    - [Example in 2D](#Example-in-2D)\n",
    "    - [Sparse Connectivity](#Sparse-Connectivity)\n",
    "    - [Weight Sharing](#Weight-Sharing)\n",
    "  - [Parameters of convolutions](#Parameters-of-convolutions)\n",
    "  - [Example](#Example)\n",
    "  - [Pooling](#Pooling)\n",
    "  - [Convolution Arithmetic](#Convolution-Arithmetic)\n",
    "    - [General Formulae for Unit Strides I](#General-Formulae-for-Unit-Strides-I)\n",
    "    - [General Formulae for Unit Strides II](#General-Formulae-for-Unit-Strides-II)\n",
    "    - [General Formulae for Unit Strides III](#General-Formulae-for-Unit-Strides-III)\n",
    "    - [General Formulae for Non-Unit Strides I](#General-Formulae-for-Non-Unit-Strides-I)\n",
    "    - [General Formulae for Non-Unit Strides II](#General-Formulae-for-Non-Unit-Strides-II)\n",
    "  - [Final Observations](#Final-Observations)\n",
    "    - [Example of usefulness: edge detection](#Example-of-usefulness:-edge-detection)"
   ]
  },
  {
   "cell_type": "markdown",
   "metadata": {
    "slideshow": {
     "slide_type": "slide"
    }
   },
   "source": [
    "### Motivation\n",
    "---\n",
    "In general ANNs, input **flattended** (e.g. MNIST: $28\\times 28 \\to 784$) $\\rightarrow$ loss of structure\n",
    "\n",
    "Structure in images, sound clips etc:\n",
    "* stored as multi-dimensional arrays\n",
    "* one or more **ordered** axes\n",
    "  - images: width and height\n",
    "  - sound: time\n",
    "* shared channel **axis**\n",
    "  - images: RGB channels\n",
    "  - sound: left / right for stereo\n",
    "  \n",
    "Convolutions preserve structure!\n",
    "\n",
    "Furthermore\n",
    "* massive reduction of parameters via\n",
    "  - sparse connectivity\n",
    "  - weight sharing"
   ]
  },
  {
   "cell_type": "markdown",
   "metadata": {
    "slideshow": {
     "slide_type": "slide"
    }
   },
   "source": [
    "#### Example in 2D\n",
    "$3\\times3$ *kernel* operating on $5\\times5$ *input feature map* yielding $3\\times3$ *output feature map* via *sliding window operation*\n",
    "<div>\n",
    "    <table>\n",
    "        <tr>\n",
    "            <td valign=\"center\"> <img src=\"img/kernel.png\" width=80></td>\n",
    "            <td>&nbsp;<div style=\"font-size: 30pt\">&rarr;</div>&nbsp;</td>\n",
    "            <td><img src=\"img/numerical_no_padding_no_strides.gif\"></td>\n",
    "        </tr>\n",
    "        <tr style=\"font-size: 11pt\">\n",
    "            <td align=\"center\">kernel</td><td>&nbsp;&nbsp;</td>\n",
    "            <td align=\"center\">convolution on input&nbsp;&nbsp;&nbsp;&nbsp;&nbsp;&nbsp;&nbsp;&nbsp;&rarr;&nbsp;&nbsp;output</td>\n",
    "        </tr>\n",
    "    </table>\n",
    "</div>\n",
    "\n",
    "**Notes** \n",
    "* Output still has 2-dimensional structure!\n",
    "* example shows one channel; more channels by *stacking* input *feature maps*\n",
    "* generalization to $N$ dimensions: e.g. in 3-D, kernel is *cuboid* sliding over height, width, depth\n",
    "* theoretically: *kernel flipping* needed (see [Goodfellow et al.](http://www.deeplearningbook.org/contents/convnets.html))"
   ]
  },
  {
   "cell_type": "markdown",
   "metadata": {
    "slideshow": {
     "slide_type": "slide"
    }
   },
   "source": [
    "### Parameters of convolutions\n",
    "---\n",
    "discrete convolutions consist of kernels parameterized by\n",
    "\\begin{equation*}\n",
    "\\begin{split}\n",
    "    n &\\equiv \\text{number of output feature maps},\\\\\n",
    "    m &\\equiv \\text{number of input feature maps},\\\\\n",
    "    k_j &\\equiv \\text{kernel size along axis $j\\>,\\ j=1,\\dots,N$}\n",
    "\\end{split}\n",
    "\\end{equation*}\n",
    "e.g. $n=3\\,\\ m=2\\>,\\ k_1=k_2=3$:\n",
    "<div><img src=\"img/AML_CNN_008.png\" width=250></div>"
   ]
  },
  {
   "cell_type": "markdown",
   "metadata": {
    "slideshow": {
     "slide_type": "subslide"
    }
   },
   "source": [
    "output size $o_j$ of convolutional layer along axis $j$ affected by:\n",
    "* $i_j$: input size along axis $j$,\n",
    "* $k_j$: kernel size along axis $j$,\n",
    "* $s_j$: *stride* (distance between two consecutive positions of the kernel) along axis $j$,\n",
    "* $p_j$: *zero padding* (number of zeros concatenated at the beginning and at the end of an axis) along axis $j$."
   ]
  },
  {
   "cell_type": "markdown",
   "metadata": {},
   "source": [
    "### Example\n",
    " $N = 2$, $i_1 = i_2 = 5$, $k_1 = k_2 = 3$, $s_1 = s_2 = 2$, and $p_1 = p_2 = 1\\rightarrow o_1 = o_2 = 3$\n",
    "<div>\n",
    "    <table>\n",
    "        <tr>\n",
    "            <td valign=\"center\"> <img src=\"img/kernel.png\" width=80></td>\n",
    "            <td>&nbsp;<div style=\"font-size: 30pt\">&rarr;</div>&nbsp;</td>\n",
    "            <td><img src=\"img/numerical_padding_strides.gif\"></td>\n",
    "        </tr>\n",
    "        <tr style=\"font-size: 11pt\">\n",
    "            <td align=\"center\">kernel</td><td>&nbsp;&nbsp;</td>\n",
    "            <td align=\"center\">padded input + convolution&nbsp;&nbsp;&rarr;&nbsp;output</td>\n",
    "        </tr>\n",
    "    </table>\n",
    "</div>"
   ]
  },
  {
   "cell_type": "markdown",
   "metadata": {
    "slideshow": {
     "slide_type": "slide"
    }
   },
   "source": [
    "### Pooling\n",
    "---\n",
    "+ *practically* works like discrete convolutions, but goal is *summarization of subregions*\n",
    "+ output size $o_j$ of a pooling layer along axis $j$ affected by:\n",
    "  - $i_j$: input size along axis $j$\n",
    "  - $k_j$: pooling window size along axis $j$\n",
    "  - $s_j$: stride along axis $j$\n",
    "\n",
    "**Example**: $i_1=i_2=5\\>,\\ k_1=k_2=3\\>,\\ s_1=s_2=1\\rightarrow o_1=o_2=3$\n",
    "<div>\n",
    "    <table>\n",
    "        <tr>\n",
    "            <td><img src=\"img/numerical_max_pooling.gif\"></td><td>&nbsp;&nbsp;</td><td><img src=\"img/numerical_avg_pooling.gif\"></td>\n",
    "        </tr>\n",
    "        <tr style=\"font-size: 11pt\">\n",
    "            <td align=\"center\">Max-Pooling</td><td>&nbsp;&nbsp;</td><td align=\"center\">Average Pooling</td>\n",
    "        </tr>\n",
    "    </table>\n",
    "</div>"
   ]
  },
  {
   "cell_type": "markdown",
   "metadata": {
    "slideshow": {
     "slide_type": "slide"
    }
   },
   "source": [
    "### Convolution Arithmetic\n",
    "---\n",
    "Derivation of formulas for output size $o=o_1=o_2$ for special case (ease of visualization):\n",
    "* 2-D discrete convolutions ($N = 2$),\n",
    "* square inputs ($i_1 = i_2 = i$),\n",
    "* square kernel size ($k_1 = k_2 = k$),\n",
    "* same strides along both axes ($s_1 = s_2 = s$),\n",
    "* same zero padding along both axes ($p_1 = p_2 = p$)\n",
    "\n",
    "**but**: no interaction of parameters across axes, therefore easily generalizable!\n",
    "\n",
    "$\\rightarrow$ Output size equals *number of possible placements of kernel on input*\n",
    "\n",
    "**Example**: $i=4\\>,\\ k=3\\>,\\ s=1\\>,\\ p=0\\rightarrow o=2$\n",
    "<div><img src=\"img/no_padding_no_strides.gif\" width=200></div>"
   ]
  },
  {
   "cell_type": "markdown",
   "metadata": {
    "slideshow": {
     "slide_type": "subslide"
    }
   },
   "source": [
    "#### General Formulae for Unit Strides I\n",
    "* **no zero padding, unit strides** (see above for visualization)<br>\n",
    "For any $i$ and $k$, and for $s = 1$ and $p = 0$,\n",
    "\\begin{equation*}\n",
    "    o = (i - k) + 1.\n",
    "\\end{equation*}\n",
    "* **zero padding, unit strides** <br>\n",
    "For any $i$,  $k$ and $p$, and for $s = 1$,\n",
    "\\begin{equation*}\n",
    "    o = (i - k) + 2p + 1.\n",
    "\\end{equation*}\n",
    "  *Proof*: effective input size changed to $i+2p\\quad\\square$<br>\n",
    " **Example**: $i = 5$, $k = 4$, $p = 2\\rightarrow o=6$. \n",
    "  <div><img src=\"img/arbitrary_padding_no_strides.gif\" width=250></div>"
   ]
  },
  {
   "cell_type": "markdown",
   "metadata": {
    "slideshow": {
     "slide_type": "subslide"
    }
   },
   "source": [
    "#### General Formulae for Unit Strides II\n",
    "two special cases for padding widely used\n",
    "+ **half (same) padding**: goal is $o = i$<br>\n",
    "For any $i$ and for $k$ odd ($k = 2l + 1\\>,\\ l \\in \\mathbb{N}$), $s = 1$ and\n",
    "$p = \\lfloor k / 2 \\rfloor = l$,<br>\n",
    "\n",
    "\\begin{equation*}\n",
    "\\begin{split}\n",
    "    o &= i + 2 \\lfloor k / 2 \\rfloor - (k - 1) \\\\\n",
    "      &= i + 2l - 2l = i\n",
    "\\end{split}\n",
    "\\end{equation*}\n",
    "  **Example**: $i = 5$, $k = 3 \\Rightarrow p = 1\\rightarrow o=i=5$:\n",
    "  <div><img src=\"img/same_padding_no_strides.gif\" width=300></div>"
   ]
  },
  {
   "cell_type": "markdown",
   "metadata": {
    "slideshow": {
     "slide_type": "subslide"
    }
   },
   "source": [
    "#### General Formulae for Unit Strides III\n",
    "two special cases for padding widely used\n",
    "+ **full padding**: goal is $o > i$<br>\n",
    "For any $i$ and $k$, and for $p = k - 1$ and $s = 1$,\n",
    "\n",
    "\\begin{equation*}\n",
    "\\begin{split}\n",
    "    o &= i + 2(k - 1) - (k - 1) \\\\\n",
    "      &= i + (k - 1).\n",
    "\\end{split}\n",
    "\\end{equation*}\n",
    "  **Example**: $i = 5$, $k = 3\\Rightarrow p = 2\\rightarrow o=7$.\n",
    "  <div><img src=\"img/full_padding_no_strides.gif\" width=300></div>"
   ]
  },
  {
   "cell_type": "markdown",
   "metadata": {
    "slideshow": {
     "slide_type": "subslide"
    }
   },
   "source": [
    "#### General Formulae for Non-Unit Strides I\n",
    "* **no zero padding, non-unit strides**<br>\n",
    "For any $i$ and $k$, and for $s > 1$ and $p = 0$,\n",
    "\n",
    "\\begin{equation*}\n",
    "    o = \\left\\lfloor \\frac{i - k}{s} \\right\\rfloor + 1.\n",
    "\\end{equation*}\n",
    "  **Example**: $i = 5$, $k = 3$, $s = 2$, and $p=0\\rightarrow o=2$:\n",
    "  <div><img src=\"img/no_padding_strides.gif\" width=350></div>"
   ]
  },
  {
   "cell_type": "markdown",
   "metadata": {
    "slideshow": {
     "slide_type": "subslide"
    }
   },
   "source": [
    "#### General Formulae for Non-Unit Strides II\n",
    "* **zero padding, non-unit strides**<br>\n",
    "For any $i$, $k$, $p$ and $s$,\n",
    "\\begin{equation*}\n",
    "    o = \\left\\lfloor \\frac{i + 2p - k}{s} \\right\\rfloor + 1.\n",
    "\\end{equation*}\n",
    "\n",
    "  **Example**: $k=3\\>,\\ s=2\\>,\\ p=1$ with $i=5$ (left) and $i=6$ (right) $\\rightarrow o=3$ (both cases)\n",
    "<div>\n",
    "    <table>\n",
    "        <tr>\n",
    "            <td><img src=\"img/padding_strides.gif\" width=80%></td>\n",
    "            <td>&nbsp;&nbsp;</td>\n",
    "            <td><img src=\"img/padding_strides_odd.gif\" width=80%></td>\n",
    "        </tr>\n",
    "        <tr style=\"font-size: 11pt\">\n",
    "            <td align=\"center\">5x5 input</td><td>&nbsp;&nbsp;</td><td align=\"center\">6x6 input</td>\n",
    "        </tr>\n",
    "    </table>\n",
    "</div>"
   ]
  },
  {
   "cell_type": "markdown",
   "metadata": {
    "slideshow": {
     "slide_type": "slide"
    }
   },
   "source": [
    "### Final Observations\n",
    "---\n",
    "#### Efficacy of CNN\n",
    "<div><img src=\"img/AML_CNN_004.png\" width=500></div>\n",
    "\n",
    "**Observations**: \n",
    "* receptive field widens in deeper layers\n",
    "* effect compounded by pooling or strided convolutions\n",
    "* depth of network and choice of architecture lead to *indirect connections* of output neuros to input neurons"
   ]
  },
  {
   "cell_type": "markdown",
   "metadata": {
    "slideshow": {
     "slide_type": "subslide"
    }
   },
   "source": [
    "#### Example of usefulness: edge detection\n",
    "kernel: $(1,-1)$; padding: $p_1=1\\>,\\ p_2=0$; stride: $s_1=s_2=1\\rightarrow$ image size preserved\n",
    "\n",
    "<div><img src=\"img/AML_CNN_006.png\" width=500></div>\n",
    "\n",
    "(image from [Goodfellow et al.](http://www.deeplearningbook.org/contents/convnets.html))\n",
    "\n",
    "For a more sophisticated edge detector see, e.g., [Sobel Operator](https://en.wikipedia.org/wiki/Sobel_operator)\n",
    "\n",
    "**However**: Weights ($\\equiv$ kernel parameters) are *learned*, not prescribed"
   ]
  },
  {
   "cell_type": "code",
   "execution_count": null,
   "metadata": {},
   "outputs": [],
   "source": []
  }
 ],
 "metadata": {
  "kernelspec": {
   "display_name": "Python 3 (ipykernel)",
   "language": "python",
   "name": "python3"
  },
  "language_info": {
   "codemirror_mode": {
    "name": "ipython",
    "version": 3
   },
   "file_extension": ".py",
   "mimetype": "text/x-python",
   "name": "python",
   "nbconvert_exporter": "python",
   "pygments_lexer": "ipython3",
   "version": "3.12.0"
  }
 },
 "nbformat": 4,
 "nbformat_minor": 4
}
