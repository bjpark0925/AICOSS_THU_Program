{
 "cells": [
  {
   "cell_type": "markdown",
   "metadata": {},
   "source": [
    "![Banner](img/AI_Special_Program_Banner.jpg)\n",
    "\n",
    "## Recurrent Neural Networks (RNN) - Material 2: Sentiment Analysis\n",
    "---"
   ]
  },
  {
   "cell_type": "markdown",
   "metadata": {
    "slideshow": {
     "slide_type": "skip"
    }
   },
   "source": [
    "The material presented is adapted from *Python Machine Learning 3rd Edition* by [Sebastian Raschka](https://sebastianraschka.com) & [Vahid Mirjalili](http://vahidmirjalili.com), Packt Publishing Ltd. 2019 (code available on [GitHub](https://github.com/rasbt/python-machine-learning-book-3rd-edition))."
   ]
  },
  {
   "cell_type": "markdown",
   "metadata": {},
   "source": [
    "### Overview\n",
    "---"
   ]
  },
  {
   "cell_type": "markdown",
   "metadata": {},
   "source": [
    " - [Example: Sentiment analysis of movie reviews](#Example:-Sentiment-analysis-of-movie-reviews)\n",
    "     - [Preprocessing](#Preprocessing)\n",
    "     - [Data Representation](#Data-Representation)\n",
    "     - [Padding](#Padding)\n",
    "     - [Embedding layers for sentence encoding](#Embedding-layers-for-sentence-encoding)\n",
    " - [General RNN structure using PyTorch](#General-RNN-structure-using-PyTorch)\n",
    " - [RNN for sentiment analysis](#RNN-for-sentiment-analysis)\n",
    " - [Visualization of embeddings](#Visualization-of-embeddings)\n",
    "\n",
    "$\\rightarrow$ &nbsp; [Material 3: Text Generation using a Tiny Language Model](3.3.b_RNN_3_TLM.ipynb)"
   ]
  },
  {
   "cell_type": "code",
   "execution_count": 1,
   "metadata": {},
   "outputs": [],
   "source": [
    "# ensure torchtext installed\n",
    "try:\n",
    "    import torchtext\n",
    "except:\n",
    "    print(\"Installing torchtext\")\n",
    "    !pip install torchtext   "
   ]
  },
  {
   "cell_type": "code",
   "execution_count": 2,
   "metadata": {},
   "outputs": [],
   "source": [
    "import os\n",
    "import gzip\n",
    "import shutil\n",
    "\n",
    "import numpy as np\n",
    "import pandas as pd\n",
    "import random\n",
    "import collections\n",
    "from tqdm.notebook import trange, tqdm\n",
    "\n",
    "import matplotlib.pyplot as plt\n",
    "%matplotlib inline\n",
    "\n",
    "import torch\n",
    "from torch.utils.data import Dataset, DataLoader\n",
    "import torchtext\n",
    "from torchtext.data import get_tokenizer\n",
    "from torch import nn\n",
    "\n",
    "import datetime as dt"
   ]
  },
  {
   "cell_type": "code",
   "execution_count": 3,
   "metadata": {},
   "outputs": [],
   "source": [
    "# importing module for training loop\n",
    "from train_loop import train, train_for_epochs, validate, plot_history"
   ]
  },
  {
   "cell_type": "code",
   "execution_count": 4,
   "metadata": {},
   "outputs": [
    {
     "name": "stdout",
     "output_type": "stream",
     "text": [
      "CUDA_AVAILABLE = True\n"
     ]
    }
   ],
   "source": [
    "CUDA_AVAILABLE = torch.cuda.is_available()\n",
    "print(f'CUDA_AVAILABLE = {CUDA_AVAILABLE}')"
   ]
  },
  {
   "cell_type": "code",
   "execution_count": 5,
   "metadata": {},
   "outputs": [],
   "source": [
    "# if possible, we want to make use of GPU computing\n",
    "USE_ONLY_CPU = False"
   ]
  },
  {
   "cell_type": "code",
   "execution_count": 6,
   "metadata": {},
   "outputs": [],
   "source": [
    "random.seed(42)     # python random generator\n",
    "np.random.seed(42)  # numpy random generator\n",
    "\n",
    "torch.manual_seed(42)\n",
    "torch.cuda.manual_seed_all(42)"
   ]
  },
  {
   "cell_type": "markdown",
   "metadata": {
    "slideshow": {
     "slide_type": "slide"
    }
   },
   "source": [
    "### Example: Sentiment analysis of movie reviews\n",
    "---\n",
    "* reading data as *external data* and transforming dataset for `PyTorch`\n",
    "* also available as [TorchText Dataset](https://pytorch.org/text/stable/datasets.html#imdb)"
   ]
  },
  {
   "cell_type": "code",
   "execution_count": 7,
   "metadata": {},
   "outputs": [
    {
     "data": {
      "text/html": [
       "<div>\n",
       "<style scoped>\n",
       "    .dataframe tbody tr th:only-of-type {\n",
       "        vertical-align: middle;\n",
       "    }\n",
       "\n",
       "    .dataframe tbody tr th {\n",
       "        vertical-align: top;\n",
       "    }\n",
       "\n",
       "    .dataframe thead th {\n",
       "        text-align: right;\n",
       "    }\n",
       "</style>\n",
       "<table border=\"1\" class=\"dataframe\">\n",
       "  <thead>\n",
       "    <tr style=\"text-align: right;\">\n",
       "      <th></th>\n",
       "      <th>review</th>\n",
       "      <th>sentiment</th>\n",
       "    </tr>\n",
       "  </thead>\n",
       "  <tbody>\n",
       "    <tr>\n",
       "      <th>49995</th>\n",
       "      <td>OK, lets start with the best. the building. al...</td>\n",
       "      <td>0</td>\n",
       "    </tr>\n",
       "    <tr>\n",
       "      <th>49996</th>\n",
       "      <td>The British 'heritage film' industry is out of...</td>\n",
       "      <td>0</td>\n",
       "    </tr>\n",
       "    <tr>\n",
       "      <th>49997</th>\n",
       "      <td>I don't even know where to begin on this one. ...</td>\n",
       "      <td>0</td>\n",
       "    </tr>\n",
       "    <tr>\n",
       "      <th>49998</th>\n",
       "      <td>Richard Tyler is a little boy who is scared of...</td>\n",
       "      <td>0</td>\n",
       "    </tr>\n",
       "    <tr>\n",
       "      <th>49999</th>\n",
       "      <td>I waited long to watch this movie. Also becaus...</td>\n",
       "      <td>1</td>\n",
       "    </tr>\n",
       "  </tbody>\n",
       "</table>\n",
       "</div>"
      ],
      "text/plain": [
       "                                                  review  sentiment\n",
       "49995  OK, lets start with the best. the building. al...          0\n",
       "49996  The British 'heritage film' industry is out of...          0\n",
       "49997  I don't even know where to begin on this one. ...          0\n",
       "49998  Richard Tyler is a little boy who is scared of...          0\n",
       "49999  I waited long to watch this movie. Also becaus...          1"
      ]
     },
     "execution_count": 7,
     "metadata": {},
     "output_type": "execute_result"
    }
   ],
   "source": [
    "df = pd.read_csv('data/movie_data.csv', encoding='utf-8')\n",
    "df.tail()"
   ]
  },
  {
   "cell_type": "markdown",
   "metadata": {},
   "source": [
    "#### Preprocessing"
   ]
  },
  {
   "cell_type": "code",
   "execution_count": 8,
   "metadata": {
    "slideshow": {
     "slide_type": "subslide"
    }
   },
   "outputs": [
    {
     "data": {
      "text/plain": [
       "(1,\n",
       " 'In 1974, the teenager Martha Moxley (Maggie Grace) moves to the high-class area of Belle Haven, Greenwich, Connecticut. On the Mischief Night, eve of Halloween, she was murdered in the backyard of her house and her murder remained unsolved. Twenty-two years later, the writer Mark Fuhrman (Christopher Meloni), who is a former LA detective that has fallen in disgrace for perjury in O.J. Simpson trial and moved to Idaho, decides to investigate the case with his partner Stephen Weeks (Andrew Mitchell) with the purpose of writing a book. The locals squirm and do not welcome them, but with the support of the retired detective Steve Carroll (Robert Forster) that was in charge of the investigation in the 70\\'s, they discover the criminal and a net of power and money to cover the murder.<br /><br />\"Murder in Greenwich\" is a good TV movie, with the true story of a murder of a fifteen years old girl that was committed by a wealthy teenager whose mother was a Kennedy. The powerful and rich family used their influence to cover the murder for more than twenty years. However, a snoopy detective and convicted perjurer in disgrace was able to disclose how the hideous crime was committed. The screenplay shows the investigation of Mark and the last days of Martha in parallel, but there is a lack of the emotion in the dramatization. My vote is seven.<br /><br />Title (Brazil): Not Available')"
      ]
     },
     "execution_count": 8,
     "metadata": {},
     "output_type": "execute_result"
    }
   ],
   "source": [
    "# Step 1: extract target and values\n",
    "\n",
    "target = df.pop('sentiment')\n",
    "\n",
    "values = df.pop('review')\n",
    "\n",
    "target[0], values[0]"
   ]
  },
  {
   "cell_type": "markdown",
   "metadata": {},
   "source": [
    " * **tokenizer**\n",
    "   * `torchtext.data.utils.get_tokenize`: https://pytorch.org/text/stable/data_utils.html"
   ]
  },
  {
   "cell_type": "code",
   "execution_count": 9,
   "metadata": {},
   "outputs": [
    {
     "data": {
      "text/plain": [
       "['this',\n",
       " 'is',\n",
       " 'an',\n",
       " 'example',\n",
       " '.',\n",
       " 'the',\n",
       " 'tokenizer',\n",
       " 'splits',\n",
       " 'each',\n",
       " 'part',\n",
       " 'into',\n",
       " 'a',\n",
       " 'separate',\n",
       " 'token',\n",
       " '!']"
      ]
     },
     "execution_count": 9,
     "metadata": {},
     "output_type": "execute_result"
    }
   ],
   "source": [
    "#setup a tokenizer\n",
    "tokenizer_name = 'basic_english' \n",
    "tokenizer = get_tokenizer(tokenizer_name)\n",
    "tokenizer(\"This is an example. The tokenizer splits each part into a separate token!\")"
   ]
  },
  {
   "cell_type": "markdown",
   "metadata": {
    "slideshow": {
     "slide_type": "skip"
    }
   },
   "source": [
    " * **vocabulary**\n",
    "   * `torchtext.vocab`: https://pytorch.org/text/stable/vocab.html"
   ]
  },
  {
   "cell_type": "code",
   "execution_count": 10,
   "metadata": {},
   "outputs": [
    {
     "name": "stdout",
     "output_type": "stream",
     "text": [
      "Vocab-size: 147157\n"
     ]
    }
   ],
   "source": [
    "counter_obj = collections.Counter()\n",
    "\n",
    "#building a vocab which maps each token to a id\n",
    "for v in values:\n",
    "    tokens = tokenizer(v)\n",
    "    counter_obj.update(tokens)\n",
    "            \n",
    "vocab = torchtext.vocab.vocab(counter_obj, min_freq=1, specials=['<unk>'])\n",
    "# set a default index for out of vocabulary tokens\n",
    "vocab.set_default_index(-1)\n",
    "print('Vocab-size:', len(vocab))"
   ]
  },
  {
   "cell_type": "code",
   "execution_count": 11,
   "metadata": {},
   "outputs": [
    {
     "data": {
      "text/plain": [
       "('cover', [101])"
      ]
     },
     "execution_count": 11,
     "metadata": {},
     "output_type": "execute_result"
    }
   ],
   "source": [
    "# the vocab can be used to lookup ids and tokens\n",
    "vocab.lookup_token(100), vocab.lookup_indices(['good'])"
   ]
  },
  {
   "cell_type": "code",
   "execution_count": 12,
   "metadata": {},
   "outputs": [
    {
     "data": {
      "text/plain": [
       "[33, 178, 46, 893, -1, 1, 38614]"
      ]
     },
     "execution_count": 12,
     "metadata": {},
     "output_type": "execute_result"
    }
   ],
   "source": [
    "test = 'And this is another Beispiel in Deutsch'\n",
    "encoded = vocab.lookup_indices(tokenizer(test))\n",
    "encoded"
   ]
  },
  {
   "cell_type": "markdown",
   "metadata": {},
   "source": [
    "As you can see, the German word `Beispiel` was not present in the text. Therefore, index -1 was assigned (`oov_token` index). Most interestingly, the term `Deutsch` has been used at least once in the reviews."
   ]
  },
  {
   "cell_type": "code",
   "execution_count": 13,
   "metadata": {},
   "outputs": [
    {
     "data": {
      "text/plain": [
       "-1"
      ]
     },
     "execution_count": 13,
     "metadata": {},
     "output_type": "execute_result"
    }
   ],
   "source": [
    "vocab.get_default_index()"
   ]
  },
  {
   "cell_type": "code",
   "execution_count": 14,
   "metadata": {},
   "outputs": [],
   "source": [
    "# define a function for transformation\n",
    "\n",
    "def encode(value):\n",
    "    return torch.tensor(vocab.lookup_indices(tokenizer(value)))"
   ]
  },
  {
   "cell_type": "markdown",
   "metadata": {
    "slideshow": {
     "slide_type": "skip"
    }
   },
   "source": [
    "#### Data Representation"
   ]
  },
  {
   "cell_type": "code",
   "execution_count": 15,
   "metadata": {
    "slideshow": {
     "slide_type": "skip"
    }
   },
   "outputs": [
    {
     "name": "stdout",
     "output_type": "stream",
     "text": [
      "Sequence length: 273\n",
      "Sequence length: 278\n",
      "Sequence length: 340\n",
      "Sequence length: 83\n",
      "Sequence length: 130\n"
     ]
    },
    {
     "data": {
      "text/plain": [
       "tensor([150, 430, 431,   4, 267,   3, 432, 202, 130, 395, 150, 433,   4, 103,\n",
       "        308,  16,  47, 434, 435,  21, 436, 437,   4, 334, 438, 196,  13,   4,\n",
       "        105, 439,  21, 110, 440,   4, 441, 331, 149, 442,   3,   4, 443, 444,\n",
       "         16,   4, 422, 445, 218,   4, 446,  21, 222,  16,   4, 422, 447, 287,\n",
       "        448, 209,  33, 449,  21,   4, 414,  92,  93, 450, 420, 451,   4, 443,\n",
       "        452, 453, 454, 195,  46, 455,  13, 456,  92,  93, 457,  21,   4, 458,\n",
       "        459,  46, 368, 460,  21,   4, 359, 236, 150, 182, 195,  47, 248,   3,\n",
       "         46, 461,  47, 320,  16,   4, 379, 447, 287, 462, 128,  13, 280, 463,\n",
       "        464,   4, 465,  92,  93, 344,  13, 466, 436, 467,  16, 468,  33, 469,\n",
       "        218,  16, 195,  21])"
      ]
     },
     "execution_count": 15,
     "metadata": {},
     "output_type": "execute_result"
    }
   ],
   "source": [
    "for i in range(5):\n",
    "    example = encode(values[i])\n",
    "    print('Sequence length:', len(example))\n",
    "    \n",
    "example"
   ]
  },
  {
   "cell_type": "markdown",
   "metadata": {
    "slideshow": {
     "slide_type": "skip"
    }
   },
   "source": [
    "#### Padding\n",
    "* all inputs of a batch have to be of the same length\n",
    "* padding (with zeros) necessary\n",
    "* https://pytorch.org/docs/stable/generated/torch.nn.utils.rnn.pad_sequence.html"
   ]
  },
  {
   "cell_type": "code",
   "execution_count": 16,
   "metadata": {},
   "outputs": [
    {
     "name": "stdout",
     "output_type": "stream",
     "text": [
      "Individual size: 273\n",
      "Individual size: 278\n",
      "Individual size: 340\n",
      "Individual size: 83\n",
      "Individual size: 130\n",
      "Dimension in batch: 340\n",
      "Dimension in batch: 340\n",
      "Dimension in batch: 340\n",
      "Dimension in batch: 340\n",
      "Dimension in batch: 340\n"
     ]
    }
   ],
   "source": [
    "## Take a small subset for demonstration\n",
    "for i in range(5):\n",
    "    example = encode(values[i])\n",
    "    print('Individual size:', len(example))\n",
    "\n",
    "## batching some example value\n",
    "eaxmple_batch = torch.nn.utils.rnn.pad_sequence([encode(values[i]) for i in range(5)], batch_first=True)\n",
    "\n",
    "for batch in eaxmple_batch:\n",
    "    print('Dimension in batch:', batch.shape[0])"
   ]
  },
  {
   "cell_type": "code",
   "execution_count": 17,
   "metadata": {},
   "outputs": [
    {
     "data": {
      "text/plain": [
       "tensor([148,  21,  21,  21, 149,  21,  21,  21, 150, 151, 152, 153, 154,  33,\n",
       "         67, 155, 156, 157, 158,  16, 159,   1,  67, 160,  21, 161,  52, 162,\n",
       "        163,  66,  67, 164, 165, 166, 167, 168,  33, 169, 170, 171,  47, 172,\n",
       "        173,  21,  82,   3, 174,  46,  67, 175,  21, 176, 177,   3, 178,  28,\n",
       "         47, 179, 103, 180, 150, 181, 182, 183,  13,   4, 184,  33,  33,   4,\n",
       "        185,   3, 186, 153,   3,  55, 187, 119, 188,  13, 189, 190, 191, 178,\n",
       "        192,   3, 193, 105, 180, 194,  16, 195, 196, 190,  33, 153, 197, 198,\n",
       "         92, 199, 200, 195, 201,  33, 169,  28, 202, 157, 203,   4, 204, 205,\n",
       "        206, 207, 208, 209,  13, 163,  33, 210, 163, 211, 195,  28, 212, 213,\n",
       "        180, 150, 214,  92, 199, 215,  51, 216,  22, 178, 103,  28, 217, 218,\n",
       "         16, 219,  55,   4, 220,   3, 221, 222, 223, 224,  21,  21,  21, 150,\n",
       "         92, 225, 226, 166, 227, 160,  51, 228,  47, 229,  55, 230, 231, 180,\n",
       "        178, 228, 194,   3, 232,   3, 233,   3, 234,   3, 235,  16, 236,  21,\n",
       "         21,  21,  47, 237, 238,  16, 101, 239,   3, 240,  33, 241, 180, 150,\n",
       "        242, 178, 243,  16, 244,  55,  47, 245,   3,  33, 150, 246, 142,  99,\n",
       "        247, 180, 150, 246, 142, 248, 249, 247, 150, 250,  22, 178, 251, 252,\n",
       "        238,  16, 142, 253, 180, 214,  92, 199, 254, 178, 103,   3, 221, 238,\n",
       "        255, 256,  16, 257, 258, 253, 259, 260, 203,  47, 261, 262, 195,  92,\n",
       "         93, 263, 221, 264, 265, 209,   4,  65,  51,  46, 266,   4, 267, 180,\n",
       "        268, 269,   3, 270,  92, 271, 272, 269,  55,   4, 273, 180,   0,   0,\n",
       "          0,   0,   0,   0,   0,   0,   0,   0,   0,   0,   0,   0,   0,   0,\n",
       "          0,   0,   0,   0,   0,   0,   0,   0,   0,   0,   0,   0,   0,   0,\n",
       "          0,   0,   0,   0,   0,   0,   0,   0,   0,   0,   0,   0,   0,   0,\n",
       "          0,   0,   0,   0,   0,   0,   0,   0,   0,   0,   0,   0,   0,   0,\n",
       "          0,   0,   0,   0])"
      ]
     },
     "execution_count": 17,
     "metadata": {},
     "output_type": "execute_result"
    }
   ],
   "source": [
    "eaxmple_batch[1]"
   ]
  },
  {
   "cell_type": "markdown",
   "metadata": {},
   "source": [
    "#### Putting it all together: preprocessing\n",
    "Here, in addition, we allow the sequences to be shortened, leaving only a certain number of characters *at the end* of the sequence. This is convenient for experimentation (and we will get back to that)."
   ]
  },
  {
   "cell_type": "code",
   "execution_count": 18,
   "metadata": {},
   "outputs": [
    {
     "data": {
      "text/plain": [
       "(50000,\n",
       " (tensor([  1,   2,   3,   4,   5,   6,   7,   8,   9,  10,  11,  12,  13,   4,\n",
       "           14,  15,  16,  17,  18,   3,  19,   3,  20,  21,  22,   4,  23,  24,\n",
       "            3,  25,  16,  26,   3,  27,  28,  29,   1,   4,  30,  16,  31,  32,\n",
       "           33,  31,  34,  35,  36,  21,  37,  38,  39,   3,   4,  40,  41,  42,\n",
       "            8,  43,  44,  11,   3,  45,  46,  47,  48,  49,  50,  51,  52,  53,\n",
       "            1,  54,  55,  56,   1,  57,  21,  58,  21,  59,  60,  33,  61,  13,\n",
       "           62,   3,  63,  13,  64,   4,  65,  66,  67,  68,  69,  70,   8,  71,\n",
       "           72,  11,  66,   4,  73,  16,  74,  47,  75,  21,   4,  76,  77,  33,\n",
       "           78,  79,  80,  81,   3,  82,  66,   4,  83,  16,   4,  84,  50,  85,\n",
       "           86,   8,  87,  88,  11,  51,  28,   1,  89,  16,   4,  90,   1,   4,\n",
       "           91,  92,  93,   3,  94,  95,   4,  96,  33,  47,  97,  16,  98,  33,\n",
       "           99,  13, 100,   4,  34,  21,  34,   1,  19,  46,  47, 101, 102, 103,\n",
       "            3,  66,   4, 104, 105,  16,  47,  34,  16,  47, 106,  38, 107, 108,\n",
       "           51,  28, 109, 110,  47, 111,   5, 112, 113,  28,  47, 114,  21,   4,\n",
       "          115,  33, 116, 117, 118, 119, 120,  13, 100,   4,  34,  55, 121, 122,\n",
       "          123,  38,  21, 124,   3,  47, 125,  50,  33, 126, 127,   1,  54,  28,\n",
       "          128,  13, 129, 130,   4, 131, 132,  28, 109,  21,   4, 133, 134,   4,\n",
       "           90,  16,  41,  33,   4, 135, 136,  16,   6,   1, 137,   3,  82, 138,\n",
       "           46,  47, 139,  16,   4, 140,   1,   4, 141,  21, 142, 143,  46, 144,\n",
       "           21, 145,   8, 146,  11,  79, 147]),\n",
       "  tensor(1.)))"
      ]
     },
     "execution_count": 18,
     "metadata": {},
     "output_type": "execute_result"
    }
   ],
   "source": [
    "class ReviewDataset(Dataset):\n",
    "    def __init__(self, target, values, max_seq_length=None):\n",
    "        self.max_seq_length = max_seq_length\n",
    "        self.target = target\n",
    "        self.values = values\n",
    "        # setup tokenizer\n",
    "        tokenizer_name = 'basic_english' \n",
    "        self.tokenizer = get_tokenizer(tokenizer_name)\n",
    "        # setup vocab\n",
    "        counter_obj = collections.Counter()\n",
    "        for v in values:\n",
    "            tokens = self.tokenizer(v)\n",
    "            if self.max_seq_length is not None:\n",
    "                # use allowed number of tokens at the end\n",
    "                tokens = tokens[-self.max_seq_length:]\n",
    "            counter_obj.update(tokens)\n",
    "        self.vocab = torchtext.vocab.vocab(counter_obj, min_freq=1, specials=['<unk>'])\n",
    "        # set a default index for out of vocabulary tokens\n",
    "        self.vocab.set_default_index(-1)\n",
    "        \n",
    "    def __encode(self, value):\n",
    "        tokens = self.tokenizer(value)\n",
    "        if self.max_seq_length is not None:\n",
    "            tokens = tokens[-self.max_seq_length:]\n",
    "        return torch.tensor(self.vocab.lookup_indices(tokens))\n",
    "    \n",
    "    def __len__(self):\n",
    "        return len(self.target)\n",
    "    \n",
    "    def __getitem__(self, idx):\n",
    "        return self.__encode(self.values[idx]), torch.tensor(target[idx]).float()\n",
    "    \n",
    "dataset = ReviewDataset(target=target, values=values)\n",
    "len(dataset), dataset[0]"
   ]
  },
  {
   "cell_type": "code",
   "execution_count": 19,
   "metadata": {},
   "outputs": [
    {
     "name": "stdout",
     "output_type": "stream",
     "text": [
      "Len train set: 30000\n",
      "Len val set: 5000\n",
      "Len test set: 15000\n"
     ]
    }
   ],
   "source": [
    "# setup train test split\n",
    "train_set, val_set, test_set = torch.utils.data.random_split(dataset, [30000, 5000, 15000])\n",
    "print(f'Len train set: {len(train_set)}')\n",
    "print(f'Len val set: {len(val_set)}')\n",
    "print(f'Len test set: {len(test_set)}')"
   ]
  },
  {
   "cell_type": "code",
   "execution_count": 20,
   "metadata": {},
   "outputs": [],
   "source": [
    "# setup data loader\n",
    "def batch_and_pad(data):\n",
    "    values = [d[0] for d in data]\n",
    "    labels = [d[1].unsqueeze(0) for d in data]\n",
    "    return torch.nn.utils.rnn.pad_sequence(values, batch_first=True), torch.stack(labels)\n",
    "    \n",
    "train_loader = DataLoader(train_set, batch_size=32, collate_fn=batch_and_pad)\n",
    "val_loader = DataLoader(val_set, batch_size=32, collate_fn=batch_and_pad)\n",
    "test_loader = DataLoader(test_set, batch_size=32, collate_fn=batch_and_pad)"
   ]
  },
  {
   "cell_type": "markdown",
   "metadata": {
    "slideshow": {
     "slide_type": "slide"
    }
   },
   "source": [
    "### Building the RNN-model\n",
    "---\n",
    "#### Embedding layers for sentence encoding\n",
    "+ One-hot encoding $\\rightarrow$ curse of dimensionality\n",
    "+ better approach:\n",
    "  * *projection* of each word onto $d$-dimensional space\n",
    "  * real values instead of integers\n",
    "+ *similar words* are closer together $\\rightarrow$ *semantic coding*\n",
    "+ ***learnable***!\n",
    "+ used as *input layer* \n",
    "\n",
    "\n",
    " * `input_dim`: number of words + 1 (see image below)\n",
    " * `output_dim`: vector length (learned features)\n",
    " * `input_length`: length of (padded) sequence\n",
    "    * e.g., `'This is an example' -> [0, 0, 0, 0, 0, 0, 3, 1, 8, 9]`   \n",
    "   $\\rightarrow$ input_length is 10\n",
    "   \n",
    "\n",
    "<img src=\"./img/16_10.png\" width=700/>"
   ]
  },
  {
   "cell_type": "code",
   "execution_count": 21,
   "metadata": {
    "slideshow": {
     "slide_type": "skip"
    }
   },
   "outputs": [
    {
     "data": {
      "text/plain": [
       "Embedding(20, 6, padding_idx=0)"
      ]
     },
     "execution_count": 21,
     "metadata": {},
     "output_type": "execute_result"
    }
   ],
   "source": [
    "# for demonstration\n",
    "embedding = nn.Embedding(num_embeddings=20, embedding_dim=6, padding_idx=0)\n",
    "embedding"
   ]
  },
  {
   "cell_type": "markdown",
   "metadata": {},
   "source": [
    "### Visualization of embeddings\n",
    "* It is possible to visualize the embedding by reducing the dimensionality to 3 or 2 dimensions, which can then be analyzed visually. [Here](https://shairozsohail.medium.com/exploring-deep-embeddings-fa677f0e7c90) is an example where this was done with tensorboard and image data, and [here](https://towardsdatascience.com/how-to-visualize-text-embeddings-with-tensorboard-47e07e3a12fb) you can find one for text data with tensorflow."
   ]
  },
  {
   "cell_type": "markdown",
   "metadata": {
    "slideshow": {
     "slide_type": "slide"
    }
   },
   "source": [
    "### General RNN structure using PyTorch\n",
    "\n",
    "* **Pytorch RNN layers:**\n",
    "  * `torch.nn.RNN(input_size, hidden_size, num_layers, bidirectional=False)`\n",
    "  * `torch.nn.LSTM(..)`\n",
    "  * `torch.nn.GRU(..)`"
   ]
  },
  {
   "cell_type": "markdown",
   "metadata": {
    "slideshow": {
     "slide_type": "skip"
    }
   },
   "source": [
    "### RNN for sentiment analysis\n",
    "\n",
    "#### Putting it all together: Building a model for sentiment analysis\n",
    "Here, we allow the choice of different RNN architectures simply by passing the appropriate parameters. In doing so, we also allow a multi-layer structure as well as bidirectionality. This together with convenient preprocessing (see above) makes experimentation easy."
   ]
  },
  {
   "cell_type": "code",
   "execution_count": 22,
   "metadata": {
    "slideshow": {
     "slide_type": "skip"
    }
   },
   "outputs": [],
   "source": [
    "embedding_dim = 20\n",
    "# add one for the padding value\n",
    "vocab_size = len(dataset.vocab)\n",
    "NUM_EPOCHS = 5"
   ]
  },
  {
   "cell_type": "code",
   "execution_count": 23,
   "metadata": {
    "slideshow": {
     "slide_type": "skip"
    }
   },
   "outputs": [
    {
     "data": {
      "text/plain": [
       "RNNModel(\n",
       "  (embedding): Embedding(147157, 20, padding_idx=0)\n",
       "  (rnn): RNN(20, 10, batch_first=True)\n",
       "  (fc1): Linear(in_features=10, out_features=64, bias=True)\n",
       "  (relu): ReLU()\n",
       "  (fc2): Linear(in_features=64, out_features=1, bias=True)\n",
       "  (sigmoid): Sigmoid()\n",
       ")"
      ]
     },
     "execution_count": 23,
     "metadata": {},
     "output_type": "execute_result"
    }
   ],
   "source": [
    "## build the model\n",
    "\n",
    "class RNNModel(nn.Module):\n",
    "    def __init__(self, vocab_size, embedding_dim, hidden_units, recurrent_type='RNN', bidirectional=False, n_recurrent_layers=1):\n",
    "        super(RNNModel, self).__init__()\n",
    "        self.embedding = nn.Embedding(num_embeddings=vocab_size, embedding_dim=embedding_dim, padding_idx=0)\n",
    "        if recurrent_type == 'RNN':\n",
    "            self.rnn = nn.RNN(embedding_dim, hidden_units, batch_first=True, bidirectional=bidirectional, num_layers=n_recurrent_layers)\n",
    "        elif recurrent_type == 'LSTM':\n",
    "            self.rnn = nn.LSTM(embedding_dim, hidden_units, batch_first=True, bidirectional=bidirectional, num_layers=n_recurrent_layers)\n",
    "        elif recurrent_type == 'GRU':\n",
    "            self.rnn = nn.GRU(embedding_dim, hidden_units, batch_first=True, bidirectional=bidirectional, num_layers=n_recurrent_layers)\n",
    "        self.fc1 = nn.Linear(hidden_units * 2 if bidirectional else hidden_units, 64)\n",
    "        self.relu = nn.ReLU()\n",
    "        self.fc2 = nn.Linear(64, 1)\n",
    "        self.sigmoid = nn.Sigmoid()\n",
    "        self.num_directions = 2 if bidirectional else 1\n",
    "        self.hidden_units = hidden_units\n",
    "        self.recurrent_type = recurrent_type\n",
    "\n",
    "    def forward(self, x):\n",
    "        batch_size, seq_len = x.shape\n",
    "        embedded = self.embedding(x)\n",
    "        #lstm also returns the cell hidden state\n",
    "        if self.recurrent_type == \"LSTM\":\n",
    "            output, (hidden, cell_hidden) = self.rnn(embedded)\n",
    "        else:\n",
    "            output, hidden = self.rnn(embedded)\n",
    "        # Concatenate the final hidden states from both directions if bidirectional\n",
    "        if self.rnn.bidirectional:\n",
    "            hidden = torch.cat((hidden[-2,:,:], hidden[-1,:,:]), dim=1)\n",
    "        else:\n",
    "            hidden = hidden[-1,:,:]\n",
    "        x = self.fc1(hidden)\n",
    "        x = self.relu(x)\n",
    "        x = self.fc2(x)\n",
    "        output = self.sigmoid(x)\n",
    "        return output\n",
    "\n",
    "model = RNNModel(vocab_size, embedding_dim, 10, recurrent_type='RNN', n_recurrent_layers=1)\n",
    "model"
   ]
  },
  {
   "cell_type": "code",
   "execution_count": 24,
   "metadata": {},
   "outputs": [
    {
     "name": "stdout",
     "output_type": "stream",
     "text": [
      "Using cuda for training\n"
     ]
    }
   ],
   "source": [
    "device = torch.device(\"cuda\" if torch.cuda.is_available() and not USE_ONLY_CPU else \"cpu\")\n",
    "print(f'Using {device} for training')"
   ]
  },
  {
   "cell_type": "markdown",
   "metadata": {},
   "source": [
    "#### First try: SimpleRNN"
   ]
  },
  {
   "cell_type": "code",
   "execution_count": 25,
   "metadata": {},
   "outputs": [
    {
     "data": {
      "text/plain": [
       "RNNModel(\n",
       "  (embedding): Embedding(147157, 20, padding_idx=0)\n",
       "  (rnn): RNN(20, 128, batch_first=True, bidirectional=True)\n",
       "  (fc1): Linear(in_features=256, out_features=64, bias=True)\n",
       "  (relu): ReLU()\n",
       "  (fc2): Linear(in_features=64, out_features=1, bias=True)\n",
       "  (sigmoid): Sigmoid()\n",
       ")"
      ]
     },
     "execution_count": 25,
     "metadata": {},
     "output_type": "execute_result"
    }
   ],
   "source": [
    "rnn_type = 'RNN'\n",
    "\n",
    "model = RNNModel(vocab_size, embedding_dim, 128, recurrent_type=rnn_type, n_recurrent_layers=1, bidirectional=True)\n",
    "model"
   ]
  },
  {
   "cell_type": "code",
   "execution_count": 26,
   "metadata": {},
   "outputs": [
    {
     "name": "stdout",
     "output_type": "stream",
     "text": [
      "RNN training started: 2024-01-28 23:17:06.809786\n"
     ]
    },
    {
     "data": {
      "application/vnd.jupyter.widget-view+json": {
       "model_id": "48fcf357836d4615a95160fd53ac5cd7",
       "version_major": 2,
       "version_minor": 0
      },
      "text/plain": [
       "  0%|          | 0/5 [00:00<?, ?it/s]"
      ]
     },
     "metadata": {},
     "output_type": "display_data"
    },
    {
     "name": "stdout",
     "output_type": "stream",
     "text": [
      "RNN training finished 2024-01-28 23:18:03.729507 (duration: 0:00:56.919721)\n"
     ]
    }
   ],
   "source": [
    "# Move the model weight to the desired device\n",
    "model.to(device)\n",
    "\n",
    "# Define the loss function\n",
    "criterion = nn.BCELoss()\n",
    "\n",
    "# Define the optimizer\n",
    "optimizer = torch.optim.Adam(model.parameters())\n",
    "\n",
    "start_train = dt.datetime.now()\n",
    "print(f'{rnn_type} training started: {start_train}')\n",
    "# run training\n",
    "history = train_for_epochs(device, NUM_EPOCHS, model, train_loader, val_loader, optimizer, criterion, binary=True)\n",
    "finish_train = dt.datetime.now()\n",
    "print(f'{rnn_type} training finished {finish_train} (duration: {finish_train - start_train})')"
   ]
  },
  {
   "cell_type": "code",
   "execution_count": 27,
   "metadata": {},
   "outputs": [
    {
     "name": "stdout",
     "output_type": "stream",
     "text": [
      "\n",
      "Test Acc. 50.27%\n"
     ]
    }
   ],
   "source": [
    "## evaluate on the test data\n",
    "test_loss, test_accuracy = validate(device, model, test_loader, criterion)\n",
    "print(f'\\nTest Acc. {test_accuracy:.2f}%')"
   ]
  },
  {
   "cell_type": "code",
   "execution_count": 28,
   "metadata": {},
   "outputs": [
    {
     "data": {
      "image/png": "[encoded data removed]",
      "text/plain": [
       "<Figure size 1200x400 with 2 Axes>"
      ]
     },
     "metadata": {},
     "output_type": "display_data"
    }
   ],
   "source": [
    "loss_train_hist = history['train']['loss']\n",
    "acc_train_hist = history['train']['accuracy']\n",
    "loss_val_hist = history['val']['loss']\n",
    "acc_val_hist = history['val']['accuracy']\n",
    "\n",
    "plot_history(loss_train_hist, acc_train_hist, loss_val_hist, acc_val_hist)\n",
    "\n",
    "plt.show()"
   ]
  },
  {
   "cell_type": "markdown",
   "metadata": {},
   "source": [
    "Ok, this looks really bad! Hardly any progress after 5 epochs (and very erratic), so it seems, that `RNN` is not up to the task. Let us, therefore, try the more sophisticated LSTM."
   ]
  },
  {
   "cell_type": "markdown",
   "metadata": {},
   "source": [
    "#### Training the bidirectional LSTM"
   ]
  },
  {
   "cell_type": "code",
   "execution_count": 29,
   "metadata": {},
   "outputs": [
    {
     "data": {
      "text/plain": [
       "RNNModel(\n",
       "  (embedding): Embedding(147157, 20, padding_idx=0)\n",
       "  (rnn): LSTM(20, 64, batch_first=True, bidirectional=True)\n",
       "  (fc1): Linear(in_features=128, out_features=64, bias=True)\n",
       "  (relu): ReLU()\n",
       "  (fc2): Linear(in_features=64, out_features=1, bias=True)\n",
       "  (sigmoid): Sigmoid()\n",
       ")"
      ]
     },
     "execution_count": 29,
     "metadata": {},
     "output_type": "execute_result"
    }
   ],
   "source": [
    "rnn_type = 'LSTM'\n",
    "model = RNNModel(vocab_size, embedding_dim, 64, recurrent_type=rnn_type, n_recurrent_layers=1, bidirectional=True)\n",
    "model"
   ]
  },
  {
   "cell_type": "code",
   "execution_count": 30,
   "metadata": {
    "slideshow": {
     "slide_type": "skip"
    }
   },
   "outputs": [
    {
     "name": "stdout",
     "output_type": "stream",
     "text": [
      "LSTM training started: 2024-01-28 23:18:08.043141\n"
     ]
    },
    {
     "data": {
      "application/vnd.jupyter.widget-view+json": {
       "model_id": "42fd2d1ae53c4098941eabe3706482b8",
       "version_major": 2,
       "version_minor": 0
      },
      "text/plain": [
       "  0%|          | 0/5 [00:00<?, ?it/s]"
      ]
     },
     "metadata": {},
     "output_type": "display_data"
    },
    {
     "name": "stdout",
     "output_type": "stream",
     "text": [
      "LSTM training finished 2024-01-28 23:19:10.552577 (duration: 0:01:02.509436)\n"
     ]
    }
   ],
   "source": [
    "# Move the model weight to the desired device\n",
    "model.to(device)\n",
    "\n",
    "# Define the loss function\n",
    "criterion = nn.BCELoss()\n",
    "\n",
    "# Define the optimizer\n",
    "optimizer = torch.optim.Adam(model.parameters())\n",
    "\n",
    "start_train = dt.datetime.now()\n",
    "print(f'{rnn_type} training started: {start_train}')\n",
    "# run training\n",
    "history = train_for_epochs(device, NUM_EPOCHS, model, train_loader, val_loader, optimizer, criterion, binary=True)\n",
    "finish_train = dt.datetime.now()\n",
    "print(f'{rnn_type} training finished {finish_train} (duration: {finish_train - start_train})')"
   ]
  },
  {
   "cell_type": "code",
   "execution_count": 31,
   "metadata": {
    "slideshow": {
     "slide_type": "subslide"
    }
   },
   "outputs": [
    {
     "name": "stdout",
     "output_type": "stream",
     "text": [
      "\n",
      "Test Acc. 77.61%\n"
     ]
    }
   ],
   "source": [
    "## evaluate on the test data\n",
    "test_loss, test_accuracy = validate(device, model, test_loader, criterion)\n",
    "print(f'\\nTest Acc. {test_accuracy:.2f}%')"
   ]
  },
  {
   "cell_type": "code",
   "execution_count": 32,
   "metadata": {},
   "outputs": [
    {
     "data": {
      "image/png": "[encoded data removed]",
      "text/plain": [
       "<Figure size 1200x400 with 2 Axes>"
      ]
     },
     "metadata": {},
     "output_type": "display_data"
    }
   ],
   "source": [
    "loss_train_hist = history['train']['loss']\n",
    "acc_train_hist = history['train']['accuracy']\n",
    "loss_val_hist = history['val']['loss']\n",
    "acc_val_hist = history['val']['accuracy']\n",
    "\n",
    "plot_history(loss_train_hist, acc_train_hist, loss_val_hist, acc_val_hist)\n",
    "\n",
    "plt.show()"
   ]
  },
  {
   "cell_type": "markdown",
   "metadata": {
    "slideshow": {
     "slide_type": "subslide"
    }
   },
   "source": [
    "Well, that is quite astounding, especially when you look at the validation accuracy after only a few epochs! So, the LSTM is much better for the task than SimpleRNN! Let us also keep this good model!"
   ]
  },
  {
   "cell_type": "code",
   "execution_count": 33,
   "metadata": {},
   "outputs": [],
   "source": [
    "# if needed: save model\n",
    "if not os.path.exists('models'):\n",
    "    os.mkdir('models')\n",
    "\n",
    "torch.save(model, f'models/Bidir-{rnn_type}-full-length-seq.pt')"
   ]
  },
  {
   "cell_type": "markdown",
   "metadata": {},
   "source": [
    "### Simple RNN with Short Sequences"
   ]
  },
  {
   "cell_type": "markdown",
   "metadata": {},
   "source": [
    "After discussing with a group of film lovers ($\\equiv$ *domain experts*) we have a different idea: what if we gave `SimpleRNN` another shot with shorter sequences. The reasoning behind this approach is that in order to find the *sentiment* of a review, mostly the later part of what is written is the relevant one, since that is when people draw their conclusion respectively give their recommendation.\n",
    "\n",
    "So, we have a different hyperparameter we need to decide on, namely `max_seq_length` in the dataset we defined above. Let us go for 40.\n",
    "\n",
    "**Question**: What happened here if you bring it into context with CRISP-DM?"
   ]
  },
  {
   "cell_type": "code",
   "execution_count": 34,
   "metadata": {},
   "outputs": [
    {
     "data": {
      "text/plain": [
       "RNNModel(\n",
       "  (embedding): Embedding(52679, 20, padding_idx=0)\n",
       "  (rnn): RNN(20, 64, batch_first=True, bidirectional=True)\n",
       "  (fc1): Linear(in_features=128, out_features=64, bias=True)\n",
       "  (relu): ReLU()\n",
       "  (fc2): Linear(in_features=64, out_features=1, bias=True)\n",
       "  (sigmoid): Sigmoid()\n",
       ")"
      ]
     },
     "execution_count": 34,
     "metadata": {},
     "output_type": "execute_result"
    }
   ],
   "source": [
    "rnn_type = 'RNN'\n",
    "batch_size = 32\n",
    "embedding_dim = 20\n",
    "max_seq_length = 40\n",
    "\n",
    "# now we need to preprocess the data once more\n",
    "dataset = ReviewDataset(target=target, values=values, max_seq_length=max_seq_length)\n",
    "# setup train test split\n",
    "train_set, val_set, test_set = torch.utils.data.random_split(dataset, [30000, 5000, 15000])\n",
    "\n",
    "train_loader = DataLoader(train_set, batch_size=32, collate_fn=batch_and_pad)\n",
    "val_loader = DataLoader(val_set, batch_size=32, collate_fn=batch_and_pad)\n",
    "test_loader = DataLoader(test_set, batch_size=32, collate_fn=batch_and_pad)\n",
    "\n",
    "vocab_size = len(dataset.vocab)\n",
    "\n",
    "model = RNNModel(vocab_size, embedding_dim, 64, recurrent_type=rnn_type, n_recurrent_layers=1, bidirectional=True)\n",
    "model"
   ]
  },
  {
   "cell_type": "code",
   "execution_count": 35,
   "metadata": {},
   "outputs": [
    {
     "name": "stdout",
     "output_type": "stream",
     "text": [
      "SimpleRNN training (short sequences) started: 2024-01-28 23:19:20.125468\n"
     ]
    },
    {
     "data": {
      "application/vnd.jupyter.widget-view+json": {
       "model_id": "f5f3d105092e49f68e54495210fc098c",
       "version_major": 2,
       "version_minor": 0
      },
      "text/plain": [
       "  0%|          | 0/5 [00:00<?, ?it/s]"
      ]
     },
     "metadata": {},
     "output_type": "display_data"
    },
    {
     "name": "stdout",
     "output_type": "stream",
     "text": [
      "SimpleRNN training (short sequences) finished 2024-01-28 23:19:52.725576 (duration: 0:00:32.600108)\n"
     ]
    }
   ],
   "source": [
    "# Move the model weight to the desired device\n",
    "model.to(device)\n",
    "\n",
    "# Define the loss function\n",
    "criterion = nn.BCELoss()\n",
    "\n",
    "# Define the optimizer\n",
    "optimizer = torch.optim.Adam(model.parameters())\n",
    "\n",
    "start_train = dt.datetime.now()\n",
    "print(f'SimpleRNN training (short sequences) started: {start_train}')\n",
    "# run training\n",
    "history = train_for_epochs(device, NUM_EPOCHS, model, train_loader, val_loader, optimizer, criterion, binary=True)\n",
    "finish_train = dt.datetime.now()\n",
    "print(f'SimpleRNN training (short sequences) finished {finish_train} (duration: {finish_train - start_train})')"
   ]
  },
  {
   "cell_type": "code",
   "execution_count": 36,
   "metadata": {},
   "outputs": [
    {
     "data": {
      "image/png": "[encoded data removed]",
      "text/plain": [
       "<Figure size 1200x400 with 2 Axes>"
      ]
     },
     "metadata": {},
     "output_type": "display_data"
    }
   ],
   "source": [
    "loss_train_hist = history['train']['loss']\n",
    "acc_train_hist = history['train']['accuracy']\n",
    "loss_val_hist = history['val']['loss']\n",
    "acc_val_hist = history['val']['accuracy']\n",
    "\n",
    "x_arr = np.arange(len(loss_train_hist)) + 1\n",
    "\n",
    "plot_history(loss_train_hist, acc_train_hist, loss_val_hist, acc_val_hist)\n",
    "\n",
    "plt.show()"
   ]
  },
  {
   "cell_type": "code",
   "execution_count": 37,
   "metadata": {},
   "outputs": [
    {
     "name": "stdout",
     "output_type": "stream",
     "text": [
      "\n",
      "Test Acc. 75.43%\n"
     ]
    }
   ],
   "source": [
    "## evaluate on the test data\n",
    "test_loss, test_accuracy = validate(device, model, test_loader, criterion)\n",
    "print(f'\\nTest Acc. {test_accuracy:.2f}%')"
   ]
  },
  {
   "cell_type": "markdown",
   "metadata": {},
   "source": [
    "So, it looks like a bit of feature engineering can sometimes be a good way of moving forward. While we still do not quite get the result of the sophisticated network, we were definitely able to make good progress even with an older approach. The training time is almost exactly the same and it even seems that we have found a promising model, since the validation accuracy is around 75%, as is the training accuracy, indicating a model which does not overfit and generalizes well enough (although, from looking at the training history, it looks like we are runnning into overfitting).\n",
    "\n",
    "Maybe it would be a good idea to combine this feature engineering with the more sophisticated model ... Why not try this out yourself?"
   ]
  },
  {
   "cell_type": "markdown",
   "metadata": {},
   "source": [
    "After seeing RNNs in action once, let us look at another fun example: [character-level training](3.3.b_RNN_3_TLM.ipynb)"
   ]
  },
  {
   "cell_type": "code",
   "execution_count": null,
   "metadata": {},
   "outputs": [],
   "source": []
  }
 ],
 "metadata": {
  "kernelspec": {
   "display_name": "Python 3 (ipykernel)",
   "language": "python",
   "name": "python3"
  },
  "language_info": {
   "codemirror_mode": {
    "name": "ipython",
    "version": 3
   },
   "file_extension": ".py",
   "mimetype": "text/x-python",
   "name": "python",
   "nbconvert_exporter": "python",
   "pygments_lexer": "ipython3",
   "version": "3.11.7"
  }
 },
 "nbformat": 4,
 "nbformat_minor": 4
}
