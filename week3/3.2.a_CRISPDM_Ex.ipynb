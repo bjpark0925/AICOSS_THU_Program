{
 "cells": [
  {
   "cell_type": "markdown",
   "metadata": {},
   "source": [
    "![Banner](img/AI_Special_Program_Banner.jpg)\n",
    "\n",
    "# CRISP-DM - Exercise\n",
    "---\n",
    "Instructions are given in <span style=\"color:blue\">blue</span> color."
   ]
  },
  {
   "cell_type": "markdown",
   "metadata": {},
   "source": [
    "## Overview\n",
    "- [General Task: Structure Data Science Projects according to the CRISP-DM Phases](#General-Task:-Structure-Data-Science-Projects-according-to-the-CRISP-DM-Phases)\n",
    "  - [Task 1: Re-Structure Exercise 3.1.a from Week 3](#Task-1:-Re-Structure-Exercise-3.1.a-from-Week-3)\n",
    "  - [Task 1: Re-Structure Exercise 2.1.b from Week 2](#Task-1:-Re-Structure-Exercise-2.1.b-from-Week-2)\n",
    "  - [Task 1: Re-Structure Exercise 1.4.b from Week 1](#Task-1:-Re-Structure-Exercise-1.4.b-from-Week-1)"
   ]
  },
  {
   "cell_type": "markdown",
   "metadata": {
    "id": "q-NGtyNPtKWS"
   },
   "source": [
    "---"
   ]
  },
  {
   "cell_type": "markdown",
   "metadata": {},
   "source": [
    "## General Task: Structure Data Science Projects according to the CRISP-DM Phases\n",
    "In this exercise, you do not really have to implement anything, but rather you should gain a better understanding of the CRISP-DM process model by revisiting the solutions to exercises you already completed in this class an re-structure those by inserting the headlines of the apropriate CRISP-DM phases at the right points. Also, maybe write some introductory sentences \n",
    "\n",
    "**Hints**: \n",
    "* Also be aware of the *iterative nature* of CRISP-DM. The consequence of this is that certain phases might *repeat* when you look at a the project in chronological order (or *in sequence*). In that case, use numbering to separate the instances of the phases.\n",
    "* In some cases, you might find certain phases (even most of them) missing. Be sure to at least present ideas as to what *could happen* in those phases in the particular context."
   ]
  },
  {
   "cell_type": "markdown",
   "metadata": {},
   "source": [
    "### Task 1: Re-Structure Exercise 3.1.a from Week 3\n",
    "<span style=\"color:blue\">\n",
    "    You can start from the <a href=\"3.1.a_DNN_Ex_CRISPDM.ipynb\">sample solution</a> and insert the headlines there. <br>\n",
    "</span>"
   ]
  },
  {
   "cell_type": "markdown",
   "metadata": {},
   "source": [
    "### Task 1: Re-Structure Exercise 2.1.b from Week 2\n",
    "<span style=\"color:blue\">\n",
    "    You can start from the <a href=\"2.1.b_Clustering_Ex_CRISPDM.ipynb\">sample solution</a> and insert the headlines there. <br>\n",
    "</span>"
   ]
  },
  {
   "cell_type": "markdown",
   "metadata": {},
   "source": [
    "### Task 1: Re-Structure Exercise 1.4.b from Week 1\n",
    "<span style=\"color:blue\">\n",
    "    You can start from the <a href=\"1.4.b_Visualization_1_Ex_CRISPDM.ipynb\">sample solution</a> and insert the headlines there. <br>\n",
    "</span>"
   ]
  },
  {
   "cell_type": "code",
   "execution_count": null,
   "metadata": {},
   "outputs": [],
   "source": []
  }
 ],
 "metadata": {
  "colab": {
   "provenance": [
    {
     "file_id": "https://github.com/pytorch/tutorials/blob/gh-pages/_downloads/af0caf6d7af0dda755f4c9d7af9ccc2c/quickstart_tutorial.ipynb",
     "timestamp": 1704207890306
    }
   ]
  },
  "kernelspec": {
   "display_name": "Python 3 (ipykernel)",
   "language": "python",
   "name": "python3"
  },
  "language_info": {
   "codemirror_mode": {
    "name": "ipython",
    "version": 3
   },
   "file_extension": ".py",
   "mimetype": "text/x-python",
   "name": "python",
   "nbconvert_exporter": "python",
   "pygments_lexer": "ipython3",
   "version": "3.11.6"
  }
 },
 "nbformat": 4,
 "nbformat_minor": 4
}
