{
 "cells": [
  {
   "cell_type": "markdown",
   "metadata": {},
   "source": [
    "![Banner](img/AI_Special_Program_Banner.jpg)\n",
    "\n",
    "# Deep Neural Networks - Material \n",
    "---"
   ]
  },
  {
   "cell_type": "markdown",
   "metadata": {},
   "source": [
    "## Overview\n",
    "- [Working with data](#Working-with-data)\n",
    "- [Creating Models](#Creating-Models)\n",
    "  - [Using the appropriate device](#Using-the-appropriate-device)\n",
    "- [Optimizing the Model Parameters aka Training](#Optimizing-the-Model-Parameters-aka-Training)\n",
    "  - [Training loop](#Training-loop)\n",
    "  - [Validation aka Testing](#Validation-aka-Testing)\n",
    "  - [Training process](#Training-process)\n",
    "  - [Model quality](#Model-quality)\n",
    "- [Saving & Loading Models](#Saving-&-Loading-Models)\n",
    "- [Applying the model aka Inference](#Applying-the-model-aka-Inference)\n",
    "  - [Visual quality control](#Visual-quality-control)\n",
    "- [Learning Outcomes](#Learning-Outcomes)"
   ]
  },
  {
   "cell_type": "markdown",
   "metadata": {
    "id": "q-NGtyNPtKWS"
   },
   "source": [
    "The material is taken from the series of [basic PyTorch tutorials](https://pytorch.org/tutorials/beginner/basics/intro.html) - it is the [quickstart](https://pytorch.org/tutorials/beginner/basics/quickstart_tutorial.html) with some adaptations and extensions. It is highly recommended to also have a look at the other (short) beginner tutorials. Also, you could follow the links provided herein to dive deeper into some of the topics.\n",
    "\n",
    "---"
   ]
  },
  {
   "cell_type": "markdown",
   "metadata": {
    "id": "q-NGtyNPtKWS"
   },
   "source": [
    "## Working with data\n",
    "PyTorch has two [primitives to work with data](https://pytorch.org/docs/stable/data.html):\n",
    "``torch.utils.data.DataLoader`` and ``torch.utils.data.Dataset``.\n",
    "``Dataset`` stores the samples and their corresponding labels, and ``DataLoader`` wraps an iterable around\n",
    "the ``Dataset``, thus allowing the data to be processed in *batches*."
   ]
  },
  {
   "cell_type": "code",
   "execution_count": 1,
   "metadata": {
    "id": "1DdEOHa2tKWQ"
   },
   "outputs": [],
   "source": [
    "# For tips on running notebooks in Google Colab, see\n",
    "# https://pytorch.org/tutorials/beginner/colab\n",
    "%matplotlib inline"
   ]
  },
  {
   "cell_type": "code",
   "execution_count": 2,
   "metadata": {
    "id": "5QuDlMzytKWT"
   },
   "outputs": [],
   "source": [
    "import numpy as np\n",
    "import matplotlib.pyplot as plt\n",
    "from tqdm.notebook import trange, tqdm\n",
    "\n",
    "import torch\n",
    "from torch import nn\n",
    "from torch.utils.data import DataLoader\n",
    "from torchvision import datasets\n",
    "from torchvision.transforms import ToTensor\n",
    "\n",
    "# for timing\n",
    "import datetime as dt"
   ]
  },
  {
   "cell_type": "code",
   "execution_count": 28,
   "metadata": {},
   "outputs": [
    {
     "data": {
      "text/plain": [
       "<torch._C.Generator at 0x1b9040f9770>"
      ]
     },
     "execution_count": 28,
     "metadata": {},
     "output_type": "execute_result"
    }
   ],
   "source": [
    "torch.manual_seed(0)"
   ]
  },
  {
   "cell_type": "markdown",
   "metadata": {
    "id": "s9jAesy2tKWU"
   },
   "source": [
    "PyTorch offers domain-specific libraries such as [TorchText](https://pytorch.org/text/stable/index.html),\n",
    "[TorchVision](https://pytorch.org/vision/stable/index.html), and [TorchAudio](https://pytorch.org/audio/stable/index.html),\n",
    "all of which include datasets. For this tutorial, we  will be using a TorchVision dataset.\n",
    "\n",
    "The ``torchvision.datasets`` module contains ``Dataset`` objects for many real-world vision data like\n",
    "CIFAR, COCO ([full list here](https://pytorch.org/vision/stable/datasets.html)). Here, we\n",
    "use the MNIST dataset. Every TorchVision ``Dataset`` includes two arguments: ``transform`` and\n",
    "``target_transform`` to modify the samples and labels respectively.\n",
    "\n"
   ]
  },
  {
   "cell_type": "code",
   "execution_count": 31,
   "metadata": {
    "id": "WDOU3d7xtKWU"
   },
   "outputs": [],
   "source": [
    "# Download training data from open datasets.\n",
    "training_data = datasets.MNIST(\n",
    "    root=\"data\",\n",
    "    train=True,\n",
    "    download=True,\n",
    "    transform=ToTensor(),\n",
    ")\n",
    "\n",
    "# Download test data from open datasets.\n",
    "test_data = datasets.MNIST(\n",
    "    root=\"data\",\n",
    "    train=False,\n",
    "    download=True,\n",
    "    transform=ToTensor(),\n",
    ")"
   ]
  },
  {
   "cell_type": "markdown",
   "metadata": {
    "id": "obMcNBm1tKWU"
   },
   "source": [
    "We pass the ``Dataset`` as an argument to ``DataLoader``. This wraps an iterable over our dataset, and supports\n",
    "automatic batching, sampling, shuffling and multiprocess data loading. Here we define a batch size of 64, i.e. each element in the dataloader iterable will return a batch of 64 sets of features (*images* in our case) and labels.\n",
    "\n"
   ]
  },
  {
   "cell_type": "code",
   "execution_count": 32,
   "metadata": {
    "id": "7wXKoLaetKWU"
   },
   "outputs": [
    {
     "name": "stdout",
     "output_type": "stream",
     "text": [
      "Shape of X [N, C, H, W]: torch.Size([64, 1, 28, 28])\n",
      "Shape of y: torch.Size([64]) torch.int64\n"
     ]
    }
   ],
   "source": [
    "BATCH_SIZE = 64\n",
    "\n",
    "# Create data loaders.\n",
    "train_dataloader = DataLoader(training_data, batch_size=BATCH_SIZE)\n",
    "test_dataloader = DataLoader(test_data, batch_size=BATCH_SIZE)\n",
    "\n",
    "for X, y in test_dataloader:\n",
    "    print(f\"Shape of X [N, C, H, W]: {X.shape}\")\n",
    "    print(f\"Shape of y: {y.shape} {y.dtype}\")\n",
    "    break"
   ]
  },
  {
   "cell_type": "markdown",
   "metadata": {
    "id": "_jtk0c7otKWV"
   },
   "source": [
    "Read more about [loading data in PyTorch](https://pytorch.org/tutorials/beginner/basics/data_tutorial.html).\n",
    "\n",
    "\n"
   ]
  },
  {
   "cell_type": "markdown",
   "metadata": {
    "id": "4rwXC9KntKWV"
   },
   "source": [
    "--------------\n",
    "\n",
    "\n"
   ]
  },
  {
   "cell_type": "markdown",
   "metadata": {
    "id": "LhBrOKrKtKWV"
   },
   "source": [
    "## Creating Models\n",
    "To define a neural network in PyTorch, we create a class that inherits\n",
    "from [nn.Module](https://pytorch.org/docs/stable/generated/torch.nn.Module.html). We define the layers of the network\n",
    "in the ``__init__`` function and specify how data will pass through the network in the ``forward`` function. "
   ]
  },
  {
   "cell_type": "code",
   "execution_count": 33,
   "metadata": {
    "id": "9uV2YU7DtKWW"
   },
   "outputs": [],
   "source": [
    "# Define model\n",
    "class NeuralNetwork(nn.Module):\n",
    "    def __init__(self):\n",
    "        super().__init__()\n",
    "        self.flatten = nn.Flatten()\n",
    "        self.linear_relu_stack = nn.Sequential(\n",
    "            nn.Linear(28*28, 512),\n",
    "            nn.ReLU(),\n",
    "            nn.Linear(512, 512),\n",
    "            nn.ReLU(),\n",
    "            nn.Linear(512, 10)\n",
    "        )\n",
    "\n",
    "    def forward(self, x):\n",
    "        x = self.flatten(x)\n",
    "        logits = self.linear_relu_stack(x)\n",
    "        return logits"
   ]
  },
  {
   "cell_type": "markdown",
   "metadata": {
    "id": "RhvqAL6itKWW"
   },
   "source": [
    "Read more about [building neural networks in PyTorch](https://pytorch.org/tutorials/beginner/basics/buildmodel_tutorial.html).\n",
    "\n",
    "As an aside, note that our innocuous little network already has \n",
    "$$ 28\\times28\\times512+512\\times512+512\\times10 = 668672$$\n",
    "weights (disregarding the bias units).\n",
    "\n",
    "For visualizing neural networks, you can find various resources on [GitHub](https://github.com/ashishpatel26/Tools-to-Design-or-Visualize-Architecture-of-Neural-Network). The image below gives a certain idea of what our particular network looks like. However, **only 4%** of the number of nodes in the input layer as well as the hidden layers are shown here. \n",
    "\n",
    "<img src=\"./img/nn_wide.svg\" alt=\"Neural Network\"/>\n",
    "\n",
    "The image was generated using [NNSVG](https://alexlenail.me/NN-SVG/index.html)"
   ]
  },
  {
   "cell_type": "markdown",
   "metadata": {},
   "source": [
    "### Using the appropriate device\n",
    "\n",
    "If possible, we want to use a GPU for training, since this is normally much more efficient than just working with the CPU. Therefore, we test whether a GPU is available and if so, use that for training the network. In order to do so, we must make sure to move the model to the GPU as well."
   ]
  },
  {
   "cell_type": "code",
   "execution_count": 34,
   "metadata": {},
   "outputs": [
    {
     "name": "stdout",
     "output_type": "stream",
     "text": [
      "Using cuda for training the network\n"
     ]
    },
    {
     "data": {
      "text/plain": [
       "NeuralNetwork(\n",
       "  (flatten): Flatten(start_dim=1, end_dim=-1)\n",
       "  (linear_relu_stack): Sequential(\n",
       "    (0): Linear(in_features=784, out_features=512, bias=True)\n",
       "    (1): ReLU()\n",
       "    (2): Linear(in_features=512, out_features=512, bias=True)\n",
       "    (3): ReLU()\n",
       "    (4): Linear(in_features=512, out_features=10, bias=True)\n",
       "  )\n",
       ")"
      ]
     },
     "execution_count": 34,
     "metadata": {},
     "output_type": "execute_result"
    }
   ],
   "source": [
    "USE_GPU = True\n",
    "# Set the device for training\n",
    "device = torch.device(\"cuda\" if torch.cuda.is_available() and USE_GPU else \"cpu\")\n",
    "print(f'Using {device} for training the network')\n",
    "\n",
    "# Move the model weights to the desired device\n",
    "model = NeuralNetwork().to(device)\n",
    "model"
   ]
  },
  {
   "cell_type": "markdown",
   "metadata": {
    "id": "TT24rFrctKWW"
   },
   "source": [
    "--------------\n",
    "\n",
    "\n"
   ]
  },
  {
   "cell_type": "markdown",
   "metadata": {
    "id": "jNL730MMtKWW",
    "tags": []
   },
   "source": [
    "## Optimizing the Model Parameters aka Training"
   ]
  },
  {
   "cell_type": "markdown",
   "metadata": {
    "id": "Y8fs1D-ktKWW"
   },
   "source": [
    "### Helper functions\n",
    "To train the network later, we will implement a few functions to set up the training loop. For further information see [here](https://pytorch.org/tutorials/beginner/introyt/trainingyt.html#the-training-loop):\n",
    "- **train():** <br>\n",
    "    This is where the actual training takes place. This method iterates through the data loader that contains all the training batches. For each batch, a forward pass through the network is performed to obtain the predictions. Calculates the loss based on the predictions and the ground truth. Performs a backward pass to calculate the gradients. Instructs the optimizer to adjust the model weights based on the learning rate and the observed gradients. \n",
    "- **validate():** <br>\n",
    "    This method is similar to the **train()** method except that it does not perform a backward pass and does not update the model weights. It is only used to validate the current model performance based on the validation data set, i.e. data which has not been presented to the model during training.    \n",
    "- **train_for_epochs():** <br>\n",
    "    This helper function implements a loop around the **train()** and **validate()** method to perform training and validation for multiple epochs. It also collects the training history (i.e. the progress) throughout the training process.\n",
    "\n",
    "However, since we will be using this approach frequently and we do not want to clutter all our notebooks with the same code over and over again, we write a little module containing the functions we need and place it in the directory one level above the respective directories containing our notebooks."
   ]
  },
  {
   "cell_type": "markdown",
   "metadata": {},
   "source": [
    "### Training loop\n",
    "To train a model, we need a [loss function](https://pytorch.org/docs/stable/nn.html#loss-functions) (also called a `criterion`)\n",
    "and an [optimizer](https://pytorch.org/docs/stable/optim.html)."
   ]
  },
  {
   "cell_type": "code",
   "execution_count": 35,
   "metadata": {},
   "outputs": [],
   "source": [
    "criterion = nn.CrossEntropyLoss()\n",
    "optimizer = torch.optim.SGD(model.parameters(), lr=1e-3)"
   ]
  },
  {
   "cell_type": "markdown",
   "metadata": {},
   "source": [
    "In order to use the training data once, we must loop over it using the data loader definded above"
   ]
  },
  {
   "cell_type": "code",
   "execution_count": 36,
   "metadata": {
    "id": "88Dii6DHtKWW"
   },
   "outputs": [],
   "source": [
    "# helper function\n",
    "def train(device, model, dataloader, optimizer, criterion, binary=True, unsqueeze=False):\n",
    "    model.train() \n",
    "    \n",
    "    running_loss = 0.0\n",
    "    correct_predictions = 0\n",
    "    total_predictions = 0\n",
    "    \n",
    "    # Iterate over the training dataset\n",
    "    for inputs, labels in dataloader:\n",
    "        inputs = inputs.to(device)\n",
    "        labels = labels.to(device)\n",
    "        if unsqueeze:\n",
    "            labels=labels.unsqueeze(1).float()\n",
    "        # Zero the gradients\n",
    "        optimizer.zero_grad()\n",
    "        # Forward pass\n",
    "        outputs = model(inputs)\n",
    "        # Compute the loss\n",
    "        loss = criterion(outputs, labels)\n",
    "        # Backward pass\n",
    "        loss.backward()\n",
    "        # Update the weights\n",
    "        optimizer.step()\n",
    "        \n",
    "        running_loss += loss.item()\n",
    "         # Compute the predicted labels\n",
    "        if binary:\n",
    "            predicted = torch.round(outputs)\n",
    "        else:\n",
    "            outputs = torch.softmax(outputs, 1)\n",
    "            _, predicted = torch.max(outputs, 1)\n",
    "        # Count correct and total predictions\n",
    "        total_predictions += labels.size(0)\n",
    "        correct_predictions += (predicted == labels).sum().item()\n",
    "        \n",
    "\n",
    "    # Calculate the average loss for the epoch\n",
    "    epoch_loss = running_loss / len(dataloader)\n",
    "    epoch_accuracy = (correct_predictions / total_predictions) * 100\n",
    "    return epoch_loss, epoch_accuracy"
   ]
  },
  {
   "cell_type": "markdown",
   "metadata": {
    "id": "eiEKGC1QtKWW"
   },
   "source": [
    "### Validation aka Testing\n",
    "We also check the model's performance against the test dataset to ensure it is learning.\n",
    "\n"
   ]
  },
  {
   "cell_type": "code",
   "execution_count": 37,
   "metadata": {
    "id": "zFvBStRmtKWW"
   },
   "outputs": [],
   "source": [
    "def validate(device, model, dataloader, criterion, binary=True, unsqueeze=False):\n",
    "    running_loss_val = 0.0\n",
    "    correct_predictions_val = 0\n",
    "    total_predictions_val = 0\n",
    "     # Set the model to validation mode\n",
    "    model.eval() \n",
    "    # Disable gradient calculation\n",
    "    with torch.no_grad():\n",
    "        # Iterate over validation set\n",
    "        for inputs, labels in dataloader:\n",
    "            inputs = inputs.to(device)\n",
    "            labels = labels.to(device)\n",
    "            if unsqueeze:\n",
    "                labels=labels.unsqueeze(1).float()\n",
    "            # Forward pass\n",
    "            outputs = model(inputs)\n",
    "\n",
    "            # Compute the loss\n",
    "            loss = criterion(outputs, labels)\n",
    "\n",
    "            running_loss_val += loss.item()\n",
    "\n",
    "            # Compute the predicted labels\n",
    "            if binary:\n",
    "                predicted = torch.round(outputs)\n",
    "            else:\n",
    "                outputs = torch.softmax(outputs, 1)\n",
    "                _, predicted = torch.max(outputs, 1)\n",
    "            # Count correct and total predictions\n",
    "            total_predictions_val += labels.size(0)\n",
    "            correct_predictions_val += (predicted == labels).sum().item()\n",
    "            \n",
    "    # Calculate the average loss and accuracy\n",
    "    epoch_loss_val = running_loss_val / len(dataloader)\n",
    "    epoch_accuracy_val = (correct_predictions_val / total_predictions_val) * 100\n",
    "    return epoch_loss_val, epoch_accuracy_val"
   ]
  },
  {
   "cell_type": "markdown",
   "metadata": {
    "id": "VOjnP510tKWX"
   },
   "source": [
    "### Iterative improvement\n",
    "The training process is conducted over several iterations (*epochs*). During each epoch, the model learns\n",
    "parameters to make better predictions. We keep track of the model's accuracy and loss at each epoch; we'd like to see the\n",
    "accuracy increase and the loss decrease with every epoch."
   ]
  },
  {
   "cell_type": "code",
   "execution_count": 38,
   "metadata": {},
   "outputs": [],
   "source": [
    "def train_for_epochs(device, epchs, model, trainloader, valloader, optimizer, criterion, binary=True, unsqueeze=False):\n",
    "    # dictionary for saving history during training\n",
    "    history = {\n",
    "        \"train\": {\n",
    "            \"loss\": [],\n",
    "            \"accuracy\": []\n",
    "        },\n",
    "        \"val\": {\n",
    "            \"loss\": [],\n",
    "            \"accuracy\": []\n",
    "        }\n",
    "    }\n",
    "    loop = trange(epchs) # a nice way to display progress using a widget\n",
    "    # Training loop\n",
    "    for epoch in loop:\n",
    "\n",
    "        epoch_loss_train, epoch_accuracy_train = train(device, model, trainloader, optimizer, criterion, binary=binary, unsqueeze=unsqueeze)   \n",
    "\n",
    "        history[\"train\"][\"loss\"].append(epoch_loss_train)\n",
    "        history[\"train\"][\"accuracy\"].append(epoch_accuracy_train)\n",
    "\n",
    "        epoch_loss_val, epoch_accuracy_val = validate(device, model, valloader, criterion, binary=binary, unsqueeze=unsqueeze)   \n",
    "\n",
    "        history[\"val\"][\"loss\"].append(epoch_loss_val)\n",
    "        history[\"val\"][\"accuracy\"].append(epoch_accuracy_val)\n",
    "\n",
    "        loop.set_description(f\"Train Loss: {epoch_loss_train:.2f}, Train Acc: {epoch_accuracy_train:.2f}, Val Loss: {epoch_loss_val:.2f}, Val Acc: {epoch_accuracy_val:.2f}\")\n",
    "    return history"
   ]
  },
  {
   "cell_type": "markdown",
   "metadata": {},
   "source": [
    "We are now ready to perform the actual training. In doing so, we also check how long this takes."
   ]
  },
  {
   "cell_type": "code",
   "execution_count": 39,
   "metadata": {
    "id": "V_B9zXnwtKWX"
   },
   "outputs": [
    {
     "name": "stdout",
     "output_type": "stream",
     "text": [
      "MNIST training started: 2024-01-29 18:39:54.792766\n"
     ]
    },
    {
     "data": {
      "application/vnd.jupyter.widget-view+json": {
       "model_id": "750a8f009e7a4766845ef294679b4693",
       "version_major": 2,
       "version_minor": 0
      },
      "text/plain": [
       "  0%|          | 0/10 [00:00<?, ?it/s]"
      ]
     },
     "metadata": {},
     "output_type": "display_data"
    },
    {
     "name": "stdout",
     "output_type": "stream",
     "text": [
      "MNIST training finished: 2024-01-29 18:42:53.583193 (duration: 0:02:58.790427)\n"
     ]
    }
   ],
   "source": [
    "NUM_EPOCHS = 10\n",
    "\n",
    "start_train_mnist = dt.datetime.now()\n",
    "\n",
    "print(f'MNIST training started: {start_train_mnist}')\n",
    "# run training, set binary to false since we have a multi label classification\n",
    "history = train_for_epochs(device, NUM_EPOCHS, model, train_dataloader, test_dataloader, optimizer, criterion, binary=False)\n",
    "\n",
    "finish_train_mnist = dt.datetime.now()\n",
    "print(f'MNIST training finished: {finish_train_mnist} (duration: {finish_train_mnist - start_train_mnist})')"
   ]
  },
  {
   "cell_type": "markdown",
   "metadata": {},
   "source": [
    "Read more about [Training your model](https://pytorch.org/tutorials/beginner/basics/optimization_tutorial.html). Also, be aware that the functions we defined for the training loop are quite generic and can therefore be re-used in other (classification) cases, which is why they are available as a [Python script for import](train_loop.py). This is what we will do in subsequent notebooks."
   ]
  },
  {
   "cell_type": "markdown",
   "metadata": {},
   "source": [
    "### Checking model quality\n",
    "Finally, let's check how well our final model is doing."
   ]
  },
  {
   "cell_type": "code",
   "execution_count": 40,
   "metadata": {},
   "outputs": [
    {
     "name": "stdout",
     "output_type": "stream",
     "text": [
      "\n",
      "Train Acc. 83.78\n",
      "Val Acc. 84.78\n"
     ]
    }
   ],
   "source": [
    "train_acc = history['train']['accuracy'][-1]\n",
    "val_acc = history['val']['accuracy'][-1]\n",
    "print(f'\\nTrain Acc. {train_acc:.2f}\\nVal Acc. {val_acc:.2f}')"
   ]
  },
  {
   "cell_type": "markdown",
   "metadata": {
    "id": "8uhBzjL8tKWX"
   },
   "source": [
    "In fact, it is nice to get a visual impression on how the model quality developed during training. Therefore, we plot the development of the accuracy and the loss during training, which we can do using the `history` we kept. We define a function for this which we can reuse in other cases (which is why we put it in the [Python script mentioned above](train_loop.py) as well)."
   ]
  },
  {
   "cell_type": "code",
   "execution_count": 41,
   "metadata": {},
   "outputs": [],
   "source": [
    "def plot_history(loss_train_hist, acc_train_hist, loss_val_hist, acc_val_hist):\n",
    "    x_arr = np.arange(len(loss_train_hist)) + 1\n",
    "\n",
    "    with plt.ioff():\n",
    "        fig = plt.figure(figsize=(12, 4))\n",
    "        ax = fig.add_subplot(1, 2, 1)\n",
    "        ax.plot(x_arr, loss_train_hist, '-o', label='Train loss')\n",
    "        ax.plot(x_arr, loss_val_hist, '--<', label='Validation loss')\n",
    "        ax.set_xlabel('Epoch', size=15)\n",
    "        ax.set_ylabel('Loss', size=15)\n",
    "        ax.legend(fontsize=15)\n",
    "        ax = fig.add_subplot(1, 2, 2)\n",
    "        ax.plot(x_arr, acc_train_hist, '-o', label='Train acc.')\n",
    "        ax.plot(x_arr, acc_val_hist, '--<', label='Validation acc.')\n",
    "        ax.legend(fontsize=15)\n",
    "        ax.set_xlabel('Epoch', size=15)\n",
    "        ax.set_ylabel('Accuracy', size=15)\n",
    "    return None"
   ]
  },
  {
   "cell_type": "markdown",
   "metadata": {},
   "source": [
    "Now to the actual plots for the MNIST training:"
   ]
  },
  {
   "cell_type": "code",
   "execution_count": 42,
   "metadata": {},
   "outputs": [
    {
     "data": {
      "image/png": "[encoded data removed]",
      "text/plain": [
       "<Figure size 1200x400 with 2 Axes>"
      ]
     },
     "metadata": {},
     "output_type": "display_data"
    }
   ],
   "source": [
    "plot_history(history['train']['loss'], history['train']['accuracy'], history['val']['loss'], history['val']['accuracy'])\n",
    "plt.show()"
   ]
  },
  {
   "cell_type": "markdown",
   "metadata": {
    "id": "SbAUlUAhtKWX"
   },
   "source": [
    "**Interpretation** Looking at the curves, it seems like we could do with some more training, since the loss is still steadily going down and the accuracy is still going up.\n",
    "\n",
    "--------------\n",
    "\n",
    "\n"
   ]
  },
  {
   "cell_type": "markdown",
   "metadata": {
    "id": "wvWhHCwvtKWX"
   },
   "source": [
    "## Saving & Loading Models\n",
    "A common way to save a model is to serialize the internal state dictionary (containing the model parameters)."
   ]
  },
  {
   "cell_type": "code",
   "execution_count": 43,
   "metadata": {
    "id": "dnb-MIbXtKWX"
   },
   "outputs": [
    {
     "name": "stdout",
     "output_type": "stream",
     "text": [
      "Saved PyTorch Model State to models/qs_model.pth\n"
     ]
    }
   ],
   "source": [
    "torch.save(model.state_dict(), \"models/qs_model.pth\")\n",
    "print(\"Saved PyTorch Model State to models/qs_model.pth\")"
   ]
  },
  {
   "cell_type": "markdown",
   "metadata": {
    "id": "oCVM-fWbtKWX"
   },
   "source": [
    "The process for loading a model includes re-creating the model structure and loading\n",
    "the state dictionary into it. When doing so, be sure to move the model to the right *device* again."
   ]
  },
  {
   "cell_type": "code",
   "execution_count": 44,
   "metadata": {
    "id": "r4_EDGHEtKWX"
   },
   "outputs": [
    {
     "data": {
      "text/plain": [
       "<All keys matched successfully>"
      ]
     },
     "execution_count": 44,
     "metadata": {},
     "output_type": "execute_result"
    }
   ],
   "source": [
    "model = NeuralNetwork().to(device)\n",
    "model.load_state_dict(torch.load(\"models/qs_model.pth\"))"
   ]
  },
  {
   "cell_type": "markdown",
   "metadata": {},
   "source": [
    "Read more about [Saving & Loading your model](https://pytorch.org/tutorials/beginner/basics/saveloadrun_tutorial.html).\n",
    "\n",
    "---"
   ]
  },
  {
   "cell_type": "markdown",
   "metadata": {
    "id": "PKvYiQBptKWX"
   },
   "source": [
    "## Applying the model aka Inference\n",
    "The ultimate goal, obviously, is to use a model on unseen data. This application of the model is usually called *inference* and takes much less time than training. Let's see how our model does on specific instances or specific batches of our (test) data."
   ]
  },
  {
   "cell_type": "code",
   "execution_count": 45,
   "metadata": {},
   "outputs": [
    {
     "name": "stdout",
     "output_type": "stream",
     "text": [
      "Predicted: \"7\", Actual: \"7\"\n"
     ]
    }
   ],
   "source": [
    "# our classes are just the numbers from 0 to 9\n",
    "classes = range(10)\n",
    "\n",
    "model.eval()\n",
    "x, y = test_data[0][0], test_data[0][1]\n",
    "with torch.no_grad(): # no info for backward pass needed\n",
    "    x = x.to(device)\n",
    "    pred = model(x)\n",
    "    predicted, actual = classes[pred[0].argmax(0)], classes[y]\n",
    "    print(f'Predicted: \"{predicted}\", Actual: \"{actual}\"')"
   ]
  },
  {
   "cell_type": "markdown",
   "metadata": {},
   "source": [
    "We can also test an individual batch and even visualize the predictions along with the actual images and the corresponding *ground truth*."
   ]
  },
  {
   "cell_type": "code",
   "execution_count": 46,
   "metadata": {},
   "outputs": [],
   "source": [
    "# function for predicting the class for a given batch by a trained model\n",
    "def predict_batch(model, batch, binary=True):\n",
    "    model.eval()\n",
    "    with torch.no_grad():\n",
    "        batch = batch.to(device)\n",
    "        #predict\n",
    "        outputs = model(batch)\n",
    "        # Get the prediction by selecting the class with the highest probability\n",
    "        if binary:\n",
    "#            predicted = torch.sigmoid(outputs)\n",
    "            predicted = torch.round(outputs)\n",
    "        else:\n",
    "#            predicted = torch.softmax(outputs, 1)\n",
    "            _, predicted = torch.max(outputs, 1)\n",
    "        return predicted.cpu(), outputs.cpu()"
   ]
  },
  {
   "cell_type": "code",
   "execution_count": 47,
   "metadata": {},
   "outputs": [
    {
     "name": "stdout",
     "output_type": "stream",
     "text": [
      "tensor([7, 2, 1, 0, 4, 1, 9, 9, 6, 9, 0, 6])\n"
     ]
    }
   ],
   "source": [
    "batch_test = next(iter(test_dataloader))\n",
    "\n",
    "preds, _ = predict_batch(model, batch_test[0][:12], binary=False)\n",
    "\n",
    "print(preds)"
   ]
  },
  {
   "cell_type": "markdown",
   "metadata": {},
   "source": [
    "### Visual quality control\n",
    "\n",
    "In order to get a better feeling for the model quality, it often makes sense to look at the actual data and compare the predictions to the ground truth at least for some examples."
   ]
  },
  {
   "cell_type": "code",
   "execution_count": 48,
   "metadata": {},
   "outputs": [
    {
     "data": {
      "image/png": "[encoded data removed]",
      "text/plain": [
       "<Figure size 1200x400 with 12 Axes>"
      ]
     },
     "metadata": {},
     "output_type": "display_data"
    }
   ],
   "source": [
    "# visual check\n",
    "with plt.ioff(): # only show the plot when prompted explicitly\n",
    "    fig = plt.figure(figsize=(12, 4))\n",
    "    for i in range(12):\n",
    "        correct = preds[i] == batch_test[1][i]\n",
    "        ax = fig.add_subplot(2, 6, i+1)\n",
    "        ax.set_xticks([]); ax.set_yticks([])\n",
    "        img = batch_test[0][i].view(28, 28)\n",
    "        ax.imshow(img, cmap='gray_r')\n",
    "        ax.text(0.9, 0.1, '{}'.format(preds[i]), \n",
    "                size=15, color='blue' if correct else 'red',\n",
    "                horizontalalignment='center',\n",
    "                verticalalignment='center', \n",
    "                transform=ax.transAxes)\n",
    "        ax.text(0.35, 0.1, '{}'.format('Correct' if correct else 'Incorrect'), \n",
    "            size=15, color='blue' if correct else 'red',\n",
    "            horizontalalignment='center',\n",
    "            verticalalignment='center', \n",
    "            transform=ax.transAxes)\n",
    "\n",
    "plt.show()"
   ]
  },
  {
   "cell_type": "markdown",
   "metadata": {},
   "source": [
    "Obviously, one of the misclassifications we see here (bottom left) is hard to understand, while for the third one in the bottom row is a little hard to see even for a human whether the ground truth might say $5$ here ..."
   ]
  },
  {
   "cell_type": "markdown",
   "metadata": {},
   "source": [
    "---"
   ]
  },
  {
   "cell_type": "markdown",
   "metadata": {
    "id": "n3EKI5VitKWX"
   },
   "source": [
    "## Learning Outcomes\n",
    "\n",
    "The contents presented here were mostly geared towards getting into touch with `PyTorch`. Having worked through this notebook, you should now\n",
    "\n",
    "* be aware that `PyTorch` comes with datasets to be used directly and experiment with;\n",
    "* know that `PyTorch` can make use of powerful hardware like GPUs for acceleration;\n",
    "* have a feeling for the way neural networks may be specified and used in `PyTorch`;\n",
    "* know how to train a model and use it for inference in `PyTorch`.\n",
    "\n",
    "---"
   ]
  },
  {
   "cell_type": "code",
   "execution_count": null,
   "metadata": {},
   "outputs": [],
   "source": []
  }
 ],
 "metadata": {
  "colab": {
   "provenance": [
    {
     "file_id": "https://github.com/pytorch/tutorials/blob/gh-pages/_downloads/af0caf6d7af0dda755f4c9d7af9ccc2c/quickstart_tutorial.ipynb",
     "timestamp": 1704207890306
    }
   ]
  },
  "kernelspec": {
   "display_name": "Python 3 (ipykernel)",
   "language": "python",
   "name": "python3"
  },
  "language_info": {
   "codemirror_mode": {
    "name": "ipython",
    "version": 3
   },
   "file_extension": ".py",
   "mimetype": "text/x-python",
   "name": "python",
   "nbconvert_exporter": "python",
   "pygments_lexer": "ipython3",
   "version": "3.11.7"
  }
 },
 "nbformat": 4,
 "nbformat_minor": 4
}
