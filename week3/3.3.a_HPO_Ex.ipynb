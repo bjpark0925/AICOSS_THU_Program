{
 "cells": [
  {
   "cell_type": "markdown",
   "id": "3101065b-e462-4cee-9c7b-b6e8564fac9e",
   "metadata": {},
   "source": [
    "![Banner](img/AI_Special_Program_Banner.jpg)\n",
    "\n",
    "## Hyperparameter Optimization (HPO) w/ Optuna - Exercise\n",
    "---\n",
    "Instructions are given in <span style=\"color:blue\">blue</span> color."
   ]
  },
  {
   "cell_type": "markdown",
   "id": "20d40b81-3853-44a7-9678-64296b9d44c9",
   "metadata": {},
   "source": [
    "For this exercise, your main concern will be the optimization of hyperparameters for a machine learning model.\n",
    "For this, you are going back to the ```CIFAR-10``` data set.\n",
    "\n",
    "This exercise combines many of the ideas and methodologies you encountered during the last couple of days. As a result, this notebook contains a base CNN implementation utilizing ```PyTorch``` as well as transfer learning to classify the images."
   ]
  },
  {
   "cell_type": "markdown",
   "id": "c17834bf-9e06-44c5-b414-51bd11d4cadc",
   "metadata": {},
   "source": [
    "If you fully execute this notebook, you will see that the pre-selected parameters are not well suited to come up with a good enough classifier when trained for 5 epochs only. What is the best accuracy you can come up with when limited to those 5 epochs?\n",
    "\n",
    "* <div style=\"color:blue\">Alter the existing code so that it utilizes <code>Optuna</code> for automated hyperparameter tuning.</div>\n",
    "* <div style=\"color:blue\">You should work with all parameters defined below. However, if you think more parameters need tuning, feel free to do so.</div>\n",
    "* <div style=\"color:blue\">Your code should contain the possibility to prune unpromising trials automatically.</div>\n",
    "* <div style=\"color:blue\">Keep in mind that machine learning often takes quite some time for training (even when GPU support is enabled). Try to run a meaningful number of trials and grab a coffee if needed.</div>\n",
    "* <div style=\"color:blue\">What are your best parameters and how well do they perform? Can you achieve more than 85% accuracy after 5 epochs?</div>"
   ]
  },
  {
   "cell_type": "code",
   "execution_count": null,
   "id": "d81d225d-f0ea-4aa8-8baf-d6de2c44091e",
   "metadata": {},
   "outputs": [],
   "source": [
    "import random\n",
    "import torch\n",
    "import torch.nn as nn\n",
    "import torch.optim as optim\n",
    "from torch.optim.lr_scheduler import CosineAnnealingLR\n",
    "\n",
    "from tqdm import tqdm\n",
    "import matplotlib.pyplot as plt\n",
    "\n",
    "\n",
    "import torchvision\n",
    "import torchvision.transforms as transforms\n",
    "\n",
    "from torchvision import models"
   ]
  },
  {
   "cell_type": "code",
   "execution_count": null,
   "id": "55a85f16-90f1-432a-9ce6-ba39980e9dc4",
   "metadata": {},
   "outputs": [],
   "source": [
    "# Fixed settings (please don't change)\n",
    "EPOCHS = 5\n",
    "torch.manual_seed(42)\n",
    "random.seed(42)\n",
    "RANDOM_SEED = 42"
   ]
  },
  {
   "cell_type": "code",
   "execution_count": null,
   "id": "ac7fa2b3-9faa-4b49-a29e-393fe09523ce",
   "metadata": {},
   "outputs": [],
   "source": [
    "# Hyperparameters\n",
    "DROPOUT_RATE = 0.5\n",
    "BATCH_SIZE = 32\n",
    "OPTIMIZER = 'SGD' # SGD vs. ADAM vs. RMSprop\n",
    "LEARNING_RATE = 0.1\n",
    "SCHEDULER = False"
   ]
  },
  {
   "cell_type": "code",
   "execution_count": null,
   "id": "39feb7d4-e5c7-4de3-8c3b-1574e87c2a6d",
   "metadata": {},
   "outputs": [],
   "source": [
    "# CIFAR-10 is directly available via torchvision\n",
    "def get_data():\n",
    "    transform = transforms.Compose([transforms.ToTensor()])\n",
    "\n",
    "    trainset = torchvision.datasets.CIFAR10(root='./data', train=True, download=True, transform=transform)\n",
    "    trainloader = torch.utils.data.DataLoader(trainset, batch_size=BATCH_SIZE, shuffle=True, num_workers=4)\n",
    "\n",
    "    testset = torchvision.datasets.CIFAR10(root='./data', train=False, download=True, transform=transform)\n",
    "    testloader = torch.utils.data.DataLoader(testset, batch_size=BATCH_SIZE, shuffle=False, num_workers=4)\n",
    "    \n",
    "    return trainloader, testloader"
   ]
  },
  {
   "cell_type": "code",
   "execution_count": null,
   "id": "3e8dfb38-5f0f-46a1-901c-5187a61db47f",
   "metadata": {},
   "outputs": [],
   "source": [
    "classes = ('plane', 'car', 'bird', 'cat', 'deer', 'dog', 'frog', 'horse', 'ship', 'truck')"
   ]
  },
  {
   "cell_type": "code",
   "execution_count": null,
   "id": "cf273204-fa92-48b2-976d-f23234d2d804",
   "metadata": {},
   "outputs": [],
   "source": [
    "# Enabling GPU support\n",
    "device = torch.device('cuda' if torch.cuda.is_available() else 'cpu')\n",
    "device"
   ]
  },
  {
   "cell_type": "code",
   "execution_count": null,
   "id": "39019bae-9957-49f3-8aa8-79cdbc5a1f5a",
   "metadata": {},
   "outputs": [],
   "source": [
    "def get_model():\n",
    "    model = models.resnet50(pretrained=True)\n",
    "    num_features = model.fc.in_features\n",
    "    # Replacing final layer of pre-trained model with dropout layer and custom fully connected layer\n",
    "    model.fc = nn.Sequential(nn.Dropout(DROPOUT_RATE), nn.Linear(num_features, len(classes)))\n",
    "    model.to(device)\n",
    "    return model"
   ]
  },
  {
   "cell_type": "code",
   "execution_count": null,
   "id": "5847d3c0-47ac-4906-878a-c8dd25c0a40e",
   "metadata": {},
   "outputs": [],
   "source": [
    "def get_optimizer(model):\n",
    "    if OPTIMIZER == 'Adam':\n",
    "        return torch.optim.Adam(model.parameters(), lr=LEARNING_RATE)\n",
    "    elif OPTIMIZER == 'SGD':\n",
    "        return torch.optim.SGD(model.parameters(), lr=LEARNING_RATE)\n",
    "    elif OPTIMIZER == 'RMSprop':\n",
    "        return torch.optim.RMSprop(model.parameters(), lr=LEARNING_RATE)"
   ]
  },
  {
   "cell_type": "code",
   "execution_count": null,
   "id": "95405f43-22dd-40f3-8d93-ac5a63243f34",
   "metadata": {},
   "outputs": [],
   "source": [
    "def train(model, training_batches, testing_batches):\n",
    "    accuracy = list()\n",
    "    criterion = nn.CrossEntropyLoss()\n",
    "    optimizer = get_optimizer(model)\n",
    "    \n",
    "    if SCHEDULER:\n",
    "        scheduler = CosineAnnealingLR(optimizer, EPOCHS-1, verbose=False)\n",
    "        \n",
    "    # training\n",
    "    for epoch in range(EPOCHS):\n",
    "        model.train()\n",
    "        training_loop = tqdm(training_batches)\n",
    "        for images, labels in training_loop:\n",
    "            images = images.to(device, non_blocking=True)\n",
    "            labels = labels.to(device, non_blocking=True)\n",
    "        \n",
    "            optimizer.zero_grad()\n",
    "            outputs = model(images)\n",
    "            loss = criterion(outputs, labels)\n",
    "            loss.backward()\n",
    "            optimizer.step()\n",
    "            \n",
    "        if SCHEDULER:\n",
    "            scheduler.step()\n",
    "        \n",
    "        # testing\n",
    "        num_samples = 0\n",
    "        correct_predictions = 0 \n",
    "        model.eval()\n",
    "        with torch.no_grad():\n",
    "            for images, labels in testing_batches:\n",
    "                images = images.to(device, non_blocking=True)\n",
    "                labels = labels.to(device, non_blocking=True)\n",
    "            \n",
    "                outputs = model(images)\n",
    "                num_samples += labels.size(0)\n",
    "                correct_predictions += (outputs.argmax(dim=1) == labels).sum().item()\n",
    "    \n",
    "        accuracy.append(100.0 * correct_predictions / num_samples)\n",
    "    \n",
    "    return accuracy"
   ]
  },
  {
   "cell_type": "code",
   "execution_count": null,
   "id": "792dc407-4abc-40f8-ae45-68048e83cfd0",
   "metadata": {},
   "outputs": [],
   "source": [
    "model = get_model()\n",
    "training_batches, testing_batches = get_data()\n",
    "history = train(model, training_batches, testing_batches)"
   ]
  },
  {
   "cell_type": "code",
   "execution_count": null,
   "id": "9cf827b7-5469-4220-a57d-57ecc7b762d7",
   "metadata": {},
   "outputs": [],
   "source": [
    "# last epoch's testing accuracy %\n",
    "history[-1]"
   ]
  },
  {
   "cell_type": "code",
   "execution_count": null,
   "id": "3e29e5ec-ab9b-4a62-a2a0-066afb964f3a",
   "metadata": {},
   "outputs": [],
   "source": [
    "# Optional plot for a single training session (not needed when optimizing parameters)\n",
    "plt.plot(history)\n",
    "plt.ylabel('validation accuracy %')\n",
    "plt.xlabel('epoch index')\n",
    "plt.grid()"
   ]
  }
 ],
 "metadata": {
  "kernelspec": {
   "display_name": "Python 3 (ipykernel)",
   "language": "python",
   "name": "python3"
  },
  "language_info": {
   "codemirror_mode": {
    "name": "ipython",
    "version": 3
   },
   "file_extension": ".py",
   "mimetype": "text/x-python",
   "name": "python",
   "nbconvert_exporter": "python",
   "pygments_lexer": "ipython3",
   "version": "3.7.13"
  }
 },
 "nbformat": 4,
 "nbformat_minor": 5
}
