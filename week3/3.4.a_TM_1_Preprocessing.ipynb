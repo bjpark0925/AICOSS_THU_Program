{
 "cells": [
  {
   "cell_type": "markdown",
   "metadata": {},
   "source": [
    "![Banner](img/AI_Special_Program_Banner.jpg)\n",
    "\n",
    "## Text Mining - Material 1: Improved Sentiment Analysis with Preprocessing\n",
    "---"
   ]
  },
  {
   "cell_type": "markdown",
   "metadata": {
    "slideshow": {
     "slide_type": "skip"
    }
   },
   "source": [
    "The material presented is adapted from *Python Machine Learning 3rd Edition* by [Sebastian Raschka](https://sebastianraschka.com) & [Vahid Mirjalili](http://vahidmirjalili.com), Packt Publishing Ltd. 2019 (code available on [GitHub](https://github.com/rasbt/python-machine-learning-book-3rd-edition))."
   ]
  },
  {
   "cell_type": "markdown",
   "metadata": {},
   "source": [
    "## Overview\n",
    "- [Sentiment Analysis Revisited](#Sentiment-Analysis-Revisited)\n",
    "  - [Example: Sentiment analysis of movie reviews](#Example:-Sentiment-analysis-of-movie-reviews)\n",
    "    - [Preprocessing (old version)](#Preprocessing-(old-version))\n",
    "    - [Preprocessing (NEW)](#Preprocessing-(NEW))\n",
    "    - [Data Representation](#Data-Representation)\n",
    "    - [Batching](#Batching)\n",
    "    - [Training the bidirectional RNN with selectable type](#Training-the-bidirectional-RNN-with-selectable-type)\n",
    "  - [Stopping earlier](#Stopping-earlier)\n"
   ]
  },
  {
   "cell_type": "markdown",
   "metadata": {},
   "source": [
    "##  Sentiment Analysis Revisited\n",
    "---\n",
    "\n",
    "Here, we want to employ addidtional techniques from the `nltk`-library for preprocessing in order to hopefully further improve on the sentiment analysis we performed [earlier](3.3.b_RNN_2_Sentiment.ipynb).\n",
    "\n",
    "<span style=\"color:blue\">Please pay attention to the changes section <b>Preprocessing (NEW)</b></span>"
   ]
  },
  {
   "cell_type": "code",
   "execution_count": 1,
   "metadata": {},
   "outputs": [],
   "source": [
    "import os\n",
    "#os.environ[\"KMP_DUPLICATE_LIB_OK\"]=\"TRUE\"\n",
    "# bugfix for \"OMP: Error #15: Initializing libiomp5md.dll, but found libiomp5 already initialized.\" error with numpy/matplotlib.\n",
    "\n",
    "import gzip\n",
    "import shutil\n",
    "\n",
    "import numpy as np\n",
    "import pandas as pd\n",
    "import random\n",
    "import collections\n",
    "from tqdm.notebook import trange, tqdm\n",
    "\n",
    "\n",
    "import matplotlib.pyplot as plt\n",
    "%matplotlib inline\n",
    "\n",
    "import torch\n",
    "from torch.utils.data import Dataset, DataLoader\n",
    "import torchtext\n",
    "from torchtext.data import get_tokenizer\n",
    "from torch import nn\n",
    "\n",
    "import datetime as dt"
   ]
  },
  {
   "cell_type": "code",
   "execution_count": 2,
   "metadata": {},
   "outputs": [],
   "source": [
    "# importing module for training loop\n",
    "from train_loop import train, train_for_epochs, validate, plot_history"
   ]
  },
  {
   "cell_type": "code",
   "execution_count": 3,
   "metadata": {},
   "outputs": [
    {
     "name": "stdout",
     "output_type": "stream",
     "text": [
      "CUDA_AVAILABLE = True\n"
     ]
    }
   ],
   "source": [
    "CUDA_AVAILABLE = torch.cuda.is_available()\n",
    "print(f'CUDA_AVAILABLE = {CUDA_AVAILABLE}')\n",
    "\n",
    "USE_ONLY_CPU = False"
   ]
  },
  {
   "cell_type": "code",
   "execution_count": 4,
   "metadata": {},
   "outputs": [],
   "source": [
    "random.seed(42)     # python random generator\n",
    "np.random.seed(42)  # numpy random generator\n",
    "\n",
    "torch.manual_seed(42)\n",
    "torch.cuda.manual_seed_all(42)"
   ]
  },
  {
   "cell_type": "markdown",
   "metadata": {
    "slideshow": {
     "slide_type": "slide"
    }
   },
   "source": [
    "### Example: Sentiment analysis of movie reviews\n",
    "---\n",
    "* reading data as *external data*\n",
    "* also available as [PyTorch Dataset](https://pytorch.org/text/stable/datasets.html#imdb)"
   ]
  },
  {
   "cell_type": "code",
   "execution_count": 5,
   "metadata": {},
   "outputs": [
    {
     "data": {
      "text/html": [
       "<div>\n",
       "<style scoped>\n",
       "    .dataframe tbody tr th:only-of-type {\n",
       "        vertical-align: middle;\n",
       "    }\n",
       "\n",
       "    .dataframe tbody tr th {\n",
       "        vertical-align: top;\n",
       "    }\n",
       "\n",
       "    .dataframe thead th {\n",
       "        text-align: right;\n",
       "    }\n",
       "</style>\n",
       "<table border=\"1\" class=\"dataframe\">\n",
       "  <thead>\n",
       "    <tr style=\"text-align: right;\">\n",
       "      <th></th>\n",
       "      <th>review</th>\n",
       "      <th>sentiment</th>\n",
       "    </tr>\n",
       "  </thead>\n",
       "  <tbody>\n",
       "    <tr>\n",
       "      <th>49995</th>\n",
       "      <td>OK, lets start with the best. the building. al...</td>\n",
       "      <td>0</td>\n",
       "    </tr>\n",
       "    <tr>\n",
       "      <th>49996</th>\n",
       "      <td>The British 'heritage film' industry is out of...</td>\n",
       "      <td>0</td>\n",
       "    </tr>\n",
       "    <tr>\n",
       "      <th>49997</th>\n",
       "      <td>I don't even know where to begin on this one. ...</td>\n",
       "      <td>0</td>\n",
       "    </tr>\n",
       "    <tr>\n",
       "      <th>49998</th>\n",
       "      <td>Richard Tyler is a little boy who is scared of...</td>\n",
       "      <td>0</td>\n",
       "    </tr>\n",
       "    <tr>\n",
       "      <th>49999</th>\n",
       "      <td>I waited long to watch this movie. Also becaus...</td>\n",
       "      <td>1</td>\n",
       "    </tr>\n",
       "  </tbody>\n",
       "</table>\n",
       "</div>"
      ],
      "text/plain": [
       "                                                  review  sentiment\n",
       "49995  OK, lets start with the best. the building. al...          0\n",
       "49996  The British 'heritage film' industry is out of...          0\n",
       "49997  I don't even know where to begin on this one. ...          0\n",
       "49998  Richard Tyler is a little boy who is scared of...          0\n",
       "49999  I waited long to watch this movie. Also becaus...          1"
      ]
     },
     "execution_count": 5,
     "metadata": {},
     "output_type": "execute_result"
    }
   ],
   "source": [
    "df = pd.read_csv('data/movie_data.csv', encoding='utf-8')\n",
    "df.tail()"
   ]
  },
  {
   "cell_type": "markdown",
   "metadata": {},
   "source": [
    "#### Preprocessing (old version)"
   ]
  },
  {
   "cell_type": "code",
   "execution_count": 6,
   "metadata": {
    "slideshow": {
     "slide_type": "subslide"
    }
   },
   "outputs": [
    {
     "name": "stdout",
     "output_type": "stream",
     "text": [
      "In 1974, the teenager Martha Moxley (Maggie Grace) 1\n",
      "OK... so... I really like Kris Kristofferson and h 0\n",
      "***SPOILER*** Do not read this, if you think about 0\n",
      "hi for all the people who have seen this wonderful 1\n",
      "I recently bought the DVD, forgetting just how muc 0\n",
      "Leave it to Braik to put on a good show. Finally h 1\n",
      "Nathan Detroit (Frank Sinatra) is the manager of t 1\n"
     ]
    }
   ],
   "source": [
    "# Step 1: create a dataset\n",
    "\n",
    "target = df.pop('sentiment')\n",
    "\n",
    "values = df.values\n",
    "\n",
    "## inspection:\n",
    "for i, (t, v) in enumerate(zip(target, values)):\n",
    "    print(v[0][:50], t)\n",
    "    if i > 5:\n",
    "        break"
   ]
  },
  {
   "cell_type": "markdown",
   "metadata": {},
   "source": [
    "#### Preprocessing (NEW)"
   ]
  },
  {
   "cell_type": "markdown",
   "metadata": {},
   "source": [
    "First, let's remove stopwords. Additionally, we get rid of all punctations."
   ]
  },
  {
   "cell_type": "code",
   "execution_count": 7,
   "metadata": {},
   "outputs": [
    {
     "name": "stderr",
     "output_type": "stream",
     "text": [
      "[nltk_data] Downloading package stopwords to /root/nltk_data...\n",
      "[nltk_data]   Package stopwords is already up-to-date!\n"
     ]
    },
    {
     "name": "stdout",
     "output_type": "stream",
     "text": [
      "teenager martha moxley maggie grace moves high cla 1\n",
      "ok really like kris kristofferson usual easy going 0\n",
      "spoiler not read think watching movie although wou 0\n",
      "hi people seen wonderful movie im sure thet would  1\n",
      "recently bought dvd forgetting much hated movie ve 0\n",
      "leave braik put good show finally zorak living liv 1\n",
      "nathan detroit frank sinatra manager new york long 1\n"
     ]
    }
   ],
   "source": [
    "import re\n",
    "import nltk\n",
    "nltk.download('stopwords')\n",
    "\n",
    "stopwords_eng = set(nltk.corpus.stopwords.words(\"english\"))\n",
    "# print(stopwords_eng)\n",
    "# let's keep a few words, which we think might be useful for sentiments (bad sentiment)\n",
    "keep = ['not', 'doesn', 'don', 'couldn', 'won', 'wasn']\n",
    "for keep_word in keep:\n",
    "    stopwords_eng.remove(keep_word)\n",
    "\n",
    "def clean_text(text):\n",
    "    text = text.lower() # convert to lowercase\n",
    "    text = re.sub(\"[^a-z]\", \" \", text) #remove all punctation\n",
    "    words = [word for word in text.split() if word not in stopwords_eng]\n",
    "    text = \" \".join(words)\n",
    "    return text\n",
    "\n",
    "reviews = df.review\n",
    "reviews = reviews.map(clean_text)\n",
    "df.review = reviews\n",
    "\n",
    "values = df.values\n",
    "\n",
    "## inspection:\n",
    "for i, (t, v) in enumerate(zip(target, reviews)):\n",
    "    print(v[:50], t)\n",
    "    if i > 5:\n",
    "        break"
   ]
  },
  {
   "cell_type": "markdown",
   "metadata": {},
   "source": [
    "As we can see, our new preprocessing removes stopwords and all punctations. The reviews are not readable any more nicely, but hopefully we can get better results.."
   ]
  },
  {
   "cell_type": "markdown",
   "metadata": {},
   "source": [
    "Also, we will apply Lemmatization now using the Lemmatizer from WordNet:"
   ]
  },
  {
   "cell_type": "code",
   "execution_count": 8,
   "metadata": {},
   "outputs": [
    {
     "name": "stderr",
     "output_type": "stream",
     "text": [
      "[nltk_data] Downloading package wordnet to /root/nltk_data...\n",
      "[nltk_data]   Package wordnet is already up-to-date!\n"
     ]
    },
    {
     "name": "stdout",
     "output_type": "stream",
     "text": [
      "teenager martha moxley maggie grace move high clas 1\n",
      "ok really like kris kristofferson usual easy go de 0\n",
      "spoiler not read think watch movie although would  0\n",
      "hi people see wonderful movie im sure thet would l 1\n",
      "recently buy dvd forget much hat movie version cho 0\n",
      "leave braik put good show finally zorak live live  1\n",
      "nathan detroit frank sinatra manager new york long 1\n"
     ]
    }
   ],
   "source": [
    "from nltk.stem import WordNetLemmatizer\n",
    "nltk.download('wordnet')\n",
    "\n",
    "lemmatizer = WordNetLemmatizer()\n",
    "lemmas = list()\n",
    "\n",
    "def clean_text2(text):\n",
    "    words = [lemmatizer.lemmatize(word, pos='v') for word in text.split()]\n",
    "    text = \" \".join(words)\n",
    "    return text\n",
    "\n",
    "reviews = df.review\n",
    "reviews = reviews.map(clean_text2)\n",
    "df.review = reviews\n",
    "\n",
    "## inspection:\n",
    "for i, (t, v) in enumerate(zip(target, reviews)):\n",
    "    print(v[:50], t)\n",
    "    if i > 5:\n",
    "        break"
   ]
  },
  {
   "cell_type": "markdown",
   "metadata": {},
   "source": [
    "As you can see, especially verbs are now different. For example in the first line, \"moves\" has been converted to \"move\".\n",
    "\n",
    "Please note that the lemmatizer actually requires a correct POS tagging; In order to keep things simple here, we tell him  that all words are verbs (pos='v'). As you know from the lecture, this could possibly cause some mistakes for some specific nouns."
   ]
  },
  {
   "cell_type": "markdown",
   "metadata": {},
   "source": [
    " * **tokenizer (and encoder)**\n",
    "   * `torchtext.data.utils.get_tokenize`: https://pytorch.org/text/stable/data_utils.html"
   ]
  },
  {
   "cell_type": "code",
   "execution_count": 9,
   "metadata": {},
   "outputs": [
    {
     "name": "stdout",
     "output_type": "stream",
     "text": [
      "Vocab-size: 86265\n"
     ]
    }
   ],
   "source": [
    "# build a pytorch dataset\n",
    "class ReviewDataset(Dataset):\n",
    "    def __init__(self, target, values):\n",
    "        \n",
    "        self.target = target\n",
    "        self.values = values\n",
    "        # setup tokenizer\n",
    "        tokenizer_name = 'basic_english' \n",
    "        tokenizer = get_tokenizer(tokenizer_name)\n",
    "        self.tokenizer = get_tokenizer(tokenizer_name)\n",
    "        # setup vocab\n",
    "        counter_obj = collections.Counter()\n",
    "        for v in values:\n",
    "            tokens = tokenizer(v)\n",
    "            counter_obj.update(tokens)\n",
    "        self.vocab = torchtext.vocab.vocab(counter_obj, min_freq=1, specials=['<unk>'])\n",
    "        # set a default index for out of vocabulary tokens\n",
    "        self.vocab.set_default_index(-1)\n",
    "        print('Vocab-size:', len(self.vocab))\n",
    "        \n",
    "    def __encode(self, value):\n",
    "        tokens = self.tokenizer(value)\n",
    "        return torch.tensor(self.vocab.lookup_indices(tokens))\n",
    "    \n",
    "    def __len__(self):\n",
    "        return len(self.target)\n",
    "    \n",
    "    def __getitem__(self, idx):\n",
    "        return self.__encode(self.values[idx]), torch.tensor(target[idx]).float()\n",
    "    \n",
    "dataset = ReviewDataset(target=target, values=reviews)"
   ]
  },
  {
   "cell_type": "markdown",
   "metadata": {},
   "source": [
    "As can be observed, the vocabulary size is now much smaller than previously."
   ]
  },
  {
   "cell_type": "markdown",
   "metadata": {
    "slideshow": {
     "slide_type": "skip"
    }
   },
   "source": [
    " * **train/validation/test split**"
   ]
  },
  {
   "cell_type": "code",
   "execution_count": 10,
   "metadata": {},
   "outputs": [
    {
     "name": "stdout",
     "output_type": "stream",
     "text": [
      "Len train set: 30000\n",
      "Len val set: 5000\n",
      "Len test set: 15000\n"
     ]
    }
   ],
   "source": [
    "# setup train test split\n",
    "train_set, val_set, test_set = torch.utils.data.random_split(dataset, [30000, 5000, 15000])\n",
    "print(f'Len train set: {len(train_set)}')\n",
    "print(f'Len val set: {len(val_set)}')\n",
    "print(f'Len test set: {len(test_set)}')"
   ]
  },
  {
   "cell_type": "markdown",
   "metadata": {
    "slideshow": {
     "slide_type": "skip"
    }
   },
   "source": [
    "#### Data Representation"
   ]
  },
  {
   "cell_type": "code",
   "execution_count": 11,
   "metadata": {
    "slideshow": {
     "slide_type": "skip"
    }
   },
   "outputs": [
    {
     "name": "stdout",
     "output_type": "stream",
     "text": [
      "Sequence length: torch.Size([132])\n",
      "Sequence length: torch.Size([120])\n",
      "Sequence length: torch.Size([162])\n",
      "Sequence length: torch.Size([36])\n",
      "Sequence length: torch.Size([69])\n"
     ]
    },
    {
     "data": {
      "text/plain": [
       "(tensor([322, 323, 199, 324, 298, 325,  73, 228, 326, 119, 327, 328, 252, 329,\n",
       "         144,  75, 243,  70,  70, 144, 252, 330, 249, 331, 332, 333, 334, 317,\n",
       "         335, 336,  70,  70, 317, 337, 338, 339,  98, 340, 315, 341, 332, 342,\n",
       "         343, 137, 330, 344,  70,  70, 345, 346, 300, 347,  70,  70, 173, 137,\n",
       "         287, 337, 348,  93, 349, 350, 351, 241, 352, 327, 353, 354, 355]),\n",
       " tensor(0.))"
      ]
     },
     "execution_count": 11,
     "metadata": {},
     "output_type": "execute_result"
    }
   ],
   "source": [
    "for i in range(5):\n",
    "    example = dataset[i]\n",
    "    print('Sequence length:', example[0].shape)\n",
    "    \n",
    "example"
   ]
  },
  {
   "cell_type": "markdown",
   "metadata": {},
   "source": [
    "#### Batching\n",
    "The movie review data now needs to be batched (with padding) for training."
   ]
  },
  {
   "cell_type": "code",
   "execution_count": 12,
   "metadata": {
    "slideshow": {
     "slide_type": "skip"
    }
   },
   "outputs": [
    {
     "data": {
      "text/plain": [
       "torch.Size([32, 565])"
      ]
     },
     "execution_count": 12,
     "metadata": {},
     "output_type": "execute_result"
    }
   ],
   "source": [
    "# setup data loader\n",
    "def batch_and_pad(data):\n",
    "    values = [d[0] for d in data]\n",
    "    labels = [d[1].unsqueeze(0) for d in data]\n",
    "    return torch.nn.utils.rnn.pad_sequence(values, batch_first=True), torch.stack(labels)\n",
    "    \n",
    "train_loader = DataLoader(train_set, batch_size=32, collate_fn=batch_and_pad)\n",
    "test_loader = DataLoader(test_set, batch_size=32, collate_fn=batch_and_pad)\n",
    "val_loader = DataLoader(val_set, batch_size=32, collate_fn=batch_and_pad)\n",
    "\n",
    "example_batch = next(iter(train_loader))\n",
    "example_batch[0].shape"
   ]
  },
  {
   "cell_type": "markdown",
   "metadata": {},
   "source": [
    "#### Training the bidirectional RNN with selectable type\n",
    "The bidirectional LSTM has already been compiled, so we can now just train it."
   ]
  },
  {
   "cell_type": "code",
   "execution_count": 13,
   "metadata": {},
   "outputs": [
    {
     "data": {
      "text/plain": [
       "RNNModel(\n",
       "  (embedding): Embedding(86265, 20, padding_idx=0)\n",
       "  (rnn): LSTM(20, 64, batch_first=True, bidirectional=True)\n",
       "  (fc1): Linear(in_features=128, out_features=64, bias=True)\n",
       "  (relu): ReLU()\n",
       "  (fc2): Linear(in_features=64, out_features=1, bias=True)\n",
       "  (sigmoid): Sigmoid()\n",
       ")"
      ]
     },
     "execution_count": 13,
     "metadata": {},
     "output_type": "execute_result"
    }
   ],
   "source": [
    "class RNNModel(nn.Module):\n",
    "    def __init__(self, vocab_size, embedding_dim, hidden_units, recurrent_type='RNN', bidirectional=False, n_recurrent_layers=1):\n",
    "        super(RNNModel, self).__init__()\n",
    "        self.embedding = nn.Embedding(num_embeddings=vocab_size, embedding_dim=embedding_dim, padding_idx=0)\n",
    "        if recurrent_type == 'RNN':\n",
    "            self.rnn = nn.RNN(embedding_dim, hidden_units, batch_first=True, bidirectional=bidirectional, num_layers=n_recurrent_layers)\n",
    "        elif recurrent_type == 'LSTM':\n",
    "            self.rnn = nn.LSTM(embedding_dim, hidden_units, batch_first=True, bidirectional=bidirectional, num_layers=n_recurrent_layers)\n",
    "        elif recurrent_type == 'GRU':\n",
    "            self.rnn = nn.GRU(embedding_dim, hidden_units, batch_first=True, bidirectional=bidirectional, num_layers=n_recurrent_layers)\n",
    "        self.fc1 = nn.Linear(hidden_units * 2 if bidirectional else hidden_units, 64)\n",
    "        self.relu = nn.ReLU()\n",
    "        self.fc2 = nn.Linear(64, 1)\n",
    "        self.sigmoid = nn.Sigmoid()\n",
    "        self.num_directions = 2 if bidirectional else 1\n",
    "        self.hidden_units = hidden_units\n",
    "        self.recurrent_type = recurrent_type\n",
    "\n",
    "    def forward(self, x):\n",
    "        batch_size, seq_len = x.shape\n",
    "        embedded = self.embedding(x)\n",
    "        #lstm also returns the cell hidden state\n",
    "        if self.recurrent_type == \"LSTM\":\n",
    "            output, (hidden, cell_hidden) = self.rnn(embedded)\n",
    "        else:\n",
    "            output, hidden = self.rnn(embedded)\n",
    "        # Concatenate the final hidden states from both directions if bidirectional\n",
    "        if self.rnn.bidirectional:\n",
    "            hidden = torch.cat((hidden[-2,:,:], hidden[-1,:,:]), dim=1)\n",
    "        else:\n",
    "            hidden = hidden[-1,:,:]\n",
    "        x = self.fc1(hidden)\n",
    "        x = self.relu(x)\n",
    "        x = self.fc2(x)\n",
    "        output = self.sigmoid(x)\n",
    "        return output\n",
    "\n",
    "embedding_dim = 20\n",
    "vocab_size = len(dataset.vocab)\n",
    "\n",
    "# preprocessing has already been done\n",
    "rnn_type = 'LSTM'\n",
    "model = RNNModel(vocab_size, embedding_dim, 64, recurrent_type=rnn_type, n_recurrent_layers=1, bidirectional=True)\n",
    "model"
   ]
  },
  {
   "cell_type": "code",
   "execution_count": 14,
   "metadata": {},
   "outputs": [
    {
     "name": "stdout",
     "output_type": "stream",
     "text": [
      "Using cuda for training\n"
     ]
    }
   ],
   "source": [
    "device = torch.device(\"cuda\" if torch.cuda.is_available() and not USE_ONLY_CPU else \"cpu\")\n",
    "print(f'Using {device} for training')"
   ]
  },
  {
   "cell_type": "code",
   "execution_count": 15,
   "metadata": {
    "slideshow": {
     "slide_type": "skip"
    }
   },
   "outputs": [
    {
     "name": "stdout",
     "output_type": "stream",
     "text": [
      "LSTM training started: 2024-01-27 20:13:31.571047\n"
     ]
    },
    {
     "data": {
      "application/json": {
       "ascii": false,
       "bar_format": null,
       "colour": null,
       "elapsed": 0.004590749740600586,
       "initial": 0,
       "n": 0,
       "ncols": null,
       "nrows": null,
       "postfix": null,
       "prefix": "",
       "rate": null,
       "total": 10,
       "unit": "it",
       "unit_divisor": 1000,
       "unit_scale": false
      },
      "application/vnd.jupyter.widget-view+json": {
       "model_id": "0064d0b77a10471aae8d1ade375b35aa",
       "version_major": 2,
       "version_minor": 0
      },
      "text/plain": [
       "  0%|          | 0/10 [00:00<?, ?it/s]"
      ]
     },
     "metadata": {},
     "output_type": "display_data"
    },
    {
     "name": "stdout",
     "output_type": "stream",
     "text": [
      "LSTM training finished 2024-01-27 20:15:09.094284 (duration: 0:01:37.523237)\n"
     ]
    }
   ],
   "source": [
    "NUM_EPOCHS = 10\n",
    "\n",
    "# Move the model weight to the desired device\n",
    "model.to(device)\n",
    "\n",
    "# Define the loss function\n",
    "criterion = nn.BCELoss()\n",
    "\n",
    "# Define the optimizer\n",
    "optimizer = torch.optim.Adam(model.parameters())\n",
    "\n",
    "# run training\n",
    "start_train = dt.datetime.now()\n",
    "print(f'{rnn_type} training started: {start_train}')\n",
    "history = train_for_epochs(device, NUM_EPOCHS, model, train_loader, val_loader, optimizer, criterion)\n",
    "finish_train = dt.datetime.now()\n",
    "print(f'{rnn_type} training finished {finish_train} (duration: {finish_train - start_train})')"
   ]
  },
  {
   "cell_type": "code",
   "execution_count": 16,
   "metadata": {
    "slideshow": {
     "slide_type": "subslide"
    }
   },
   "outputs": [
    {
     "name": "stdout",
     "output_type": "stream",
     "text": [
      "\n",
      "Test Acc. for LSTM after 10 epochs: 85.01%\n"
     ]
    }
   ],
   "source": [
    "## evaluate on the test data\n",
    "test_loss, test_accuracy = validate(device, model, test_loader, criterion)\n",
    "print(f'\\nTest Acc. for {rnn_type} after {NUM_EPOCHS} epochs: {test_accuracy:.2f}%')"
   ]
  },
  {
   "cell_type": "markdown",
   "metadata": {},
   "source": [
    "When comparing the training here to the previous training, we can see that the training accuracy is already much higher in the first epoch. Also, the training is nearly twice as fast. This is a good sign, obviously we reduced the complexity.\n",
    "\n",
    "However, when comparing the accuracy on the test set, we cannot observe an improvement (~87% in both cases). The text preprocessing seems not to have an important impact on the classification performance on this dataset. "
   ]
  },
  {
   "cell_type": "code",
   "execution_count": 17,
   "metadata": {},
   "outputs": [
    {
     "data": {
      "image/png": "[encoded data removed]",
      "text/plain": [
       "<Figure size 864x288 with 2 Axes>"
      ]
     },
     "metadata": {
      "needs_background": "light"
     },
     "output_type": "display_data"
    }
   ],
   "source": [
    "loss_train_hist = history['train']['loss']\n",
    "acc_train_hist = history['train']['accuracy']\n",
    "loss_val_hist = history['val']['loss']\n",
    "acc_val_hist = history['val']['accuracy']\n",
    "\n",
    "plot_history(loss_train_hist, acc_train_hist, loss_val_hist, acc_val_hist)\n",
    "\n",
    "plt.show()"
   ]
  },
  {
   "cell_type": "markdown",
   "metadata": {
    "slideshow": {
     "slide_type": "subslide"
    }
   },
   "source": [
    "Again, compare the training/validation accuracy here to your previous material! It depends a bit on whether you are training on a CPU or GPU and other parameters, but you should observe that the validation accuracy is slightly decreasing. This is a sign of overfitting, maybe the training should already be stopped after the 4th epoch. (accuracy is 85%).\n",
    "\n",
    "Please **note** once more that in order to improve a model, you should first have a look at what you can do in preprocessing - remember what we were even able to do with the simple RNN when using the appropriate sequence length!"
   ]
  },
  {
   "cell_type": "code",
   "execution_count": 18,
   "metadata": {},
   "outputs": [],
   "source": [
    "# if needed: save model\n",
    "if not os.path.exists('models'):\n",
    "    os.mkdir('models')\n",
    "\n",
    "torch.save(model, f'models/Bidir-{rnn_type}-{NUM_EPOCHS}ep-full-length-preprocessing.pt')"
   ]
  },
  {
   "cell_type": "markdown",
   "metadata": {},
   "source": [
    "### Stopping earlier\n",
    "Let's see what we get, if we do stop after 4 epochs"
   ]
  },
  {
   "cell_type": "code",
   "execution_count": 19,
   "metadata": {},
   "outputs": [
    {
     "name": "stdout",
     "output_type": "stream",
     "text": [
      "LSTM training after 0 epochs started for 4 epochs: 2024-01-27 20:15:11.087104\n"
     ]
    },
    {
     "data": {
      "application/json": {
       "ascii": false,
       "bar_format": null,
       "colour": null,
       "elapsed": 0.004036426544189453,
       "initial": 0,
       "n": 0,
       "ncols": null,
       "nrows": null,
       "postfix": null,
       "prefix": "",
       "rate": null,
       "total": 4,
       "unit": "it",
       "unit_divisor": 1000,
       "unit_scale": false
      },
      "application/vnd.jupyter.widget-view+json": {
       "model_id": "468d91ec3a174d04b3cbe1173462a104",
       "version_major": 2,
       "version_minor": 0
      },
      "text/plain": [
       "  0%|          | 0/4 [00:00<?, ?it/s]"
      ]
     },
     "metadata": {},
     "output_type": "display_data"
    },
    {
     "name": "stdout",
     "output_type": "stream",
     "text": [
      "LSTM training finished 2024-01-27 20:15:48.725173 (duration: 0:00:37.638069)\n"
     ]
    }
   ],
   "source": [
    "#re-instantiate\n",
    "rnn_type = 'LSTM'\n",
    "model = RNNModel(vocab_size, embedding_dim, 64, recurrent_type=rnn_type, n_recurrent_layers=1, bidirectional=True)\n",
    "total_epochs = 0\n",
    "\n",
    "NUM_EPOCHS = 4\n",
    "\n",
    "# Move the model weight to the desired device\n",
    "model.to(device)\n",
    "\n",
    "# Define the loss function\n",
    "criterion = nn.BCELoss()\n",
    "\n",
    "# Define the optimizer\n",
    "optimizer = torch.optim.Adam(model.parameters())\n",
    "\n",
    "# run training\n",
    "start_train = dt.datetime.now()\n",
    "print(f'{rnn_type} training after {total_epochs} epochs started for {NUM_EPOCHS} epochs: {start_train}')\n",
    "history = train_for_epochs(device, NUM_EPOCHS, model, train_loader, val_loader, optimizer, criterion)\n",
    "finish_train = dt.datetime.now()\n",
    "total_epochs += NUM_EPOCHS\n",
    "print(f'{rnn_type} training finished {finish_train} (duration: {finish_train - start_train})')"
   ]
  },
  {
   "cell_type": "code",
   "execution_count": 20,
   "metadata": {},
   "outputs": [
    {
     "name": "stdout",
     "output_type": "stream",
     "text": [
      "\n",
      "Test Acc. for LSTM after 4 epochs: 85.16%\n"
     ]
    }
   ],
   "source": [
    "## evaluate on the test data\n",
    "test_loss, test_accuracy = validate(device, model, test_loader, criterion)\n",
    "print(f'\\nTest Acc. for {rnn_type} after {total_epochs} epochs: {test_accuracy:.2f}%')"
   ]
  },
  {
   "cell_type": "markdown",
   "metadata": {},
   "source": [
    "So, the additional training does seem to have improved the model and early stopping does not seem warranted. Let us try two more epochs and continue the process, until we are satisfied."
   ]
  },
  {
   "cell_type": "code",
   "execution_count": 21,
   "metadata": {},
   "outputs": [
    {
     "name": "stdout",
     "output_type": "stream",
     "text": [
      "LSTM training after 4 epochs started for 2 epochs: 2024-01-27 20:15:50.679514\n"
     ]
    },
    {
     "data": {
      "application/json": {
       "ascii": false,
       "bar_format": null,
       "colour": null,
       "elapsed": 0.003998517990112305,
       "initial": 0,
       "n": 0,
       "ncols": null,
       "nrows": null,
       "postfix": null,
       "prefix": "",
       "rate": null,
       "total": 2,
       "unit": "it",
       "unit_divisor": 1000,
       "unit_scale": false
      },
      "application/vnd.jupyter.widget-view+json": {
       "model_id": "02f749b1108646578d969b0155fb1e71",
       "version_major": 2,
       "version_minor": 0
      },
      "text/plain": [
       "  0%|          | 0/2 [00:00<?, ?it/s]"
      ]
     },
     "metadata": {},
     "output_type": "display_data"
    },
    {
     "name": "stdout",
     "output_type": "stream",
     "text": [
      "LSTM training finished 2024-01-27 20:16:09.019315 (duration: 0:00:18.339801)\n"
     ]
    }
   ],
   "source": [
    "NUM_EPOCHS = 2\n",
    "# run training\n",
    "start_train = dt.datetime.now()\n",
    "print(f'{rnn_type} training after {total_epochs} epochs started for {NUM_EPOCHS} epochs: {start_train}')\n",
    "history = train_for_epochs(device, NUM_EPOCHS, model, train_loader, val_loader, optimizer, criterion)\n",
    "finish_train = dt.datetime.now()\n",
    "total_epochs += NUM_EPOCHS\n",
    "print(f'{rnn_type} training finished {finish_train} (duration: {finish_train - start_train})')"
   ]
  },
  {
   "cell_type": "code",
   "execution_count": 22,
   "metadata": {},
   "outputs": [
    {
     "name": "stdout",
     "output_type": "stream",
     "text": [
      "\n",
      "Test Acc. for LSTM after 6 epochs: 86.28%\n"
     ]
    }
   ],
   "source": [
    "## evaluate on the test data\n",
    "test_loss, test_accuracy = validate(device, model, test_loader, criterion)\n",
    "print(f'\\nTest Acc. for {rnn_type} after {total_epochs} epochs: {test_accuracy:.2f}%')"
   ]
  },
  {
   "cell_type": "markdown",
   "metadata": {},
   "source": [
    "So, it would now make sense to *automatically check*, whether we are still improving and formulate and implement a *criterion* for early stopping. Also, it would make sense to always save the model which up until the point in question performed best on the test set ..."
   ]
  }
 ],
 "metadata": {
  "kernelspec": {
   "display_name": "Python 3 (ipykernel)",
   "language": "python",
   "name": "python3"
  },
  "language_info": {
   "codemirror_mode": {
    "name": "ipython",
    "version": 3
   },
   "file_extension": ".py",
   "mimetype": "text/x-python",
   "name": "python",
   "nbconvert_exporter": "python",
   "pygments_lexer": "ipython3",
   "version": "3.7.13"
  }
 },
 "nbformat": 4,
 "nbformat_minor": 4
}
