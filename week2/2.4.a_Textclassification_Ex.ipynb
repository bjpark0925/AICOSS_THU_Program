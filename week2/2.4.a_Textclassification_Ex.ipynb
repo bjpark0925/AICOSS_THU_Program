{
 "cells": [
  {
   "cell_type": "markdown",
   "metadata": {},
   "source": [
    "![Banner](./img/AI_Special_Program_Banner.jpg)"
   ]
  },
  {
   "cell_type": "markdown",
   "metadata": {},
   "source": [
    "# Exercises on text classification with Naive Bayes\n",
    "---"
   ]
  },
  {
   "cell_type": "markdown",
   "metadata": {},
   "source": [
    "<h2 style=\"color:blue\">Task 1 - Theory</h2>"
   ]
  },
  {
   "cell_type": "markdown",
   "metadata": {},
   "source": [
    "Read [Sebastian Raschka's article](http://sebastianraschka.com/Articles/2014_naive_bayes_1.html) about the Naive Bayes method and answer the following questions:\n",
    "1. Why is *additional smoothing* helpful? What is this method called in our theory section?\n",
    "2. What is meant by the term *stop word*?\n",
    "3. Why is the *Multi-variate Bernoulli Naive Bayes Method* suitable for spam detection?"
   ]
  },
  {
   "cell_type": "markdown",
   "metadata": {},
   "source": [
    "<h3 style=\"color:blue\">1.1 - Why is <em>additional smoothing</em> helpful?</h3>"
   ]
  },
  {
   "cell_type": "markdown",
   "metadata": {},
   "source": [
    "> Your solution"
   ]
  },
  {
   "cell_type": "markdown",
   "metadata": {},
   "source": [
    "모델이 훈련 데이터에서 본 적이 없는 단어에 확률을 부여하기 위해 smoothing을 사용한다.Laplace Smoothing은 다항 분포에서 0이 아닌 확률을 가진 모든 데이터에 작은 값을 더해주는 방법이다. 이렇게 하면 모든 데이터 대해 0이 아닌 확률을 갖게 되고, 새로운 데이터에서 나타날 수 있는 확률이 0이 되는 것을 방지할 수 있다."
   ]
  },
  {
   "cell_type": "markdown",
   "metadata": {},
   "source": [
    "Additional smoothing, often applied using Laplace or Additive Smoothing in Naive Bayes models, is helpful to address the issue of zero probabilities. In text classification, certain words may not appear in all classes during training, leading to zero probabilities when calculating conditional probabilities. Smoothing helps avoid this problem by assigning a small, non-zero probability to unseen events. It makes the model more robust and prevents it from assigning zero probability to unseen features, improving its generalization to new data."
   ]
  },
  {
   "cell_type": "markdown",
   "metadata": {},
   "source": [
    "<h3 style=\"color:blue\">1.2 - What is meant by the term <em>Stop Word</em>?</h3>"
   ]
  },
  {
   "cell_type": "markdown",
   "metadata": {},
   "source": [
    "> Your solution"
   ]
  },
  {
   "cell_type": "markdown",
   "metadata": {},
   "source": [
    "stop word는 is, a, the같이 별 의미 없는 단어이다."
   ]
  },
  {
   "cell_type": "markdown",
   "metadata": {},
   "source": [
    "A stop word refers to a common word that is often removed from text data during the preprocessing stage in natural language processing (NLP) tasks, such as text classification. Stop words are frequently occurring words (e.g., \"the,\" \"and,\" \"is\") that are generally considered to carry little semantic meaning and may not contribute much to the understanding of the text. Removing stop words can help reduce the dimensionality of the data and focus the model on more meaningful terms, improving efficiency and potentially enhancing the model's ability to capture important patterns."
   ]
  },
  {
   "cell_type": "markdown",
   "metadata": {},
   "source": [
    "<h3 style=\"color:blue\">1.3 - Why is the <em>Multi-variate Bernoulli Naive Bayes Method</em> suitable for spam detection?</h3>"
   ]
  },
  {
   "cell_type": "markdown",
   "metadata": {},
   "source": [
    "> Your solution"
   ]
  },
  {
   "cell_type": "markdown",
   "metadata": {},
   "source": [
    "spam detection은 이진 분류이기 때문에 Multinomial Naive Bayes보다 Bernoulli Naive Bayes가 더 적합하다."
   ]
  },
  {
   "cell_type": "markdown",
   "metadata": {},
   "source": [
    "The Multivariate Bernoulli Naive Bayes method is suitable for spam detection because it models binary data, making it well-suited for situations where the presence or absence of features (words in the case of text classification) is important. In spam detection, the presence or absence of specific words or features in an email can be crucial for distinguishing between spam and non-spam messages. The Multivariate Bernoulli Naive Bayes model considers the presence or absence of each term independently, making it effective for binary feature representations. This approach is particularly relevant when using a binary term frequency representation (1 for the presence of a term, 0 for absence), making it a popular choice for spam filtering tasks."
   ]
  },
  {
   "cell_type": "markdown",
   "metadata": {},
   "source": [
    "<h2 style=\"color:blue\">Task 2 - Fake news classification</h2>"
   ]
  },
  {
   "cell_type": "markdown",
   "metadata": {},
   "source": [
    "<h3 style=\"color:blue\">Task 2.1: Model creation</h3>"
   ]
  },
  {
   "cell_type": "markdown",
   "metadata": {},
   "source": [
    "Perform a classification with the fake news data set `../data/fake_news` from [Kaggle](https://www.kaggle.com/c/fake-news/data). The aim is to generate a model that can be used to classify a news article as *reliable* or *unreliable*.\n",
    "\n",
    "If you have access to Packt Publishing, you can find more information on the task and NLP methods in general in [Chapter 8](https://subscription.packtpub.com/book/data/9781789955750/8) of the book [Python Machine Learning](https://github.com/rasbt/python-machine-learning-book) by [Sebastian Raschka](https://sebastianraschka.com/blog/index.html). Although no Naive Bayes model is used there, the steps of data understanding and data preparation are very similar. However, the task is very closely oriented to the lecture content and can therefore be mastered very well even without access to Raschka's book.\n",
    "\n",
    "#### Hints\n",
    "* Read the data correctly as *pandas Dataframe* and set the index correctly.\n",
    "* Think about which type of vectorization and which type of model could be suitable for the task.\n",
    "* Divide the data into training and test data, analogous to the lecture material.\n",
    "* Check the balance of the data. How many items are reliable, how many are unreliable? Can you ensure that this balance is the same in the training and test data?\n",
    "* Always evaluate the result taking into account the null-accuracy. This is the accuracy achieved by a model that stubbornly assumes the most frequent feature. Is your model better or worse than null-accuracy?\n",
    "* Evaluate your model using a confusion matrix."
   ]
  },
  {
   "cell_type": "markdown",
   "metadata": {},
   "source": [
    "#### Attributes of the data set:\n",
    "\n",
    "* id: unique id for a news article\n",
    "* title: the title of a news article\n",
    "* author: author of the news article\n",
    "* text: the text of the article; could be incomplete\n",
    "* label: a label that marks the article as potentially unreliable\n",
    "    - 0: reliable\n",
    "    - 1: unreliable"
   ]
  },
  {
   "cell_type": "markdown",
   "metadata": {},
   "source": [
    "#### Import of libraries"
   ]
  },
  {
   "cell_type": "code",
   "execution_count": 1,
   "metadata": {},
   "outputs": [],
   "source": [
    "import numpy as np\n",
    "import pandas as pd\n",
    "import sklearn.model_selection as ms\n",
    "import sklearn.feature_extraction.text as text\n",
    "import sklearn.naive_bayes as nb\n",
    "import matplotlib.pyplot as plt"
   ]
  },
  {
   "cell_type": "markdown",
   "metadata": {},
   "source": [
    "### Answer 2.1:"
   ]
  },
  {
   "cell_type": "code",
   "execution_count": 2,
   "metadata": {},
   "outputs": [],
   "source": [
    "# Your solution\n",
    "df = pd.read_csv(\"data/fake_news.csv\")"
   ]
  },
  {
   "cell_type": "code",
   "execution_count": 3,
   "metadata": {},
   "outputs": [
    {
     "data": {
      "text/html": [
       "<div>\n",
       "<style scoped>\n",
       "    .dataframe tbody tr th:only-of-type {\n",
       "        vertical-align: middle;\n",
       "    }\n",
       "\n",
       "    .dataframe tbody tr th {\n",
       "        vertical-align: top;\n",
       "    }\n",
       "\n",
       "    .dataframe thead th {\n",
       "        text-align: right;\n",
       "    }\n",
       "</style>\n",
       "<table border=\"1\" class=\"dataframe\">\n",
       "  <thead>\n",
       "    <tr style=\"text-align: right;\">\n",
       "      <th></th>\n",
       "      <th>id</th>\n",
       "      <th>title</th>\n",
       "      <th>author</th>\n",
       "      <th>text</th>\n",
       "      <th>label</th>\n",
       "    </tr>\n",
       "  </thead>\n",
       "  <tbody>\n",
       "    <tr>\n",
       "      <th>0</th>\n",
       "      <td>14649</td>\n",
       "      <td>See Real Voting System Rigged For Election The...</td>\n",
       "      <td>Activist Post</td>\n",
       "      <td>By Bev Harris A real-time demo of the most dev...</td>\n",
       "      <td>1</td>\n",
       "    </tr>\n",
       "    <tr>\n",
       "      <th>1</th>\n",
       "      <td>6473</td>\n",
       "      <td>Donald Trump Says He May Keep Parts of Obama H...</td>\n",
       "      <td>Reed Abelson</td>\n",
       "      <td>Just days after a national campaign in which h...</td>\n",
       "      <td>0</td>\n",
       "    </tr>\n",
       "    <tr>\n",
       "      <th>2</th>\n",
       "      <td>18736</td>\n",
       "      <td>Nunes ’Unmasking’ Report Vindicates Trump Clai...</td>\n",
       "      <td>Joel B. Pollak</td>\n",
       "      <td>House Intelligence Committee chair Rep. Devin ...</td>\n",
       "      <td>0</td>\n",
       "    </tr>\n",
       "    <tr>\n",
       "      <th>3</th>\n",
       "      <td>12347</td>\n",
       "      <td>Hillary’s Secret Is Out With What Camera Caugh...</td>\n",
       "      <td>Amanda Shea</td>\n",
       "      <td>Hillary’s Secret Is Out With What Camera Caugh...</td>\n",
       "      <td>1</td>\n",
       "    </tr>\n",
       "    <tr>\n",
       "      <th>4</th>\n",
       "      <td>17157</td>\n",
       "      <td>American Destroyer Fires Warning Shots at Iran...</td>\n",
       "      <td>Michael R. Gordon</td>\n",
       "      <td>WASHINGTON  —   In a vivid illustration of the...</td>\n",
       "      <td>0</td>\n",
       "    </tr>\n",
       "    <tr>\n",
       "      <th>...</th>\n",
       "      <td>...</td>\n",
       "      <td>...</td>\n",
       "      <td>...</td>\n",
       "      <td>...</td>\n",
       "      <td>...</td>\n",
       "    </tr>\n",
       "    <tr>\n",
       "      <th>4401</th>\n",
       "      <td>8227</td>\n",
       "      <td>James Comey’s Democrat Critics Now See Russian...</td>\n",
       "      <td>Aaron Klein</td>\n",
       "      <td>While former aides to President Obama and memb...</td>\n",
       "      <td>0</td>\n",
       "    </tr>\n",
       "    <tr>\n",
       "      <th>4402</th>\n",
       "      <td>5665</td>\n",
       "      <td>Trump promises $100 Billion to Black and Latin...</td>\n",
       "      <td>The European Union Times</td>\n",
       "      <td>\\nDonald Trump is appealing to the black voter...</td>\n",
       "      <td>1</td>\n",
       "    </tr>\n",
       "    <tr>\n",
       "      <th>4403</th>\n",
       "      <td>16480</td>\n",
       "      <td>Newsticker (969)</td>\n",
       "      <td>noreply@blogger.com (Der Postillon)</td>\n",
       "      <td>+++ Hat's immer noch drauf: Alter Drehorgelspi...</td>\n",
       "      <td>1</td>\n",
       "    </tr>\n",
       "    <tr>\n",
       "      <th>4404</th>\n",
       "      <td>13094</td>\n",
       "      <td>Obama’s Brother Malik Supports Trump AND Wants...</td>\n",
       "      <td>Aaron Kesel</td>\n",
       "      <td>We Are Change \\nObama’s brother from Kenya, Ma...</td>\n",
       "      <td>1</td>\n",
       "    </tr>\n",
       "    <tr>\n",
       "      <th>4405</th>\n",
       "      <td>8416</td>\n",
       "      <td>Putting More Women on a Path to Political Powe...</td>\n",
       "      <td>Alison Smale</td>\n",
       "      <td>BERLIN  —   About five decades since the surge...</td>\n",
       "      <td>0</td>\n",
       "    </tr>\n",
       "  </tbody>\n",
       "</table>\n",
       "<p>4406 rows × 5 columns</p>\n",
       "</div>"
      ],
      "text/plain": [
       "         id                                              title  \\\n",
       "0     14649  See Real Voting System Rigged For Election The...   \n",
       "1      6473  Donald Trump Says He May Keep Parts of Obama H...   \n",
       "2     18736  Nunes ’Unmasking’ Report Vindicates Trump Clai...   \n",
       "3     12347  Hillary’s Secret Is Out With What Camera Caugh...   \n",
       "4     17157  American Destroyer Fires Warning Shots at Iran...   \n",
       "...     ...                                                ...   \n",
       "4401   8227  James Comey’s Democrat Critics Now See Russian...   \n",
       "4402   5665  Trump promises $100 Billion to Black and Latin...   \n",
       "4403  16480                                   Newsticker (969)   \n",
       "4404  13094  Obama’s Brother Malik Supports Trump AND Wants...   \n",
       "4405   8416  Putting More Women on a Path to Political Powe...   \n",
       "\n",
       "                                   author  \\\n",
       "0                           Activist Post   \n",
       "1                            Reed Abelson   \n",
       "2                          Joel B. Pollak   \n",
       "3                             Amanda Shea   \n",
       "4                       Michael R. Gordon   \n",
       "...                                   ...   \n",
       "4401                          Aaron Klein   \n",
       "4402             The European Union Times   \n",
       "4403  noreply@blogger.com (Der Postillon)   \n",
       "4404                          Aaron Kesel   \n",
       "4405                         Alison Smale   \n",
       "\n",
       "                                                   text  label  \n",
       "0     By Bev Harris A real-time demo of the most dev...      1  \n",
       "1     Just days after a national campaign in which h...      0  \n",
       "2     House Intelligence Committee chair Rep. Devin ...      0  \n",
       "3     Hillary’s Secret Is Out With What Camera Caugh...      1  \n",
       "4     WASHINGTON  —   In a vivid illustration of the...      0  \n",
       "...                                                 ...    ...  \n",
       "4401  While former aides to President Obama and memb...      0  \n",
       "4402  \\nDonald Trump is appealing to the black voter...      1  \n",
       "4403  +++ Hat's immer noch drauf: Alter Drehorgelspi...      1  \n",
       "4404  We Are Change \\nObama’s brother from Kenya, Ma...      1  \n",
       "4405  BERLIN  —   About five decades since the surge...      0  \n",
       "\n",
       "[4406 rows x 5 columns]"
      ]
     },
     "execution_count": 3,
     "metadata": {},
     "output_type": "execute_result"
    }
   ],
   "source": [
    "df"
   ]
  },
  {
   "cell_type": "code",
   "execution_count": 4,
   "metadata": {},
   "outputs": [],
   "source": [
    "y = df['label']"
   ]
  },
  {
   "cell_type": "code",
   "execution_count": 5,
   "metadata": {},
   "outputs": [
    {
     "name": "stdout",
     "output_type": "stream",
     "text": [
      "In 4406 texts are 83026 different words\n"
     ]
    }
   ],
   "source": [
    "tf = text.TfidfVectorizer()  # tf-idf \n",
    "X_vec = tf.fit(df['text'])\n",
    "X = X_vec.transform(df['text'])\n",
    "# X = tf.fit_transform(df['Comment'])\n",
    "print(f'In {X.shape[0]} texts are {X.shape[1]} different words')"
   ]
  },
  {
   "cell_type": "code",
   "execution_count": 6,
   "metadata": {},
   "outputs": [
    {
     "data": {
      "text/plain": [
       "[('by', 10867),\n",
       " ('bev', 8268),\n",
       " ('harris', 30673),\n",
       " ('real', 54816),\n",
       " ('time', 67535),\n",
       " ('demo', 18325),\n",
       " ('of', 47331),\n",
       " ('the', 67004),\n",
       " ('most', 44331),\n",
       " ('devastating', 19040)]"
      ]
     },
     "execution_count": 6,
     "metadata": {},
     "output_type": "execute_result"
    }
   ],
   "source": [
    "# not so easy to get a partial dict ... \n",
    "list(X_vec.vocabulary_.items())[:10]"
   ]
  },
  {
   "cell_type": "code",
   "execution_count": 7,
   "metadata": {},
   "outputs": [
    {
     "name": "stdout",
     "output_type": "stream",
     "text": [
      "The feature matrix has ~0.42% not null entries.\n"
     ]
    }
   ],
   "source": [
    "print(\"The feature matrix has ~{0:.2f}% not null entries.\".format(\n",
    "          100 * X.nnz / float(X.shape[0] * X.shape[1])))"
   ]
  },
  {
   "cell_type": "code",
   "execution_count": 8,
   "metadata": {},
   "outputs": [],
   "source": [
    "X_train, X_test, y_train, y_test = ms.train_test_split(X, y, test_size=.2, random_state = 42)"
   ]
  },
  {
   "cell_type": "code",
   "execution_count": 9,
   "metadata": {},
   "outputs": [
    {
     "data": {
      "text/html": [
       "<style>#sk-container-id-1 {color: black;}#sk-container-id-1 pre{padding: 0;}#sk-container-id-1 div.sk-toggleable {background-color: white;}#sk-container-id-1 label.sk-toggleable__label {cursor: pointer;display: block;width: 100%;margin-bottom: 0;padding: 0.3em;box-sizing: border-box;text-align: center;}#sk-container-id-1 label.sk-toggleable__label-arrow:before {content: \"▸\";float: left;margin-right: 0.25em;color: #696969;}#sk-container-id-1 label.sk-toggleable__label-arrow:hover:before {color: black;}#sk-container-id-1 div.sk-estimator:hover label.sk-toggleable__label-arrow:before {color: black;}#sk-container-id-1 div.sk-toggleable__content {max-height: 0;max-width: 0;overflow: hidden;text-align: left;background-color: #f0f8ff;}#sk-container-id-1 div.sk-toggleable__content pre {margin: 0.2em;color: black;border-radius: 0.25em;background-color: #f0f8ff;}#sk-container-id-1 input.sk-toggleable__control:checked~div.sk-toggleable__content {max-height: 200px;max-width: 100%;overflow: auto;}#sk-container-id-1 input.sk-toggleable__control:checked~label.sk-toggleable__label-arrow:before {content: \"▾\";}#sk-container-id-1 div.sk-estimator input.sk-toggleable__control:checked~label.sk-toggleable__label {background-color: #d4ebff;}#sk-container-id-1 div.sk-label input.sk-toggleable__control:checked~label.sk-toggleable__label {background-color: #d4ebff;}#sk-container-id-1 input.sk-hidden--visually {border: 0;clip: rect(1px 1px 1px 1px);clip: rect(1px, 1px, 1px, 1px);height: 1px;margin: -1px;overflow: hidden;padding: 0;position: absolute;width: 1px;}#sk-container-id-1 div.sk-estimator {font-family: monospace;background-color: #f0f8ff;border: 1px dotted black;border-radius: 0.25em;box-sizing: border-box;margin-bottom: 0.5em;}#sk-container-id-1 div.sk-estimator:hover {background-color: #d4ebff;}#sk-container-id-1 div.sk-parallel-item::after {content: \"\";width: 100%;border-bottom: 1px solid gray;flex-grow: 1;}#sk-container-id-1 div.sk-label:hover label.sk-toggleable__label {background-color: #d4ebff;}#sk-container-id-1 div.sk-serial::before {content: \"\";position: absolute;border-left: 1px solid gray;box-sizing: border-box;top: 0;bottom: 0;left: 50%;z-index: 0;}#sk-container-id-1 div.sk-serial {display: flex;flex-direction: column;align-items: center;background-color: white;padding-right: 0.2em;padding-left: 0.2em;position: relative;}#sk-container-id-1 div.sk-item {position: relative;z-index: 1;}#sk-container-id-1 div.sk-parallel {display: flex;align-items: stretch;justify-content: center;background-color: white;position: relative;}#sk-container-id-1 div.sk-item::before, #sk-container-id-1 div.sk-parallel-item::before {content: \"\";position: absolute;border-left: 1px solid gray;box-sizing: border-box;top: 0;bottom: 0;left: 50%;z-index: -1;}#sk-container-id-1 div.sk-parallel-item {display: flex;flex-direction: column;z-index: 1;position: relative;background-color: white;}#sk-container-id-1 div.sk-parallel-item:first-child::after {align-self: flex-end;width: 50%;}#sk-container-id-1 div.sk-parallel-item:last-child::after {align-self: flex-start;width: 50%;}#sk-container-id-1 div.sk-parallel-item:only-child::after {width: 0;}#sk-container-id-1 div.sk-dashed-wrapped {border: 1px dashed gray;margin: 0 0.4em 0.5em 0.4em;box-sizing: border-box;padding-bottom: 0.4em;background-color: white;}#sk-container-id-1 div.sk-label label {font-family: monospace;font-weight: bold;display: inline-block;line-height: 1.2em;}#sk-container-id-1 div.sk-label-container {text-align: center;}#sk-container-id-1 div.sk-container {/* jupyter's `normalize.less` sets `[hidden] { display: none; }` but bootstrap.min.css set `[hidden] { display: none !important; }` so we also need the `!important` here to be able to override the default hidden behavior on the sphinx rendered scikit-learn.org. See: https://github.com/scikit-learn/scikit-learn/issues/21755 */display: inline-block !important;position: relative;}#sk-container-id-1 div.sk-text-repr-fallback {display: none;}</style><div id=\"sk-container-id-1\" class=\"sk-top-container\"><div class=\"sk-text-repr-fallback\"><pre>GridSearchCV(estimator=BernoulliNB(),\n",
       "             param_grid={&#x27;alpha&#x27;: array([1.00000000e-02, 1.20679264e-02, 1.45634848e-02, 1.75751062e-02,\n",
       "       2.12095089e-02, 2.55954792e-02, 3.08884360e-02, 3.72759372e-02,\n",
       "       4.49843267e-02, 5.42867544e-02, 6.55128557e-02, 7.90604321e-02,\n",
       "       9.54095476e-02, 1.15139540e-01, 1.38949549e-01, 1.67683294e-01,\n",
       "       2.02358965e-01, 2.44205309e-01, 2.94705170e-01, 3...\n",
       "       9.10298178e-01, 1.09854114e+00, 1.32571137e+00, 1.59985872e+00,\n",
       "       1.93069773e+00, 2.32995181e+00, 2.81176870e+00, 3.39322177e+00,\n",
       "       4.09491506e+00, 4.94171336e+00, 5.96362332e+00, 7.19685673e+00,\n",
       "       8.68511374e+00, 1.04811313e+01, 1.26485522e+01, 1.52641797e+01,\n",
       "       1.84206997e+01, 2.22299648e+01, 2.68269580e+01, 3.23745754e+01,\n",
       "       3.90693994e+01, 4.71486636e+01, 5.68986603e+01, 6.86648845e+01,\n",
       "       8.28642773e+01, 1.00000000e+02])})</pre><b>In a Jupyter environment, please rerun this cell to show the HTML representation or trust the notebook. <br />On GitHub, the HTML representation is unable to render, please try loading this page with nbviewer.org.</b></div><div class=\"sk-container\" hidden><div class=\"sk-item sk-dashed-wrapped\"><div class=\"sk-label-container\"><div class=\"sk-label sk-toggleable\"><input class=\"sk-toggleable__control sk-hidden--visually\" id=\"sk-estimator-id-1\" type=\"checkbox\" ><label for=\"sk-estimator-id-1\" class=\"sk-toggleable__label sk-toggleable__label-arrow\">GridSearchCV</label><div class=\"sk-toggleable__content\"><pre>GridSearchCV(estimator=BernoulliNB(),\n",
       "             param_grid={&#x27;alpha&#x27;: array([1.00000000e-02, 1.20679264e-02, 1.45634848e-02, 1.75751062e-02,\n",
       "       2.12095089e-02, 2.55954792e-02, 3.08884360e-02, 3.72759372e-02,\n",
       "       4.49843267e-02, 5.42867544e-02, 6.55128557e-02, 7.90604321e-02,\n",
       "       9.54095476e-02, 1.15139540e-01, 1.38949549e-01, 1.67683294e-01,\n",
       "       2.02358965e-01, 2.44205309e-01, 2.94705170e-01, 3...\n",
       "       9.10298178e-01, 1.09854114e+00, 1.32571137e+00, 1.59985872e+00,\n",
       "       1.93069773e+00, 2.32995181e+00, 2.81176870e+00, 3.39322177e+00,\n",
       "       4.09491506e+00, 4.94171336e+00, 5.96362332e+00, 7.19685673e+00,\n",
       "       8.68511374e+00, 1.04811313e+01, 1.26485522e+01, 1.52641797e+01,\n",
       "       1.84206997e+01, 2.22299648e+01, 2.68269580e+01, 3.23745754e+01,\n",
       "       3.90693994e+01, 4.71486636e+01, 5.68986603e+01, 6.86648845e+01,\n",
       "       8.28642773e+01, 1.00000000e+02])})</pre></div></div></div><div class=\"sk-parallel\"><div class=\"sk-parallel-item\"><div class=\"sk-item\"><div class=\"sk-label-container\"><div class=\"sk-label sk-toggleable\"><input class=\"sk-toggleable__control sk-hidden--visually\" id=\"sk-estimator-id-2\" type=\"checkbox\" ><label for=\"sk-estimator-id-2\" class=\"sk-toggleable__label sk-toggleable__label-arrow\">estimator: BernoulliNB</label><div class=\"sk-toggleable__content\"><pre>BernoulliNB()</pre></div></div></div><div class=\"sk-serial\"><div class=\"sk-item\"><div class=\"sk-estimator sk-toggleable\"><input class=\"sk-toggleable__control sk-hidden--visually\" id=\"sk-estimator-id-3\" type=\"checkbox\" ><label for=\"sk-estimator-id-3\" class=\"sk-toggleable__label sk-toggleable__label-arrow\">BernoulliNB</label><div class=\"sk-toggleable__content\"><pre>BernoulliNB()</pre></div></div></div></div></div></div></div></div></div></div>"
      ],
      "text/plain": [
       "GridSearchCV(estimator=BernoulliNB(),\n",
       "             param_grid={'alpha': array([1.00000000e-02, 1.20679264e-02, 1.45634848e-02, 1.75751062e-02,\n",
       "       2.12095089e-02, 2.55954792e-02, 3.08884360e-02, 3.72759372e-02,\n",
       "       4.49843267e-02, 5.42867544e-02, 6.55128557e-02, 7.90604321e-02,\n",
       "       9.54095476e-02, 1.15139540e-01, 1.38949549e-01, 1.67683294e-01,\n",
       "       2.02358965e-01, 2.44205309e-01, 2.94705170e-01, 3...\n",
       "       9.10298178e-01, 1.09854114e+00, 1.32571137e+00, 1.59985872e+00,\n",
       "       1.93069773e+00, 2.32995181e+00, 2.81176870e+00, 3.39322177e+00,\n",
       "       4.09491506e+00, 4.94171336e+00, 5.96362332e+00, 7.19685673e+00,\n",
       "       8.68511374e+00, 1.04811313e+01, 1.26485522e+01, 1.52641797e+01,\n",
       "       1.84206997e+01, 2.22299648e+01, 2.68269580e+01, 3.23745754e+01,\n",
       "       3.90693994e+01, 4.71486636e+01, 5.68986603e+01, 6.86648845e+01,\n",
       "       8.28642773e+01, 1.00000000e+02])})"
      ]
     },
     "execution_count": 9,
     "metadata": {},
     "output_type": "execute_result"
    }
   ],
   "source": [
    "bnb = ms.GridSearchCV(nb.BernoulliNB(), param_grid={'alpha':np.logspace(-2., 2., 50)})\n",
    "bnb.fit(X_train, y_train)"
   ]
  },
  {
   "cell_type": "code",
   "execution_count": 10,
   "metadata": {},
   "outputs": [
    {
     "name": "stdout",
     "output_type": "stream",
     "text": [
      "The hit rate is around 82.88%\n"
     ]
    }
   ],
   "source": [
    "print(f'The hit rate is around {round(100*bnb.score(X_test, y_test),2)}%')"
   ]
  },
  {
   "cell_type": "code",
   "execution_count": 29,
   "metadata": {},
   "outputs": [
    {
     "data": {
      "text/plain": [
       "label\n",
       "0    2533\n",
       "1    1873\n",
       "Name: count, dtype: int64"
      ]
     },
     "execution_count": 29,
     "metadata": {},
     "output_type": "execute_result"
    }
   ],
   "source": [
    "y.value_counts()"
   ]
  },
  {
   "cell_type": "code",
   "execution_count": 32,
   "metadata": {},
   "outputs": [
    {
     "name": "stdout",
     "output_type": "stream",
     "text": [
      "null accuracy: 0.5748978665456196\n"
     ]
    }
   ],
   "source": [
    "print('null accuracy:', y.value_counts()[0]/y.value_counts().sum())"
   ]
  },
  {
   "cell_type": "code",
   "execution_count": 17,
   "metadata": {},
   "outputs": [
    {
     "data": {
      "image/png": "[encoded data removed]",
      "text/plain": [
       "<Figure size 640x480 with 2 Axes>"
      ]
     },
     "metadata": {},
     "output_type": "display_data"
    }
   ],
   "source": [
    "from sklearn.metrics import ConfusionMatrixDisplay\n",
    "\n",
    "y_pred = bnb.predict(X_test)\n",
    "\n",
    "ConfusionMatrixDisplay.from_predictions(y_test,y_pred, display_labels=bnb.classes_, cmap='Blues')\n",
    "plt.show()"
   ]
  },
  {
   "cell_type": "markdown",
   "metadata": {},
   "source": [
    "<h3 style=\"color:blue\">Task 2.2: Gain insights into the model</h3>"
   ]
  },
  {
   "cell_type": "markdown",
   "metadata": {},
   "source": [
    "Do you trust your model? Find a way to display the words that influence the model the most in the classification.\n",
    "#### Hints:\n",
    "* At this point at the latest, you should think about the treatment of stop words.\n",
    "* The conditional probabilities of the Naive Bayes model (*coefficients*) provide a good indication of the influence of words. Take a closer look at the attribute `feature_log_prob_` in the scikit-learn [documentation](https://scikit-learn.org/stable/modules/generated/sklearn.naive_bayes.MultinomialNB.html#sklearn.naive_bayes.MultinomialNB).\n",
    "* The `get_feature_names()` method of the Tfidf object is also helpful. This can be used to retrieve the vectorized words in plain text.\n",
    "* Interpret your results!"
   ]
  },
  {
   "cell_type": "markdown",
   "metadata": {},
   "source": [
    "### Answer 2.2:"
   ]
  },
  {
   "cell_type": "code",
   "execution_count": null,
   "metadata": {},
   "outputs": [],
   "source": [
    "# Your solution "
   ]
  },
  {
   "cell_type": "code",
   "execution_count": 16,
   "metadata": {},
   "outputs": [
    {
     "name": "stdout",
     "output_type": "stream",
     "text": [
      "Words with fake connotations: \n",
      " ['the' 'to' 'of' 'in' 'and' 'is' 'on' 'that' 'for' 'it' 'by' 'this' 'with'\n",
      " 'as' 'are' 'from' 'be' 'at' 'have' 'not' 'has' 'an' 'was' 'but' 'they'\n",
      " 'who' 'or' 'all' 'their']\n"
     ]
    }
   ],
   "source": [
    "fake_class_prob_sorted = bnb.best_estimator_.feature_log_prob_[1, :].argsort()\n",
    "\n",
    "word_list_fake = np.take(X_vec.get_feature_names_out(), fake_class_prob_sorted[:-30:-1])\n",
    "\n",
    "print(f'Words with fake connotations: \\n {word_list_fake}')"
   ]
  },
  {
   "cell_type": "code",
   "execution_count": 18,
   "metadata": {},
   "outputs": [
    {
     "name": "stdout",
     "output_type": "stream",
     "text": [
      "Words with fake connotations: \n",
      " ['the' 'of' 'and' 'to' 'in' 'on' 'that' 'for' 'is' 'with' 'it' 'as' 'at'\n",
      " 'by' 'was' 'from' 'an' 'be' 'have' 'not' 'said' 'has' 'this' 'but' 'he'\n",
      " 'who' 'are' 'they' 'about']\n"
     ]
    }
   ],
   "source": [
    "nfake_class_prob_sorted = bnb.best_estimator_.feature_log_prob_[0, :].argsort()\n",
    "\n",
    "word_list_nfake = np.take(X_vec.get_feature_names_out(), nfake_class_prob_sorted[:-30:-1])\n",
    "\n",
    "print(f'Words with fake connotations: \\n {word_list_nfake}')"
   ]
  },
  {
   "cell_type": "markdown",
   "metadata": {},
   "source": [
    "stop words가 너무 많다\n",
    "제거하면?"
   ]
  },
  {
   "cell_type": "code",
   "execution_count": 33,
   "metadata": {},
   "outputs": [
    {
     "name": "stdout",
     "output_type": "stream",
     "text": [
      "In 4406 texts are 82720 different words\n"
     ]
    }
   ],
   "source": [
    "tf = text.TfidfVectorizer(stop_words=\"english\")  # tf-idf \n",
    "X_vec = tf.fit(df['text'])\n",
    "X = X_vec.transform(df['text'])\n",
    "# X = tf.fit_transform(df['Comment'])\n",
    "print(f'In {X.shape[0]} texts are {X.shape[1]} different words')"
   ]
  },
  {
   "cell_type": "code",
   "execution_count": 34,
   "metadata": {},
   "outputs": [
    {
     "data": {
      "text/plain": [
       "[('bev', 8219),\n",
       " ('harris', 30563),\n",
       " ('real', 54616),\n",
       " ('time', 67281),\n",
       " ('demo', 18261),\n",
       " ('devastating', 18974),\n",
       " ('election', 21967),\n",
       " ('theft', 66809),\n",
       " ('mechanism', 42070),\n",
       " ('context', 15339)]"
      ]
     },
     "execution_count": 34,
     "metadata": {},
     "output_type": "execute_result"
    }
   ],
   "source": [
    "# not so easy to get a partial dict ... \n",
    "list(X_vec.vocabulary_.items())[:10]"
   ]
  },
  {
   "cell_type": "code",
   "execution_count": 35,
   "metadata": {},
   "outputs": [
    {
     "name": "stdout",
     "output_type": "stream",
     "text": [
      "The feature matrix has ~0.33% not null entries.\n"
     ]
    }
   ],
   "source": [
    "print(\"The feature matrix has ~{0:.2f}% not null entries.\".format(\n",
    "          100 * X.nnz / float(X.shape[0] * X.shape[1])))"
   ]
  },
  {
   "cell_type": "code",
   "execution_count": 36,
   "metadata": {},
   "outputs": [],
   "source": [
    "X_train, X_test, y_train, y_test = ms.train_test_split(X, y, test_size=.2, random_state = 42)"
   ]
  },
  {
   "cell_type": "code",
   "execution_count": 37,
   "metadata": {},
   "outputs": [
    {
     "data": {
      "text/html": [
       "<style>#sk-container-id-3 {color: black;}#sk-container-id-3 pre{padding: 0;}#sk-container-id-3 div.sk-toggleable {background-color: white;}#sk-container-id-3 label.sk-toggleable__label {cursor: pointer;display: block;width: 100%;margin-bottom: 0;padding: 0.3em;box-sizing: border-box;text-align: center;}#sk-container-id-3 label.sk-toggleable__label-arrow:before {content: \"▸\";float: left;margin-right: 0.25em;color: #696969;}#sk-container-id-3 label.sk-toggleable__label-arrow:hover:before {color: black;}#sk-container-id-3 div.sk-estimator:hover label.sk-toggleable__label-arrow:before {color: black;}#sk-container-id-3 div.sk-toggleable__content {max-height: 0;max-width: 0;overflow: hidden;text-align: left;background-color: #f0f8ff;}#sk-container-id-3 div.sk-toggleable__content pre {margin: 0.2em;color: black;border-radius: 0.25em;background-color: #f0f8ff;}#sk-container-id-3 input.sk-toggleable__control:checked~div.sk-toggleable__content {max-height: 200px;max-width: 100%;overflow: auto;}#sk-container-id-3 input.sk-toggleable__control:checked~label.sk-toggleable__label-arrow:before {content: \"▾\";}#sk-container-id-3 div.sk-estimator input.sk-toggleable__control:checked~label.sk-toggleable__label {background-color: #d4ebff;}#sk-container-id-3 div.sk-label input.sk-toggleable__control:checked~label.sk-toggleable__label {background-color: #d4ebff;}#sk-container-id-3 input.sk-hidden--visually {border: 0;clip: rect(1px 1px 1px 1px);clip: rect(1px, 1px, 1px, 1px);height: 1px;margin: -1px;overflow: hidden;padding: 0;position: absolute;width: 1px;}#sk-container-id-3 div.sk-estimator {font-family: monospace;background-color: #f0f8ff;border: 1px dotted black;border-radius: 0.25em;box-sizing: border-box;margin-bottom: 0.5em;}#sk-container-id-3 div.sk-estimator:hover {background-color: #d4ebff;}#sk-container-id-3 div.sk-parallel-item::after {content: \"\";width: 100%;border-bottom: 1px solid gray;flex-grow: 1;}#sk-container-id-3 div.sk-label:hover label.sk-toggleable__label {background-color: #d4ebff;}#sk-container-id-3 div.sk-serial::before {content: \"\";position: absolute;border-left: 1px solid gray;box-sizing: border-box;top: 0;bottom: 0;left: 50%;z-index: 0;}#sk-container-id-3 div.sk-serial {display: flex;flex-direction: column;align-items: center;background-color: white;padding-right: 0.2em;padding-left: 0.2em;position: relative;}#sk-container-id-3 div.sk-item {position: relative;z-index: 1;}#sk-container-id-3 div.sk-parallel {display: flex;align-items: stretch;justify-content: center;background-color: white;position: relative;}#sk-container-id-3 div.sk-item::before, #sk-container-id-3 div.sk-parallel-item::before {content: \"\";position: absolute;border-left: 1px solid gray;box-sizing: border-box;top: 0;bottom: 0;left: 50%;z-index: -1;}#sk-container-id-3 div.sk-parallel-item {display: flex;flex-direction: column;z-index: 1;position: relative;background-color: white;}#sk-container-id-3 div.sk-parallel-item:first-child::after {align-self: flex-end;width: 50%;}#sk-container-id-3 div.sk-parallel-item:last-child::after {align-self: flex-start;width: 50%;}#sk-container-id-3 div.sk-parallel-item:only-child::after {width: 0;}#sk-container-id-3 div.sk-dashed-wrapped {border: 1px dashed gray;margin: 0 0.4em 0.5em 0.4em;box-sizing: border-box;padding-bottom: 0.4em;background-color: white;}#sk-container-id-3 div.sk-label label {font-family: monospace;font-weight: bold;display: inline-block;line-height: 1.2em;}#sk-container-id-3 div.sk-label-container {text-align: center;}#sk-container-id-3 div.sk-container {/* jupyter's `normalize.less` sets `[hidden] { display: none; }` but bootstrap.min.css set `[hidden] { display: none !important; }` so we also need the `!important` here to be able to override the default hidden behavior on the sphinx rendered scikit-learn.org. See: https://github.com/scikit-learn/scikit-learn/issues/21755 */display: inline-block !important;position: relative;}#sk-container-id-3 div.sk-text-repr-fallback {display: none;}</style><div id=\"sk-container-id-3\" class=\"sk-top-container\"><div class=\"sk-text-repr-fallback\"><pre>GridSearchCV(estimator=BernoulliNB(),\n",
       "             param_grid={&#x27;alpha&#x27;: array([1.00000000e-02, 1.20679264e-02, 1.45634848e-02, 1.75751062e-02,\n",
       "       2.12095089e-02, 2.55954792e-02, 3.08884360e-02, 3.72759372e-02,\n",
       "       4.49843267e-02, 5.42867544e-02, 6.55128557e-02, 7.90604321e-02,\n",
       "       9.54095476e-02, 1.15139540e-01, 1.38949549e-01, 1.67683294e-01,\n",
       "       2.02358965e-01, 2.44205309e-01, 2.94705170e-01, 3...\n",
       "       9.10298178e-01, 1.09854114e+00, 1.32571137e+00, 1.59985872e+00,\n",
       "       1.93069773e+00, 2.32995181e+00, 2.81176870e+00, 3.39322177e+00,\n",
       "       4.09491506e+00, 4.94171336e+00, 5.96362332e+00, 7.19685673e+00,\n",
       "       8.68511374e+00, 1.04811313e+01, 1.26485522e+01, 1.52641797e+01,\n",
       "       1.84206997e+01, 2.22299648e+01, 2.68269580e+01, 3.23745754e+01,\n",
       "       3.90693994e+01, 4.71486636e+01, 5.68986603e+01, 6.86648845e+01,\n",
       "       8.28642773e+01, 1.00000000e+02])})</pre><b>In a Jupyter environment, please rerun this cell to show the HTML representation or trust the notebook. <br />On GitHub, the HTML representation is unable to render, please try loading this page with nbviewer.org.</b></div><div class=\"sk-container\" hidden><div class=\"sk-item sk-dashed-wrapped\"><div class=\"sk-label-container\"><div class=\"sk-label sk-toggleable\"><input class=\"sk-toggleable__control sk-hidden--visually\" id=\"sk-estimator-id-7\" type=\"checkbox\" ><label for=\"sk-estimator-id-7\" class=\"sk-toggleable__label sk-toggleable__label-arrow\">GridSearchCV</label><div class=\"sk-toggleable__content\"><pre>GridSearchCV(estimator=BernoulliNB(),\n",
       "             param_grid={&#x27;alpha&#x27;: array([1.00000000e-02, 1.20679264e-02, 1.45634848e-02, 1.75751062e-02,\n",
       "       2.12095089e-02, 2.55954792e-02, 3.08884360e-02, 3.72759372e-02,\n",
       "       4.49843267e-02, 5.42867544e-02, 6.55128557e-02, 7.90604321e-02,\n",
       "       9.54095476e-02, 1.15139540e-01, 1.38949549e-01, 1.67683294e-01,\n",
       "       2.02358965e-01, 2.44205309e-01, 2.94705170e-01, 3...\n",
       "       9.10298178e-01, 1.09854114e+00, 1.32571137e+00, 1.59985872e+00,\n",
       "       1.93069773e+00, 2.32995181e+00, 2.81176870e+00, 3.39322177e+00,\n",
       "       4.09491506e+00, 4.94171336e+00, 5.96362332e+00, 7.19685673e+00,\n",
       "       8.68511374e+00, 1.04811313e+01, 1.26485522e+01, 1.52641797e+01,\n",
       "       1.84206997e+01, 2.22299648e+01, 2.68269580e+01, 3.23745754e+01,\n",
       "       3.90693994e+01, 4.71486636e+01, 5.68986603e+01, 6.86648845e+01,\n",
       "       8.28642773e+01, 1.00000000e+02])})</pre></div></div></div><div class=\"sk-parallel\"><div class=\"sk-parallel-item\"><div class=\"sk-item\"><div class=\"sk-label-container\"><div class=\"sk-label sk-toggleable\"><input class=\"sk-toggleable__control sk-hidden--visually\" id=\"sk-estimator-id-8\" type=\"checkbox\" ><label for=\"sk-estimator-id-8\" class=\"sk-toggleable__label sk-toggleable__label-arrow\">estimator: BernoulliNB</label><div class=\"sk-toggleable__content\"><pre>BernoulliNB()</pre></div></div></div><div class=\"sk-serial\"><div class=\"sk-item\"><div class=\"sk-estimator sk-toggleable\"><input class=\"sk-toggleable__control sk-hidden--visually\" id=\"sk-estimator-id-9\" type=\"checkbox\" ><label for=\"sk-estimator-id-9\" class=\"sk-toggleable__label sk-toggleable__label-arrow\">BernoulliNB</label><div class=\"sk-toggleable__content\"><pre>BernoulliNB()</pre></div></div></div></div></div></div></div></div></div></div>"
      ],
      "text/plain": [
       "GridSearchCV(estimator=BernoulliNB(),\n",
       "             param_grid={'alpha': array([1.00000000e-02, 1.20679264e-02, 1.45634848e-02, 1.75751062e-02,\n",
       "       2.12095089e-02, 2.55954792e-02, 3.08884360e-02, 3.72759372e-02,\n",
       "       4.49843267e-02, 5.42867544e-02, 6.55128557e-02, 7.90604321e-02,\n",
       "       9.54095476e-02, 1.15139540e-01, 1.38949549e-01, 1.67683294e-01,\n",
       "       2.02358965e-01, 2.44205309e-01, 2.94705170e-01, 3...\n",
       "       9.10298178e-01, 1.09854114e+00, 1.32571137e+00, 1.59985872e+00,\n",
       "       1.93069773e+00, 2.32995181e+00, 2.81176870e+00, 3.39322177e+00,\n",
       "       4.09491506e+00, 4.94171336e+00, 5.96362332e+00, 7.19685673e+00,\n",
       "       8.68511374e+00, 1.04811313e+01, 1.26485522e+01, 1.52641797e+01,\n",
       "       1.84206997e+01, 2.22299648e+01, 2.68269580e+01, 3.23745754e+01,\n",
       "       3.90693994e+01, 4.71486636e+01, 5.68986603e+01, 6.86648845e+01,\n",
       "       8.28642773e+01, 1.00000000e+02])})"
      ]
     },
     "execution_count": 37,
     "metadata": {},
     "output_type": "execute_result"
    }
   ],
   "source": [
    "bnb = ms.GridSearchCV(nb.BernoulliNB(), param_grid={'alpha':np.logspace(-2., 2., 50)})\n",
    "bnb.fit(X_train, y_train)"
   ]
  },
  {
   "cell_type": "code",
   "execution_count": 38,
   "metadata": {},
   "outputs": [
    {
     "name": "stdout",
     "output_type": "stream",
     "text": [
      "The hit rate is around 85.37%\n"
     ]
    }
   ],
   "source": [
    "print(f'The hit rate is around {round(100*bnb.score(X_test, y_test),2)}%')"
   ]
  },
  {
   "cell_type": "code",
   "execution_count": 39,
   "metadata": {},
   "outputs": [
    {
     "data": {
      "image/png": "[encoded data removed]",
      "text/plain": [
       "<Figure size 640x480 with 2 Axes>"
      ]
     },
     "metadata": {},
     "output_type": "display_data"
    }
   ],
   "source": [
    "from sklearn.metrics import ConfusionMatrixDisplay\n",
    "\n",
    "y_pred = bnb.predict(X_test)\n",
    "\n",
    "ConfusionMatrixDisplay.from_predictions(y_test,y_pred, display_labels=bnb.classes_, cmap='Blues')\n",
    "plt.show()"
   ]
  },
  {
   "cell_type": "code",
   "execution_count": 40,
   "metadata": {},
   "outputs": [
    {
     "name": "stdout",
     "output_type": "stream",
     "text": [
      "Words with fake connotations: \n",
      " ['2016' 'people' 'just' 'new' 'like' 'said' 'time' 'clinton' 'world'\n",
      " 'hillary' 'years' 'trump' 'state' 'make' 'president' 'media' 'way'\n",
      " 'government' 'year' 'right' 'election' 'american' 'know' 'news' 'don'\n",
      " 'day' 'states' 'did' 'going']\n"
     ]
    }
   ],
   "source": [
    "fake_class_prob_sorted = bnb.best_estimator_.feature_log_prob_[1, :].argsort()\n",
    "\n",
    "word_list_fake = np.take(X_vec.get_feature_names_out(), fake_class_prob_sorted[:-30:-1])\n",
    "\n",
    "print(f'Words with fake connotations: \\n {word_list_fake}')"
   ]
  },
  {
   "cell_type": "markdown",
   "metadata": {},
   "source": [
    "<h3 style=\"color:blue\"><b>Bonus task 2.3</b>: Authors instead of texts?</h3>"
   ]
  },
  {
   "cell_type": "markdown",
   "metadata": {},
   "source": [
    "Perhaps fake news can be identified by the author alone? Create a model that uses the *authors as features* instead of the texts.\n",
    "#### Hints:\n",
    "* Why does this work particularly well/bad? Tip: Pay attention to the distribution of authors. Support your assumption with suitable data or visualizations!\n",
    "* How useful do you think a model that only uses authors for classification is?"
   ]
  },
  {
   "cell_type": "markdown",
   "metadata": {},
   "source": [
    "### Answer 2.3:"
   ]
  },
  {
   "cell_type": "code",
   "execution_count": 41,
   "metadata": {},
   "outputs": [
    {
     "name": "stdout",
     "output_type": "stream",
     "text": [
      "In 4406 authors are 2126 different words\n"
     ]
    }
   ],
   "source": [
    "# Your solution\n",
    "tf = text.TfidfVectorizer(stop_words=\"english\")  # tf-idf \n",
    "X_vec = tf.fit(df['author'])\n",
    "X = X_vec.transform(df['author'])\n",
    "# X = tf.fit_transform(df['Comment'])\n",
    "print(f'In {X.shape[0]} authors are {X.shape[1]} different words')"
   ]
  },
  {
   "cell_type": "code",
   "execution_count": 42,
   "metadata": {},
   "outputs": [
    {
     "data": {
      "text/plain": [
       "[('activist', 22),\n",
       " ('post', 1510),\n",
       " ('reed', 1578),\n",
       " ('abelson', 17),\n",
       " ('joel', 953),\n",
       " ('pollak', 1503),\n",
       " ('amanda', 78),\n",
       " ('shea', 1747),\n",
       " ('michael', 1269),\n",
       " ('gordon', 737)]"
      ]
     },
     "execution_count": 42,
     "metadata": {},
     "output_type": "execute_result"
    }
   ],
   "source": [
    "# not so easy to get a partial dict ... \n",
    "list(X_vec.vocabulary_.items())[:10]"
   ]
  },
  {
   "cell_type": "code",
   "execution_count": 43,
   "metadata": {},
   "outputs": [
    {
     "name": "stdout",
     "output_type": "stream",
     "text": [
      "The feature matrix has ~0.11% not null entries.\n"
     ]
    }
   ],
   "source": [
    "print(\"The feature matrix has ~{0:.2f}% not null entries.\".format(\n",
    "          100 * X.nnz / float(X.shape[0] * X.shape[1])))"
   ]
  },
  {
   "cell_type": "code",
   "execution_count": 44,
   "metadata": {},
   "outputs": [],
   "source": [
    "X_train, X_test, y_train, y_test = ms.train_test_split(X, y, test_size=.2, random_state = 42)"
   ]
  },
  {
   "cell_type": "code",
   "execution_count": 46,
   "metadata": {},
   "outputs": [
    {
     "data": {
      "text/html": [
       "<style>#sk-container-id-4 {color: black;}#sk-container-id-4 pre{padding: 0;}#sk-container-id-4 div.sk-toggleable {background-color: white;}#sk-container-id-4 label.sk-toggleable__label {cursor: pointer;display: block;width: 100%;margin-bottom: 0;padding: 0.3em;box-sizing: border-box;text-align: center;}#sk-container-id-4 label.sk-toggleable__label-arrow:before {content: \"▸\";float: left;margin-right: 0.25em;color: #696969;}#sk-container-id-4 label.sk-toggleable__label-arrow:hover:before {color: black;}#sk-container-id-4 div.sk-estimator:hover label.sk-toggleable__label-arrow:before {color: black;}#sk-container-id-4 div.sk-toggleable__content {max-height: 0;max-width: 0;overflow: hidden;text-align: left;background-color: #f0f8ff;}#sk-container-id-4 div.sk-toggleable__content pre {margin: 0.2em;color: black;border-radius: 0.25em;background-color: #f0f8ff;}#sk-container-id-4 input.sk-toggleable__control:checked~div.sk-toggleable__content {max-height: 200px;max-width: 100%;overflow: auto;}#sk-container-id-4 input.sk-toggleable__control:checked~label.sk-toggleable__label-arrow:before {content: \"▾\";}#sk-container-id-4 div.sk-estimator input.sk-toggleable__control:checked~label.sk-toggleable__label {background-color: #d4ebff;}#sk-container-id-4 div.sk-label input.sk-toggleable__control:checked~label.sk-toggleable__label {background-color: #d4ebff;}#sk-container-id-4 input.sk-hidden--visually {border: 0;clip: rect(1px 1px 1px 1px);clip: rect(1px, 1px, 1px, 1px);height: 1px;margin: -1px;overflow: hidden;padding: 0;position: absolute;width: 1px;}#sk-container-id-4 div.sk-estimator {font-family: monospace;background-color: #f0f8ff;border: 1px dotted black;border-radius: 0.25em;box-sizing: border-box;margin-bottom: 0.5em;}#sk-container-id-4 div.sk-estimator:hover {background-color: #d4ebff;}#sk-container-id-4 div.sk-parallel-item::after {content: \"\";width: 100%;border-bottom: 1px solid gray;flex-grow: 1;}#sk-container-id-4 div.sk-label:hover label.sk-toggleable__label {background-color: #d4ebff;}#sk-container-id-4 div.sk-serial::before {content: \"\";position: absolute;border-left: 1px solid gray;box-sizing: border-box;top: 0;bottom: 0;left: 50%;z-index: 0;}#sk-container-id-4 div.sk-serial {display: flex;flex-direction: column;align-items: center;background-color: white;padding-right: 0.2em;padding-left: 0.2em;position: relative;}#sk-container-id-4 div.sk-item {position: relative;z-index: 1;}#sk-container-id-4 div.sk-parallel {display: flex;align-items: stretch;justify-content: center;background-color: white;position: relative;}#sk-container-id-4 div.sk-item::before, #sk-container-id-4 div.sk-parallel-item::before {content: \"\";position: absolute;border-left: 1px solid gray;box-sizing: border-box;top: 0;bottom: 0;left: 50%;z-index: -1;}#sk-container-id-4 div.sk-parallel-item {display: flex;flex-direction: column;z-index: 1;position: relative;background-color: white;}#sk-container-id-4 div.sk-parallel-item:first-child::after {align-self: flex-end;width: 50%;}#sk-container-id-4 div.sk-parallel-item:last-child::after {align-self: flex-start;width: 50%;}#sk-container-id-4 div.sk-parallel-item:only-child::after {width: 0;}#sk-container-id-4 div.sk-dashed-wrapped {border: 1px dashed gray;margin: 0 0.4em 0.5em 0.4em;box-sizing: border-box;padding-bottom: 0.4em;background-color: white;}#sk-container-id-4 div.sk-label label {font-family: monospace;font-weight: bold;display: inline-block;line-height: 1.2em;}#sk-container-id-4 div.sk-label-container {text-align: center;}#sk-container-id-4 div.sk-container {/* jupyter's `normalize.less` sets `[hidden] { display: none; }` but bootstrap.min.css set `[hidden] { display: none !important; }` so we also need the `!important` here to be able to override the default hidden behavior on the sphinx rendered scikit-learn.org. See: https://github.com/scikit-learn/scikit-learn/issues/21755 */display: inline-block !important;position: relative;}#sk-container-id-4 div.sk-text-repr-fallback {display: none;}</style><div id=\"sk-container-id-4\" class=\"sk-top-container\"><div class=\"sk-text-repr-fallback\"><pre>GridSearchCV(estimator=BernoulliNB(),\n",
       "             param_grid={&#x27;alpha&#x27;: array([1.00000000e-02, 1.20679264e-02, 1.45634848e-02, 1.75751062e-02,\n",
       "       2.12095089e-02, 2.55954792e-02, 3.08884360e-02, 3.72759372e-02,\n",
       "       4.49843267e-02, 5.42867544e-02, 6.55128557e-02, 7.90604321e-02,\n",
       "       9.54095476e-02, 1.15139540e-01, 1.38949549e-01, 1.67683294e-01,\n",
       "       2.02358965e-01, 2.44205309e-01, 2.94705170e-01, 3...\n",
       "       9.10298178e-01, 1.09854114e+00, 1.32571137e+00, 1.59985872e+00,\n",
       "       1.93069773e+00, 2.32995181e+00, 2.81176870e+00, 3.39322177e+00,\n",
       "       4.09491506e+00, 4.94171336e+00, 5.96362332e+00, 7.19685673e+00,\n",
       "       8.68511374e+00, 1.04811313e+01, 1.26485522e+01, 1.52641797e+01,\n",
       "       1.84206997e+01, 2.22299648e+01, 2.68269580e+01, 3.23745754e+01,\n",
       "       3.90693994e+01, 4.71486636e+01, 5.68986603e+01, 6.86648845e+01,\n",
       "       8.28642773e+01, 1.00000000e+02])})</pre><b>In a Jupyter environment, please rerun this cell to show the HTML representation or trust the notebook. <br />On GitHub, the HTML representation is unable to render, please try loading this page with nbviewer.org.</b></div><div class=\"sk-container\" hidden><div class=\"sk-item sk-dashed-wrapped\"><div class=\"sk-label-container\"><div class=\"sk-label sk-toggleable\"><input class=\"sk-toggleable__control sk-hidden--visually\" id=\"sk-estimator-id-10\" type=\"checkbox\" ><label for=\"sk-estimator-id-10\" class=\"sk-toggleable__label sk-toggleable__label-arrow\">GridSearchCV</label><div class=\"sk-toggleable__content\"><pre>GridSearchCV(estimator=BernoulliNB(),\n",
       "             param_grid={&#x27;alpha&#x27;: array([1.00000000e-02, 1.20679264e-02, 1.45634848e-02, 1.75751062e-02,\n",
       "       2.12095089e-02, 2.55954792e-02, 3.08884360e-02, 3.72759372e-02,\n",
       "       4.49843267e-02, 5.42867544e-02, 6.55128557e-02, 7.90604321e-02,\n",
       "       9.54095476e-02, 1.15139540e-01, 1.38949549e-01, 1.67683294e-01,\n",
       "       2.02358965e-01, 2.44205309e-01, 2.94705170e-01, 3...\n",
       "       9.10298178e-01, 1.09854114e+00, 1.32571137e+00, 1.59985872e+00,\n",
       "       1.93069773e+00, 2.32995181e+00, 2.81176870e+00, 3.39322177e+00,\n",
       "       4.09491506e+00, 4.94171336e+00, 5.96362332e+00, 7.19685673e+00,\n",
       "       8.68511374e+00, 1.04811313e+01, 1.26485522e+01, 1.52641797e+01,\n",
       "       1.84206997e+01, 2.22299648e+01, 2.68269580e+01, 3.23745754e+01,\n",
       "       3.90693994e+01, 4.71486636e+01, 5.68986603e+01, 6.86648845e+01,\n",
       "       8.28642773e+01, 1.00000000e+02])})</pre></div></div></div><div class=\"sk-parallel\"><div class=\"sk-parallel-item\"><div class=\"sk-item\"><div class=\"sk-label-container\"><div class=\"sk-label sk-toggleable\"><input class=\"sk-toggleable__control sk-hidden--visually\" id=\"sk-estimator-id-11\" type=\"checkbox\" ><label for=\"sk-estimator-id-11\" class=\"sk-toggleable__label sk-toggleable__label-arrow\">estimator: BernoulliNB</label><div class=\"sk-toggleable__content\"><pre>BernoulliNB()</pre></div></div></div><div class=\"sk-serial\"><div class=\"sk-item\"><div class=\"sk-estimator sk-toggleable\"><input class=\"sk-toggleable__control sk-hidden--visually\" id=\"sk-estimator-id-12\" type=\"checkbox\" ><label for=\"sk-estimator-id-12\" class=\"sk-toggleable__label sk-toggleable__label-arrow\">BernoulliNB</label><div class=\"sk-toggleable__content\"><pre>BernoulliNB()</pre></div></div></div></div></div></div></div></div></div></div>"
      ],
      "text/plain": [
       "GridSearchCV(estimator=BernoulliNB(),\n",
       "             param_grid={'alpha': array([1.00000000e-02, 1.20679264e-02, 1.45634848e-02, 1.75751062e-02,\n",
       "       2.12095089e-02, 2.55954792e-02, 3.08884360e-02, 3.72759372e-02,\n",
       "       4.49843267e-02, 5.42867544e-02, 6.55128557e-02, 7.90604321e-02,\n",
       "       9.54095476e-02, 1.15139540e-01, 1.38949549e-01, 1.67683294e-01,\n",
       "       2.02358965e-01, 2.44205309e-01, 2.94705170e-01, 3...\n",
       "       9.10298178e-01, 1.09854114e+00, 1.32571137e+00, 1.59985872e+00,\n",
       "       1.93069773e+00, 2.32995181e+00, 2.81176870e+00, 3.39322177e+00,\n",
       "       4.09491506e+00, 4.94171336e+00, 5.96362332e+00, 7.19685673e+00,\n",
       "       8.68511374e+00, 1.04811313e+01, 1.26485522e+01, 1.52641797e+01,\n",
       "       1.84206997e+01, 2.22299648e+01, 2.68269580e+01, 3.23745754e+01,\n",
       "       3.90693994e+01, 4.71486636e+01, 5.68986603e+01, 6.86648845e+01,\n",
       "       8.28642773e+01, 1.00000000e+02])})"
      ]
     },
     "execution_count": 46,
     "metadata": {},
     "output_type": "execute_result"
    }
   ],
   "source": [
    "bnb = ms.GridSearchCV(nb.BernoulliNB(), param_grid={'alpha':np.logspace(-2., 2., 50)})\n",
    "bnb.fit(X_train, y_train)"
   ]
  },
  {
   "cell_type": "code",
   "execution_count": 47,
   "metadata": {},
   "outputs": [
    {
     "name": "stdout",
     "output_type": "stream",
     "text": [
      "The hit rate is around 93.2%\n"
     ]
    }
   ],
   "source": [
    "print(f'The hit rate is around {round(100*bnb.score(X_test, y_test),2)}%')"
   ]
  },
  {
   "cell_type": "code",
   "execution_count": 48,
   "metadata": {},
   "outputs": [
    {
     "data": {
      "image/png": "[encoded data removed]",
      "text/plain": [
       "<Figure size 640x480 with 2 Axes>"
      ]
     },
     "metadata": {},
     "output_type": "display_data"
    }
   ],
   "source": [
    "from sklearn.metrics import ConfusionMatrixDisplay\n",
    "\n",
    "y_pred = bnb.predict(X_test)\n",
    "\n",
    "ConfusionMatrixDisplay.from_predictions(y_test,y_pred, display_labels=bnb.classes_, cmap='Blues')\n",
    "plt.show()"
   ]
  },
  {
   "cell_type": "code",
   "execution_count": 49,
   "metadata": {},
   "outputs": [
    {
     "name": "stdout",
     "output_type": "stream",
     "text": [
      "Words with fake connotations: \n",
      " ['com' 'noreply' 'blogger' 'admin' 'alex' 'lavine' 'eddy' 'author'\n",
      " 'starkman' 'staff' 'activist' 'gillian' 'post' 'editor' 'ansary' 'david'\n",
      " 'news' 'pakalert' 'times' 'european' 'union' 'jason' 'dr' 'michael'\n",
      " 'paul' 'portnoy' 'sheik' 'howard' 'iron']\n"
     ]
    }
   ],
   "source": [
    "fake_class_prob_sorted = bnb.best_estimator_.feature_log_prob_[1, :].argsort()\n",
    "\n",
    "word_list_fake = np.take(X_vec.get_feature_names_out(), fake_class_prob_sorted[:-30:-1])\n",
    "\n",
    "print(f'Words with fake connotations: \\n {word_list_fake}')"
   ]
  },
  {
   "cell_type": "markdown",
   "metadata": {},
   "source": [
    "stop word 제거 안한 버전"
   ]
  },
  {
   "cell_type": "code",
   "execution_count": 19,
   "metadata": {},
   "outputs": [
    {
     "name": "stdout",
     "output_type": "stream",
     "text": [
      "In 4406 authors are 2180 different words\n"
     ]
    }
   ],
   "source": [
    "# Your solution\n",
    "tf = text.TfidfVectorizer()  # tf-idf \n",
    "X_vec = tf.fit(df['author'])\n",
    "X = X_vec.transform(df['author'])\n",
    "# X = tf.fit_transform(df['Comment'])\n",
    "print(f'In {X.shape[0]} authors are {X.shape[1]} different words')"
   ]
  },
  {
   "cell_type": "code",
   "execution_count": 20,
   "metadata": {},
   "outputs": [
    {
     "data": {
      "text/plain": [
       "[('activist', 23),\n",
       " ('post', 1542),\n",
       " ('reed', 1611),\n",
       " ('abelson', 17),\n",
       " ('joel', 976),\n",
       " ('pollak', 1535),\n",
       " ('amanda', 80),\n",
       " ('shea', 1780),\n",
       " ('michael', 1293),\n",
       " ('gordon', 756)]"
      ]
     },
     "execution_count": 20,
     "metadata": {},
     "output_type": "execute_result"
    }
   ],
   "source": [
    "# not so easy to get a partial dict ... \n",
    "list(X_vec.vocabulary_.items())[:10]"
   ]
  },
  {
   "cell_type": "code",
   "execution_count": 21,
   "metadata": {},
   "outputs": [
    {
     "name": "stdout",
     "output_type": "stream",
     "text": [
      "The feature matrix has ~0.11% not null entries.\n"
     ]
    }
   ],
   "source": [
    "print(\"The feature matrix has ~{0:.2f}% not null entries.\".format(\n",
    "          100 * X.nnz / float(X.shape[0] * X.shape[1])))"
   ]
  },
  {
   "cell_type": "code",
   "execution_count": 22,
   "metadata": {},
   "outputs": [],
   "source": [
    "X_train, X_test, y_train, y_test = ms.train_test_split(X, y, test_size=.2, random_state = 42)"
   ]
  },
  {
   "cell_type": "code",
   "execution_count": 23,
   "metadata": {},
   "outputs": [
    {
     "data": {
      "text/html": [
       "<style>#sk-container-id-2 {color: black;}#sk-container-id-2 pre{padding: 0;}#sk-container-id-2 div.sk-toggleable {background-color: white;}#sk-container-id-2 label.sk-toggleable__label {cursor: pointer;display: block;width: 100%;margin-bottom: 0;padding: 0.3em;box-sizing: border-box;text-align: center;}#sk-container-id-2 label.sk-toggleable__label-arrow:before {content: \"▸\";float: left;margin-right: 0.25em;color: #696969;}#sk-container-id-2 label.sk-toggleable__label-arrow:hover:before {color: black;}#sk-container-id-2 div.sk-estimator:hover label.sk-toggleable__label-arrow:before {color: black;}#sk-container-id-2 div.sk-toggleable__content {max-height: 0;max-width: 0;overflow: hidden;text-align: left;background-color: #f0f8ff;}#sk-container-id-2 div.sk-toggleable__content pre {margin: 0.2em;color: black;border-radius: 0.25em;background-color: #f0f8ff;}#sk-container-id-2 input.sk-toggleable__control:checked~div.sk-toggleable__content {max-height: 200px;max-width: 100%;overflow: auto;}#sk-container-id-2 input.sk-toggleable__control:checked~label.sk-toggleable__label-arrow:before {content: \"▾\";}#sk-container-id-2 div.sk-estimator input.sk-toggleable__control:checked~label.sk-toggleable__label {background-color: #d4ebff;}#sk-container-id-2 div.sk-label input.sk-toggleable__control:checked~label.sk-toggleable__label {background-color: #d4ebff;}#sk-container-id-2 input.sk-hidden--visually {border: 0;clip: rect(1px 1px 1px 1px);clip: rect(1px, 1px, 1px, 1px);height: 1px;margin: -1px;overflow: hidden;padding: 0;position: absolute;width: 1px;}#sk-container-id-2 div.sk-estimator {font-family: monospace;background-color: #f0f8ff;border: 1px dotted black;border-radius: 0.25em;box-sizing: border-box;margin-bottom: 0.5em;}#sk-container-id-2 div.sk-estimator:hover {background-color: #d4ebff;}#sk-container-id-2 div.sk-parallel-item::after {content: \"\";width: 100%;border-bottom: 1px solid gray;flex-grow: 1;}#sk-container-id-2 div.sk-label:hover label.sk-toggleable__label {background-color: #d4ebff;}#sk-container-id-2 div.sk-serial::before {content: \"\";position: absolute;border-left: 1px solid gray;box-sizing: border-box;top: 0;bottom: 0;left: 50%;z-index: 0;}#sk-container-id-2 div.sk-serial {display: flex;flex-direction: column;align-items: center;background-color: white;padding-right: 0.2em;padding-left: 0.2em;position: relative;}#sk-container-id-2 div.sk-item {position: relative;z-index: 1;}#sk-container-id-2 div.sk-parallel {display: flex;align-items: stretch;justify-content: center;background-color: white;position: relative;}#sk-container-id-2 div.sk-item::before, #sk-container-id-2 div.sk-parallel-item::before {content: \"\";position: absolute;border-left: 1px solid gray;box-sizing: border-box;top: 0;bottom: 0;left: 50%;z-index: -1;}#sk-container-id-2 div.sk-parallel-item {display: flex;flex-direction: column;z-index: 1;position: relative;background-color: white;}#sk-container-id-2 div.sk-parallel-item:first-child::after {align-self: flex-end;width: 50%;}#sk-container-id-2 div.sk-parallel-item:last-child::after {align-self: flex-start;width: 50%;}#sk-container-id-2 div.sk-parallel-item:only-child::after {width: 0;}#sk-container-id-2 div.sk-dashed-wrapped {border: 1px dashed gray;margin: 0 0.4em 0.5em 0.4em;box-sizing: border-box;padding-bottom: 0.4em;background-color: white;}#sk-container-id-2 div.sk-label label {font-family: monospace;font-weight: bold;display: inline-block;line-height: 1.2em;}#sk-container-id-2 div.sk-label-container {text-align: center;}#sk-container-id-2 div.sk-container {/* jupyter's `normalize.less` sets `[hidden] { display: none; }` but bootstrap.min.css set `[hidden] { display: none !important; }` so we also need the `!important` here to be able to override the default hidden behavior on the sphinx rendered scikit-learn.org. See: https://github.com/scikit-learn/scikit-learn/issues/21755 */display: inline-block !important;position: relative;}#sk-container-id-2 div.sk-text-repr-fallback {display: none;}</style><div id=\"sk-container-id-2\" class=\"sk-top-container\"><div class=\"sk-text-repr-fallback\"><pre>GridSearchCV(estimator=BernoulliNB(),\n",
       "             param_grid={&#x27;alpha&#x27;: array([1.00000000e-02, 1.20679264e-02, 1.45634848e-02, 1.75751062e-02,\n",
       "       2.12095089e-02, 2.55954792e-02, 3.08884360e-02, 3.72759372e-02,\n",
       "       4.49843267e-02, 5.42867544e-02, 6.55128557e-02, 7.90604321e-02,\n",
       "       9.54095476e-02, 1.15139540e-01, 1.38949549e-01, 1.67683294e-01,\n",
       "       2.02358965e-01, 2.44205309e-01, 2.94705170e-01, 3...\n",
       "       9.10298178e-01, 1.09854114e+00, 1.32571137e+00, 1.59985872e+00,\n",
       "       1.93069773e+00, 2.32995181e+00, 2.81176870e+00, 3.39322177e+00,\n",
       "       4.09491506e+00, 4.94171336e+00, 5.96362332e+00, 7.19685673e+00,\n",
       "       8.68511374e+00, 1.04811313e+01, 1.26485522e+01, 1.52641797e+01,\n",
       "       1.84206997e+01, 2.22299648e+01, 2.68269580e+01, 3.23745754e+01,\n",
       "       3.90693994e+01, 4.71486636e+01, 5.68986603e+01, 6.86648845e+01,\n",
       "       8.28642773e+01, 1.00000000e+02])})</pre><b>In a Jupyter environment, please rerun this cell to show the HTML representation or trust the notebook. <br />On GitHub, the HTML representation is unable to render, please try loading this page with nbviewer.org.</b></div><div class=\"sk-container\" hidden><div class=\"sk-item sk-dashed-wrapped\"><div class=\"sk-label-container\"><div class=\"sk-label sk-toggleable\"><input class=\"sk-toggleable__control sk-hidden--visually\" id=\"sk-estimator-id-4\" type=\"checkbox\" ><label for=\"sk-estimator-id-4\" class=\"sk-toggleable__label sk-toggleable__label-arrow\">GridSearchCV</label><div class=\"sk-toggleable__content\"><pre>GridSearchCV(estimator=BernoulliNB(),\n",
       "             param_grid={&#x27;alpha&#x27;: array([1.00000000e-02, 1.20679264e-02, 1.45634848e-02, 1.75751062e-02,\n",
       "       2.12095089e-02, 2.55954792e-02, 3.08884360e-02, 3.72759372e-02,\n",
       "       4.49843267e-02, 5.42867544e-02, 6.55128557e-02, 7.90604321e-02,\n",
       "       9.54095476e-02, 1.15139540e-01, 1.38949549e-01, 1.67683294e-01,\n",
       "       2.02358965e-01, 2.44205309e-01, 2.94705170e-01, 3...\n",
       "       9.10298178e-01, 1.09854114e+00, 1.32571137e+00, 1.59985872e+00,\n",
       "       1.93069773e+00, 2.32995181e+00, 2.81176870e+00, 3.39322177e+00,\n",
       "       4.09491506e+00, 4.94171336e+00, 5.96362332e+00, 7.19685673e+00,\n",
       "       8.68511374e+00, 1.04811313e+01, 1.26485522e+01, 1.52641797e+01,\n",
       "       1.84206997e+01, 2.22299648e+01, 2.68269580e+01, 3.23745754e+01,\n",
       "       3.90693994e+01, 4.71486636e+01, 5.68986603e+01, 6.86648845e+01,\n",
       "       8.28642773e+01, 1.00000000e+02])})</pre></div></div></div><div class=\"sk-parallel\"><div class=\"sk-parallel-item\"><div class=\"sk-item\"><div class=\"sk-label-container\"><div class=\"sk-label sk-toggleable\"><input class=\"sk-toggleable__control sk-hidden--visually\" id=\"sk-estimator-id-5\" type=\"checkbox\" ><label for=\"sk-estimator-id-5\" class=\"sk-toggleable__label sk-toggleable__label-arrow\">estimator: BernoulliNB</label><div class=\"sk-toggleable__content\"><pre>BernoulliNB()</pre></div></div></div><div class=\"sk-serial\"><div class=\"sk-item\"><div class=\"sk-estimator sk-toggleable\"><input class=\"sk-toggleable__control sk-hidden--visually\" id=\"sk-estimator-id-6\" type=\"checkbox\" ><label for=\"sk-estimator-id-6\" class=\"sk-toggleable__label sk-toggleable__label-arrow\">BernoulliNB</label><div class=\"sk-toggleable__content\"><pre>BernoulliNB()</pre></div></div></div></div></div></div></div></div></div></div>"
      ],
      "text/plain": [
       "GridSearchCV(estimator=BernoulliNB(),\n",
       "             param_grid={'alpha': array([1.00000000e-02, 1.20679264e-02, 1.45634848e-02, 1.75751062e-02,\n",
       "       2.12095089e-02, 2.55954792e-02, 3.08884360e-02, 3.72759372e-02,\n",
       "       4.49843267e-02, 5.42867544e-02, 6.55128557e-02, 7.90604321e-02,\n",
       "       9.54095476e-02, 1.15139540e-01, 1.38949549e-01, 1.67683294e-01,\n",
       "       2.02358965e-01, 2.44205309e-01, 2.94705170e-01, 3...\n",
       "       9.10298178e-01, 1.09854114e+00, 1.32571137e+00, 1.59985872e+00,\n",
       "       1.93069773e+00, 2.32995181e+00, 2.81176870e+00, 3.39322177e+00,\n",
       "       4.09491506e+00, 4.94171336e+00, 5.96362332e+00, 7.19685673e+00,\n",
       "       8.68511374e+00, 1.04811313e+01, 1.26485522e+01, 1.52641797e+01,\n",
       "       1.84206997e+01, 2.22299648e+01, 2.68269580e+01, 3.23745754e+01,\n",
       "       3.90693994e+01, 4.71486636e+01, 5.68986603e+01, 6.86648845e+01,\n",
       "       8.28642773e+01, 1.00000000e+02])})"
      ]
     },
     "execution_count": 23,
     "metadata": {},
     "output_type": "execute_result"
    }
   ],
   "source": [
    "bnb = ms.GridSearchCV(nb.BernoulliNB(), param_grid={'alpha':np.logspace(-2., 2., 50)})\n",
    "bnb.fit(X_train, y_train)"
   ]
  },
  {
   "cell_type": "code",
   "execution_count": 24,
   "metadata": {},
   "outputs": [
    {
     "name": "stdout",
     "output_type": "stream",
     "text": [
      "The hit rate is around 93.31%\n"
     ]
    }
   ],
   "source": [
    "print(f'The hit rate is around {round(100*bnb.score(X_test, y_test),2)}%')"
   ]
  },
  {
   "cell_type": "markdown",
   "metadata": {},
   "source": [
    "classification using text's hit rate was 82.88%"
   ]
  },
  {
   "cell_type": "code",
   "execution_count": 25,
   "metadata": {},
   "outputs": [
    {
     "data": {
      "image/png": "[encoded data removed]",
      "text/plain": [
       "<Figure size 640x480 with 2 Axes>"
      ]
     },
     "metadata": {},
     "output_type": "display_data"
    }
   ],
   "source": [
    "from sklearn.metrics import ConfusionMatrixDisplay\n",
    "\n",
    "# 테스트 데이터에 대한 예측\n",
    "y_pred = bnb.predict(X_test)\n",
    "\n",
    "ConfusionMatrixDisplay.from_predictions(y_test,y_pred, display_labels=bnb.classes_, cmap='Blues')\n",
    "plt.show()"
   ]
  },
  {
   "cell_type": "code",
   "execution_count": 26,
   "metadata": {},
   "outputs": [
    {
     "name": "stdout",
     "output_type": "stream",
     "text": [
      "Words with fake connotations: \n",
      " ['com' 'the' 'blogger' 'noreply' 'admin' 'alex' 'lavine' 'eddy' 'author'\n",
      " 'starkman' 'staff' 'activist' 'editor' 'post' 'ansary' 'gillian' 'david'\n",
      " 'pakalert' 'news' 'union' 'jason' 'times' 'european' 'dr' 'portnoy'\n",
      " 'sheik' 'howard' 'iron' 'michael']\n"
     ]
    }
   ],
   "source": [
    "fake_class_prob_sorted = bnb.best_estimator_.feature_log_prob_[1, :].argsort()\n",
    "\n",
    "word_list_fake = np.take(X_vec.get_feature_names_out(), fake_class_prob_sorted[:-30:-1])\n",
    "\n",
    "print(f'Words with fake connotations: \\n {word_list_fake}')"
   ]
  },
  {
   "cell_type": "code",
   "execution_count": 27,
   "metadata": {},
   "outputs": [
    {
     "name": "stdout",
     "output_type": "stream",
     "text": [
      "Words with fake connotations: \n",
      " ['and' 'michael' 'breitbart' 'john' 'charlie' 'pam' 'key' 'david'\n",
      " 'haberman' 'ben' 'ian' 'maggie' 'hudson' 'jerome' 'daniel' 'eric'\n",
      " 'richard' 'adam' 'warner' 'spiering' 'huston' 'todd' 'hayward' 'baker'\n",
      " 'james' 'hanchett' 'alan' 'thomas' 'kew']\n"
     ]
    }
   ],
   "source": [
    "nfake_class_prob_sorted = bnb.best_estimator_.feature_log_prob_[0, :].argsort()\n",
    "\n",
    "word_list_nfake = np.take(X_vec.get_feature_names_out(), nfake_class_prob_sorted[:-30:-1])\n",
    "\n",
    "print(f'Words with fake connotations: \\n {word_list_nfake}')"
   ]
  }
 ],
 "metadata": {
  "kernelspec": {
   "display_name": "Python 3 (ipykernel)",
   "language": "python",
   "name": "python3"
  },
  "language_info": {
   "codemirror_mode": {
    "name": "ipython",
    "version": 3
   },
   "file_extension": ".py",
   "mimetype": "text/x-python",
   "name": "python",
   "nbconvert_exporter": "python",
   "pygments_lexer": "ipython3",
   "version": "3.10.12"
  },
  "latex_envs": {
   "LaTeX_envs_menu_present": true,
   "autocomplete": true,
   "bibliofile": "biblio.bib",
   "cite_by": "apalike",
   "current_citInitial": 1,
   "eqLabelWithNumbers": true,
   "eqNumInitial": 1,
   "hotkeys": {
    "equation": "Ctrl-E",
    "itemize": "Ctrl-I"
   },
   "labels_anchors": false,
   "latex_user_defs": false,
   "report_style_numbering": false,
   "user_envs_cfg": false
  }
 },
 "nbformat": 4,
 "nbformat_minor": 4
}
