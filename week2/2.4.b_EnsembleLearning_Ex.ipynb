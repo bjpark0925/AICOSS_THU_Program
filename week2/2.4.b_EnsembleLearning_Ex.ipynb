{
 "cells": [
  {
   "cell_type": "markdown",
   "metadata": {},
   "source": [
    "![Banner](./img/AI_Special_Program_Banner.jpg)"
   ]
  },
  {
   "cell_type": "markdown",
   "metadata": {
    "slideshow": {
     "slide_type": "slide"
    }
   },
   "source": [
    "# Exercises for Ensemble Learning\n",
    "---\n",
    "The exercises are strongly oriented towards the lecture material and can often be solved with minor adaptations of the same."
   ]
  },
  {
   "cell_type": "markdown",
   "metadata": {
    "slideshow": {
     "slide_type": "subslide"
    }
   },
   "source": [
    "## Data preparation"
   ]
  },
  {
   "cell_type": "code",
   "execution_count": 1,
   "metadata": {},
   "outputs": [],
   "source": [
    "import matplotlib.pyplot as plt\n",
    "%matplotlib inline\n",
    "import pandas as pd\n",
    "import numpy as np"
   ]
  },
  {
   "cell_type": "markdown",
   "metadata": {},
   "source": [
    "In this exercise we want to deal with glass: [Glass Identification Data Set](http://archive.ics.uci.edu/ml/datasets/Glass+Identification). This is about the classification of different types of glass based on the oxide compounds."
   ]
  },
  {
   "cell_type": "code",
   "execution_count": 2,
   "metadata": {},
   "outputs": [
    {
     "data": {
      "text/html": [
       "<div>\n",
       "<style scoped>\n",
       "    .dataframe tbody tr th:only-of-type {\n",
       "        vertical-align: middle;\n",
       "    }\n",
       "\n",
       "    .dataframe tbody tr th {\n",
       "        vertical-align: top;\n",
       "    }\n",
       "\n",
       "    .dataframe thead th {\n",
       "        text-align: right;\n",
       "    }\n",
       "</style>\n",
       "<table border=\"1\" class=\"dataframe\">\n",
       "  <thead>\n",
       "    <tr style=\"text-align: right;\">\n",
       "      <th></th>\n",
       "      <th>Id</th>\n",
       "      <th>RI</th>\n",
       "      <th>Na</th>\n",
       "      <th>Mg</th>\n",
       "      <th>Al</th>\n",
       "      <th>Si</th>\n",
       "      <th>K</th>\n",
       "      <th>Ca</th>\n",
       "      <th>Ba</th>\n",
       "      <th>Fe</th>\n",
       "      <th>Target</th>\n",
       "    </tr>\n",
       "  </thead>\n",
       "  <tbody>\n",
       "    <tr>\n",
       "      <th>0</th>\n",
       "      <td>1</td>\n",
       "      <td>1.52101</td>\n",
       "      <td>13.64</td>\n",
       "      <td>4.49</td>\n",
       "      <td>1.10</td>\n",
       "      <td>71.78</td>\n",
       "      <td>0.06</td>\n",
       "      <td>8.75</td>\n",
       "      <td>0.0</td>\n",
       "      <td>0.0</td>\n",
       "      <td>1</td>\n",
       "    </tr>\n",
       "    <tr>\n",
       "      <th>1</th>\n",
       "      <td>2</td>\n",
       "      <td>1.51761</td>\n",
       "      <td>13.89</td>\n",
       "      <td>3.60</td>\n",
       "      <td>1.36</td>\n",
       "      <td>72.73</td>\n",
       "      <td>0.48</td>\n",
       "      <td>7.83</td>\n",
       "      <td>0.0</td>\n",
       "      <td>0.0</td>\n",
       "      <td>1</td>\n",
       "    </tr>\n",
       "    <tr>\n",
       "      <th>2</th>\n",
       "      <td>3</td>\n",
       "      <td>1.51618</td>\n",
       "      <td>13.53</td>\n",
       "      <td>3.55</td>\n",
       "      <td>1.54</td>\n",
       "      <td>72.99</td>\n",
       "      <td>0.39</td>\n",
       "      <td>7.78</td>\n",
       "      <td>0.0</td>\n",
       "      <td>0.0</td>\n",
       "      <td>1</td>\n",
       "    </tr>\n",
       "    <tr>\n",
       "      <th>3</th>\n",
       "      <td>4</td>\n",
       "      <td>1.51766</td>\n",
       "      <td>13.21</td>\n",
       "      <td>3.69</td>\n",
       "      <td>1.29</td>\n",
       "      <td>72.61</td>\n",
       "      <td>0.57</td>\n",
       "      <td>8.22</td>\n",
       "      <td>0.0</td>\n",
       "      <td>0.0</td>\n",
       "      <td>1</td>\n",
       "    </tr>\n",
       "    <tr>\n",
       "      <th>4</th>\n",
       "      <td>5</td>\n",
       "      <td>1.51742</td>\n",
       "      <td>13.27</td>\n",
       "      <td>3.62</td>\n",
       "      <td>1.24</td>\n",
       "      <td>73.08</td>\n",
       "      <td>0.55</td>\n",
       "      <td>8.07</td>\n",
       "      <td>0.0</td>\n",
       "      <td>0.0</td>\n",
       "      <td>1</td>\n",
       "    </tr>\n",
       "  </tbody>\n",
       "</table>\n",
       "</div>"
      ],
      "text/plain": [
       "   Id       RI     Na    Mg    Al     Si     K    Ca   Ba   Fe  Target\n",
       "0   1  1.52101  13.64  4.49  1.10  71.78  0.06  8.75  0.0  0.0       1\n",
       "1   2  1.51761  13.89  3.60  1.36  72.73  0.48  7.83  0.0  0.0       1\n",
       "2   3  1.51618  13.53  3.55  1.54  72.99  0.39  7.78  0.0  0.0       1\n",
       "3   4  1.51766  13.21  3.69  1.29  72.61  0.57  8.22  0.0  0.0       1\n",
       "4   5  1.51742  13.27  3.62  1.24  73.08  0.55  8.07  0.0  0.0       1"
      ]
     },
     "execution_count": 2,
     "metadata": {},
     "output_type": "execute_result"
    }
   ],
   "source": [
    "col_names = ['Id', 'RI', 'Na', 'Mg', 'Al', 'Si', 'K', 'Ca', 'Ba', 'Fe', 'Target']\n",
    "df = pd.read_csv('http://archive.ics.uci.edu/ml/machine-learning-databases/glass/glass.data', names=col_names)\n",
    "df.head()"
   ]
  },
  {
   "cell_type": "markdown",
   "metadata": {},
   "source": [
    "Remove the ID column (is only a surrogate key):"
   ]
  },
  {
   "cell_type": "code",
   "execution_count": 3,
   "metadata": {},
   "outputs": [],
   "source": [
    "df.drop('Id', axis=1, inplace=True)"
   ]
  },
  {
   "cell_type": "markdown",
   "metadata": {},
   "source": [
    "The data contains 7 different classes, which can be roughly divided into window glass and non-window glass. Since we want to consider a binary classification, we assign the superordinate categories accordingly:"
   ]
  },
  {
   "cell_type": "code",
   "execution_count": 4,
   "metadata": {},
   "outputs": [],
   "source": [
    "map_target = {1 : 0, # building_windows_float_processed\n",
    "              2 : 0, # building_windows_non_float_processed\n",
    "              3 : 0, # vehicle_windows_float_processed\n",
    "              4 : 0, # vehicle_windows_non_float_processed (none in this database)\n",
    "              5 : 1, # containers\n",
    "              6 : 1, # tableware\n",
    "              7 : 1} # headlamps"
   ]
  },
  {
   "cell_type": "code",
   "execution_count": 5,
   "metadata": {},
   "outputs": [],
   "source": [
    "df['Target'] = df['Target'].map(map_target)"
   ]
  },
  {
   "cell_type": "markdown",
   "metadata": {},
   "source": [
    "Derive the feature matrix `X` and label vector `y`:"
   ]
  },
  {
   "cell_type": "code",
   "execution_count": 6,
   "metadata": {},
   "outputs": [],
   "source": [
    "y = df.pop('Target')\n",
    "X = df.copy()"
   ]
  },
  {
   "cell_type": "markdown",
   "metadata": {},
   "source": [
    "Division of the data into training and test data. In addition, scaling of the data.\n",
    "\n",
    "**Note:** We do this exactly in this order to avoid *data leakage*. You can find more information on this in this [article by Jason Brownlee](https://machinelearningmastery.com/data-leakage-machine-learning/) and this [blog post by Sebastian Raschka](https://sebastianraschka.com/faq/docs/scale-training-test.html)."
   ]
  },
  {
   "cell_type": "code",
   "execution_count": 7,
   "metadata": {},
   "outputs": [],
   "source": [
    "from sklearn.preprocessing import StandardScaler\n",
    "from sklearn.model_selection import train_test_split # sklearn.cross_validation has been superseded\n",
    "\n",
    "X_train, X_test, y_train, y_test =\\\n",
    "       train_test_split(X, y, \n",
    "                        test_size=0.25, \n",
    "                        stratify=y,\n",
    "                        random_state=1)\n",
    "\n",
    "sc = StandardScaler()\n",
    "sc.fit(X_train)\n",
    "\n",
    "X_train_std = sc.transform(X_train)\n",
    "X_test_std = sc.transform(X_test)"
   ]
  },
  {
   "cell_type": "code",
   "execution_count": 8,
   "metadata": {},
   "outputs": [
    {
     "name": "stdout",
     "output_type": "stream",
     "text": [
      "There are 160 training data and 54 test data.\n"
     ]
    }
   ],
   "source": [
    "print(f'There are {X_train_std.shape[0]} training data and {X_test_std.shape[0]} test data.')"
   ]
  },
  {
   "cell_type": "markdown",
   "metadata": {
    "slideshow": {
     "slide_type": "subslide"
    }
   },
   "source": [
    "<h1 style=\"color:blue\">Exercises</h1>"
   ]
  },
  {
   "cell_type": "markdown",
   "metadata": {},
   "source": [
    "---"
   ]
  },
  {
   "cell_type": "markdown",
   "metadata": {
    "slideshow": {
     "slide_type": "subslide"
    }
   },
   "source": [
    "<h2 style=\"color:blue\">Task 1 - Select the most important features</h2>"
   ]
  },
  {
   "cell_type": "markdown",
   "metadata": {},
   "source": [
    "* Select the two most important features based on the `feature_importances_` of a decision tree\n",
    "* Use the configuration below for the decision tree\n",
    "* Which features have been selected?\n",
    "* List all features and their feature importances. Which features do not contribute to the classification?\n",
    "* Save the new feature matrices under `X_train_rel` and `X_test_rel` for further use"
   ]
  },
  {
   "cell_type": "code",
   "execution_count": 9,
   "metadata": {},
   "outputs": [],
   "source": [
    "from sklearn.tree import DecisionTreeClassifier\n",
    "\n",
    "clf_dt = DecisionTreeClassifier(max_depth=3, \n",
    "                                criterion='gini', \n",
    "                                random_state=0)"
   ]
  },
  {
   "cell_type": "code",
   "execution_count": 10,
   "metadata": {},
   "outputs": [
    {
     "data": {
      "text/plain": [
       "array([0.18325881, 0.05746668, 0.67371381, 0.01655588, 0.        ,\n",
       "       0.        , 0.        , 0.06900482, 0.        ])"
      ]
     },
     "execution_count": 10,
     "metadata": {},
     "output_type": "execute_result"
    }
   ],
   "source": [
    "# Your answer\n",
    "clf_dt.fit(X_train, y_train)\n",
    "\n",
    "clf_dt.feature_importances_"
   ]
  },
  {
   "cell_type": "code",
   "execution_count": 15,
   "metadata": {},
   "outputs": [
    {
     "data": {
      "text/plain": [
       "Mg    0.673714\n",
       "RI    0.183259\n",
       "Ba    0.069005\n",
       "Na    0.057467\n",
       "Al    0.016556\n",
       "Si    0.000000\n",
       "K     0.000000\n",
       "Ca    0.000000\n",
       "Fe    0.000000\n",
       "dtype: float64"
      ]
     },
     "execution_count": 15,
     "metadata": {},
     "output_type": "execute_result"
    }
   ],
   "source": [
    "ser = pd.Series(clf_dt.feature_importances_, index=X.columns)\n",
    "\n",
    "ser.sort_values(ascending=False)"
   ]
  },
  {
   "cell_type": "code",
   "execution_count": 16,
   "metadata": {},
   "outputs": [],
   "source": [
    "X_train_rel = X_train[['Mg', 'RI']]\n",
    "X_test_rel = X_test[['Mg', 'RI']]"
   ]
  },
  {
   "cell_type": "markdown",
   "metadata": {
    "slideshow": {
     "slide_type": "subslide"
    }
   },
   "source": [
    "<h2 style=\"color:blue\">Task 2 - Create and cross-validate a voting classifier</h2>"
   ]
  },
  {
   "cell_type": "markdown",
   "metadata": {},
   "source": [
    "1. Use the following base classifiers:\n",
    "    1. *Perceptron*, with a maximum of 50 iterations, a tolerance of $10^{-3}$ and `random_state=0`\n",
    "    2. [*Gaussian Naive Bayes*](https://scikit-learn.org/stable/modules/generated/sklearn.naive_bayes.GaussianNB.html) with the default settings\n",
    "    3. *Logistic regression* with the default settings (`random_state=0`)\n",
    "2. Use Hard Voting\n",
    "3. Since we are considering unevenly distributed classes here, you should use the [Balanced Accuracy](https://scikit-learn.org/stable/modules/model_evaluation.html#balanced-accuracy-score) and the F1 score as scoring criteria."
   ]
  },
  {
   "cell_type": "code",
   "execution_count": 17,
   "metadata": {},
   "outputs": [
    {
     "name": "stdout",
     "output_type": "stream",
     "text": [
      "10-fold cross validation:\n",
      "\n",
      "ROC AUC: 0.89 (+/- 0.10) [Multi Layer Perceptron]\n",
      "ROC AUC: 0.96 (+/- 0.07) [GaussianNB]\n",
      "ROC AUC: 0.96 (+/- 0.06) [Logistic Regression]\n"
     ]
    }
   ],
   "source": [
    "# Your answer\n",
    "from sklearn.neural_network import MLPClassifier\n",
    "from sklearn.naive_bayes import GaussianNB\n",
    "from sklearn.linear_model import LogisticRegression\n",
    "from sklearn.model_selection import cross_val_score\n",
    "from sklearn.pipeline import Pipeline\n",
    "\n",
    "clf_mlp = MLPClassifier(hidden_layer_sizes=(50, 50),\n",
    "                        activation='logistic',\n",
    "                        solver='sgd',\n",
    "                        alpha=0.001,\n",
    "                        batch_size=50,\n",
    "                        learning_rate='constant',\n",
    "                        learning_rate_init=0.001,\n",
    "                        max_iter=50,\n",
    "                        verbose=False, # set to True to follow live\n",
    "                        random_state=0)\n",
    "\n",
    "clf_gnb = GaussianNB()\n",
    "\n",
    "clf_lr = LogisticRegression(penalty='l2',\n",
    "                            solver='lbfgs',\n",
    "                            C=0.1, \n",
    "                            random_state=0)\n",
    "\n",
    "\n",
    "pipe_lr = Pipeline([['sc', StandardScaler()],\n",
    "                   ['clf', clf_lr]])\n",
    "\n",
    "clf_labels = ['Multi Layer Perceptron', 'GaussianNB', 'Logistic Regression']\n",
    "\n",
    "print('10-fold cross validation:\\n')\n",
    "for clf, label in zip([clf_mlp, clf_gnb, pipe_lr], clf_labels):\n",
    "    scores = cross_val_score(estimator=clf, \n",
    "                             X=X_train, \n",
    "                             y=y_train, \n",
    "                             cv=10, \n",
    "                             scoring='roc_auc') \n",
    "    print(\"ROC AUC: %0.2f (+/- %0.2f) [%s]\" \n",
    "               % (scores.mean(), scores.std(), label))"
   ]
  },
  {
   "cell_type": "code",
   "execution_count": 19,
   "metadata": {},
   "outputs": [
    {
     "name": "stdout",
     "output_type": "stream",
     "text": [
      "10-fold cross validation:\n",
      "\n",
      "ROC AUC: 0.95 (+/- 0.08) [Multi Layer Perceptron]\n",
      "ROC AUC: 0.94 (+/- 0.10) [GaussianNB]\n",
      "ROC AUC: 0.96 (+/- 0.08) [Logistic Regression]\n"
     ]
    }
   ],
   "source": [
    "# Your answer\n",
    "from sklearn.neural_network import MLPClassifier\n",
    "from sklearn.naive_bayes import GaussianNB\n",
    "from sklearn.linear_model import LogisticRegression\n",
    "from sklearn.model_selection import cross_val_score\n",
    "from sklearn.pipeline import Pipeline\n",
    "\n",
    "clf_mlp = MLPClassifier(hidden_layer_sizes=(50, 50),\n",
    "                        activation='logistic',\n",
    "                        solver='sgd',\n",
    "                        alpha=0.001,\n",
    "                        batch_size=50,\n",
    "                        learning_rate='constant',\n",
    "                        learning_rate_init=0.001,\n",
    "                        max_iter=50,\n",
    "                        verbose=False, # set to True to follow live\n",
    "                        random_state=0)\n",
    "\n",
    "clf_gnb = GaussianNB()\n",
    "\n",
    "clf_lr = LogisticRegression(penalty='l2',\n",
    "                            solver='lbfgs',\n",
    "                            C=0.1, \n",
    "                            random_state=0)\n",
    "\n",
    "\n",
    "pipe_lr = Pipeline([['sc', StandardScaler()],\n",
    "                   ['clf', clf_lr]])\n",
    "\n",
    "clf_labels = ['Multi Layer Perceptron', 'GaussianNB', 'Logistic Regression']\n",
    "\n",
    "print('10-fold cross validation:\\n')\n",
    "for clf, label in zip([clf_mlp, clf_gnb, pipe_lr], clf_labels):\n",
    "    scores = cross_val_score(estimator=clf, \n",
    "                             X=X_train_rel, \n",
    "                             y=y_train, \n",
    "                             cv=10, \n",
    "                             scoring='roc_auc') \n",
    "    print(\"ROC AUC: %0.2f (+/- %0.2f) [%s]\" \n",
    "               % (scores.mean(), scores.std(), label))"
   ]
  },
  {
   "cell_type": "code",
   "execution_count": 23,
   "metadata": {},
   "outputs": [
    {
     "name": "stdout",
     "output_type": "stream",
     "text": [
      "10-fold cross validation:\n",
      "\n",
      "Accuracy: 0.76 (+/- 0.03) [Multi Layer Perceptron]\n",
      "Accuracy: 0.88 (+/- 0.12) [GaussianNB]\n",
      "Accuracy: 0.92 (+/- 0.09) [Logistic Regression]\n"
     ]
    }
   ],
   "source": [
    "# Your answer\n",
    "from sklearn.neural_network import MLPClassifier\n",
    "from sklearn.naive_bayes import GaussianNB\n",
    "from sklearn.linear_model import LogisticRegression\n",
    "from sklearn.model_selection import cross_val_score\n",
    "from sklearn.pipeline import Pipeline\n",
    "\n",
    "clf_mlp = MLPClassifier(hidden_layer_sizes=(50, 50),\n",
    "                        activation='logistic',\n",
    "                        solver='sgd',\n",
    "                        alpha=0.001,\n",
    "                        batch_size=50,\n",
    "                        learning_rate='constant',\n",
    "                        learning_rate_init=0.001,\n",
    "                        max_iter=50,\n",
    "                        verbose=False, # set to True to follow live\n",
    "                        random_state=0)\n",
    "\n",
    "clf_gnb = GaussianNB()\n",
    "\n",
    "clf_lr = LogisticRegression(penalty='l2',\n",
    "                            solver='lbfgs',\n",
    "                            C=0.1, \n",
    "                            random_state=0)\n",
    "\n",
    "\n",
    "pipe_lr = Pipeline([['sc', StandardScaler()],\n",
    "                   ['clf', clf_lr]])\n",
    "\n",
    "clf_labels = ['Multi Layer Perceptron', 'GaussianNB', 'Logistic Regression']\n",
    "\n",
    "print('10-fold cross validation:\\n')\n",
    "for clf, label in zip([clf_mlp, clf_gnb, pipe_lr], clf_labels):\n",
    "    scores = cross_val_score(estimator=clf, \n",
    "                             X=X_train_rel, \n",
    "                             y=y_train, \n",
    "                             cv=10, \n",
    "                             scoring='accuracy') \n",
    "    print(\"Accuracy: %0.2f (+/- %0.2f) [%s]\" \n",
    "               % (scores.mean(), scores.std(), label))"
   ]
  },
  {
   "cell_type": "code",
   "execution_count": 28,
   "metadata": {},
   "outputs": [
    {
     "name": "stdout",
     "output_type": "stream",
     "text": [
      "Accuracy: 0.76 (+/- 0.03) [Multi Layer Perceptron]\n",
      "Accuracy: 0.88 (+/- 0.12) [GaussianNB]\n",
      "Accuracy: 0.92 (+/- 0.09) [Logistic Regression]\n",
      "Accuracy: 0.91 (+/- 0.09) [Majority Voting]\n"
     ]
    }
   ],
   "source": [
    "# Majority Rule (soft) voting (no ROC/AUC available for hard voting)\n",
    "from sklearn.ensemble import VotingClassifier\n",
    "clf_mv = VotingClassifier(estimators=[('ppn',clf_mlp), ('gnb',clf_gnb), ('lr',pipe_lr)], voting='hard')\n",
    "\n",
    "# note: proba is not available with hard voting, so in that case we would have to settle for accuracy instead of roc_auc\n",
    "\n",
    "clf_labels += ['Majority Voting']\n",
    "all_clf = [clf_mlp, clf_gnb, pipe_lr, clf_mv]\n",
    "\n",
    "for clf, label in zip(all_clf, clf_labels):\n",
    "    scores = cross_val_score(estimator=clf, \n",
    "                             X=X_train_rel, \n",
    "                             y=y_train, \n",
    "                             cv=10, \n",
    "                             scoring='accuracy') # accuracy would be possible with hard voting\n",
    "    print(\"Accuracy: %0.2f (+/- %0.2f) [%s]\" \n",
    "               % (scores.mean(), scores.std(), label))"
   ]
  },
  {
   "cell_type": "markdown",
   "metadata": {
    "slideshow": {
     "slide_type": "subslide"
    }
   },
   "source": [
    "<h2 style=\"color:blue\">Task 3 - Plot the decision areas of the ensemble and the base classifiers</h2>"
   ]
  },
  {
   "cell_type": "code",
   "execution_count": 29,
   "metadata": {},
   "outputs": [
    {
     "data": {
      "image/png": "[encoded data removed]",
      "text/plain": [
       "<Figure size 1000x700 with 1 Axes>"
      ]
     },
     "metadata": {},
     "output_type": "display_data"
    }
   ],
   "source": [
    "from sklearn.metrics import balanced_accuracy_score\n",
    "\n",
    "plt.figure(figsize=(10, 7))\n",
    "colors = ['red', 'orange', 'blue', 'green']\n",
    "linestyles = [':', '--', '-.', '-']\n",
    "for clf, label, clr, ls in zip(all_clf, clf_labels, colors, linestyles):\n",
    "\n",
    "    y_pred = clf.fit(X_train_rel, y_train).predict(X_test_rel)\n",
    "\n",
    "    # Use balanced accuracy instead of ROC AUC\n",
    "    bal_accuracy = balanced_accuracy_score(y_test, y_pred)\n",
    "    plt.plot([0, 1], [0, 1], linestyle='--', color='gray', linewidth=2,)\n",
    "    plt.scatter(1, bal_accuracy, color=clr, marker='o', label='%s (Balanced Accuracy = %0.2f)' % (label, bal_accuracy))\n",
    "\n",
    "plt.legend(loc='lower right')\n",
    "plt.xlim([-0.1, 1.1])\n",
    "plt.ylim([-0.1, 1.1])\n",
    "plt.grid()\n",
    "plt.xlabel('False Positive Rate')\n",
    "plt.ylabel('True Positive Rate')\n",
    "\n",
    "plt.tight_layout()\n",
    "# plt.savefig('./figures/balanced_accuracy.png', dpi=300)\n",
    "plt.show()"
   ]
  },
  {
   "cell_type": "code",
   "execution_count": 30,
   "metadata": {},
   "outputs": [
    {
     "data": {
      "image/png": "[encoded data removed]",
      "text/plain": [
       "<Figure size 1000x700 with 1 Axes>"
      ]
     },
     "metadata": {},
     "output_type": "display_data"
    }
   ],
   "source": [
    "from sklearn.metrics import f1_score\n",
    "\n",
    "plt.figure(figsize=(10, 7))\n",
    "colors = ['red', 'orange', 'blue', 'green']\n",
    "linestyles = [':', '--', '-.', '-']\n",
    "for clf, label, clr, ls in zip(all_clf, clf_labels, colors, linestyles):\n",
    "\n",
    "    y_pred = clf.fit(X_train_rel, y_train).predict(X_test_rel)\n",
    "\n",
    "    # Use F1 score instead of ROC AUC\n",
    "    f1 = f1_score(y_test, y_pred)\n",
    "    plt.plot([0, 1], [0, 1], linestyle='--', color='gray', linewidth=2,)\n",
    "    plt.scatter(1, f1, color=clr, marker='o', label='%s (F1 Score = %0.2f)' % (label, f1))\n",
    "\n",
    "plt.legend(loc='lower right')\n",
    "plt.xlim([-0.1, 1.1])\n",
    "plt.ylim([-0.1, 1.1])\n",
    "plt.grid()\n",
    "plt.xlabel('False Positive Rate')\n",
    "plt.ylabel('True Positive Rate')\n",
    "\n",
    "plt.tight_layout()\n",
    "# plt.savefig('./figures/f1_score.png', dpi=300)\n",
    "plt.show()"
   ]
  },
  {
   "cell_type": "markdown",
   "metadata": {
    "slideshow": {
     "slide_type": "subslide"
    }
   },
   "source": [
    "<h2 style=\"color:blue\">Task 4 - Check which parameters can be adjusted for the voting classifier</h2>"
   ]
  },
  {
   "cell_type": "code",
   "execution_count": 31,
   "metadata": {},
   "outputs": [
    {
     "data": {
      "text/plain": [
       "{'estimators': [('ppn',\n",
       "   MLPClassifier(activation='logistic', alpha=0.001, batch_size=50,\n",
       "                 hidden_layer_sizes=(50, 50), max_iter=50, random_state=0,\n",
       "                 solver='sgd')),\n",
       "  ('gnb', GaussianNB()),\n",
       "  ('lr',\n",
       "   Pipeline(steps=[('sc', StandardScaler()),\n",
       "                   ['clf', LogisticRegression(C=0.1, random_state=0)]]))],\n",
       " 'flatten_transform': True,\n",
       " 'n_jobs': None,\n",
       " 'verbose': False,\n",
       " 'voting': 'hard',\n",
       " 'weights': None,\n",
       " 'ppn': MLPClassifier(activation='logistic', alpha=0.001, batch_size=50,\n",
       "               hidden_layer_sizes=(50, 50), max_iter=50, random_state=0,\n",
       "               solver='sgd'),\n",
       " 'gnb': GaussianNB(),\n",
       " 'lr': Pipeline(steps=[('sc', StandardScaler()),\n",
       "                 ['clf', LogisticRegression(C=0.1, random_state=0)]]),\n",
       " 'ppn__activation': 'logistic',\n",
       " 'ppn__alpha': 0.001,\n",
       " 'ppn__batch_size': 50,\n",
       " 'ppn__beta_1': 0.9,\n",
       " 'ppn__beta_2': 0.999,\n",
       " 'ppn__early_stopping': False,\n",
       " 'ppn__epsilon': 1e-08,\n",
       " 'ppn__hidden_layer_sizes': (50, 50),\n",
       " 'ppn__learning_rate': 'constant',\n",
       " 'ppn__learning_rate_init': 0.001,\n",
       " 'ppn__max_fun': 15000,\n",
       " 'ppn__max_iter': 50,\n",
       " 'ppn__momentum': 0.9,\n",
       " 'ppn__n_iter_no_change': 10,\n",
       " 'ppn__nesterovs_momentum': True,\n",
       " 'ppn__power_t': 0.5,\n",
       " 'ppn__random_state': 0,\n",
       " 'ppn__shuffle': True,\n",
       " 'ppn__solver': 'sgd',\n",
       " 'ppn__tol': 0.0001,\n",
       " 'ppn__validation_fraction': 0.1,\n",
       " 'ppn__verbose': False,\n",
       " 'ppn__warm_start': False,\n",
       " 'gnb__priors': None,\n",
       " 'gnb__var_smoothing': 1e-09,\n",
       " 'lr__memory': None,\n",
       " 'lr__steps': [('sc', StandardScaler()),\n",
       "  ['clf', LogisticRegression(C=0.1, random_state=0)]],\n",
       " 'lr__verbose': False,\n",
       " 'lr__sc': StandardScaler(),\n",
       " 'lr__clf': LogisticRegression(C=0.1, random_state=0),\n",
       " 'lr__sc__copy': True,\n",
       " 'lr__sc__with_mean': True,\n",
       " 'lr__sc__with_std': True,\n",
       " 'lr__clf__C': 0.1,\n",
       " 'lr__clf__class_weight': None,\n",
       " 'lr__clf__dual': False,\n",
       " 'lr__clf__fit_intercept': True,\n",
       " 'lr__clf__intercept_scaling': 1,\n",
       " 'lr__clf__l1_ratio': None,\n",
       " 'lr__clf__max_iter': 100,\n",
       " 'lr__clf__multi_class': 'auto',\n",
       " 'lr__clf__n_jobs': None,\n",
       " 'lr__clf__penalty': 'l2',\n",
       " 'lr__clf__random_state': 0,\n",
       " 'lr__clf__solver': 'lbfgs',\n",
       " 'lr__clf__tol': 0.0001,\n",
       " 'lr__clf__verbose': 0,\n",
       " 'lr__clf__warm_start': False}"
      ]
     },
     "execution_count": 31,
     "metadata": {},
     "output_type": "execute_result"
    }
   ],
   "source": [
    "# Your answer\n",
    "clf_mv.get_params()"
   ]
  },
  {
   "cell_type": "markdown",
   "metadata": {
    "slideshow": {
     "slide_type": "subslide"
    }
   },
   "source": [
    "<h2 style=\"color:blue\">Task 5 - Use Grid Search to investigate the effect of using class weights</h2>"
   ]
  },
  {
   "cell_type": "markdown",
   "metadata": {},
   "source": [
    "* To do this, examine the `class_weight` parameter in the *perceptron* and the *logistic regression*\n",
    "* Use the balanced accuracy as a metric"
   ]
  },
  {
   "cell_type": "code",
   "execution_count": 14,
   "metadata": {},
   "outputs": [],
   "source": [
    "# Your answer\n",
    "from sklearn.model_selection import GridSearchCV  # grid_search is now also part of model selection\n",
    "\n",
    "params = {'ppn__class_weight': [1, 2],\n",
    "          'lr__class_weight': [0.001, 0.1, 100.0]}\n",
    "\n",
    "grid = GridSearchCV(estimator=clf_mv, \n",
    "                    param_grid=params, \n",
    "                    cv=10, \n",
    "                    scoring='balanced_accuracy')\n",
    "grid.fit(X_train_std, y_train)\n",
    "\n",
    "grid_scores = zip(grid.cv_results_['params'],\n",
    "                  grid.cv_results_['mean_test_score'],\n",
    "                  grid.cv_results_['std_test_score'])\n",
    "\n",
    "for params, mean_score, std_score in grid_scores:\n",
    "    print(\"%0.3f+/-%0.2f %r\"\n",
    "            % (mean_score, std_score / 2, params))"
   ]
  },
  {
   "cell_type": "markdown",
   "metadata": {
    "slideshow": {
     "slide_type": "subslide"
    }
   },
   "source": [
    "<h2 style=\"color:blue\">Task 6 - Train an Adaboost classifier with a perceptron as base classifier and a random forest and compare their respective accuracies (also with the base classifier)</h2>"
   ]
  },
  {
   "cell_type": "markdown",
   "metadata": {},
   "source": [
    "* Use the *Balanced Accuracy* metric again\n",
    "* Use the same settings for the perceptron as in task 2\n",
    "* Since the perceptron does not provide class probabilities as output, you must set `algorithm='SAMME'` for Adaboost. Otherwise, use the same parameters as in the lecture material\n",
    "* For the random forest, you can choose the same parameters as in the lecture materials"
   ]
  },
  {
   "cell_type": "code",
   "execution_count": 15,
   "metadata": {},
   "outputs": [],
   "source": [
    "# Your answer"
   ]
  },
  {
   "cell_type": "markdown",
   "metadata": {
    "slideshow": {
     "slide_type": "subslide"
    }
   },
   "source": [
    "<h2 style=\"color:blue\">Task 7 - Plot the decision regions of the classifiers just created</h2>"
   ]
  },
  {
   "cell_type": "code",
   "execution_count": 16,
   "metadata": {},
   "outputs": [],
   "source": [
    "# Your answer"
   ]
  }
 ],
 "metadata": {
  "kernelspec": {
   "display_name": "Python 3 (ipykernel)",
   "language": "python",
   "name": "python3"
  },
  "language_info": {
   "codemirror_mode": {
    "name": "ipython",
    "version": 3
   },
   "file_extension": ".py",
   "mimetype": "text/x-python",
   "name": "python",
   "nbconvert_exporter": "python",
   "pygments_lexer": "ipython3",
   "version": "3.10.12"
  }
 },
 "nbformat": 4,
 "nbformat_minor": 4
}
