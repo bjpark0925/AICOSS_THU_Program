{
 "cells": [
  {
   "cell_type": "markdown",
   "metadata": {},
   "source": [
    "![Banner](./img/AI_Special_Program_Banner.jpg)"
   ]
  },
  {
   "cell_type": "markdown",
   "metadata": {
    "slideshow": {
     "slide_type": "slide"
    }
   },
   "source": [
    "# Exercises for Ensemble Learning\n",
    "---\n",
    "The exercises are strongly oriented towards the lecture material and can often be solved with minor adaptations of the same."
   ]
  },
  {
   "cell_type": "markdown",
   "metadata": {
    "slideshow": {
     "slide_type": "subslide"
    }
   },
   "source": [
    "## Data preparation"
   ]
  },
  {
   "cell_type": "code",
   "execution_count": 1,
   "metadata": {},
   "outputs": [],
   "source": [
    "import matplotlib.pyplot as plt\n",
    "%matplotlib inline\n",
    "import pandas as pd\n",
    "import numpy as np"
   ]
  },
  {
   "cell_type": "markdown",
   "metadata": {},
   "source": [
    "In this exercise we want to deal with glass: [Glass Identification Data Set](http://archive.ics.uci.edu/ml/datasets/Glass+Identification). This is about the classification of different types of glass based on the oxide compounds."
   ]
  },
  {
   "cell_type": "code",
   "execution_count": 2,
   "metadata": {},
   "outputs": [
    {
     "data": {
      "text/html": [
       "<div>\n",
       "<style scoped>\n",
       "    .dataframe tbody tr th:only-of-type {\n",
       "        vertical-align: middle;\n",
       "    }\n",
       "\n",
       "    .dataframe tbody tr th {\n",
       "        vertical-align: top;\n",
       "    }\n",
       "\n",
       "    .dataframe thead th {\n",
       "        text-align: right;\n",
       "    }\n",
       "</style>\n",
       "<table border=\"1\" class=\"dataframe\">\n",
       "  <thead>\n",
       "    <tr style=\"text-align: right;\">\n",
       "      <th></th>\n",
       "      <th>Id</th>\n",
       "      <th>RI</th>\n",
       "      <th>Na</th>\n",
       "      <th>Mg</th>\n",
       "      <th>Al</th>\n",
       "      <th>Si</th>\n",
       "      <th>K</th>\n",
       "      <th>Ca</th>\n",
       "      <th>Ba</th>\n",
       "      <th>Fe</th>\n",
       "      <th>Target</th>\n",
       "    </tr>\n",
       "  </thead>\n",
       "  <tbody>\n",
       "    <tr>\n",
       "      <th>0</th>\n",
       "      <td>1</td>\n",
       "      <td>1.52101</td>\n",
       "      <td>13.64</td>\n",
       "      <td>4.49</td>\n",
       "      <td>1.10</td>\n",
       "      <td>71.78</td>\n",
       "      <td>0.06</td>\n",
       "      <td>8.75</td>\n",
       "      <td>0.0</td>\n",
       "      <td>0.0</td>\n",
       "      <td>1</td>\n",
       "    </tr>\n",
       "    <tr>\n",
       "      <th>1</th>\n",
       "      <td>2</td>\n",
       "      <td>1.51761</td>\n",
       "      <td>13.89</td>\n",
       "      <td>3.60</td>\n",
       "      <td>1.36</td>\n",
       "      <td>72.73</td>\n",
       "      <td>0.48</td>\n",
       "      <td>7.83</td>\n",
       "      <td>0.0</td>\n",
       "      <td>0.0</td>\n",
       "      <td>1</td>\n",
       "    </tr>\n",
       "    <tr>\n",
       "      <th>2</th>\n",
       "      <td>3</td>\n",
       "      <td>1.51618</td>\n",
       "      <td>13.53</td>\n",
       "      <td>3.55</td>\n",
       "      <td>1.54</td>\n",
       "      <td>72.99</td>\n",
       "      <td>0.39</td>\n",
       "      <td>7.78</td>\n",
       "      <td>0.0</td>\n",
       "      <td>0.0</td>\n",
       "      <td>1</td>\n",
       "    </tr>\n",
       "    <tr>\n",
       "      <th>3</th>\n",
       "      <td>4</td>\n",
       "      <td>1.51766</td>\n",
       "      <td>13.21</td>\n",
       "      <td>3.69</td>\n",
       "      <td>1.29</td>\n",
       "      <td>72.61</td>\n",
       "      <td>0.57</td>\n",
       "      <td>8.22</td>\n",
       "      <td>0.0</td>\n",
       "      <td>0.0</td>\n",
       "      <td>1</td>\n",
       "    </tr>\n",
       "    <tr>\n",
       "      <th>4</th>\n",
       "      <td>5</td>\n",
       "      <td>1.51742</td>\n",
       "      <td>13.27</td>\n",
       "      <td>3.62</td>\n",
       "      <td>1.24</td>\n",
       "      <td>73.08</td>\n",
       "      <td>0.55</td>\n",
       "      <td>8.07</td>\n",
       "      <td>0.0</td>\n",
       "      <td>0.0</td>\n",
       "      <td>1</td>\n",
       "    </tr>\n",
       "  </tbody>\n",
       "</table>\n",
       "</div>"
      ],
      "text/plain": [
       "   Id       RI     Na    Mg    Al     Si     K    Ca   Ba   Fe  Target\n",
       "0   1  1.52101  13.64  4.49  1.10  71.78  0.06  8.75  0.0  0.0       1\n",
       "1   2  1.51761  13.89  3.60  1.36  72.73  0.48  7.83  0.0  0.0       1\n",
       "2   3  1.51618  13.53  3.55  1.54  72.99  0.39  7.78  0.0  0.0       1\n",
       "3   4  1.51766  13.21  3.69  1.29  72.61  0.57  8.22  0.0  0.0       1\n",
       "4   5  1.51742  13.27  3.62  1.24  73.08  0.55  8.07  0.0  0.0       1"
      ]
     },
     "execution_count": 2,
     "metadata": {},
     "output_type": "execute_result"
    }
   ],
   "source": [
    "col_names = ['Id', 'RI', 'Na', 'Mg', 'Al', 'Si', 'K', 'Ca', 'Ba', 'Fe', 'Target']\n",
    "df = pd.read_csv('http://archive.ics.uci.edu/ml/machine-learning-databases/glass/glass.data', names=col_names)\n",
    "df.head()"
   ]
  },
  {
   "cell_type": "markdown",
   "metadata": {},
   "source": [
    "Remove the ID column (is only a surrogate key):"
   ]
  },
  {
   "cell_type": "code",
   "execution_count": 3,
   "metadata": {},
   "outputs": [],
   "source": [
    "df.drop('Id', axis=1, inplace=True)"
   ]
  },
  {
   "cell_type": "markdown",
   "metadata": {},
   "source": [
    "The data contains 7 different classes, which can be roughly divided into window glass and non-window glass. Since we want to consider a binary classification, we assign the superordinate categories accordingly:"
   ]
  },
  {
   "cell_type": "code",
   "execution_count": 4,
   "metadata": {},
   "outputs": [],
   "source": [
    "map_target = {1 : 0, # building_windows_float_processed\n",
    "              2 : 0, # building_windows_non_float_processed\n",
    "              3 : 0, # vehicle_windows_float_processed\n",
    "              4 : 0, # vehicle_windows_non_float_processed (none in this database)\n",
    "              5 : 1, # containers\n",
    "              6 : 1, # tableware\n",
    "              7 : 1} # headlamps"
   ]
  },
  {
   "cell_type": "code",
   "execution_count": 5,
   "metadata": {},
   "outputs": [],
   "source": [
    "df['Target'] = df['Target'].map(map_target)"
   ]
  },
  {
   "cell_type": "markdown",
   "metadata": {},
   "source": [
    "Derive the feature matrix `X` and label vector `y`:"
   ]
  },
  {
   "cell_type": "code",
   "execution_count": 6,
   "metadata": {},
   "outputs": [],
   "source": [
    "y = df.pop('Target')\n",
    "X = df.copy()"
   ]
  },
  {
   "cell_type": "markdown",
   "metadata": {},
   "source": [
    "Division of the data into training and test data. In addition, scaling of the data.\n",
    "\n",
    "**Note:** We do this exactly in this order to avoid *data leakage*. You can find more information on this in this [article by Jason Brownlee](https://machinelearningmastery.com/data-leakage-machine-learning/) and this [blog post by Sebastian Raschka](https://sebastianraschka.com/faq/docs/scale-training-test.html)."
   ]
  },
  {
   "cell_type": "code",
   "execution_count": 7,
   "metadata": {},
   "outputs": [],
   "source": [
    "from sklearn.preprocessing import StandardScaler\n",
    "from sklearn.model_selection import train_test_split # sklearn.cross_validation has been superseded\n",
    "\n",
    "X_train, X_test, y_train, y_test =\\\n",
    "       train_test_split(X, y, \n",
    "                        test_size=0.25, \n",
    "                        stratify=y,\n",
    "                        random_state=1)\n",
    "\n",
    "sc = StandardScaler()\n",
    "sc.fit(X_train)\n",
    "\n",
    "X_train_std = sc.transform(X_train)\n",
    "X_test_std = sc.transform(X_test)"
   ]
  },
  {
   "cell_type": "code",
   "execution_count": 8,
   "metadata": {},
   "outputs": [
    {
     "name": "stdout",
     "output_type": "stream",
     "text": [
      "There are 160 training data and 54 test data.\n"
     ]
    }
   ],
   "source": [
    "print(f'There are {X_train_std.shape[0]} training data and {X_test_std.shape[0]} test data.')"
   ]
  },
  {
   "cell_type": "markdown",
   "metadata": {
    "slideshow": {
     "slide_type": "subslide"
    }
   },
   "source": [
    "<h1 style=\"color:blue\">Exercises</h1>"
   ]
  },
  {
   "cell_type": "markdown",
   "metadata": {},
   "source": [
    "---"
   ]
  },
  {
   "cell_type": "markdown",
   "metadata": {
    "slideshow": {
     "slide_type": "subslide"
    }
   },
   "source": [
    "<h2 style=\"color:blue\">Task 1 - Select the most important features</h2>"
   ]
  },
  {
   "cell_type": "markdown",
   "metadata": {},
   "source": [
    "* Select the two most important features based on the `feature_importances_` of a decision tree\n",
    "* Use the configuration below for the decision tree\n",
    "* Which features have been selected?\n",
    "* List all features and their feature importances. Which features do not contribute to the classification?\n",
    "* Save the new feature matrices under `X_train_rel` and `X_test_rel` for further use"
   ]
  },
  {
   "cell_type": "code",
   "execution_count": 9,
   "metadata": {},
   "outputs": [],
   "source": [
    "from sklearn.tree import DecisionTreeClassifier\n",
    "\n",
    "clf_dt = DecisionTreeClassifier(max_depth=3, \n",
    "                                criterion='gini', \n",
    "                                random_state=0)"
   ]
  },
  {
   "cell_type": "markdown",
   "metadata": {},
   "source": [
    "### Answer"
   ]
  },
  {
   "cell_type": "code",
   "execution_count": 10,
   "metadata": {},
   "outputs": [
    {
     "data": {
      "text/html": [
       "<style>#sk-container-id-1 {color: black;}#sk-container-id-1 pre{padding: 0;}#sk-container-id-1 div.sk-toggleable {background-color: white;}#sk-container-id-1 label.sk-toggleable__label {cursor: pointer;display: block;width: 100%;margin-bottom: 0;padding: 0.3em;box-sizing: border-box;text-align: center;}#sk-container-id-1 label.sk-toggleable__label-arrow:before {content: \"▸\";float: left;margin-right: 0.25em;color: #696969;}#sk-container-id-1 label.sk-toggleable__label-arrow:hover:before {color: black;}#sk-container-id-1 div.sk-estimator:hover label.sk-toggleable__label-arrow:before {color: black;}#sk-container-id-1 div.sk-toggleable__content {max-height: 0;max-width: 0;overflow: hidden;text-align: left;background-color: #f0f8ff;}#sk-container-id-1 div.sk-toggleable__content pre {margin: 0.2em;color: black;border-radius: 0.25em;background-color: #f0f8ff;}#sk-container-id-1 input.sk-toggleable__control:checked~div.sk-toggleable__content {max-height: 200px;max-width: 100%;overflow: auto;}#sk-container-id-1 input.sk-toggleable__control:checked~label.sk-toggleable__label-arrow:before {content: \"▾\";}#sk-container-id-1 div.sk-estimator input.sk-toggleable__control:checked~label.sk-toggleable__label {background-color: #d4ebff;}#sk-container-id-1 div.sk-label input.sk-toggleable__control:checked~label.sk-toggleable__label {background-color: #d4ebff;}#sk-container-id-1 input.sk-hidden--visually {border: 0;clip: rect(1px 1px 1px 1px);clip: rect(1px, 1px, 1px, 1px);height: 1px;margin: -1px;overflow: hidden;padding: 0;position: absolute;width: 1px;}#sk-container-id-1 div.sk-estimator {font-family: monospace;background-color: #f0f8ff;border: 1px dotted black;border-radius: 0.25em;box-sizing: border-box;margin-bottom: 0.5em;}#sk-container-id-1 div.sk-estimator:hover {background-color: #d4ebff;}#sk-container-id-1 div.sk-parallel-item::after {content: \"\";width: 100%;border-bottom: 1px solid gray;flex-grow: 1;}#sk-container-id-1 div.sk-label:hover label.sk-toggleable__label {background-color: #d4ebff;}#sk-container-id-1 div.sk-serial::before {content: \"\";position: absolute;border-left: 1px solid gray;box-sizing: border-box;top: 0;bottom: 0;left: 50%;z-index: 0;}#sk-container-id-1 div.sk-serial {display: flex;flex-direction: column;align-items: center;background-color: white;padding-right: 0.2em;padding-left: 0.2em;position: relative;}#sk-container-id-1 div.sk-item {position: relative;z-index: 1;}#sk-container-id-1 div.sk-parallel {display: flex;align-items: stretch;justify-content: center;background-color: white;position: relative;}#sk-container-id-1 div.sk-item::before, #sk-container-id-1 div.sk-parallel-item::before {content: \"\";position: absolute;border-left: 1px solid gray;box-sizing: border-box;top: 0;bottom: 0;left: 50%;z-index: -1;}#sk-container-id-1 div.sk-parallel-item {display: flex;flex-direction: column;z-index: 1;position: relative;background-color: white;}#sk-container-id-1 div.sk-parallel-item:first-child::after {align-self: flex-end;width: 50%;}#sk-container-id-1 div.sk-parallel-item:last-child::after {align-self: flex-start;width: 50%;}#sk-container-id-1 div.sk-parallel-item:only-child::after {width: 0;}#sk-container-id-1 div.sk-dashed-wrapped {border: 1px dashed gray;margin: 0 0.4em 0.5em 0.4em;box-sizing: border-box;padding-bottom: 0.4em;background-color: white;}#sk-container-id-1 div.sk-label label {font-family: monospace;font-weight: bold;display: inline-block;line-height: 1.2em;}#sk-container-id-1 div.sk-label-container {text-align: center;}#sk-container-id-1 div.sk-container {/* jupyter's `normalize.less` sets `[hidden] { display: none; }` but bootstrap.min.css set `[hidden] { display: none !important; }` so we also need the `!important` here to be able to override the default hidden behavior on the sphinx rendered scikit-learn.org. See: https://github.com/scikit-learn/scikit-learn/issues/21755 */display: inline-block !important;position: relative;}#sk-container-id-1 div.sk-text-repr-fallback {display: none;}</style><div id=\"sk-container-id-1\" class=\"sk-top-container\"><div class=\"sk-text-repr-fallback\"><pre>DecisionTreeClassifier(max_depth=3, random_state=0)</pre><b>In a Jupyter environment, please rerun this cell to show the HTML representation or trust the notebook. <br />On GitHub, the HTML representation is unable to render, please try loading this page with nbviewer.org.</b></div><div class=\"sk-container\" hidden><div class=\"sk-item\"><div class=\"sk-estimator sk-toggleable\"><input class=\"sk-toggleable__control sk-hidden--visually\" id=\"sk-estimator-id-1\" type=\"checkbox\" checked><label for=\"sk-estimator-id-1\" class=\"sk-toggleable__label sk-toggleable__label-arrow\">DecisionTreeClassifier</label><div class=\"sk-toggleable__content\"><pre>DecisionTreeClassifier(max_depth=3, random_state=0)</pre></div></div></div></div></div>"
      ],
      "text/plain": [
       "DecisionTreeClassifier(max_depth=3, random_state=0)"
      ]
     },
     "execution_count": 10,
     "metadata": {},
     "output_type": "execute_result"
    }
   ],
   "source": [
    "clf_dt.fit(X_train_std,y_train)"
   ]
  },
  {
   "cell_type": "code",
   "execution_count": 11,
   "metadata": {},
   "outputs": [],
   "source": [
    "fi = clf_dt.feature_importances_"
   ]
  },
  {
   "cell_type": "code",
   "execution_count": 12,
   "metadata": {},
   "outputs": [],
   "source": [
    "rel_col_idx = fi.argsort()[-2:][::-1]"
   ]
  },
  {
   "cell_type": "markdown",
   "metadata": {},
   "source": [
    "Which features were selected?"
   ]
  },
  {
   "cell_type": "code",
   "execution_count": 13,
   "metadata": {},
   "outputs": [
    {
     "data": {
      "text/plain": [
       "Index(['Mg', 'RI'], dtype='object')"
      ]
     },
     "execution_count": 13,
     "metadata": {},
     "output_type": "execute_result"
    }
   ],
   "source": [
    "df.columns[rel_col_idx]"
   ]
  },
  {
   "cell_type": "code",
   "execution_count": 14,
   "metadata": {},
   "outputs": [],
   "source": [
    "X_train_rel = X_train_std[:,rel_col_idx]\n",
    "X_test_rel = X_test_std[:,rel_col_idx]"
   ]
  },
  {
   "cell_type": "code",
   "execution_count": 15,
   "metadata": {},
   "outputs": [
    {
     "name": "stdout",
     "output_type": "stream",
     "text": [
      "The most important feature is Mg, the second most important feature is RI\n"
     ]
    }
   ],
   "source": [
    "print(f'The most important feature is {df.columns[rel_col_idx][0]}, the second most important feature is {df.columns[rel_col_idx][1]}')"
   ]
  },
  {
   "cell_type": "markdown",
   "metadata": {},
   "source": [
    "All features and their importance"
   ]
  },
  {
   "cell_type": "code",
   "execution_count": 16,
   "metadata": {},
   "outputs": [
    {
     "name": "stdout",
     "output_type": "stream",
     "text": [
      "RI 0.18325881470516353\n",
      "Na 0.057466677308643944\n",
      "Mg 0.6737138108086569\n",
      "Al 0.016555876081775993\n",
      "Si 0.0\n",
      "K 0.0\n",
      "Ca 0.0\n",
      "Ba 0.0690048210957596\n",
      "Fe 0.0\n"
     ]
    }
   ],
   "source": [
    "for i,x in enumerate(clf_dt.feature_importances_):\n",
    "    print(df.columns[i], x)"
   ]
  },
  {
   "cell_type": "markdown",
   "metadata": {},
   "source": [
    "Thus, the features Si, K, Ca and Fe do not contribute to the classification."
   ]
  },
  {
   "cell_type": "markdown",
   "metadata": {},
   "source": [
    "Finally, we can check the dimension of the new characteristic matrices:"
   ]
  },
  {
   "cell_type": "code",
   "execution_count": 17,
   "metadata": {},
   "outputs": [
    {
     "data": {
      "text/plain": [
       "(160, 2)"
      ]
     },
     "execution_count": 17,
     "metadata": {},
     "output_type": "execute_result"
    }
   ],
   "source": [
    "X_train_rel.shape"
   ]
  },
  {
   "cell_type": "code",
   "execution_count": 18,
   "metadata": {},
   "outputs": [
    {
     "data": {
      "text/plain": [
       "(54, 2)"
      ]
     },
     "execution_count": 18,
     "metadata": {},
     "output_type": "execute_result"
    }
   ],
   "source": [
    "X_test_rel.shape"
   ]
  },
  {
   "cell_type": "markdown",
   "metadata": {},
   "source": [
    "**Comments**\n",
    "1. One might think that it is not really necessary to select the most important features based only on the subset of data we want to use for training, as this is only a pre-processing step and the actual models are created afterwards. However, a form of *data leakage* (see above) could be argued if we use all available data.\n",
    "\n",
    "2. In our particular case, experimentation shows that if we split into training and test data differently, we might get different features (e.g. try setting the `random_state` to 42 instead of 1 for the split). This is related to a warning given in the `scikit-learn` documentation for the `feature_importances_` property for the [Decision Tree Classifier](https://scikit-learn.org/stable/modules/generated/sklearn.tree.DecisionTreeClassifier.html#sklearn.tree.DecisionTreeClassifier.feature_importances_), as we have more or less different values in the individual columns everywhere. Therefore, it might make more sense to try [permutation importance](https://scikit-learn.org/stable/modules/generated/sklearn.inspection.permutation_importance.html) for the feature selection here."
   ]
  },
  {
   "cell_type": "markdown",
   "metadata": {
    "slideshow": {
     "slide_type": "subslide"
    }
   },
   "source": [
    "<h2 style=\"color:blue\">Task 2 - Create and cross-validate a voting classifier</h2>"
   ]
  },
  {
   "cell_type": "markdown",
   "metadata": {},
   "source": [
    "1. Use the following base classifiers:\n",
    "    1. *Perceptron*, with a maximum of 50 iterations, a tolerance of $10^{-3}$ and `random_state=0`\n",
    "    2. [*Gaussian Naive Bayes*](https://scikit-learn.org/stable/modules/generated/sklearn.naive_bayes.GaussianNB.html) with the default settings\n",
    "    3. *Logistic regression* with the default settings (`random_state=0`)\n",
    "2. Use Hard Voting\n",
    "3. Since we are considering unevenly distributed classes here, you should use the [Balanced Accuracy](https://scikit-learn.org/stable/modules/model_evaluation.html#balanced-accuracy-score) and the F1 score as scoring criteria."
   ]
  },
  {
   "cell_type": "code",
   "execution_count": 19,
   "metadata": {},
   "outputs": [
    {
     "name": "stdout",
     "output_type": "stream",
     "text": [
      "10-fold (stratified) cross validation:\n",
      "\n",
      "Balanced Accuracy: 0.854 (+/- 0.128) [Perceptron])\n",
      "Balanced Accuracy: 0.817 (+/- 0.159) [NB])\n",
      "Balanced Accuracy: 0.863 (+/- 0.132) [LR])\n",
      "Balanced Accuracy: 0.863 (+/- 0.132) [Majority Voting])\n",
      "F1-Score: 0.788 (+/- 0.195) [Perceptron])\n",
      "F1-Score: 0.741 (+/- 0.228) [NB])\n",
      "F1-Score: 0.813 (+/- 0.204) [LR])\n",
      "F1-Score: 0.813 (+/- 0.204) [Majority Voting])\n"
     ]
    }
   ],
   "source": [
    "from sklearn.model_selection import cross_val_score # sklearn.cross_validation has been superseded\n",
    "from sklearn.metrics import balanced_accuracy_score, f1_score, make_scorer\n",
    "from sklearn.linear_model import Perceptron, LogisticRegression\n",
    "from sklearn.naive_bayes import GaussianNB\n",
    "from sklearn.svm import SVC\n",
    "from sklearn.ensemble import VotingClassifier\n",
    "\n",
    "import numpy as np\n",
    "\n",
    "clf_p = Perceptron(max_iter=50, tol=0.001, random_state=0)\n",
    "\n",
    "clf_nb = GaussianNB()\n",
    "\n",
    "clf_lr = LogisticRegression(random_state=0)\n",
    "\n",
    "clf_mv = VotingClassifier(estimators=[('p',clf_p), ('NB',clf_nb), ('LR',clf_lr)], voting='hard')\n",
    "\n",
    "clf_labels = ['Perceptron', 'NB', 'LR', 'Majority Voting']\n",
    "\n",
    "all_clf = [clf_p, clf_nb, clf_lr, clf_mv]\n",
    "\n",
    "f1_scorer = make_scorer(f1_score)\n",
    "balacc_scorer = make_scorer(balanced_accuracy_score)\n",
    "\n",
    "scorers = [balacc_scorer, f1_scorer]\n",
    "scorer_labels = ['Balanced Accuracy','F1-Score']\n",
    "\n",
    "print('10-fold (stratified) cross validation:\\n')\n",
    "for scorer, sclabel in zip(scorers, scorer_labels):\n",
    "    for clf, label in zip(all_clf, clf_labels):\n",
    "        scores = cross_val_score(estimator=clf, \n",
    "                                 X=X_train_rel, \n",
    "                                 y=y_train, \n",
    "                                 cv=10, \n",
    "                                 scoring=scorer) \n",
    "#                                  scoring='accuracy') \n",
    "        print(f'{sclabel}: {scores.mean():0.3f} (+/- {scores.std():0.3f}) [{label}])')"
   ]
  },
  {
   "cell_type": "markdown",
   "metadata": {},
   "source": [
    "Interestingly, the logistic regression performs just as well as the ensemble.\n",
    "\n",
    "In addition, the ranking of the classifiers for both performance metrics *Balanced Accuracy* and *F1-Score* is identical."
   ]
  },
  {
   "cell_type": "markdown",
   "metadata": {
    "slideshow": {
     "slide_type": "subslide"
    }
   },
   "source": [
    "<h2 style=\"color:blue\">Task 3 - Plot the decision areas of the ensemble and the base classifiers</h2>"
   ]
  },
  {
   "cell_type": "code",
   "execution_count": 20,
   "metadata": {},
   "outputs": [
    {
     "data": {
      "image/png": "[encoded data removed]",
      "text/plain": [
       "<Figure size 1200x800 with 4 Axes>"
      ]
     },
     "metadata": {},
     "output_type": "display_data"
    }
   ],
   "source": [
    "from itertools import product\n",
    "\n",
    "x_min = X_train_rel[:, 0].min() - 1\n",
    "x_max = X_train_rel[:, 0].max() + 1\n",
    "y_min = X_train_rel[:, 1].min() - 1\n",
    "y_max = X_train_rel[:, 1].max() + 1\n",
    "\n",
    "xx, yy = np.meshgrid(np.arange(x_min, x_max, 0.1),\n",
    "                     np.arange(y_min, y_max, 0.1))\n",
    "\n",
    "f, axarr = plt.subplots(nrows=2, ncols=2, \n",
    "                        sharex='col', \n",
    "                        sharey='row', \n",
    "                        figsize=(12, 8))\n",
    "\n",
    "for idx, clf, tt in zip(product([0, 1], [0, 1]),\n",
    "                        all_clf, clf_labels):\n",
    "    clf.fit(X_train_rel, y_train)\n",
    "    \n",
    "    Z = clf.predict(np.c_[xx.ravel(), yy.ravel()])\n",
    "    Z = Z.reshape(xx.shape)\n",
    "\n",
    "    axarr[idx[0], idx[1]].contourf(xx, yy, Z, cmap='coolwarm', alpha=0.3)\n",
    "    \n",
    "    axarr[idx[0], idx[1]].scatter(X_train_rel[y_train==0, 0], \n",
    "                                  X_train_rel[y_train==0, 1], \n",
    "                                  c='blue', \n",
    "                                  marker='^',\n",
    "                                  s=50)\n",
    "    \n",
    "    axarr[idx[0], idx[1]].scatter(X_train_rel[y_train==1, 0], \n",
    "                                  X_train_rel[y_train==1, 1], \n",
    "                                  c='red', \n",
    "                                  marker='o',\n",
    "                                  s=50)\n",
    "    \n",
    "    axarr[idx[0], idx[1]].set_title(tt)\n",
    "\n",
    "plt.text(-3.5, -5.0, \n",
    "         s='Magnesium (Mg)', \n",
    "         ha='center', va='center', fontsize=12)\n",
    "plt.text(-9.5, 4.5, \n",
    "         s='Refractive Index (RI)', \n",
    "         ha='center', va='center', \n",
    "         fontsize=12, rotation=90)\n",
    "\n",
    "# plt.tight_layout()\n",
    "# plt.savefig('./figures/voting_panel', bbox_inches='tight', dpi=300)\n",
    "plt.show()"
   ]
  },
  {
   "cell_type": "markdown",
   "metadata": {
    "slideshow": {
     "slide_type": "subslide"
    }
   },
   "source": [
    "<h2 style=\"color:blue\">Task 4 - Check which parameters can be adjusted for the voting classifier</h2>"
   ]
  },
  {
   "cell_type": "code",
   "execution_count": 21,
   "metadata": {},
   "outputs": [
    {
     "data": {
      "text/plain": [
       "{'estimators': [('p', Perceptron(max_iter=50)),\n",
       "  ('NB', GaussianNB()),\n",
       "  ('LR', LogisticRegression(random_state=0))],\n",
       " 'flatten_transform': True,\n",
       " 'n_jobs': None,\n",
       " 'verbose': False,\n",
       " 'voting': 'hard',\n",
       " 'weights': None,\n",
       " 'p': Perceptron(max_iter=50),\n",
       " 'NB': GaussianNB(),\n",
       " 'LR': LogisticRegression(random_state=0),\n",
       " 'p__alpha': 0.0001,\n",
       " 'p__class_weight': None,\n",
       " 'p__early_stopping': False,\n",
       " 'p__eta0': 1.0,\n",
       " 'p__fit_intercept': True,\n",
       " 'p__l1_ratio': 0.15,\n",
       " 'p__max_iter': 50,\n",
       " 'p__n_iter_no_change': 5,\n",
       " 'p__n_jobs': None,\n",
       " 'p__penalty': None,\n",
       " 'p__random_state': 0,\n",
       " 'p__shuffle': True,\n",
       " 'p__tol': 0.001,\n",
       " 'p__validation_fraction': 0.1,\n",
       " 'p__verbose': 0,\n",
       " 'p__warm_start': False,\n",
       " 'NB__priors': None,\n",
       " 'NB__var_smoothing': 1e-09,\n",
       " 'LR__C': 1.0,\n",
       " 'LR__class_weight': None,\n",
       " 'LR__dual': False,\n",
       " 'LR__fit_intercept': True,\n",
       " 'LR__intercept_scaling': 1,\n",
       " 'LR__l1_ratio': None,\n",
       " 'LR__max_iter': 100,\n",
       " 'LR__multi_class': 'auto',\n",
       " 'LR__n_jobs': None,\n",
       " 'LR__penalty': 'l2',\n",
       " 'LR__random_state': 0,\n",
       " 'LR__solver': 'lbfgs',\n",
       " 'LR__tol': 0.0001,\n",
       " 'LR__verbose': 0,\n",
       " 'LR__warm_start': False}"
      ]
     },
     "execution_count": 21,
     "metadata": {},
     "output_type": "execute_result"
    }
   ],
   "source": [
    "clf_mv.get_params()"
   ]
  },
  {
   "cell_type": "markdown",
   "metadata": {
    "slideshow": {
     "slide_type": "subslide"
    }
   },
   "source": [
    "<h2 style=\"color:blue\">Task 5 - Use Grid Search to investigate the effect of using class weights</h2>"
   ]
  },
  {
   "cell_type": "markdown",
   "metadata": {},
   "source": [
    "* To do this, examine the `class_weight` parameter in the *perceptron* and the *logistic regression*\n",
    "* Use the balanced accuracy as a metric"
   ]
  },
  {
   "cell_type": "code",
   "execution_count": 22,
   "metadata": {},
   "outputs": [
    {
     "name": "stdout",
     "output_type": "stream",
     "text": [
      "Balanced accuracy: 0.863+/-0.13 {'LR__class_weight': None, 'p__class_weight': None}\n",
      "Balanced accuracy: 0.854+/-0.13 {'LR__class_weight': None, 'p__class_weight': 'balanced'}\n",
      "Balanced accuracy: 0.854+/-0.15 {'LR__class_weight': 'balanced', 'p__class_weight': None}\n",
      "Balanced accuracy: 0.879+/-0.16 {'LR__class_weight': 'balanced', 'p__class_weight': 'balanced'}\n"
     ]
    }
   ],
   "source": [
    "from sklearn.model_selection import GridSearchCV  # grid_search is now also part of model selection\n",
    "\n",
    "params = {'p__class_weight': [None,'balanced'],\n",
    "          'LR__class_weight': [None,'balanced']}\n",
    "\n",
    "grid = GridSearchCV(estimator=clf_mv, \n",
    "                    param_grid=params, \n",
    "                    cv=10, \n",
    "#                    scoring='balanced_accuracy')\n",
    "                    scoring=balacc_scorer)\n",
    "grid.fit(X_train_rel, y_train)\n",
    "\n",
    "grid_scores = zip(grid.cv_results_['params'],\n",
    "                  grid.cv_results_['mean_test_score'],\n",
    "                  grid.cv_results_['std_test_score'])\n",
    "\n",
    "for params, mean_score, std_score in grid_scores:\n",
    "    print(f'Balanced accuracy: {mean_score:.3f}+/-{std_score:.2f} {params}')"
   ]
  },
  {
   "cell_type": "code",
   "execution_count": 23,
   "metadata": {},
   "outputs": [
    {
     "name": "stdout",
     "output_type": "stream",
     "text": [
      "Best parameters: {'LR__class_weight': 'balanced', 'p__class_weight': 'balanced'}\n",
      "Balanced accuracy: 0.879\n"
     ]
    }
   ],
   "source": [
    "print(f'Best parameters: {grid.best_params_}')\n",
    "print(f'Balanced accuracy: {grid.best_score_:.3f}')"
   ]
  },
  {
   "cell_type": "markdown",
   "metadata": {},
   "source": [
    "By using weighted parameter updates, the balanced accuracy can actually be increased. Interestingly, this is only true if both the logistic regression and the perceptron work with weighted classes. If only one of the models uses `class_weight='balanced'`, then we get a worse balanced accuracy than in the unbalanced case."
   ]
  },
  {
   "cell_type": "markdown",
   "metadata": {
    "slideshow": {
     "slide_type": "subslide"
    }
   },
   "source": [
    "<h2 style=\"color:blue\">Task 6 - Train an Adaboost classifier with a perceptron as base classifier and a random forest and compare their respective accuracies (also with the base classifier)</h2>"
   ]
  },
  {
   "cell_type": "markdown",
   "metadata": {},
   "source": [
    "* Use the *Balanced Accuracy* metric again\n",
    "* Use the same settings for the perceptron as in task 2\n",
    "* Since the perceptron does not provide class probabilities as output, you must set `algorithm='SAMME'` for Adaboost. Otherwise, use the same parameters as in the lecture material\n",
    "* For the random forest, you can select the same parameters as in the lecture materials"
   ]
  },
  {
   "cell_type": "code",
   "execution_count": 24,
   "metadata": {},
   "outputs": [
    {
     "name": "stdout",
     "output_type": "stream",
     "text": [
      "Perceptron train/test balanced accuracy 0.892/0.872\n",
      "AdaBoost train/test balanced accuracy 0.893/0.834\n",
      "Random Forest train/test balanced accuracy 0.996/0.886\n"
     ]
    }
   ],
   "source": [
    "from sklearn.ensemble import RandomForestClassifier\n",
    "from sklearn.ensemble import AdaBoostClassifier\n",
    "from sklearn.linear_model import Perceptron\n",
    "from sklearn.metrics import accuracy_score\n",
    "\n",
    "perc = Perceptron(tol=0.001, random_state=0)\n",
    "\n",
    "ada = AdaBoostClassifier(estimator=perc,\n",
    "                         algorithm='SAMME',\n",
    "                         n_estimators=500, \n",
    "                         learning_rate=0.1,\n",
    "                         random_state=0)\n",
    "\n",
    "forest = RandomForestClassifier(criterion='entropy',\n",
    "                                n_estimators=10, \n",
    "                                random_state=0,\n",
    "                                n_jobs=2)\n",
    "\n",
    "for clf, tt in zip([perc, ada, forest],\n",
    "                    ['Perceptron', 'AdaBoost', 'Random Forest']):\n",
    "    clf = clf.fit(X_train_rel, y_train)\n",
    "    y_train_pred = clf.predict(X_train_rel)\n",
    "    y_test_pred = clf.predict(X_test_rel)\n",
    "\n",
    "    clf_train = balanced_accuracy_score(y_train, y_train_pred)\n",
    "    clf_test = balanced_accuracy_score(y_test, y_test_pred)\n",
    "    print(f'{tt} train/test balanced accuracy {clf_train:.3f}/{clf_test:.3f}')"
   ]
  },
  {
   "cell_type": "markdown",
   "metadata": {},
   "source": [
    "Interestingly, the perceptron and Adaboost achieve approximately the same results, although the perceptron seems to generalize better. The Random Forest achieves the best results, but may suffer from overfitting."
   ]
  },
  {
   "cell_type": "markdown",
   "metadata": {
    "slideshow": {
     "slide_type": "subslide"
    }
   },
   "source": [
    "<h2 style=\"color:blue\">Task 7 - Plot the decision regions of the classifiers just created</h2>"
   ]
  },
  {
   "cell_type": "code",
   "execution_count": 25,
   "metadata": {},
   "outputs": [
    {
     "data": {
      "image/png": "[encoded data removed]",
      "text/plain": [
       "<Figure size 1500x400 with 3 Axes>"
      ]
     },
     "metadata": {},
     "output_type": "display_data"
    }
   ],
   "source": [
    "x_min = X_train_rel[:, 0].min() - 1\n",
    "x_max = X_train_rel[:, 0].max() + 1\n",
    "y_min = X_train_rel[:, 1].min() - 1\n",
    "y_max = X_train_rel[:, 1].max() + 1\n",
    "\n",
    "xx, yy = np.meshgrid(np.arange(x_min, x_max, 0.1),\n",
    "                     np.arange(y_min, y_max, 0.1))\n",
    "\n",
    "f, axarr = plt.subplots(nrows=1, ncols=3, \n",
    "                        sharex='col', \n",
    "                        sharey='row', \n",
    "                        figsize=(15, 4))\n",
    "\n",
    "\n",
    "for idx, clf, tt in zip([0, 1, 2],\n",
    "                        [perc, ada, forest],\n",
    "                        ['Perceptron', 'AdaBoost', 'Random Forest']):\n",
    "    clf.fit(X_train_rel, y_train)\n",
    "    \n",
    "    Z = clf.predict(np.c_[xx.ravel(), yy.ravel()])\n",
    "    Z = Z.reshape(xx.shape)\n",
    "\n",
    "    axarr[idx].contourf(xx, yy, Z, cmap=\"coolwarm\", alpha=0.3)\n",
    "    axarr[idx].scatter(X_train_rel[y_train==0, 0], \n",
    "                       X_train_rel[y_train==0, 1], \n",
    "                       c='blue', marker='^')\n",
    "    \n",
    "    axarr[idx].scatter(X_train_rel[y_train==1, 0], \n",
    "                       X_train_rel[y_train==1, 1], \n",
    "                       c='red', marker='o')\n",
    "    \n",
    "    axarr[idx].set_title(tt)\n",
    "\n",
    "axarr[0].set_ylabel('Refractive Index (RI)', fontsize=12)\n",
    "plt.text(-6.5, -4.5, \n",
    "         s='Magnesium (Mg)', \n",
    "         ha='center', va='center', fontsize=12)\n",
    "plt.show()"
   ]
  },
  {
   "cell_type": "markdown",
   "metadata": {},
   "source": [
    "From this visualization, we can guess that the random forest is indeed overfitting, which is indicated by the small \"knobs\" sticking out to the right of the red decision area. However, the model has also correctly identified the middle corridor and thus perhaps adapted the underlying distribution of this data set better than the other models. In any case, more data would certainly help to obtain a clearer picture of the situation."
   ]
  }
 ],
 "metadata": {
  "kernelspec": {
   "display_name": "Python 3 (ipykernel)",
   "language": "python",
   "name": "python3"
  },
  "language_info": {
   "codemirror_mode": {
    "name": "ipython",
    "version": 3
   },
   "file_extension": ".py",
   "mimetype": "text/x-python",
   "name": "python",
   "nbconvert_exporter": "python",
   "pygments_lexer": "ipython3",
   "version": "3.10.12"
  }
 },
 "nbformat": 4,
 "nbformat_minor": 4
}
