{
 "cells": [
  {
   "cell_type": "markdown",
   "metadata": {},
   "source": [
    "![Banner](./img/AI_Special_Program_Banner.jpg)\n"
   ]
  },
  {
   "cell_type": "markdown",
   "metadata": {},
   "source": [
    "# Theory of classification - example and formalization\n",
    "---"
   ]
  },
  {
   "cell_type": "markdown",
   "metadata": {},
   "source": [
    "First, we will look at a small example of classification and learn about the most important key figures for assessing the quality of classification. Then we will formalize the classification problem a little."
   ]
  },
  {
   "cell_type": "markdown",
   "metadata": {},
   "source": [
    "## Table of contents\n",
    "---"
   ]
  },
  {
   "cell_type": "markdown",
   "metadata": {},
   "source": [
    "- [An example](#An-example)\n",
    "    - [Error Terms and Quality Measures](#Error-Terms-and-Quality-Measures)\n",
    "- [Formalization of the classification problem](#Formalization-of-the-classification-problem)\n",
    "    - [Calculation of basic statistics](#Calculation-of-basic-statistics)\n",
    "    - [Calculation of error characteristics and quality measures](#Calculation-of-error-characteristics-and-quality-measures)"
   ]
  },
  {
   "cell_type": "markdown",
   "metadata": {},
   "source": [
    "## An example\n",
    "---"
   ]
  },
  {
   "cell_type": "markdown",
   "metadata": {},
   "source": [
    "We consider the following example, which deals with fictitious (summarised)\n",
    "data on a problem faced by a mail order company. The company is thinking\n",
    "about increasing its sales by means of a marketing campaign.\n",
    "The company only wants to send a voucher for further orders to those customers who are not expected to place a new order within 90 days anyway (otherwise money would be lost).\n",
    "\n",
    "The aim is to make a prediction about voucher dispatch based on knowledge of past orders,\n",
    "whereby the attributes *delay, customer, item* and *return*\n",
    "are considered and these are used to determine whether\n",
    "a new order (within 90 days) will be placed (which would then\n",
    "would mean that no voucher would have to be sent). \n",
    "\n",
    "The corresponding data is shown in the following table. The values in the 'Customer' column mean\n",
    "**F**emale, **M**ale and company (**C**)."
   ]
  },
  {
   "cell_type": "markdown",
   "metadata": {},
   "source": [
    "   Case | Delay | Customer | Item | Return | ***Reorder?***\n",
    "  :--------:|:--------------: | :---------: |:----------:| :---------------: |:------------------\n",
    "   1 | long | M | single | no | no\n",
    "   2 | long | M | single | yes | no\n",
    "   3 | none | M | single | no | yes\n",
    "   4 | short | F | single | no | yes\n",
    "   5 | short | C | several | no | yes\n",
    "   6 | short | C | several | yes | no\n",
    "   7 | none | C | several | yes | yes\n",
    "   8 | long | F | single | no | no\n",
    "   9 | long | C | several | no | yes\n",
    "   10 | short | F | several | no | yes\n",
    "   11 | long | F | several | yes | yes\n",
    "   12 | none | F | single | yes | yes\n",
    "   13 | none | M | several | no | yes\n",
    "   14 | short | F | single | yes | no"
   ]
  },
  {
   "cell_type": "markdown",
   "metadata": {},
   "source": [
    "This means that only *binary* decisions (yes/no) have to be made. More generally, the aim is to divide the data records into two\n",
    "*classes*. With the help of a *trained model* (**fit**) based on the above training data\n",
    "we then want to make *predictions* (**predict**) for new data records as to which class they probably belong to."
   ]
  },
  {
   "cell_type": "markdown",
   "metadata": {},
   "source": [
    "### Error terms and quality measures"
   ]
  },
  {
   "cell_type": "markdown",
   "metadata": {},
   "source": [
    "First, we will *describe* the general parameters in relation to the specific\n",
    "problem and then look at the corresponding formulas.\n",
    "First of all, four cases must be distinguished with regard to the classification, whereby, regardless of the semantics, a yes decision\n",
    "is described as *positive* and a no-decision as *negative*.\n",
    "\n",
    "1.  *true positive*: a new order is correctly predicted\n",
    "\n",
    "2.  *true negative*: a new order that has not been placed is correctly\n",
    "    predicted\n",
    "\n",
    "3.  *false positive*: a new order is predicted but does not take place\n",
    "\n",
    "4.  *false negative*: it is predicted that no new order will be placed, but this happens nevertheless\n",
    "\n",
    "The corresponding numbers are determined by simple counting.\n",
    "They can then be represented in the so-called **confusion matrix** as follows\n",
    "as follows:"
   ]
  },
  {
   "cell_type": "markdown",
   "metadata": {},
   "source": [
    "***New order?*** | | |\n",
    ":------------------:|:---------------:|:---------------:|\n",
    "| *prediction* / *reality* | yes | no |\n",
    "| yes | true positive | false positive |\n",
    "| no | false negative | true negative |"
   ]
  },
  {
   "cell_type": "markdown",
   "metadata": {},
   "source": [
    "These basic statistics can then be used to calculate a whole range of\n",
    "derived metrics, whereby we will limit ourselves to the\n",
    "the following:\n",
    "\n",
    "-   *Correct classifications* are the number of correctly predicted\n",
    "    cases;\n",
    "\n",
    "-   *misclassifications* is the number of incorrectly predicted\n",
    "    cases;\n",
    "\n",
    "-   *Accuracy* is the *proportion* of correctly predicted cases;\n",
    "\n",
    "-   the *positive predictive value* (also *precision* or *relevance*) denotes the probability that a predicted reordering will actually take place; \n",
    "\n",
    "-   the *negative predictive value* denotes the probability\n",
    "    that a new order predicted as not occurring will actually not occur;\n",
    "\n",
    "-   the *true positive rate* (also *sensitivity*, *hit rate* or\n",
    "    *Recall*) is the probability that a new order will be predicted;\n",
    "\n",
    "-   the *true negative rate* (also *specificity* or *selectivity*)\n",
    "    is the probability that a new order that has not been placed is also predicted;\n",
    "\n",
    "-   the *false positive rate* (also *fall-out*)\n",
    "    is the probability that a new order will be predicted despite the fact that no new order has been placed;\n",
    "\n",
    "-   the *false negative rate* is the probability that a new order will not be predicted;\n",
    "\n",
    "The *probabilities* are then to be estimated by the *relative frequencies*\n",
    "in the training data."
   ]
  },
  {
   "cell_type": "markdown",
   "metadata": {},
   "source": [
    "## Formalization of the classification problem\n",
    "---"
   ]
  },
  {
   "cell_type": "markdown",
   "metadata": {},
   "source": [
    "In order to simplify the notation for the formalization, we imagine\n",
    "that all attribute values were real numbers, but that they could only be interpreted nominally or ordinally. This can always be achieved by transformation, for example by assigning *any* numerical values to the individual attribute values\n",
    "or by assigning numerical values to ordinal attributes in such a way\n",
    "that the *order is preserved*. This allows the assumption, without loss of\n",
    "generality, that a total of\n",
    "* $n_t$ data samples $\\mathbf{x}^{(1)},\\mathbf{x}^{(2)},\\dots,\\mathbf{x}^{(n_t)}$ each with\n",
    "* $m$ real-valued features (or *attributes*) $A_1,A_2,\\dots,A_m$\n",
    "* (i.e. $\\mathbf{x}^{(i)} = (x_1^{(i)},x_2^{(i)},\\dots,x_m^{(i)})^T$)\n",
    "\n",
    "can be considered, i.e.\n",
    "\n",
    "$$\n",
    "\\mathcal{D} = \\{\\mathbf{x}^{(1)},\\mathbf{x}^{(2)},\\dots,\\mathbf{x}^{(n_t)}\\} \\subset \\mathbb{R}^m\n",
    "$$\n",
    "\n",
    "represents the *database* (the dataset under consideration). Take $A_i$ (the\n",
    "$i$-th attribute)\n",
    "\n",
    "* $m_i$ different values\n",
    "* $a_{i,j}\\>,\\ j=1,2,\\dots,m_i$ with the\n",
    "* Frequency $m_{i,j}$.\n",
    "\n",
    "The data sets from $\\mathcal{D}$ are generally assigned\n",
    "* $\\kappa$ classes $y_k\\>,\\ k=1,\\dots,\\kappa\\>\\quad \\kappa\\in\\mathbb{N},\\ \\kappa\\ge2$\n",
    "\n",
    "As for the attribute values, the classes can also be assumed to be (natural) numbers,\n",
    "i.e.\n",
    "* $y_k=k-1\\>,\\ k=1,\\dots,\\kappa$.\n",
    "\n",
    "The only thing that matters here is the ability to *distinguish*\n",
    "and no ranking order is specified (nominal scale). In the case of a\n",
    "binary classification as in the voucher problem, $\\kappa=2$ and\n",
    "there are classes 0 and 1; a representation that is also frequently encountered in practice.\n",
    "\n",
    "In the *training data* considered in the context of a classification\n",
    "$\\mathcal{T}$, each data set $\\mathbf{x}^{(l)}$ is then assigned a (true or observed)\n",
    "class $y^{(l)}\\in\\{0,1,\\dots,\\kappa-1\\}$, i.e. the $l$-th\n",
    "training dataset consists of tuples $(\\mathbf{x}^{(l)},y^{(l)})$, where for the\n",
    "class assignments $\\mathcal{C}$ applies\n",
    "$$\n",
    "\\mathcal{C} = (y^{(1)},y^{(2)},\\dots,y^{(m)})\\>,\\ y^{(l)} \\in \\{0,1,\\dots,\\kappa-1\\}\\>,\\ l=1,2,\\dots,\n",
    "m$$\n",
    "so that the training data can be represented as\n",
    "$$\n",
    "\\mathcal{T} =(\\mathcal{D},\\mathcal{C}) = \\{(\\mathbf{x}^{(1)},y^{(1)}),(\\mathbf{x}^{(2)},y^{(2)}),\\dots,(\\mathbf{x}^{(m)},y^{(m)})\\}\n",
    "  \\subset \\mathbb{R}^m\\times\\{0,1,\\dots,\\kappa-1\\}\\>.\n",
    "$$\n",
    "The classification problem then consists of finding a function\n",
    "$$\\begin{aligned}\n",
    " f:\\mathbb{R}^m&\\to\\{0,1,\\dots,\\kappa-1\\}\\\\\n",
    " \\mathbf{x}&\\mapsto f(\\mathbf{x})=\\hat y\\end{aligned}$$\n",
    "which returns the class desired class $\\hat y$ for a data set $\\mathbf{x}$, whereby $\\hat y$ should of course correspond to the true class. In this context $f$ is called a *classifier* and its application is called *classification*. Determining the function $f$ from the training data $\\mathcal{T}$ is called *classifier design*."
   ]
  },
  {
   "cell_type": "markdown",
   "metadata": {},
   "source": [
    "### Calculation of basic statistics\n",
    "For a class $y_k$, we use $p_k$ to denote the *absolute frequency* of the class (or the number of *positive cases*). $n_k$ would then be the number of *negative cases* (or the frequency in which the class $y_k$ *does not* occur), so that for each class $y_k$ applies:\n",
    "\n",
    "$$\n",
    "p_k + n_k = m\\>.\n",
    "$$\n",
    "\n",
    "Similarly, we use $p_{k,i,j}$ to denote the absolute frequency with which the class $y_k$ occurs for the value $a_{i,j}$ of the attribute $A_i$ (and $n_{k,i,j}$ again denotes the absolute frequency of the opposite). This also applies to every class $y_k$ and every value $a_{i,j}$ of the attribute $A_i$:\n",
    "\n",
    "$$\n",
    "p_{k,i,j} + n_{k,i,j} = m_{i,j}\\>.\n",
    "$$"
   ]
  },
  {
   "cell_type": "markdown",
   "metadata": {},
   "source": [
    "### Calculation of error characteristics and quality measure\n",
    "\n",
    "Now consider a class $y^*\\in\\{0,1,\\dots,\\kappa-1\\}$.\n",
    "An assignment to this class is again *positive* and an assignment\n",
    "to another class is *negative*. Furthermore, consider a\n",
    "training data set $(\\mathbf{x},y)$ and a prediction $f(\\mathbf{x})=\\hat y$ (classifier value).\n",
    "If $y=y^*$, then the sample is a positive case, otherwise\n",
    "a negative one. Furthermore, if $\\hat y = y^*$, then it is a\n",
    "positive classification (or prediction), otherwise a negative one.\n",
    "\n",
    "This allows the basic parameters for assessing the classification quality to be characterised and symbolised by case differentiation in accordance with the following table\n"
   ]
  },
  {
   "cell_type": "markdown",
   "metadata": {},
   "source": [
    "![x](img/2.2.b_Classification_Table1.png)"
   ]
  },
  {
   "cell_type": "markdown",
   "metadata": {},
   "source": [
    "The confusion matrix then looks like this:"
   ]
  },
  {
   "cell_type": "markdown",
   "metadata": {},
   "source": [
    "![x](img/2.2.b_Classification_Table2.png)"
   ]
  },
  {
   "cell_type": "markdown",
   "metadata": {},
   "source": [
    "Depending on the problem, various parameters can be derived from this for\n",
    "Evaluation of the classifier. Some possible **derived\n",
    "parameters** and their characterization and symbolization can be\n",
    "be taken from the following table."
   ]
  },
  {
   "cell_type": "markdown",
   "metadata": {},
   "source": [
    "![x](img/2.2.b_Classification_Table3.png)"
   ]
  },
  {
   "cell_type": "markdown",
   "metadata": {},
   "source": [
    "Ground truth: [yes, yes, no, yes]\n",
    "Prediction: [yes, no, no, no]\n",
    "\n",
    "Prediction2 : [yes, yes, yes, yes]\n",
    "\n",
    "Accuracy: How many predictions where correct (fractions)?\n",
    "Answer: 2/4 = 0.5 ~50%\n",
    "\n",
    "Precision: If we predicted the positive class, how correct was that (fraction of total)?\n",
    "Answer: 1\n",
    "Answer: 3/4 < 1\n",
    "\n",
    "Recall: How many of the positive class did we (\"the model\") find (fraction of total)?\n",
    "Answer: 1/3 = 0.33\n",
    "Answer2: 1"
   ]
  }
 ],
 "metadata": {
  "kernelspec": {
   "display_name": "Python 3 (ipykernel)",
   "language": "python",
   "name": "python3"
  },
  "language_info": {
   "codemirror_mode": {
    "name": "ipython",
    "version": 3
   },
   "file_extension": ".py",
   "mimetype": "text/x-python",
   "name": "python",
   "nbconvert_exporter": "python",
   "pygments_lexer": "ipython3",
   "version": "3.10.12"
  },
  "latex_envs": {
   "LaTeX_envs_menu_present": true,
   "autocomplete": true,
   "bibliofile": "biblio.bib",
   "cite_by": "apalike",
   "current_citInitial": 1,
   "eqLabelWithNumbers": true,
   "eqNumInitial": 1,
   "hotkeys": {
    "equation": "Ctrl-E",
    "itemize": "Ctrl-I"
   },
   "labels_anchors": false,
   "latex_user_defs": false,
   "report_style_numbering": false,
   "user_envs_cfg": false
  },
  "toc-autonumbering": false,
  "toc-showcode": false,
  "toc-showmarkdowntxt": false,
  "toc-showtags": false
 },
 "nbformat": 4,
 "nbformat_minor": 4
}
