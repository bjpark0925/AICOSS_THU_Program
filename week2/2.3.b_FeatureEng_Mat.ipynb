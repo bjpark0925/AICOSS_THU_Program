{
 "cells": [
  {
   "cell_type": "markdown",
   "metadata": {},
   "source": [
    "![Banner](./img/AI_Special_Program_Banner.jpg)"
   ]
  },
  {
   "cell_type": "markdown",
   "metadata": {},
   "source": [
    "# Feature Engineering - Material\n",
    "---"
   ]
  },
  {
   "cell_type": "markdown",
   "metadata": {},
   "source": [
    "Feature engineering describes the process of obtaining new features to improve prediction models. The focus of feature engineering is therefore on the **data** and less on the ML algorithms. In practice, feature engineering is a key success factor for ML models. Obtaining predictive new features is an exploratory process and often requires appropriate domain knowledge. In this teaching unit, we will take a closer look at some well-known and frequently used methods."
   ]
  },
  {
   "cell_type": "markdown",
   "metadata": {},
   "source": [
    "This unit is based on the Kaggle course [Feature Engineering](https://www.kaggle.com/learn/feature-engineering) von Ryan Holbrook."
   ]
  },
  {
   "cell_type": "markdown",
   "metadata": {},
   "source": [
    "## Table of contents\n",
    "---"
   ]
  },
  {
   "cell_type": "markdown",
   "metadata": {},
   "source": [
    "- [Introduction Feature Engineering](#Introduction-Feature-Engineering)\n",
    "    - [Goal of feature engineering](#Goal-of-feature-engineering)\n",
    "    - [A guiding principle of feature engineering](#A-guiding-principle-of-feature-engineering)\n",
    "    - [A first example: concrete data](#A-first-example:-concrete-data)\n",
    "- [Feature Selection](#Feature-Selection)\n",
    "    - [Example: 1985 Automobile](#Example:-1985-Automobile)\n",
    "- [Feature Engineering: Creation of new features](#Feature-Engineering:-Creation-of-new-features)\n",
    "    - [Mathematical transformations](#Mathematical-transformations)\n",
    "    - [Countable events](#Countable-events)\n",
    "    - [Combining and separating features](#Combining-and-separating-features)\n",
    "    - [Dealing with missing values](#Dealing-with-missing-values)\n",
    "    - [More ideas](#More-ideas)\n",
    "    - [General tips and other resources](#General-tips-and-other-resources)\n",
    "- [Learning outcomes](#Learning-outcomes)"
   ]
  },
  {
   "cell_type": "markdown",
   "metadata": {},
   "source": [
    "# Introduction Feature Engineering\n",
    "---"
   ]
  },
  {
   "cell_type": "markdown",
   "metadata": {},
   "source": [
    "## Goal of feature engineering"
   ]
  },
  {
   "cell_type": "markdown",
   "metadata": {},
   "source": [
    "The combination and transformation of existing features (*attributes*) into new features is referred to as the process of [*feature engineering*](https://en.wikipedia.org/wiki/Feature_engineering). The aim of feature engineering is to transform the data into a form that better represents the problem at hand. An example of such a *constructed* feature could be [apparent temperature](https://en.wikipedia.org/wiki/Apparent_temperature). To obtain the apparent temperature as a measure of \"thermal well-being\", we combine different attributes around temperature (wind chill, humidity, etc.). This gives us a combination feature that better represents the observed data for what we are really interested in: how it actually feels to be outside.\n",
    "\n",
    "Feature engineering leads to several advantages in the context of machine learning:\n",
    "* Improvement of prediction performance\n",
    "* Reduction of calculation complexity and duration\n",
    "* Improving the interpretation of results\n",
    "\n",
    "The improvement in prediction performance in particular should not be neglected. This makes feature engineering indispensable for high-performance models and is essential for success in [Kaggle competitions](https://www.kaggle.com/competitions). The Kaggle competition by [Rossmann](https://www.kaggle.com/c/rossmann-store-sales) provides a good first impression of the importance of feature engineering. For the prediction of future sales in the Rossmann stores, the synthesis of new features led to the best models. See a summary of the results from the podium places [here](http://www.johnatate.com/learning-from-the-best-rossman-sales-kaggle-winners.html)."
   ]
  },
  {
   "cell_type": "markdown",
   "metadata": {},
   "source": [
    "## A guiding principle of feature engineering"
   ]
  },
  {
   "cell_type": "markdown",
   "metadata": {},
   "source": [
    "For a feature to be useful, it must have a relationship to the target that can be learned by the model. Linear models, for example, can only learn linear relationships. If such a model is used, the features should be transformed so that the relationship to the target becomes linear.\n",
    "\n",
    "The key idea here is that a transformation applied to a feature basically becomes part of the model itself. For example: we want to predict the price of square land based on the length of a side. Fitting a linear model directly to the length gives poor results: The relationship is not linear:"
   ]
  },
  {
   "cell_type": "markdown",
   "metadata": {},
   "source": [
    "![FE1](img/fe1.png)"
   ]
  },
  {
   "cell_type": "markdown",
   "metadata": {},
   "source": [
    "[Image source](https://www.kaggle.com/ryanholbrook/what-is-feature-engineering)"
   ]
  },
  {
   "cell_type": "markdown",
   "metadata": {},
   "source": [
    "However, if we square the feature `Length` to get `Area`, a linear relationship is created. Adding `Area` to the attributes means that this linear model can now fit a parabola. So squaring a feature gives the linear model the ability to fit quadratic features."
   ]
  },
  {
   "cell_type": "markdown",
   "metadata": {},
   "source": [
    "![FE2](img/fe2.png)"
   ]
  },
  {
   "cell_type": "markdown",
   "metadata": {},
   "source": [
    "[Image source](https://www.kaggle.com/ryanholbrook/what-is-feature-engineering)"
   ]
  },
  {
   "cell_type": "markdown",
   "metadata": {},
   "source": [
    "Any relationships that the model cannot learn, we can provide ourselves through transformations. When we develop our features, we need to think about what information the model could use to achieve its best performance."
   ]
  },
  {
   "cell_type": "markdown",
   "metadata": {},
   "source": [
    "## A first example: concrete data"
   ]
  },
  {
   "cell_type": "markdown",
   "metadata": {},
   "source": [
    "To illustrate these ideas, we can look at how adding some synthetic features to a dataset can improve the predictive performance of a *random forest model*.\n",
    "\n",
    "**Note:** We will first learn about the random forest model formally in the **Ensemble Learning** unit. However, the actual model is not relevant for the following demonstration. In short, the random forest model is based on a combination of decision trees and is a very powerful model that requires few adjustments.\n",
    "\n",
    "The following dataset on [Concrete](https://www.kaggle.com/sinamhd9/concrete-comprehensive-strength) contains a variety of concrete mix designs and the compressive strength of the resulting product, which is a measure of how much load the concrete can carry. The task for this data set is to predict the `CompressiveStrength` of a concrete based on its mix design."
   ]
  },
  {
   "cell_type": "code",
   "execution_count": 1,
   "metadata": {},
   "outputs": [],
   "source": [
    "%matplotlib inline\n",
    "import pandas as pd"
   ]
  },
  {
   "cell_type": "code",
   "execution_count": 2,
   "metadata": {},
   "outputs": [
    {
     "data": {
      "text/html": [
       "<div>\n",
       "<style scoped>\n",
       "    .dataframe tbody tr th:only-of-type {\n",
       "        vertical-align: middle;\n",
       "    }\n",
       "\n",
       "    .dataframe tbody tr th {\n",
       "        vertical-align: top;\n",
       "    }\n",
       "\n",
       "    .dataframe thead th {\n",
       "        text-align: right;\n",
       "    }\n",
       "</style>\n",
       "<table border=\"1\" class=\"dataframe\">\n",
       "  <thead>\n",
       "    <tr style=\"text-align: right;\">\n",
       "      <th></th>\n",
       "      <th>Cement</th>\n",
       "      <th>BlastFurnaceSlag</th>\n",
       "      <th>FlyAsh</th>\n",
       "      <th>Water</th>\n",
       "      <th>Superplasticizer</th>\n",
       "      <th>CoarseAggregate</th>\n",
       "      <th>FineAggregate</th>\n",
       "      <th>Age</th>\n",
       "      <th>CompressiveStrength</th>\n",
       "    </tr>\n",
       "  </thead>\n",
       "  <tbody>\n",
       "    <tr>\n",
       "      <th>0</th>\n",
       "      <td>540.0</td>\n",
       "      <td>0.0</td>\n",
       "      <td>0.0</td>\n",
       "      <td>162.0</td>\n",
       "      <td>2.5</td>\n",
       "      <td>1040.0</td>\n",
       "      <td>676.0</td>\n",
       "      <td>28</td>\n",
       "      <td>79.99</td>\n",
       "    </tr>\n",
       "    <tr>\n",
       "      <th>1</th>\n",
       "      <td>540.0</td>\n",
       "      <td>0.0</td>\n",
       "      <td>0.0</td>\n",
       "      <td>162.0</td>\n",
       "      <td>2.5</td>\n",
       "      <td>1055.0</td>\n",
       "      <td>676.0</td>\n",
       "      <td>28</td>\n",
       "      <td>61.89</td>\n",
       "    </tr>\n",
       "    <tr>\n",
       "      <th>2</th>\n",
       "      <td>332.5</td>\n",
       "      <td>142.5</td>\n",
       "      <td>0.0</td>\n",
       "      <td>228.0</td>\n",
       "      <td>0.0</td>\n",
       "      <td>932.0</td>\n",
       "      <td>594.0</td>\n",
       "      <td>270</td>\n",
       "      <td>40.27</td>\n",
       "    </tr>\n",
       "    <tr>\n",
       "      <th>3</th>\n",
       "      <td>332.5</td>\n",
       "      <td>142.5</td>\n",
       "      <td>0.0</td>\n",
       "      <td>228.0</td>\n",
       "      <td>0.0</td>\n",
       "      <td>932.0</td>\n",
       "      <td>594.0</td>\n",
       "      <td>365</td>\n",
       "      <td>41.05</td>\n",
       "    </tr>\n",
       "    <tr>\n",
       "      <th>4</th>\n",
       "      <td>198.6</td>\n",
       "      <td>132.4</td>\n",
       "      <td>0.0</td>\n",
       "      <td>192.0</td>\n",
       "      <td>0.0</td>\n",
       "      <td>978.4</td>\n",
       "      <td>825.5</td>\n",
       "      <td>360</td>\n",
       "      <td>44.30</td>\n",
       "    </tr>\n",
       "  </tbody>\n",
       "</table>\n",
       "</div>"
      ],
      "text/plain": [
       "   Cement  BlastFurnaceSlag  FlyAsh  Water  Superplasticizer  CoarseAggregate  \\\n",
       "0   540.0               0.0     0.0  162.0               2.5           1040.0   \n",
       "1   540.0               0.0     0.0  162.0               2.5           1055.0   \n",
       "2   332.5             142.5     0.0  228.0               0.0            932.0   \n",
       "3   332.5             142.5     0.0  228.0               0.0            932.0   \n",
       "4   198.6             132.4     0.0  192.0               0.0            978.4   \n",
       "\n",
       "   FineAggregate  Age  CompressiveStrength  \n",
       "0          676.0   28                79.99  \n",
       "1          676.0   28                61.89  \n",
       "2          594.0  270                40.27  \n",
       "3          594.0  365                41.05  \n",
       "4          825.5  360                44.30  "
      ]
     },
     "execution_count": 2,
     "metadata": {},
     "output_type": "execute_result"
    }
   ],
   "source": [
    "concrete = pd.read_csv('./data/concrete.csv')\n",
    "concrete.head()"
   ]
  },
  {
   "cell_type": "markdown",
   "metadata": {},
   "source": [
    "Here we can look at the different components that go into each type of concrete. Below we will create some synthetic features derived from these. These will help the model to learn important relationships between the features.\n",
    "\n",
    "We will first establish a **baseline** by training the model with the unexpanded dataset. This will allow us to determine whether our new features are actually useful.\n",
    "\n",
    "Creating baselines like this is good practice at the beginning of the feature engineering process. A baseline score can help decide whether new features are worth keeping or whether we should discard them and possibly try something else.\n",
    "\n",
    "Please note that this is a **regression**, i.e. the prediction of a continuous value. So we need to choose other metrics to assess performance. The **Mean Absolute Error (MAE)** was used here."
   ]
  },
  {
   "cell_type": "code",
   "execution_count": 3,
   "metadata": {},
   "outputs": [
    {
     "name": "stdout",
     "output_type": "stream",
     "text": [
      "MAE Baseline Score: 8.232\n"
     ]
    }
   ],
   "source": [
    "from sklearn.model_selection import cross_val_score\n",
    "from sklearn.ensemble import RandomForestRegressor\n",
    "\n",
    "X = concrete.copy()\n",
    "y = X.pop(\"CompressiveStrength\")\n",
    "\n",
    "# Train and score baseline model\n",
    "baseline = RandomForestRegressor(criterion=\"absolute_error\", random_state=0)\n",
    "baseline_score = cross_val_score(\n",
    "    baseline, X, y, cv=5, scoring=\"neg_mean_absolute_error\"\n",
    ")\n",
    "baseline_score = -1 * baseline_score.mean()\n",
    "\n",
    "print(f\"MAE Baseline Score: {baseline_score:.4}\")"
   ]
  },
  {
   "cell_type": "markdown",
   "metadata": {},
   "source": [
    "When cooking, the ratio of ingredients is often more important than the absolute quantities. By calculating ratios, we can make \"hidden\" information available for our ML model. The new ratio features should of course be *meaningful* in relation to the respective use case (keyword: **domain knowledge**)."
   ]
  },
  {
   "cell_type": "markdown",
   "metadata": {},
   "source": [
    "Here we add three new features based on ratios:"
   ]
  },
  {
   "cell_type": "code",
   "execution_count": 4,
   "metadata": {},
   "outputs": [
    {
     "name": "stdout",
     "output_type": "stream",
     "text": [
      "MAE Score with Ratio Features: 7.948\n"
     ]
    }
   ],
   "source": [
    "# Create synthetic features\n",
    "X[\"FCRatio\"] = X[\"FineAggregate\"] / X[\"CoarseAggregate\"]\n",
    "X[\"AggCmtRatio\"] = (X[\"CoarseAggregate\"] + X[\"FineAggregate\"]) / X[\"Cement\"]\n",
    "X[\"WtrCmtRatio\"] = X[\"Water\"] / X[\"Cement\"]\n",
    "\n",
    "# Train and score model on dataset with additional ratio features\n",
    "model = RandomForestRegressor(criterion=\"absolute_error\", random_state=0)\n",
    "score = cross_val_score(\n",
    "    model, X, y, cv=5, scoring=\"neg_mean_absolute_error\"\n",
    ")\n",
    "score = -1 * score.mean()\n",
    "\n",
    "print(f\"MAE Score with Ratio Features: {score:.4}\")"
   ]
  },
  {
   "cell_type": "markdown",
   "metadata": {},
   "source": [
    "This actually leads to an improvement in prediction quality. However, not all models benefit equally from new ratio attributes."
   ]
  },
  {
   "cell_type": "markdown",
   "metadata": {},
   "source": [
    "In the following, we will take a look at which features can possibly be combined with each other."
   ]
  },
  {
   "cell_type": "markdown",
   "metadata": {},
   "source": [
    "# Feature Selection\n",
    "---"
   ]
  },
  {
   "cell_type": "markdown",
   "metadata": {},
   "source": [
    "Finding promising features for a combination in the form of ratio attributes is not always easy - especially with high-dimensional data. One possible starting point could be **feature selection** methods. This is actually primarily about selecting features with a high predictive value in order to reduce the dimension of the data. The main goal is to reduce the training and inference time (the time it takes to make a prediction).  \n",
    "We can illustrate this with an example (based on [this tutorial](https://inria.github.io/scikit-learn-mooc/python_scripts/feature_selection_introduction.html)):"
   ]
  },
  {
   "cell_type": "markdown",
   "metadata": {},
   "source": [
    "First, we generate a synthetic dataset where we can customize the number of informative, repeated and random features:"
   ]
  },
  {
   "cell_type": "code",
   "execution_count": 5,
   "metadata": {},
   "outputs": [],
   "source": [
    "from sklearn.datasets import make_classification\n",
    "\n",
    "X, y = make_classification(\n",
    "    n_samples=5000,\n",
    "    n_features=100,\n",
    "    n_informative=2,\n",
    "    n_redundant=0,\n",
    "    n_repeated=0,\n",
    "    random_state=0\n",
    ")"
   ]
  },
  {
   "cell_type": "markdown",
   "metadata": {},
   "source": [
    "Furthermore, we create a random forest model, which is trained with the entire data ($\\hat =$ no feature selection):"
   ]
  },
  {
   "cell_type": "code",
   "execution_count": 6,
   "metadata": {},
   "outputs": [],
   "source": [
    "from sklearn.ensemble import RandomForestClassifier\n",
    "\n",
    "model_without_selection = RandomForestClassifier(n_jobs=-1, random_state=0)"
   ]
  },
  {
   "cell_type": "markdown",
   "metadata": {},
   "source": [
    "We use [**mutual information**](https://en.wikipedia.org/wiki/Mutual_information) as the feature selection method. This procedure is again based on Shannon's information theory and is closely related to entropy. It measures the reduction of uncertainty for the value of one variable for known values of a second variable. Formally, the mutual information $I$ for two random variables $X$ and $Y$ is defined as:"
   ]
  },
  {
   "cell_type": "markdown",
   "metadata": {},
   "source": [
    "$I(X;Y) = H(X) - H(X|Y)$"
   ]
  },
  {
   "cell_type": "markdown",
   "metadata": {},
   "source": [
    "Where $H(X)$ is the entropy of $X$ and $H(X|Y)$ is the conditional entropy of $X$, given $Y$. The following properties should be considered when using the transinformation:"
   ]
  },
  {
   "cell_type": "markdown",
   "metadata": {},
   "source": [
    "* It is possible for a feature to be very informative when it interacts with other features, but not so informative on its own. Mutual information cannot detect interactions between features ([multicollinearity](https://en.wikipedia.org/wiki/Multicollinearity)). It is a univariate metric.\n",
    "* Mutual information also recognizes non-linear relationships between two features (unlike covariance, for example)."
   ]
  },
  {
   "cell_type": "markdown",
   "metadata": {},
   "source": [
    "First, we create a pipeline from the feature selection and RF model:"
   ]
  },
  {
   "cell_type": "code",
   "execution_count": 7,
   "metadata": {},
   "outputs": [],
   "source": [
    "from sklearn.feature_selection import SelectKBest\n",
    "from sklearn.feature_selection import mutual_info_classif\n",
    "from sklearn.feature_selection import f_classif\n",
    "from sklearn.pipeline import make_pipeline\n",
    "\n",
    "\n",
    "model_with_selection = make_pipeline(\n",
    "    SelectKBest(score_func=mutual_info_classif, k=2),\n",
    "    RandomForestClassifier(n_jobs=-1, random_state=0),\n",
    ")"
   ]
  },
  {
   "cell_type": "markdown",
   "metadata": {},
   "source": [
    "In the following, we measure the training and inference time of both models, as well as the cross-validated accuracy."
   ]
  },
  {
   "cell_type": "markdown",
   "metadata": {},
   "source": [
    "Random-Forest **without Feature Selection**:"
   ]
  },
  {
   "cell_type": "code",
   "execution_count": 8,
   "metadata": {},
   "outputs": [],
   "source": [
    "from sklearn.model_selection import cross_validate\n",
    "\n",
    "cv_results_without_selection = cross_validate(model_without_selection, X, y)\n",
    "cv_results_without_selection = pd.DataFrame(cv_results_without_selection)"
   ]
  },
  {
   "cell_type": "markdown",
   "metadata": {},
   "source": [
    "Pipeline **with Feature Selection**:"
   ]
  },
  {
   "cell_type": "code",
   "execution_count": 9,
   "metadata": {},
   "outputs": [],
   "source": [
    "cv_results_with_selection = cross_validate(\n",
    "    model_with_selection, X, y, return_estimator=True)\n",
    "cv_results_with_selection = pd.DataFrame(cv_results_with_selection)"
   ]
  },
  {
   "cell_type": "markdown",
   "metadata": {},
   "source": [
    "Summary of the results in a dataframe:"
   ]
  },
  {
   "cell_type": "code",
   "execution_count": 10,
   "metadata": {},
   "outputs": [],
   "source": [
    "cv_results = pd.concat(\n",
    "    [cv_results_without_selection, cv_results_with_selection],\n",
    "    axis=1,\n",
    "    keys=[\"Without feature selection\", \"With feature selection\"],\n",
    ")\n",
    "# swap the level of the multi-index of the columns\n",
    "cv_results = cv_results.swaplevel(axis=\"columns\")"
   ]
  },
  {
   "cell_type": "markdown",
   "metadata": {},
   "source": [
    "The resulting DataFrame:"
   ]
  },
  {
   "cell_type": "code",
   "execution_count": 11,
   "metadata": {},
   "outputs": [
    {
     "data": {
      "text/html": [
       "<div>\n",
       "<style scoped>\n",
       "    .dataframe tbody tr th:only-of-type {\n",
       "        vertical-align: middle;\n",
       "    }\n",
       "\n",
       "    .dataframe tbody tr th {\n",
       "        vertical-align: top;\n",
       "    }\n",
       "\n",
       "    .dataframe thead tr th {\n",
       "        text-align: left;\n",
       "    }\n",
       "</style>\n",
       "<table border=\"1\" class=\"dataframe\">\n",
       "  <thead>\n",
       "    <tr>\n",
       "      <th></th>\n",
       "      <th>fit_time</th>\n",
       "      <th>score_time</th>\n",
       "      <th>test_score</th>\n",
       "      <th>fit_time</th>\n",
       "      <th>score_time</th>\n",
       "      <th>estimator</th>\n",
       "      <th>test_score</th>\n",
       "    </tr>\n",
       "    <tr>\n",
       "      <th></th>\n",
       "      <th>Without feature selection</th>\n",
       "      <th>Without feature selection</th>\n",
       "      <th>Without feature selection</th>\n",
       "      <th>With feature selection</th>\n",
       "      <th>With feature selection</th>\n",
       "      <th>With feature selection</th>\n",
       "      <th>With feature selection</th>\n",
       "    </tr>\n",
       "  </thead>\n",
       "  <tbody>\n",
       "    <tr>\n",
       "      <th>0</th>\n",
       "      <td>0.568121</td>\n",
       "      <td>0.013066</td>\n",
       "      <td>0.973</td>\n",
       "      <td>0.882355</td>\n",
       "      <td>0.013335</td>\n",
       "      <td>(SelectKBest(k=2, score_func=&lt;function mutual_...</td>\n",
       "      <td>0.981</td>\n",
       "    </tr>\n",
       "    <tr>\n",
       "      <th>1</th>\n",
       "      <td>0.549495</td>\n",
       "      <td>0.013361</td>\n",
       "      <td>0.972</td>\n",
       "      <td>0.844841</td>\n",
       "      <td>0.013093</td>\n",
       "      <td>(SelectKBest(k=2, score_func=&lt;function mutual_...</td>\n",
       "      <td>0.981</td>\n",
       "    </tr>\n",
       "    <tr>\n",
       "      <th>2</th>\n",
       "      <td>0.551129</td>\n",
       "      <td>0.013373</td>\n",
       "      <td>0.976</td>\n",
       "      <td>0.850654</td>\n",
       "      <td>0.013197</td>\n",
       "      <td>(SelectKBest(k=2, score_func=&lt;function mutual_...</td>\n",
       "      <td>0.973</td>\n",
       "    </tr>\n",
       "    <tr>\n",
       "      <th>3</th>\n",
       "      <td>0.533441</td>\n",
       "      <td>0.013198</td>\n",
       "      <td>0.958</td>\n",
       "      <td>0.847196</td>\n",
       "      <td>0.013250</td>\n",
       "      <td>(SelectKBest(k=2, score_func=&lt;function mutual_...</td>\n",
       "      <td>0.968</td>\n",
       "    </tr>\n",
       "    <tr>\n",
       "      <th>4</th>\n",
       "      <td>0.555110</td>\n",
       "      <td>0.013141</td>\n",
       "      <td>0.964</td>\n",
       "      <td>0.845393</td>\n",
       "      <td>0.013146</td>\n",
       "      <td>(SelectKBest(k=2, score_func=&lt;function mutual_...</td>\n",
       "      <td>0.976</td>\n",
       "    </tr>\n",
       "  </tbody>\n",
       "</table>\n",
       "</div>"
      ],
      "text/plain": [
       "                   fit_time                score_time  \\\n",
       "  Without feature selection Without feature selection   \n",
       "0                  0.568121                  0.013066   \n",
       "1                  0.549495                  0.013361   \n",
       "2                  0.551129                  0.013373   \n",
       "3                  0.533441                  0.013198   \n",
       "4                  0.555110                  0.013141   \n",
       "\n",
       "                 test_score               fit_time             score_time  \\\n",
       "  Without feature selection With feature selection With feature selection   \n",
       "0                     0.973               0.882355               0.013335   \n",
       "1                     0.972               0.844841               0.013093   \n",
       "2                     0.976               0.850654               0.013197   \n",
       "3                     0.958               0.847196               0.013250   \n",
       "4                     0.964               0.845393               0.013146   \n",
       "\n",
       "                                           estimator             test_score  \n",
       "                              With feature selection With feature selection  \n",
       "0  (SelectKBest(k=2, score_func=<function mutual_...                  0.981  \n",
       "1  (SelectKBest(k=2, score_func=<function mutual_...                  0.981  \n",
       "2  (SelectKBest(k=2, score_func=<function mutual_...                  0.973  \n",
       "3  (SelectKBest(k=2, score_func=<function mutual_...                  0.968  \n",
       "4  (SelectKBest(k=2, score_func=<function mutual_...                  0.976  "
      ]
     },
     "execution_count": 11,
     "metadata": {},
     "output_type": "execute_result"
    }
   ],
   "source": [
    "cv_results"
   ]
  },
  {
   "cell_type": "markdown",
   "metadata": {},
   "source": [
    "**Training duration** of both models:"
   ]
  },
  {
   "cell_type": "code",
   "execution_count": 12,
   "metadata": {},
   "outputs": [
    {
     "data": {
      "image/png": "[encoded data removed]",
      "text/plain": [
       "<Figure size 640x480 with 1 Axes>"
      ]
     },
     "metadata": {},
     "output_type": "display_data"
    }
   ],
   "source": [
    "import matplotlib.pyplot as plt\n",
    "\n",
    "color = {\"whiskers\": \"black\", \"medians\": \"black\", \"caps\": \"black\"}\n",
    "cv_results[\"fit_time\"].plot.box(color=color, vert=False)\n",
    "plt.xlabel(\"Elapsed time (s)\")\n",
    "plt.title(\"Time to fit the model\")\n",
    "plt.show()"
   ]
  },
  {
   "cell_type": "markdown",
   "metadata": {},
   "source": [
    "In fact, the training time with feature selection is about 50% longer! This is because the calculation of the mutual information is an NP-hard problem (further information [here](https://thuijskens.github.io/2017/10/07/feature-selection/) and [here](https://openproceedings.org/2018/conf/edbt/paper-27.pdf)) and is estimated using non-parametric methods. Thus, the complexity of feature selection exceeds that of the ML model. If the primary goal is to reduce the training time, a different method should be chosen (see the comparison [here](https://inria.github.io/scikit-learn-mooc/python_scripts/feature_selection_introduction.html) with the much more efficient *analysis of variance* (*ANOVA*))."
   ]
  },
  {
   "cell_type": "markdown",
   "metadata": {},
   "source": [
    "**Reference duration** of both models:"
   ]
  },
  {
   "cell_type": "code",
   "execution_count": 13,
   "metadata": {},
   "outputs": [
    {
     "data": {
      "image/png": "[encoded data removed]",
      "text/plain": [
       "<Figure size 640x480 with 1 Axes>"
      ]
     },
     "metadata": {},
     "output_type": "display_data"
    }
   ],
   "source": [
    "cv_results[\"score_time\"].plot.box(color=color, vert=False)\n",
    "plt.xlabel(\"Elapsed time (s)\")\n",
    "plt.title(\"Time to make prediction\")\n",
    "plt.show()"
   ]
  },
  {
   "cell_type": "markdown",
   "metadata": {},
   "source": [
    "However, once the features are reduced, we get faster inference times. Let's also take a look at the test accuracies:"
   ]
  },
  {
   "cell_type": "code",
   "execution_count": 14,
   "metadata": {},
   "outputs": [
    {
     "data": {
      "image/png": "[encoded data removed]",
      "text/plain": [
       "<Figure size 640x480 with 1 Axes>"
      ]
     },
     "metadata": {},
     "output_type": "display_data"
    }
   ],
   "source": [
    "cv_results[\"test_score\"].plot.box(color=color, vert=False)\n",
    "plt.xlabel(\"Accuracy score\")\n",
    "plt.title(\"Test score via cross-validation\")\n",
    "plt.show()"
   ]
  },
  {
   "cell_type": "markdown",
   "metadata": {},
   "source": [
    "By removing the uninformative features (*noise*), we actually get better model performance in this case. Models based on decision trees are actually quite robust against noise in the training data. This could result in even greater performance gains for other ML models."
   ]
  },
  {
   "cell_type": "code",
   "execution_count": 15,
   "metadata": {},
   "outputs": [
    {
     "name": "stdout",
     "output_type": "stream",
     "text": [
      "Fold #0 - selected features: [22 53]\n",
      "Fold #1 - selected features: [22 53]\n",
      "Fold #2 - selected features: [22 53]\n",
      "Fold #3 - selected features: [22 53]\n",
      "Fold #4 - selected features: [22 53]\n"
     ]
    }
   ],
   "source": [
    "import numpy as np\n",
    "\n",
    "for idx, pipeline in enumerate(cv_results_with_selection[\"estimator\"]):\n",
    "    print(\n",
    "        f\"Fold #{idx} - selected features: \"\n",
    "        f\"{np.argsort(pipeline[0].scores_)[-2:]}\"\n",
    "    )"
   ]
  },
  {
   "cell_type": "markdown",
   "metadata": {},
   "source": [
    "The relevant features are extracted for all splits using the mutual information. This is not always successful for weaker methods (see [here](https://inria.github.io/scikit-learn-mooc/python_scripts/feature_selection_introduction.html))."
   ]
  },
  {
   "cell_type": "markdown",
   "metadata": {},
   "source": [
    "**Note:** Only one of many feature selection methods has been demonstrated here. Just like ML models themselves, all feature selection methods have their advantages and disadvantages and should therefore be examined before each specific use case.`Scikit-learn` provides many more methods [available](https://scikit-learn.org/stable/modules/classes.html#module-sklearn.feature_selection)."
   ]
  },
  {
   "cell_type": "markdown",
   "metadata": {},
   "source": [
    "## Example: 1985 Automobile"
   ]
  },
  {
   "cell_type": "markdown",
   "metadata": {},
   "source": [
    "In the following, we will look at the mutual information values in a real dataset. We consider the [Automobile](https://www.kaggle.com/toramky/automobile-dataset) dataset, which contains 193 vehicles built in 1985. The goal of this dataset is to predict the `price`, based on 24 vehicle characteristics."
   ]
  },
  {
   "cell_type": "code",
   "execution_count": 16,
   "metadata": {},
   "outputs": [
    {
     "data": {
      "text/html": [
       "<div>\n",
       "<style scoped>\n",
       "    .dataframe tbody tr th:only-of-type {\n",
       "        vertical-align: middle;\n",
       "    }\n",
       "\n",
       "    .dataframe tbody tr th {\n",
       "        vertical-align: top;\n",
       "    }\n",
       "\n",
       "    .dataframe thead th {\n",
       "        text-align: right;\n",
       "    }\n",
       "</style>\n",
       "<table border=\"1\" class=\"dataframe\">\n",
       "  <thead>\n",
       "    <tr style=\"text-align: right;\">\n",
       "      <th></th>\n",
       "      <th>symboling</th>\n",
       "      <th>make</th>\n",
       "      <th>fuel-type</th>\n",
       "      <th>aspiration</th>\n",
       "      <th>num-of-doors</th>\n",
       "      <th>body-style</th>\n",
       "      <th>drive-wheels</th>\n",
       "      <th>engine-location</th>\n",
       "      <th>wheel-base</th>\n",
       "      <th>length</th>\n",
       "      <th>...</th>\n",
       "      <th>engine-size</th>\n",
       "      <th>fuel-system</th>\n",
       "      <th>bore</th>\n",
       "      <th>stroke</th>\n",
       "      <th>compression-ratio</th>\n",
       "      <th>horsepower</th>\n",
       "      <th>peak-rpm</th>\n",
       "      <th>city-mpg</th>\n",
       "      <th>highway-mpg</th>\n",
       "      <th>price</th>\n",
       "    </tr>\n",
       "  </thead>\n",
       "  <tbody>\n",
       "    <tr>\n",
       "      <th>0</th>\n",
       "      <td>3</td>\n",
       "      <td>alfa-romero</td>\n",
       "      <td>gas</td>\n",
       "      <td>std</td>\n",
       "      <td>two</td>\n",
       "      <td>convertible</td>\n",
       "      <td>rwd</td>\n",
       "      <td>front</td>\n",
       "      <td>88.6</td>\n",
       "      <td>168.8</td>\n",
       "      <td>...</td>\n",
       "      <td>130.0</td>\n",
       "      <td>mpfi</td>\n",
       "      <td>3.47</td>\n",
       "      <td>2.68</td>\n",
       "      <td>9.0</td>\n",
       "      <td>111.0</td>\n",
       "      <td>5000.0</td>\n",
       "      <td>21.0</td>\n",
       "      <td>27.0</td>\n",
       "      <td>13495.0</td>\n",
       "    </tr>\n",
       "    <tr>\n",
       "      <th>1</th>\n",
       "      <td>3</td>\n",
       "      <td>alfa-romero</td>\n",
       "      <td>gas</td>\n",
       "      <td>std</td>\n",
       "      <td>two</td>\n",
       "      <td>convertible</td>\n",
       "      <td>rwd</td>\n",
       "      <td>front</td>\n",
       "      <td>88.6</td>\n",
       "      <td>168.8</td>\n",
       "      <td>...</td>\n",
       "      <td>130.0</td>\n",
       "      <td>mpfi</td>\n",
       "      <td>3.47</td>\n",
       "      <td>2.68</td>\n",
       "      <td>9.0</td>\n",
       "      <td>111.0</td>\n",
       "      <td>5000.0</td>\n",
       "      <td>21.0</td>\n",
       "      <td>27.0</td>\n",
       "      <td>16500.0</td>\n",
       "    </tr>\n",
       "    <tr>\n",
       "      <th>2</th>\n",
       "      <td>1</td>\n",
       "      <td>alfa-romero</td>\n",
       "      <td>gas</td>\n",
       "      <td>std</td>\n",
       "      <td>two</td>\n",
       "      <td>hatchback</td>\n",
       "      <td>rwd</td>\n",
       "      <td>front</td>\n",
       "      <td>94.5</td>\n",
       "      <td>171.2</td>\n",
       "      <td>...</td>\n",
       "      <td>152.0</td>\n",
       "      <td>mpfi</td>\n",
       "      <td>2.68</td>\n",
       "      <td>3.47</td>\n",
       "      <td>9.0</td>\n",
       "      <td>154.0</td>\n",
       "      <td>5000.0</td>\n",
       "      <td>19.0</td>\n",
       "      <td>26.0</td>\n",
       "      <td>16500.0</td>\n",
       "    </tr>\n",
       "    <tr>\n",
       "      <th>3</th>\n",
       "      <td>2</td>\n",
       "      <td>audi</td>\n",
       "      <td>gas</td>\n",
       "      <td>std</td>\n",
       "      <td>four</td>\n",
       "      <td>sedan</td>\n",
       "      <td>fwd</td>\n",
       "      <td>front</td>\n",
       "      <td>99.8</td>\n",
       "      <td>176.6</td>\n",
       "      <td>...</td>\n",
       "      <td>109.0</td>\n",
       "      <td>mpfi</td>\n",
       "      <td>3.19</td>\n",
       "      <td>3.40</td>\n",
       "      <td>10.0</td>\n",
       "      <td>102.0</td>\n",
       "      <td>5500.0</td>\n",
       "      <td>24.0</td>\n",
       "      <td>30.0</td>\n",
       "      <td>13950.0</td>\n",
       "    </tr>\n",
       "    <tr>\n",
       "      <th>4</th>\n",
       "      <td>2</td>\n",
       "      <td>audi</td>\n",
       "      <td>gas</td>\n",
       "      <td>std</td>\n",
       "      <td>four</td>\n",
       "      <td>sedan</td>\n",
       "      <td>4wd</td>\n",
       "      <td>front</td>\n",
       "      <td>99.4</td>\n",
       "      <td>176.6</td>\n",
       "      <td>...</td>\n",
       "      <td>136.0</td>\n",
       "      <td>mpfi</td>\n",
       "      <td>3.19</td>\n",
       "      <td>3.40</td>\n",
       "      <td>8.0</td>\n",
       "      <td>115.0</td>\n",
       "      <td>5500.0</td>\n",
       "      <td>18.0</td>\n",
       "      <td>22.0</td>\n",
       "      <td>17450.0</td>\n",
       "    </tr>\n",
       "  </tbody>\n",
       "</table>\n",
       "<p>5 rows × 25 columns</p>\n",
       "</div>"
      ],
      "text/plain": [
       "   symboling         make fuel-type aspiration num-of-doors   body-style  \\\n",
       "0          3  alfa-romero       gas        std          two  convertible   \n",
       "1          3  alfa-romero       gas        std          two  convertible   \n",
       "2          1  alfa-romero       gas        std          two    hatchback   \n",
       "3          2         audi       gas        std         four        sedan   \n",
       "4          2         audi       gas        std         four        sedan   \n",
       "\n",
       "  drive-wheels engine-location  wheel-base  length  ...  engine-size  \\\n",
       "0          rwd           front        88.6   168.8  ...        130.0   \n",
       "1          rwd           front        88.6   168.8  ...        130.0   \n",
       "2          rwd           front        94.5   171.2  ...        152.0   \n",
       "3          fwd           front        99.8   176.6  ...        109.0   \n",
       "4          4wd           front        99.4   176.6  ...        136.0   \n",
       "\n",
       "   fuel-system  bore stroke  compression-ratio  horsepower peak-rpm  city-mpg  \\\n",
       "0         mpfi  3.47   2.68                9.0       111.0   5000.0      21.0   \n",
       "1         mpfi  3.47   2.68                9.0       111.0   5000.0      21.0   \n",
       "2         mpfi  2.68   3.47                9.0       154.0   5000.0      19.0   \n",
       "3         mpfi  3.19   3.40               10.0       102.0   5500.0      24.0   \n",
       "4         mpfi  3.19   3.40                8.0       115.0   5500.0      18.0   \n",
       "\n",
       "   highway-mpg    price  \n",
       "0         27.0  13495.0  \n",
       "1         27.0  16500.0  \n",
       "2         26.0  16500.0  \n",
       "3         30.0  13950.0  \n",
       "4         22.0  17450.0  \n",
       "\n",
       "[5 rows x 25 columns]"
      ]
     },
     "execution_count": 16,
     "metadata": {},
     "output_type": "execute_result"
    }
   ],
   "source": [
    "import seaborn as sns\n",
    "\n",
    "#plt.style.use(\"seaborn-whitegrid\")\n",
    "\n",
    "autos = pd.read_csv(\"./data/automobile.csv\")\n",
    "autos.head()"
   ]
  },
  {
   "cell_type": "markdown",
   "metadata": {},
   "source": [
    "Fortunately, mutual information is flexible when dealing with numerical or categorical variables. In the example shown here, we use integer encoding for the sake of simplicity. Normally, however, one-hot encoding is preferable!"
   ]
  },
  {
   "cell_type": "code",
   "execution_count": 17,
   "metadata": {},
   "outputs": [],
   "source": [
    "X = autos.copy()\n",
    "y = X.pop(\"price\")\n",
    "\n",
    "# Integer encoding for categoricals\n",
    "for colname in X.select_dtypes(\"object\"):\n",
    "    X[colname], _ = X[colname].factorize()\n",
    "\n",
    "# All discrete features should now have integer dtypes (double-check this before using MI!)\n",
    "discrete_features = X.dtypes == int"
   ]
  },
  {
   "cell_type": "markdown",
   "metadata": {},
   "source": [
    "Since this example is a regression (which plays a role in the calculation of the mutual information), we select `mutual_info_regression` as the method:"
   ]
  },
  {
   "cell_type": "code",
   "execution_count": 18,
   "metadata": {},
   "outputs": [
    {
     "data": {
      "text/plain": [
       "engine-size    0.910567\n",
       "highway-mpg    0.882411\n",
       "length         0.607227\n",
       "fuel-system    0.480715\n",
       "height         0.356468\n",
       "symboling      0.228783\n",
       "engine-type    0.151544\n",
       "fuel-type      0.048139\n",
       "Name: MI Scores, dtype: float64"
      ]
     },
     "execution_count": 18,
     "metadata": {},
     "output_type": "execute_result"
    }
   ],
   "source": [
    "from sklearn.feature_selection import mutual_info_regression\n",
    "\n",
    "def make_mi_scores(X, y, discrete_features):\n",
    "    mi_scores = mutual_info_regression(X, y, discrete_features=discrete_features)\n",
    "    mi_scores = pd.Series(mi_scores, name=\"MI Scores\", index=X.columns)\n",
    "    mi_scores = mi_scores.sort_values(ascending=False)\n",
    "    return mi_scores\n",
    "\n",
    "mi_scores = make_mi_scores(X, y, discrete_features)\n",
    "mi_scores[::3]  # show some feature with transinformation value "
   ]
  },
  {
   "cell_type": "markdown",
   "metadata": {},
   "source": [
    "This can be illustrated more clearly with a plot:"
   ]
  },
  {
   "cell_type": "code",
   "execution_count": 19,
   "metadata": {},
   "outputs": [
    {
     "data": {
      "image/png": "[encoded data removed]",
      "text/plain": [
       "<Figure size 800x500 with 1 Axes>"
      ]
     },
     "metadata": {},
     "output_type": "display_data"
    }
   ],
   "source": [
    "def plot_mi_scores(scores):\n",
    "    scores = scores.sort_values(ascending=True)\n",
    "    width = np.arange(len(scores))\n",
    "    ticks = list(scores.index)\n",
    "    plt.barh(width, scores)\n",
    "    plt.yticks(width, ticks)\n",
    "    plt.title(\"Mutual Information Scores\")\n",
    "\n",
    "\n",
    "plt.figure(dpi=100, figsize=(8, 5))\n",
    "plot_mi_scores(mi_scores)"
   ]
  },
  {
   "cell_type": "markdown",
   "metadata": {},
   "source": [
    "curb-weight is the total weight of the vehicle. The strong correlation with `price` does not seem surprising. We can look at this with the help of a scatterplot:"
   ]
  },
  {
   "cell_type": "code",
   "execution_count": 20,
   "metadata": {},
   "outputs": [
    {
     "data": {
      "image/png": "[encoded data removed]",
      "text/plain": [
       "<Figure size 500x500 with 1 Axes>"
      ]
     },
     "metadata": {},
     "output_type": "display_data"
    }
   ],
   "source": [
    "import seaborn as sns\n",
    "sns.relplot(x=\"curb-weight\", y=\"price\", data=autos)\n",
    "plt.show()"
   ]
  },
  {
   "cell_type": "markdown",
   "metadata": {},
   "source": [
    "The feature `fuel_type` has a relatively low mutual information value, but as we can see in the figure below, it clearly separates two price populations with different trends within the feature `horsepower`. This suggests that `fuel-type` contributes an interaction effect and may not be unimportant after all. Before deciding that a feature is unimportant based on the mutual information value, possible interaction effects should be investigated - domain knowledge can be of great help here."
   ]
  },
  {
   "cell_type": "code",
   "execution_count": 21,
   "metadata": {},
   "outputs": [
    {
     "data": {
      "image/png": "[encoded data removed]",
      "text/plain": [
       "<Figure size 590.75x500 with 1 Axes>"
      ]
     },
     "metadata": {},
     "output_type": "display_data"
    }
   ],
   "source": [
    "sns.lmplot(x=\"horsepower\", y=\"price\", hue=\"fuel-type\", data=autos)\n",
    "plt.show()"
   ]
  },
  {
   "cell_type": "markdown",
   "metadata": {},
   "source": [
    "In this section, we have learned methods that can help us select potentially important features. In the following, we will look at how we can now create new features on the basis of such features."
   ]
  },
  {
   "cell_type": "markdown",
   "metadata": {},
   "source": [
    "# Feature Engineering: Creation of new features\n",
    "---"
   ]
  },
  {
   "cell_type": "markdown",
   "metadata": {},
   "source": [
    "The creation/transformation of new features based on existing features is at the heart of the feature engineering process. In this section, we look at some transformations that can be expected to have a positive impact on ML models. We use four different datasets, (with `automobile` and `concrete` already imported above). In addition, we look at data on [traffic accidents](https://www.kaggle.com/sobhanmoosavi/us-accidents) in the USA and data on [customer lifetime value](https://www.kaggle.com/pankajjsh06/ibm-watson-marketing-customer-value-data)."
   ]
  },
  {
   "cell_type": "code",
   "execution_count": 22,
   "metadata": {},
   "outputs": [],
   "source": [
    "#plt.style.use(\"seaborn-whitegrid\")\n",
    "plt.rc(\"figure\", autolayout=True)\n",
    "plt.rc(\n",
    "    \"axes\",\n",
    "    labelweight=\"bold\",\n",
    "    labelsize=\"large\",\n",
    "    titleweight=\"bold\",\n",
    "    titlesize=14,\n",
    "    titlepad=10,\n",
    ")\n",
    "\n",
    "accidents = pd.read_csv(\"./data/accidents.csv\")\n",
    "customer = pd.read_csv(\"./data/customer.csv\")"
   ]
  },
  {
   "cell_type": "markdown",
   "metadata": {},
   "source": [
    "Below we will take a look at some useful transformations of features. However, the possibilities for developing new types of features are unlimited. It is therefore not always clear which feature combinations and transformations make sense. Here are some **tips** that can be helpful when discovering new features:\n",
    "\n",
    "* Build up an understanding of the individual features. If necessary, check the data documentation.\n",
    "* **Domain knowledge** is the most important factor when creating features. Extensive research using books, journals, articles and of course dialog with experts can strengthen your knowledge.\n",
    "* Research related work in the field. For example, the [explanation of solutions](https://www.kaggle.com/sudalairajkumar/winning-solutions-of-kaggle-competitions) for past Kaggle competitions is a great resource.\n",
    "* Use of visualizations. Visualization can reveal pathologies in the distribution of a feature or complicated relationships that could be simplified."
   ]
  },
  {
   "cell_type": "markdown",
   "metadata": {},
   "source": [
    "## Mathematical transformations"
   ]
  },
  {
   "cell_type": "markdown",
   "metadata": {},
   "source": [
    "Relationships between numerical features are often expressed by mathematical formulas, which we will encounter frequently in our domain research. In the Automobile dataset, there are features that describe the engine of a car. After researching, we find out that the stroke-bore ratio is a known characteristic of an engine and has an impact on its operating behavior. Applying the formula to the known features results in a new feature:"
   ]
  },
  {
   "cell_type": "code",
   "execution_count": 23,
   "metadata": {},
   "outputs": [
    {
     "data": {
      "text/html": [
       "<div>\n",
       "<style scoped>\n",
       "    .dataframe tbody tr th:only-of-type {\n",
       "        vertical-align: middle;\n",
       "    }\n",
       "\n",
       "    .dataframe tbody tr th {\n",
       "        vertical-align: top;\n",
       "    }\n",
       "\n",
       "    .dataframe thead th {\n",
       "        text-align: right;\n",
       "    }\n",
       "</style>\n",
       "<table border=\"1\" class=\"dataframe\">\n",
       "  <thead>\n",
       "    <tr style=\"text-align: right;\">\n",
       "      <th></th>\n",
       "      <th>stroke</th>\n",
       "      <th>bore</th>\n",
       "      <th>stroke_ratio</th>\n",
       "    </tr>\n",
       "  </thead>\n",
       "  <tbody>\n",
       "    <tr>\n",
       "      <th>0</th>\n",
       "      <td>2.68</td>\n",
       "      <td>3.47</td>\n",
       "      <td>0.772334</td>\n",
       "    </tr>\n",
       "    <tr>\n",
       "      <th>1</th>\n",
       "      <td>2.68</td>\n",
       "      <td>3.47</td>\n",
       "      <td>0.772334</td>\n",
       "    </tr>\n",
       "    <tr>\n",
       "      <th>2</th>\n",
       "      <td>3.47</td>\n",
       "      <td>2.68</td>\n",
       "      <td>1.294776</td>\n",
       "    </tr>\n",
       "    <tr>\n",
       "      <th>3</th>\n",
       "      <td>3.40</td>\n",
       "      <td>3.19</td>\n",
       "      <td>1.065831</td>\n",
       "    </tr>\n",
       "    <tr>\n",
       "      <th>4</th>\n",
       "      <td>3.40</td>\n",
       "      <td>3.19</td>\n",
       "      <td>1.065831</td>\n",
       "    </tr>\n",
       "  </tbody>\n",
       "</table>\n",
       "</div>"
      ],
      "text/plain": [
       "   stroke  bore  stroke_ratio\n",
       "0    2.68  3.47      0.772334\n",
       "1    2.68  3.47      0.772334\n",
       "2    3.47  2.68      1.294776\n",
       "3    3.40  3.19      1.065831\n",
       "4    3.40  3.19      1.065831"
      ]
     },
     "execution_count": 23,
     "metadata": {},
     "output_type": "execute_result"
    }
   ],
   "source": [
    "autos[\"stroke_ratio\"] = autos['stroke'] / autos['bore']\n",
    "\n",
    "autos[[\"stroke\", \"bore\", \"stroke_ratio\"]].head()"
   ]
  },
  {
   "cell_type": "markdown",
   "metadata": {},
   "source": [
    "The more complicated a combination is, the more difficult it is for a model to learn, like this formula for the *displacement* of an engine:"
   ]
  },
  {
   "cell_type": "code",
   "execution_count": 24,
   "metadata": {},
   "outputs": [],
   "source": [
    "autos[\"displacement\"] = (\n",
    "    np.pi * ((0.5 * autos['bore']) ** 2) * autos['stroke'] * autos['num-of-cylinders']\n",
    ")"
   ]
  },
  {
   "cell_type": "markdown",
   "metadata": {},
   "source": [
    "**Skewed distributions** of features are a common problem for ML models. This particularly affects [log-normally distributed](https://en.wikipedia.org/wiki/Log-normal_distribution) features (*long-tailed*), which frequently occur in the natural sciences, technology and economics due to multiplicative laws. A common example of this is *prices* or *income*. Most of the values lie in a fairly small range, but there is hardly any upper limit. This large distance leads to problems with scaling, among other things, as the distance ratios are compressed by the scaling. In these cases, it can help to logarithmize in order to aim for a normal distribution. Here using the example of `price` in the car data set:"
   ]
  },
  {
   "cell_type": "code",
   "execution_count": 25,
   "metadata": {},
   "outputs": [
    {
     "data": {
      "image/png": "[encoded data removed]",
      "text/plain": [
       "<Figure size 1000x400 with 2 Axes>"
      ]
     },
     "metadata": {},
     "output_type": "display_data"
    }
   ],
   "source": [
    "# np.log1p (log(1+x)) anstatt np.log wegen Nullwerten!\n",
    "autos['log_price'] = np.log1p(autos['price']) \n",
    "\n",
    "fig,axs = plt.subplots(1,2,figsize=(10,4))\n",
    "\n",
    "sns.histplot(autos['price'], ax=axs[0])\n",
    "sns.histplot(autos['log_price'], ax=axs[1]);"
   ]
  },
  {
   "cell_type": "markdown",
   "metadata": {},
   "source": [
    "The transformation has reduced the skew and the dynamic range of the distribution."
   ]
  },
  {
   "cell_type": "markdown",
   "metadata": {},
   "source": [
    " This approach is particularly popular for **class variables** (prediction of prices or sales, etc.)! See also the application example of the [TransformedTargetRegressor](https://scikit-learn.org/stable/auto_examples/compose/plot_transformed_target.html) from `scikit-learn`. It should be noted, however, that the success of such a transformation depends heavily on the error used (see also [here](https://florianwilhelm.info/2020/05/honey_i_shrunk_the_target_variable/)). For more information, see also [Jeremy Howard](https://mlbook.explained.ai/prep.html#logtarget)."
   ]
  },
  {
   "cell_type": "markdown",
   "metadata": {},
   "source": [
    "## Countable events"
   ]
  },
  {
   "cell_type": "markdown",
   "metadata": {},
   "source": [
    "Characteristics that describe the presence of something are often summarized in groups, e.g. the group of risk factors for a disease. We can aggregate such features by creating a count. These characteristics are binary (1 for present, 0 for absent) or boolean (True or False). In both cases, we can simply create a sum using Python.\n",
    "\n",
    "In `accidents` there are several attributes that indicate whether an object on the roadway was near the accident. A count of the total number of roadway attributes in the vicinity is created using the sum method:"
   ]
  },
  {
   "cell_type": "code",
   "execution_count": 26,
   "metadata": {},
   "outputs": [
    {
     "data": {
      "text/html": [
       "<div>\n",
       "<style scoped>\n",
       "    .dataframe tbody tr th:only-of-type {\n",
       "        vertical-align: middle;\n",
       "    }\n",
       "\n",
       "    .dataframe tbody tr th {\n",
       "        vertical-align: top;\n",
       "    }\n",
       "\n",
       "    .dataframe thead th {\n",
       "        text-align: right;\n",
       "    }\n",
       "</style>\n",
       "<table border=\"1\" class=\"dataframe\">\n",
       "  <thead>\n",
       "    <tr style=\"text-align: right;\">\n",
       "      <th></th>\n",
       "      <th>Amenity</th>\n",
       "      <th>Bump</th>\n",
       "      <th>Crossing</th>\n",
       "      <th>Give_Way</th>\n",
       "      <th>Junction</th>\n",
       "      <th>No_Exit</th>\n",
       "      <th>Railway</th>\n",
       "      <th>Roundabout</th>\n",
       "      <th>Station</th>\n",
       "      <th>Stop</th>\n",
       "      <th>Traffic_Calming</th>\n",
       "      <th>Traffic_Signal</th>\n",
       "      <th>RoadwayFeatures</th>\n",
       "    </tr>\n",
       "  </thead>\n",
       "  <tbody>\n",
       "    <tr>\n",
       "      <th>0</th>\n",
       "      <td>False</td>\n",
       "      <td>False</td>\n",
       "      <td>False</td>\n",
       "      <td>False</td>\n",
       "      <td>True</td>\n",
       "      <td>False</td>\n",
       "      <td>False</td>\n",
       "      <td>False</td>\n",
       "      <td>False</td>\n",
       "      <td>False</td>\n",
       "      <td>False</td>\n",
       "      <td>False</td>\n",
       "      <td>1</td>\n",
       "    </tr>\n",
       "    <tr>\n",
       "      <th>1</th>\n",
       "      <td>False</td>\n",
       "      <td>False</td>\n",
       "      <td>False</td>\n",
       "      <td>False</td>\n",
       "      <td>False</td>\n",
       "      <td>False</td>\n",
       "      <td>False</td>\n",
       "      <td>False</td>\n",
       "      <td>False</td>\n",
       "      <td>False</td>\n",
       "      <td>False</td>\n",
       "      <td>False</td>\n",
       "      <td>0</td>\n",
       "    </tr>\n",
       "    <tr>\n",
       "      <th>2</th>\n",
       "      <td>False</td>\n",
       "      <td>False</td>\n",
       "      <td>False</td>\n",
       "      <td>False</td>\n",
       "      <td>False</td>\n",
       "      <td>False</td>\n",
       "      <td>False</td>\n",
       "      <td>False</td>\n",
       "      <td>False</td>\n",
       "      <td>False</td>\n",
       "      <td>False</td>\n",
       "      <td>False</td>\n",
       "      <td>0</td>\n",
       "    </tr>\n",
       "    <tr>\n",
       "      <th>3</th>\n",
       "      <td>False</td>\n",
       "      <td>False</td>\n",
       "      <td>False</td>\n",
       "      <td>False</td>\n",
       "      <td>False</td>\n",
       "      <td>False</td>\n",
       "      <td>False</td>\n",
       "      <td>False</td>\n",
       "      <td>False</td>\n",
       "      <td>False</td>\n",
       "      <td>False</td>\n",
       "      <td>False</td>\n",
       "      <td>0</td>\n",
       "    </tr>\n",
       "    <tr>\n",
       "      <th>4</th>\n",
       "      <td>False</td>\n",
       "      <td>False</td>\n",
       "      <td>False</td>\n",
       "      <td>False</td>\n",
       "      <td>False</td>\n",
       "      <td>False</td>\n",
       "      <td>False</td>\n",
       "      <td>False</td>\n",
       "      <td>False</td>\n",
       "      <td>False</td>\n",
       "      <td>False</td>\n",
       "      <td>False</td>\n",
       "      <td>0</td>\n",
       "    </tr>\n",
       "  </tbody>\n",
       "</table>\n",
       "</div>"
      ],
      "text/plain": [
       "   Amenity   Bump  Crossing  Give_Way  Junction  No_Exit  Railway  Roundabout  \\\n",
       "0    False  False     False     False      True    False    False       False   \n",
       "1    False  False     False     False     False    False    False       False   \n",
       "2    False  False     False     False     False    False    False       False   \n",
       "3    False  False     False     False     False    False    False       False   \n",
       "4    False  False     False     False     False    False    False       False   \n",
       "\n",
       "   Station   Stop  Traffic_Calming  Traffic_Signal  RoadwayFeatures  \n",
       "0    False  False            False           False                1  \n",
       "1    False  False            False           False                0  \n",
       "2    False  False            False           False                0  \n",
       "3    False  False            False           False                0  \n",
       "4    False  False            False           False                0  "
      ]
     },
     "execution_count": 26,
     "metadata": {},
     "output_type": "execute_result"
    }
   ],
   "source": [
    "roadway_features = [\"Amenity\", \"Bump\", \"Crossing\", \"Give_Way\",\n",
    "    \"Junction\", \"No_Exit\", \"Railway\", \"Roundabout\", \"Station\", \"Stop\",\n",
    "    \"Traffic_Calming\", \"Traffic_Signal\"]\n",
    "accidents[\"RoadwayFeatures\"] = accidents[roadway_features].sum(axis=1)\n",
    "\n",
    "accidents[roadway_features + [\"RoadwayFeatures\"]].head(5)"
   ]
  },
  {
   "cell_type": "markdown",
   "metadata": {},
   "source": [
    "Conversely, we can also generate Boolean values. In the `concrete` data set, the quantities of the components used are specified as floats, but not all components are always used. We can use Pandas [`.gt()`](https://pandas.pydata.org/docs/reference/api/pandas.DataFrame.gt.html) to check which components are greater than zero and count them:"
   ]
  },
  {
   "cell_type": "code",
   "execution_count": 27,
   "metadata": {},
   "outputs": [
    {
     "data": {
      "text/html": [
       "<div>\n",
       "<style scoped>\n",
       "    .dataframe tbody tr th:only-of-type {\n",
       "        vertical-align: middle;\n",
       "    }\n",
       "\n",
       "    .dataframe tbody tr th {\n",
       "        vertical-align: top;\n",
       "    }\n",
       "\n",
       "    .dataframe thead th {\n",
       "        text-align: right;\n",
       "    }\n",
       "</style>\n",
       "<table border=\"1\" class=\"dataframe\">\n",
       "  <thead>\n",
       "    <tr style=\"text-align: right;\">\n",
       "      <th></th>\n",
       "      <th>Cement</th>\n",
       "      <th>BlastFurnaceSlag</th>\n",
       "      <th>FlyAsh</th>\n",
       "      <th>Water</th>\n",
       "      <th>Superplasticizer</th>\n",
       "      <th>CoarseAggregate</th>\n",
       "      <th>FineAggregate</th>\n",
       "      <th>Components</th>\n",
       "    </tr>\n",
       "  </thead>\n",
       "  <tbody>\n",
       "    <tr>\n",
       "      <th>0</th>\n",
       "      <td>540.0</td>\n",
       "      <td>0.0</td>\n",
       "      <td>0.0</td>\n",
       "      <td>162.0</td>\n",
       "      <td>2.5</td>\n",
       "      <td>1040.0</td>\n",
       "      <td>676.0</td>\n",
       "      <td>5</td>\n",
       "    </tr>\n",
       "    <tr>\n",
       "      <th>1</th>\n",
       "      <td>540.0</td>\n",
       "      <td>0.0</td>\n",
       "      <td>0.0</td>\n",
       "      <td>162.0</td>\n",
       "      <td>2.5</td>\n",
       "      <td>1055.0</td>\n",
       "      <td>676.0</td>\n",
       "      <td>5</td>\n",
       "    </tr>\n",
       "    <tr>\n",
       "      <th>2</th>\n",
       "      <td>332.5</td>\n",
       "      <td>142.5</td>\n",
       "      <td>0.0</td>\n",
       "      <td>228.0</td>\n",
       "      <td>0.0</td>\n",
       "      <td>932.0</td>\n",
       "      <td>594.0</td>\n",
       "      <td>5</td>\n",
       "    </tr>\n",
       "    <tr>\n",
       "      <th>3</th>\n",
       "      <td>332.5</td>\n",
       "      <td>142.5</td>\n",
       "      <td>0.0</td>\n",
       "      <td>228.0</td>\n",
       "      <td>0.0</td>\n",
       "      <td>932.0</td>\n",
       "      <td>594.0</td>\n",
       "      <td>5</td>\n",
       "    </tr>\n",
       "    <tr>\n",
       "      <th>4</th>\n",
       "      <td>198.6</td>\n",
       "      <td>132.4</td>\n",
       "      <td>0.0</td>\n",
       "      <td>192.0</td>\n",
       "      <td>0.0</td>\n",
       "      <td>978.4</td>\n",
       "      <td>825.5</td>\n",
       "      <td>5</td>\n",
       "    </tr>\n",
       "  </tbody>\n",
       "</table>\n",
       "</div>"
      ],
      "text/plain": [
       "   Cement  BlastFurnaceSlag  FlyAsh  Water  Superplasticizer  CoarseAggregate  \\\n",
       "0   540.0               0.0     0.0  162.0               2.5           1040.0   \n",
       "1   540.0               0.0     0.0  162.0               2.5           1055.0   \n",
       "2   332.5             142.5     0.0  228.0               0.0            932.0   \n",
       "3   332.5             142.5     0.0  228.0               0.0            932.0   \n",
       "4   198.6             132.4     0.0  192.0               0.0            978.4   \n",
       "\n",
       "   FineAggregate  Components  \n",
       "0          676.0           5  \n",
       "1          676.0           5  \n",
       "2          594.0           5  \n",
       "3          594.0           5  \n",
       "4          825.5           5  "
      ]
     },
     "execution_count": 27,
     "metadata": {},
     "output_type": "execute_result"
    }
   ],
   "source": [
    "components = [ \"Cement\", \"BlastFurnaceSlag\", \"FlyAsh\", \"Water\",\n",
    "               \"Superplasticizer\", \"CoarseAggregate\", \"FineAggregate\"]\n",
    "concrete[\"Components\"] = concrete[components].gt(0).sum(axis=1)\n",
    "\n",
    "concrete[components + [\"Components\"]].head(5)"
   ]
  },
  {
   "cell_type": "markdown",
   "metadata": {},
   "source": [
    "## Combining and separating features"
   ]
  },
  {
   "cell_type": "markdown",
   "metadata": {},
   "source": [
    "More complex strings often contain several features that can be extracted. Some examples:"
   ]
  },
  {
   "cell_type": "markdown",
   "metadata": {},
   "source": [
    "* IDs: `123-45-6789`\n",
    "* Telephone numbers: `0123-456789`\n",
    "* Addresses: `8241 Kaggle Ln., Goose City, NV`\n",
    "* URL: `https://dataakademie.de/`\n",
    "* DateTime formats: `Mon Sep 30 07:06:05 2013`"
   ]
  },
  {
   "cell_type": "markdown",
   "metadata": {},
   "source": [
    "The structure of such features can easily be used to extract further features. For example, the first digits of the phone number can be used to estimate the location. Below we split the feature `policy` into two new features:"
   ]
  },
  {
   "cell_type": "code",
   "execution_count": 28,
   "metadata": {},
   "outputs": [
    {
     "data": {
      "text/html": [
       "<div>\n",
       "<style scoped>\n",
       "    .dataframe tbody tr th:only-of-type {\n",
       "        vertical-align: middle;\n",
       "    }\n",
       "\n",
       "    .dataframe tbody tr th {\n",
       "        vertical-align: top;\n",
       "    }\n",
       "\n",
       "    .dataframe thead th {\n",
       "        text-align: right;\n",
       "    }\n",
       "</style>\n",
       "<table border=\"1\" class=\"dataframe\">\n",
       "  <thead>\n",
       "    <tr style=\"text-align: right;\">\n",
       "      <th></th>\n",
       "      <th>Policy</th>\n",
       "      <th>Type</th>\n",
       "      <th>Level</th>\n",
       "    </tr>\n",
       "  </thead>\n",
       "  <tbody>\n",
       "    <tr>\n",
       "      <th>0</th>\n",
       "      <td>Corporate L3</td>\n",
       "      <td>Corporate</td>\n",
       "      <td>L3</td>\n",
       "    </tr>\n",
       "    <tr>\n",
       "      <th>1</th>\n",
       "      <td>Personal L3</td>\n",
       "      <td>Personal</td>\n",
       "      <td>L3</td>\n",
       "    </tr>\n",
       "    <tr>\n",
       "      <th>2</th>\n",
       "      <td>Personal L3</td>\n",
       "      <td>Personal</td>\n",
       "      <td>L3</td>\n",
       "    </tr>\n",
       "    <tr>\n",
       "      <th>3</th>\n",
       "      <td>Corporate L2</td>\n",
       "      <td>Corporate</td>\n",
       "      <td>L2</td>\n",
       "    </tr>\n",
       "    <tr>\n",
       "      <th>4</th>\n",
       "      <td>Personal L1</td>\n",
       "      <td>Personal</td>\n",
       "      <td>L1</td>\n",
       "    </tr>\n",
       "  </tbody>\n",
       "</table>\n",
       "</div>"
      ],
      "text/plain": [
       "         Policy       Type Level\n",
       "0  Corporate L3  Corporate    L3\n",
       "1   Personal L3   Personal    L3\n",
       "2   Personal L3   Personal    L3\n",
       "3  Corporate L2  Corporate    L2\n",
       "4   Personal L1   Personal    L1"
      ]
     },
     "execution_count": 28,
     "metadata": {},
     "output_type": "execute_result"
    }
   ],
   "source": [
    "customer[[\"Type\", \"Level\"]] = (  # Create two new features\n",
    "    customer[\"Policy\"]           # from the Policy feature\n",
    "    .str                         # through the string method\n",
    "    .split(\" \", expand=True)     # by splitting on \" \"\n",
    "                                 # and expanding the result into separate columns\n",
    ")\n",
    "\n",
    "customer[[\"Policy\", \"Type\", \"Level\"]].head(5)"
   ]
  },
  {
   "cell_type": "markdown",
   "metadata": {},
   "source": [
    "The extraction of **date information** can have a particularly strong impact on a forecasting model. For example, if retail sales figures are to be predicted, then the days of the week, days before and after holidays, months, etc. are extremely relevant for the sales achieved. We should not withhold this information from an ML model!"
   ]
  },
  {
   "cell_type": "markdown",
   "metadata": {},
   "source": [
    "We can use Panda's `.dt` to easily extract valuable date information for the `accidents` data set:"
   ]
  },
  {
   "cell_type": "code",
   "execution_count": 29,
   "metadata": {},
   "outputs": [
    {
     "data": {
      "text/plain": [
       "0    2019-10-30 17:12:00\n",
       "1    2019-05-19 15:49:40\n",
       "2    2019-01-28 13:49:37\n",
       "3    2017-03-24 14:03:46\n",
       "4    2019-12-07 14:28:33\n",
       "Name: Start_Time, dtype: object"
      ]
     },
     "execution_count": 29,
     "metadata": {},
     "output_type": "execute_result"
    }
   ],
   "source": [
    "accidents.Start_Time.head()"
   ]
  },
  {
   "cell_type": "code",
   "execution_count": 30,
   "metadata": {},
   "outputs": [],
   "source": [
    "accidents['Start_Time'] = pd.to_datetime(accidents['Start_Time'], format='ISO8601')\n",
    "\n",
    "accidents['Year'] = accidents['Start_Time'].dt.year\n",
    "accidents['Month'] = accidents['Start_Time'].dt.month\n",
    "accidents['Day'] = accidents['Start_Time'].dt.day\n",
    "accidents['WeekOfYear'] = accidents['Start_Time'].dt.isocalendar().week\n",
    "accidents['DayOfYear'] = accidents['Start_Time'].dt.dayofyear"
   ]
  },
  {
   "cell_type": "code",
   "execution_count": 31,
   "metadata": {},
   "outputs": [
    {
     "data": {
      "text/html": [
       "<div>\n",
       "<style scoped>\n",
       "    .dataframe tbody tr th:only-of-type {\n",
       "        vertical-align: middle;\n",
       "    }\n",
       "\n",
       "    .dataframe tbody tr th {\n",
       "        vertical-align: top;\n",
       "    }\n",
       "\n",
       "    .dataframe thead th {\n",
       "        text-align: right;\n",
       "    }\n",
       "</style>\n",
       "<table border=\"1\" class=\"dataframe\">\n",
       "  <thead>\n",
       "    <tr style=\"text-align: right;\">\n",
       "      <th></th>\n",
       "      <th>Start_Time</th>\n",
       "      <th>Year</th>\n",
       "      <th>Month</th>\n",
       "      <th>Day</th>\n",
       "      <th>WeekOfYear</th>\n",
       "      <th>DayOfYear</th>\n",
       "    </tr>\n",
       "  </thead>\n",
       "  <tbody>\n",
       "    <tr>\n",
       "      <th>0</th>\n",
       "      <td>2019-10-30 17:12:00</td>\n",
       "      <td>2019</td>\n",
       "      <td>10</td>\n",
       "      <td>30</td>\n",
       "      <td>44</td>\n",
       "      <td>303</td>\n",
       "    </tr>\n",
       "    <tr>\n",
       "      <th>1</th>\n",
       "      <td>2019-05-19 15:49:40</td>\n",
       "      <td>2019</td>\n",
       "      <td>5</td>\n",
       "      <td>19</td>\n",
       "      <td>20</td>\n",
       "      <td>139</td>\n",
       "    </tr>\n",
       "    <tr>\n",
       "      <th>2</th>\n",
       "      <td>2019-01-28 13:49:37</td>\n",
       "      <td>2019</td>\n",
       "      <td>1</td>\n",
       "      <td>28</td>\n",
       "      <td>5</td>\n",
       "      <td>28</td>\n",
       "    </tr>\n",
       "    <tr>\n",
       "      <th>3</th>\n",
       "      <td>2017-03-24 14:03:46</td>\n",
       "      <td>2017</td>\n",
       "      <td>3</td>\n",
       "      <td>24</td>\n",
       "      <td>12</td>\n",
       "      <td>83</td>\n",
       "    </tr>\n",
       "    <tr>\n",
       "      <th>4</th>\n",
       "      <td>2019-12-07 14:28:33</td>\n",
       "      <td>2019</td>\n",
       "      <td>12</td>\n",
       "      <td>7</td>\n",
       "      <td>49</td>\n",
       "      <td>341</td>\n",
       "    </tr>\n",
       "  </tbody>\n",
       "</table>\n",
       "</div>"
      ],
      "text/plain": [
       "           Start_Time  Year  Month  Day  WeekOfYear  DayOfYear\n",
       "0 2019-10-30 17:12:00  2019     10   30          44        303\n",
       "1 2019-05-19 15:49:40  2019      5   19          20        139\n",
       "2 2019-01-28 13:49:37  2019      1   28           5         28\n",
       "3 2017-03-24 14:03:46  2017      3   24          12         83\n",
       "4 2019-12-07 14:28:33  2019     12    7          49        341"
      ]
     },
     "execution_count": 31,
     "metadata": {},
     "output_type": "execute_result"
    }
   ],
   "source": [
    "accidents[['Start_Time','Year','Month','Day','WeekOfYear','DayOfYear']].head()"
   ]
  },
  {
   "cell_type": "markdown",
   "metadata": {},
   "source": [
    "Other possible date transformations, as used in the [Rossmann Challenge](https://www.kaggle.com/c/rossmann-store-sales), can be found [here](https://medium.com/analytics-vidhya/rossmann-store-sales-prediction-998161027abf#251f). The predictive power of the additional information was examined [here](http://cs229.stanford.edu/proj2015/215_report.pdf)."
   ]
  },
  {
   "cell_type": "markdown",
   "metadata": {},
   "source": [
    "## Dealing with missing values"
   ]
  },
  {
   "cell_type": "markdown",
   "metadata": {},
   "source": [
    "The following three types of missing data are frequently found:\n",
    "\n",
    "* **Missing Completely at Random (MCAR):** The missing values show no hidden dependence on any other variable or characteristic of the observations. If a physician forgets to record the age of every tenth patient admitted to an ICU, the presence of missing values would not depend on the characteristic of the patients.\n",
    "* **Missing at Random (MAR):** In this case, the probability of a missing value depends on the characteristics of the observable data. For survey data, high-income respondents are less likely to provide information on the number of properties owned. The missing value for the number of properties owned variable depends on the income variable.\n",
    "* **Missing Not at Random (MNAR):** This occurs when the missing values depend on both the characteristics of the data and *missing values themselves*. In this case, it is difficult to determine the mechanism of missing value generation. For example, missing values for a variable such as blood pressure may depend in part on blood pressure values because patients with low blood pressure are less likely to have their blood pressure checked frequently."
   ]
  },
  {
   "cell_type": "markdown",
   "metadata": {},
   "source": [
    "Additional information on missing values:\n",
    "\n",
    "* [Video by ritvikmath](https://www.youtube.com/watch?v=XnnA9z7lv4Q&ab_channel=ritvikmath)\n",
    "* [Official Pandas Guide](https://pandas.pydata.org/pandas-docs/stable/user_guide/missing_data.html)"
   ]
  },
  {
   "cell_type": "markdown",
   "metadata": {},
   "source": [
    "Missing values are often simply removed from the data records ([pd.dropna()](https://pandas.pydata.org/pandas-docs/stable/reference/api/pandas.DataFrame.dropna.html)) - at least if there are not too many. However, if the values MAR or MNAR are missing, then there is an underlying regularity that we should not withhold from the ML model. If we [impute](https://en.wikipedia.org/wiki/Imputation_(statistics)) missing values, then it makes sense to include another binary feature that indicates whether a value is missing or not."
   ]
  },
  {
   "cell_type": "markdown",
   "metadata": {},
   "source": [
    "The columns with the 5 most frequent missing values in `accidents`:"
   ]
  },
  {
   "cell_type": "code",
   "execution_count": 32,
   "metadata": {},
   "outputs": [
    {
     "data": {
      "text/plain": [
       "End_Lat              6506\n",
       "End_Lng              6506\n",
       "Number               6352\n",
       "Precipitation(in)    4903\n",
       "Wind_Chill(F)        4519\n",
       "dtype: int64"
      ]
     },
     "execution_count": 32,
     "metadata": {},
     "output_type": "execute_result"
    }
   ],
   "source": [
    "accidents.isna().sum().sort_values(ascending=False)[:5]"
   ]
  },
  {
   "cell_type": "markdown",
   "metadata": {},
   "source": [
    "For example, if we want to impute `Wind_Chill(F)` with the average value, then the information as to whether the value was missing is lost. We therefore create a new, binary feature beforehand:"
   ]
  },
  {
   "cell_type": "code",
   "execution_count": 33,
   "metadata": {},
   "outputs": [],
   "source": [
    "accidents['Wind_Chill(F)_missing'] = accidents['Wind_Chill(F)'].isna()\n",
    "accidents['Wind_Chill(F)'].fillna(accidents['Wind_Chill(F)'].mean(), inplace=True)"
   ]
  },
  {
   "cell_type": "code",
   "execution_count": 34,
   "metadata": {},
   "outputs": [
    {
     "data": {
      "text/html": [
       "<div>\n",
       "<style scoped>\n",
       "    .dataframe tbody tr th:only-of-type {\n",
       "        vertical-align: middle;\n",
       "    }\n",
       "\n",
       "    .dataframe tbody tr th {\n",
       "        vertical-align: top;\n",
       "    }\n",
       "\n",
       "    .dataframe thead th {\n",
       "        text-align: right;\n",
       "    }\n",
       "</style>\n",
       "<table border=\"1\" class=\"dataframe\">\n",
       "  <thead>\n",
       "    <tr style=\"text-align: right;\">\n",
       "      <th></th>\n",
       "      <th>Wind_Chill(F)</th>\n",
       "      <th>Wind_Chill(F)_missing</th>\n",
       "    </tr>\n",
       "  </thead>\n",
       "  <tbody>\n",
       "    <tr>\n",
       "      <th>0</th>\n",
       "      <td>25.000000</td>\n",
       "      <td>False</td>\n",
       "    </tr>\n",
       "    <tr>\n",
       "      <th>1</th>\n",
       "      <td>90.000000</td>\n",
       "      <td>False</td>\n",
       "    </tr>\n",
       "    <tr>\n",
       "      <th>2</th>\n",
       "      <td>54.846251</td>\n",
       "      <td>True</td>\n",
       "    </tr>\n",
       "    <tr>\n",
       "      <th>3</th>\n",
       "      <td>38.600000</td>\n",
       "      <td>False</td>\n",
       "    </tr>\n",
       "    <tr>\n",
       "      <th>4</th>\n",
       "      <td>41.000000</td>\n",
       "      <td>False</td>\n",
       "    </tr>\n",
       "    <tr>\n",
       "      <th>5</th>\n",
       "      <td>30.600000</td>\n",
       "      <td>False</td>\n",
       "    </tr>\n",
       "    <tr>\n",
       "      <th>6</th>\n",
       "      <td>54.846251</td>\n",
       "      <td>True</td>\n",
       "    </tr>\n",
       "  </tbody>\n",
       "</table>\n",
       "</div>"
      ],
      "text/plain": [
       "   Wind_Chill(F)  Wind_Chill(F)_missing\n",
       "0      25.000000                  False\n",
       "1      90.000000                  False\n",
       "2      54.846251                   True\n",
       "3      38.600000                  False\n",
       "4      41.000000                  False\n",
       "5      30.600000                  False\n",
       "6      54.846251                   True"
      ]
     },
     "execution_count": 34,
     "metadata": {},
     "output_type": "execute_result"
    }
   ],
   "source": [
    "accidents[['Wind_Chill(F)', 'Wind_Chill(F)_missing']].head(7)"
   ]
  },
  {
   "cell_type": "markdown",
   "metadata": {},
   "source": [
    "## More ideas"
   ]
  },
  {
   "cell_type": "markdown",
   "metadata": {},
   "source": [
    "Additional ideas for feature engineering, not all of which we can explicitly cover in this unit:\n",
    "\n",
    "* Use of moving averages, see e.g. [here](https://medium.com/kaggle-blog/rossmann-store-sales-winners-interview-2nd-place-nima-shahbazi-ad7a4eb65629)\n",
    "* Clustering, see e.g. [here](https://www.kaggle.com/ryanholbrook/clustering-with-k-means)\n",
    "* PCA, see e.g. [here](https://www.kaggle.com/ryanholbrook/principal-component-analysis)\n",
    "* Extraction of information from geodata (e.g. coordinates from ZIPs, etc.)"
   ]
  },
  {
   "cell_type": "markdown",
   "metadata": {},
   "source": [
    "## General tips and further resources"
   ]
  },
  {
   "cell_type": "markdown",
   "metadata": {},
   "source": [
    "Finally, a few **general tips** for creating features (see [here](https://www.kaggle.com/ryanholbrook/creating-features)):\n",
    "\n",
    "* Linear models learn sums and differences naturally, but cannot learn more complex relationships.\n",
    "* Ratios seem to be difficult to learn for most models. Ratio combinations often lead to performance improvements.\n",
    "* Tree-based models can learn to approximate almost any combination of features. However, if one combination is particularly important, it can still help to create it explicitly (especially when data is scarce).\n",
    "* Counts are particularly helpful for tree models, as these models have no natural way to aggregate information about many features at once."
   ]
  },
  {
   "cell_type": "markdown",
   "metadata": {},
   "source": [
    "**Further Ressources**\n",
    "\n",
    "* [Post by Jason Brownlee](https://machinelearningmastery.com/discover-feature-engineering-how-to-engineer-features-and-how-to-get-good-at-it/)\n",
    "* Online book [Feature Engineering and Selection](http://www.feat.engineering/index.html) by Max Kuhn and Kjell Johnson\n",
    "* Further [examples](https://medium.com/analytics-vidhya/rossmann-store-sales-prediction-998161027abf#251f) for feature engineering for the Rossmann data"
   ]
  },
  {
   "cell_type": "markdown",
   "metadata": {},
   "source": [
    "## Learning outcomes\n",
    "---"
   ]
  },
  {
   "cell_type": "markdown",
   "metadata": {},
   "source": [
    "The most important learning objectives of this unit at a glance:\n",
    "\n",
    "* Feature engineering can vastly improve prediction models by transforming existing features or creating new ones,\n",
    "* it is more of an art than an exact science and often requires domain knowledge to create features with strong predictive values,\n",
    "* there are many possible ways to create new features from mathematical transformations, counting, combining or splitting features, and dealing with missing values.\n",
    "* to get a crasp of the many possible applications of feature engineering, researching related works and success stories of feature engineering is necessary."
   ]
  }
 ],
 "metadata": {
  "kernelspec": {
   "display_name": "Python 3 (ipykernel)",
   "language": "python",
   "name": "python3"
  },
  "language_info": {
   "codemirror_mode": {
    "name": "ipython",
    "version": 3
   },
   "file_extension": ".py",
   "mimetype": "text/x-python",
   "name": "python",
   "nbconvert_exporter": "python",
   "pygments_lexer": "ipython3",
   "version": "3.10.12"
  }
 },
 "nbformat": 4,
 "nbformat_minor": 4
}
