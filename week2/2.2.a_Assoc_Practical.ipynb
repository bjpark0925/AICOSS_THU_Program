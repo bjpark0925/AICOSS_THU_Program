{
 "cells": [
  {
   "cell_type": "markdown",
   "metadata": {},
   "source": [
    "![Banner](./img/AI_Special_Program_Banner.jpg)\n"
   ]
  },
  {
   "cell_type": "markdown",
   "metadata": {},
   "source": [
    "# Association analysis with Python\n",
    "---"
   ]
  },
  {
   "cell_type": "markdown",
   "metadata": {},
   "source": [
    "In this notebook, we want to look at an association analysis in Python. Unfortunately, `scikit-learn` does not offer a method for association analysis directly. However, there is the package [Mlxtend](https://github.com/rasbt/mlxtend) by [Sebastian Raschka](https://sebastianraschka.com/), which can be used to find association rules. A tutorial on this can be found on the website [Practical Business Python](http://pbpython.com/market-basket-analysis.html). The package can be installed with\n",
    "```\n",
    "conda install mlxtend\n",
    "```"
   ]
  },
  {
   "cell_type": "markdown",
   "metadata": {},
   "source": [
    "## Table of contents\n",
    "---"
   ]
  },
  {
   "cell_type": "markdown",
   "metadata": {},
   "source": [
    "- [Reading in the data](#Reading-in-the-data)\n",
    "- [Preliminary considerations for data sparsity](#Preliminary-considerations-for-data-sparsity)\n",
    "- [Determination of rules](#Determination-of-rules)\n",
    "- [Learning outcomes](#Learning-outcomes)"
   ]
  },
  {
   "cell_type": "markdown",
   "metadata": {},
   "source": [
    "## Reading in the data\n",
    "---"
   ]
  },
  {
   "cell_type": "markdown",
   "metadata": {},
   "source": [
    "The data used for this analysis (\"*Groceries*\") comes from the R library [*arules*](https://cran.r-project.org/web/packages/arules/index.html). This is a data set of **grocery purchases**."
   ]
  },
  {
   "cell_type": "markdown",
   "metadata": {},
   "source": [
    "We first import the required libraries again."
   ]
  },
  {
   "cell_type": "code",
   "execution_count": 1,
   "metadata": {},
   "outputs": [],
   "source": [
    "import csv\n",
    "import pandas as pd\n",
    "PREVIOUS_MAX_ROWS = pd.options.display.max_rows\n",
    "pd.options.display.max_rows = 20\n",
    "import numpy as np\n",
    "import matplotlib.pyplot as plt\n",
    "%matplotlib inline\n",
    "from mlxtend.preprocessing import TransactionEncoder # früher: OnehotTransactions\n",
    "from mlxtend.frequent_patterns import apriori\n",
    "from mlxtend.frequent_patterns import association_rules"
   ]
  },
  {
   "cell_type": "markdown",
   "metadata": {},
   "source": [
    "We read in the CSV file in the form of a list, which we will then process further using the `Mlxtend` methods."
   ]
  },
  {
   "cell_type": "code",
   "execution_count": 2,
   "metadata": {},
   "outputs": [
    {
     "data": {
      "text/plain": [
       "[['citrus fruit', 'semi-finished bread', 'margarine', 'ready soups'],\n",
       " ['tropical fruit', 'yogurt', 'coffee'],\n",
       " ['whole milk'],\n",
       " ['pip fruit', 'yogurt', 'cream cheese ', 'meat spreads'],\n",
       " ['other vegetables',\n",
       "  'whole milk',\n",
       "  'condensed milk',\n",
       "  'long life bakery product']]"
      ]
     },
     "execution_count": 2,
     "metadata": {},
     "output_type": "execute_result"
    }
   ],
   "source": [
    "with open('data/groceries_r_quoted.csv', 'r') as f:\n",
    "    reader = csv.reader(f)\n",
    "    transactions = list(reader)\n",
    "transactions[:5]"
   ]
  },
  {
   "cell_type": "markdown",
   "metadata": {},
   "source": [
    "We first need a [One Hot Encoding](http://rasbt.github.io/mlxtend/api_subpackages/mlxtend.preprocessing/#transactionencoder) of the data read in. We do this again with the *fit-transform* procedure known from `scikit-learn` and save the result in a data frame."
   ]
  },
  {
   "cell_type": "code",
   "execution_count": 3,
   "metadata": {},
   "outputs": [
    {
     "data": {
      "text/html": [
       "<div>\n",
       "<style scoped>\n",
       "    .dataframe tbody tr th:only-of-type {\n",
       "        vertical-align: middle;\n",
       "    }\n",
       "\n",
       "    .dataframe tbody tr th {\n",
       "        vertical-align: top;\n",
       "    }\n",
       "\n",
       "    .dataframe thead th {\n",
       "        text-align: right;\n",
       "    }\n",
       "</style>\n",
       "<table border=\"1\" class=\"dataframe\">\n",
       "  <thead>\n",
       "    <tr style=\"text-align: right;\">\n",
       "      <th></th>\n",
       "      <th>Instant food products</th>\n",
       "      <th>UHT-milk</th>\n",
       "      <th>abrasive cleaner</th>\n",
       "      <th>artif. sweetener</th>\n",
       "      <th>baby cosmetics</th>\n",
       "      <th>baby food</th>\n",
       "      <th>bags</th>\n",
       "      <th>baking powder</th>\n",
       "      <th>bathroom cleaner</th>\n",
       "      <th>beef</th>\n",
       "      <th>...</th>\n",
       "      <th>turkey</th>\n",
       "      <th>vinegar</th>\n",
       "      <th>waffles</th>\n",
       "      <th>whipped/sour cream</th>\n",
       "      <th>whisky</th>\n",
       "      <th>white bread</th>\n",
       "      <th>white wine</th>\n",
       "      <th>whole milk</th>\n",
       "      <th>yogurt</th>\n",
       "      <th>zwieback</th>\n",
       "    </tr>\n",
       "  </thead>\n",
       "  <tbody>\n",
       "    <tr>\n",
       "      <th>0</th>\n",
       "      <td>False</td>\n",
       "      <td>False</td>\n",
       "      <td>False</td>\n",
       "      <td>False</td>\n",
       "      <td>False</td>\n",
       "      <td>False</td>\n",
       "      <td>False</td>\n",
       "      <td>False</td>\n",
       "      <td>False</td>\n",
       "      <td>False</td>\n",
       "      <td>...</td>\n",
       "      <td>False</td>\n",
       "      <td>False</td>\n",
       "      <td>False</td>\n",
       "      <td>False</td>\n",
       "      <td>False</td>\n",
       "      <td>False</td>\n",
       "      <td>False</td>\n",
       "      <td>False</td>\n",
       "      <td>False</td>\n",
       "      <td>False</td>\n",
       "    </tr>\n",
       "    <tr>\n",
       "      <th>1</th>\n",
       "      <td>False</td>\n",
       "      <td>False</td>\n",
       "      <td>False</td>\n",
       "      <td>False</td>\n",
       "      <td>False</td>\n",
       "      <td>False</td>\n",
       "      <td>False</td>\n",
       "      <td>False</td>\n",
       "      <td>False</td>\n",
       "      <td>False</td>\n",
       "      <td>...</td>\n",
       "      <td>False</td>\n",
       "      <td>False</td>\n",
       "      <td>False</td>\n",
       "      <td>False</td>\n",
       "      <td>False</td>\n",
       "      <td>False</td>\n",
       "      <td>False</td>\n",
       "      <td>False</td>\n",
       "      <td>True</td>\n",
       "      <td>False</td>\n",
       "    </tr>\n",
       "    <tr>\n",
       "      <th>2</th>\n",
       "      <td>False</td>\n",
       "      <td>False</td>\n",
       "      <td>False</td>\n",
       "      <td>False</td>\n",
       "      <td>False</td>\n",
       "      <td>False</td>\n",
       "      <td>False</td>\n",
       "      <td>False</td>\n",
       "      <td>False</td>\n",
       "      <td>False</td>\n",
       "      <td>...</td>\n",
       "      <td>False</td>\n",
       "      <td>False</td>\n",
       "      <td>False</td>\n",
       "      <td>False</td>\n",
       "      <td>False</td>\n",
       "      <td>False</td>\n",
       "      <td>False</td>\n",
       "      <td>True</td>\n",
       "      <td>False</td>\n",
       "      <td>False</td>\n",
       "    </tr>\n",
       "    <tr>\n",
       "      <th>3</th>\n",
       "      <td>False</td>\n",
       "      <td>False</td>\n",
       "      <td>False</td>\n",
       "      <td>False</td>\n",
       "      <td>False</td>\n",
       "      <td>False</td>\n",
       "      <td>False</td>\n",
       "      <td>False</td>\n",
       "      <td>False</td>\n",
       "      <td>False</td>\n",
       "      <td>...</td>\n",
       "      <td>False</td>\n",
       "      <td>False</td>\n",
       "      <td>False</td>\n",
       "      <td>False</td>\n",
       "      <td>False</td>\n",
       "      <td>False</td>\n",
       "      <td>False</td>\n",
       "      <td>False</td>\n",
       "      <td>True</td>\n",
       "      <td>False</td>\n",
       "    </tr>\n",
       "    <tr>\n",
       "      <th>4</th>\n",
       "      <td>False</td>\n",
       "      <td>False</td>\n",
       "      <td>False</td>\n",
       "      <td>False</td>\n",
       "      <td>False</td>\n",
       "      <td>False</td>\n",
       "      <td>False</td>\n",
       "      <td>False</td>\n",
       "      <td>False</td>\n",
       "      <td>False</td>\n",
       "      <td>...</td>\n",
       "      <td>False</td>\n",
       "      <td>False</td>\n",
       "      <td>False</td>\n",
       "      <td>False</td>\n",
       "      <td>False</td>\n",
       "      <td>False</td>\n",
       "      <td>False</td>\n",
       "      <td>True</td>\n",
       "      <td>False</td>\n",
       "      <td>False</td>\n",
       "    </tr>\n",
       "  </tbody>\n",
       "</table>\n",
       "<p>5 rows × 169 columns</p>\n",
       "</div>"
      ],
      "text/plain": [
       "   Instant food products  UHT-milk  abrasive cleaner  artif. sweetener  \\\n",
       "0                  False     False             False             False   \n",
       "1                  False     False             False             False   \n",
       "2                  False     False             False             False   \n",
       "3                  False     False             False             False   \n",
       "4                  False     False             False             False   \n",
       "\n",
       "   baby cosmetics  baby food   bags  baking powder  bathroom cleaner   beef  \\\n",
       "0           False      False  False          False             False  False   \n",
       "1           False      False  False          False             False  False   \n",
       "2           False      False  False          False             False  False   \n",
       "3           False      False  False          False             False  False   \n",
       "4           False      False  False          False             False  False   \n",
       "\n",
       "   ...  turkey  vinegar  waffles  whipped/sour cream  whisky  white bread  \\\n",
       "0  ...   False    False    False               False   False        False   \n",
       "1  ...   False    False    False               False   False        False   \n",
       "2  ...   False    False    False               False   False        False   \n",
       "3  ...   False    False    False               False   False        False   \n",
       "4  ...   False    False    False               False   False        False   \n",
       "\n",
       "   white wine  whole milk  yogurt  zwieback  \n",
       "0       False       False   False     False  \n",
       "1       False       False    True     False  \n",
       "2       False        True   False     False  \n",
       "3       False       False    True     False  \n",
       "4       False        True   False     False  \n",
       "\n",
       "[5 rows x 169 columns]"
      ]
     },
     "execution_count": 3,
     "metadata": {},
     "output_type": "execute_result"
    }
   ],
   "source": [
    "oht = TransactionEncoder()\n",
    "oht_ary = oht.fit(transactions).transform(transactions)\n",
    "transactdf = pd.DataFrame(oht_ary, columns=oht.columns_)\n",
    "transactdf.head()"
   ]
  },
  {
   "cell_type": "markdown",
   "metadata": {},
   "source": [
    "**Note:** Classic *OneHotEncoding* would use 0 and 1 instead of `False` and `True`, but this is just a question of data type and booleans require less memory."
   ]
  },
  {
   "cell_type": "markdown",
   "metadata": {},
   "source": [
    "Number of transactions and articles:"
   ]
  },
  {
   "cell_type": "code",
   "execution_count": 4,
   "metadata": {},
   "outputs": [
    {
     "data": {
      "text/plain": [
       "(9835, 169)"
      ]
     },
     "execution_count": 4,
     "metadata": {},
     "output_type": "execute_result"
    }
   ],
   "source": [
    "transactdf.shape"
   ]
  },
  {
   "cell_type": "markdown",
   "metadata": {},
   "source": [
    "This is therefore a data set with 9835 transactions for 169 different articles."
   ]
  },
  {
   "cell_type": "markdown",
   "metadata": {},
   "source": [
    "Statistics on the size of transactions:"
   ]
  },
  {
   "cell_type": "code",
   "execution_count": 5,
   "metadata": {},
   "outputs": [
    {
     "data": {
      "text/plain": [
       "count    9835.000000\n",
       "mean        4.409456\n",
       "std         3.589385\n",
       "min         1.000000\n",
       "25%         2.000000\n",
       "50%         3.000000\n",
       "75%         6.000000\n",
       "max        32.000000\n",
       "dtype: float64"
      ]
     },
     "execution_count": 5,
     "metadata": {},
     "output_type": "execute_result"
    }
   ],
   "source": [
    "transactdf.sum(axis=1).describe()"
   ]
  },
  {
   "cell_type": "code",
   "execution_count": 6,
   "metadata": {},
   "outputs": [
    {
     "data": {
      "text/plain": [
       "[(1, 2159), (2, 1643), (3, 1299), (4, 1005), (5, 855)]"
      ]
     },
     "execution_count": 6,
     "metadata": {},
     "output_type": "execute_result"
    }
   ],
   "source": [
    "from collections import Counter\n",
    "Counter(transactdf.sum(axis=1)).most_common(5)"
   ]
  },
  {
   "cell_type": "markdown",
   "metadata": {},
   "source": [
    "This means that a single item was purchased most frequently. On average (we use the median as a measure for this), 3 items were purchased together. A maximum of 32 items were purchased together."
   ]
  },
  {
   "cell_type": "markdown",
   "metadata": {},
   "source": [
    "## Preliminary considerations for data sparsity\n",
    "---"
   ]
  },
  {
   "cell_type": "markdown",
   "metadata": {},
   "source": [
    "It is obvious that our data matrix contains predominantly 'false' values, as only a small subset of all available items is purchased per transaction. A matrix that predominantly contains zero values is called a sparse matrix. In the following, we want to specify a measure for sparseness:"
   ]
  },
  {
   "cell_type": "code",
   "execution_count": 7,
   "metadata": {},
   "outputs": [
    {
     "data": {
      "text/plain": [
       "9835"
      ]
     },
     "execution_count": 7,
     "metadata": {},
     "output_type": "execute_result"
    }
   ],
   "source": [
    "ntransact = transactdf.shape[0]\n",
    "ntransact"
   ]
  },
  {
   "cell_type": "code",
   "execution_count": 8,
   "metadata": {},
   "outputs": [
    {
     "data": {
      "text/plain": [
       "169"
      ]
     },
     "execution_count": 8,
     "metadata": {},
     "output_type": "execute_result"
    }
   ],
   "source": [
    "nitems = transactdf.shape[1]\n",
    "nitems"
   ]
  },
  {
   "cell_type": "code",
   "execution_count": 9,
   "metadata": {},
   "outputs": [
    {
     "data": {
      "text/plain": [
       "43367"
      ]
     },
     "execution_count": 9,
     "metadata": {},
     "output_type": "execute_result"
    }
   ],
   "source": [
    "nnz = np.count_nonzero(transactdf)\n",
    "nnz"
   ]
  },
  {
   "cell_type": "code",
   "execution_count": 10,
   "metadata": {},
   "outputs": [
    {
     "name": "stdout",
     "output_type": "stream",
     "text": [
      "The featura matrix has ~2.61% not null entries.\n"
     ]
    }
   ],
   "source": [
    "sparsity = 100 * nnz / (ntransact*nitems)\n",
    "print(\"The feature matrix has ~{0:.2f}% non-null entries.\".format(sparsity))"
   ]
  },
  {
   "cell_type": "markdown",
   "metadata": {},
   "source": [
    "In the association analysis, we are interested in relative frequencies. To be able to plot the frequencies, we first generate a list of the support values, which we can then filter and visualize appropriately."
   ]
  },
  {
   "cell_type": "code",
   "execution_count": 11,
   "metadata": {},
   "outputs": [
    {
     "data": {
      "text/plain": [
       "whole milk          0.255516\n",
       "other vegetables    0.193493\n",
       "rolls/buns          0.183935\n",
       "soda                0.174377\n",
       "yogurt              0.139502\n",
       "dtype: float64"
      ]
     },
     "execution_count": 11,
     "metadata": {},
     "output_type": "execute_result"
    }
   ],
   "source": [
    "supplist = transactdf.sum().sort_values(ascending=False)/ntransact\n",
    "supplist.head()"
   ]
  },
  {
   "cell_type": "markdown",
   "metadata": {},
   "source": [
    "Filtering of articles with a support of at least 10%:"
   ]
  },
  {
   "cell_type": "code",
   "execution_count": 12,
   "metadata": {},
   "outputs": [
    {
     "data": {
      "text/plain": [
       "whole milk          0.255516\n",
       "other vegetables    0.193493\n",
       "rolls/buns          0.183935\n",
       "soda                0.174377\n",
       "yogurt              0.139502\n",
       "bottled water       0.110524\n",
       "root vegetables     0.108998\n",
       "tropical fruit      0.104931\n",
       "dtype: float64"
      ]
     },
     "execution_count": 12,
     "metadata": {},
     "output_type": "execute_result"
    }
   ],
   "source": [
    "supplist[supplist>=0.1]"
   ]
  },
  {
   "cell_type": "code",
   "execution_count": 13,
   "metadata": {},
   "outputs": [
    {
     "data": {
      "image/png": "[encoded data removed]",
      "text/plain": [
       "<Figure size 640x480 with 1 Axes>"
      ]
     },
     "metadata": {},
     "output_type": "display_data"
    }
   ],
   "source": [
    "supplist[supplist>=0.1].plot(kind='bar', rot=45)\n",
    "plt.show()"
   ]
  },
  {
   "cell_type": "markdown",
   "metadata": {},
   "source": [
    "Or the 20 most frequent articles:"
   ]
  },
  {
   "cell_type": "code",
   "execution_count": 14,
   "metadata": {},
   "outputs": [
    {
     "data": {
      "image/png": "[encoded data removed]",
      "text/plain": [
       "<Figure size 1000x500 with 1 Axes>"
      ]
     },
     "metadata": {},
     "output_type": "display_data"
    }
   ],
   "source": [
    "supplist.head(20).plot(kind='bar', rot=60, figsize=(10,5))\n",
    "plt.show()"
   ]
  },
  {
   "cell_type": "markdown",
   "metadata": {},
   "source": [
    "## Determination of the rules\n",
    "---"
   ]
  },
  {
   "cell_type": "markdown",
   "metadata": {},
   "source": [
    "To determine the *large itemsets*, we use the [a-priori algorithm from `Mlxtend`](http://rasbt.github.io/mlxtend/user_guide/frequent_patterns/apriori/) and require a minimum support of 6 per thousand. The default value of 50% is not met by any item in our data."
   ]
  },
  {
   "cell_type": "code",
   "execution_count": 15,
   "metadata": {},
   "outputs": [],
   "source": [
    "frequent_itemsets = apriori(transactdf, min_support=0.006, use_colnames=True)"
   ]
  },
  {
   "cell_type": "code",
   "execution_count": 16,
   "metadata": {},
   "outputs": [
    {
     "data": {
      "text/plain": [
       "pandas.core.frame.DataFrame"
      ]
     },
     "execution_count": 16,
     "metadata": {},
     "output_type": "execute_result"
    }
   ],
   "source": [
    "type(frequent_itemsets)"
   ]
  },
  {
   "cell_type": "markdown",
   "metadata": {},
   "source": [
    "Here we explicitly receive the large itemsets in a Pandas Data Frame, from which we view a section."
   ]
  },
  {
   "cell_type": "code",
   "execution_count": 17,
   "metadata": {},
   "outputs": [
    {
     "data": {
      "text/html": [
       "<div>\n",
       "<style scoped>\n",
       "    .dataframe tbody tr th:only-of-type {\n",
       "        vertical-align: middle;\n",
       "    }\n",
       "\n",
       "    .dataframe tbody tr th {\n",
       "        vertical-align: top;\n",
       "    }\n",
       "\n",
       "    .dataframe thead th {\n",
       "        text-align: right;\n",
       "    }\n",
       "</style>\n",
       "<table border=\"1\" class=\"dataframe\">\n",
       "  <thead>\n",
       "    <tr style=\"text-align: right;\">\n",
       "      <th></th>\n",
       "      <th>support</th>\n",
       "      <th>itemsets</th>\n",
       "    </tr>\n",
       "  </thead>\n",
       "  <tbody>\n",
       "    <tr>\n",
       "      <th>400</th>\n",
       "      <td>0.007016</td>\n",
       "      <td>(soda, hygiene articles)</td>\n",
       "    </tr>\n",
       "    <tr>\n",
       "      <th>401</th>\n",
       "      <td>0.006711</td>\n",
       "      <td>(tropical fruit, hygiene articles)</td>\n",
       "    </tr>\n",
       "    <tr>\n",
       "      <th>402</th>\n",
       "      <td>0.012811</td>\n",
       "      <td>(whole milk, hygiene articles)</td>\n",
       "    </tr>\n",
       "    <tr>\n",
       "      <th>403</th>\n",
       "      <td>0.007321</td>\n",
       "      <td>(yogurt, hygiene articles)</td>\n",
       "    </tr>\n",
       "    <tr>\n",
       "      <th>404</th>\n",
       "      <td>0.006101</td>\n",
       "      <td>(soda, ice cream)</td>\n",
       "    </tr>\n",
       "    <tr>\n",
       "      <th>405</th>\n",
       "      <td>0.010676</td>\n",
       "      <td>(long life bakery product, other vegetables)</td>\n",
       "    </tr>\n",
       "    <tr>\n",
       "      <th>406</th>\n",
       "      <td>0.007931</td>\n",
       "      <td>(long life bakery product, rolls/buns)</td>\n",
       "    </tr>\n",
       "    <tr>\n",
       "      <th>407</th>\n",
       "      <td>0.007626</td>\n",
       "      <td>(soda, long life bakery product)</td>\n",
       "    </tr>\n",
       "    <tr>\n",
       "      <th>408</th>\n",
       "      <td>0.006304</td>\n",
       "      <td>(long life bakery product, tropical fruit)</td>\n",
       "    </tr>\n",
       "    <tr>\n",
       "      <th>409</th>\n",
       "      <td>0.013523</td>\n",
       "      <td>(long life bakery product, whole milk)</td>\n",
       "    </tr>\n",
       "  </tbody>\n",
       "</table>\n",
       "</div>"
      ],
      "text/plain": [
       "      support                                      itemsets\n",
       "400  0.007016                      (soda, hygiene articles)\n",
       "401  0.006711            (tropical fruit, hygiene articles)\n",
       "402  0.012811                (whole milk, hygiene articles)\n",
       "403  0.007321                    (yogurt, hygiene articles)\n",
       "404  0.006101                             (soda, ice cream)\n",
       "405  0.010676  (long life bakery product, other vegetables)\n",
       "406  0.007931        (long life bakery product, rolls/buns)\n",
       "407  0.007626              (soda, long life bakery product)\n",
       "408  0.006304    (long life bakery product, tropical fruit)\n",
       "409  0.013523        (long life bakery product, whole milk)"
      ]
     },
     "execution_count": 17,
     "metadata": {},
     "output_type": "execute_result"
    }
   ],
   "source": [
    "frequent_itemsets[400:410]"
   ]
  },
  {
   "cell_type": "markdown",
   "metadata": {},
   "source": [
    "The *rules* are now generated in a second step, whereby metrics other than confidence can be used flexibly here (see the [documentation](http://rasbt.github.io/mlxtend/user_guide/frequent_patterns/association_rules/)). We select a quarter as the confidence."
   ]
  },
  {
   "cell_type": "code",
   "execution_count": 18,
   "metadata": {},
   "outputs": [
    {
     "data": {
      "text/html": [
       "<div>\n",
       "<style scoped>\n",
       "    .dataframe tbody tr th:only-of-type {\n",
       "        vertical-align: middle;\n",
       "    }\n",
       "\n",
       "    .dataframe tbody tr th {\n",
       "        vertical-align: top;\n",
       "    }\n",
       "\n",
       "    .dataframe thead th {\n",
       "        text-align: right;\n",
       "    }\n",
       "</style>\n",
       "<table border=\"1\" class=\"dataframe\">\n",
       "  <thead>\n",
       "    <tr style=\"text-align: right;\">\n",
       "      <th></th>\n",
       "      <th>antecedents</th>\n",
       "      <th>consequents</th>\n",
       "      <th>antecedent support</th>\n",
       "      <th>consequent support</th>\n",
       "      <th>support</th>\n",
       "      <th>confidence</th>\n",
       "      <th>lift</th>\n",
       "      <th>leverage</th>\n",
       "      <th>conviction</th>\n",
       "      <th>zhangs_metric</th>\n",
       "    </tr>\n",
       "  </thead>\n",
       "  <tbody>\n",
       "    <tr>\n",
       "      <th>0</th>\n",
       "      <td>(baking powder)</td>\n",
       "      <td>(other vegetables)</td>\n",
       "      <td>0.017692</td>\n",
       "      <td>0.193493</td>\n",
       "      <td>0.007321</td>\n",
       "      <td>0.413793</td>\n",
       "      <td>2.138547</td>\n",
       "      <td>0.003898</td>\n",
       "      <td>1.375807</td>\n",
       "      <td>0.541982</td>\n",
       "    </tr>\n",
       "    <tr>\n",
       "      <th>1</th>\n",
       "      <td>(baking powder)</td>\n",
       "      <td>(whole milk)</td>\n",
       "      <td>0.017692</td>\n",
       "      <td>0.255516</td>\n",
       "      <td>0.009253</td>\n",
       "      <td>0.522989</td>\n",
       "      <td>2.046793</td>\n",
       "      <td>0.004732</td>\n",
       "      <td>1.560725</td>\n",
       "      <td>0.520642</td>\n",
       "    </tr>\n",
       "    <tr>\n",
       "      <th>2</th>\n",
       "      <td>(beef)</td>\n",
       "      <td>(other vegetables)</td>\n",
       "      <td>0.052466</td>\n",
       "      <td>0.193493</td>\n",
       "      <td>0.019725</td>\n",
       "      <td>0.375969</td>\n",
       "      <td>1.943066</td>\n",
       "      <td>0.009574</td>\n",
       "      <td>1.292416</td>\n",
       "      <td>0.512224</td>\n",
       "    </tr>\n",
       "    <tr>\n",
       "      <th>3</th>\n",
       "      <td>(beef)</td>\n",
       "      <td>(rolls/buns)</td>\n",
       "      <td>0.052466</td>\n",
       "      <td>0.183935</td>\n",
       "      <td>0.013625</td>\n",
       "      <td>0.259690</td>\n",
       "      <td>1.411858</td>\n",
       "      <td>0.003975</td>\n",
       "      <td>1.102329</td>\n",
       "      <td>0.307866</td>\n",
       "    </tr>\n",
       "    <tr>\n",
       "      <th>4</th>\n",
       "      <td>(beef)</td>\n",
       "      <td>(root vegetables)</td>\n",
       "      <td>0.052466</td>\n",
       "      <td>0.108998</td>\n",
       "      <td>0.017387</td>\n",
       "      <td>0.331395</td>\n",
       "      <td>3.040367</td>\n",
       "      <td>0.011668</td>\n",
       "      <td>1.332628</td>\n",
       "      <td>0.708251</td>\n",
       "    </tr>\n",
       "  </tbody>\n",
       "</table>\n",
       "</div>"
      ],
      "text/plain": [
       "       antecedents         consequents  antecedent support  \\\n",
       "0  (baking powder)  (other vegetables)            0.017692   \n",
       "1  (baking powder)        (whole milk)            0.017692   \n",
       "2           (beef)  (other vegetables)            0.052466   \n",
       "3           (beef)        (rolls/buns)            0.052466   \n",
       "4           (beef)   (root vegetables)            0.052466   \n",
       "\n",
       "   consequent support   support  confidence      lift  leverage  conviction  \\\n",
       "0            0.193493  0.007321    0.413793  2.138547  0.003898    1.375807   \n",
       "1            0.255516  0.009253    0.522989  2.046793  0.004732    1.560725   \n",
       "2            0.193493  0.019725    0.375969  1.943066  0.009574    1.292416   \n",
       "3            0.183935  0.013625    0.259690  1.411858  0.003975    1.102329   \n",
       "4            0.108998  0.017387    0.331395  3.040367  0.011668    1.332628   \n",
       "\n",
       "   zhangs_metric  \n",
       "0       0.541982  \n",
       "1       0.520642  \n",
       "2       0.512224  \n",
       "3       0.307866  \n",
       "4       0.708251  "
      ]
     },
     "execution_count": 18,
     "metadata": {},
     "output_type": "execute_result"
    }
   ],
   "source": [
    "rules = association_rules(frequent_itemsets, metric=\"confidence\", min_threshold=0.25)\n",
    "rules.head()"
   ]
  },
  {
   "cell_type": "code",
   "execution_count": 19,
   "metadata": {},
   "outputs": [
    {
     "data": {
      "text/plain": [
       "(467, 10)"
      ]
     },
     "execution_count": 19,
     "metadata": {},
     "output_type": "execute_result"
    }
   ],
   "source": [
    "rules.shape"
   ]
  },
  {
   "cell_type": "markdown",
   "metadata": {},
   "source": [
    "So we get 467 rules. More information is provided by `.info()`, for example:"
   ]
  },
  {
   "cell_type": "code",
   "execution_count": 20,
   "metadata": {},
   "outputs": [
    {
     "name": "stdout",
     "output_type": "stream",
     "text": [
      "<class 'pandas.core.frame.DataFrame'>\n",
      "RangeIndex: 467 entries, 0 to 466\n",
      "Data columns (total 10 columns):\n",
      " #   Column              Non-Null Count  Dtype  \n",
      "---  ------              --------------  -----  \n",
      " 0   antecedents         467 non-null    object \n",
      " 1   consequents         467 non-null    object \n",
      " 2   antecedent support  467 non-null    float64\n",
      " 3   consequent support  467 non-null    float64\n",
      " 4   support             467 non-null    float64\n",
      " 5   confidence          467 non-null    float64\n",
      " 6   lift                467 non-null    float64\n",
      " 7   leverage            467 non-null    float64\n",
      " 8   conviction          467 non-null    float64\n",
      " 9   zhangs_metric       467 non-null    float64\n",
      "dtypes: float64(8), object(2)\n",
      "memory usage: 36.6+ KB\n"
     ]
    }
   ],
   "source": [
    "rules.info()"
   ]
  },
  {
   "cell_type": "markdown",
   "metadata": {},
   "source": [
    "It is noticeable that two new metrics, namely *leverage* and *conviction*, are also specified (more on this in the exercises). Another common terminology for the rules is also used here, in that the precondition is referred to as *antecedent* and the conclusion as *consequent*.\n",
    "\n",
    "What is missing, however, is the *absolute frequency*, i.e. the *count*. However, since we are dealing with a DataFrame, we can simply add a new column to it that contains the count. We calculate it from the *support* (i.e. the *relative frequency*) by multiplying it by the number of all transactions, adding 0.2 to avoid rounding errors, before converting the result into an integer."
   ]
  },
  {
   "cell_type": "code",
   "execution_count": 21,
   "metadata": {},
   "outputs": [
    {
     "data": {
      "text/html": [
       "<div>\n",
       "<style scoped>\n",
       "    .dataframe tbody tr th:only-of-type {\n",
       "        vertical-align: middle;\n",
       "    }\n",
       "\n",
       "    .dataframe tbody tr th {\n",
       "        vertical-align: top;\n",
       "    }\n",
       "\n",
       "    .dataframe thead th {\n",
       "        text-align: right;\n",
       "    }\n",
       "</style>\n",
       "<table border=\"1\" class=\"dataframe\">\n",
       "  <thead>\n",
       "    <tr style=\"text-align: right;\">\n",
       "      <th></th>\n",
       "      <th>antecedents</th>\n",
       "      <th>consequents</th>\n",
       "      <th>antecedent support</th>\n",
       "      <th>consequent support</th>\n",
       "      <th>support</th>\n",
       "      <th>confidence</th>\n",
       "      <th>lift</th>\n",
       "      <th>leverage</th>\n",
       "      <th>conviction</th>\n",
       "      <th>zhangs_metric</th>\n",
       "      <th>count</th>\n",
       "    </tr>\n",
       "  </thead>\n",
       "  <tbody>\n",
       "    <tr>\n",
       "      <th>0</th>\n",
       "      <td>(baking powder)</td>\n",
       "      <td>(other vegetables)</td>\n",
       "      <td>0.017692</td>\n",
       "      <td>0.193493</td>\n",
       "      <td>0.007321</td>\n",
       "      <td>0.413793</td>\n",
       "      <td>2.138547</td>\n",
       "      <td>0.003898</td>\n",
       "      <td>1.375807</td>\n",
       "      <td>0.541982</td>\n",
       "      <td>72</td>\n",
       "    </tr>\n",
       "    <tr>\n",
       "      <th>1</th>\n",
       "      <td>(baking powder)</td>\n",
       "      <td>(whole milk)</td>\n",
       "      <td>0.017692</td>\n",
       "      <td>0.255516</td>\n",
       "      <td>0.009253</td>\n",
       "      <td>0.522989</td>\n",
       "      <td>2.046793</td>\n",
       "      <td>0.004732</td>\n",
       "      <td>1.560725</td>\n",
       "      <td>0.520642</td>\n",
       "      <td>91</td>\n",
       "    </tr>\n",
       "    <tr>\n",
       "      <th>2</th>\n",
       "      <td>(beef)</td>\n",
       "      <td>(other vegetables)</td>\n",
       "      <td>0.052466</td>\n",
       "      <td>0.193493</td>\n",
       "      <td>0.019725</td>\n",
       "      <td>0.375969</td>\n",
       "      <td>1.943066</td>\n",
       "      <td>0.009574</td>\n",
       "      <td>1.292416</td>\n",
       "      <td>0.512224</td>\n",
       "      <td>194</td>\n",
       "    </tr>\n",
       "    <tr>\n",
       "      <th>3</th>\n",
       "      <td>(beef)</td>\n",
       "      <td>(rolls/buns)</td>\n",
       "      <td>0.052466</td>\n",
       "      <td>0.183935</td>\n",
       "      <td>0.013625</td>\n",
       "      <td>0.259690</td>\n",
       "      <td>1.411858</td>\n",
       "      <td>0.003975</td>\n",
       "      <td>1.102329</td>\n",
       "      <td>0.307866</td>\n",
       "      <td>134</td>\n",
       "    </tr>\n",
       "    <tr>\n",
       "      <th>4</th>\n",
       "      <td>(beef)</td>\n",
       "      <td>(root vegetables)</td>\n",
       "      <td>0.052466</td>\n",
       "      <td>0.108998</td>\n",
       "      <td>0.017387</td>\n",
       "      <td>0.331395</td>\n",
       "      <td>3.040367</td>\n",
       "      <td>0.011668</td>\n",
       "      <td>1.332628</td>\n",
       "      <td>0.708251</td>\n",
       "      <td>171</td>\n",
       "    </tr>\n",
       "  </tbody>\n",
       "</table>\n",
       "</div>"
      ],
      "text/plain": [
       "       antecedents         consequents  antecedent support  \\\n",
       "0  (baking powder)  (other vegetables)            0.017692   \n",
       "1  (baking powder)        (whole milk)            0.017692   \n",
       "2           (beef)  (other vegetables)            0.052466   \n",
       "3           (beef)        (rolls/buns)            0.052466   \n",
       "4           (beef)   (root vegetables)            0.052466   \n",
       "\n",
       "   consequent support   support  confidence      lift  leverage  conviction  \\\n",
       "0            0.193493  0.007321    0.413793  2.138547  0.003898    1.375807   \n",
       "1            0.255516  0.009253    0.522989  2.046793  0.004732    1.560725   \n",
       "2            0.193493  0.019725    0.375969  1.943066  0.009574    1.292416   \n",
       "3            0.183935  0.013625    0.259690  1.411858  0.003975    1.102329   \n",
       "4            0.108998  0.017387    0.331395  3.040367  0.011668    1.332628   \n",
       "\n",
       "   zhangs_metric  count  \n",
       "0       0.541982     72  \n",
       "1       0.520642     91  \n",
       "2       0.512224    194  \n",
       "3       0.307866    134  \n",
       "4       0.708251    171  "
      ]
     },
     "execution_count": 21,
     "metadata": {},
     "output_type": "execute_result"
    }
   ],
   "source": [
    "rules[\"count\"] = rules.support.apply(lambda x: int(x*ntransact+0.2))\n",
    "rules.head()"
   ]
  },
  {
   "cell_type": "markdown",
   "metadata": {},
   "source": [
    "As you can see, not all the rules are obvious and perhaps you would have to adjust the parameters a little to not believe that baking soda is a good indicator for vegetables ... (but perhaps there is a secret truth behind this ...).\n",
    "\n",
    "You might get more interesting results if you look at the rules with the highest *lift*."
   ]
  },
  {
   "cell_type": "code",
   "execution_count": 22,
   "metadata": {},
   "outputs": [
    {
     "data": {
      "text/html": [
       "<div>\n",
       "<style scoped>\n",
       "    .dataframe tbody tr th:only-of-type {\n",
       "        vertical-align: middle;\n",
       "    }\n",
       "\n",
       "    .dataframe tbody tr th {\n",
       "        vertical-align: top;\n",
       "    }\n",
       "\n",
       "    .dataframe thead th {\n",
       "        text-align: right;\n",
       "    }\n",
       "</style>\n",
       "<table border=\"1\" class=\"dataframe\">\n",
       "  <thead>\n",
       "    <tr style=\"text-align: right;\">\n",
       "      <th></th>\n",
       "      <th>antecedents</th>\n",
       "      <th>consequents</th>\n",
       "      <th>antecedent support</th>\n",
       "      <th>consequent support</th>\n",
       "      <th>support</th>\n",
       "      <th>confidence</th>\n",
       "      <th>lift</th>\n",
       "      <th>leverage</th>\n",
       "      <th>conviction</th>\n",
       "      <th>zhangs_metric</th>\n",
       "      <th>count</th>\n",
       "    </tr>\n",
       "  </thead>\n",
       "  <tbody>\n",
       "    <tr>\n",
       "      <th>456</th>\n",
       "      <td>(root vegetables, tropical fruit)</td>\n",
       "      <td>(whole milk, other vegetables)</td>\n",
       "      <td>0.021047</td>\n",
       "      <td>0.074835</td>\n",
       "      <td>0.007016</td>\n",
       "      <td>0.333333</td>\n",
       "      <td>4.454257</td>\n",
       "      <td>0.005441</td>\n",
       "      <td>1.387748</td>\n",
       "      <td>0.792169</td>\n",
       "      <td>69</td>\n",
       "    </tr>\n",
       "    <tr>\n",
       "      <th>461</th>\n",
       "      <td>(yogurt, root vegetables)</td>\n",
       "      <td>(whole milk, other vegetables)</td>\n",
       "      <td>0.025826</td>\n",
       "      <td>0.074835</td>\n",
       "      <td>0.007829</td>\n",
       "      <td>0.303150</td>\n",
       "      <td>4.050919</td>\n",
       "      <td>0.005896</td>\n",
       "      <td>1.327638</td>\n",
       "      <td>0.773109</td>\n",
       "      <td>77</td>\n",
       "    </tr>\n",
       "    <tr>\n",
       "      <th>81</th>\n",
       "      <td>(herbs)</td>\n",
       "      <td>(root vegetables)</td>\n",
       "      <td>0.016268</td>\n",
       "      <td>0.108998</td>\n",
       "      <td>0.007016</td>\n",
       "      <td>0.431250</td>\n",
       "      <td>3.956477</td>\n",
       "      <td>0.005243</td>\n",
       "      <td>1.566596</td>\n",
       "      <td>0.759608</td>\n",
       "      <td>69</td>\n",
       "    </tr>\n",
       "    <tr>\n",
       "      <th>7</th>\n",
       "      <td>(berries)</td>\n",
       "      <td>(whipped/sour cream)</td>\n",
       "      <td>0.033249</td>\n",
       "      <td>0.071683</td>\n",
       "      <td>0.009049</td>\n",
       "      <td>0.272171</td>\n",
       "      <td>3.796886</td>\n",
       "      <td>0.006666</td>\n",
       "      <td>1.275461</td>\n",
       "      <td>0.761960</td>\n",
       "      <td>89</td>\n",
       "    </tr>\n",
       "    <tr>\n",
       "      <th>455</th>\n",
       "      <td>(tropical fruit, whole milk, other vegetables)</td>\n",
       "      <td>(root vegetables)</td>\n",
       "      <td>0.017082</td>\n",
       "      <td>0.108998</td>\n",
       "      <td>0.007016</td>\n",
       "      <td>0.410714</td>\n",
       "      <td>3.768074</td>\n",
       "      <td>0.005154</td>\n",
       "      <td>1.512003</td>\n",
       "      <td>0.747379</td>\n",
       "      <td>69</td>\n",
       "    </tr>\n",
       "    <tr>\n",
       "      <th>151</th>\n",
       "      <td>(other vegetables, beef)</td>\n",
       "      <td>(root vegetables)</td>\n",
       "      <td>0.019725</td>\n",
       "      <td>0.108998</td>\n",
       "      <td>0.007931</td>\n",
       "      <td>0.402062</td>\n",
       "      <td>3.688692</td>\n",
       "      <td>0.005781</td>\n",
       "      <td>1.490123</td>\n",
       "      <td>0.743568</td>\n",
       "      <td>78</td>\n",
       "    </tr>\n",
       "    <tr>\n",
       "      <th>304</th>\n",
       "      <td>(tropical fruit, other vegetables)</td>\n",
       "      <td>(pip fruit)</td>\n",
       "      <td>0.035892</td>\n",
       "      <td>0.075648</td>\n",
       "      <td>0.009456</td>\n",
       "      <td>0.263456</td>\n",
       "      <td>3.482649</td>\n",
       "      <td>0.006741</td>\n",
       "      <td>1.254985</td>\n",
       "      <td>0.739401</td>\n",
       "      <td>93</td>\n",
       "    </tr>\n",
       "  </tbody>\n",
       "</table>\n",
       "</div>"
      ],
      "text/plain": [
       "                                        antecedents  \\\n",
       "456               (root vegetables, tropical fruit)   \n",
       "461                       (yogurt, root vegetables)   \n",
       "81                                          (herbs)   \n",
       "7                                         (berries)   \n",
       "455  (tropical fruit, whole milk, other vegetables)   \n",
       "151                        (other vegetables, beef)   \n",
       "304              (tropical fruit, other vegetables)   \n",
       "\n",
       "                        consequents  antecedent support  consequent support  \\\n",
       "456  (whole milk, other vegetables)            0.021047            0.074835   \n",
       "461  (whole milk, other vegetables)            0.025826            0.074835   \n",
       "81                (root vegetables)            0.016268            0.108998   \n",
       "7              (whipped/sour cream)            0.033249            0.071683   \n",
       "455               (root vegetables)            0.017082            0.108998   \n",
       "151               (root vegetables)            0.019725            0.108998   \n",
       "304                     (pip fruit)            0.035892            0.075648   \n",
       "\n",
       "      support  confidence      lift  leverage  conviction  zhangs_metric  \\\n",
       "456  0.007016    0.333333  4.454257  0.005441    1.387748       0.792169   \n",
       "461  0.007829    0.303150  4.050919  0.005896    1.327638       0.773109   \n",
       "81   0.007016    0.431250  3.956477  0.005243    1.566596       0.759608   \n",
       "7    0.009049    0.272171  3.796886  0.006666    1.275461       0.761960   \n",
       "455  0.007016    0.410714  3.768074  0.005154    1.512003       0.747379   \n",
       "151  0.007931    0.402062  3.688692  0.005781    1.490123       0.743568   \n",
       "304  0.009456    0.263456  3.482649  0.006741    1.254985       0.739401   \n",
       "\n",
       "     count  \n",
       "456     69  \n",
       "461     77  \n",
       "81      69  \n",
       "7       89  \n",
       "455     69  \n",
       "151     78  \n",
       "304     93  "
      ]
     },
     "execution_count": 22,
     "metadata": {},
     "output_type": "execute_result"
    }
   ],
   "source": [
    "rules.sort_values(\"lift\", ascending=False)[0:7]"
   ]
  },
  {
   "cell_type": "markdown",
   "metadata": {},
   "source": [
    "Inspired by the rule with ID 7, let's take a look at other rules that have to do with \"berries\".\n",
    "\n",
    "Here you first need to know that the *antecedents* are so-called [frozensets](https://www.python-course.eu/sets_frozensets.php), so you need to check whether they are a superset of the set `{'berries'}`."
   ]
  },
  {
   "cell_type": "code",
   "execution_count": 23,
   "metadata": {},
   "outputs": [
    {
     "data": {
      "text/plain": [
       "frozenset"
      ]
     },
     "execution_count": 23,
     "metadata": {},
     "output_type": "execute_result"
    }
   ],
   "source": [
    "type(rules.antecedents.values[0])"
   ]
  },
  {
   "cell_type": "code",
   "execution_count": 24,
   "metadata": {},
   "outputs": [
    {
     "data": {
      "text/html": [
       "<div>\n",
       "<style scoped>\n",
       "    .dataframe tbody tr th:only-of-type {\n",
       "        vertical-align: middle;\n",
       "    }\n",
       "\n",
       "    .dataframe tbody tr th {\n",
       "        vertical-align: top;\n",
       "    }\n",
       "\n",
       "    .dataframe thead th {\n",
       "        text-align: right;\n",
       "    }\n",
       "</style>\n",
       "<table border=\"1\" class=\"dataframe\">\n",
       "  <thead>\n",
       "    <tr style=\"text-align: right;\">\n",
       "      <th></th>\n",
       "      <th>antecedents</th>\n",
       "      <th>consequents</th>\n",
       "      <th>antecedent support</th>\n",
       "      <th>consequent support</th>\n",
       "      <th>support</th>\n",
       "      <th>confidence</th>\n",
       "      <th>lift</th>\n",
       "      <th>leverage</th>\n",
       "      <th>conviction</th>\n",
       "      <th>zhangs_metric</th>\n",
       "      <th>count</th>\n",
       "    </tr>\n",
       "  </thead>\n",
       "  <tbody>\n",
       "    <tr>\n",
       "      <th>6</th>\n",
       "      <td>(berries)</td>\n",
       "      <td>(other vegetables)</td>\n",
       "      <td>0.033249</td>\n",
       "      <td>0.193493</td>\n",
       "      <td>0.010269</td>\n",
       "      <td>0.308869</td>\n",
       "      <td>1.596280</td>\n",
       "      <td>0.003836</td>\n",
       "      <td>1.166938</td>\n",
       "      <td>0.386391</td>\n",
       "      <td>101</td>\n",
       "    </tr>\n",
       "    <tr>\n",
       "      <th>7</th>\n",
       "      <td>(berries)</td>\n",
       "      <td>(whipped/sour cream)</td>\n",
       "      <td>0.033249</td>\n",
       "      <td>0.071683</td>\n",
       "      <td>0.009049</td>\n",
       "      <td>0.272171</td>\n",
       "      <td>3.796886</td>\n",
       "      <td>0.006666</td>\n",
       "      <td>1.275461</td>\n",
       "      <td>0.761960</td>\n",
       "      <td>89</td>\n",
       "    </tr>\n",
       "    <tr>\n",
       "      <th>8</th>\n",
       "      <td>(berries)</td>\n",
       "      <td>(whole milk)</td>\n",
       "      <td>0.033249</td>\n",
       "      <td>0.255516</td>\n",
       "      <td>0.011795</td>\n",
       "      <td>0.354740</td>\n",
       "      <td>1.388328</td>\n",
       "      <td>0.003299</td>\n",
       "      <td>1.153774</td>\n",
       "      <td>0.289329</td>\n",
       "      <td>116</td>\n",
       "    </tr>\n",
       "    <tr>\n",
       "      <th>9</th>\n",
       "      <td>(berries)</td>\n",
       "      <td>(yogurt)</td>\n",
       "      <td>0.033249</td>\n",
       "      <td>0.139502</td>\n",
       "      <td>0.010574</td>\n",
       "      <td>0.318043</td>\n",
       "      <td>2.279848</td>\n",
       "      <td>0.005936</td>\n",
       "      <td>1.261807</td>\n",
       "      <td>0.580681</td>\n",
       "      <td>104</td>\n",
       "    </tr>\n",
       "  </tbody>\n",
       "</table>\n",
       "</div>"
      ],
      "text/plain": [
       "  antecedents           consequents  antecedent support  consequent support  \\\n",
       "6   (berries)    (other vegetables)            0.033249            0.193493   \n",
       "7   (berries)  (whipped/sour cream)            0.033249            0.071683   \n",
       "8   (berries)          (whole milk)            0.033249            0.255516   \n",
       "9   (berries)              (yogurt)            0.033249            0.139502   \n",
       "\n",
       "    support  confidence      lift  leverage  conviction  zhangs_metric  count  \n",
       "6  0.010269    0.308869  1.596280  0.003836    1.166938       0.386391    101  \n",
       "7  0.009049    0.272171  3.796886  0.006666    1.275461       0.761960     89  \n",
       "8  0.011795    0.354740  1.388328  0.003299    1.153774       0.289329    116  \n",
       "9  0.010574    0.318043  2.279848  0.005936    1.261807       0.580681    104  "
      ]
     },
     "execution_count": 24,
     "metadata": {},
     "output_type": "execute_result"
    }
   ],
   "source": [
    "#rules['berries' in rules.antecedants.values] <- das geht so leider nicht!\n",
    "rules[rules.antecedents.apply(lambda x: x.issuperset({'berries'}))]"
   ]
  },
  {
   "cell_type": "markdown",
   "metadata": {},
   "source": [
    "Or we are only interested in those rules where there is a *substitution effect*."
   ]
  },
  {
   "cell_type": "code",
   "execution_count": 25,
   "metadata": {},
   "outputs": [
    {
     "data": {
      "text/html": [
       "<div>\n",
       "<style scoped>\n",
       "    .dataframe tbody tr th:only-of-type {\n",
       "        vertical-align: middle;\n",
       "    }\n",
       "\n",
       "    .dataframe tbody tr th {\n",
       "        vertical-align: top;\n",
       "    }\n",
       "\n",
       "    .dataframe thead th {\n",
       "        text-align: right;\n",
       "    }\n",
       "</style>\n",
       "<table border=\"1\" class=\"dataframe\">\n",
       "  <thead>\n",
       "    <tr style=\"text-align: right;\">\n",
       "      <th></th>\n",
       "      <th>antecedents</th>\n",
       "      <th>consequents</th>\n",
       "      <th>antecedent support</th>\n",
       "      <th>consequent support</th>\n",
       "      <th>support</th>\n",
       "      <th>confidence</th>\n",
       "      <th>lift</th>\n",
       "      <th>leverage</th>\n",
       "      <th>conviction</th>\n",
       "      <th>zhangs_metric</th>\n",
       "      <th>count</th>\n",
       "    </tr>\n",
       "  </thead>\n",
       "  <tbody>\n",
       "    <tr>\n",
       "      <th>11</th>\n",
       "      <td>(bottled beer)</td>\n",
       "      <td>(whole milk)</td>\n",
       "      <td>0.080529</td>\n",
       "      <td>0.255516</td>\n",
       "      <td>0.020437</td>\n",
       "      <td>0.253788</td>\n",
       "      <td>0.993237</td>\n",
       "      <td>-0.000139</td>\n",
       "      <td>0.997684</td>\n",
       "      <td>-0.007351</td>\n",
       "      <td>201</td>\n",
       "    </tr>\n",
       "  </tbody>\n",
       "</table>\n",
       "</div>"
      ],
      "text/plain": [
       "       antecedents   consequents  antecedent support  consequent support  \\\n",
       "11  (bottled beer)  (whole milk)            0.080529            0.255516   \n",
       "\n",
       "     support  confidence      lift  leverage  conviction  zhangs_metric  count  \n",
       "11  0.020437    0.253788  0.993237 -0.000139    0.997684      -0.007351    201  "
      ]
     },
     "execution_count": 25,
     "metadata": {},
     "output_type": "execute_result"
    }
   ],
   "source": [
    "rules[rules.lift<1.0]"
   ]
  },
  {
   "cell_type": "code",
   "execution_count": 26,
   "metadata": {},
   "outputs": [],
   "source": [
    "pd.options.display.max_rows = PREVIOUS_MAX_ROWS"
   ]
  },
  {
   "cell_type": "markdown",
   "metadata": {},
   "source": [
    "## Learning outcomes\n",
    "---"
   ]
  },
  {
   "cell_type": "markdown",
   "metadata": {},
   "source": [
    "If you carefully studied the materials provided within these documents, you should have a fundamental grasp of association analysis in machine learning, including the following points:\n",
    "\n",
    "* originates in market basket analysis to promote cross-selling,\n",
    "* unsupervised learning method based on rules of the form \"If $X$, then $Y$\"\n",
    "($X \\rightarrow Y$)\n",
    "* rules are based on descriptive statistics, especially relative frequencies of item sets,\n",
    "* the rules can depend on the parameters used and interpretation depends largely on the use-case."
   ]
  }
 ],
 "metadata": {
  "kernelspec": {
   "display_name": "Python 3 (ipykernel)",
   "language": "python",
   "name": "python3"
  },
  "language_info": {
   "codemirror_mode": {
    "name": "ipython",
    "version": 3
   },
   "file_extension": ".py",
   "mimetype": "text/x-python",
   "name": "python",
   "nbconvert_exporter": "python",
   "pygments_lexer": "ipython3",
   "version": "3.10.12"
  },
  "latex_envs": {
   "LaTeX_envs_menu_present": true,
   "autocomplete": true,
   "bibliofile": "biblio.bib",
   "cite_by": "apalike",
   "current_citInitial": 1,
   "eqLabelWithNumbers": true,
   "eqNumInitial": 1,
   "hotkeys": {
    "equation": "Ctrl-E",
    "itemize": "Ctrl-I"
   },
   "labels_anchors": false,
   "latex_user_defs": false,
   "report_style_numbering": false,
   "user_envs_cfg": false
  }
 },
 "nbformat": 4,
 "nbformat_minor": 4
}
