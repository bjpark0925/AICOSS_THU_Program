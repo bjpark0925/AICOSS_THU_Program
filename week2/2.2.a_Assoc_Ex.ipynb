{
 "cells": [
  {
   "cell_type": "markdown",
   "metadata": {},
   "source": [
    "![Banner](./img/AI_Special_Program_Banner.jpg)"
   ]
  },
  {
   "cell_type": "markdown",
   "metadata": {},
   "source": [
    "# Exercise for association analysis\n",
    "---"
   ]
  },
  {
   "cell_type": "markdown",
   "metadata": {},
   "source": [
    "<h2 style=\"color:blue\">Task 1 - Theory</h2>"
   ]
  },
  {
   "cell_type": "markdown",
   "metadata": {},
   "source": [
    "---"
   ]
  },
  {
   "cell_type": "markdown",
   "metadata": {},
   "source": [
    "Have a look at the [Documentation on association rules in `Mlxtend`](http://rasbt.github.io/mlxtend/user_guide/frequent_patterns/association_rules/) and answer the following questions:\n",
    "\n",
    "<h4 style=\"color:blue\"> 1.1 How is the <em>leverage</em> metric calculated? </h4>"
   ]
  },
  {
   "cell_type": "markdown",
   "metadata": {},
   "source": [
    "> Your solution."
   ]
  },
  {
   "cell_type": "markdown",
   "metadata": {},
   "source": [
    "<h4 style=\"color:blue\"> 1.2 How is the <em>conviction</em> metric calculated? </h4>"
   ]
  },
  {
   "cell_type": "markdown",
   "metadata": {},
   "source": [
    "> Your solution."
   ]
  },
  {
   "cell_type": "markdown",
   "metadata": {},
   "source": [
    "<h2 style=\"color:blue\"> Task 2 - Analysis of Steam user statistics with Python </h2>"
   ]
  },
  {
   "cell_type": "markdown",
   "metadata": {},
   "source": [
    "---"
   ]
  },
  {
   "cell_type": "markdown",
   "metadata": {},
   "source": [
    "In this task, you are to carry out an association analysis with a data set that does not contain data on sales, but on user statistics. However, since no metrics are analyzed for the individual transactions, the similarity to pure sales data is very high. However, it should be noted that association analysis can also make sense if the data is not about transactions from sales, even if the entire terminology was derived from this area.\n",
    "\n",
    "In particular, you are to analyze the user statistics of users of the video game distribution platform [Steam](https://store.steampowered.com/about/). Proceed as follows:"
   ]
  },
  {
   "cell_type": "markdown",
   "metadata": {},
   "source": [
    "<h4 style=\"color:blue\">2.1 Perform an association analysis of Steam user statistics <b>analogous to the example presented</b></h4>\n",
    "\n",
    "We use a dataset that is an adaptation of the collected Steam data from [Apurva Pathak et al. 2017](https://cseweb.ucsd.edu/~jmcauley/pdfs/sigir17.pdf). More specifically, it is the user statistics of 4311 Australian users of the video game distribution platform *Steam*. The version used here is merely an excerpt of the original data and only contains games that were played for more than 30 hours.\n",
    "\n",
    "The data set is located in the subfolder [data](data/steam_users.txt).\n",
    "\n",
    "The aim is to find rules with\n",
    "* `support` of at least 1% and\n",
    "* `confidence` of at least 50%"
   ]
  },
  {
   "cell_type": "code",
   "execution_count": 1,
   "metadata": {},
   "outputs": [],
   "source": [
    "# Your solution"
   ]
  },
  {
   "cell_type": "markdown",
   "metadata": {},
   "source": [
    "<h4 style=\"color:blue\"> 2.2 Which games would you recommend to owners of the factory simulation <em>Factorio</em>? </h4>"
   ]
  },
  {
   "cell_type": "code",
   "execution_count": 1,
   "metadata": {},
   "outputs": [],
   "source": [
    "# Your solution"
   ]
  },
  {
   "cell_type": "markdown",
   "metadata": {},
   "source": [
    "<h4 style=\"color:blue\"> 2.3 And which games are interesting for owners of the indie game <em>The Binding of Isaac</em>? </h4>"
   ]
  },
  {
   "cell_type": "code",
   "execution_count": 1,
   "metadata": {},
   "outputs": [],
   "source": [
    "# Your solution"
   ]
  },
  {
   "cell_type": "markdown",
   "metadata": {},
   "source": [
    "### Hint\n",
    "If you follow the example analysis, you will only find rules in 2.2 and 2.3 in which the games occur as *antecendents*, but not as *consequences*. You should fix this by extending the DataFrame!"
   ]
  }
 ],
 "metadata": {
  "kernelspec": {
   "display_name": "Python 3 (ipykernel)",
   "language": "python",
   "name": "python3"
  },
  "language_info": {
   "codemirror_mode": {
    "name": "ipython",
    "version": 3
   },
   "file_extension": ".py",
   "mimetype": "text/x-python",
   "name": "python",
   "nbconvert_exporter": "python",
   "pygments_lexer": "ipython3",
   "version": "3.10.12"
  }
 },
 "nbformat": 4,
 "nbformat_minor": 4
}
