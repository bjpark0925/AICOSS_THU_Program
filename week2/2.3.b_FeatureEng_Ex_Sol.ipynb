{
 "cells": [
  {
   "cell_type": "markdown",
   "metadata": {},
   "source": [
    "![Banner](./img/AI_Special_Program_Banner.jpg)"
   ]
  },
  {
   "cell_type": "markdown",
   "metadata": {},
   "source": [
    "# Exercise on Feature Engineering\n",
    "---"
   ]
  },
  {
   "cell_type": "markdown",
   "metadata": {},
   "source": [
    "In this exercise, you will apply feature engineering methods to improve the performance of a ML model. Feature engineering is more of an art than an exact science and requires some creative work. This exercise is therefore designed to be very open and exploratory. Your task will be to develop and empirically evaluate **your own feature engineering methods**."
   ]
  },
  {
   "cell_type": "markdown",
   "metadata": {
    "slideshow": {
     "slide_type": "subslide"
    }
   },
   "source": [
    "## Data preparation and a baseline model\n",
    "---"
   ]
  },
  {
   "cell_type": "markdown",
   "metadata": {},
   "source": [
    "In this section, we read in the data and develop an initial baseline model. We use a customized subset (145,572 rows) of the [NYC Taxi Trip Duration](https://www.kaggle.com/c/nyc-taxi-trip-duration/overview) dataset from a Kaggle competition. The goal of this data is to predict the trip duration (`trip_duration`) of a cab ride in New York City as accurately as possible. It is therefore a **regression problem**. The competition was announced with prize money of \\\\$30,000."
   ]
  },
  {
   "cell_type": "markdown",
   "metadata": {},
   "source": [
    "### Reading in the data"
   ]
  },
  {
   "cell_type": "code",
   "execution_count": 1,
   "metadata": {},
   "outputs": [],
   "source": [
    "%matplotlib inline\n",
    "import pandas as pd\n",
    "import numpy as np\n",
    "import matplotlib.pyplot as plt"
   ]
  },
  {
   "cell_type": "code",
   "execution_count": 2,
   "metadata": {},
   "outputs": [],
   "source": [
    "df = pd.read_csv('./data/nyc_taxi.csv')"
   ]
  },
  {
   "cell_type": "code",
   "execution_count": 3,
   "metadata": {},
   "outputs": [
    {
     "data": {
      "text/html": [
       "<div>\n",
       "<style scoped>\n",
       "    .dataframe tbody tr th:only-of-type {\n",
       "        vertical-align: middle;\n",
       "    }\n",
       "\n",
       "    .dataframe tbody tr th {\n",
       "        vertical-align: top;\n",
       "    }\n",
       "\n",
       "    .dataframe thead th {\n",
       "        text-align: right;\n",
       "    }\n",
       "</style>\n",
       "<table border=\"1\" class=\"dataframe\">\n",
       "  <thead>\n",
       "    <tr style=\"text-align: right;\">\n",
       "      <th></th>\n",
       "      <th>index</th>\n",
       "      <th>id</th>\n",
       "      <th>vendor_id</th>\n",
       "      <th>pickup_datetime</th>\n",
       "      <th>passenger_count</th>\n",
       "      <th>pickup_longitude</th>\n",
       "      <th>pickup_latitude</th>\n",
       "      <th>dropoff_longitude</th>\n",
       "      <th>dropoff_latitude</th>\n",
       "      <th>store_and_fwd_flag</th>\n",
       "      <th>trip_duration</th>\n",
       "    </tr>\n",
       "  </thead>\n",
       "  <tbody>\n",
       "    <tr>\n",
       "      <th>0</th>\n",
       "      <td>571578</td>\n",
       "      <td>id2141905</td>\n",
       "      <td>2</td>\n",
       "      <td>2016-03-31 16:04:41</td>\n",
       "      <td>1</td>\n",
       "      <td>-73.971916</td>\n",
       "      <td>40.757042</td>\n",
       "      <td>-73.974663</td>\n",
       "      <td>40.753624</td>\n",
       "      <td>0</td>\n",
       "      <td>113</td>\n",
       "    </tr>\n",
       "    <tr>\n",
       "      <th>1</th>\n",
       "      <td>1280332</td>\n",
       "      <td>id0996953</td>\n",
       "      <td>2</td>\n",
       "      <td>2016-04-21 21:54:52</td>\n",
       "      <td>2</td>\n",
       "      <td>-73.961891</td>\n",
       "      <td>40.771061</td>\n",
       "      <td>-73.906311</td>\n",
       "      <td>40.908562</td>\n",
       "      <td>0</td>\n",
       "      <td>2037</td>\n",
       "    </tr>\n",
       "    <tr>\n",
       "      <th>2</th>\n",
       "      <td>177838</td>\n",
       "      <td>id1572284</td>\n",
       "      <td>1</td>\n",
       "      <td>2016-03-30 11:26:24</td>\n",
       "      <td>3</td>\n",
       "      <td>-74.010338</td>\n",
       "      <td>40.711674</td>\n",
       "      <td>-73.957047</td>\n",
       "      <td>40.777634</td>\n",
       "      <td>0</td>\n",
       "      <td>1811</td>\n",
       "    </tr>\n",
       "    <tr>\n",
       "      <th>3</th>\n",
       "      <td>1433776</td>\n",
       "      <td>id0103694</td>\n",
       "      <td>1</td>\n",
       "      <td>2016-03-06 20:07:45</td>\n",
       "      <td>1</td>\n",
       "      <td>-74.005898</td>\n",
       "      <td>40.740093</td>\n",
       "      <td>-73.992287</td>\n",
       "      <td>40.758511</td>\n",
       "      <td>0</td>\n",
       "      <td>977</td>\n",
       "    </tr>\n",
       "    <tr>\n",
       "      <th>4</th>\n",
       "      <td>757662</td>\n",
       "      <td>id2548956</td>\n",
       "      <td>1</td>\n",
       "      <td>2016-04-06 13:45:10</td>\n",
       "      <td>1</td>\n",
       "      <td>-74.011063</td>\n",
       "      <td>40.715599</td>\n",
       "      <td>-74.005035</td>\n",
       "      <td>40.720966</td>\n",
       "      <td>0</td>\n",
       "      <td>342</td>\n",
       "    </tr>\n",
       "  </tbody>\n",
       "</table>\n",
       "</div>"
      ],
      "text/plain": [
       "     index         id  vendor_id      pickup_datetime  passenger_count  \\\n",
       "0   571578  id2141905          2  2016-03-31 16:04:41                1   \n",
       "1  1280332  id0996953          2  2016-04-21 21:54:52                2   \n",
       "2   177838  id1572284          1  2016-03-30 11:26:24                3   \n",
       "3  1433776  id0103694          1  2016-03-06 20:07:45                1   \n",
       "4   757662  id2548956          1  2016-04-06 13:45:10                1   \n",
       "\n",
       "   pickup_longitude  pickup_latitude  dropoff_longitude  dropoff_latitude  \\\n",
       "0        -73.971916        40.757042         -73.974663         40.753624   \n",
       "1        -73.961891        40.771061         -73.906311         40.908562   \n",
       "2        -74.010338        40.711674         -73.957047         40.777634   \n",
       "3        -74.005898        40.740093         -73.992287         40.758511   \n",
       "4        -74.011063        40.715599         -74.005035         40.720966   \n",
       "\n",
       "   store_and_fwd_flag  trip_duration  \n",
       "0                   0            113  \n",
       "1                   0           2037  \n",
       "2                   0           1811  \n",
       "3                   0            977  \n",
       "4                   0            342  "
      ]
     },
     "execution_count": 3,
     "metadata": {},
     "output_type": "execute_result"
    }
   ],
   "source": [
    "df.head()"
   ]
  },
  {
   "cell_type": "code",
   "execution_count": 4,
   "metadata": {},
   "outputs": [
    {
     "name": "stdout",
     "output_type": "stream",
     "text": [
      "<class 'pandas.core.frame.DataFrame'>\n",
      "RangeIndex: 145572 entries, 0 to 145571\n",
      "Data columns (total 11 columns):\n",
      " #   Column              Non-Null Count   Dtype  \n",
      "---  ------              --------------   -----  \n",
      " 0   index               145572 non-null  int64  \n",
      " 1   id                  145572 non-null  object \n",
      " 2   vendor_id           145572 non-null  int64  \n",
      " 3   pickup_datetime     145572 non-null  object \n",
      " 4   passenger_count     145572 non-null  int64  \n",
      " 5   pickup_longitude    145572 non-null  float64\n",
      " 6   pickup_latitude     145572 non-null  float64\n",
      " 7   dropoff_longitude   145572 non-null  float64\n",
      " 8   dropoff_latitude    145572 non-null  float64\n",
      " 9   store_and_fwd_flag  145572 non-null  int64  \n",
      " 10  trip_duration       145572 non-null  int64  \n",
      "dtypes: float64(4), int64(5), object(2)\n",
      "memory usage: 12.2+ MB\n"
     ]
    }
   ],
   "source": [
    "df.info()"
   ]
  },
  {
   "cell_type": "markdown",
   "metadata": {},
   "source": [
    "For this exercise, we only work with **10% of the original data** to reduce the calculation time of the models and feature engineering procedures."
   ]
  },
  {
   "cell_type": "markdown",
   "metadata": {},
   "source": [
    "**Features of the data** (see [here](https://www.kaggle.com/c/nyc-taxi-trip-duration/data)):\n",
    "\n",
    "* **id** - a unique identifier for each trip\n",
    "* **vendor_id** - a code indicating the provider associated with the trip record\n",
    "* **pickup_datetime** - date and time when the meter was engaged\n",
    "* **passenger_count** - the number of passengers in the vehicle (driver entered value)\n",
    "* **pickup_longitude** - the longitude where the meter was engaged\n",
    "* **pickup_latitude** - the latitude where the meter was engaged\n",
    "* **dropoff_longitude** - the longitude where the meter was disengaged\n",
    "* **dropoff_latitude** - the latitude where the meter was disengaged\n",
    "* **store_and_fwd_flag** - This flag indicates whether the trip record was held in vehicle memory before sending to the vendor because the vehicle did not have a connection to the server - 1=store and forward; 0=not a store and forward trip\n",
    "\n",
    "**Target:**\n",
    "\n",
    "* **trip_duration** - duration of the trip in seconds"
   ]
  },
  {
   "cell_type": "markdown",
   "metadata": {},
   "source": [
    "### Baseline model"
   ]
  },
  {
   "cell_type": "markdown",
   "metadata": {},
   "source": [
    "A random forest model was selected as the baseline. As we are working with a significantly smaller amount of data compared to the original data, the default RF model unfortunately suffers from overfitting. The parameters `max_features` and `max_depth` were each adjusted to reduce overfitting."
   ]
  },
  {
   "cell_type": "code",
   "execution_count": 5,
   "metadata": {},
   "outputs": [],
   "source": [
    "MAX_FEATURES = 0.5\n",
    "MAX_DEPTH = 8"
   ]
  },
  {
   "cell_type": "code",
   "execution_count": 6,
   "metadata": {},
   "outputs": [],
   "source": [
    "cols_to_train = ['vendor_id', 'passenger_count', 'pickup_longitude','pickup_latitude',\n",
    "                 'dropoff_longitude','dropoff_latitude','store_and_fwd_flag']"
   ]
  },
  {
   "cell_type": "code",
   "execution_count": 7,
   "metadata": {},
   "outputs": [
    {
     "name": "stdout",
     "output_type": "stream",
     "text": [
      "RMSE: Train-Score: 433.47 - Test Score: 440.95\n"
     ]
    }
   ],
   "source": [
    "from sklearn.ensemble import RandomForestRegressor\n",
    "from sklearn.model_selection import cross_validate\n",
    "\n",
    "X = df[cols_to_train].copy()\n",
    "y = df['trip_duration']\n",
    "\n",
    "# Train and score baseline model\n",
    "baseline = RandomForestRegressor(random_state=0, n_jobs=-1, max_features=MAX_FEATURES, max_depth=MAX_DEPTH)\n",
    "baseline_scores = cross_validate(\n",
    "    baseline, X, y, cv=5, scoring=\"neg_root_mean_squared_error\", return_train_score=True\n",
    ")\n",
    "\n",
    "print(f\"RMSE: Train-Score: {-1*baseline_scores['train_score'].mean():.2f} - Test Score: {-1*baseline_scores['test_score'].mean():.2f}\")"
   ]
  },
  {
   "cell_type": "markdown",
   "metadata": {
    "slideshow": {
     "slide_type": "subslide"
    }
   },
   "source": [
    "<h1 style=\"color:blue\">Exercise</h1>"
   ]
  },
  {
   "cell_type": "markdown",
   "metadata": {},
   "source": [
    "---"
   ]
  },
  {
   "cell_type": "markdown",
   "metadata": {},
   "source": [
    "In this exercise you have only one goal: **improve the performance of the baseline model through feature engineering!**  \n",
    "You can use the pipeline of the baseline model above and add your new features to the `cols_to_train` list. Evaluate your new features analogous to the baseline model using the [RMSE](https://scikit-learn.org/stable/modules/generated/sklearn.metrics.mean_squared_error.html) score. It is best to determine the performance of new features individually in comparison to the baseline before finally using them in combination.\n",
    "\n",
    "The best RMSE test score achieved in the sample solution is *332.83*. Can you beat this?"
   ]
  },
  {
   "cell_type": "markdown",
   "metadata": {},
   "source": [
    "**Possible starting points:**\n",
    "\n",
    "* **Log transformation** of the `trip_duration` target\n",
    "    * Check whether the distribution of the target is suitable for a log transformation\n",
    "    * To test the effect of a log transformation, you can use the [TransformedTargetRegressor](https://scikit-learn.org/stable/modules/generated/sklearn.compose.TransformedTargetRegressor.html#sklearn-compose-transformedtargetregressor). This allows you to reverse the prediction with the `inverse_func` parameter in order to make the RMSE values comparable.\n",
    "* Extraction of **date information** from `pickup_datetime`. *Surely the travel time of a cab ride depends on the time of day...*\n",
    "* Calculation of **distances** from the geocoordinates `pickup_longitude`, `pickup_latitude`, `dropoff_longitude`, `dropoff_latitude`.\n",
    "    * Note that the distances are to be calculated on the basis of an ellipse ($\\hat =$ Earth). You can calculate these [geodesics](https://de.wikipedia.org/wiki/Geod%C3%A4te) with [Geopy](https://geopy.readthedocs.io/en/stable/#module-geopy.distance), for example.\n",
    "    * Since cabs don't fly (*yet*), you could also use more meaningful distances. *New York City = [Manhattan distance](https://en.wikipedia.org/wiki/Taxicab_geometry)?*\n",
    "* Consideration of **holidays**. *Different travel times could perhaps be expected here...*\n",
    "    * This can be implemented with the Pandas [Holiday-Calendar](https://pandas.pydata.org/pandas-docs/stable/user_guide/timeseries.html#holidays-holiday-calendars), for example\n",
    "* **Clustering of the geodata**. You could use [MiniBatchKMeans](https://scikit-learn.org/stable/modules/generated/sklearn.cluster.MiniBatchKMeans.html) to cluster the locations based on the geocoordinates. The start and end cluster could be a good predictor of travel time.\n",
    "* Use of **external weather data**. *Perhaps shorter distances are increasingly traveled by cab in bad weather*\n",
    "    * You can use the file `./data/weather_data_nyc_centralpark_2016.csv` for this (based on [here](https://www.kaggle.com/mathijs/weather-data-in-new-york-city-2016))\n",
    "    * The T in the data stands for Trace (was recognized, but not enough for a measurement)"
   ]
  },
  {
   "cell_type": "markdown",
   "metadata": {},
   "source": [
    "The points mentioned are only an initial selection of possible feature engineering approaches. You are welcome to experiment and develop your own ideas! Finally, to achieve the best performance, you can use your predictive features in combination."
   ]
  },
  {
   "cell_type": "markdown",
   "metadata": {},
   "source": [
    "## Log transformation of the target"
   ]
  },
  {
   "cell_type": "code",
   "execution_count": 8,
   "metadata": {},
   "outputs": [
    {
     "data": {
      "text/plain": [
       "<Axes: ylabel='Frequency'>"
      ]
     },
     "execution_count": 8,
     "metadata": {},
     "output_type": "execute_result"
    },
    {
     "data": {
      "image/png": "[encoded data removed]",
      "text/plain": [
       "<Figure size 640x480 with 1 Axes>"
      ]
     },
     "metadata": {},
     "output_type": "display_data"
    }
   ],
   "source": [
    "df['trip_duration'].plot(kind='hist')"
   ]
  },
  {
   "cell_type": "markdown",
   "metadata": {},
   "source": [
    "The distribution is clearly skewed to the right and could be improved with a log transformation."
   ]
  },
  {
   "cell_type": "code",
   "execution_count": 9,
   "metadata": {},
   "outputs": [],
   "source": [
    "df['log_trip_duration'] = np.log1p(df['trip_duration'])"
   ]
  },
  {
   "cell_type": "code",
   "execution_count": 10,
   "metadata": {},
   "outputs": [
    {
     "data": {
      "text/plain": [
       "<Axes: ylabel='Frequency'>"
      ]
     },
     "execution_count": 10,
     "metadata": {},
     "output_type": "execute_result"
    },
    {
     "data": {
      "image/png": "[encoded data removed]",
      "text/plain": [
       "<Figure size 640x480 with 1 Axes>"
      ]
     },
     "metadata": {},
     "output_type": "display_data"
    }
   ],
   "source": [
    "df['log_trip_duration'].plot(kind='hist')"
   ]
  },
  {
   "cell_type": "markdown",
   "metadata": {},
   "source": [
    "The resulting distribution looks better. Finally, we can test this with the [TransformedTargetRegressor](https://scikit-learn.org/stable/modules/generated/sklearn.compose.TransformedTargetRegressor.html#sklearn-compose-transformedtargetregressor), as we can specify the inverse function for the prediction there. This makes the RMSE measures comparable:"
   ]
  },
  {
   "cell_type": "code",
   "execution_count": 11,
   "metadata": {},
   "outputs": [
    {
     "name": "stdout",
     "output_type": "stream",
     "text": [
      "RMSE: Train-Score: 443.68 - Test Score: 448.69\n"
     ]
    }
   ],
   "source": [
    "from sklearn.compose import TransformedTargetRegressor\n",
    "\n",
    "X = df[cols_to_train].copy()\n",
    "y = df['trip_duration']\n",
    "\n",
    "regr_trans = TransformedTargetRegressor(regressor = RandomForestRegressor(random_state=0, n_jobs=-1, max_features=MAX_FEATURES, max_depth=MAX_DEPTH),\n",
    "                                       func = np.log1p,\n",
    "                                       inverse_func=np.expm1)\n",
    "\n",
    "regr_trans_scores = cross_validate(\n",
    "    regr_trans, X, y, cv=5, scoring=\"neg_root_mean_squared_error\", return_train_score=True\n",
    ")\n",
    "\n",
    "print(f\"RMSE: Train-Score: {-1*regr_trans_scores['train_score'].mean():.2f} - Test Score: {-1*regr_trans_scores['test_score'].mean():.2f}\")"
   ]
  },
  {
   "cell_type": "markdown",
   "metadata": {},
   "source": [
    "The RMSE has even increased! This is at least consistent with the study by [Florian Wilhelm](https://florianwilhelm.info/2020/05/honey_i_shrunk_the_target_variable/). We therefore use the original distribution of the `trip_duration` below."
   ]
  },
  {
   "cell_type": "markdown",
   "metadata": {},
   "source": [
    "### Date"
   ]
  },
  {
   "cell_type": "code",
   "execution_count": 12,
   "metadata": {},
   "outputs": [],
   "source": [
    "df['pickup_datetime'] = pd.to_datetime(df['pickup_datetime'])"
   ]
  },
  {
   "cell_type": "code",
   "execution_count": 13,
   "metadata": {},
   "outputs": [],
   "source": [
    "df['pickup_weekday'] = df['pickup_datetime'].dt.weekday\n",
    "df['pickup_weekofyear'] = df['pickup_datetime'].dt.isocalendar().week\n",
    "df['pickup_hour'] = df['pickup_datetime'].dt.hour\n",
    "df['pickup_minute'] = df['pickup_datetime'].dt.minute"
   ]
  },
  {
   "cell_type": "code",
   "execution_count": 14,
   "metadata": {},
   "outputs": [],
   "source": [
    "cols_to_train = ['vendor_id', 'passenger_count', 'pickup_longitude','pickup_latitude',\n",
    "                 'dropoff_longitude','dropoff_latitude','store_and_fwd_flag', \n",
    "                 'pickup_weekday', 'pickup_weekofyear', 'pickup_hour', 'pickup_minute']"
   ]
  },
  {
   "cell_type": "code",
   "execution_count": 15,
   "metadata": {},
   "outputs": [
    {
     "name": "stdout",
     "output_type": "stream",
     "text": [
      "RMSE: Train-Score: 421.34 - Test Score: 427.66\n"
     ]
    }
   ],
   "source": [
    "X = df[cols_to_train].copy()\n",
    "y = df['trip_duration']\n",
    "\n",
    "# Train and score baseline model\n",
    "date_rf = RandomForestRegressor(random_state=0, n_jobs=-1, max_features=MAX_FEATURES, max_depth=MAX_DEPTH)\n",
    "date_scores = cross_validate(\n",
    "    date_rf, X, y, cv=5, scoring=\"neg_root_mean_squared_error\", return_train_score=True\n",
    ")\n",
    "\n",
    "print(f\"RMSE: Train-Score: {-1*date_scores['train_score'].mean():.2f} - Test Score: {-1*date_scores['test_score'].mean():.2f}\")"
   ]
  },
  {
   "cell_type": "markdown",
   "metadata": {},
   "source": [
    "Adding the date provides a significant improvement. Let's take a look at the Feature Importance for verification:"
   ]
  },
  {
   "cell_type": "code",
   "execution_count": 16,
   "metadata": {},
   "outputs": [
    {
     "data": {
      "text/html": [
       "<style>#sk-container-id-1 {color: black;}#sk-container-id-1 pre{padding: 0;}#sk-container-id-1 div.sk-toggleable {background-color: white;}#sk-container-id-1 label.sk-toggleable__label {cursor: pointer;display: block;width: 100%;margin-bottom: 0;padding: 0.3em;box-sizing: border-box;text-align: center;}#sk-container-id-1 label.sk-toggleable__label-arrow:before {content: \"▸\";float: left;margin-right: 0.25em;color: #696969;}#sk-container-id-1 label.sk-toggleable__label-arrow:hover:before {color: black;}#sk-container-id-1 div.sk-estimator:hover label.sk-toggleable__label-arrow:before {color: black;}#sk-container-id-1 div.sk-toggleable__content {max-height: 0;max-width: 0;overflow: hidden;text-align: left;background-color: #f0f8ff;}#sk-container-id-1 div.sk-toggleable__content pre {margin: 0.2em;color: black;border-radius: 0.25em;background-color: #f0f8ff;}#sk-container-id-1 input.sk-toggleable__control:checked~div.sk-toggleable__content {max-height: 200px;max-width: 100%;overflow: auto;}#sk-container-id-1 input.sk-toggleable__control:checked~label.sk-toggleable__label-arrow:before {content: \"▾\";}#sk-container-id-1 div.sk-estimator input.sk-toggleable__control:checked~label.sk-toggleable__label {background-color: #d4ebff;}#sk-container-id-1 div.sk-label input.sk-toggleable__control:checked~label.sk-toggleable__label {background-color: #d4ebff;}#sk-container-id-1 input.sk-hidden--visually {border: 0;clip: rect(1px 1px 1px 1px);clip: rect(1px, 1px, 1px, 1px);height: 1px;margin: -1px;overflow: hidden;padding: 0;position: absolute;width: 1px;}#sk-container-id-1 div.sk-estimator {font-family: monospace;background-color: #f0f8ff;border: 1px dotted black;border-radius: 0.25em;box-sizing: border-box;margin-bottom: 0.5em;}#sk-container-id-1 div.sk-estimator:hover {background-color: #d4ebff;}#sk-container-id-1 div.sk-parallel-item::after {content: \"\";width: 100%;border-bottom: 1px solid gray;flex-grow: 1;}#sk-container-id-1 div.sk-label:hover label.sk-toggleable__label {background-color: #d4ebff;}#sk-container-id-1 div.sk-serial::before {content: \"\";position: absolute;border-left: 1px solid gray;box-sizing: border-box;top: 0;bottom: 0;left: 50%;z-index: 0;}#sk-container-id-1 div.sk-serial {display: flex;flex-direction: column;align-items: center;background-color: white;padding-right: 0.2em;padding-left: 0.2em;position: relative;}#sk-container-id-1 div.sk-item {position: relative;z-index: 1;}#sk-container-id-1 div.sk-parallel {display: flex;align-items: stretch;justify-content: center;background-color: white;position: relative;}#sk-container-id-1 div.sk-item::before, #sk-container-id-1 div.sk-parallel-item::before {content: \"\";position: absolute;border-left: 1px solid gray;box-sizing: border-box;top: 0;bottom: 0;left: 50%;z-index: -1;}#sk-container-id-1 div.sk-parallel-item {display: flex;flex-direction: column;z-index: 1;position: relative;background-color: white;}#sk-container-id-1 div.sk-parallel-item:first-child::after {align-self: flex-end;width: 50%;}#sk-container-id-1 div.sk-parallel-item:last-child::after {align-self: flex-start;width: 50%;}#sk-container-id-1 div.sk-parallel-item:only-child::after {width: 0;}#sk-container-id-1 div.sk-dashed-wrapped {border: 1px dashed gray;margin: 0 0.4em 0.5em 0.4em;box-sizing: border-box;padding-bottom: 0.4em;background-color: white;}#sk-container-id-1 div.sk-label label {font-family: monospace;font-weight: bold;display: inline-block;line-height: 1.2em;}#sk-container-id-1 div.sk-label-container {text-align: center;}#sk-container-id-1 div.sk-container {/* jupyter's `normalize.less` sets `[hidden] { display: none; }` but bootstrap.min.css set `[hidden] { display: none !important; }` so we also need the `!important` here to be able to override the default hidden behavior on the sphinx rendered scikit-learn.org. See: https://github.com/scikit-learn/scikit-learn/issues/21755 */display: inline-block !important;position: relative;}#sk-container-id-1 div.sk-text-repr-fallback {display: none;}</style><div id=\"sk-container-id-1\" class=\"sk-top-container\"><div class=\"sk-text-repr-fallback\"><pre>RandomForestRegressor(max_depth=8, max_features=0.5, n_jobs=-1, random_state=0)</pre><b>In a Jupyter environment, please rerun this cell to show the HTML representation or trust the notebook. <br />On GitHub, the HTML representation is unable to render, please try loading this page with nbviewer.org.</b></div><div class=\"sk-container\" hidden><div class=\"sk-item\"><div class=\"sk-estimator sk-toggleable\"><input class=\"sk-toggleable__control sk-hidden--visually\" id=\"sk-estimator-id-1\" type=\"checkbox\" checked><label for=\"sk-estimator-id-1\" class=\"sk-toggleable__label sk-toggleable__label-arrow\">RandomForestRegressor</label><div class=\"sk-toggleable__content\"><pre>RandomForestRegressor(max_depth=8, max_features=0.5, n_jobs=-1, random_state=0)</pre></div></div></div></div></div>"
      ],
      "text/plain": [
       "RandomForestRegressor(max_depth=8, max_features=0.5, n_jobs=-1, random_state=0)"
      ]
     },
     "execution_count": 16,
     "metadata": {},
     "output_type": "execute_result"
    }
   ],
   "source": [
    "baseline.fit(X,y)"
   ]
  },
  {
   "cell_type": "code",
   "execution_count": 17,
   "metadata": {},
   "outputs": [
    {
     "data": {
      "text/plain": [
       "[('vendor_id', 0.00014386278393303922),\n",
       " ('passenger_count', 0.0003074688642794477),\n",
       " ('pickup_longitude', 0.3216061740980296),\n",
       " ('pickup_latitude', 0.1741237963739429),\n",
       " ('dropoff_longitude', 0.24680046788185836),\n",
       " ('dropoff_latitude', 0.18501128635306038),\n",
       " ('store_and_fwd_flag', 5.4044193934629125e-05),\n",
       " ('pickup_weekday', 0.009444463817564072),\n",
       " ('pickup_weekofyear', 0.0033881700114485793),\n",
       " ('pickup_hour', 0.057912231890998984),\n",
       " ('pickup_minute', 0.0012080337309500512)]"
      ]
     },
     "execution_count": 17,
     "metadata": {},
     "output_type": "execute_result"
    }
   ],
   "source": [
    "list(zip(cols_to_train,baseline.feature_importances_))"
   ]
  },
  {
   "cell_type": "markdown",
   "metadata": {},
   "source": [
    "The geocoordinates are the most important, followed by the `pickup_hour`. This seems to make sense."
   ]
  },
  {
   "cell_type": "markdown",
   "metadata": {},
   "source": [
    "### Distances"
   ]
  },
  {
   "cell_type": "markdown",
   "metadata": {},
   "source": [
    "Calculation of a simple distance (as the crow flies) between two points. Earth is an ellipse, so the [geodesic](https://de.wikipedia.org/wiki/Geod%C3%A4te) must be determined using [Geopy](https://geopy.readthedocs.io/en/stable/#)."
   ]
  },
  {
   "cell_type": "code",
   "execution_count": 18,
   "metadata": {},
   "outputs": [],
   "source": [
    "from geopy import distance"
   ]
  },
  {
   "cell_type": "code",
   "execution_count": 19,
   "metadata": {},
   "outputs": [],
   "source": [
    "df['distance'] = df.apply(lambda x: distance.distance((x['pickup_latitude'],x['pickup_longitude']),(x['dropoff_latitude'],x['dropoff_longitude'])).km, axis=1)"
   ]
  },
  {
   "cell_type": "code",
   "execution_count": 20,
   "metadata": {},
   "outputs": [
    {
     "data": {
      "text/plain": [
       "0     0.444817\n",
       "1    15.972880\n",
       "2     8.597141\n",
       "3     2.346118\n",
       "4     0.783958\n",
       "5     3.457005\n",
       "Name: distance, dtype: float64"
      ]
     },
     "execution_count": 20,
     "metadata": {},
     "output_type": "execute_result"
    }
   ],
   "source": [
    "df.loc[:5,'distance']"
   ]
  },
  {
   "cell_type": "code",
   "execution_count": 21,
   "metadata": {},
   "outputs": [],
   "source": [
    "cols_to_train = ['vendor_id', 'passenger_count', 'pickup_longitude','pickup_latitude',\n",
    "                 'dropoff_longitude','dropoff_latitude','store_and_fwd_flag', 'distance']"
   ]
  },
  {
   "cell_type": "code",
   "execution_count": 22,
   "metadata": {},
   "outputs": [
    {
     "name": "stdout",
     "output_type": "stream",
     "text": [
      "RMSE: Train-Score: 359.80 - Test Score: 368.35\n",
      "Baseline Test Delta: -72.60\n"
     ]
    }
   ],
   "source": [
    "X = df[cols_to_train].copy()\n",
    "y = df['trip_duration']\n",
    "\n",
    "# Train and score baseline model\n",
    "dist_rf = RandomForestRegressor(random_state=0, n_jobs=-1, max_features=MAX_FEATURES, max_depth=MAX_DEPTH)\n",
    "dist_scores = cross_validate(\n",
    "    dist_rf, X, y, cv=5, scoring=\"neg_root_mean_squared_error\", return_train_score=True\n",
    ")\n",
    "print(f\"RMSE: Train-Score: {-1*dist_scores['train_score'].mean():.2f} - Test Score: {-1*dist_scores['test_score'].mean():.2f}\")\n",
    "print(f\"Baseline Test Delta: {-1*dist_scores['test_score'].mean() + baseline_scores['test_score'].mean():.2f}\")"
   ]
  },
  {
   "cell_type": "markdown",
   "metadata": {},
   "source": [
    "By adding the distance, a huge improvement was achieved."
   ]
  },
  {
   "cell_type": "markdown",
   "metadata": {},
   "source": [
    "### Manhattan distance"
   ]
  },
  {
   "cell_type": "code",
   "execution_count": 23,
   "metadata": {},
   "outputs": [],
   "source": [
    "df['manhattan_distance'] = (df.apply(lambda x: distance.distance((x['pickup_latitude'],x['pickup_longitude']),(x['pickup_latitude'],x['dropoff_longitude'])).km +\n",
    "                                         distance.distance((x['pickup_latitude'],x['pickup_longitude']),(x['dropoff_latitude'],x['pickup_longitude'])).km, axis=1))"
   ]
  },
  {
   "cell_type": "code",
   "execution_count": 24,
   "metadata": {},
   "outputs": [],
   "source": [
    "cols_to_train = ['vendor_id', 'passenger_count', 'pickup_longitude','pickup_latitude',\n",
    "                 'dropoff_longitude','dropoff_latitude','store_and_fwd_flag', 'manhattan_distance']"
   ]
  },
  {
   "cell_type": "code",
   "execution_count": 25,
   "metadata": {},
   "outputs": [
    {
     "name": "stdout",
     "output_type": "stream",
     "text": [
      "RMSE: Train-Score: 363.57 - Test Score: 372.32\n",
      "Baseline Test Delta: -68.63\n"
     ]
    }
   ],
   "source": [
    "X = df[cols_to_train].copy()\n",
    "y = df['trip_duration']\n",
    "\n",
    "# Train and score baseline model\n",
    "mandist_rf = RandomForestRegressor(random_state=0, n_jobs=-1, max_features=MAX_FEATURES, max_depth=MAX_DEPTH)\n",
    "mandist_scores = cross_validate(\n",
    "    mandist_rf, X, y, cv=5, scoring=\"neg_root_mean_squared_error\", return_train_score=True\n",
    ")\n",
    "print(f\"RMSE: Train-Score: {-1*mandist_scores['train_score'].mean():.2f} - Test Score: {-1*mandist_scores['test_score'].mean():.2f}\")\n",
    "print(f\"Baseline Test Delta: {-1*mandist_scores['test_score'].mean() + baseline_scores['test_score'].mean():.2f}\")"
   ]
  },
  {
   "cell_type": "markdown",
   "metadata": {},
   "source": [
    "The improvement due to the Manhattan distance is comparatively less than due to the distance as the crow flies."
   ]
  },
  {
   "cell_type": "markdown",
   "metadata": {
    "tags": []
   },
   "source": [
    "### Holidays"
   ]
  },
  {
   "cell_type": "code",
   "execution_count": 26,
   "metadata": {},
   "outputs": [],
   "source": [
    "from pandas.tseries.holiday import USFederalHolidayCalendar as calendar"
   ]
  },
  {
   "cell_type": "code",
   "execution_count": 27,
   "metadata": {},
   "outputs": [],
   "source": [
    "cal = calendar()\n",
    "holidays = cal.holidays(start=df['pickup_datetime'].min(), end=df['pickup_datetime'].max(), return_name=False)"
   ]
  },
  {
   "cell_type": "code",
   "execution_count": 28,
   "metadata": {},
   "outputs": [],
   "source": [
    "df['holiday'] = df['pickup_datetime'].dt.date.isin(holidays.date)"
   ]
  },
  {
   "cell_type": "code",
   "execution_count": 29,
   "metadata": {},
   "outputs": [
    {
     "data": {
      "text/plain": [
       "holiday\n",
       "False    143605\n",
       "True       1967\n",
       "Name: count, dtype: int64"
      ]
     },
     "execution_count": 29,
     "metadata": {},
     "output_type": "execute_result"
    }
   ],
   "source": [
    "df['holiday'].value_counts()"
   ]
  },
  {
   "cell_type": "code",
   "execution_count": 30,
   "metadata": {},
   "outputs": [],
   "source": [
    "cols_to_train = ['vendor_id', 'passenger_count', 'pickup_longitude','pickup_latitude',\n",
    "                 'dropoff_longitude','dropoff_latitude','store_and_fwd_flag', 'holiday']"
   ]
  },
  {
   "cell_type": "code",
   "execution_count": 31,
   "metadata": {},
   "outputs": [
    {
     "name": "stdout",
     "output_type": "stream",
     "text": [
      "RMSE: Train-Score: 432.13 - Test Score: 439.91\n",
      "Baseline Test Delta: -1.04\n"
     ]
    }
   ],
   "source": [
    "from sklearn.model_selection import cross_val_score\n",
    "from sklearn.ensemble import RandomForestRegressor\n",
    "\n",
    "X = df[cols_to_train].copy()\n",
    "y = df['trip_duration']\n",
    "\n",
    "# Train and score baseline model\n",
    "holiday_rf = RandomForestRegressor(random_state=0, n_jobs=-1, max_features=MAX_FEATURES, max_depth=MAX_DEPTH)\n",
    "holiday_scores = cross_validate(\n",
    "    holiday_rf, X, y, cv=5, scoring=\"neg_root_mean_squared_error\", return_train_score=True\n",
    ")\n",
    "print(f\"RMSE: Train-Score: {-1*holiday_scores['train_score'].mean():.2f} - Test Score: {-1*holiday_scores['test_score'].mean():.2f}\")\n",
    "print(f\"Baseline Test Delta: {-1*holiday_scores['test_score'].mean() + baseline_scores['test_score'].mean():.2f}\")"
   ]
  },
  {
   "cell_type": "markdown",
   "metadata": {},
   "source": [
    "Only a small improvement could be achieved by adding the public holidays. However, the number of public holidays in the data set is also very low, so the effect on the error is also small."
   ]
  },
  {
   "cell_type": "markdown",
   "metadata": {},
   "source": [
    "### External data: Weather"
   ]
  },
  {
   "cell_type": "code",
   "execution_count": 32,
   "metadata": {},
   "outputs": [],
   "source": [
    "weather = pd.read_csv('./data/weather_data_nyc_centralpark_2016.csv', parse_dates=['date'], dayfirst=True)"
   ]
  },
  {
   "cell_type": "code",
   "execution_count": 33,
   "metadata": {},
   "outputs": [
    {
     "data": {
      "text/html": [
       "<div>\n",
       "<style scoped>\n",
       "    .dataframe tbody tr th:only-of-type {\n",
       "        vertical-align: middle;\n",
       "    }\n",
       "\n",
       "    .dataframe tbody tr th {\n",
       "        vertical-align: top;\n",
       "    }\n",
       "\n",
       "    .dataframe thead th {\n",
       "        text-align: right;\n",
       "    }\n",
       "</style>\n",
       "<table border=\"1\" class=\"dataframe\">\n",
       "  <thead>\n",
       "    <tr style=\"text-align: right;\">\n",
       "      <th></th>\n",
       "      <th>date</th>\n",
       "      <th>maximum temperature</th>\n",
       "      <th>minimum temperature</th>\n",
       "      <th>average temperature</th>\n",
       "      <th>precipitation</th>\n",
       "      <th>snow fall</th>\n",
       "      <th>snow depth</th>\n",
       "    </tr>\n",
       "  </thead>\n",
       "  <tbody>\n",
       "    <tr>\n",
       "      <th>0</th>\n",
       "      <td>2016-01-01</td>\n",
       "      <td>42</td>\n",
       "      <td>34</td>\n",
       "      <td>38.0</td>\n",
       "      <td>0.00</td>\n",
       "      <td>0.0</td>\n",
       "      <td>0</td>\n",
       "    </tr>\n",
       "    <tr>\n",
       "      <th>1</th>\n",
       "      <td>2016-01-02</td>\n",
       "      <td>40</td>\n",
       "      <td>32</td>\n",
       "      <td>36.0</td>\n",
       "      <td>0.00</td>\n",
       "      <td>0.0</td>\n",
       "      <td>0</td>\n",
       "    </tr>\n",
       "    <tr>\n",
       "      <th>2</th>\n",
       "      <td>2016-01-03</td>\n",
       "      <td>45</td>\n",
       "      <td>35</td>\n",
       "      <td>40.0</td>\n",
       "      <td>0.00</td>\n",
       "      <td>0.0</td>\n",
       "      <td>0</td>\n",
       "    </tr>\n",
       "    <tr>\n",
       "      <th>3</th>\n",
       "      <td>2016-01-04</td>\n",
       "      <td>36</td>\n",
       "      <td>14</td>\n",
       "      <td>25.0</td>\n",
       "      <td>0.00</td>\n",
       "      <td>0.0</td>\n",
       "      <td>0</td>\n",
       "    </tr>\n",
       "    <tr>\n",
       "      <th>4</th>\n",
       "      <td>2016-01-05</td>\n",
       "      <td>29</td>\n",
       "      <td>11</td>\n",
       "      <td>20.0</td>\n",
       "      <td>0.00</td>\n",
       "      <td>0.0</td>\n",
       "      <td>0</td>\n",
       "    </tr>\n",
       "  </tbody>\n",
       "</table>\n",
       "</div>"
      ],
      "text/plain": [
       "        date  maximum temperature  minimum temperature  average temperature  \\\n",
       "0 2016-01-01                   42                   34                 38.0   \n",
       "1 2016-01-02                   40                   32                 36.0   \n",
       "2 2016-01-03                   45                   35                 40.0   \n",
       "3 2016-01-04                   36                   14                 25.0   \n",
       "4 2016-01-05                   29                   11                 20.0   \n",
       "\n",
       "  precipitation snow fall snow depth  \n",
       "0          0.00       0.0          0  \n",
       "1          0.00       0.0          0  \n",
       "2          0.00       0.0          0  \n",
       "3          0.00       0.0          0  \n",
       "4          0.00       0.0          0  "
      ]
     },
     "execution_count": 33,
     "metadata": {},
     "output_type": "execute_result"
    }
   ],
   "source": [
    "weather.head()"
   ]
  },
  {
   "cell_type": "code",
   "execution_count": 34,
   "metadata": {},
   "outputs": [
    {
     "name": "stdout",
     "output_type": "stream",
     "text": [
      "<class 'pandas.core.frame.DataFrame'>\n",
      "RangeIndex: 366 entries, 0 to 365\n",
      "Data columns (total 7 columns):\n",
      " #   Column               Non-Null Count  Dtype         \n",
      "---  ------               --------------  -----         \n",
      " 0   date                 366 non-null    datetime64[ns]\n",
      " 1   maximum temperature  366 non-null    int64         \n",
      " 2   minimum temperature  366 non-null    int64         \n",
      " 3   average temperature  366 non-null    float64       \n",
      " 4   precipitation        366 non-null    object        \n",
      " 5   snow fall            366 non-null    object        \n",
      " 6   snow depth           366 non-null    object        \n",
      "dtypes: datetime64[ns](1), float64(1), int64(2), object(3)\n",
      "memory usage: 20.1+ KB\n"
     ]
    }
   ],
   "source": [
    "weather.info()"
   ]
  },
  {
   "cell_type": "markdown",
   "metadata": {},
   "source": [
    "For the sake of simplicity, we replace the T values with zero:"
   ]
  },
  {
   "cell_type": "code",
   "execution_count": 35,
   "metadata": {},
   "outputs": [],
   "source": [
    "weather.replace('T', 0.0, inplace=True)"
   ]
  },
  {
   "cell_type": "code",
   "execution_count": 36,
   "metadata": {},
   "outputs": [],
   "source": [
    "weather[['precipitation', 'snow fall', 'snow depth']] = weather[['precipitation', 'snow fall', 'snow depth']].astype('float')"
   ]
  },
  {
   "cell_type": "code",
   "execution_count": 37,
   "metadata": {},
   "outputs": [],
   "source": [
    "df['date'] = pd.to_datetime(df['pickup_datetime'].dt.date)"
   ]
  },
  {
   "cell_type": "markdown",
   "metadata": {},
   "source": [
    "Merge the data:"
   ]
  },
  {
   "cell_type": "code",
   "execution_count": 38,
   "metadata": {},
   "outputs": [],
   "source": [
    "df = pd.merge(df, weather, on='date').drop('date', axis=1)"
   ]
  },
  {
   "cell_type": "code",
   "execution_count": 39,
   "metadata": {},
   "outputs": [],
   "source": [
    "cols_to_train = ['vendor_id', 'passenger_count', 'pickup_longitude','pickup_latitude',\n",
    "                 'dropoff_longitude','dropoff_latitude','store_and_fwd_flag', 'maximum temperature', \n",
    "                 'minimum temperature', 'average temperature', 'precipitation', 'snow fall', 'snow depth']"
   ]
  },
  {
   "cell_type": "code",
   "execution_count": 40,
   "metadata": {},
   "outputs": [
    {
     "name": "stdout",
     "output_type": "stream",
     "text": [
      "RMSE: Train-Score: 435.28 - Test Score: 444.93\n",
      "Baseline Test Delta: 3.98\n"
     ]
    }
   ],
   "source": [
    "X = df[cols_to_train].copy()\n",
    "y = df['trip_duration']\n",
    "\n",
    "# Train and score baseline model\n",
    "weather_rf = RandomForestRegressor(random_state=0, n_jobs=-1, max_features=MAX_FEATURES, max_depth=MAX_DEPTH)\n",
    "weather_scores = cross_validate(\n",
    "    weather_rf, X, y, cv=5, scoring=\"neg_root_mean_squared_error\", return_train_score=True\n",
    ")\n",
    "print(f\"RMSE: Train-Score: {-1*weather_scores['train_score'].mean():.2f} - Test Score: {-1*weather_scores['test_score'].mean():.2f}\")\n",
    "print(f\"Baseline Test Delta: {-1*weather_scores['test_score'].mean() + baseline_scores['test_score'].mean():.2f}\")"
   ]
  },
  {
   "cell_type": "markdown",
   "metadata": {},
   "source": [
    "Unfortunately, the weather data did not bring about any improvement."
   ]
  },
  {
   "cell_type": "markdown",
   "metadata": {
    "tags": []
   },
   "source": [
    "### Geo Clustering"
   ]
  },
  {
   "cell_type": "code",
   "execution_count": 41,
   "metadata": {},
   "outputs": [],
   "source": [
    "coords = np.vstack((df[['pickup_latitude', 'pickup_longitude']].values,\n",
    "                    df[['dropoff_latitude', 'dropoff_longitude']].values))"
   ]
  },
  {
   "cell_type": "code",
   "execution_count": 42,
   "metadata": {},
   "outputs": [],
   "source": [
    "from sklearn.cluster import MiniBatchKMeans\n",
    "kmeans = MiniBatchKMeans(n_clusters=100, batch_size=500,random_state=42, n_init=3).fit(coords)"
   ]
  },
  {
   "cell_type": "code",
   "execution_count": 43,
   "metadata": {},
   "outputs": [],
   "source": [
    "df['pickup_cluster'] = kmeans.predict(df[['pickup_latitude', 'pickup_longitude']].values)\n",
    "df['dropoff_cluster'] = kmeans.predict(df[['dropoff_latitude', 'dropoff_longitude']].values)"
   ]
  },
  {
   "cell_type": "code",
   "execution_count": 44,
   "metadata": {},
   "outputs": [
    {
     "data": {
      "image/png": "[encoded data removed]",
      "text/plain": [
       "<Figure size 640x480 with 1 Axes>"
      ]
     },
     "metadata": {},
     "output_type": "display_data"
    }
   ],
   "source": [
    "city_long_border = (-74.03, -73.75)\n",
    "city_lat_border = (40.63, 40.85)\n",
    "\n",
    "fig, ax = plt.subplots(ncols=1, nrows=1)\n",
    "ax.scatter(df.pickup_longitude.values[:100000], df.pickup_latitude.values[:100000], s=10, lw=0,\n",
    "           c=df.pickup_cluster[:100000].values, cmap='tab20', alpha=0.2)\n",
    "ax.set_xlim(city_long_border)\n",
    "ax.set_ylim(city_lat_border)\n",
    "ax.set_xlabel('Longitude')\n",
    "ax.set_ylabel('Latitude')\n",
    "plt.show()"
   ]
  },
  {
   "cell_type": "markdown",
   "metadata": {},
   "source": [
    "The outline of Manhattan can be seen particularly clearly here. The two denser clusters outside are the two airports John F. Kennedy and LaGuardia."
   ]
  },
  {
   "cell_type": "code",
   "execution_count": 45,
   "metadata": {},
   "outputs": [],
   "source": [
    "cols_to_train = ['vendor_id', 'passenger_count', 'pickup_longitude','pickup_latitude',\n",
    "                 'dropoff_longitude','dropoff_latitude','store_and_fwd_flag', \n",
    "                 'pickup_cluster', 'dropoff_cluster']"
   ]
  },
  {
   "cell_type": "code",
   "execution_count": 46,
   "metadata": {},
   "outputs": [
    {
     "name": "stdout",
     "output_type": "stream",
     "text": [
      "RMSE: Train-Score: 434.66 - Test Score: 442.37\n",
      "Baseline Test Delta: 1.42\n"
     ]
    }
   ],
   "source": [
    "X = df[cols_to_train].copy()\n",
    "y = df['trip_duration']\n",
    "\n",
    "# Train and score baseline model\n",
    "geoclust_rf = RandomForestRegressor(random_state=0, n_jobs=-1, max_features=MAX_FEATURES, max_depth=MAX_DEPTH)\n",
    "geoclust_scores = cross_validate(\n",
    "    geoclust_rf, X, y, cv=5, scoring=\"neg_root_mean_squared_error\", return_train_score=True\n",
    ")\n",
    "print(f\"RMSE: Train-Score: {-1*geoclust_scores['train_score'].mean():.2f} - Test Score: {-1*geoclust_scores['test_score'].mean():.2f}\")\n",
    "print(f\"Baseline Test Delta: {-1*geoclust_scores['test_score'].mean() + baseline_scores['test_score'].mean():.2f}\")"
   ]
  },
  {
   "cell_type": "markdown",
   "metadata": {},
   "source": [
    "Unfortunately, the geo-clusters were also unable to bring about any improvement."
   ]
  },
  {
   "cell_type": "markdown",
   "metadata": {
    "tags": []
   },
   "source": [
    "## Combination of features"
   ]
  },
  {
   "cell_type": "markdown",
   "metadata": {},
   "source": [
    "Finally, we combine the features for a final evaluation."
   ]
  },
  {
   "cell_type": "markdown",
   "metadata": {},
   "source": [
    "### Only features with negative delta"
   ]
  },
  {
   "cell_type": "code",
   "execution_count": 47,
   "metadata": {},
   "outputs": [],
   "source": [
    "cols_to_train = ['vendor_id', 'passenger_count', 'pickup_longitude','pickup_latitude',\n",
    "                 'dropoff_longitude','dropoff_latitude','store_and_fwd_flag', \n",
    "                 'pickup_weekday', 'pickup_weekofyear', 'pickup_hour', 'pickup_minute', \n",
    "                 'distance','manhattan_distance','holiday']"
   ]
  },
  {
   "cell_type": "code",
   "execution_count": 48,
   "metadata": {},
   "outputs": [
    {
     "name": "stdout",
     "output_type": "stream",
     "text": [
      "RMSE: Train-Score: 325.24 - Test Score: 332.70\n",
      "Baseline Test Delta: -108.25\n"
     ]
    }
   ],
   "source": [
    "X = df[cols_to_train].copy()\n",
    "y = df['trip_duration']\n",
    "\n",
    "# Train and score baseline model\n",
    "all_rf = RandomForestRegressor(random_state=0, n_jobs=-1, max_features=MAX_FEATURES, max_depth=MAX_DEPTH)\n",
    "all_scores = cross_validate(\n",
    "    all_rf, X, y, cv=5, scoring=\"neg_root_mean_squared_error\", return_train_score=True\n",
    ")\n",
    "print(f\"RMSE: Train-Score: {-1*all_scores['train_score'].mean():.2f} - Test Score: {-1*all_scores['test_score'].mean():.2f}\")\n",
    "print(f\"Baseline Test Delta: {-1*all_scores['test_score'].mean() + baseline_scores['test_score'].mean():.2f}\")"
   ]
  },
  {
   "cell_type": "markdown",
   "metadata": {},
   "source": [
    "Feature engineering therefore enables us to achieve considerable performance gains compared to the raw data."
   ]
  },
  {
   "cell_type": "markdown",
   "metadata": {},
   "source": [
    "### All Features"
   ]
  },
  {
   "cell_type": "markdown",
   "metadata": {},
   "source": [
    "Out of interest, let's take a look at the model based on all the features:"
   ]
  },
  {
   "cell_type": "code",
   "execution_count": 49,
   "metadata": {},
   "outputs": [],
   "source": [
    "cols_to_train = ['vendor_id', 'passenger_count', 'pickup_longitude','pickup_latitude',\n",
    "                 'dropoff_longitude','dropoff_latitude','store_and_fwd_flag', \n",
    "                 'pickup_weekday', 'pickup_weekofyear', 'pickup_hour', 'pickup_minute', \n",
    "                 'distance','manhattan_distance','holiday',\n",
    "                 'maximum temperature', 'minimum temperature', 'average temperature', 'precipitation', \n",
    "                 'snow fall', 'snow depth',\n",
    "                 'pickup_cluster', 'dropoff_cluster']"
   ]
  },
  {
   "cell_type": "code",
   "execution_count": 50,
   "metadata": {},
   "outputs": [
    {
     "name": "stdout",
     "output_type": "stream",
     "text": [
      "RMSE: Train-Score: 324.45 - Test Score: 332.88\n",
      "Baseline Test Delta: -108.07\n"
     ]
    }
   ],
   "source": [
    "X = df[cols_to_train].copy()\n",
    "y = df['trip_duration']\n",
    "\n",
    "# Train and score baseline model\n",
    "all_rf = RandomForestRegressor(random_state=0, n_jobs=-1, max_features=MAX_FEATURES, max_depth=MAX_DEPTH)\n",
    "all_scores = cross_validate(\n",
    "    all_rf, X, y, cv=5, scoring=\"neg_root_mean_squared_error\", return_train_score=True\n",
    ")\n",
    "print(f\"RMSE: Train-Score: {-1*all_scores['train_score'].mean():.2f} - Test Score: {-1*all_scores['test_score'].mean():.2f}\")\n",
    "print(f\"Baseline Test Delta: {-1*all_scores['test_score'].mean() + baseline_scores['test_score'].mean():.2f}\")"
   ]
  },
  {
   "cell_type": "markdown",
   "metadata": {},
   "source": [
    "This could be interesting for more complex models, as the performance is hardly worse. However, only if more data is used to avoid overfitting."
   ]
  },
  {
   "cell_type": "markdown",
   "metadata": {},
   "source": [
    "> More good feature engineering ideas can be found in [this notebook](https://www.kaggle.com/gaborfodor/from-eda-to-the-top-lb-0-367) for the Kaggle competition."
   ]
  }
 ],
 "metadata": {
  "kernelspec": {
   "display_name": "Python 3 (ipykernel)",
   "language": "python",
   "name": "python3"
  },
  "language_info": {
   "codemirror_mode": {
    "name": "ipython",
    "version": 3
   },
   "file_extension": ".py",
   "mimetype": "text/x-python",
   "name": "python",
   "nbconvert_exporter": "python",
   "pygments_lexer": "ipython3",
   "version": "3.10.12"
  }
 },
 "nbformat": 4,
 "nbformat_minor": 4
}
